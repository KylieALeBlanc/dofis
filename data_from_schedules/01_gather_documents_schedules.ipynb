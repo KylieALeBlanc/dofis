{
 "cells": [
  {
   "cell_type": "code",
   "execution_count": 10,
   "metadata": {},
   "outputs": [],
   "source": [
    "from googlesearch import search\n",
    "import pandas as pd\n",
    "import os\n",
    "import requests\n",
    "import urllib.parse as parse\n",
    "from bs4 import BeautifulSoup\n",
    "from tika import parser\n",
    "from interruptingcow import timeout\n",
    "\n",
    "\n",
    "data_path = '/Users/kylieleblancKylie/domino/dofis/data/schedules'"
   ]
  },
  {
   "cell_type": "code",
   "execution_count": 2,
   "metadata": {},
   "outputs": [],
   "source": [
    "def remove_whitespace(df, text_col):\n",
    "    '''\n",
    "    Remove all \\n, \\t, \\r characters from raw text\n",
    "    '''\n",
    "    col = text_col\n",
    "    clean_text = df[col].map(lambda x: ' '.join(x.split()))\n",
    "    df = df.copy()\n",
    "    df[col] = clean_text\n",
    "    df[col] = df[col].str.replace('â\\x80\\x99s', ' ')\n",
    "    df[col] = df[col].str.replace('Ã¢ \\x80 ¢', ' ')\n",
    "    df[col] = df[col].str.replace('\\x80', ' ')\n",
    "    df[col] = df[col].str.replace('\\x99s', ' ')\n",
    "    df[col] = df[col].str.replace('Ã\\x82', ' ')\n",
    "    df[col] = df[col].str.replace('\\u200b', ' ')\n",
    "    df[col] = df[col].str.replace('Â', ' ')\n",
    "    df[col] = df[col].str.replace('¤', ' ')\n",
    "    df[col] = df[col].str.replace('â', ' ')\n",
    "    df[col] = df[col].str.replace('', ' ')\n",
    "    df[col] = df[col].str.replace('¢', ' ')\n",
    "    df[col] = df[col].str.replace('ï·', ' ')\n",
    "    df[col] = df[col].str.replace('â', ' ')\n",
    "    df[col] = df[col].str.replace('Ã', ' ')\n",
    "    df[col] = df[col].str.replace('Â', ' ')\n",
    "    df[col] = df[col].str.replace('¨', ' ')\n",
    "    df[col] = df[col].str.replace('¨', ' ')\n",
    "\n",
    "\n",
    "    return df"
   ]
  },
  {
   "cell_type": "markdown",
   "metadata": {},
   "source": [
    "## Gather results from Google search"
   ]
  },
  {
   "cell_type": "code",
   "execution_count": 3,
   "metadata": {},
   "outputs": [
    {
     "name": "stderr",
     "output_type": "stream",
     "text": [
      "/Users/kylieleblancKylie/anaconda/envs/spacy/lib/python3.7/site-packages/IPython/core/interactiveshell.py:2785: DtypeWarning: Columns (48) have mixed types. Specify dtype option on import or set low_memory=False.\n",
      "  interactivity=interactivity, compiler=compiler, result=result)\n"
     ]
    }
   ],
   "source": [
    "schools = pd.read_csv(os.path.join(os.getcwd(), '..', '..', 'data', 'tea', 'desc_c_yr1819.csv'))\n",
    "schools['full'] = schools[\"campname\"].str.replace(' JR H S', \"junior high school\") \n",
    "schools['full'] = schools[\"full\"].str.replace(' H S', \" high school\") \n",
    "schools['full'] = schools[\"full\"].str.replace(' EL', \" elementary school\") \n",
    "schools['full'] = schools[\"full\"].str.replace(' MIDDLE', \" middle school\") \n",
    "schools['full'] = schools[\"full\"].str.replace(' MIDDLE', \" middle school\") \n",
    "schools['full'] = schools[\"full\"].str.replace(' INT', \" intermediate school\") \n",
    "schools['full'] = schools[\"full\"].str.replace(' J H', \" junior high school\") \n",
    "schools['full'] = schools[\"full\"].str.replace(' PRI', \" primary school\") \n",
    "schools['full'] = schools[\"full\"].str.replace(' CTR', \" center\") \n",
    "schools['full'] = schools[\"full\"].str.replace(' SCHOOL', \" school\") \n",
    "schools['full'] = schools[\"full\"].str.replace(' SCH', \" school\") \n",
    "\n",
    "\n",
    "schools = schools[['campname', 'full']].sample(10, random_state = 3452)\n",
    "#schools = schools[['campname', 'full']]"
   ]
  },
  {
   "cell_type": "code",
   "execution_count": 4,
   "metadata": {
    "scrolled": false
   },
   "outputs": [
    {
     "name": "stdout",
     "output_type": "stream",
     "text": [
      "SHADYDALE elementary school bell schedule\n",
      "https://www.houstonisd.org/shadydale\n",
      "https://www.publicschoolreview.com/shadydale-elementary-school-profile\n",
      "https://www.har.com/school/101912479/shadydale-elementary-school\n",
      "SNOW HEIGHTS elementary school bell schedule\n",
      "https://www.birdvilleschools.net/SnowHeightsElementary\n",
      "https://www.birdvilleschools.net/Page/11109\n",
      "https://www.birdvilleschools.net/times\n",
      "GLEN ROSE junior high school bell schedule\n",
      "http://www.grisd.net/campuses/glen-rose-junior-high/grjh-students/grjh-bell-schedules/\n",
      "http://www.grisd.net/campuses/glen-rose-junior-high/\n",
      "http://www.grisd.net/\n",
      "JUAN SEGUIN elementary school bell schedule\n",
      "https://seguin-es.weatherfordisd.com/apps/bell_schedules/\n",
      "https://seguin-es.weatherfordisd.com/apps/bell_schedules/printerfriendly.jsp\n",
      "https://www.aisd.net/seguin-high-school/about/bell-schedule/\n",
      "HARMONY junior high school bell schedule\n",
      "https://www.lcps.org/domain/13059\n",
      "https://www.lcps.org/cms/lib/VA01000195/Centricity/Domain/2019/Harmony%20Bell%20Schedules.pdf\n",
      "https://hrhs.osceolaschools.net/UserFiles/Servers/Server_613068/File/2018-19%20Bell%20Schedule.pdf\n",
      "INDUSTRIAL elementary school EAST bell schedule\n",
      "https://www.industrialisd.org/Domain/10\n",
      "https://www.industrialisd.org/Page/1543\n",
      "https://greenbriareastes.fcps.edu/about/bell-schedule-school-hours\n",
      "LAMAR elementary school bell schedule\n",
      "https://lamaramaisd.sharpschool.com/resources/for_parents/bell_schedules\n",
      "http://lamar.conroeisd.net/\n",
      "http://lamar.conroeisd.net/department/faculty-staff/\n",
      "PEARSALL intermediate school bell schedule\n",
      "https://www.pearsallhs.org/apps/bell_schedules/printerfriendly.jsp\n",
      "https://www.pearsallhs.org/apps/bell_schedules/\n",
      "https://pearsalljh.org/apps/bell_schedules/printerfriendly.jsp\n",
      "RIVERSIDE middle school bell schedule\n",
      "https://rms.sbcisd.net/apps/bell_schedules/printerfriendly.jsp\n",
      "https://www.yisd.net/domain/3836\n",
      "https://www.greenville.k12.sc.us/rms/\n",
      "LEAKEY school bell schedule\n",
      "http://www.leakeyisd.net/District/1230-Bell-Schedule.html\n",
      "http://www.leakeyisd.org/?a=events&s=district&id=3212&t=abbrev-bell-schedule\n",
      "http://www.leakeyisd.org/District/Department/11-Human-Resources\n"
     ]
    },
    {
     "data": {
      "text/plain": [
       "['https://www.houstonisd.org/shadydale',\n",
       " 'https://www.birdvilleschools.net/SnowHeightsElementary',\n",
       " 'http://www.grisd.net/campuses/glen-rose-junior-high/grjh-students/grjh-bell-schedules/',\n",
       " 'https://seguin-es.weatherfordisd.com/apps/bell_schedules/',\n",
       " 'https://www.lcps.org/domain/13059',\n",
       " 'https://www.industrialisd.org/Domain/10',\n",
       " 'https://lamaramaisd.sharpschool.com/resources/for_parents/bell_schedules',\n",
       " 'https://www.pearsallhs.org/apps/bell_schedules/printerfriendly.jsp',\n",
       " 'https://rms.sbcisd.net/apps/bell_schedules/printerfriendly.jsp',\n",
       " 'http://www.leakeyisd.net/District/1230-Bell-Schedule.html']"
      ]
     },
     "execution_count": 4,
     "metadata": {},
     "output_type": "execute_result"
    }
   ],
   "source": [
    "link1 = []\n",
    "link2 = []\n",
    "link3 = []\n",
    "for campus in schools.full:\n",
    "    query = campus + \" bell schedule\"\n",
    "    print(query)\n",
    "    urls = []\n",
    "    for j in search(query, tld=\"co.in\", num=10, stop=3, pause=2): \n",
    "        urls.append(j)\n",
    "        print(j)\n",
    "    link1.append(urls[0])\n",
    "    link2.append(urls[1])\n",
    "    link3.append(urls[2])\n",
    "link1"
   ]
  },
  {
   "cell_type": "code",
   "execution_count": 5,
   "metadata": {},
   "outputs": [
    {
     "data": {
      "text/html": [
       "<div>\n",
       "<style scoped>\n",
       "    .dataframe tbody tr th:only-of-type {\n",
       "        vertical-align: middle;\n",
       "    }\n",
       "\n",
       "    .dataframe tbody tr th {\n",
       "        vertical-align: top;\n",
       "    }\n",
       "\n",
       "    .dataframe thead th {\n",
       "        text-align: right;\n",
       "    }\n",
       "</style>\n",
       "<table border=\"1\" class=\"dataframe\">\n",
       "  <thead>\n",
       "    <tr style=\"text-align: right;\">\n",
       "      <th></th>\n",
       "      <th>campname</th>\n",
       "      <th>full</th>\n",
       "      <th>link1</th>\n",
       "      <th>link2</th>\n",
       "      <th>link3</th>\n",
       "    </tr>\n",
       "  </thead>\n",
       "  <tbody>\n",
       "    <tr>\n",
       "      <th>4494</th>\n",
       "      <td>SHADYDALE EL</td>\n",
       "      <td>SHADYDALE elementary school</td>\n",
       "      <td>https://www.houstonisd.org/shadydale</td>\n",
       "      <td>https://www.publicschoolreview.com/shadydale-e...</td>\n",
       "      <td>https://www.har.com/school/101912479/shadydale...</td>\n",
       "    </tr>\n",
       "    <tr>\n",
       "      <th>7327</th>\n",
       "      <td>SNOW HEIGHTS EL</td>\n",
       "      <td>SNOW HEIGHTS elementary school</td>\n",
       "      <td>https://www.birdvilleschools.net/SnowHeightsEl...</td>\n",
       "      <td>https://www.birdvilleschools.net/Page/11109</td>\n",
       "      <td>https://www.birdvilleschools.net/times</td>\n",
       "    </tr>\n",
       "    <tr>\n",
       "      <th>7162</th>\n",
       "      <td>GLEN ROSE J H</td>\n",
       "      <td>GLEN ROSE junior high school</td>\n",
       "      <td>http://www.grisd.net/campuses/glen-rose-junior...</td>\n",
       "      <td>http://www.grisd.net/campuses/glen-rose-junior...</td>\n",
       "      <td>http://www.grisd.net/</td>\n",
       "    </tr>\n",
       "    <tr>\n",
       "      <th>5289</th>\n",
       "      <td>JUAN SEGUIN EL</td>\n",
       "      <td>JUAN SEGUIN elementary school</td>\n",
       "      <td>https://seguin-es.weatherfordisd.com/apps/bell...</td>\n",
       "      <td>https://seguin-es.weatherfordisd.com/apps/bell...</td>\n",
       "      <td>https://www.aisd.net/seguin-high-school/about/...</td>\n",
       "    </tr>\n",
       "    <tr>\n",
       "      <th>8183</th>\n",
       "      <td>HARMONY J H</td>\n",
       "      <td>HARMONY junior high school</td>\n",
       "      <td>https://www.lcps.org/domain/13059</td>\n",
       "      <td>https://www.lcps.org/cms/lib/VA01000195/Centri...</td>\n",
       "      <td>https://hrhs.osceolaschools.net/UserFiles/Serv...</td>\n",
       "    </tr>\n",
       "    <tr>\n",
       "      <th>5508</th>\n",
       "      <td>INDUSTRIAL EL EAST</td>\n",
       "      <td>INDUSTRIAL elementary school EAST</td>\n",
       "      <td>https://www.industrialisd.org/Domain/10</td>\n",
       "      <td>https://www.industrialisd.org/Page/1543</td>\n",
       "      <td>https://greenbriareastes.fcps.edu/about/bell-s...</td>\n",
       "    </tr>\n",
       "    <tr>\n",
       "      <th>499</th>\n",
       "      <td>LAMAR EL</td>\n",
       "      <td>LAMAR elementary school</td>\n",
       "      <td>https://lamaramaisd.sharpschool.com/resources/...</td>\n",
       "      <td>http://lamar.conroeisd.net/</td>\n",
       "      <td>http://lamar.conroeisd.net/department/faculty-...</td>\n",
       "    </tr>\n",
       "    <tr>\n",
       "      <th>3425</th>\n",
       "      <td>PEARSALL INT</td>\n",
       "      <td>PEARSALL intermediate school</td>\n",
       "      <td>https://www.pearsallhs.org/apps/bell_schedules...</td>\n",
       "      <td>https://www.pearsallhs.org/apps/bell_schedules/</td>\n",
       "      <td>https://pearsalljh.org/apps/bell_schedules/pri...</td>\n",
       "    </tr>\n",
       "    <tr>\n",
       "      <th>3057</th>\n",
       "      <td>RIVERSIDE MIDDLE</td>\n",
       "      <td>RIVERSIDE middle school</td>\n",
       "      <td>https://rms.sbcisd.net/apps/bell_schedules/pri...</td>\n",
       "      <td>https://www.yisd.net/domain/3836</td>\n",
       "      <td>https://www.greenville.k12.sc.us/rms/</td>\n",
       "    </tr>\n",
       "    <tr>\n",
       "      <th>6907</th>\n",
       "      <td>LEAKEY SCHOOL</td>\n",
       "      <td>LEAKEY school</td>\n",
       "      <td>http://www.leakeyisd.net/District/1230-Bell-Sc...</td>\n",
       "      <td>http://www.leakeyisd.org/?a=events&amp;s=district&amp;...</td>\n",
       "      <td>http://www.leakeyisd.org/District/Department/1...</td>\n",
       "    </tr>\n",
       "  </tbody>\n",
       "</table>\n",
       "</div>"
      ],
      "text/plain": [
       "                campname                               full  \\\n",
       "4494        SHADYDALE EL        SHADYDALE elementary school   \n",
       "7327     SNOW HEIGHTS EL     SNOW HEIGHTS elementary school   \n",
       "7162       GLEN ROSE J H       GLEN ROSE junior high school   \n",
       "5289      JUAN SEGUIN EL      JUAN SEGUIN elementary school   \n",
       "8183         HARMONY J H         HARMONY junior high school   \n",
       "5508  INDUSTRIAL EL EAST  INDUSTRIAL elementary school EAST   \n",
       "499             LAMAR EL            LAMAR elementary school   \n",
       "3425        PEARSALL INT       PEARSALL intermediate school   \n",
       "3057    RIVERSIDE MIDDLE            RIVERSIDE middle school   \n",
       "6907       LEAKEY SCHOOL                      LEAKEY school   \n",
       "\n",
       "                                                  link1  \\\n",
       "4494               https://www.houstonisd.org/shadydale   \n",
       "7327  https://www.birdvilleschools.net/SnowHeightsEl...   \n",
       "7162  http://www.grisd.net/campuses/glen-rose-junior...   \n",
       "5289  https://seguin-es.weatherfordisd.com/apps/bell...   \n",
       "8183                  https://www.lcps.org/domain/13059   \n",
       "5508            https://www.industrialisd.org/Domain/10   \n",
       "499   https://lamaramaisd.sharpschool.com/resources/...   \n",
       "3425  https://www.pearsallhs.org/apps/bell_schedules...   \n",
       "3057  https://rms.sbcisd.net/apps/bell_schedules/pri...   \n",
       "6907  http://www.leakeyisd.net/District/1230-Bell-Sc...   \n",
       "\n",
       "                                                  link2  \\\n",
       "4494  https://www.publicschoolreview.com/shadydale-e...   \n",
       "7327        https://www.birdvilleschools.net/Page/11109   \n",
       "7162  http://www.grisd.net/campuses/glen-rose-junior...   \n",
       "5289  https://seguin-es.weatherfordisd.com/apps/bell...   \n",
       "8183  https://www.lcps.org/cms/lib/VA01000195/Centri...   \n",
       "5508            https://www.industrialisd.org/Page/1543   \n",
       "499                         http://lamar.conroeisd.net/   \n",
       "3425    https://www.pearsallhs.org/apps/bell_schedules/   \n",
       "3057                   https://www.yisd.net/domain/3836   \n",
       "6907  http://www.leakeyisd.org/?a=events&s=district&...   \n",
       "\n",
       "                                                  link3  \n",
       "4494  https://www.har.com/school/101912479/shadydale...  \n",
       "7327             https://www.birdvilleschools.net/times  \n",
       "7162                              http://www.grisd.net/  \n",
       "5289  https://www.aisd.net/seguin-high-school/about/...  \n",
       "8183  https://hrhs.osceolaschools.net/UserFiles/Serv...  \n",
       "5508  https://greenbriareastes.fcps.edu/about/bell-s...  \n",
       "499   http://lamar.conroeisd.net/department/faculty-...  \n",
       "3425  https://pearsalljh.org/apps/bell_schedules/pri...  \n",
       "3057              https://www.greenville.k12.sc.us/rms/  \n",
       "6907  http://www.leakeyisd.org/District/Department/1...  "
      ]
     },
     "execution_count": 5,
     "metadata": {},
     "output_type": "execute_result"
    }
   ],
   "source": [
    "schools['link1'] = link1\n",
    "schools['link2'] = link2\n",
    "schools['link3'] = link3\n",
    "schools"
   ]
  },
  {
   "cell_type": "markdown",
   "metadata": {},
   "source": [
    "# Extract Text"
   ]
  },
  {
   "cell_type": "code",
   "execution_count": 6,
   "metadata": {
    "scrolled": false
   },
   "outputs": [
    {
     "data": {
      "text/plain": [
       "4494    Shadydale Elementary School / Ram Review Skip ...\n",
       "7327    Snow Heights Elementary / Overview Skip to Mai...\n",
       "7162    GRJH Bell Schedules – Glen Rose ISD Skip to co...\n",
       "5289    Juan Seguin Elementary School Juan Seguin Elem...\n",
       "8183    Bell Schedules / Bell Schedules Skip to Main C...\n",
       "Name: text1, dtype: object"
      ]
     },
     "execution_count": 6,
     "metadata": {},
     "output_type": "execute_result"
    }
   ],
   "source": [
    "texts = []\n",
    "for link in link1:\n",
    "    with timeout(15, exception=RuntimeError):\n",
    "        try:\n",
    "            resp = requests.get(link)\n",
    "            parsed = parser.from_buffer(resp.content)\n",
    "            text = parsed['content']\n",
    "            texts.append(text)\n",
    "        except:\n",
    "            texts.append('timeout')\n",
    "texts\n",
    "schools['text1'] = texts\n",
    "schools = remove_whitespace(schools, 'text1')\n",
    "schools.text1.head()"
   ]
  },
  {
   "cell_type": "code",
   "execution_count": 7,
   "metadata": {},
   "outputs": [
    {
     "data": {
      "text/plain": [
       "4494    Shadydale Elementary School Profile (2019-20) ...\n",
       "7327    Snow Heights Elementary / Calendar Skip to Mai...\n",
       "7162    Glen Rose Junior High – Glen Rose ISD Skip to ...\n",
       "5289    Juan Seguin Elementary School — Bell Schedules...\n",
       "8183    8:15 AM - Main Entrance unlocked for Students ...\n",
       "Name: text2, dtype: object"
      ]
     },
     "execution_count": 7,
     "metadata": {},
     "output_type": "execute_result"
    }
   ],
   "source": [
    "texts = []\n",
    "for link in link2:\n",
    "    with timeout(15, exception=RuntimeError):\n",
    "        try:\n",
    "            resp = requests.get(link)\n",
    "            parsed = parser.from_buffer(resp.content)\n",
    "            text = parsed['content']\n",
    "            texts.append(text)\n",
    "        except:\n",
    "            texts.append('timeout')\n",
    "texts\n",
    "schools['text2'] = texts\n",
    "schools = remove_whitespace(schools, 'text2')\n",
    "schools.text2.head()"
   ]
  },
  {
   "cell_type": "code",
   "execution_count": 8,
   "metadata": {},
   "outputs": [
    {
     "data": {
      "text/plain": [
       "4494    Shadydale Elementary School Houston, TX - HAR....\n",
       "7327    About Birdville ISD / School Times Skip to Mai...\n",
       "7162    Glen Rose ISD – Home of the Tigers Skip to con...\n",
       "5289    Sucuri WebSite Firewall - Access Denied Websit...\n",
       "8183    1st Bell 7:00 1st Period 7:05 - 7:54 *1 min. e...\n",
       "Name: text3, dtype: object"
      ]
     },
     "execution_count": 8,
     "metadata": {},
     "output_type": "execute_result"
    }
   ],
   "source": [
    "texts = []\n",
    "for link in link3:\n",
    "    with timeout(15, exception=RuntimeError):\n",
    "        try:\n",
    "            resp = requests.get(link)\n",
    "            parsed = parser.from_buffer(resp.content)\n",
    "            text = parsed['content']\n",
    "            texts.append(text)\n",
    "        except:\n",
    "            texts.append('timeout')\n",
    "texts\n",
    "schools['text3'] = texts\n",
    "schools = remove_whitespace(schools, 'text3')\n",
    "schools.text3.head()"
   ]
  },
  {
   "cell_type": "markdown",
   "metadata": {},
   "source": [
    "## Save"
   ]
  },
  {
   "cell_type": "code",
   "execution_count": 11,
   "metadata": {},
   "outputs": [],
   "source": [
    "schools.to_csv(os.path.join(data_path, 'schedule_link_text.csv'))"
   ]
  },
  {
   "cell_type": "code",
   "execution_count": 12,
   "metadata": {},
   "outputs": [
    {
     "data": {
      "text/html": [
       "<div>\n",
       "<style scoped>\n",
       "    .dataframe tbody tr th:only-of-type {\n",
       "        vertical-align: middle;\n",
       "    }\n",
       "\n",
       "    .dataframe tbody tr th {\n",
       "        vertical-align: top;\n",
       "    }\n",
       "\n",
       "    .dataframe thead th {\n",
       "        text-align: right;\n",
       "    }\n",
       "</style>\n",
       "<table border=\"1\" class=\"dataframe\">\n",
       "  <thead>\n",
       "    <tr style=\"text-align: right;\">\n",
       "      <th></th>\n",
       "      <th>Unnamed: 0</th>\n",
       "      <th>campname</th>\n",
       "      <th>full</th>\n",
       "      <th>link1</th>\n",
       "      <th>link2</th>\n",
       "      <th>link3</th>\n",
       "      <th>text1</th>\n",
       "      <th>text2</th>\n",
       "      <th>text3</th>\n",
       "    </tr>\n",
       "  </thead>\n",
       "  <tbody>\n",
       "    <tr>\n",
       "      <th>0</th>\n",
       "      <td>4494</td>\n",
       "      <td>SHADYDALE EL</td>\n",
       "      <td>SHADYDALE elementary school</td>\n",
       "      <td>https://www.houstonisd.org/shadydale</td>\n",
       "      <td>https://www.publicschoolreview.com/shadydale-e...</td>\n",
       "      <td>https://www.har.com/school/101912479/shadydale...</td>\n",
       "      <td>Shadydale Elementary School / Ram Review Skip ...</td>\n",
       "      <td>Shadydale Elementary School Profile (2019-20) ...</td>\n",
       "      <td>Shadydale Elementary School Houston, TX - HAR....</td>\n",
       "    </tr>\n",
       "    <tr>\n",
       "      <th>1</th>\n",
       "      <td>7327</td>\n",
       "      <td>SNOW HEIGHTS EL</td>\n",
       "      <td>SNOW HEIGHTS elementary school</td>\n",
       "      <td>https://www.birdvilleschools.net/SnowHeightsEl...</td>\n",
       "      <td>https://www.birdvilleschools.net/Page/11109</td>\n",
       "      <td>https://www.birdvilleschools.net/times</td>\n",
       "      <td>Snow Heights Elementary / Overview Skip to Mai...</td>\n",
       "      <td>Snow Heights Elementary / Calendar Skip to Mai...</td>\n",
       "      <td>About Birdville ISD / School Times Skip to Mai...</td>\n",
       "    </tr>\n",
       "    <tr>\n",
       "      <th>2</th>\n",
       "      <td>7162</td>\n",
       "      <td>GLEN ROSE J H</td>\n",
       "      <td>GLEN ROSE junior high school</td>\n",
       "      <td>http://www.grisd.net/campuses/glen-rose-junior...</td>\n",
       "      <td>http://www.grisd.net/campuses/glen-rose-junior...</td>\n",
       "      <td>http://www.grisd.net/</td>\n",
       "      <td>GRJH Bell Schedules – Glen Rose ISD Skip to co...</td>\n",
       "      <td>Glen Rose Junior High – Glen Rose ISD Skip to ...</td>\n",
       "      <td>Glen Rose ISD – Home of the Tigers Skip to con...</td>\n",
       "    </tr>\n",
       "    <tr>\n",
       "      <th>3</th>\n",
       "      <td>5289</td>\n",
       "      <td>JUAN SEGUIN EL</td>\n",
       "      <td>JUAN SEGUIN elementary school</td>\n",
       "      <td>https://seguin-es.weatherfordisd.com/apps/bell...</td>\n",
       "      <td>https://seguin-es.weatherfordisd.com/apps/bell...</td>\n",
       "      <td>https://www.aisd.net/seguin-high-school/about/...</td>\n",
       "      <td>Juan Seguin Elementary School Juan Seguin Elem...</td>\n",
       "      <td>Juan Seguin Elementary School — Bell Schedules...</td>\n",
       "      <td>Sucuri WebSite Firewall - Access Denied Websit...</td>\n",
       "    </tr>\n",
       "    <tr>\n",
       "      <th>4</th>\n",
       "      <td>8183</td>\n",
       "      <td>HARMONY J H</td>\n",
       "      <td>HARMONY junior high school</td>\n",
       "      <td>https://www.lcps.org/domain/13059</td>\n",
       "      <td>https://www.lcps.org/cms/lib/VA01000195/Centri...</td>\n",
       "      <td>https://hrhs.osceolaschools.net/UserFiles/Serv...</td>\n",
       "      <td>Bell Schedules / Bell Schedules Skip to Main C...</td>\n",
       "      <td>8:15 AM - Main Entrance unlocked for Students ...</td>\n",
       "      <td>1st Bell 7:00 1st Period 7:05 - 7:54 *1 min. e...</td>\n",
       "    </tr>\n",
       "  </tbody>\n",
       "</table>\n",
       "</div>"
      ],
      "text/plain": [
       "   Unnamed: 0         campname                            full  \\\n",
       "0        4494     SHADYDALE EL     SHADYDALE elementary school   \n",
       "1        7327  SNOW HEIGHTS EL  SNOW HEIGHTS elementary school   \n",
       "2        7162    GLEN ROSE J H    GLEN ROSE junior high school   \n",
       "3        5289   JUAN SEGUIN EL   JUAN SEGUIN elementary school   \n",
       "4        8183      HARMONY J H      HARMONY junior high school   \n",
       "\n",
       "                                               link1  \\\n",
       "0               https://www.houstonisd.org/shadydale   \n",
       "1  https://www.birdvilleschools.net/SnowHeightsEl...   \n",
       "2  http://www.grisd.net/campuses/glen-rose-junior...   \n",
       "3  https://seguin-es.weatherfordisd.com/apps/bell...   \n",
       "4                  https://www.lcps.org/domain/13059   \n",
       "\n",
       "                                               link2  \\\n",
       "0  https://www.publicschoolreview.com/shadydale-e...   \n",
       "1        https://www.birdvilleschools.net/Page/11109   \n",
       "2  http://www.grisd.net/campuses/glen-rose-junior...   \n",
       "3  https://seguin-es.weatherfordisd.com/apps/bell...   \n",
       "4  https://www.lcps.org/cms/lib/VA01000195/Centri...   \n",
       "\n",
       "                                               link3  \\\n",
       "0  https://www.har.com/school/101912479/shadydale...   \n",
       "1             https://www.birdvilleschools.net/times   \n",
       "2                              http://www.grisd.net/   \n",
       "3  https://www.aisd.net/seguin-high-school/about/...   \n",
       "4  https://hrhs.osceolaschools.net/UserFiles/Serv...   \n",
       "\n",
       "                                               text1  \\\n",
       "0  Shadydale Elementary School / Ram Review Skip ...   \n",
       "1  Snow Heights Elementary / Overview Skip to Mai...   \n",
       "2  GRJH Bell Schedules – Glen Rose ISD Skip to co...   \n",
       "3  Juan Seguin Elementary School Juan Seguin Elem...   \n",
       "4  Bell Schedules / Bell Schedules Skip to Main C...   \n",
       "\n",
       "                                               text2  \\\n",
       "0  Shadydale Elementary School Profile (2019-20) ...   \n",
       "1  Snow Heights Elementary / Calendar Skip to Mai...   \n",
       "2  Glen Rose Junior High – Glen Rose ISD Skip to ...   \n",
       "3  Juan Seguin Elementary School — Bell Schedules...   \n",
       "4  8:15 AM - Main Entrance unlocked for Students ...   \n",
       "\n",
       "                                               text3  \n",
       "0  Shadydale Elementary School Houston, TX - HAR....  \n",
       "1  About Birdville ISD / School Times Skip to Mai...  \n",
       "2  Glen Rose ISD – Home of the Tigers Skip to con...  \n",
       "3  Sucuri WebSite Firewall - Access Denied Websit...  \n",
       "4  1st Bell 7:00 1st Period 7:05 - 7:54 *1 min. e...  "
      ]
     },
     "execution_count": 12,
     "metadata": {},
     "output_type": "execute_result"
    }
   ],
   "source": [
    "links = pd.read_csv(os.path.join(data_path, 'schedule_link_text.csv'))\n",
    "links.head()"
   ]
  },
  {
   "cell_type": "code",
   "execution_count": 14,
   "metadata": {},
   "outputs": [
    {
     "data": {
      "text/plain": [
       "10"
      ]
     },
     "execution_count": 14,
     "metadata": {},
     "output_type": "execute_result"
    }
   ],
   "source": [
    "links.campname.nunique()"
   ]
  },
  {
   "cell_type": "code",
   "execution_count": 17,
   "metadata": {},
   "outputs": [
    {
     "name": "stdout",
     "output_type": "stream",
     "text": [
      "https://lamaramaisd.sharpschool.com/resources/for_parents/bell_schedules\n"
     ]
    }
   ],
   "source": [
    "for link in links[(links.campname == \"LAMAR EL\")].link1:\n",
    "    print(link)"
   ]
  },
  {
   "cell_type": "code",
   "execution_count": 18,
   "metadata": {},
   "outputs": [
    {
     "data": {
      "text/plain": [
       "10"
      ]
     },
     "execution_count": 18,
     "metadata": {},
     "output_type": "execute_result"
    }
   ],
   "source": [
    "len(links)"
   ]
  },
  {
   "cell_type": "code",
   "execution_count": null,
   "metadata": {},
   "outputs": [],
   "source": []
  }
 ],
 "metadata": {
  "kernelspec": {
   "display_name": "Python 3",
   "language": "python",
   "name": "python3"
  },
  "language_info": {
   "codemirror_mode": {
    "name": "ipython",
    "version": 3
   },
   "file_extension": ".py",
   "mimetype": "text/x-python",
   "name": "python",
   "nbconvert_exporter": "python",
   "pygments_lexer": "ipython3",
   "version": "3.7.4"
  }
 },
 "nbformat": 4,
 "nbformat_minor": 2
}
