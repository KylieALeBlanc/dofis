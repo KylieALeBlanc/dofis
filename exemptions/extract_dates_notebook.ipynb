{
 "cells": [
  {
   "cell_type": "code",
   "execution_count": 128,
   "metadata": {},
   "outputs": [],
   "source": [
    "import os\n",
    "import pandas as pd\n",
    "import spacy\n",
    "from spacy import displacy\n",
    "from spacy.matcher import Matcher\n",
    "import en_core_web_sm\n",
    "nlp = en_core_web_sm.load()\n",
    "import re\n",
    "from functools import reduce\n",
    "import extract_dates\n"
   ]
  },
  {
   "cell_type": "code",
   "execution_count": 57,
   "metadata": {},
   "outputs": [
    {
     "data": {
      "text/plain": [
       "Index([' Lake Travis ISD', 'Zephyr ISD', 'Zavalla ISD', 'Zapata County ISD',\n",
       "       'Yorktown ISD', 'Yoakum ISD', 'Wylie ISD (221912)',\n",
       "       'Wylie ISD (043914)', 'Wortham ISD', 'Woodville ISD',\n",
       "       ...\n",
       "       'Alice ISD', 'Aldine ISD', 'Albany ISD', 'Alamo Heights ISD',\n",
       "       'Agua Dulce ISD', 'Adrian ISD', 'Academy ISD', 'Abilene ISD',\n",
       "       'Abernathy ISD', 'Abbott ISD'],\n",
       "      dtype='object', name='title', length=781)"
      ]
     },
     "execution_count": 57,
     "metadata": {},
     "output_type": "execute_result"
    }
   ],
   "source": [
    "docs = pd.read_csv(os.path.join(os.getcwd(), '..', '..', 'data', 'text_narrowed.csv'))\n",
    "#new_title = [title.lstrip(' ') for title in docs.title]\n",
    "#docs['title'] = new_title\n",
    "#docs['title'].replace(['\\xa0Lake Travis ISD'], 'Lake Travis ISD')\n",
    "docs = docs.set_index('title')\n",
    "#docs.index"
   ]
  },
  {
   "cell_type": "code",
   "execution_count": 45,
   "metadata": {},
   "outputs": [
    {
     "data": {
      "text/html": [
       "<div>\n",
       "<style scoped>\n",
       "    .dataframe tbody tr th:only-of-type {\n",
       "        vertical-align: middle;\n",
       "    }\n",
       "\n",
       "    .dataframe tbody tr th {\n",
       "        vertical-align: top;\n",
       "    }\n",
       "\n",
       "    .dataframe thead th {\n",
       "        text-align: right;\n",
       "    }\n",
       "</style>\n",
       "<table border=\"1\" class=\"dataframe\">\n",
       "  <thead>\n",
       "    <tr style=\"text-align: right;\">\n",
       "      <th></th>\n",
       "      <th>Unnamed: 0</th>\n",
       "      <th>Unnamed: 0.1</th>\n",
       "      <th>Unnamed: 0.1.1</th>\n",
       "      <th>level</th>\n",
       "      <th>type</th>\n",
       "      <th>link</th>\n",
       "      <th>text</th>\n",
       "      <th>p_innovation</th>\n",
       "    </tr>\n",
       "    <tr>\n",
       "      <th>title</th>\n",
       "      <th></th>\n",
       "      <th></th>\n",
       "      <th></th>\n",
       "      <th></th>\n",
       "      <th></th>\n",
       "      <th></th>\n",
       "      <th></th>\n",
       "      <th></th>\n",
       "    </tr>\n",
       "  </thead>\n",
       "  <tbody>\n",
       "    <tr>\n",
       "      <th>Lake Travis ISD</th>\n",
       "      <td>672</td>\n",
       "      <td>672</td>\n",
       "      <td>672</td>\n",
       "      <td>Second</td>\n",
       "      <td>pdf</td>\n",
       "      <td>https://www.ltisdschools.org//cms/lib/Tx018000...</td>\n",
       "      <td>Effective Dec. 13, 2016 – Dec. 13, 2021 2 What...</td>\n",
       "      <td>0.999955</td>\n",
       "    </tr>\n",
       "    <tr>\n",
       "      <th>Zephyr ISD</th>\n",
       "      <td>1243</td>\n",
       "      <td>1243</td>\n",
       "      <td>1243</td>\n",
       "      <td>Second</td>\n",
       "      <td>docx</td>\n",
       "      <td>http://zephyrisd.net/wp-content/uploads/2014/0...</td>\n",
       "      <td>Zephyr ISD District of Innovation Plan Introdu...</td>\n",
       "      <td>0.999922</td>\n",
       "    </tr>\n",
       "  </tbody>\n",
       "</table>\n",
       "</div>"
      ],
      "text/plain": [
       "                  Unnamed: 0  Unnamed: 0.1  Unnamed: 0.1.1   level  type  \\\n",
       "title                                                                      \n",
       " Lake Travis ISD         672           672             672  Second   pdf   \n",
       "Zephyr ISD              1243          1243            1243  Second  docx   \n",
       "\n",
       "                                                               link  \\\n",
       "title                                                                 \n",
       " Lake Travis ISD  https://www.ltisdschools.org//cms/lib/Tx018000...   \n",
       "Zephyr ISD        http://zephyrisd.net/wp-content/uploads/2014/0...   \n",
       "\n",
       "                                                               text  \\\n",
       "title                                                                 \n",
       " Lake Travis ISD  Effective Dec. 13, 2016 – Dec. 13, 2021 2 What...   \n",
       "Zephyr ISD        Zephyr ISD District of Innovation Plan Introdu...   \n",
       "\n",
       "                  p_innovation  \n",
       "title                           \n",
       " Lake Travis ISD      0.999955  \n",
       "Zephyr ISD            0.999922  "
      ]
     },
     "execution_count": 45,
     "metadata": {},
     "output_type": "execute_result"
    }
   ],
   "source": [
    "docs_test = docs.head(2)\n",
    "docs_test"
   ]
  },
  {
   "cell_type": "code",
   "execution_count": 67,
   "metadata": {
    "collapsed": true
   },
   "outputs": [],
   "source": [
    "def get_dates(df, column, index):\n",
    "    \"\"\"\n",
    "    Given an index for the DataFrame, extract the identified dates from the text\n",
    "    \"\"\"\n",
    "    df = df\n",
    "    dates = []\n",
    "    for ent in nlp(df[column][index]).ents:\n",
    "        if ent.label_ == 'DATE':\n",
    "            dates.append(ent.text)\n",
    "            print(ent)\n",
    "    years = list(map(lambda x: re.findall('\\d\\d\\d\\d', x), dates))\n",
    "    if years:\n",
    "        return reduce(lambda x,y: x + y, years)\n",
    "    else:\n",
    "        return []"
   ]
  },
  {
   "cell_type": "code",
   "execution_count": 47,
   "metadata": {},
   "outputs": [
    {
     "data": {
      "text/plain": [
       "Index([' Lake Travis ISD', 'Zephyr ISD'], dtype='object', name='title')"
      ]
     },
     "execution_count": 47,
     "metadata": {},
     "output_type": "execute_result"
    }
   ],
   "source": [
    "docs_test.index\n",
    "docs_test.loc[['Zephyr ISD']]\n"
   ]
  },
  {
   "cell_type": "code",
   "execution_count": 68,
   "metadata": {},
   "outputs": [
    {
     "name": "stdout",
     "output_type": "stream",
     "text": [
      "1842\n",
      "Spring 2015\n",
      "February 19th, 2018\n",
      "February 19th, 2018\n",
      "March 1st\n",
      "March 9th, 2018\n",
      "March 20th, 2018\n",
      "April 16th, 2018\n",
      "September 2018\n",
      "five years\n",
      "June 2023\n",
      "30 days\n",
      "February 19th, 2018\n",
      "February 20th, 2018 District\n",
      "2018\n",
      "30 days April 16th, 2018\n",
      "April 17th, 2018\n",
      "April\n",
      "Monday\n",
      "August\n",
      "year-round\n",
      "the days\n",
      "annual\n",
      "the number of days\n",
      "an additional week\n",
      "December\n",
      "summer\n",
      "summer\n",
      "annual\n",
      "each school year\n",
      "one-year\n",
      "school days\n",
      "one school year\n",
      "each school year\n",
      "one-year\n",
      "one-year\n",
      "the one year\n",
      "one year\n",
      "the eight years\n",
      "two-year\n",
      "the first year\n",
      "the 2nd school year\n"
     ]
    }
   ],
   "source": [
    "dates_test = get_dates(docs_test, 'text', index = 'Zephyr ISD')"
   ]
  },
  {
   "cell_type": "code",
   "execution_count": 63,
   "metadata": {},
   "outputs": [
    {
     "data": {
      "text/plain": [
       "['1842',\n",
       " '2015',\n",
       " '2018',\n",
       " '2018',\n",
       " '2018',\n",
       " '2018',\n",
       " '2018',\n",
       " '2018',\n",
       " '2023',\n",
       " '2018',\n",
       " '2018',\n",
       " '2018',\n",
       " '2018',\n",
       " '2018']"
      ]
     },
     "execution_count": 63,
     "metadata": {},
     "output_type": "execute_result"
    }
   ],
   "source": [
    "dates_test"
   ]
  },
  {
   "cell_type": "code",
   "execution_count": 66,
   "metadata": {},
   "outputs": [
    {
     "data": {
      "text/plain": [
       "'Z'"
      ]
     },
     "execution_count": 66,
     "metadata": {},
     "output_type": "execute_result"
    }
   ],
   "source": []
  },
  {
   "cell_type": "code",
   "execution_count": 125,
   "metadata": {},
   "outputs": [],
   "source": [
    "doc = nlp(docs_test['text']['Zephyr ISD'])\n",
    "dates_phrases = []\n",
    "for token in doc:\n",
    "    #print(token.text)\n",
    "    date = re.findall('\\d\\d\\d\\d', token.text)\n",
    "    if date:\n",
    "        i = token.i\n",
    "        start = i - 8\n",
    "        end = i + 6\n",
    "        phrase = doc[start:end]\n",
    "        dates_phrases.append((token.text, phrase))"
   ]
  },
  {
   "cell_type": "code",
   "execution_count": 130,
   "metadata": {},
   "outputs": [
    {
     "data": {
      "text/plain": [
       "Zephyr ISD District of Innovation Plan Introduction HB 1842 was passed during the 84th"
      ]
     },
     "execution_count": 130,
     "metadata": {},
     "output_type": "execute_result"
    }
   ],
   "source": [
    "dates_phrases[0][1]"
   ]
  },
  {
   "cell_type": "code",
   "execution_count": null,
   "metadata": {
    "collapsed": true
   },
   "outputs": [],
   "source": []
  }
 ],
 "metadata": {
  "kernelspec": {
   "display_name": "Python [conda env:spacy]",
   "language": "python",
   "name": "conda-env-spacy-py"
  },
  "language_info": {
   "codemirror_mode": {
    "name": "ipython",
    "version": 3
   },
   "file_extension": ".py",
   "mimetype": "text/x-python",
   "name": "python",
   "nbconvert_exporter": "python",
   "pygments_lexer": "ipython3",
   "version": "3.7.0"
  }
 },
 "nbformat": 4,
 "nbformat_minor": 2
}
