{
 "cells": [
  {
   "cell_type": "code",
   "execution_count": 128,
   "metadata": {
    "collapsed": true
   },
   "outputs": [],
   "source": [
    "import os\n",
    "import pandas as pd\n",
    "import spacy\n",
    "from spacy import displacy\n",
    "from spacy.matcher import Matcher\n",
    "import en_core_web_sm\n",
    "nlp = en_core_web_sm.load()\n",
    "import re\n",
    "from functools import reduce\n",
    "import extract_dates"
   ]
  },
  {
   "cell_type": "code",
   "execution_count": 57,
   "metadata": {},
   "outputs": [
    {
     "data": {
      "text/plain": [
       "Index([' Lake Travis ISD', 'Zephyr ISD', 'Zavalla ISD', 'Zapata County ISD',\n",
       "       'Yorktown ISD', 'Yoakum ISD', 'Wylie ISD (221912)',\n",
       "       'Wylie ISD (043914)', 'Wortham ISD', 'Woodville ISD',\n",
       "       ...\n",
       "       'Alice ISD', 'Aldine ISD', 'Albany ISD', 'Alamo Heights ISD',\n",
       "       'Agua Dulce ISD', 'Adrian ISD', 'Academy ISD', 'Abilene ISD',\n",
       "       'Abernathy ISD', 'Abbott ISD'],\n",
       "      dtype='object', name='title', length=781)"
      ]
     },
     "execution_count": 57,
     "metadata": {},
     "output_type": "execute_result"
    }
   ],
   "source": [
    "docs = pd.read_csv(os.path.join(os.getcwd(), '..', '..', 'data', 'text_narrowed.csv'))"
   ]
  },
  {
   "cell_type": "code",
   "execution_count": 45,
   "metadata": {},
   "outputs": [
    {
     "data": {
      "text/html": [
       "<div>\n",
       "<style scoped>\n",
       "    .dataframe tbody tr th:only-of-type {\n",
       "        vertical-align: middle;\n",
       "    }\n",
       "\n",
       "    .dataframe tbody tr th {\n",
       "        vertical-align: top;\n",
       "    }\n",
       "\n",
       "    .dataframe thead th {\n",
       "        text-align: right;\n",
       "    }\n",
       "</style>\n",
       "<table border=\"1\" class=\"dataframe\">\n",
       "  <thead>\n",
       "    <tr style=\"text-align: right;\">\n",
       "      <th></th>\n",
       "      <th>Unnamed: 0</th>\n",
       "      <th>Unnamed: 0.1</th>\n",
       "      <th>Unnamed: 0.1.1</th>\n",
       "      <th>level</th>\n",
       "      <th>type</th>\n",
       "      <th>link</th>\n",
       "      <th>text</th>\n",
       "      <th>p_innovation</th>\n",
       "    </tr>\n",
       "    <tr>\n",
       "      <th>title</th>\n",
       "      <th></th>\n",
       "      <th></th>\n",
       "      <th></th>\n",
       "      <th></th>\n",
       "      <th></th>\n",
       "      <th></th>\n",
       "      <th></th>\n",
       "      <th></th>\n",
       "    </tr>\n",
       "  </thead>\n",
       "  <tbody>\n",
       "    <tr>\n",
       "      <th>Lake Travis ISD</th>\n",
       "      <td>672</td>\n",
       "      <td>672</td>\n",
       "      <td>672</td>\n",
       "      <td>Second</td>\n",
       "      <td>pdf</td>\n",
       "      <td>https://www.ltisdschools.org//cms/lib/Tx018000...</td>\n",
       "      <td>Effective Dec. 13, 2016 – Dec. 13, 2021 2 What...</td>\n",
       "      <td>0.999955</td>\n",
       "    </tr>\n",
       "    <tr>\n",
       "      <th>Zephyr ISD</th>\n",
       "      <td>1243</td>\n",
       "      <td>1243</td>\n",
       "      <td>1243</td>\n",
       "      <td>Second</td>\n",
       "      <td>docx</td>\n",
       "      <td>http://zephyrisd.net/wp-content/uploads/2014/0...</td>\n",
       "      <td>Zephyr ISD District of Innovation Plan Introdu...</td>\n",
       "      <td>0.999922</td>\n",
       "    </tr>\n",
       "  </tbody>\n",
       "</table>\n",
       "</div>"
      ],
      "text/plain": [
       "                  Unnamed: 0  Unnamed: 0.1  Unnamed: 0.1.1   level  type  \\\n",
       "title                                                                      \n",
       " Lake Travis ISD         672           672             672  Second   pdf   \n",
       "Zephyr ISD              1243          1243            1243  Second  docx   \n",
       "\n",
       "                                                               link  \\\n",
       "title                                                                 \n",
       " Lake Travis ISD  https://www.ltisdschools.org//cms/lib/Tx018000...   \n",
       "Zephyr ISD        http://zephyrisd.net/wp-content/uploads/2014/0...   \n",
       "\n",
       "                                                               text  \\\n",
       "title                                                                 \n",
       " Lake Travis ISD  Effective Dec. 13, 2016 – Dec. 13, 2021 2 What...   \n",
       "Zephyr ISD        Zephyr ISD District of Innovation Plan Introdu...   \n",
       "\n",
       "                  p_innovation  \n",
       "title                           \n",
       " Lake Travis ISD      0.999955  \n",
       "Zephyr ISD            0.999922  "
      ]
     },
     "execution_count": 45,
     "metadata": {},
     "output_type": "execute_result"
    }
   ],
   "source": [
    "docs_test = docs.head(2)\n",
    "docs_test"
   ]
  },
  {
   "cell_type": "code",
   "execution_count": null,
   "metadata": {
    "collapsed": true
   },
   "outputs": [],
   "source": []
  }
 ],
 "metadata": {
  "kernelspec": {
   "display_name": "Python [conda env:spacy]",
   "language": "python",
   "name": "conda-env-spacy-py"
  },
  "language_info": {
   "codemirror_mode": {
    "name": "ipython",
    "version": 3
   },
   "file_extension": ".py",
   "mimetype": "text/x-python",
   "name": "python",
   "nbconvert_exporter": "python",
   "pygments_lexer": "ipython3",
   "version": "3.7.0"
  }
 },
 "nbformat": 4,
 "nbformat_minor": 2
}
