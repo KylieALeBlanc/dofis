{
 "cells": [
  {
   "cell_type": "code",
   "execution_count": 17,
   "metadata": {},
   "outputs": [],
   "source": [
    "import pandas as pd\n",
    "import os\n",
    "from pathlib import Path\n",
    "import pandas as pd\n",
    "import spacy\n",
    "from spacy import displacy\n",
    "from spacy.matcher import Matcher\n",
    "from pathlib import Path\n",
    "import pandas as pd\n",
    "import spacy\n",
    "from spacy import displacy\n",
    "from spacy.matcher import Matcher\n",
    "from functools import reduce"
   ]
  },
  {
   "cell_type": "code",
   "execution_count": 19,
   "metadata": {},
   "outputs": [
    {
     "name": "stderr",
     "output_type": "stream",
     "text": [
      "/Users/kylieleblancKylie/anaconda/envs/spacy/lib/python3.7/importlib/_bootstrap.py:219: RuntimeWarning: numpy.dtype size changed, may indicate binary incompatibility. Expected 96, got 88\n",
      "  return f(*args, **kwds)\n",
      "/Users/kylieleblancKylie/anaconda/envs/spacy/lib/python3.7/importlib/_bootstrap.py:219: RuntimeWarning: numpy.ufunc size changed, may indicate binary incompatibility. Expected 192, got 176\n",
      "  return f(*args, **kwds)\n"
     ]
    }
   ],
   "source": [
    "docs = pd.read_csv(os.path.join(os.getcwd(), '..', '..', 'data', 'text_narrowed.csv'))\n",
    "nlp = spacy.load('en_core_web_sm')"
   ]
  },
  {
   "cell_type": "code",
   "execution_count": 20,
   "metadata": {},
   "outputs": [],
   "source": [
    "law_shapes = [i*'d' + '.' + j*'d' for i in range(1, 4) for j in range(3,5)]\n",
    "law_shape_patterns = [[{'LIKE_NUM':True, 'SHAPE':shape}, {'ORTH':'%', 'OP':'!'}] for shape in law_shapes] # could add {'SHAPE':'§', 'OP':'*'}, \n",
    "\n",
    "matcher = Matcher(nlp.vocab)\n",
    "matcher.add(\"ExplicitLaw\", None, *law_shape_patterns)\n",
    "\n",
    "def get_matches(string):\n",
    "    doc = nlp(string)\n",
    "    matches = matcher(doc)\n",
    "    return list(set([doc[i[1]:i[2]][0] for i in matches]))"
   ]
  },
  {
   "cell_type": "code",
   "execution_count": 26,
   "metadata": {},
   "outputs": [
    {
     "data": {
      "text/html": [
       "<div>\n",
       "<style scoped>\n",
       "    .dataframe tbody tr th:only-of-type {\n",
       "        vertical-align: middle;\n",
       "    }\n",
       "\n",
       "    .dataframe tbody tr th {\n",
       "        vertical-align: top;\n",
       "    }\n",
       "\n",
       "    .dataframe thead th {\n",
       "        text-align: right;\n",
       "    }\n",
       "</style>\n",
       "<table border=\"1\" class=\"dataframe\">\n",
       "  <thead>\n",
       "    <tr style=\"text-align: right;\">\n",
       "      <th></th>\n",
       "      <th>Unnamed: 0</th>\n",
       "      <th>Unnamed: 0.1</th>\n",
       "      <th>Unnamed: 0.1.1</th>\n",
       "      <th>title</th>\n",
       "      <th>level</th>\n",
       "      <th>type</th>\n",
       "      <th>link</th>\n",
       "      <th>text</th>\n",
       "      <th>p_innovation</th>\n",
       "      <th>possible_laws</th>\n",
       "    </tr>\n",
       "  </thead>\n",
       "  <tbody>\n",
       "    <tr>\n",
       "      <th>0</th>\n",
       "      <td>672</td>\n",
       "      <td>672</td>\n",
       "      <td>672</td>\n",
       "      <td>Lake Travis ISD</td>\n",
       "      <td>Second</td>\n",
       "      <td>pdf</td>\n",
       "      <td>https://www.ltisdschools.org//cms/lib/Tx018000...</td>\n",
       "      <td>Effective Dec. 13, 2016 – Dec. 13, 2021 2 What...</td>\n",
       "      <td>0.999955</td>\n",
       "      <td>[25.0811, 11.251, 21.057, 25.112, 25.113]</td>\n",
       "    </tr>\n",
       "    <tr>\n",
       "      <th>1</th>\n",
       "      <td>1243</td>\n",
       "      <td>1243</td>\n",
       "      <td>1243</td>\n",
       "      <td>Zephyr ISD</td>\n",
       "      <td>Second</td>\n",
       "      <td>docx</td>\n",
       "      <td>http://zephyrisd.net/wp-content/uploads/2014/0...</td>\n",
       "      <td>Zephyr ISD District of Innovation Plan Introdu...</td>\n",
       "      <td>0.999922</td>\n",
       "      <td>[25.036, 21.003, 21.003, 21.102, 25.0811, 25.0...</td>\n",
       "    </tr>\n",
       "    <tr>\n",
       "      <th>2</th>\n",
       "      <td>315</td>\n",
       "      <td>315</td>\n",
       "      <td>315</td>\n",
       "      <td>Zavalla ISD</td>\n",
       "      <td>First</td>\n",
       "      <td>pdf</td>\n",
       "      <td>http://www.zavallaisd.org/Uploads/269/misc/f28...</td>\n",
       "      <td>Zavalla ISD District of Innovation Plan (HB 18...</td>\n",
       "      <td>0.999619</td>\n",
       "      <td>[25.092, 25.112, 25.0811, 21.401, 21.3541, 21....</td>\n",
       "    </tr>\n",
       "    <tr>\n",
       "      <th>3</th>\n",
       "      <td>3309</td>\n",
       "      <td>3309</td>\n",
       "      <td>3309</td>\n",
       "      <td>Zapata County ISD</td>\n",
       "      <td>Second</td>\n",
       "      <td>pdf</td>\n",
       "      <td>https://1.cdn.edl.io/VZ6fi1M6pn8Qk8tS3GetGewCD...</td>\n",
       "      <td>Microsoft Word - Document1 ZAPATA COUNTY INDEP...</td>\n",
       "      <td>0.452118</td>\n",
       "      <td>[39.362, 39.306]</td>\n",
       "    </tr>\n",
       "    <tr>\n",
       "      <th>4</th>\n",
       "      <td>1196</td>\n",
       "      <td>1196</td>\n",
       "      <td>1196</td>\n",
       "      <td>Yorktown ISD</td>\n",
       "      <td>Second</td>\n",
       "      <td>pdf</td>\n",
       "      <td>http://www.yisd.org/userfiles/57/my%20files/fi...</td>\n",
       "      <td>Yorktown Independent School District Final Dis...</td>\n",
       "      <td>0.999877</td>\n",
       "      <td>[21.053, 25.081, 21.003, 25.082, 25.081, 25.08...</td>\n",
       "    </tr>\n",
       "  </tbody>\n",
       "</table>\n",
       "</div>"
      ],
      "text/plain": [
       "   Unnamed: 0  Unnamed: 0.1  Unnamed: 0.1.1              title   level  type  \\\n",
       "0         672           672             672    Lake Travis ISD  Second   pdf   \n",
       "1        1243          1243            1243         Zephyr ISD  Second  docx   \n",
       "2         315           315             315        Zavalla ISD   First   pdf   \n",
       "3        3309          3309            3309  Zapata County ISD  Second   pdf   \n",
       "4        1196          1196            1196       Yorktown ISD  Second   pdf   \n",
       "\n",
       "                                                link  \\\n",
       "0  https://www.ltisdschools.org//cms/lib/Tx018000...   \n",
       "1  http://zephyrisd.net/wp-content/uploads/2014/0...   \n",
       "2  http://www.zavallaisd.org/Uploads/269/misc/f28...   \n",
       "3  https://1.cdn.edl.io/VZ6fi1M6pn8Qk8tS3GetGewCD...   \n",
       "4  http://www.yisd.org/userfiles/57/my%20files/fi...   \n",
       "\n",
       "                                                text  p_innovation  \\\n",
       "0  Effective Dec. 13, 2016 – Dec. 13, 2021 2 What...      0.999955   \n",
       "1  Zephyr ISD District of Innovation Plan Introdu...      0.999922   \n",
       "2  Zavalla ISD District of Innovation Plan (HB 18...      0.999619   \n",
       "3  Microsoft Word - Document1 ZAPATA COUNTY INDEP...      0.452118   \n",
       "4  Yorktown Independent School District Final Dis...      0.999877   \n",
       "\n",
       "                                       possible_laws  \n",
       "0          [25.0811, 11.251, 21.057, 25.112, 25.113]  \n",
       "1  [25.036, 21.003, 21.003, 21.102, 25.0811, 25.0...  \n",
       "2  [25.092, 25.112, 25.0811, 21.401, 21.3541, 21....  \n",
       "3                                   [39.362, 39.306]  \n",
       "4  [21.053, 25.081, 21.003, 25.082, 25.081, 25.08...  "
      ]
     },
     "execution_count": 26,
     "metadata": {},
     "output_type": "execute_result"
    }
   ],
   "source": [
    "extract_laws = False\n",
    "if extract_laws:\n",
    "    docs['possible_laws'] = docs.text.apply(get_matches)\n",
    "docs.head()"
   ]
  },
  {
   "cell_type": "code",
   "execution_count": 29,
   "metadata": {
    "collapsed": true
   },
   "outputs": [],
   "source": [
    "docs.to_csv(os.path.join(os.getcwd(), '..', '..', 'data', 'exemptions_list.csv'))"
   ]
  },
  {
   "cell_type": "code",
   "execution_count": null,
   "metadata": {
    "collapsed": true
   },
   "outputs": [],
   "source": []
  }
 ],
 "metadata": {
  "kernelspec": {
   "display_name": "Python [conda env:spacy]",
   "language": "python",
   "name": "conda-env-spacy-py"
  },
  "language_info": {
   "codemirror_mode": {
    "name": "ipython",
    "version": 3
   },
   "file_extension": ".py",
   "mimetype": "text/x-python",
   "name": "python",
   "nbconvert_exporter": "python",
   "pygments_lexer": "ipython3",
   "version": "3.7.0"
  }
 },
 "nbformat": 4,
 "nbformat_minor": 2
}
