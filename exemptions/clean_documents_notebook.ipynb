{
 "cells": [
  {
   "cell_type": "markdown",
   "metadata": {},
   "source": [
    "# Get Plain Text from Documents"
   ]
  },
  {
   "cell_type": "markdown",
   "metadata": {},
   "source": [
    "This script adds a column to links_scraped called 'text' which contains the plain text from a document."
   ]
  },
  {
   "cell_type": "code",
   "execution_count": 10,
   "metadata": {
    "collapsed": true
   },
   "outputs": [],
   "source": [
    "import os\n",
    "import pandas as pd\n",
    "import clean_documents"
   ]
  },
  {
   "cell_type": "code",
   "execution_count": 11,
   "metadata": {
    "collapsed": true
   },
   "outputs": [],
   "source": [
    "test_sample = False\n",
    "sample_size = 5"
   ]
  },
  {
   "cell_type": "markdown",
   "metadata": {},
   "source": [
    "Import links_scraped."
   ]
  },
  {
   "cell_type": "code",
   "execution_count": null,
   "metadata": {},
   "outputs": [
    {
     "name": "stdout",
     "output_type": "stream",
     "text": [
      "There are 3736 links we need to extract text from.\n"
     ]
    },
    {
     "data": {
      "text/html": [
       "<div>\n",
       "<style scoped>\n",
       "    .dataframe tbody tr th:only-of-type {\n",
       "        vertical-align: middle;\n",
       "    }\n",
       "\n",
       "    .dataframe tbody tr th {\n",
       "        vertical-align: top;\n",
       "    }\n",
       "\n",
       "    .dataframe thead th {\n",
       "        text-align: right;\n",
       "    }\n",
       "</style>\n",
       "<table border=\"1\" class=\"dataframe\">\n",
       "  <thead>\n",
       "    <tr style=\"text-align: right;\">\n",
       "      <th></th>\n",
       "      <th>Unnamed: 0</th>\n",
       "      <th>title</th>\n",
       "      <th>level</th>\n",
       "      <th>type</th>\n",
       "      <th>link</th>\n",
       "    </tr>\n",
       "  </thead>\n",
       "  <tbody>\n",
       "    <tr>\n",
       "      <th>0</th>\n",
       "      <td>0</td>\n",
       "      <td>Sands CISD</td>\n",
       "      <td>First</td>\n",
       "      <td>pdf</td>\n",
       "      <td>http://sands.esc17.net/upload/page/0019/docs/S...</td>\n",
       "    </tr>\n",
       "    <tr>\n",
       "      <th>1</th>\n",
       "      <td>1</td>\n",
       "      <td>Ricardo ISD</td>\n",
       "      <td>First</td>\n",
       "      <td>pdf</td>\n",
       "      <td>http://www.ricardoisd.us/UserFiles/Servers/Ser...</td>\n",
       "    </tr>\n",
       "    <tr>\n",
       "      <th>2</th>\n",
       "      <td>2</td>\n",
       "      <td>Stanton ISD</td>\n",
       "      <td>First</td>\n",
       "      <td>pdf</td>\n",
       "      <td>http://www.stanton.esc18.net/site/handlers/fil...</td>\n",
       "    </tr>\n",
       "    <tr>\n",
       "      <th>3</th>\n",
       "      <td>3</td>\n",
       "      <td>Gold-Burg ISD</td>\n",
       "      <td>First</td>\n",
       "      <td>pdf</td>\n",
       "      <td>http://images.pcmac.org/SiSFiles/Schools/TX/Go...</td>\n",
       "    </tr>\n",
       "    <tr>\n",
       "      <th>4</th>\n",
       "      <td>4</td>\n",
       "      <td>Joaquin ISD</td>\n",
       "      <td>First</td>\n",
       "      <td>pdf</td>\n",
       "      <td>http://www.joaquinisd.net/upload/page/0025/Joa...</td>\n",
       "    </tr>\n",
       "  </tbody>\n",
       "</table>\n",
       "</div>"
      ],
      "text/plain": [
       "   Unnamed: 0          title  level type  \\\n",
       "0           0     Sands CISD  First  pdf   \n",
       "1           1    Ricardo ISD  First  pdf   \n",
       "2           2    Stanton ISD  First  pdf   \n",
       "3           3  Gold-Burg ISD  First  pdf   \n",
       "4           4    Joaquin ISD  First  pdf   \n",
       "\n",
       "                                                link  \n",
       "0  http://sands.esc17.net/upload/page/0019/docs/S...  \n",
       "1  http://www.ricardoisd.us/UserFiles/Servers/Ser...  \n",
       "2  http://www.stanton.esc18.net/site/handlers/fil...  \n",
       "3  http://images.pcmac.org/SiSFiles/Schools/TX/Go...  \n",
       "4  http://www.joaquinisd.net/upload/page/0025/Joa...  "
      ]
     },
     "execution_count": 12,
     "metadata": {},
     "output_type": "execute_result"
    }
   ],
   "source": [
    "links_scraped = pd.read_csv(os.path.join(os.getcwd(), '..', '..', 'data', 'links_scraped.csv'))\n",
    "if test_sample:\n",
    "    links_scraped = links_scraped.sample(n = sample_size)\n",
    "print('There are {} links we need to extract text from.'.format(len(links_scraped)))\n",
    "links_scraped.head()"
   ]
  },
  {
   "cell_type": "code",
   "execution_count": null,
   "metadata": {},
   "outputs": [
    {
     "name": "stdout",
     "output_type": "stream",
     "text": [
      "Google Error: 'd' is not in listle.com/drive/folders/0B3zKmpprcZY1OHRBcEw1d2VFcFENQ.pdfsources/hr%202017-2018/HR171012DOI.pdfpdf1501fuioIU5URR0fH8%3Dpdfommisssioner_%7BSIS2A4E9FB62FFF%7D.pdf\n",
      "Current link: http://www.happyisd.net/vimages/shared/vnews/stories/59069a4d02bfb/Happy%20District%20of%20Innovation%20Plan.pdfes/Silverton%20ISD%20-%20District%20of%20Innovation%20Plan%20-%20%202017-2022.pdf?attachauth=ANoY7crZ95eBCK42hfzBxQjUIgtY6_zhrJwG20-8vqu4QiM3WYSr91LYch8rvy1JBsprxU_gvKTf5_jJF5ACGHEnNc1yLPdZuiOYbdkbItftPcB53AaAntOGUAdwUVDhZc8IBZurc8nkzonVMe3WHs_lMDBp5v51C6Lbeaml5fk9DmnEv6w4cOCLbMECii1zoTLJx6ZAtkzySB_ZLyXiIN2Xdqqo4IMNuRjdsbJSrvSSDJNg7ytd1iYdqtFlrL_HUG9BAQceMp_TOeXrdopVDXZKxfgqSK6EzFF-d9Zrd0eE97JNAgqvaUxuYT4qXwCLHlPom79ckhU4&attredirects=1\r"
     ]
    }
   ],
   "source": [
    "texts = []\n",
    "for link in links_scraped.link:\n",
    "    text = clean_documents.get_plain_text(link)\n",
    "    texts.append(text)\n",
    "links_scraped['text'] = texts"
   ]
  },
  {
   "cell_type": "code",
   "execution_count": null,
   "metadata": {},
   "outputs": [],
   "source": [
    "print('We extracted text from {} links. The rest were unavilable due'\n",
    "      'to to security settings or other errors.'.format(len(links_scraped[links_scraped.text != 'UNAVAILABLE'])))\n",
    "links_scraped.head()"
   ]
  },
  {
   "cell_type": "markdown",
   "metadata": {},
   "source": [
    "## Remove all \\n, \\t, \\r characters from raw text."
   ]
  },
  {
   "cell_type": "code",
   "execution_count": null,
   "metadata": {},
   "outputs": [],
   "source": [
    "text_scraped = clean_documents.remove_whitespace(links_scraped, text_col = 'text')\n",
    "text_scraped.head()"
   ]
  },
  {
   "cell_type": "markdown",
   "metadata": {},
   "source": [
    "## Save"
   ]
  },
  {
   "cell_type": "code",
   "execution_count": null,
   "metadata": {
    "collapsed": true
   },
   "outputs": [],
   "source": [
    "if test_sample == False:\n",
    "    text_scraped.to_csv(os.path.join(os.getcwd(), '..', '..', 'data', 'text_scraped.csv'))"
   ]
  },
  {
   "cell_type": "code",
   "execution_count": null,
   "metadata": {
    "collapsed": true
   },
   "outputs": [],
   "source": []
  }
 ],
 "metadata": {
  "kernelspec": {
   "display_name": "Python [conda root]",
   "language": "python",
   "name": "conda-root-py"
  },
  "language_info": {
   "codemirror_mode": {
    "name": "ipython",
    "version": 3
   },
   "file_extension": ".py",
   "mimetype": "text/x-python",
   "name": "python",
   "nbconvert_exporter": "python",
   "pygments_lexer": "ipython3",
   "version": "3.5.4"
  }
 },
 "nbformat": 4,
 "nbformat_minor": 2
}
