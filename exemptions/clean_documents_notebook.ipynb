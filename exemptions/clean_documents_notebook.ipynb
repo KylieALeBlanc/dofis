{
 "cells": [
  {
   "cell_type": "markdown",
   "metadata": {},
   "source": [
    "# Get Plain Text from Documents"
   ]
  },
  {
   "cell_type": "markdown",
   "metadata": {},
   "source": [
    "This script adds a column to links_scraped called 'text' which contains the plain text from a document."
   ]
  },
  {
   "cell_type": "code",
   "execution_count": 1,
   "metadata": {
    "collapsed": true
   },
   "outputs": [],
   "source": [
    "import os\n",
    "import pandas as pd\n",
    "import clean_documents"
   ]
  },
  {
   "cell_type": "code",
   "execution_count": 2,
   "metadata": {
    "collapsed": true
   },
   "outputs": [],
   "source": [
    "test_sample = False\n",
    "sample_size = 5"
   ]
  },
  {
   "cell_type": "markdown",
   "metadata": {},
   "source": [
    "Import links_scraped."
   ]
  },
  {
   "cell_type": "code",
   "execution_count": 3,
   "metadata": {},
   "outputs": [
    {
     "name": "stdout",
     "output_type": "stream",
     "text": [
      "There are 5 links we need to extract text from.\n"
     ]
    },
    {
     "data": {
      "text/html": [
       "<div>\n",
       "<style scoped>\n",
       "    .dataframe tbody tr th:only-of-type {\n",
       "        vertical-align: middle;\n",
       "    }\n",
       "\n",
       "    .dataframe tbody tr th {\n",
       "        vertical-align: top;\n",
       "    }\n",
       "\n",
       "    .dataframe thead th {\n",
       "        text-align: right;\n",
       "    }\n",
       "</style>\n",
       "<table border=\"1\" class=\"dataframe\">\n",
       "  <thead>\n",
       "    <tr style=\"text-align: right;\">\n",
       "      <th></th>\n",
       "      <th>Unnamed: 0</th>\n",
       "      <th>title</th>\n",
       "      <th>level</th>\n",
       "      <th>type</th>\n",
       "      <th>link</th>\n",
       "    </tr>\n",
       "  </thead>\n",
       "  <tbody>\n",
       "    <tr>\n",
       "      <th>3152</th>\n",
       "      <td>3152</td>\n",
       "      <td>Fort Bend ISD</td>\n",
       "      <td>Second</td>\n",
       "      <td>pdf</td>\n",
       "      <td>https://www.fortbendisd.com/cms/lib/TX01917858...</td>\n",
       "    </tr>\n",
       "    <tr>\n",
       "      <th>945</th>\n",
       "      <td>945</td>\n",
       "      <td>Schleicher County ISD</td>\n",
       "      <td>Second</td>\n",
       "      <td>pdf</td>\n",
       "      <td>http://local.scisd.net/CALENDAR/2018-19-distCa...</td>\n",
       "    </tr>\n",
       "    <tr>\n",
       "      <th>2539</th>\n",
       "      <td>2539</td>\n",
       "      <td>Hamlin ISD</td>\n",
       "      <td>Second</td>\n",
       "      <td>pdf</td>\n",
       "      <td>http://www.hamlin.esc14.net/upload/page/0048/d...</td>\n",
       "    </tr>\n",
       "    <tr>\n",
       "      <th>1698</th>\n",
       "      <td>1698</td>\n",
       "      <td>Tyler ISD</td>\n",
       "      <td>Second</td>\n",
       "      <td>pdf</td>\n",
       "      <td>https://www.tylerisd.org/cms/lib/TX01918383/Ce...</td>\n",
       "    </tr>\n",
       "    <tr>\n",
       "      <th>499</th>\n",
       "      <td>499</td>\n",
       "      <td>Floydada ISD</td>\n",
       "      <td>Second</td>\n",
       "      <td>pdf</td>\n",
       "      <td>https://www.floydadaisd.esc17.net/vimages/shar...</td>\n",
       "    </tr>\n",
       "  </tbody>\n",
       "</table>\n",
       "</div>"
      ],
      "text/plain": [
       "      Unnamed: 0                  title   level type  \\\n",
       "3152        3152          Fort Bend ISD  Second  pdf   \n",
       "945          945  Schleicher County ISD  Second  pdf   \n",
       "2539        2539             Hamlin ISD  Second  pdf   \n",
       "1698        1698              Tyler ISD  Second  pdf   \n",
       "499          499           Floydada ISD  Second  pdf   \n",
       "\n",
       "                                                   link  \n",
       "3152  https://www.fortbendisd.com/cms/lib/TX01917858...  \n",
       "945   http://local.scisd.net/CALENDAR/2018-19-distCa...  \n",
       "2539  http://www.hamlin.esc14.net/upload/page/0048/d...  \n",
       "1698  https://www.tylerisd.org/cms/lib/TX01918383/Ce...  \n",
       "499   https://www.floydadaisd.esc17.net/vimages/shar...  "
      ]
     },
     "execution_count": 3,
     "metadata": {},
     "output_type": "execute_result"
    }
   ],
   "source": [
    "links_scraped = pd.read_csv(os.path.join(os.getcwd(), '..', '..', 'data', 'links_scraped.csv'))\n",
    "if test_sample:\n",
    "    links_scraped = links_scraped.sample(n = sample_size)\n",
    "print('There are {} links we need to extract text from.'.format(len(links_scraped)))\n",
    "links_scraped.head()"
   ]
  },
  {
   "cell_type": "code",
   "execution_count": 4,
   "metadata": {},
   "outputs": [
    {
     "name": "stdout",
     "output_type": "stream",
     "text": [
      "Current link: https://www.floydadaisd.esc17.net/vimages/shared/vnews/stories/58fdff4b2f370/Floydada%20ISD%20-%20Final%20-%20District%20Innovation%20Plan.pdf\r"
     ]
    }
   ],
   "source": [
    "texts = []\n",
    "for link in links_scraped.link:\n",
    "    text = clean_documents.get_plain_text(link)\n",
    "    texts.append(text)\n",
    "links_scraped['text'] = texts"
   ]
  },
  {
   "cell_type": "code",
   "execution_count": 5,
   "metadata": {},
   "outputs": [
    {
     "name": "stdout",
     "output_type": "stream",
     "text": [
      "We extracted text from 5 links. The rest were unavilable dueto to security settings or other errors.\n"
     ]
    },
    {
     "data": {
      "text/html": [
       "<div>\n",
       "<style scoped>\n",
       "    .dataframe tbody tr th:only-of-type {\n",
       "        vertical-align: middle;\n",
       "    }\n",
       "\n",
       "    .dataframe tbody tr th {\n",
       "        vertical-align: top;\n",
       "    }\n",
       "\n",
       "    .dataframe thead th {\n",
       "        text-align: right;\n",
       "    }\n",
       "</style>\n",
       "<table border=\"1\" class=\"dataframe\">\n",
       "  <thead>\n",
       "    <tr style=\"text-align: right;\">\n",
       "      <th></th>\n",
       "      <th>Unnamed: 0</th>\n",
       "      <th>title</th>\n",
       "      <th>level</th>\n",
       "      <th>type</th>\n",
       "      <th>link</th>\n",
       "      <th>text</th>\n",
       "    </tr>\n",
       "  </thead>\n",
       "  <tbody>\n",
       "    <tr>\n",
       "      <th>3152</th>\n",
       "      <td>3152</td>\n",
       "      <td>Fort Bend ISD</td>\n",
       "      <td>Second</td>\n",
       "      <td>pdf</td>\n",
       "      <td>https://www.fortbendisd.com/cms/lib/TX01917858...</td>\n",
       "      <td>\\n\\n\\n\\n\\n\\n\\nError 404 - Page Not Found\\n\\n</td>\n",
       "    </tr>\n",
       "    <tr>\n",
       "      <th>945</th>\n",
       "      <td>945</td>\n",
       "      <td>Schleicher County ISD</td>\n",
       "      <td>Second</td>\n",
       "      <td>pdf</td>\n",
       "      <td>http://local.scisd.net/CALENDAR/2018-19-distCa...</td>\n",
       "      <td>\\n\\n\\n\\n\\n\\n\\n\\n\\n\\n\\n\\n\\n\\n\\n\\n\\n\\n\\n\\n\\n\\n\\n...</td>\n",
       "    </tr>\n",
       "    <tr>\n",
       "      <th>2539</th>\n",
       "      <td>2539</td>\n",
       "      <td>Hamlin ISD</td>\n",
       "      <td>Second</td>\n",
       "      <td>pdf</td>\n",
       "      <td>http://www.hamlin.esc14.net/upload/page/0048/d...</td>\n",
       "      <td>\\n\\n\\n\\n\\n\\n\\n\\n\\n\\n\\n\\n\\n\\n\\n\\n\\n\\n\\n\\n\\n\\n\\n...</td>\n",
       "    </tr>\n",
       "    <tr>\n",
       "      <th>1698</th>\n",
       "      <td>1698</td>\n",
       "      <td>Tyler ISD</td>\n",
       "      <td>Second</td>\n",
       "      <td>pdf</td>\n",
       "      <td>https://www.tylerisd.org/cms/lib/TX01918383/Ce...</td>\n",
       "      <td>\\n\\n\\n\\n\\n\\n\\n\\n\\n\\n\\n\\n\\n\\n\\n\\n\\n\\n\\n\\n\\n\\n\\n...</td>\n",
       "    </tr>\n",
       "    <tr>\n",
       "      <th>499</th>\n",
       "      <td>499</td>\n",
       "      <td>Floydada ISD</td>\n",
       "      <td>Second</td>\n",
       "      <td>pdf</td>\n",
       "      <td>https://www.floydadaisd.esc17.net/vimages/shar...</td>\n",
       "      <td>\\n\\n\\n\\n\\n\\n\\n\\n\\n\\n\\n\\n\\n\\n\\n\\n\\n\\n\\n\\n\\n\\n\\n...</td>\n",
       "    </tr>\n",
       "  </tbody>\n",
       "</table>\n",
       "</div>"
      ],
      "text/plain": [
       "      Unnamed: 0                  title   level type  \\\n",
       "3152        3152          Fort Bend ISD  Second  pdf   \n",
       "945          945  Schleicher County ISD  Second  pdf   \n",
       "2539        2539             Hamlin ISD  Second  pdf   \n",
       "1698        1698              Tyler ISD  Second  pdf   \n",
       "499          499           Floydada ISD  Second  pdf   \n",
       "\n",
       "                                                   link  \\\n",
       "3152  https://www.fortbendisd.com/cms/lib/TX01917858...   \n",
       "945   http://local.scisd.net/CALENDAR/2018-19-distCa...   \n",
       "2539  http://www.hamlin.esc14.net/upload/page/0048/d...   \n",
       "1698  https://www.tylerisd.org/cms/lib/TX01918383/Ce...   \n",
       "499   https://www.floydadaisd.esc17.net/vimages/shar...   \n",
       "\n",
       "                                                   text  \n",
       "3152       \\n\\n\\n\\n\\n\\n\\nError 404 - Page Not Found\\n\\n  \n",
       "945   \\n\\n\\n\\n\\n\\n\\n\\n\\n\\n\\n\\n\\n\\n\\n\\n\\n\\n\\n\\n\\n\\n\\n...  \n",
       "2539  \\n\\n\\n\\n\\n\\n\\n\\n\\n\\n\\n\\n\\n\\n\\n\\n\\n\\n\\n\\n\\n\\n\\n...  \n",
       "1698  \\n\\n\\n\\n\\n\\n\\n\\n\\n\\n\\n\\n\\n\\n\\n\\n\\n\\n\\n\\n\\n\\n\\n...  \n",
       "499   \\n\\n\\n\\n\\n\\n\\n\\n\\n\\n\\n\\n\\n\\n\\n\\n\\n\\n\\n\\n\\n\\n\\n...  "
      ]
     },
     "execution_count": 5,
     "metadata": {},
     "output_type": "execute_result"
    }
   ],
   "source": [
    "print('We extracted text from {} links. The rest were unavilable due'\n",
    "      'to to security settings or other errors.'.format(len(links_scraped[links_scraped.text != 'UNAVAILABLE'])))\n",
    "links_scraped.head()"
   ]
  },
  {
   "cell_type": "markdown",
   "metadata": {},
   "source": [
    "## Remove all \\n, \\t, \\r characters from raw text."
   ]
  },
  {
   "cell_type": "code",
   "execution_count": 8,
   "metadata": {},
   "outputs": [
    {
     "data": {
      "text/html": [
       "<div>\n",
       "<style scoped>\n",
       "    .dataframe tbody tr th:only-of-type {\n",
       "        vertical-align: middle;\n",
       "    }\n",
       "\n",
       "    .dataframe tbody tr th {\n",
       "        vertical-align: top;\n",
       "    }\n",
       "\n",
       "    .dataframe thead th {\n",
       "        text-align: right;\n",
       "    }\n",
       "</style>\n",
       "<table border=\"1\" class=\"dataframe\">\n",
       "  <thead>\n",
       "    <tr style=\"text-align: right;\">\n",
       "      <th></th>\n",
       "      <th>Unnamed: 0</th>\n",
       "      <th>title</th>\n",
       "      <th>level</th>\n",
       "      <th>type</th>\n",
       "      <th>link</th>\n",
       "      <th>text</th>\n",
       "    </tr>\n",
       "  </thead>\n",
       "  <tbody>\n",
       "    <tr>\n",
       "      <th>3152</th>\n",
       "      <td>3152</td>\n",
       "      <td>Fort Bend ISD</td>\n",
       "      <td>Second</td>\n",
       "      <td>pdf</td>\n",
       "      <td>https://www.fortbendisd.com/cms/lib/TX01917858...</td>\n",
       "      <td>Error 404 - Page Not Found</td>\n",
       "    </tr>\n",
       "    <tr>\n",
       "      <th>945</th>\n",
       "      <td>945</td>\n",
       "      <td>Schleicher County ISD</td>\n",
       "      <td>Second</td>\n",
       "      <td>pdf</td>\n",
       "      <td>http://local.scisd.net/CALENDAR/2018-19-distCa...</td>\n",
       "      <td>Microsoft Word - 2018-2019 School Calendar.doc...</td>\n",
       "    </tr>\n",
       "    <tr>\n",
       "      <th>2539</th>\n",
       "      <td>2539</td>\n",
       "      <td>Hamlin ISD</td>\n",
       "      <td>Second</td>\n",
       "      <td>pdf</td>\n",
       "      <td>http://www.hamlin.esc14.net/upload/page/0048/d...</td>\n",
       "      <td>240 199 Description Food Service Fund General ...</td>\n",
       "    </tr>\n",
       "    <tr>\n",
       "      <th>1698</th>\n",
       "      <td>1698</td>\n",
       "      <td>Tyler ISD</td>\n",
       "      <td>Second</td>\n",
       "      <td>pdf</td>\n",
       "      <td>https://www.tylerisd.org/cms/lib/TX01918383/Ce...</td>\n",
       "      <td>Tyler ISD BYOD Policy Tyler ISD grants its emp...</td>\n",
       "    </tr>\n",
       "    <tr>\n",
       "      <th>499</th>\n",
       "      <td>499</td>\n",
       "      <td>Floydada ISD</td>\n",
       "      <td>Second</td>\n",
       "      <td>pdf</td>\n",
       "      <td>https://www.floydadaisd.esc17.net/vimages/shar...</td>\n",
       "      <td>Floydada ISD - Final - District Innovation Pla...</td>\n",
       "    </tr>\n",
       "  </tbody>\n",
       "</table>\n",
       "</div>"
      ],
      "text/plain": [
       "      Unnamed: 0                  title   level type  \\\n",
       "3152        3152          Fort Bend ISD  Second  pdf   \n",
       "945          945  Schleicher County ISD  Second  pdf   \n",
       "2539        2539             Hamlin ISD  Second  pdf   \n",
       "1698        1698              Tyler ISD  Second  pdf   \n",
       "499          499           Floydada ISD  Second  pdf   \n",
       "\n",
       "                                                   link  \\\n",
       "3152  https://www.fortbendisd.com/cms/lib/TX01917858...   \n",
       "945   http://local.scisd.net/CALENDAR/2018-19-distCa...   \n",
       "2539  http://www.hamlin.esc14.net/upload/page/0048/d...   \n",
       "1698  https://www.tylerisd.org/cms/lib/TX01918383/Ce...   \n",
       "499   https://www.floydadaisd.esc17.net/vimages/shar...   \n",
       "\n",
       "                                                   text  \n",
       "3152                         Error 404 - Page Not Found  \n",
       "945   Microsoft Word - 2018-2019 School Calendar.doc...  \n",
       "2539  240 199 Description Food Service Fund General ...  \n",
       "1698  Tyler ISD BYOD Policy Tyler ISD grants its emp...  \n",
       "499   Floydada ISD - Final - District Innovation Pla...  "
      ]
     },
     "execution_count": 8,
     "metadata": {},
     "output_type": "execute_result"
    }
   ],
   "source": [
    "text_scraped = clean_documents.remove_whitespace(links_scraped, text_col = 'text')\n",
    "text_scraped.head()"
   ]
  },
  {
   "cell_type": "markdown",
   "metadata": {},
   "source": [
    "## Save"
   ]
  },
  {
   "cell_type": "code",
   "execution_count": 9,
   "metadata": {
    "collapsed": true
   },
   "outputs": [],
   "source": [
    "text_scraped.to_csv(os.path.join(os.getcwd(), '..', '..', 'data', 'text_scraped.csv'))"
   ]
  },
  {
   "cell_type": "code",
   "execution_count": null,
   "metadata": {
    "collapsed": true
   },
   "outputs": [],
   "source": []
  }
 ],
 "metadata": {
  "kernelspec": {
   "display_name": "Python [conda root]",
   "language": "python",
   "name": "conda-root-py"
  },
  "language_info": {
   "codemirror_mode": {
    "name": "ipython",
    "version": 3
   },
   "file_extension": ".py",
   "mimetype": "text/x-python",
   "name": "python",
   "nbconvert_exporter": "python",
   "pygments_lexer": "ipython3",
   "version": "3.5.4"
  }
 },
 "nbformat": 4,
 "nbformat_minor": 2
}
