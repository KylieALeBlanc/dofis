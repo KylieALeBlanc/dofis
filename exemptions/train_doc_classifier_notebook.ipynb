{
 "cells": [
  {
   "cell_type": "markdown",
   "metadata": {},
   "source": [
    "# Train relevance classifier"
   ]
  },
  {
   "cell_type": "markdown",
   "metadata": {},
   "source": [
    "This script trains the relevance classifier meant to identify DOI plans. "
   ]
  },
  {
   "cell_type": "code",
   "execution_count": 17,
   "metadata": {},
   "outputs": [],
   "source": [
    "import pandas as pd\n",
    "import os\n",
    "import classify"
   ]
  },
  {
   "cell_type": "markdown",
   "metadata": {},
   "source": [
    "## Label documents"
   ]
  },
  {
   "cell_type": "markdown",
   "metadata": {},
   "source": [
    "Do not overwrite labelled document set unless you want to relabel. relabel_docs = False protects labelled dataset. Sample size is currently 140. You may decide to add additional DOI plans. This can be done with add_extra_trues. "
   ]
  },
  {
   "cell_type": "code",
   "execution_count": 2,
   "metadata": {
    "collapsed": true
   },
   "outputs": [],
   "source": [
    "relabel_docs = False\n",
    "sample_size = 140\n",
    "add_extra_trues = True\n",
    "num_new_true = 120"
   ]
  },
  {
   "cell_type": "code",
   "execution_count": 3,
   "metadata": {
    "collapsed": true
   },
   "outputs": [],
   "source": [
    "if relabel_docs:\n",
    "    text_scraped = pd.read_csv(os.path.join(os.getcwd(), '..', '..', 'data', 'text_scraped.csv'))\n",
    "    docs_to_label = text_scraped.sample(n = sample_size)\n",
    "    docs_to_label.to_csv(os.path.join(os.getcwd(), '..', '..', 'data', 'docs_to_label.csv'))\n",
    "    labeled_docs = docs_to_label"
   ]
  },
  {
   "cell_type": "code",
   "execution_count": 4,
   "metadata": {},
   "outputs": [
    {
     "name": "stdout",
     "output_type": "stream",
     "text": [
      "False    109\n",
      "True      31\n",
      "Name: innovation_plan, dtype: int64\n"
     ]
    },
    {
     "data": {
      "text/html": [
       "<div>\n",
       "<style scoped>\n",
       "    .dataframe tbody tr th:only-of-type {\n",
       "        vertical-align: middle;\n",
       "    }\n",
       "\n",
       "    .dataframe tbody tr th {\n",
       "        vertical-align: top;\n",
       "    }\n",
       "\n",
       "    .dataframe thead th {\n",
       "        text-align: right;\n",
       "    }\n",
       "</style>\n",
       "<table border=\"1\" class=\"dataframe\">\n",
       "  <thead>\n",
       "    <tr style=\"text-align: right;\">\n",
       "      <th></th>\n",
       "      <th>Unnamed: 0</th>\n",
       "      <th>Unnamed: 0.1</th>\n",
       "      <th>Unnamed: 0.1.1</th>\n",
       "      <th>Unnamed: 0.1.1.1</th>\n",
       "      <th>level</th>\n",
       "      <th>link</th>\n",
       "      <th>text</th>\n",
       "      <th>title</th>\n",
       "      <th>type</th>\n",
       "      <th>innovation_plan</th>\n",
       "    </tr>\n",
       "  </thead>\n",
       "  <tbody>\n",
       "    <tr>\n",
       "      <th>0</th>\n",
       "      <td>0</td>\n",
       "      <td>2683</td>\n",
       "      <td>2683</td>\n",
       "      <td>2683.0</td>\n",
       "      <td>Second</td>\n",
       "      <td>https://www.celinaisd.com/wp-documents/Require...</td>\n",
       "      <td>Date Run: Program: FIN1750 Cnty Dist: Page: 1 ...</td>\n",
       "      <td>Celina ISD</td>\n",
       "      <td>pdf</td>\n",
       "      <td>False</td>\n",
       "    </tr>\n",
       "    <tr>\n",
       "      <th>1</th>\n",
       "      <td>1</td>\n",
       "      <td>1910</td>\n",
       "      <td>1910</td>\n",
       "      <td>1910.0</td>\n",
       "      <td>Second</td>\n",
       "      <td>https://www.celinaisd.com/wp-documents/Require...</td>\n",
       "      <td>BUDGET RECEIVED TO DATE REMAINING PERCENT REMA...</td>\n",
       "      <td>Celina ISD</td>\n",
       "      <td>pdf</td>\n",
       "      <td>False</td>\n",
       "    </tr>\n",
       "    <tr>\n",
       "      <th>2</th>\n",
       "      <td>2</td>\n",
       "      <td>455</td>\n",
       "      <td>455</td>\n",
       "      <td>455.0</td>\n",
       "      <td>Second</td>\n",
       "      <td>https://1.cdn.edl.io/BoIQrMqDBRiGKjWEV3Sjf2tgY...</td>\n",
       "      <td>No text</td>\n",
       "      <td>West ISD</td>\n",
       "      <td>pdf</td>\n",
       "      <td>False</td>\n",
       "    </tr>\n",
       "    <tr>\n",
       "      <th>3</th>\n",
       "      <td>3</td>\n",
       "      <td>271</td>\n",
       "      <td>271</td>\n",
       "      <td>271.0</td>\n",
       "      <td>First</td>\n",
       "      <td>http://images.pcmac.org/Uploads/CalallenISD/Ca...</td>\n",
       "      <td>Calallen ISD: Put Us to the Test; We Are the B...</td>\n",
       "      <td>Calallen ISD</td>\n",
       "      <td>pdf</td>\n",
       "      <td>True</td>\n",
       "    </tr>\n",
       "    <tr>\n",
       "      <th>4</th>\n",
       "      <td>4</td>\n",
       "      <td>1020</td>\n",
       "      <td>1020</td>\n",
       "      <td>1020.0</td>\n",
       "      <td>Second</td>\n",
       "      <td>https://4.files.edl.io/436e/05/11/18/191230-4e...</td>\n",
       "      <td>Microsoft Word - Alto ISD Calendar 2018-2019 J...</td>\n",
       "      <td>Alto ISD</td>\n",
       "      <td>pdf</td>\n",
       "      <td>False</td>\n",
       "    </tr>\n",
       "  </tbody>\n",
       "</table>\n",
       "</div>"
      ],
      "text/plain": [
       "   Unnamed: 0  Unnamed: 0.1  Unnamed: 0.1.1  Unnamed: 0.1.1.1   level  \\\n",
       "0           0          2683            2683            2683.0  Second   \n",
       "1           1          1910            1910            1910.0  Second   \n",
       "2           2           455             455             455.0  Second   \n",
       "3           3           271             271             271.0   First   \n",
       "4           4          1020            1020            1020.0  Second   \n",
       "\n",
       "                                                link  \\\n",
       "0  https://www.celinaisd.com/wp-documents/Require...   \n",
       "1  https://www.celinaisd.com/wp-documents/Require...   \n",
       "2  https://1.cdn.edl.io/BoIQrMqDBRiGKjWEV3Sjf2tgY...   \n",
       "3  http://images.pcmac.org/Uploads/CalallenISD/Ca...   \n",
       "4  https://4.files.edl.io/436e/05/11/18/191230-4e...   \n",
       "\n",
       "                                                text         title type  \\\n",
       "0  Date Run: Program: FIN1750 Cnty Dist: Page: 1 ...    Celina ISD  pdf   \n",
       "1  BUDGET RECEIVED TO DATE REMAINING PERCENT REMA...    Celina ISD  pdf   \n",
       "2                                            No text      West ISD  pdf   \n",
       "3  Calallen ISD: Put Us to the Test; We Are the B...  Calallen ISD  pdf   \n",
       "4  Microsoft Word - Alto ISD Calendar 2018-2019 J...      Alto ISD  pdf   \n",
       "\n",
       "   innovation_plan  \n",
       "0            False  \n",
       "1            False  \n",
       "2            False  \n",
       "3             True  \n",
       "4            False  "
      ]
     },
     "execution_count": 4,
     "metadata": {},
     "output_type": "execute_result"
    }
   ],
   "source": [
    "labeled_docs = pd.read_csv(os.path.join(os.getcwd(), '..', '..', 'data', 'docs_to_label.csv'))\n",
    "labeled_docs['innovation_plan'] = [\n",
    "         False, False, False, True, False,\n",
    "         False, True, False, False, False,\n",
    "         False, False, False, False, False,\n",
    "         False, False, False, False, False,\n",
    "    \n",
    "         True, True, False, True, False,\n",
    "         False, True, True, True, False,\n",
    "         False, False, False, True, False,\n",
    "         False, False, False, False, False,\n",
    "    \n",
    "         False, False, False, False, False,\n",
    "         False, False, False, False, False,\n",
    "         False, False, False, False, False,\n",
    "         False, False, False, True, False,\n",
    "    \n",
    "         False, True, False, False, True, \n",
    "         False, False, False, False, True,\n",
    "         False, False, False, False, False,\n",
    "         False, False, False, False, False, \n",
    "        \n",
    "         True, True, False, False, False, \n",
    "         True, False, False, True, False, \n",
    "         False, False, False, False, False, \n",
    "         False, True, True, False, True,\n",
    "\n",
    "         False, True, False, False, False, \n",
    "         False, False, True, True, False, \n",
    "         False, True, True, False, False, \n",
    "         False, False, False, False, False, \n",
    "\n",
    "         False, False, True, False, False, \n",
    "         False, True, True, False, False, \n",
    "         False, False, False, True, False, \n",
    "         False, False, True, True, False]\n",
    "print(labeled_docs['innovation_plan'].value_counts())\n",
    "labeled_docs.head(5)"
   ]
  },
  {
   "cell_type": "markdown",
   "metadata": {},
   "source": [
    "This adds extra trues to data used for training, but not testing. "
   ]
  },
  {
   "cell_type": "code",
   "execution_count": 5,
   "metadata": {},
   "outputs": [
    {
     "name": "stdout",
     "output_type": "stream",
     "text": [
      "New number of labelled documents =  260\n"
     ]
    }
   ],
   "source": [
    "if add_extra_trues:\n",
    "    docs_true = pd.read_csv(os.path.join(os.getcwd(), '..', '..', 'data', 'text_scraped.csv'))\n",
    "    docs_true = docs_true[docs_true.level == 'First']\n",
    "    docs_true = docs_true[docs_true.text != 'UNAVAILABLE']\n",
    "    docs_true = docs_true[docs_true.text != 'No text']\n",
    "    docs_true = docs_true[~docs_true.text.str.contains('Page Not Found')]\n",
    "    \n",
    "    #docs_true = docs_true[docs_true.level == 'First'][docs_true.text != 'UNAVAILABLE'][docs_true.text != 'No text']['Page Not Found' not in docs_true.text]\n",
    "    docs_true = docs_true.sample(n = num_new_true)\n",
    "    docs_true['innovation_plan'] = True\n",
    "    # when we split into training and testing, all of the trues will be in training. \n",
    "    labeled_docs = docs_true.append(labeled_docs, ignore_index = True, sort = False) \n",
    "    print('New number of labelled documents = ', len(labeled_docs))\n",
    "    labeled_docs.head()"
   ]
  },
  {
   "cell_type": "code",
   "execution_count": 6,
   "metadata": {},
   "outputs": [
    {
     "name": "stdout",
     "output_type": "stream",
     "text": [
      "The first n-30 of documents are used for training. Training dataset statistics:\n",
      "True     143\n",
      "False     87\n",
      "Name: innovation_plan, dtype: int64\n",
      "The last 30 of documents are used for testing. Testing dataset statistics:\n",
      "False    22\n",
      "True      8\n",
      "Name: innovation_plan, dtype: int64\n"
     ]
    }
   ],
   "source": [
    "print('The first n-30 of documents are used for training. Training dataset statistics:')\n",
    "split = int(len(labeled_docs) - 30)\n",
    "print(labeled_docs.head(split)['innovation_plan'].value_counts())\n",
    "\n",
    "print('The last 30 of documents are used for testing. Testing dataset statistics:')\n",
    "print(labeled_docs.tail(30)['innovation_plan'].value_counts())"
   ]
  },
  {
   "cell_type": "markdown",
   "metadata": {},
   "source": [
    "## Train Classifier and Save"
   ]
  },
  {
   "cell_type": "code",
   "execution_count": 7,
   "metadata": {
    "collapsed": true
   },
   "outputs": [],
   "source": [
    "texts, cats = classify.reformat_cat_from_df(df = labeled_docs,\n",
    "                                      text_col = 'text',\n",
    "                                      label_col = 'innovation_plan',\n",
    "                                      category = 'INNOVATION')"
   ]
  },
  {
   "cell_type": "code",
   "execution_count": 8,
   "metadata": {
    "collapsed": true
   },
   "outputs": [],
   "source": [
    "output_dir = os.path.join(os.getcwd(), '..', '..', 'data', 'document_classifier')"
   ]
  },
  {
   "cell_type": "code",
   "execution_count": 9,
   "metadata": {
    "scrolled": true
   },
   "outputs": [
    {
     "name": "stderr",
     "output_type": "stream",
     "text": [
      "/Users/kylieleblancKylie/anaconda/envs/spacy/lib/python3.7/importlib/_bootstrap.py:219: RuntimeWarning: numpy.dtype size changed, may indicate binary incompatibility. Expected 96, got 88\n",
      "  return f(*args, **kwds)\n",
      "/Users/kylieleblancKylie/anaconda/envs/spacy/lib/python3.7/importlib/_bootstrap.py:219: RuntimeWarning: numpy.ufunc size changed, may indicate binary incompatibility. Expected 192, got 176\n",
      "  return f(*args, **kwds)\n"
     ]
    },
    {
     "name": "stdout",
     "output_type": "stream",
     "text": [
      "Created blank 'en' model\n",
      "Using 260 examples (230 training, 30 evaluation)\n",
      "Warning: Unnamed vectors -- this won't allow multiple vectors models to be loaded. (Shape: (0, 0))\n",
      "Training the model...\n",
      "LOSS \t  P  \t  R  \t  F  \n",
      "15.060\t0.500\t1.000\t0.667\n",
      "7.529\t0.583\t0.875\t0.700\n",
      "4.777\t0.615\t1.000\t0.762\n",
      "4.970\t0.571\t1.000\t0.727\n",
      "1.724\t0.727\t1.000\t0.842\n",
      "1.070\t0.667\t1.000\t0.800\n",
      "1.055\t0.667\t1.000\t0.800\n",
      "0.871\t0.667\t1.000\t0.800\n",
      "0.795\t0.667\t1.000\t0.800\n",
      "0.814\t0.727\t1.000\t0.842\n",
      "No text {'INNOVATION': 0.001259499229490757}\n",
      "Saved model to /Users/kylieleblancKylie/dofis/code/exemptions/../../data/document_classifier\n",
      "Loading from /Users/kylieleblancKylie/dofis/code/exemptions/../../data/document_classifier\n",
      "No text {'INNOVATION': 0.001259499229490757}\n"
     ]
    },
    {
     "data": {
      "text/plain": [
       "<spacy.pipeline.TextCategorizer at 0x11f332080>"
      ]
     },
     "execution_count": 9,
     "metadata": {},
     "output_type": "execute_result"
    }
   ],
   "source": [
    "classify.train_classifier_and_evaluate(texts=texts, \n",
    "                                        cats=cats, \n",
    "                                        model=None, \n",
    "                                        output_dir=output_dir, \n",
    "                                        n_iter=10, \n",
    "                                        categories=['INNOVATION'])"
   ]
  },
  {
   "cell_type": "code",
   "execution_count": null,
   "metadata": {
    "collapsed": true
   },
   "outputs": [],
   "source": []
  }
 ],
 "metadata": {
  "kernelspec": {
   "display_name": "Python [conda env:spacy]",
   "language": "python",
   "name": "conda-env-spacy-py"
  },
  "language_info": {
   "codemirror_mode": {
    "name": "ipython",
    "version": 3
   },
   "file_extension": ".py",
   "mimetype": "text/x-python",
   "name": "python",
   "nbconvert_exporter": "python",
   "pygments_lexer": "ipython3",
   "version": "3.7.0"
  }
 },
 "nbformat": 4,
 "nbformat_minor": 2
}
