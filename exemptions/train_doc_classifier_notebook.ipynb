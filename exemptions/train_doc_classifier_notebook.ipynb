{
 "cells": [
  {
   "cell_type": "markdown",
   "metadata": {},
   "source": [
    "# Train relevance classifier"
   ]
  },
  {
   "cell_type": "markdown",
   "metadata": {},
   "source": [
    "This script trains the relevance classifier meant to identify DOI plans. "
   ]
  },
  {
   "cell_type": "code",
   "execution_count": 1,
   "metadata": {},
   "outputs": [
    {
     "name": "stderr",
     "output_type": "stream",
     "text": [
      "/Users/kylieleblancKylie/anaconda/envs/spacy/lib/python3.7/importlib/_bootstrap.py:219: RuntimeWarning: numpy.dtype size changed, may indicate binary incompatibility. Expected 96, got 88\n",
      "  return f(*args, **kwds)\n",
      "/Users/kylieleblancKylie/anaconda/envs/spacy/lib/python3.7/importlib/_bootstrap.py:219: RuntimeWarning: numpy.ufunc size changed, may indicate binary incompatibility. Expected 192, got 176\n",
      "  return f(*args, **kwds)\n",
      "/Users/kylieleblancKylie/anaconda/envs/spacy/lib/python3.7/importlib/_bootstrap.py:219: RuntimeWarning: numpy.dtype size changed, may indicate binary incompatibility. Expected 96, got 88\n",
      "  return f(*args, **kwds)\n",
      "/Users/kylieleblancKylie/anaconda/envs/spacy/lib/python3.7/importlib/_bootstrap.py:219: RuntimeWarning: numpy.ufunc size changed, may indicate binary incompatibility. Expected 192, got 176\n",
      "  return f(*args, **kwds)\n"
     ]
    }
   ],
   "source": [
    "import pandas as pd\n",
    "import os\n",
    "import classify"
   ]
  },
  {
   "cell_type": "markdown",
   "metadata": {},
   "source": [
    "## Label documents"
   ]
  },
  {
   "cell_type": "markdown",
   "metadata": {},
   "source": [
    "Do not overwrite labelled document set unless you want to relabel. relabel_docs = False protects labelled dataset. Sample size is currently 140. You may decide to add additional DOI plans. This can be done with add_extra_trues. "
   ]
  },
  {
   "cell_type": "code",
   "execution_count": 2,
   "metadata": {
    "collapsed": true
   },
   "outputs": [],
   "source": [
    "relabel_docs = False\n",
    "sample_size = 140\n",
    "add_extra_trues = True\n",
    "num_new_true = 120"
   ]
  },
  {
   "cell_type": "code",
   "execution_count": 3,
   "metadata": {
    "collapsed": true
   },
   "outputs": [],
   "source": [
    "if relabel_docs:\n",
    "    text_scraped = pd.read_csv(os.path.join(os.getcwd(), '..', '..', 'data', 'text_scraped.csv'))\n",
    "    docs_to_label = text_scraped.sample(n = sample_size)\n",
    "    docs_to_label.to_csv(os.path.join(os.getcwd(), '..', '..', 'data', 'docs_to_label.csv'))\n",
    "    labeled_docs = docs_to_label"
   ]
  },
  {
   "cell_type": "code",
   "execution_count": 4,
   "metadata": {},
   "outputs": [
    {
     "name": "stdout",
     "output_type": "stream",
     "text": [
      "False    109\n",
      "True      31\n",
      "Name: innovation_plan, dtype: int64\n"
     ]
    },
    {
     "data": {
      "text/html": [
       "<div>\n",
       "<style scoped>\n",
       "    .dataframe tbody tr th:only-of-type {\n",
       "        vertical-align: middle;\n",
       "    }\n",
       "\n",
       "    .dataframe tbody tr th {\n",
       "        vertical-align: top;\n",
       "    }\n",
       "\n",
       "    .dataframe thead th {\n",
       "        text-align: right;\n",
       "    }\n",
       "</style>\n",
       "<table border=\"1\" class=\"dataframe\">\n",
       "  <thead>\n",
       "    <tr style=\"text-align: right;\">\n",
       "      <th></th>\n",
       "      <th>Unnamed: 0</th>\n",
       "      <th>Unnamed: 0.1</th>\n",
       "      <th>Unnamed: 0.1.1</th>\n",
       "      <th>Unnamed: 0.1.1.1</th>\n",
       "      <th>level</th>\n",
       "      <th>link</th>\n",
       "      <th>text</th>\n",
       "      <th>title</th>\n",
       "      <th>type</th>\n",
       "      <th>innovation_plan</th>\n",
       "    </tr>\n",
       "  </thead>\n",
       "  <tbody>\n",
       "    <tr>\n",
       "      <th>0</th>\n",
       "      <td>0</td>\n",
       "      <td>2683</td>\n",
       "      <td>2683</td>\n",
       "      <td>2683.0</td>\n",
       "      <td>Second</td>\n",
       "      <td>https://www.celinaisd.com/wp-documents/Require...</td>\n",
       "      <td>Date Run: Program: FIN1750 Cnty Dist: Page: 1 ...</td>\n",
       "      <td>Celina ISD</td>\n",
       "      <td>pdf</td>\n",
       "      <td>False</td>\n",
       "    </tr>\n",
       "    <tr>\n",
       "      <th>1</th>\n",
       "      <td>1</td>\n",
       "      <td>1910</td>\n",
       "      <td>1910</td>\n",
       "      <td>1910.0</td>\n",
       "      <td>Second</td>\n",
       "      <td>https://www.celinaisd.com/wp-documents/Require...</td>\n",
       "      <td>BUDGET RECEIVED TO DATE REMAINING PERCENT REMA...</td>\n",
       "      <td>Celina ISD</td>\n",
       "      <td>pdf</td>\n",
       "      <td>False</td>\n",
       "    </tr>\n",
       "    <tr>\n",
       "      <th>2</th>\n",
       "      <td>2</td>\n",
       "      <td>455</td>\n",
       "      <td>455</td>\n",
       "      <td>455.0</td>\n",
       "      <td>Second</td>\n",
       "      <td>https://1.cdn.edl.io/BoIQrMqDBRiGKjWEV3Sjf2tgY...</td>\n",
       "      <td>No text</td>\n",
       "      <td>West ISD</td>\n",
       "      <td>pdf</td>\n",
       "      <td>False</td>\n",
       "    </tr>\n",
       "    <tr>\n",
       "      <th>3</th>\n",
       "      <td>3</td>\n",
       "      <td>271</td>\n",
       "      <td>271</td>\n",
       "      <td>271.0</td>\n",
       "      <td>First</td>\n",
       "      <td>http://images.pcmac.org/Uploads/CalallenISD/Ca...</td>\n",
       "      <td>Calallen ISD: Put Us to the Test; We Are the B...</td>\n",
       "      <td>Calallen ISD</td>\n",
       "      <td>pdf</td>\n",
       "      <td>True</td>\n",
       "    </tr>\n",
       "    <tr>\n",
       "      <th>4</th>\n",
       "      <td>4</td>\n",
       "      <td>1020</td>\n",
       "      <td>1020</td>\n",
       "      <td>1020.0</td>\n",
       "      <td>Second</td>\n",
       "      <td>https://4.files.edl.io/436e/05/11/18/191230-4e...</td>\n",
       "      <td>Microsoft Word - Alto ISD Calendar 2018-2019 J...</td>\n",
       "      <td>Alto ISD</td>\n",
       "      <td>pdf</td>\n",
       "      <td>False</td>\n",
       "    </tr>\n",
       "  </tbody>\n",
       "</table>\n",
       "</div>"
      ],
      "text/plain": [
       "   Unnamed: 0  Unnamed: 0.1  Unnamed: 0.1.1  Unnamed: 0.1.1.1   level  \\\n",
       "0           0          2683            2683            2683.0  Second   \n",
       "1           1          1910            1910            1910.0  Second   \n",
       "2           2           455             455             455.0  Second   \n",
       "3           3           271             271             271.0   First   \n",
       "4           4          1020            1020            1020.0  Second   \n",
       "\n",
       "                                                link  \\\n",
       "0  https://www.celinaisd.com/wp-documents/Require...   \n",
       "1  https://www.celinaisd.com/wp-documents/Require...   \n",
       "2  https://1.cdn.edl.io/BoIQrMqDBRiGKjWEV3Sjf2tgY...   \n",
       "3  http://images.pcmac.org/Uploads/CalallenISD/Ca...   \n",
       "4  https://4.files.edl.io/436e/05/11/18/191230-4e...   \n",
       "\n",
       "                                                text         title type  \\\n",
       "0  Date Run: Program: FIN1750 Cnty Dist: Page: 1 ...    Celina ISD  pdf   \n",
       "1  BUDGET RECEIVED TO DATE REMAINING PERCENT REMA...    Celina ISD  pdf   \n",
       "2                                            No text      West ISD  pdf   \n",
       "3  Calallen ISD: Put Us to the Test; We Are the B...  Calallen ISD  pdf   \n",
       "4  Microsoft Word - Alto ISD Calendar 2018-2019 J...      Alto ISD  pdf   \n",
       "\n",
       "   innovation_plan  \n",
       "0            False  \n",
       "1            False  \n",
       "2            False  \n",
       "3             True  \n",
       "4            False  "
      ]
     },
     "execution_count": 4,
     "metadata": {},
     "output_type": "execute_result"
    }
   ],
   "source": [
    "labeled_docs = pd.read_csv(os.path.join(os.getcwd(), '..', '..', 'data', 'docs_to_label.csv'))\n",
    "labeled_docs['innovation_plan'] = [\n",
    "         False, False, False, True, False,\n",
    "         False, True, False, False, False,\n",
    "         False, False, False, False, False,\n",
    "         False, False, False, False, False,\n",
    "    \n",
    "         True, True, False, True, False,\n",
    "         False, True, True, True, False,\n",
    "         False, False, False, True, False,\n",
    "         False, False, False, False, False,\n",
    "    \n",
    "         False, False, False, False, False,\n",
    "         False, False, False, False, False,\n",
    "         False, False, False, False, False,\n",
    "         False, False, False, True, False,\n",
    "    \n",
    "         False, True, False, False, True, \n",
    "         False, False, False, False, True,\n",
    "         False, False, False, False, False,\n",
    "         False, False, False, False, False, \n",
    "        \n",
    "         True, True, False, False, False, \n",
    "         True, False, False, True, False, \n",
    "         False, False, False, False, False, \n",
    "         False, True, True, False, True,\n",
    "\n",
    "         False, True, False, False, False, \n",
    "         False, False, True, True, False, \n",
    "         False, True, True, False, False, \n",
    "         False, False, False, False, False, \n",
    "\n",
    "         False, False, True, False, False, \n",
    "         False, True, True, False, False, \n",
    "         False, False, False, True, False, \n",
    "         False, False, True, True, False]\n",
    "print(labeled_docs['innovation_plan'].value_counts())\n",
    "labeled_docs.head(5)"
   ]
  },
  {
   "cell_type": "markdown",
   "metadata": {},
   "source": [
    "This adds extra trues to data used for training, but not testing. "
   ]
  },
  {
   "cell_type": "code",
   "execution_count": 5,
   "metadata": {},
   "outputs": [
    {
     "name": "stdout",
     "output_type": "stream",
     "text": [
      "New number of labelled documents =  260\n"
     ]
    }
   ],
   "source": [
    "if add_extra_trues:\n",
    "    docs_true = pd.read_csv(os.path.join(os.getcwd(), '..', '..', 'data', 'text_scraped.csv'))\n",
    "    docs_true = docs_true[docs_true.level == 'First']\n",
    "    docs_true = docs_true[docs_true.text != 'UNAVAILABLE']\n",
    "    docs_true = docs_true[docs_true.text != 'No text']\n",
    "    docs_true = docs_true[~docs_true.text.str.contains('Page Not Found')]\n",
    "    \n",
    "    #docs_true = docs_true[docs_true.level == 'First'][docs_true.text != 'UNAVAILABLE'][docs_true.text != 'No text']['Page Not Found' not in docs_true.text]\n",
    "    docs_true = docs_true.sample(n = num_new_true)\n",
    "    docs_true['innovation_plan'] = True\n",
    "    # when we split into training and testing, all of the trues will be in training. \n",
    "    labeled_docs = docs_true.append(labeled_docs, ignore_index = True, sort = False) \n",
    "    print('New number of labelled documents = ', len(labeled_docs))\n",
    "    labeled_docs.head()"
   ]
  },
  {
   "cell_type": "code",
   "execution_count": 6,
   "metadata": {},
   "outputs": [
    {
     "name": "stdout",
     "output_type": "stream",
     "text": [
      "The first n-30 of documents are used for training. Training dataset statistics:\n",
      "True     143\n",
      "False     87\n",
      "Name: innovation_plan, dtype: int64\n",
      "The last 30 of documents are used for testing. Testing dataset statistics:\n",
      "False    22\n",
      "True      8\n",
      "Name: innovation_plan, dtype: int64\n"
     ]
    }
   ],
   "source": [
    "print('The first n-30 of documents are used for training. Training dataset statistics:')\n",
    "split = int(len(labeled_docs) - 30)\n",
    "print(labeled_docs.head(split)['innovation_plan'].value_counts())\n",
    "\n",
    "print('The last 30 of documents are used for testing. Testing dataset statistics:')\n",
    "print(labeled_docs.tail(30)['innovation_plan'].value_counts())"
   ]
  },
  {
   "cell_type": "markdown",
   "metadata": {},
   "source": [
    "## Train Classifier and Save"
   ]
  },
  {
   "cell_type": "code",
   "execution_count": 8,
   "metadata": {
    "collapsed": true
   },
   "outputs": [],
   "source": [
    "texts, cats = classify.reformat_cat_from_df(df = labeled_docs,\n",
    "                                      text_col = 'text',\n",
    "                                      label_col = 'innovation_plan',\n",
    "                                      category = 'INNOVATION')\n",
    "\n",
    "texts = [i[:10000] for i in texts]"
   ]
  },
  {
   "cell_type": "code",
   "execution_count": 9,
   "metadata": {
    "collapsed": true
   },
   "outputs": [],
   "source": [
    "output_dir = os.path.join(os.getcwd(), '..', '..', 'data', 'document_classifier')"
   ]
  },
  {
   "cell_type": "code",
   "execution_count": 10,
   "metadata": {
    "scrolled": true
   },
   "outputs": [
    {
     "name": "stderr",
     "output_type": "stream",
     "text": [
      "/Users/kylieleblancKylie/anaconda/envs/spacy/lib/python3.7/importlib/_bootstrap.py:219: RuntimeWarning: numpy.dtype size changed, may indicate binary incompatibility. Expected 96, got 88\n",
      "  return f(*args, **kwds)\n",
      "/Users/kylieleblancKylie/anaconda/envs/spacy/lib/python3.7/importlib/_bootstrap.py:219: RuntimeWarning: numpy.ufunc size changed, may indicate binary incompatibility. Expected 192, got 176\n",
      "  return f(*args, **kwds)\n"
     ]
    },
    {
     "name": "stdout",
     "output_type": "stream",
     "text": [
      "Created blank 'en' model\n",
      "Loading IMDB data...\n",
      "Using 260 examples (230 training, 30 evaluation)\n",
      "Warning: Unnamed vectors -- this won't allow multiple vectors models to be loaded. (Shape: (0, 0))\n",
      "Training the model...\n",
      "LOSS \t  P  \t  R  \t  F  \n",
      "Page not found – Celina ISD Skip to content Our Schools Home News Calendar District Our Schools About Athletics Community\n",
      "{'INNOVATION': False}\n",
      "INNOVATION 0.6227318048477173 False\n",
      "District of Innovation Plan (FINAL) Inspiring & Empowering Learners INTRODUCTION HB 1842 was passed during the 84th Texas\n",
      "{'INNOVATION': True}\n",
      "INNOVATION 0.9999545812606812 True\n",
      "SUNRAY ISD District of Innovation Plan 2 District of Innovation Plan Table of Contents Introduction……………\n",
      "{'INNOVATION': True}\n",
      "INNOVATION 0.9999545812606812 True\n",
      "BUDGET RECEIVED TO DATE REMAINING PERCENT REMAINING REVENUES: 5751 REVENUE FROM MEALS SERVED 704,188.00$ 496,615.57$ 207,572.43$\n",
      "{'INNOVATION': False}\n",
      "INNOVATION 0.000957601354457438 False\n",
      "Date Run: Program: FIN1750 Cnty Dist: Page: 1 of File ID: CFrom 01-01\n",
      "{'INNOVATION': False}\n",
      "INNOVATION 4.539787187241018e-05 False\n",
      "Scanned from a Xerox multifunction device (5).pdf\n",
      "{'INNOVATION': False}\n",
      "INNOVATION 0.05477028340101242 False\n",
      "No text\n",
      "{'INNOVATION': False}\n",
      "INNOVATION 4.539787187241018e-05 False\n",
      "Texas Education Agency 2014-15 School Report Card CHILLICOTHE EL (099902101) District Name: Campus Type:\n",
      "{'INNOVATION': False}\n",
      "INNOVATION 0.0030342962127178907 False\n",
      "[Your school's name] Student Handbook SULPHUR SPRINGS MIDDLE SCHOOL 835 Wildcat Way, Sulphur Springs, TX\n",
      "{'INNOVATION': False}\n",
      "INNOVATION 0.14754439890384674 False\n",
      "Topic: LEADERSHIP TEAM SERVICES SUDAN ISD © 2016 TASB. ALL RIGHTS RESERVED. FOR IN-DISTRICT USE\n",
      "{'INNOVATION': False}\n",
      "INNOVATION 0.9999545812606812 False\n",
      "Improvement Plan Lago Vista Independent School District Lago Vista High School 2016-2017 Campus Improvement Plan Accountability Rating:\n",
      "{'INNOVATION': False}\n",
      "INNOVATION 0.9999545812606812 False\n",
      "Grading Cycle First Semester 1st Six Weeks—Aug. 13-Sept. 21=29 Days 2nd Six Weeks—Sept.\n",
      "{'INNOVATION': False}\n",
      "INNOVATION 5.353659435058944e-05 False\n",
      "Graford Independent School District District of Innovation Plan Composed February 2017 District of Innovation Committee Wes Corzine – Elementary Principal\n",
      "{'INNOVATION': True}\n",
      "INNOVATION 0.9999545812606812 True\n",
      "Tom Bean ISD District of Innovation Planning Committee Kelly Lusk Superintendent Shauna Hale High School Teacher Penny Lacy Elementary Teacher\n",
      "{'INNOVATION': False}\n",
      "INNOVATION 0.3763258159160614 False\n",
      "No text\n",
      "{'INNOVATION': False}\n",
      "INNOVATION 4.539787187241018e-05 False\n",
      "UTILITIES 17-18 MONTHAT&T AT&T INTERNETAT&T LONG DISTANCEAT&T UVERSEATMOS CITY OF CELINADIR-Long DistanceGCEC GC COMMMARILEE WATERNESTLE WC\n",
      "{'INNOVATION': False}\n",
      "INNOVATION 4.539787187241018e-05 False\n",
      "Microsoft Word - 2017 District of Innovation Plan 5 11 17 Final.docx Goodrich ISD District of Innovation Plan Introduction House\n",
      "{'INNOVATION': True}\n",
      "INNOVATION 0.9999545812606812 True\n",
      "Leverett’s Chapel Independent School District of Innovation Plan I. Introduction HB 1842 was passed during the 84th Texas Legislative\n",
      "{'INNOVATION': True}\n",
      "INNOVATION 0.9999545812606812 True\n",
      "District of Innovation Advisory Committee Approved by CISD Board of Trustees January 26,2017 Educators • Shelley Alvine, intermediate school\n",
      "{'INNOVATION': False}\n",
      "INNOVATION 0.4139794409275055 False\n",
      "UNAVAILABLE\n",
      "{'INNOVATION': False}\n",
      "INNOVATION 4.539787187241018e-05 False\n",
      "ABSENCE FROM DUTY REPORT ABSENCE FROM DUTY REPORT EMPLOYEE:__________\n",
      "{'INNOVATION': False}\n",
      "INNOVATION 4.539787187241018e-05 False\n",
      "District of Innovation – About – White Settlement ISD White Settlement Independent School District Skip to main content Mobile Menu\n",
      "{'INNOVATION': False}\n",
      "INNOVATION 0.9999545812606812 False\n",
      "No text\n",
      "{'INNOVATION': False}\n",
      "INNOVATION 4.539787187241018e-05 False\n",
      "District Of Innovation Plan MEXIA ISD District Of Innovation Plan 2017-2022 Board Approved: 3/27/2017 INTRODUCTION House Bill\n",
      "{'INNOVATION': True}\n",
      "INNOVATION 0.9999545812606812 True\n",
      "Microsoft Word - Document1 ZAPATA COUNTY INDEPENDENT SCHOOL DISTRICT Agenda Public Hearing on Designation as a District of Innovation As\n",
      "{'INNOVATION': False}\n",
      "INNOVATION 0.9892933368682861 False\n",
      "1 Wharton Independent School District 2100 N Fulton St Wharton, TX 77488 Phone: 979-532-3612\n",
      "{'INNOVATION': False}\n",
      "INNOVATION 0.9999545812606812 False\n",
      "District of Innovation / Overview Skip to Main Content District Home Select a School... Select a School Austin Elementary\n",
      "{'INNOVATION': False}\n",
      "INNOVATION 0.8150588274002075 False\n",
      "Microsoft Word - District of innovation plan.docx Grandview ISD District of Innovation Plan Introduction House Bill 1842, passed during\n",
      "{'INNOVATION': True}\n",
      "INNOVATION 0.9996367692947388 True\n",
      "*** PENDING BOARD APPROVAL *** Hughes Springs ISD District of Innovation Plan April 11, 2017\n",
      "{'INNOVATION': True}\n",
      "INNOVATION 0.9999545812606812 True\n",
      "untitled DECLARACIÓN DE DERECHOS DE LOS PROPIETARIOS EN TEXAS PREPARADO POR PROCURADURÍA GENERAL DE TEXAS 1. Usted tiene derecho\n",
      "{'INNOVATION': False}\n",
      "INNOVATION 0.2180900126695633 False\n",
      "15.592\t0.533\t1.000\t0.696\n",
      "Page not found – Celina ISD Skip to content Our Schools Home News Calendar District Our Schools About Athletics Community\n",
      "{'INNOVATION': False}\n",
      "INNOVATION 4.570350210997276e-05 False\n",
      "District of Innovation Plan (FINAL) Inspiring & Empowering Learners INTRODUCTION HB 1842 was passed during the 84th Texas\n",
      "{'INNOVATION': True}\n",
      "INNOVATION 0.9999545812606812 True\n",
      "SUNRAY ISD District of Innovation Plan 2 District of Innovation Plan Table of Contents Introduction……………\n",
      "{'INNOVATION': True}\n",
      "INNOVATION 0.9999545812606812 True\n",
      "BUDGET RECEIVED TO DATE REMAINING PERCENT REMAINING REVENUES: 5751 REVENUE FROM MEALS SERVED 704,188.00$ 496,615.57$ 207,572.43$\n",
      "{'INNOVATION': False}\n",
      "INNOVATION 4.539787187241018e-05 False\n",
      "Date Run: Program: FIN1750 Cnty Dist: Page: 1 of File ID: CFrom 01-01\n",
      "{'INNOVATION': False}\n",
      "INNOVATION 4.539787187241018e-05 False\n",
      "Scanned from a Xerox multifunction device (5).pdf\n",
      "{'INNOVATION': False}\n",
      "INNOVATION 0.00010595829371595755 False\n",
      "No text\n",
      "{'INNOVATION': False}\n",
      "INNOVATION 4.539787187241018e-05 False\n",
      "Texas Education Agency 2014-15 School Report Card CHILLICOTHE EL (099902101) District Name: Campus Type:\n",
      "{'INNOVATION': False}\n",
      "INNOVATION 4.539787187241018e-05 False\n",
      "[Your school's name] Student Handbook SULPHUR SPRINGS MIDDLE SCHOOL 835 Wildcat Way, Sulphur Springs, TX\n",
      "{'INNOVATION': False}\n",
      "INNOVATION 4.539787187241018e-05 False\n",
      "Topic: LEADERSHIP TEAM SERVICES SUDAN ISD © 2016 TASB. ALL RIGHTS RESERVED. FOR IN-DISTRICT USE\n",
      "{'INNOVATION': False}\n",
      "INNOVATION 0.8109046220779419 False\n",
      "Improvement Plan Lago Vista Independent School District Lago Vista High School 2016-2017 Campus Improvement Plan Accountability Rating:\n",
      "{'INNOVATION': False}\n",
      "INNOVATION 0.9999545812606812 False\n",
      "Grading Cycle First Semester 1st Six Weeks—Aug. 13-Sept. 21=29 Days 2nd Six Weeks—Sept.\n",
      "{'INNOVATION': False}\n",
      "INNOVATION 4.539787187241018e-05 False\n",
      "Graford Independent School District District of Innovation Plan Composed February 2017 District of Innovation Committee Wes Corzine – Elementary Principal\n",
      "{'INNOVATION': True}\n",
      "INNOVATION 0.9999545812606812 True\n",
      "Tom Bean ISD District of Innovation Planning Committee Kelly Lusk Superintendent Shauna Hale High School Teacher Penny Lacy Elementary Teacher\n",
      "{'INNOVATION': False}\n",
      "INNOVATION 0.0015521574532613158 False\n",
      "No text\n",
      "{'INNOVATION': False}\n",
      "INNOVATION 4.539787187241018e-05 False\n",
      "UTILITIES 17-18 MONTHAT&T AT&T INTERNETAT&T LONG DISTANCEAT&T UVERSEATMOS CITY OF CELINADIR-Long DistanceGCEC GC COMMMARILEE WATERNESTLE WC\n",
      "{'INNOVATION': False}\n",
      "INNOVATION 4.539787187241018e-05 False\n",
      "Microsoft Word - 2017 District of Innovation Plan 5 11 17 Final.docx Goodrich ISD District of Innovation Plan Introduction House\n",
      "{'INNOVATION': True}\n",
      "INNOVATION 0.9998884201049805 True\n",
      "Leverett’s Chapel Independent School District of Innovation Plan I. Introduction HB 1842 was passed during the 84th Texas Legislative\n",
      "{'INNOVATION': True}\n",
      "INNOVATION 0.9999545812606812 True\n",
      "District of Innovation Advisory Committee Approved by CISD Board of Trustees January 26,2017 Educators • Shelley Alvine, intermediate school\n",
      "{'INNOVATION': False}\n",
      "INNOVATION 0.05138987675309181 False\n",
      "UNAVAILABLE\n",
      "{'INNOVATION': False}\n",
      "INNOVATION 4.539787187241018e-05 False\n",
      "ABSENCE FROM DUTY REPORT ABSENCE FROM DUTY REPORT EMPLOYEE:__________\n",
      "{'INNOVATION': False}\n",
      "INNOVATION 0.8685500025749207 False\n",
      "District of Innovation – About – White Settlement ISD White Settlement Independent School District Skip to main content Mobile Menu\n",
      "{'INNOVATION': False}\n",
      "INNOVATION 0.9989112615585327 False\n",
      "No text\n",
      "{'INNOVATION': False}\n",
      "INNOVATION 4.539787187241018e-05 False\n",
      "District Of Innovation Plan MEXIA ISD District Of Innovation Plan 2017-2022 Board Approved: 3/27/2017 INTRODUCTION House Bill\n",
      "{'INNOVATION': True}\n",
      "INNOVATION 0.9999545812606812 True\n",
      "Microsoft Word - Document1 ZAPATA COUNTY INDEPENDENT SCHOOL DISTRICT Agenda Public Hearing on Designation as a District of Innovation As\n",
      "{'INNOVATION': False}\n",
      "INNOVATION 0.3390459418296814 False\n",
      "1 Wharton Independent School District 2100 N Fulton St Wharton, TX 77488 Phone: 979-532-3612\n",
      "{'INNOVATION': False}\n",
      "INNOVATION 0.9078848361968994 False\n",
      "District of Innovation / Overview Skip to Main Content District Home Select a School... Select a School Austin Elementary\n",
      "{'INNOVATION': False}\n",
      "INNOVATION 6.474952533608302e-05 False\n",
      "Microsoft Word - District of innovation plan.docx Grandview ISD District of Innovation Plan Introduction House Bill 1842, passed during\n",
      "{'INNOVATION': True}\n",
      "INNOVATION 0.9937944412231445 True\n",
      "*** PENDING BOARD APPROVAL *** Hughes Springs ISD District of Innovation Plan April 11, 2017\n",
      "{'INNOVATION': True}\n",
      "INNOVATION 0.9999545812606812 True\n",
      "untitled DECLARACIÓN DE DERECHOS DE LOS PROPIETARIOS EN TEXAS PREPARADO POR PROCURADURÍA GENERAL DE TEXAS 1. Usted tiene derecho\n",
      "{'INNOVATION': False}\n",
      "INNOVATION 4.539787187241018e-05 False\n",
      "4.530\t0.615\t1.000\t0.762\n"
     ]
    },
    {
     "name": "stdout",
     "output_type": "stream",
     "text": [
      "Page not found – Celina ISD Skip to content Our Schools Home News Calendar District Our Schools About Athletics Community\n",
      "{'INNOVATION': False}\n",
      "INNOVATION 0.0001987871655728668 False\n",
      "District of Innovation Plan (FINAL) Inspiring & Empowering Learners INTRODUCTION HB 1842 was passed during the 84th Texas\n",
      "{'INNOVATION': True}\n",
      "INNOVATION 0.9999545812606812 True\n",
      "SUNRAY ISD District of Innovation Plan 2 District of Innovation Plan Table of Contents Introduction……………\n",
      "{'INNOVATION': True}\n",
      "INNOVATION 0.9999545812606812 True\n",
      "BUDGET RECEIVED TO DATE REMAINING PERCENT REMAINING REVENUES: 5751 REVENUE FROM MEALS SERVED 704,188.00$ 496,615.57$ 207,572.43$\n",
      "{'INNOVATION': False}\n",
      "INNOVATION 9.943953773472458e-05 False\n",
      "Date Run: Program: FIN1750 Cnty Dist: Page: 1 of File ID: CFrom 01-01\n",
      "{'INNOVATION': False}\n",
      "INNOVATION 4.539787187241018e-05 False\n",
      "Scanned from a Xerox multifunction device (5).pdf\n",
      "{'INNOVATION': False}\n",
      "INNOVATION 0.023033620789647102 False\n",
      "No text\n",
      "{'INNOVATION': False}\n",
      "INNOVATION 4.539787187241018e-05 False\n",
      "Texas Education Agency 2014-15 School Report Card CHILLICOTHE EL (099902101) District Name: Campus Type:\n",
      "{'INNOVATION': False}\n",
      "INNOVATION 4.539787187241018e-05 False\n",
      "[Your school's name] Student Handbook SULPHUR SPRINGS MIDDLE SCHOOL 835 Wildcat Way, Sulphur Springs, TX\n",
      "{'INNOVATION': False}\n",
      "INNOVATION 4.539787187241018e-05 False\n",
      "Topic: LEADERSHIP TEAM SERVICES SUDAN ISD © 2016 TASB. ALL RIGHTS RESERVED. FOR IN-DISTRICT USE\n",
      "{'INNOVATION': False}\n",
      "INNOVATION 0.8185803890228271 False\n",
      "Improvement Plan Lago Vista Independent School District Lago Vista High School 2016-2017 Campus Improvement Plan Accountability Rating:\n",
      "{'INNOVATION': False}\n",
      "INNOVATION 0.9999545812606812 False\n",
      "Grading Cycle First Semester 1st Six Weeks—Aug. 13-Sept. 21=29 Days 2nd Six Weeks—Sept.\n",
      "{'INNOVATION': False}\n",
      "INNOVATION 4.539787187241018e-05 False\n",
      "Graford Independent School District District of Innovation Plan Composed February 2017 District of Innovation Committee Wes Corzine – Elementary Principal\n",
      "{'INNOVATION': True}\n",
      "INNOVATION 0.9999545812606812 True\n",
      "Tom Bean ISD District of Innovation Planning Committee Kelly Lusk Superintendent Shauna Hale High School Teacher Penny Lacy Elementary Teacher\n",
      "{'INNOVATION': False}\n",
      "INNOVATION 0.0036242760252207518 False\n",
      "No text\n",
      "{'INNOVATION': False}\n",
      "INNOVATION 4.539787187241018e-05 False\n",
      "UTILITIES 17-18 MONTHAT&T AT&T INTERNETAT&T LONG DISTANCEAT&T UVERSEATMOS CITY OF CELINADIR-Long DistanceGCEC GC COMMMARILEE WATERNESTLE WC\n",
      "{'INNOVATION': False}\n",
      "INNOVATION 4.539787187241018e-05 False\n",
      "Microsoft Word - 2017 District of Innovation Plan 5 11 17 Final.docx Goodrich ISD District of Innovation Plan Introduction House\n",
      "{'INNOVATION': True}\n",
      "INNOVATION 0.9999545812606812 True\n",
      "Leverett’s Chapel Independent School District of Innovation Plan I. Introduction HB 1842 was passed during the 84th Texas Legislative\n",
      "{'INNOVATION': True}\n",
      "INNOVATION 0.9999545812606812 True\n",
      "District of Innovation Advisory Committee Approved by CISD Board of Trustees January 26,2017 Educators • Shelley Alvine, intermediate school\n",
      "{'INNOVATION': False}\n",
      "INNOVATION 0.02122107520699501 False\n",
      "UNAVAILABLE\n",
      "{'INNOVATION': False}\n",
      "INNOVATION 5.807548586744815e-05 False\n",
      "ABSENCE FROM DUTY REPORT ABSENCE FROM DUTY REPORT EMPLOYEE:__________\n",
      "{'INNOVATION': False}\n",
      "INNOVATION 6.20771897956729e-05 False\n",
      "District of Innovation – About – White Settlement ISD White Settlement Independent School District Skip to main content Mobile Menu\n",
      "{'INNOVATION': False}\n",
      "INNOVATION 0.9999545812606812 False\n",
      "No text\n",
      "{'INNOVATION': False}\n",
      "INNOVATION 4.539787187241018e-05 False\n",
      "District Of Innovation Plan MEXIA ISD District Of Innovation Plan 2017-2022 Board Approved: 3/27/2017 INTRODUCTION House Bill\n",
      "{'INNOVATION': True}\n",
      "INNOVATION 0.9999545812606812 True\n",
      "Microsoft Word - Document1 ZAPATA COUNTY INDEPENDENT SCHOOL DISTRICT Agenda Public Hearing on Designation as a District of Innovation As\n",
      "{'INNOVATION': False}\n",
      "INNOVATION 0.8589696884155273 False\n",
      "1 Wharton Independent School District 2100 N Fulton St Wharton, TX 77488 Phone: 979-532-3612\n",
      "{'INNOVATION': False}\n",
      "INNOVATION 0.9880414009094238 False\n",
      "District of Innovation / Overview Skip to Main Content District Home Select a School... Select a School Austin Elementary\n",
      "{'INNOVATION': False}\n",
      "INNOVATION 0.002027560956776142 False\n",
      "Microsoft Word - District of innovation plan.docx Grandview ISD District of Innovation Plan Introduction House Bill 1842, passed during\n",
      "{'INNOVATION': True}\n",
      "INNOVATION 0.9999114274978638 True\n",
      "*** PENDING BOARD APPROVAL *** Hughes Springs ISD District of Innovation Plan April 11, 2017\n",
      "{'INNOVATION': True}\n",
      "INNOVATION 0.9999545812606812 True\n",
      "untitled DECLARACIÓN DE DERECHOS DE LOS PROPIETARIOS EN TEXAS PREPARADO POR PROCURADURÍA GENERAL DE TEXAS 1. Usted tiene derecho\n",
      "{'INNOVATION': False}\n",
      "INNOVATION 4.539787187241018e-05 False\n",
      "1.786\t0.615\t1.000\t0.762\n",
      "Page not found – Celina ISD Skip to content Our Schools Home News Calendar District Our Schools About Athletics Community\n",
      "{'INNOVATION': False}\n",
      "INNOVATION 0.00026260886806994677 False\n",
      "District of Innovation Plan (FINAL) Inspiring & Empowering Learners INTRODUCTION HB 1842 was passed during the 84th Texas\n",
      "{'INNOVATION': True}\n",
      "INNOVATION 0.9999545812606812 True\n",
      "SUNRAY ISD District of Innovation Plan 2 District of Innovation Plan Table of Contents Introduction……………\n",
      "{'INNOVATION': True}\n",
      "INNOVATION 0.9999545812606812 True\n",
      "BUDGET RECEIVED TO DATE REMAINING PERCENT REMAINING REVENUES: 5751 REVENUE FROM MEALS SERVED 704,188.00$ 496,615.57$ 207,572.43$\n",
      "{'INNOVATION': False}\n",
      "INNOVATION 5.429081284091808e-05 False\n",
      "Date Run: Program: FIN1750 Cnty Dist: Page: 1 of File ID: CFrom 01-01\n",
      "{'INNOVATION': False}\n",
      "INNOVATION 4.539787187241018e-05 False\n",
      "Scanned from a Xerox multifunction device (5).pdf\n",
      "{'INNOVATION': False}\n",
      "INNOVATION 0.00978607963770628 False\n",
      "No text\n",
      "{'INNOVATION': False}\n",
      "INNOVATION 4.539787187241018e-05 False\n",
      "Texas Education Agency 2014-15 School Report Card CHILLICOTHE EL (099902101) District Name: Campus Type:\n",
      "{'INNOVATION': False}\n",
      "INNOVATION 4.539787187241018e-05 False\n",
      "[Your school's name] Student Handbook SULPHUR SPRINGS MIDDLE SCHOOL 835 Wildcat Way, Sulphur Springs, TX\n",
      "{'INNOVATION': False}\n",
      "INNOVATION 4.539787187241018e-05 False\n",
      "Topic: LEADERSHIP TEAM SERVICES SUDAN ISD © 2016 TASB. ALL RIGHTS RESERVED. FOR IN-DISTRICT USE\n",
      "{'INNOVATION': False}\n",
      "INNOVATION 0.9973223805427551 False\n",
      "Improvement Plan Lago Vista Independent School District Lago Vista High School 2016-2017 Campus Improvement Plan Accountability Rating:\n",
      "{'INNOVATION': False}\n",
      "INNOVATION 0.9999545812606812 False\n",
      "Grading Cycle First Semester 1st Six Weeks—Aug. 13-Sept. 21=29 Days 2nd Six Weeks—Sept.\n",
      "{'INNOVATION': False}\n",
      "INNOVATION 4.539787187241018e-05 False\n",
      "Graford Independent School District District of Innovation Plan Composed February 2017 District of Innovation Committee Wes Corzine – Elementary Principal\n",
      "{'INNOVATION': True}\n",
      "INNOVATION 0.9999545812606812 True\n",
      "Tom Bean ISD District of Innovation Planning Committee Kelly Lusk Superintendent Shauna Hale High School Teacher Penny Lacy Elementary Teacher\n",
      "{'INNOVATION': False}\n",
      "INNOVATION 0.010435903444886208 False\n",
      "No text\n",
      "{'INNOVATION': False}\n",
      "INNOVATION 4.539787187241018e-05 False\n",
      "UTILITIES 17-18 MONTHAT&T AT&T INTERNETAT&T LONG DISTANCEAT&T UVERSEATMOS CITY OF CELINADIR-Long DistanceGCEC GC COMMMARILEE WATERNESTLE WC\n",
      "{'INNOVATION': False}\n",
      "INNOVATION 4.539787187241018e-05 False\n",
      "Microsoft Word - 2017 District of Innovation Plan 5 11 17 Final.docx Goodrich ISD District of Innovation Plan Introduction House\n",
      "{'INNOVATION': True}\n",
      "INNOVATION 0.9999545812606812 True\n",
      "Leverett’s Chapel Independent School District of Innovation Plan I. Introduction HB 1842 was passed during the 84th Texas Legislative\n",
      "{'INNOVATION': True}\n",
      "INNOVATION 0.9999545812606812 True\n",
      "District of Innovation Advisory Committee Approved by CISD Board of Trustees January 26,2017 Educators • Shelley Alvine, intermediate school\n",
      "{'INNOVATION': False}\n",
      "INNOVATION 0.004609659779816866 False\n",
      "UNAVAILABLE\n",
      "{'INNOVATION': False}\n",
      "INNOVATION 4.539787187241018e-05 False\n",
      "ABSENCE FROM DUTY REPORT ABSENCE FROM DUTY REPORT EMPLOYEE:__________\n",
      "{'INNOVATION': False}\n",
      "INNOVATION 4.539787187241018e-05 False\n",
      "District of Innovation – About – White Settlement ISD White Settlement Independent School District Skip to main content Mobile Menu\n",
      "{'INNOVATION': False}\n",
      "INNOVATION 0.9999545812606812 False\n",
      "No text\n",
      "{'INNOVATION': False}\n",
      "INNOVATION 4.539787187241018e-05 False\n",
      "District Of Innovation Plan MEXIA ISD District Of Innovation Plan 2017-2022 Board Approved: 3/27/2017 INTRODUCTION House Bill\n",
      "{'INNOVATION': True}\n",
      "INNOVATION 0.9999545812606812 True\n",
      "Microsoft Word - Document1 ZAPATA COUNTY INDEPENDENT SCHOOL DISTRICT Agenda Public Hearing on Designation as a District of Innovation As\n",
      "{'INNOVATION': False}\n",
      "INNOVATION 0.9421103596687317 False\n",
      "1 Wharton Independent School District 2100 N Fulton St Wharton, TX 77488 Phone: 979-532-3612\n",
      "{'INNOVATION': False}\n",
      "INNOVATION 0.9998277425765991 False\n",
      "District of Innovation / Overview Skip to Main Content District Home Select a School... Select a School Austin Elementary\n",
      "{'INNOVATION': False}\n",
      "INNOVATION 0.003924897871911526 False\n",
      "Microsoft Word - District of innovation plan.docx Grandview ISD District of Innovation Plan Introduction House Bill 1842, passed during\n",
      "{'INNOVATION': True}\n",
      "INNOVATION 0.9999545812606812 True\n",
      "*** PENDING BOARD APPROVAL *** Hughes Springs ISD District of Innovation Plan April 11, 2017\n",
      "{'INNOVATION': True}\n",
      "INNOVATION 0.9999545812606812 True\n",
      "untitled DECLARACIÓN DE DERECHOS DE LOS PROPIETARIOS EN TEXAS PREPARADO POR PROCURADURÍA GENERAL DE TEXAS 1. Usted tiene derecho\n",
      "{'INNOVATION': False}\n",
      "INNOVATION 4.539787187241018e-05 False\n",
      "2.089\t0.615\t1.000\t0.762\n",
      "This movie sucked {'INNOVATION': 4.539787187241018e-05}\n",
      "Saved model to /Users/kylieleblancKylie/dofis/code/exemptions/../../data/document_classifier\n",
      "Loading from /Users/kylieleblancKylie/dofis/code/exemptions/../../data/document_classifier\n"
     ]
    },
    {
     "name": "stdout",
     "output_type": "stream",
     "text": [
      "This movie sucked {'INNOVATION': 4.539787187241018e-05}\n"
     ]
    }
   ],
   "source": [
    "test_model = classify.train_classifier_and_evaluate(texts=texts, \n",
    "                                                    cats=cats, \n",
    "                                                    model=None, \n",
    "                                                    output_dir=output_dir, \n",
    "                                                    n_iter=4, \n",
    "                                                    categories=['INNOVATION'])"
   ]
  },
  {
   "cell_type": "code",
   "execution_count": 11,
   "metadata": {},
   "outputs": [
    {
     "data": {
      "text/plain": [
       "'Graford Independent School District District of Innovation Plan Composed February 2017 District of Innovation Committee Wes Corzine – Elementary Principal Lori Henderson – Secondary Principal Ty Tabor – Athletic Director Jamye Hayes – Elementary Teacher Chris Thompson – Director of Technology District of Innovation Timeline December 15 Board Resolution to start process January 26 Public Hearing Board Appoints district committee February 2, 6, 9, 17 Committee meets February 14, 16 Public Information meetings February 23 Committee reports to Board on recommendations March 9 DOI Plan approved by District SBDM and post to web-site March 30 Review of DOI plan by Board and plan to notify TEA of intent April 27 Board final approval of DOI Paperwork submitted to TEA District of Innovation – HB 1842 The District of Innovation concept, passed by the 84th Legislative Session in House Bill 1842, gives traditional independent school districts most of the flexibilities available to Texas open-enrollment charter schools. Being a District of Innovation gives more local control, flexibility, and customization to better serve the needs of the local students. Graford ISD District of Innovation Plan START DATE/END DATE Current Law: TEC 25.0811 – A school district may not begin instruction for students before the 4th Monday of August. TEC 25.0812 – A school district may not schedule the last day of school for students for a school year before May 15 GISD Plan: Having the flexibility to start prior to the 4th Monday in August will allow for a more balanced semester calendar, allow for school to be completed prior to Memorial Day, allows for more instruction time prior to the State Assessments given toward the end of the year. With the required 75,600 minutes of instruction requirement, GISD may be able to finish the school year prior to May 15. LENGTH OF SCHOOL DAY Current Law: TEC 25.081 – For each school year each school district must operate so that the district provides for at least 75,600 minutes. A school day consists of 420 minutes of instruction. GISD Plan: Graford ISD plans to occasionally, throughout the school year, have school less than 420 minutes per day. Shortening the school day will allow the flexibility to provide accelerated instruction, staff development, and a number of possibilities to best serve the students of Graford ISD. TEACHER CERTIFICATION Current Law: TEC 21.003 - A person may not be employed as a teacher, teacher intern or teacher trainee, librarian, educational aide, administrator, educational diagnostician, or school counselor by a school district unless the person holds an appropriate certificate. GISD Plan: In order to best serve the students of Graford ISD, decisions on certification will be handled locally. a. An individual with experience in a CTE field could be eligible to teach a vocational skill or course through a local teaching certificate. The principal will submit the request to the superintendent with all the individual’s credentials. The superintendent will then approve the request if they feel the individual could be an asset to students. The superintendent will then report this action to the Board of Trustees prior to the individual beginning any employment. The employee will be at-will. b. This plan will allow more flexibility in our scheduling, allow for filling hard to fill positions, and will provide more options for our students in class offerings. PROBATIONARY CONTRACT Current Law: TEC 21.202 a person who is employed as a teacher by a school district for the first time, or who has not been employed by the district for two consecutive school years subsequent to August 28, 1967, shall be employed under a probationary contract. A person who previously was employed as a teacher by a district and, after at least a two-year lapse in district employment returns to district employment, may be employed under a probationary contract. GISD Plan: The district will have the right to extend the continuation of probationary contract status for teachers with 5 or more years of experience and are new to the District, at the discretion of administration, if it is in the best interest of the district. DESIGNATION OF CAMPUS BEHAVIOR COORDINATOR Current Law: TEC 37.0012. A person at each campus must be designated to serve as the campus behavior coordinator. The person designated may be the principal of the campus or any other campus administrator selected by the principal. GISD Plan: Due to the size of Graford ISD, the district is waiving the requirement of designating a Campus Behavior Coordinator. The discipline decisions of students is made by the Campus Principal when appropriate, otherwise the discipline decision is made by the appropriate administrator/designee. CLASS SIZE Current Law: TEC 25.112. A school district may not enroll more than 22 students in a kindergarten, first, second, third, or fourth grade class. GISD Plan: At the discretion of Administration, Graford ISD may enroll more than 22 students in a class in grades Kindergarten, First, Second, Third or Fourth grade, as appropriate. TEACHER CONTRACTS Current Law: TEC 21.401 (b.) An educator employed under a 10-month contract must provide a minimum of 187 days of service. GISD Plan: Teacher contracts days will be reduced from 187 to 182 with no effect on teacher salaries. This stems from an attempt to align the teacher days to the 75,600 minutes required of students. \\uf0b7 This plan will increase the daily rate the district pays teachers \\uf0b7 This plan will provide teachers more opportunities during the year to seek out beneficial staff development that relates to their field \\uf0b7 This plan should enhance teacher recruitment'"
      ]
     },
     "execution_count": 11,
     "metadata": {},
     "output_type": "execute_result"
    }
   ],
   "source": [
    "labeled_docs[labeled_docs['text'].str.contains('Graford')].text.values[0]"
   ]
  },
  {
   "cell_type": "code",
   "execution_count": 12,
   "metadata": {
    "collapsed": true
   },
   "outputs": [],
   "source": [
    "import spacy\n",
    "nlp = spacy.load('/Users/kylieleblancKylie/dofis/code/exemptions/../../data/document_classifier')"
   ]
  },
  {
   "cell_type": "code",
   "execution_count": 13,
   "metadata": {},
   "outputs": [
    {
     "data": {
      "text/plain": [
       "<spacy.pipeline.TextCategorizer at 0x126322710>"
      ]
     },
     "execution_count": 13,
     "metadata": {},
     "output_type": "execute_result"
    }
   ],
   "source": [
    "nlp.get_pipe('textcat')"
   ]
  },
  {
   "cell_type": "code",
   "execution_count": 14,
   "metadata": {},
   "outputs": [
    {
     "data": {
      "text/plain": [
       "<spacy.pipeline.TextCategorizer at 0x12257c0f0>"
      ]
     },
     "execution_count": 14,
     "metadata": {},
     "output_type": "execute_result"
    }
   ],
   "source": [
    "test_model"
   ]
  },
  {
   "cell_type": "code",
   "execution_count": 15,
   "metadata": {
    "collapsed": true
   },
   "outputs": [],
   "source": [
    "doc = nlp.tokenizer(labeled_docs[labeled_docs['text'].str.contains('MEXIA')].text.values[0])"
   ]
  },
  {
   "cell_type": "code",
   "execution_count": 16,
   "metadata": {},
   "outputs": [
    {
     "name": "stdout",
     "output_type": "stream",
     "text": [
      "District Of Innovation Plan MEXIA ISD District Of Innovation Plan 2017-2022 Board Approved: 3/27/2017 INTRODUCTION House Bill\n",
      "INNOVATION 0.9999545812606812\n"
     ]
    }
   ],
   "source": [
    "for i, doc in enumerate(test_model.pipe([doc])):\n",
    "    print(doc[:20])\n",
    "    for label, score in doc.cats.items():\n",
    "        print(label, score)"
   ]
  },
  {
   "cell_type": "code",
   "execution_count": 17,
   "metadata": {},
   "outputs": [
    {
     "data": {
      "text/plain": [
       "'Graford Independent School District District of Innovation Plan Composed February 2017 District of Innovation Committee Wes Corzine – Elementary Principal Lori Henderson – Secondary Principal Ty Tabor – Athletic Director Jamye Hayes – Elementary Teacher Chris Thompson – Director of Technology District of Innovation Timeline December 15 Board Resolution to start process January 26 Public Hearing Board Appoints district committee February 2, 6, 9, 17 Committee meets February 14, 16 Public Information meetings February 23 Committee reports to Board on recommendations March 9 DOI Plan approved by District SBDM and post to web-site March 30 Review of DOI plan by Board and plan to notify TEA of intent April 27 Board final approval of DOI Paperwork submitted to TEA District of Innovation – HB 1842 The District of Innovation concept, passed by the 84th Legislative Session in House Bill 1842, gives traditional independent school districts most of the flexibilities available to Texas open-enrollment charter schools. Being a District of Innovation gives more local control, flexibility, and customization to better serve the needs of the local students. Graford ISD District of Innovation Plan START DATE/END DATE Current Law: TEC 25.0811 – A school district may not begin instruction for students before the 4th Monday of August. TEC 25.0812 – A school district may not schedule the last day of school for students for a school year before May 15 GISD Plan: Having the flexibility to start prior to the 4th Monday in August will allow for a more balanced semester calendar, allow for school to be completed prior to Memorial Day, allows for more instruction time prior to the State Assessments given toward the end of the year. With the required 75,600 minutes of instruction requirement, GISD may be able to finish the school year prior to May 15. LENGTH OF SCHOOL DAY Current Law: TEC 25.081 – For each school year each school district must operate so that the district provides for at least 75,600 minutes. A school day consists of 420 minutes of instruction. GISD Plan: Graford ISD plans to occasionally, throughout the school year, have school less than 420 minutes per day. Shortening the school day will allow the flexibility to provide accelerated instruction, staff development, and a number of possibilities to best serve the students of Graford ISD. TEACHER CERTIFICATION Current Law: TEC 21.003 - A person may not be employed as a teacher, teacher intern or teacher trainee, librarian, educational aide, administrator, educational diagnostician, or school counselor by a school district unless the person holds an appropriate certificate. GISD Plan: In order to best serve the students of Graford ISD, decisions on certification will be handled locally. a. An individual with experience in a CTE field could be eligible to teach a vocational skill or course through a local teaching certificate. The principal will submit the request to the superintendent with all the individual’s credentials. The superintendent will then approve the request if they feel the individual could be an asset to students. The superintendent will then report this action to the Board of Trustees prior to the individual beginning any employment. The employee will be at-will. b. This plan will allow more flexibility in our scheduling, allow for filling hard to fill positions, and will provide more options for our students in class offerings. PROBATIONARY CONTRACT Current Law: TEC 21.202 a person who is employed as a teacher by a school district for the first time, or who has not been employed by the district for two consecutive school years subsequent to August 28, 1967, shall be employed under a probationary contract. A person who previously was employed as a teacher by a district and, after at least a two-year lapse in district employment returns to district employment, may be employed under a probationary contract. GISD Plan: The district will have the right to extend the continuation of probationary contract status for teachers with 5 or more years of experience and are new to the District, at the discretion of administration, if it is in the best interest of the district. DESIGNATION OF CAMPUS BEHAVIOR COORDINATOR Current Law: TEC 37.0012. A person at each campus must be designated to serve as the campus behavior coordinator. The person designated may be the principal of the campus or any other campus administrator selected by the principal. GISD Plan: Due to the size of Graford ISD, the district is waiving the requirement of designating a Campus Behavior Coordinator. The discipline decisions of students is made by the Campus Principal when appropriate, otherwise the discipline decision is made by the appropriate administrator/designee. CLASS SIZE Current Law: TEC 25.112. A school district may not enroll more than 22 students in a kindergarten, first, second, third, or fourth grade class. GISD Plan: At the discretion of Administration, Graford ISD may enroll more than 22 students in a class in grades Kindergarten, First, Second, Third or Fourth grade, as appropriate. TEACHER CONTRACTS Current Law: TEC 21.401 (b.) An educator employed under a 10-month contract must provide a minimum of 187 days of service. GISD Plan: Teacher contracts days will be reduced from 187 to 182 with no effect on teacher salaries. This stems from an attempt to align the teacher days to the 75,600 minutes required of students. \\uf0b7 This plan will increase the daily rate the district pays teachers \\uf0b7 This plan will provide teachers more opportunities during the year to seek out beneficial staff development that relates to their field \\uf0b7 This plan should enhance teacher recruitment'"
      ]
     },
     "execution_count": 17,
     "metadata": {},
     "output_type": "execute_result"
    }
   ],
   "source": [
    "labeled_docs[labeled_docs['text'].str.contains('Graford')].text.values[0]"
   ]
  },
  {
   "cell_type": "code",
   "execution_count": 18,
   "metadata": {},
   "outputs": [
    {
     "data": {
      "text/plain": [
       "{'INNOVATION': 0.9999545812606812}"
      ]
     },
     "execution_count": 18,
     "metadata": {},
     "output_type": "execute_result"
    }
   ],
   "source": [
    "nlp(labeled_docs[labeled_docs['text'].str.contains('Graford')].text.values[0]).cats"
   ]
  },
  {
   "cell_type": "code",
   "execution_count": 19,
   "metadata": {},
   "outputs": [
    {
     "data": {
      "text/plain": [
       "[{'INNOVATION': 0.9999545812606812},\n",
       " {'INNOVATION': 0.9999545812606812},\n",
       " {'INNOVATION': 0.9999545812606812},\n",
       " {'INNOVATION': 0.9999545812606812},\n",
       " {'INNOVATION': 0.9999545812606812}]"
      ]
     },
     "execution_count": 19,
     "metadata": {},
     "output_type": "execute_result"
    }
   ],
   "source": [
    "[i.cats for i in map(nlp, labeled_docs.head()['text'])]"
   ]
  },
  {
   "cell_type": "code",
   "execution_count": 15,
   "metadata": {},
   "outputs": [
    {
     "data": {
      "text/plain": [
       "0    Final-- District of Innovation—Approved(unanim...\n",
       "1    Cleburne Independent School District Local Inn...\n",
       "2    Chico Independent School District P.O. Box 95 ...\n",
       "3    Douglass ISD District of Innovation Plan (HB 1...\n",
       "4    (Expires March 27, 2022) (Expires March 27, 20...\n",
       "Name: text, dtype: object"
      ]
     },
     "execution_count": 15,
     "metadata": {},
     "output_type": "execute_result"
    }
   ],
   "source": [
    "labeled_docs.head()['text']"
   ]
  },
  {
   "cell_type": "code",
   "execution_count": 43,
   "metadata": {},
   "outputs": [
    {
     "data": {
      "text/plain": [
       "\"Cherokee Independent School District District of Innovation Plan Introduction In order to take advantage of the opportunities afforded to Independent School Districts by HB 1842, Cherokee ISD is seeking to modify Education Code requirements at the local level in order to better meet the needs of our student population. Cherokee ISD is eligible for designation as an innovation district because the district's most recent performance rating under the Texas Education Code (TEC), §39.054, is at least Academically Acceptable, as indicated in the applicable year's academic accountability manual adopted under TEC §97.1001. Cherokee ISD is seeking to become a District of Innovation in order to facilitate areas of concern created by traditional public school restrictions imposed by the legislature through various laws enacted. Those areas specifically addressed in this plan are Teacher Certification requirements, Probationary Contracts, Teacher and Principal Appraisals and the First Day of Instruction. District of Innovation Committee Eldon Franco, Superintendent Randy Gartman, Principal Jennifer Bordner, Dean of Students Vickie Baugh, Business Representative Tiffany Berrio, 504/Inclusion Teacher Stephanie Bond, 6-8 Math Teacher Colt Broyles, Community Representative Kallie Bush, 3-5 Mathematics Teacher Chera O’Neil, Special Education Teacher Susan Shannon, 2nd Grade Teacher Valerie Valdez, Parent Representative Timeline Timeframe Activity Date Implemented October 2016 – February 2017 Community and Staff Involvement in exploring benefits of plan and seeking designation January 2017 – February 2017 March 2017 Presentation to Board and Resolution March 20, 2017 March – April 2017 Posting of Plan in the following areas: Post Office, Three Local Town Meeting Areas and the Administration Building* Plan sent to the Commissioner of Education Minimum of 30 days from March 20, 2017 April 2017 Public Hearing with District of Innovation Committee April 24, 2017 May 2017 Board of Trustees Plan Approval May 8, 2017 June 2017 Implementation/Length of Plan Implementation will be for a maximum of 5 years The District of Innovation Plan Certifications Required (DK(LEGAL), DK(LOCAL), DK(EXHIBIT); TEC 21.003, 21.055) Currently State law requires teachers to hold appropriate certifications by the appropriate state agency in order for a district to employ them. In the likelihood that a district is unable to locate a person with the appropriate certifications, a certified person may teach a subject outside of his or her certification only if the district requests an emergency certification from the Texas Education Agency and/or the State Board of Educator Certification. Rationale for Exemption The current system makes it difficult to hire teachers for high needs core content areas as well as elective content areas. This system does not take into account the unique instructional, financial or community needs of our rural school district. Cherokee employs 20 educators who teach multiple areas within each day. In order for Cherokee to offer additional courses and be flexible in scheduling the district must have the ability to establish local qualification requirements. This would enable the district to employ community members, or current employees, who have working knowledge with limited certification(s). This flexibility would allow the district to hire professionals in areas of vocations, trades and languages. This would also enable the district to expand the CTE program by hiring professional tradesmen in areas such as welding, health science and criminal justice. Innovation Strategies \\uf0b7 The process begins with the principal. The principal will interview the already certified teaching candidate and request all necessary credentials from the candidate as they relate to position. This will only be to allow the candidate to teach one subject outside of candidate’s teaching certifications. Once the information is gathered the principal will begin the following process: o The reason for the request and credentials supporting qualification of the candidate to the superintendent o The superintendent will then evaluate the information presented and choose whether or not to take it to the Board for approval o The recommendation will be presented to the Board at the first meeting after the principal makes the request \\uf0b7 Individuals with trade experience, being considered for a CTE position, would be eligible to teach vocational skills through local district certification. The same process as above will be followed with the exceptions below. o The prospective employee would be considered at-will and not fall under a standard teaching contract o The Board would be notified, but not required to approve since the employee will be considered at-will \\uf0b7 Individuals with a college degree or certification in an elective or CTE area would be eligible to teach in his or her area of expertise through local district certification. The same process as above would be followed with the exceptions below. o The prospective employee would be considered at-will and not fall under a standard teaching contract o The Board will be notified, but not required to approve since the employee will be considered at-will Probationary Contracts (DCA(LEGAL); TEC 21.102) Currently State laws allows for those that are new to the profession be provided a probationary contract not to exceed three (3) years, and a new teacher who has taught five (5) of the last eight (8) may be offered a probationary contract not to exceed one (1) year. Rationale for Exemption The time period to evaluate a teacher’s effectiveness in the classroom is not long enough given the constraints put on the district by contract renewal guidelines, state assessment results and end of year progress testing. Innovation Strategies Experienced teachers that meet the current guidelines for a one (1) year probationary contract would be issued a probationary contract for no more than two (2) years. This will provide the administrative staff to more effectively evaluate the teacher’s performance. Appraisal on Basis of Classroom Teaching Experience Appraisal and Professional Development System for Principals (DNA(LEGAL), DNA(LOCAL); TEC §21.203, §21.352, §21.354, §21.3541) Currently The state requires that the Texas Teacher Evaluation and Support System (T-TESS) and the Texas Principal Evaluation and Support System (T-PESS) be used in appraising staff. These systems require that state standardized test scores be used as one of the main evaluation measures for teachers and administrators. Rationale for Exemption Cherokee ISD is developing an evaluation instrument for teachers, administrators and para- professional staff that will be used throughout the year. This instrument will be applicable to the programs offered by the district and address grade-level readiness, college readiness and implementation of the goals established by the district. For the district to promote professional development that focuses on individual growth the district will maintain it current practice of using a variety of measures, including observations, goal setting and tracking, student growth and progress toward established learning objectives and personal growth plans, as evaluation criteria on teacher and administrator appraisals. Innovation Strategy All staff members will be placed on a personal growth plan developed through collaboration that specifically provides measurable objectives, which are aligned with curriculum and district goals. These plans would be unique to the district and each staff member. First Day of Instruction (EB(LEGAL); TEC 25.0811) Currently State law requires that school districts may not begin school instruction prior to the fourth Monday in August. Rationale for Exemption The current start time does not allow for the district to implement many research based scheduling techniques that will provide for flexibility to increase student learning and success, promote staff development and collaboration, provide opportunities to for college and career readiness and balance the semesters for instructional and remediation times. Innovation Strategy Cherokee ISD would develop a calendar that begins no earlier than the 3rd Monday in August and require staff to return to duty no earlier than the 1st Monday in August. This would provide the following opportunities for the district. \\uf0b7 More instructional days in the school year and better balance the semesters \\uf0b7 More opportunities for staff development during the school year for professional growth, collaboration and student growth analysis \\uf0b7 Allow time for students and staff to recover over the course of the year by flexible scheduling opportunities\""
      ]
     },
     "execution_count": 43,
     "metadata": {},
     "output_type": "execute_result"
    }
   ],
   "source": [
    "docs_true.text[8]"
   ]
  },
  {
   "cell_type": "code",
   "execution_count": null,
   "metadata": {
    "collapsed": true
   },
   "outputs": [],
   "source": []
  }
 ],
 "metadata": {
  "kernelspec": {
   "display_name": "Python [conda env:spacy]",
   "language": "python",
   "name": "conda-env-spacy-py"
  },
  "language_info": {
   "codemirror_mode": {
    "name": "ipython",
    "version": 3
   },
   "file_extension": ".py",
   "mimetype": "text/x-python",
   "name": "python",
   "nbconvert_exporter": "python",
   "pygments_lexer": "ipython3",
   "version": "3.7.0"
  }
 },
 "nbformat": 4,
 "nbformat_minor": 2
}
