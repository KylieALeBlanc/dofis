{
 "cells": [
  {
   "cell_type": "markdown",
   "metadata": {},
   "source": [
    "# Train classifer on date phrases to find plan start date"
   ]
  },
  {
   "cell_type": "code",
   "execution_count": 64,
   "metadata": {
    "collapsed": true
   },
   "outputs": [],
   "source": [
    "import csv\n",
    "import pandas as pd\n",
    "import os\n",
    "import classify\n",
    "import extract_dates\n",
    "import random\n",
    "from start import data_path"
   ]
  },
  {
   "cell_type": "markdown",
   "metadata": {},
   "source": [
    "## Create training data"
   ]
  },
  {
   "cell_type": "code",
   "execution_count": 65,
   "metadata": {
    "collapsed": true
   },
   "outputs": [],
   "source": [
    "docs = pd.read_csv(os.path.join(data_path, 'text_narrowed.csv'))"
   ]
  },
  {
   "cell_type": "markdown",
   "metadata": {},
   "source": [
    "### Randomly sample ten plans"
   ]
  },
  {
   "cell_type": "markdown",
   "metadata": {},
   "source": [
    "Do not overwrite labelled document set unless you want to relabel. relabel_docs = False uses previously randomly sample plans."
   ]
  },
  {
   "cell_type": "code",
   "execution_count": 66,
   "metadata": {
    "collapsed": true
   },
   "outputs": [],
   "source": [
    "relabel = False\n",
    "if relabel:\n",
    "    docs_to_label = docs[docs.p_innovation >.5].sample(n = 10)\n",
    "    docs_to_label.index"
   ]
  },
  {
   "cell_type": "code",
   "execution_count": 67,
   "metadata": {
    "collapsed": true
   },
   "outputs": [],
   "source": [
    "if not relabel:\n",
    "    docs_to_label = docs[docs.title == \"Ector County ISD\"]\n",
    "    docs_to_label = docs_to_label.append(docs[docs.title == \"Dimmitt ISD\"])\n",
    "    docs_to_label = docs_to_label.append(docs[docs.title == \"Sunnyvale ISD\"])\n",
    "    docs_to_label = docs_to_label.append(docs[docs.title == \"Sunray ISD\"])\n",
    "    docs_to_label = docs_to_label.append(docs[docs.title == \"Douglass ISD\"])\n",
    "    docs_to_label = docs_to_label.append(docs[docs.title == \"Dodd City ISD\"])\n",
    "    docs_to_label = docs_to_label.append(docs[docs.title == \"Snyder ISD\"])\n",
    "    docs_to_label = docs_to_label.append(docs[docs.title == \"Mart ISD\"])\n",
    "    docs_to_label = docs_to_label.append(docs[docs.title == \"Rivercrest ISD\"])"
   ]
  },
  {
   "cell_type": "code",
   "execution_count": 68,
   "metadata": {},
   "outputs": [
    {
     "data": {
      "text/html": [
       "<div>\n",
       "<style scoped>\n",
       "    .dataframe tbody tr th:only-of-type {\n",
       "        vertical-align: middle;\n",
       "    }\n",
       "\n",
       "    .dataframe tbody tr th {\n",
       "        vertical-align: top;\n",
       "    }\n",
       "\n",
       "    .dataframe thead th {\n",
       "        text-align: right;\n",
       "    }\n",
       "</style>\n",
       "<table border=\"1\" class=\"dataframe\">\n",
       "  <thead>\n",
       "    <tr style=\"text-align: right;\">\n",
       "      <th></th>\n",
       "      <th>Unnamed: 0</th>\n",
       "      <th>Unnamed: 0.1</th>\n",
       "      <th>Unnamed: 0.1.1</th>\n",
       "      <th>title</th>\n",
       "      <th>level</th>\n",
       "      <th>type</th>\n",
       "      <th>link</th>\n",
       "      <th>text</th>\n",
       "      <th>p_innovation</th>\n",
       "    </tr>\n",
       "  </thead>\n",
       "  <tbody>\n",
       "    <tr>\n",
       "      <th>568</th>\n",
       "      <td>270</td>\n",
       "      <td>270</td>\n",
       "      <td>270</td>\n",
       "      <td>Ector County ISD</td>\n",
       "      <td>First</td>\n",
       "      <td>pdf</td>\n",
       "      <td>http://www.ectorcountyisd.org/cms/lib011/tx010...</td>\n",
       "      <td>ECISD District of Innovation Plan 1 I. Introdu...</td>\n",
       "      <td>0.999667</td>\n",
       "    </tr>\n",
       "    <tr>\n",
       "      <th>579</th>\n",
       "      <td>3631</td>\n",
       "      <td>3631</td>\n",
       "      <td>288</td>\n",
       "      <td>Dimmitt ISD</td>\n",
       "      <td>html</td>\n",
       "      <td>html</td>\n",
       "      <td>http://www.dimmittisd.net/vnews/display.v/ART/...</td>\n",
       "      <td>Dimmitt ISD - District of Innovation Quick Lin...</td>\n",
       "      <td>0.986358</td>\n",
       "    </tr>\n",
       "    <tr>\n",
       "      <th>101</th>\n",
       "      <td>3331</td>\n",
       "      <td>3331</td>\n",
       "      <td>3331</td>\n",
       "      <td>Sunnyvale ISD</td>\n",
       "      <td>Second</td>\n",
       "      <td>pdf</td>\n",
       "      <td>http://www.sunnyvaleisd.com/site/handlers/file...</td>\n",
       "      <td>Sunnyvale ISD District of Innovation Plan Spri...</td>\n",
       "      <td>0.999955</td>\n",
       "    </tr>\n",
       "    <tr>\n",
       "      <th>100</th>\n",
       "      <td>98</td>\n",
       "      <td>98</td>\n",
       "      <td>98</td>\n",
       "      <td>Sunray ISD</td>\n",
       "      <td>First</td>\n",
       "      <td>pdf</td>\n",
       "      <td>https://1.cdn.edl.io/Rb3eNoIDEma2NVfd5LdmKpqLB...</td>\n",
       "      <td>SUNRAY ISD District of Innovation Plan 2 Distr...</td>\n",
       "      <td>0.999829</td>\n",
       "    </tr>\n",
       "    <tr>\n",
       "      <th>577</th>\n",
       "      <td>291</td>\n",
       "      <td>291</td>\n",
       "      <td>291</td>\n",
       "      <td>Douglass ISD</td>\n",
       "      <td>First</td>\n",
       "      <td>google</td>\n",
       "      <td>https://drive.google.com/file/d/1_OzEr7LnngRcQ...</td>\n",
       "      <td>Douglass ISD District of Innovation Plan (HB 1...</td>\n",
       "      <td>0.999721</td>\n",
       "    </tr>\n",
       "    <tr>\n",
       "      <th>578</th>\n",
       "      <td>237</td>\n",
       "      <td>237</td>\n",
       "      <td>237</td>\n",
       "      <td>Dodd City ISD</td>\n",
       "      <td>First</td>\n",
       "      <td>pdf</td>\n",
       "      <td>http://toolbox1.s3-website-us-west-2.amazonaws...</td>\n",
       "      <td>Microsoft Word - DCInnovationPlan (2).docx Dod...</td>\n",
       "      <td>0.999735</td>\n",
       "    </tr>\n",
       "    <tr>\n",
       "      <th>126</th>\n",
       "      <td>56</td>\n",
       "      <td>56</td>\n",
       "      <td>56</td>\n",
       "      <td>Snyder ISD</td>\n",
       "      <td>First</td>\n",
       "      <td>pdf</td>\n",
       "      <td>https://1.cdn.edl.io/7b21ktMGjSuFIU9LdTLlk0PHz...</td>\n",
       "      <td>SISD Local Innovation Plan (1) Snyder ISD Dist...</td>\n",
       "      <td>0.999931</td>\n",
       "    </tr>\n",
       "    <tr>\n",
       "      <th>332</th>\n",
       "      <td>382</td>\n",
       "      <td>382</td>\n",
       "      <td>382</td>\n",
       "      <td>Mart ISD</td>\n",
       "      <td>First</td>\n",
       "      <td>pdf</td>\n",
       "      <td>http://www.martisd.org/upload/page/0001/docs/D...</td>\n",
       "      <td>Mart ISD District of Innovation Plan In Januar...</td>\n",
       "      <td>0.998699</td>\n",
       "    </tr>\n",
       "    <tr>\n",
       "      <th>186</th>\n",
       "      <td>320</td>\n",
       "      <td>320</td>\n",
       "      <td>320</td>\n",
       "      <td>Rivercrest ISD</td>\n",
       "      <td>First</td>\n",
       "      <td>pdf</td>\n",
       "      <td>http://s3.amazonaws.com/scschoolfiles/760/inno...</td>\n",
       "      <td>1 Rivercrest Independent School District Distr...</td>\n",
       "      <td>0.999955</td>\n",
       "    </tr>\n",
       "  </tbody>\n",
       "</table>\n",
       "</div>"
      ],
      "text/plain": [
       "     Unnamed: 0  Unnamed: 0.1  Unnamed: 0.1.1             title   level  \\\n",
       "568         270           270             270  Ector County ISD   First   \n",
       "579        3631          3631             288       Dimmitt ISD    html   \n",
       "101        3331          3331            3331     Sunnyvale ISD  Second   \n",
       "100          98            98              98        Sunray ISD   First   \n",
       "577         291           291             291      Douglass ISD   First   \n",
       "578         237           237             237     Dodd City ISD   First   \n",
       "126          56            56              56        Snyder ISD   First   \n",
       "332         382           382             382          Mart ISD   First   \n",
       "186         320           320             320    Rivercrest ISD   First   \n",
       "\n",
       "       type                                               link  \\\n",
       "568     pdf  http://www.ectorcountyisd.org/cms/lib011/tx010...   \n",
       "579    html  http://www.dimmittisd.net/vnews/display.v/ART/...   \n",
       "101     pdf  http://www.sunnyvaleisd.com/site/handlers/file...   \n",
       "100     pdf  https://1.cdn.edl.io/Rb3eNoIDEma2NVfd5LdmKpqLB...   \n",
       "577  google  https://drive.google.com/file/d/1_OzEr7LnngRcQ...   \n",
       "578     pdf  http://toolbox1.s3-website-us-west-2.amazonaws...   \n",
       "126     pdf  https://1.cdn.edl.io/7b21ktMGjSuFIU9LdTLlk0PHz...   \n",
       "332     pdf  http://www.martisd.org/upload/page/0001/docs/D...   \n",
       "186     pdf  http://s3.amazonaws.com/scschoolfiles/760/inno...   \n",
       "\n",
       "                                                  text  p_innovation  \n",
       "568  ECISD District of Innovation Plan 1 I. Introdu...      0.999667  \n",
       "579  Dimmitt ISD - District of Innovation Quick Lin...      0.986358  \n",
       "101  Sunnyvale ISD District of Innovation Plan Spri...      0.999955  \n",
       "100  SUNRAY ISD District of Innovation Plan 2 Distr...      0.999829  \n",
       "577  Douglass ISD District of Innovation Plan (HB 1...      0.999721  \n",
       "578  Microsoft Word - DCInnovationPlan (2).docx Dod...      0.999735  \n",
       "126  SISD Local Innovation Plan (1) Snyder ISD Dist...      0.999931  \n",
       "332  Mart ISD District of Innovation Plan In Januar...      0.998699  \n",
       "186  1 Rivercrest Independent School District Distr...      0.999955  "
      ]
     },
     "execution_count": 68,
     "metadata": {},
     "output_type": "execute_result"
    }
   ],
   "source": [
    "docs_to_label"
   ]
  },
  {
   "cell_type": "markdown",
   "metadata": {},
   "source": [
    "## Collect phrases surrounding date match. Currently, function collects 8 words before and 6 words after but more if an entity is cut off."
   ]
  },
  {
   "cell_type": "code",
   "execution_count": 69,
   "metadata": {
    "collapsed": true
   },
   "outputs": [],
   "source": [
    "date_phrases = []\n",
    "for text in docs_to_label.text:\n",
    "    phrases = extract_dates.get_phrase_list(text = text)\n",
    "    for phrase in phrases:\n",
    "        date_phrases.append(phrase)\n",
    "date_phrases = [str(item) for item in date_phrases]"
   ]
  },
  {
   "cell_type": "markdown",
   "metadata": {},
   "source": [
    "### Export and label. Rename as dates_to_label_labelled.csv"
   ]
  },
  {
   "cell_type": "code",
   "execution_count": 70,
   "metadata": {
    "collapsed": true
   },
   "outputs": [],
   "source": [
    "phrase_df = pd.DataFrame({'text':date_phrases, 'term' : '', 'finalize': ''})\n",
    "phrase_df.to_csv(os.path.join(data_path, 'dates_to_label.csv'))"
   ]
  },
  {
   "cell_type": "code",
   "execution_count": 71,
   "metadata": {},
   "outputs": [
    {
     "data": {
      "text/html": [
       "<div>\n",
       "<style scoped>\n",
       "    .dataframe tbody tr th:only-of-type {\n",
       "        vertical-align: middle;\n",
       "    }\n",
       "\n",
       "    .dataframe tbody tr th {\n",
       "        vertical-align: top;\n",
       "    }\n",
       "\n",
       "    .dataframe thead th {\n",
       "        text-align: right;\n",
       "    }\n",
       "</style>\n",
       "<table border=\"1\" class=\"dataframe\">\n",
       "  <thead>\n",
       "    <tr style=\"text-align: right;\">\n",
       "      <th></th>\n",
       "      <th>Unnamed: 0</th>\n",
       "      <th>text</th>\n",
       "      <th>term</th>\n",
       "      <th>finalize</th>\n",
       "    </tr>\n",
       "  </thead>\n",
       "  <tbody>\n",
       "    <tr>\n",
       "      <th>0</th>\n",
       "      <td>0</td>\n",
       "      <td>of Innovation Plan 1 I. Introduction House Bil...</td>\n",
       "      <td>False</td>\n",
       "      <td>False</td>\n",
       "    </tr>\n",
       "    <tr>\n",
       "      <th>1</th>\n",
       "      <td>1</td>\n",
       "      <td>the Texas Education Code. On February 21, 2017...</td>\n",
       "      <td>False</td>\n",
       "      <td>True</td>\n",
       "    </tr>\n",
       "    <tr>\n",
       "      <th>2</th>\n",
       "      <td>2</td>\n",
       "      <td>and the community. On February 28, 2017, the B...</td>\n",
       "      <td>False</td>\n",
       "      <td>True</td>\n",
       "    </tr>\n",
       "    <tr>\n",
       "      <th>3</th>\n",
       "      <td>3</td>\n",
       "      <td>March 2, 6, and 10, 2017, to discuss and draft</td>\n",
       "      <td>False</td>\n",
       "      <td>True</td>\n",
       "    </tr>\n",
       "    <tr>\n",
       "      <th>4</th>\n",
       "      <td>4</td>\n",
       "      <td>term of the Plan will begin with the 2017-2018...</td>\n",
       "      <td>True</td>\n",
       "      <td>False</td>\n",
       "    </tr>\n",
       "  </tbody>\n",
       "</table>\n",
       "</div>"
      ],
      "text/plain": [
       "   Unnamed: 0                                               text   term  \\\n",
       "0           0  of Innovation Plan 1 I. Introduction House Bil...  False   \n",
       "1           1  the Texas Education Code. On February 21, 2017...  False   \n",
       "2           2  and the community. On February 28, 2017, the B...  False   \n",
       "3           3     March 2, 6, and 10, 2017, to discuss and draft  False   \n",
       "4           4  term of the Plan will begin with the 2017-2018...   True   \n",
       "\n",
       "   finalize  \n",
       "0     False  \n",
       "1      True  \n",
       "2      True  \n",
       "3      True  \n",
       "4     False  "
      ]
     },
     "execution_count": 71,
     "metadata": {},
     "output_type": "execute_result"
    }
   ],
   "source": [
    "labelled = pd.read_csv(os.path.join(data_path, 'dates_to_label_labelled.csv'))\n",
    "labelled.head()"
   ]
  },
  {
   "cell_type": "code",
   "execution_count": 72,
   "metadata": {},
   "outputs": [
    {
     "data": {
      "text/html": [
       "<div>\n",
       "<style scoped>\n",
       "    .dataframe tbody tr th:only-of-type {\n",
       "        vertical-align: middle;\n",
       "    }\n",
       "\n",
       "    .dataframe tbody tr th {\n",
       "        vertical-align: top;\n",
       "    }\n",
       "\n",
       "    .dataframe thead th {\n",
       "        text-align: right;\n",
       "    }\n",
       "</style>\n",
       "<table border=\"1\" class=\"dataframe\">\n",
       "  <thead>\n",
       "    <tr style=\"text-align: right;\">\n",
       "      <th></th>\n",
       "      <th>text</th>\n",
       "      <th>term</th>\n",
       "      <th>finalize</th>\n",
       "    </tr>\n",
       "  </thead>\n",
       "  <tbody>\n",
       "    <tr>\n",
       "      <th>0</th>\n",
       "      <td>of Innovation Plan 1 I. Introduction House Bil...</td>\n",
       "      <td>False</td>\n",
       "      <td>False</td>\n",
       "    </tr>\n",
       "    <tr>\n",
       "      <th>1</th>\n",
       "      <td>the Texas Education Code. On February 21, 2017...</td>\n",
       "      <td>False</td>\n",
       "      <td>True</td>\n",
       "    </tr>\n",
       "    <tr>\n",
       "      <th>2</th>\n",
       "      <td>and the community. On February 28, 2017, the B...</td>\n",
       "      <td>False</td>\n",
       "      <td>True</td>\n",
       "    </tr>\n",
       "    <tr>\n",
       "      <th>3</th>\n",
       "      <td>March 2, 6, and 10, 2017, to discuss and draft</td>\n",
       "      <td>False</td>\n",
       "      <td>True</td>\n",
       "    </tr>\n",
       "    <tr>\n",
       "      <th>4</th>\n",
       "      <td>term of the Plan will begin with the 2017-2018...</td>\n",
       "      <td>True</td>\n",
       "      <td>False</td>\n",
       "    </tr>\n",
       "  </tbody>\n",
       "</table>\n",
       "</div>"
      ],
      "text/plain": [
       "                                                text   term  finalize\n",
       "0  of Innovation Plan 1 I. Introduction House Bil...  False     False\n",
       "1  the Texas Education Code. On February 21, 2017...  False      True\n",
       "2  and the community. On February 28, 2017, the B...  False      True\n",
       "3     March 2, 6, and 10, 2017, to discuss and draft  False      True\n",
       "4  term of the Plan will begin with the 2017-2018...   True     False"
      ]
     },
     "execution_count": 72,
     "metadata": {},
     "output_type": "execute_result"
    }
   ],
   "source": [
    "labelled = labelled.replace({'FALSE': 'False', 'TRUE': 'True'})\n",
    "phrase_df['finalize'] = list(labelled.finalize)\n",
    "phrase_df['term'] = list(labelled.term)\n",
    "phrase_df.head()"
   ]
  },
  {
   "cell_type": "code",
   "execution_count": 73,
   "metadata": {
    "collapsed": true
   },
   "outputs": [],
   "source": [
    "phrase_df = phrase_df.sample(frac = 1)"
   ]
  },
  {
   "cell_type": "code",
   "execution_count": 74,
   "metadata": {},
   "outputs": [
    {
     "name": "stdout",
     "output_type": "stream",
     "text": [
      "The first n-30 of documents are used for training. Term date training dataset statistics:\n",
      "False    101\n",
      "True      26\n",
      "Name: term, dtype: int64\n",
      "The last 30 of documents are used for testing. Term date testing dataset statistics:\n",
      "False    23\n",
      "True      7\n",
      "Name: term, dtype: int64\n",
      "The first n-30 of documents are used for training. Finalize date training dataset statistics:\n",
      "True     78\n",
      "False    49\n",
      "Name: finalize, dtype: int64\n",
      "The last 30 of documents are used for testing. Finalize date testing dataset statistics:\n",
      "True     19\n",
      "False    11\n",
      "Name: finalize, dtype: int64\n"
     ]
    }
   ],
   "source": [
    "print('The first n-30 of documents are used for training. Term date training dataset statistics:')\n",
    "split = int(len(phrase_df) - 30)\n",
    "print(phrase_df.head(split)['term'].value_counts())\n",
    "\n",
    "print('The last 30 of documents are used for testing. Term date testing dataset statistics:')\n",
    "print(phrase_df.tail(30)['term'].value_counts())\n",
    "\n",
    "print('The first n-30 of documents are used for training. Finalize date training dataset statistics:')\n",
    "split = int(len(phrase_df) - 30)\n",
    "print(phrase_df.head(split)['finalize'].value_counts())\n",
    "\n",
    "print('The last 30 of documents are used for testing. Finalize date testing dataset statistics:')\n",
    "print(phrase_df.tail(30)['finalize'].value_counts())"
   ]
  },
  {
   "cell_type": "markdown",
   "metadata": {},
   "source": [
    "# Train term classifier"
   ]
  },
  {
   "cell_type": "code",
   "execution_count": 75,
   "metadata": {
    "collapsed": true
   },
   "outputs": [],
   "source": [
    "texts, cats = classify.reformat_cat_from_df(df = phrase_df,\n",
    "                                      text_col = 'text',\n",
    "                                      label_col = 'term',\n",
    "                                      category = 'TERM')\n",
    "output_dir = os.path.join(data_path, 'date_finalize_classifier')"
   ]
  },
  {
   "cell_type": "code",
   "execution_count": 79,
   "metadata": {
    "scrolled": true
   },
   "outputs": [
    {
     "name": "stdout",
     "output_type": "stream",
     "text": [
      "Created blank 'en' model\n",
      "Using 157 examples (127 training, 30 evaluation)\n",
      "Warning: Unnamed vectors -- this won't allow multiple vectors models to be loaded. (Shape: (0, 0))\n",
      "Training the model...\n",
      "LOSS \t  P  \t  R  \t  F  \n",
      "7.101\t0.500\t0.000\t0.000\n",
      "4.617\t0.857\t0.857\t0.857\n",
      "3.408\t0.857\t0.857\t0.857\n",
      "2.898\t0.700\t1.000\t0.824\n",
      "2.558\t0.778\t1.000\t0.875\n",
      "1.515\t0.778\t1.000\t0.875\n",
      "1.948\t0.875\t1.000\t0.933\n",
      "0.943\t0.778\t1.000\t0.875\n",
      "1.539\t0.778\t1.000\t0.875\n",
      "2.309\t0.778\t1.000\t0.875\n",
      "No text {'TERM': 0.018151946365833282}\n",
      "Saved model to /Users/kylieleblancKylie/dofis/code/exemptions/../../data/plans/date_finalize_classifier\n",
      "Loading from /Users/kylieleblancKylie/dofis/code/exemptions/../../data/plans/date_finalize_classifier\n",
      "No text {'TERM': 0.018151946365833282}\n"
     ]
    },
    {
     "data": {
      "text/plain": [
       "<spacy.pipeline.TextCategorizer at 0x11f6437b8>"
      ]
     },
     "execution_count": 79,
     "metadata": {},
     "output_type": "execute_result"
    }
   ],
   "source": [
    "classify.train_classifier_and_evaluate(texts=texts, \n",
    "                                        cats=cats,\n",
    "                                        n_test = 30,\n",
    "                                        model=None, \n",
    "                                        output_dir=output_dir, \n",
    "                                        n_iter=10, \n",
    "                                        categories=['TERM'])"
   ]
  },
  {
   "cell_type": "markdown",
   "metadata": {
    "collapsed": true
   },
   "source": [
    "# Train finalize classifier"
   ]
  },
  {
   "cell_type": "code",
   "execution_count": 80,
   "metadata": {
    "collapsed": true
   },
   "outputs": [],
   "source": [
    "texts, cats = classify.reformat_cat_from_df(df = phrase_df,\n",
    "                                      text_col = 'text',\n",
    "                                      label_col = 'finalize',\n",
    "                                      category = 'FINALIZE')\n",
    "output_dir = os.path.join(data_path, 'date_finalize_classifier')"
   ]
  },
  {
   "cell_type": "code",
   "execution_count": 81,
   "metadata": {},
   "outputs": [
    {
     "name": "stdout",
     "output_type": "stream",
     "text": [
      "Created blank 'en' model\n",
      "Using 157 examples (127 training, 30 evaluation)\n",
      "Warning: Unnamed vectors -- this won't allow multiple vectors models to be loaded. (Shape: (0, 0))\n",
      "Training the model...\n",
      "LOSS \t  P  \t  R  \t  F  \n",
      "5.526\t0.864\t1.000\t0.927\n",
      "3.900\t1.000\t1.000\t1.000\n",
      "2.099\t1.000\t1.000\t1.000\n",
      "1.455\t1.000\t0.947\t0.973\n",
      "0.836\t1.000\t0.947\t0.973\n",
      "0.731\t1.000\t1.000\t1.000\n",
      "0.661\t1.000\t0.947\t0.973\n",
      "0.552\t1.000\t0.895\t0.944\n",
      "0.367\t1.000\t0.947\t0.973\n",
      "0.299\t1.000\t0.947\t0.973\n",
      "No text {'FINALIZE': 0.6745890974998474}\n",
      "Saved model to /Users/kylieleblancKylie/dofis/code/exemptions/../../data/plans/date_finalize_classifier\n",
      "Loading from /Users/kylieleblancKylie/dofis/code/exemptions/../../data/plans/date_finalize_classifier\n",
      "No text {'FINALIZE': 0.6745890974998474}\n"
     ]
    },
    {
     "data": {
      "text/plain": [
       "<spacy.pipeline.TextCategorizer at 0x11f642860>"
      ]
     },
     "execution_count": 81,
     "metadata": {},
     "output_type": "execute_result"
    }
   ],
   "source": [
    "classify.train_classifier_and_evaluate(texts=texts, \n",
    "                                        cats=cats,\n",
    "                                        n_test = 30,\n",
    "                                        model=None, \n",
    "                                        output_dir=output_dir, \n",
    "                                        n_iter=10, \n",
    "                                        categories=['FINALIZE'])"
   ]
  },
  {
   "cell_type": "code",
   "execution_count": null,
   "metadata": {
    "collapsed": true
   },
   "outputs": [],
   "source": []
  }
 ],
 "metadata": {
  "kernelspec": {
   "display_name": "Python [conda env:spacy]",
   "language": "python",
   "name": "conda-env-spacy-py"
  },
  "language_info": {
   "codemirror_mode": {
    "name": "ipython",
    "version": 3
   },
   "file_extension": ".py",
   "mimetype": "text/x-python",
   "name": "python",
   "nbconvert_exporter": "python",
   "pygments_lexer": "ipython3",
   "version": "3.7.0"
  }
 },
 "nbformat": 4,
 "nbformat_minor": 2
}
