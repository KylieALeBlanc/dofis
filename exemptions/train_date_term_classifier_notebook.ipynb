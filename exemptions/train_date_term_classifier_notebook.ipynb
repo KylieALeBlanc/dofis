{
 "cells": [
  {
   "cell_type": "markdown",
   "metadata": {},
   "source": [
    "# Train classifer on date phrases to find plan start date"
   ]
  },
  {
   "cell_type": "code",
   "execution_count": 85,
   "metadata": {
    "collapsed": true
   },
   "outputs": [],
   "source": [
    "import csv\n",
    "import pandas as pd\n",
    "import os\n",
    "import classify\n",
    "import extract_dates\n",
    "import random"
   ]
  },
  {
   "cell_type": "markdown",
   "metadata": {},
   "source": [
    "## Create training data"
   ]
  },
  {
   "cell_type": "code",
   "execution_count": 86,
   "metadata": {
    "collapsed": true
   },
   "outputs": [],
   "source": [
    "docs = pd.read_csv(os.path.join(data_path, 'text_narrowed.csv'))"
   ]
  },
  {
   "cell_type": "markdown",
   "metadata": {},
   "source": [
    "### Randomly sample five plans"
   ]
  },
  {
   "cell_type": "markdown",
   "metadata": {},
   "source": [
    "Do not overwrite labelled document set unless you want to relabel. relabel_docs = False uses previously randomly sample plans."
   ]
  },
  {
   "cell_type": "code",
   "execution_count": 87,
   "metadata": {
    "collapsed": true
   },
   "outputs": [],
   "source": [
    "relabel = False\n",
    "if relabel:\n",
    "    docs_to_label = docs[docs.p_innovation >.5].sample(n = 5)\n",
    "    docs_to_label.index\n",
    "    docs_to_label.head(5)"
   ]
  },
  {
   "cell_type": "code",
   "execution_count": 88,
   "metadata": {
    "collapsed": true
   },
   "outputs": [],
   "source": [
    "if not relabel:\n",
    "    docs_to_label = docs[docs.title == \"Pearland ISD\"]\n",
    "    docs_to_label = docs_to_label.append(docs[docs.title == \"Ector County ISD\"])\n",
    "    docs_to_label = docs_to_label.append(docs[docs.title == \"Dimmitt ISD\"])\n",
    "    docs_to_label = docs_to_label.append(docs[docs.title == \"Sunnyvale ISD\"])\n",
    "    docs_to_label = docs_to_label.append(docs[docs.title == \"Sunray ISD\"])\n",
    "    docs_to_label.head(5)"
   ]
  },
  {
   "cell_type": "markdown",
   "metadata": {},
   "source": [
    "## Collect phrases surrounding date match. Currently, function collects 8 words before and 6 words after."
   ]
  },
  {
   "cell_type": "code",
   "execution_count": 89,
   "metadata": {},
   "outputs": [
    {
     "data": {
      "text/plain": [
       "['the District Educational Improvement Committee Authored: April 2016 - September 2016 INTRODUCTION In April',\n",
       " 'Improvement Committee Authored: April 2016 - September 2016 INTRODUCTION In April 2016, the',\n",
       " 'April 2016 - September 2016 INTRODUCTION In April 2016, the Pearland ISD Board ofTrustees',\n",
       " 'newly permitted by the Texas Legislature under HB 1842 (see TAC Chapter 102)',\n",
       " 'It is hoped that the legislature, in 2017, will expand the areas for',\n",
       " 'of the Texas Education Agency. • In 2016, all STAAR scores/subjects',\n",
       " ', as recorded by the Houston Chronicle in 2016, rated Pearland ISD as the',\n",
       " 'in the Greater Houston area. • In 2016, 19 of 22 campuses received',\n",
       " 'plan. That planning process began in late 2015 and will be finalized in late',\n",
       " 'late 2015 and will be finalized in late 2016. Within that plan will be',\n",
       " 'of Innovation legislation (TAC 102) of 2015. The following items (and',\n",
       " ', with the legislature meeting again in January 2017, we hope for greater flexibility',\n",
       " 'greater flexibility in the future. In the 2016/17 school year, we would prefer',\n",
       " '4of4 109 EXECUTIVE SUMMARY FOR APRIL 12, 2016 BOARD MEETING -AT WHICH PUBLIC HEARING',\n",
       " 'Agenda Item Information Meeting Date April 12, 2016 Meeting Type Agenda Placement 181 Regular',\n",
       " '/Discussion Date Submitted: April 5, 2016 Subject: Consider Resolution and Hold',\n",
       " 'DNo 94 BOARD RESOLUTION FROM APRIL 12, 2016 BOARD MEETING-APPROVING THE INITIATION',\n",
       " 'Designation as a District of Innovation Under HB 1842 WHEREAS, the Pearland ISD Board',\n",
       " 'every child; and, WHEREAS, HB 1842 provides Texas public school districts the',\n",
       " 'making process; and, WHEREAS, HB 1842 requires districts seeking to be designated',\n",
       " 'a public hearing at the April 12, 2016 meeting to receive any feedback from',\n",
       " 'District Board of Trustees on April 12, 2016, initiates the process ofexploring and',\n",
       " 'District as a District of Innovation under HB 1842. Approved by the Pearland ISO',\n",
       " 'ISO Board ofTrustees at the April 12, 2016 by a vote o~ to Q',\n",
       " '102.1301 adopted to be effective September 13, 2016, 41 TexReg 7089. §',\n",
       " 'effective September 13, 2016, 41 TexReg 7089. §102.1303. Eligibility.',\n",
       " '. tx.us/rules/tac/ chapter 1 02/ch l 02 jj.html 9/30/2016 Chapter 102, Subchapter JJ Page',\n",
       " '102.1303 adopted to be effective September 13, 2016, 41 TexReg 7089. §',\n",
       " 'effective September 13, 2016, 41 TexReg 7089. §102.1305. Process Timeline',\n",
       " '102.1305 adopted to be effective September 13, 2016, 41 TexReg 7089. §',\n",
       " 'effective September 13, 2016, 41 TexReg 7089. §102.1307. Adoption of',\n",
       " '; http:/lritter. tea.state. tx.us/rules/tac/chapter 102/ch102jj .html 9/30/2016 http:/lritter Chapter 102, Subchapter JJ',\n",
       " '102.1307 adopted to be effective September 13, 2016, 41 TexReg 7089. §',\n",
       " 'effective September 13, 2016, 41 TexReg 7089. §102.1309. Prohibited Exemptions',\n",
       " '. tea.state. tx.us/rules/tac/chapter 102/ch 102 jj .html 9/30/2016 http://ritter Chapter 102, Subchapter JJ',\n",
       " 'Authority: The provisions ofthis §102. 1309 issued under the Texas Education Code',\n",
       " '102.1309 adopted to be effective September 13, 2016, 41 TexReg 7089. §',\n",
       " 'effective September 13, 2016, 41 TexReg 7089. §102.1311. Term.',\n",
       " 'rules/tac/chapter 102/ch 102jj .html 9/30/2016 http:http://ritter.tea.state.be Chapter 102,',\n",
       " '102.1311 adopted to be effective September 13, 2016, 41 TexReg 7089. §',\n",
       " 'effective September 13, 2016, 41 TexReg 7089. §102.1313. Amendment,',\n",
       " '102.1313 adopted to be effective September 13, 2016, 41 TexReg 7089. §',\n",
       " 'effective September 13, 2016, 41 TexReg 7089. §102.1315. Termination.',\n",
       " ', §39.082; or http://ritter.tea.state.tx.us/rules/tac/chapter 102/ch 102jj.html 9/30/2016 http://ritter.tea.state.tx.us/rules/tac/chapter Chapter 102, Subchapter JJ',\n",
       " '102.1315 adopted to be effective September 13, 2016, 41 TexReg 7089. For',\n",
       " 'effective September 13, 2016, 41 TexReg 7089. For more information, email',\n",
       " 'rules/tac/chapter 102/ch 102jj .html 9/30/2016 http:tea.state.tx mailto:rules@tea.texas.gov LETTER TO',\n",
       " 'OF INNOVATION PLAN AT THE NOVEMBER 15, 2016 MEETING PEARLAND ISD John P. Kelly',\n",
       " 'P. Kelly, Ph.D. Superintendent September 30, 2016 TO: Mike Morath, Commissioner',\n",
       " 'Morath, Commissioner of Education Texas Education Agency 1701 N. Congress Ave. Austin,',\n",
       " '1701 N. Congress Ave. Austin, Texas 78701 RE: Notice of Intention to',\n",
       " 'After a public hearing on April 12, 2016, the Board immediately and unanimously',\n",
       " 'approved unanimously by the DEIC September 26, 2016. • The plan now resides',\n",
       " 'of that plan at its November 15, 2016 regular meeting. Sincerely, Rebecca',\n",
       " 'POST OFFICE BOX 7 • PEARLAND, TEXAS 77588-0007 • 281-485',\n",
       " 'BOX 7 • PEARLAND, TEXAS 77588-0007 • 281-485-3203',\n",
       " '77588-0007 • 281-485-3203 DISTRICT OF INNOVATION PLAN INTRODUCTION CHECKLIST',\n",
       " 'CONSIDERED FOREXEMPTIONS EXECUTIVE SUMMARY FOR APRIL 12, 2016 BOARDMEETING -AT WHICH PUBLIC HEARING ANDRESOLUTION',\n",
       " 'INNOVATION WASCONSIDERED BOARD RESOLUTION FROM APRIL 12, 2016 BOARDMEETING-APPROVING THE INITIATION OF',\n",
       " 'THEDISTRICT OF INNOVATION PLANAT THE NOVEMBER 15, 2016 MEETING',\n",
       " 'of Innovation Plan 1 I. Introduction House Bill 1842, passed during the 84th Legislative',\n",
       " 'Texas Education Code. On February 21, 2017 the Ector County Independent School District',\n",
       " 'and the community. On February 28, 2017, the Board appointed an eighteen',\n",
       " 'March 2, 6, and 10, 2017, to discuss and draft this',\n",
       " 'term of the Plan will begin with the 2017-2018 school year and terminate',\n",
       " 'the Plan will begin with the 2017-2018 school year and terminate at the',\n",
       " 'year and terminate at the end of the 2021-2022 school year, to',\n",
       " 'terminate at the end of the 2021-2022 school year, to include anything',\n",
       " 'appointment of DOI members* February 14, 2016 February Board Meeting \\uf0b7 Board votes',\n",
       " 'as a District of Innovation February 21, 2016 February \\uf0b7 Board holds public hearing',\n",
       " 'final Local Innovation Plan on April 11, 2017* February 28, 2017 March',\n",
       " 'April 11, 2017* February 28, 2017 March DOI meets to draft Innovation',\n",
       " 'meets to draft Innovation Plan March 2, 2017 March DOI meets to draft Innovation',\n",
       " 'meets to draft Innovation Plan March 6, 2017 March DOI meets to draft Innovation',\n",
       " 'created during this meeting. March 10, 2017 March Final Draft is posted onto',\n",
       " 'for public review and comment March 11, 2017 – April 9, 2017 April',\n",
       " 'March 11, 2017 – April 9, 2017 April \\uf0b7 DOI hosts public meeting',\n",
       " 'to approve the final draft April 10, 2017 April \\uf0b7 DOI presents the Final',\n",
       " 'Local Innovation Plan to Board April 11, 2017 April Board Work Study \\uf0b7 Board',\n",
       " 'plan to Commissioner of Education April 11, 2017 ECISD District of Innovation Plan 3',\n",
       " 'into the overall summative appraisal score for the 2017-2018 school year. In',\n",
       " 'overall summative appraisal score for the 2017-2018 school year. In the meantime',\n",
       " 'ECISD will be Monday, August 21, 2017, for the 2017-2018',\n",
       " ', August 21, 2017, for the 2017-2018 school year. In',\n",
       " '21, 2017, for the 2017-2018 school year. In subsequent years',\n",
       " 'via email District of Innovation February 14, 2016 District of Innovation Dimmitt ISD Local',\n",
       " 'Dimmitt ISD Local Innovation Plan April 1, 2017 through April 1, 2022 School',\n",
       " 'April 1, 2017 through April 1, 2022 School Board Approval March 27th,',\n",
       " ', 2022 School Board Approval March 27th, 2017 Introduction During the 84th Legislative Session',\n",
       " 'Introduction During the 84th Legislative Session, HB 1842 passed which allows Texas public schools',\n",
       " 'for five years, beginning April 1, 2017 and ending April 1, 2022',\n",
       " '1, 2017 and ending April 1, 2022, unless terminated or amended earlier',\n",
       " 'the Board of Trustees in accordance with HB 1842. The Committee will continually monitor',\n",
       " 'Timeline Board approval of Resolution November 14, 2016 Public Hearing December 12, 2016',\n",
       " '14, 2016 Public Hearing December 12, 2016 BOE approval of Committee Members December',\n",
       " 'BOE approval of Committee Members December 12, 2016 DEIC passes plan by 2/3 majority',\n",
       " 'plan by 2/3 majority vote February 9, 2017 Public meeting February 9, 2017',\n",
       " '9, 2017 Public meeting February 9, 2017 School board notifies Commissioner of intent',\n",
       " 'Commissioner of intent to vote February 13, 2017 Plan posted online February 14,',\n",
       " ', 2017 Plan posted online February 14, 2017 School Board Votes to approve plan',\n",
       " 'Votes to approve plan Approved March 27, 2017 5. Innovations School start /',\n",
       " 'areas Dimmitt ISD608 W Halsell StreetDimmitt, TX 79027 806-647-3101Fax:',\n",
       " 'StreetDimmitt, TX 79027 806-647-3101Fax: 806-647-5433disd@dimmittisd.net © 2018 Dimmitt ISD',\n",
       " '806-647-3101Fax: 806-647-5433disd@dimmittisd.net © 2018 Dimmitt ISD Accessibility Privacy Pledge Mobile',\n",
       " 'Sunnyvale ISD District of Innovation Plan Spring, 2017 - Spring, 2022 Sunnyvale ISD',\n",
       " 'Innovation Plan Spring, 2017 - Spring, 2022 Sunnyvale ISD - District of Innovation',\n",
       " '- District of Innovation Plan Introduction House Bill 1842, passed by the 84\\u200bth\\u200b Legislature',\n",
       " 'certain mandates. On November, 28, 2016, the Sunnyvale ISD Board of',\n",
       " 'of Innovation. Process On December 12, 2016, the Board appointed a District',\n",
       " '. The committee met on January 24, 2017 to discuss options and determine flexibilities',\n",
       " 'of Innovation Team Members On December 12, 2016, the Sunnyvale ISD Board of',\n",
       " 'Board Resolution to Pursue Process November 28, 2016 Public Hearing and Committee Appointment December',\n",
       " 'Public Hearing and Committee Appointment December 12, 2016 District of Innovation Committee Meeting January',\n",
       " 'District of Innovation Committee Meeting January 24, 2017 Public Meeting for Feedback/Approval',\n",
       " 'Meeting for Feedback/Approval February 9, 2017 Plan Sent to Commissioner February 14',\n",
       " '2017 Plan Sent to Commissioner February 14, 2017 District of Innovation Meeting/Approval',\n",
       " 'of Innovation Meeting/Approval February 23, 2017 Posted to SISD Website February 24',\n",
       " '2017 Posted to SISD Website February 24, 2017 Public Approval by District of Innovation',\n",
       " 'by District of Innovation Team March 27, 2017 Adoption by Board of Trustees March',\n",
       " 'Adoption by Board of Trustees March 27, 2017 Sunnyvale ISD - District of Innovation',\n",
       " 'Approval to Commissioner of Education April 10, 2017 Term of Plan The term of',\n",
       " 'years. The plan will begin Spring, 2017 and conclude Spring, 2022,',\n",
       " 'begin Spring, 2017 and conclude Spring, 2022, unless terminated by the Board',\n",
       " '…..….8 3 INTRODUCTION House Bill 1842, passed by the 84th Texas',\n",
       " 'the 84th Texas Legislature, during Regular Session 2015, permits eligible Texas public school',\n",
       " 'for approval with the revisions. Under HB 1842, districts may identify certain requirements',\n",
       " 'Size 4 TIMELINE Board Resolution February 13, 2017 Public Hearing March 9, 2017',\n",
       " '13, 2017 Public Hearing March 9, 2017 Appoint Innovative Plan Committee March 9',\n",
       " '2017 Appoint Innovative Plan Committee March 9, 2017 Develop Innovation Plan March 20 &',\n",
       " '2017 Develop Innovation Plan March 20 & 21 2017 District Improvement Committee Approval-Public',\n",
       " 'Committee Approval-Public Hearing March 23, 2017 30 Day Public Review (Website',\n",
       " '(Website Posting) March 24-April 27, 2017 Board Action to Notify TEA Commissioner',\n",
       " 'TEA Commissioner of Board Vote March 24, 2017 Board Action for Final Approval April',\n",
       " 'Board Action for Final Approval April 27, 2017 Notification of Approval to TEA Commissioner',\n",
       " 'to TEA Commissioner, Publish April 28, 2017 TERM The term of this Plan',\n",
       " 'for five years, beginning April 27, 2017, and ending April 27,',\n",
       " ', 2017, and ending April 27, 2022, unless terminated or amended earlier']"
      ]
     },
     "execution_count": 89,
     "metadata": {},
     "output_type": "execute_result"
    }
   ],
   "source": [
    "date_phrases = []\n",
    "for text in docs_to_label.text:\n",
    "    phrases = extract_dates.get_phrase_list(text = text)\n",
    "    for phrase in phrases:\n",
    "        date_phrases.append(phrase)\n",
    "date_phrases = [str(item) for item in date_phrases]\n",
    "date_phrases"
   ]
  },
  {
   "cell_type": "markdown",
   "metadata": {},
   "source": [
    "### Save random sample to dataframe. Do not change seed unless you want to relabel."
   ]
  },
  {
   "cell_type": "code",
   "execution_count": 90,
   "metadata": {},
   "outputs": [
    {
     "data": {
      "text/html": [
       "<div>\n",
       "<style scoped>\n",
       "    .dataframe tbody tr th:only-of-type {\n",
       "        vertical-align: middle;\n",
       "    }\n",
       "\n",
       "    .dataframe tbody tr th {\n",
       "        vertical-align: top;\n",
       "    }\n",
       "\n",
       "    .dataframe thead th {\n",
       "        text-align: right;\n",
       "    }\n",
       "</style>\n",
       "<table border=\"1\" class=\"dataframe\">\n",
       "  <thead>\n",
       "    <tr style=\"text-align: right;\">\n",
       "      <th></th>\n",
       "      <th>text</th>\n",
       "    </tr>\n",
       "  </thead>\n",
       "  <tbody>\n",
       "    <tr>\n",
       "      <th>29</th>\n",
       "      <td>102.1305 adopted to be effective September 13,...</td>\n",
       "    </tr>\n",
       "    <tr>\n",
       "      <th>108</th>\n",
       "      <td>of Innovation. Process On December 12, 2016, t...</td>\n",
       "    </tr>\n",
       "    <tr>\n",
       "      <th>24</th>\n",
       "      <td>102.1301 adopted to be effective September 13,...</td>\n",
       "    </tr>\n",
       "    <tr>\n",
       "      <th>64</th>\n",
       "      <td>term of the Plan will begin with the 2017-2018...</td>\n",
       "    </tr>\n",
       "    <tr>\n",
       "      <th>75</th>\n",
       "      <td>for public review and comment March 11, 2017 –...</td>\n",
       "    </tr>\n",
       "  </tbody>\n",
       "</table>\n",
       "</div>"
      ],
      "text/plain": [
       "                                                  text\n",
       "29   102.1305 adopted to be effective September 13,...\n",
       "108  of Innovation. Process On December 12, 2016, t...\n",
       "24   102.1301 adopted to be effective September 13,...\n",
       "64   term of the Plan will begin with the 2017-2018...\n",
       "75   for public review and comment March 11, 2017 –..."
      ]
     },
     "execution_count": 90,
     "metadata": {},
     "output_type": "execute_result"
    }
   ],
   "source": [
    "phrase_df = pd.DataFrame({'text':date_phrases})\n",
    "phrase_df = phrase_df.sample(50, random_state = 414)\n",
    "phrase_df.head()"
   ]
  },
  {
   "cell_type": "code",
   "execution_count": 91,
   "metadata": {},
   "outputs": [
    {
     "name": "stdout",
     "output_type": "stream",
     "text": [
      "1 - 102.1305 adopted to be effective September 13, 2016, 41 TexReg 7089. §\n",
      "2 - of Innovation. Process On December 12, 2016, the Board appointed a District\n",
      "3 - 102.1301 adopted to be effective September 13, 2016, 41 TexReg 7089. §\n",
      "4 - term of the Plan will begin with the 2017-2018 school year and terminate\n",
      "5 - for public review and comment March 11, 2017 – April 9, 2017 April\n",
      "6 - certain mandates. On November, 28, 2016, the Sunnyvale ISD Board of\n",
      "7 - effective September 13, 2016, 41 TexReg 7089. §102.1303. Eligibility.\n",
      "8 - of Innovation Meeting/Approval February 23, 2017 Posted to SISD Website February 24\n",
      "9 - , with the legislature meeting again in January 2017, we hope for greater flexibility\n",
      "10 - plan by 2/3 majority vote February 9, 2017 Public meeting February 9, 2017\n",
      "11 - to TEA Commissioner, Publish April 28, 2017 TERM The term of this Plan\n",
      "12 - 2017 Posted to SISD Website February 24, 2017 Public Approval by District of Innovation\n",
      "13 - and the community. On February 28, 2017, the Board appointed an eighteen\n",
      "14 - 102.1303 adopted to be effective September 13, 2016, 41 TexReg 7089. §\n",
      "15 - District of Innovation Committee Meeting January 24, 2017 Public Meeting for Feedback/Approval\n",
      "16 - overall summative appraisal score for the 2017-2018 school year. In the meantime\n",
      "17 - April 1, 2017 through April 1, 2022 School Board Approval March 27th,\n",
      "18 - , 2022 School Board Approval March 27th, 2017 Introduction During the 84th Legislative Session\n",
      "19 - Adoption by Board of Trustees March 27, 2017 Sunnyvale ISD - District of Innovation\n",
      "20 - TEA Commissioner of Board Vote March 24, 2017 Board Action for Final Approval April\n",
      "21 - ECISD will be Monday, August 21, 2017, for the 2017-2018\n",
      "22 - Public Hearing and Committee Appointment December 12, 2016 District of Innovation Committee Meeting January\n",
      "23 - approved unanimously by the DEIC September 26, 2016. • The plan now resides\n",
      "24 - for five years, beginning April 1, 2017 and ending April 1, 2022\n",
      "25 - plan to Commissioner of Education April 11, 2017 ECISD District of Innovation Plan 3\n",
      "26 - effective September 13, 2016, 41 TexReg 7089. §102.1309. Prohibited Exemptions\n",
      "27 - created during this meeting. March 10, 2017 March Final Draft is posted onto\n",
      "28 - District as a District of Innovation under HB 1842. Approved by the Pearland ISO\n",
      "29 - year and terminate at the end of the 2021-2022 school year, to\n",
      "30 - Improvement Committee Authored: April 2016 - September 2016 INTRODUCTION In April 2016, the\n",
      "31 - THEDISTRICT OF INNOVATION PLANAT THE NOVEMBER 15, 2016 MEETING\n",
      "32 - to approve the final draft April 10, 2017 April  DOI presents the Final\n",
      "33 - meets to draft Innovation Plan March 2, 2017 March DOI meets to draft Innovation\n",
      "34 - POST OFFICE BOX 7 • PEARLAND, TEXAS 77588-0007 • 281-485\n",
      "35 - March 11, 2017 – April 9, 2017 April  DOI hosts public meeting\n",
      "36 - Size 4 TIMELINE Board Resolution February 13, 2017 Public Hearing March 9, 2017\n",
      "37 - . tx.us/rules/tac/ chapter 1 02/ch l 02 jj.html 9/30/2016 Chapter 102, Subchapter JJ Page\n",
      "38 - years. The plan will begin Spring, 2017 and conclude Spring, 2022,\n",
      "39 - 102.1313 adopted to be effective September 13, 2016, 41 TexReg 7089. §\n",
      "40 - making process; and, WHEREAS, HB 1842 requires districts seeking to be designated\n",
      "41 - every child; and, WHEREAS, HB 1842 provides Texas public school districts the\n",
      "42 - Agenda Item Information Meeting Date April 12, 2016 Meeting Type Agenda Placement 181 Regular\n",
      "43 - the Board of Trustees in accordance with HB 1842. The Committee will continually monitor\n",
      "44 - Dimmitt ISD Local Innovation Plan April 1, 2017 through April 1, 2022 School\n",
      "45 - effective September 13, 2016, 41 TexReg 7089. §102.1307. Adoption of\n",
      "46 - Local Innovation Plan to Board April 11, 2017 April Board Work Study  Board\n",
      "47 - . tea.state. tx.us/rules/tac/chapter 102/ch 102 jj .html 9/30/2016 http://ritter Chapter 102, Subchapter JJ\n",
      "48 - 14, 2016 Public Hearing December 12, 2016 BOE approval of Committee Members December\n",
      "49 - - District of Innovation Plan Introduction House Bill 1842, passed by the 84​th​ Legislature\n",
      "50 - rules/tac/chapter 102/ch 102jj .html 9/30/2016 http:tea.state.tx mailto:rules@tea.texas.gov LETTER TO\n"
     ]
    }
   ],
   "source": [
    "i = 1\n",
    "for item in phrase_df.text:\n",
    "    print(i, '-', item)\n",
    "    i = i + 1"
   ]
  },
  {
   "cell_type": "code",
   "execution_count": 92,
   "metadata": {
    "collapsed": true
   },
   "outputs": [],
   "source": [
    "cats = [False, False, False, True, False, \n",
    "        False, False, False, False, False,\n",
    "        False, False, False, False, False,\n",
    "        False, True, False, False, False,\n",
    "        False, False, False, True, False,\n",
    "\n",
    "        False, False, False, False, False,\n",
    "        False, False, False, False, False,\n",
    "        False, False, True, False, False, \n",
    "        False, False, False, True, False,\n",
    "        False, False, False, False, False]"
   ]
  },
  {
   "cell_type": "code",
   "execution_count": 93,
   "metadata": {
    "collapsed": true
   },
   "outputs": [],
   "source": [
    "phrase_df['TERM'] = cats"
   ]
  },
  {
   "cell_type": "markdown",
   "metadata": {},
   "source": [
    "## Add extra true examples to beginning of dataset"
   ]
  },
  {
   "cell_type": "code",
   "execution_count": 94,
   "metadata": {
    "collapsed": true
   },
   "outputs": [],
   "source": [
    "true_phrases = [\"2018-2023\",\n",
    "'This plan will be in effect for the 2017-2018 school year through the 2021-2022 school year.',\n",
    "'Effective Dec. 13, 2016 – Dec. 13, 2021',\n",
    "'The District of Innovation Plan will become effective in September 2018 and will remain in effect for five years, through June 2023.',\n",
    "'Yorktown Independent School District Final District of Innovation Plan 2017-2018.',\n",
    "'the plan will begin in the fall of 2018 and continue until the spring of 2023',\n",
    "'Wortham ISD District of Innovation Plan 2017-2018 through 2021-2022',\n",
    "'The District of Innovation Plan will become effective in April 2017 and will remain in effect for five years, through April 2022.',\n",
    "'Effective 2018-2019 to 2022-2023',\n",
    "'The term of the plan is for five years, beginning February 14, 2017, and ending February 14, 2022, unless terminated.',\n",
    "'Approved by the Board of Trustees September 25, 2017 2017-2022 The Lueders-Avoca Independent School District (L-A ISD)',\n",
    "'The five year plan will take effect August 2017 and end August 2022 unless rescinded or terminated by the Board of Trustees.',\n",
    "'CLYDE CISD DISTRICT OF INNOVATION PLAN 2018 - 2023 Clyde Consolidated Independent School District',\n",
    "'The term of this Plan is for five years, beginning April 1, 2017, and ending December 31, 2021, unless terminated or amended earlier by the Board in accordance with TEC §12A.006 and §12A.008.',\n",
    "'Therefore, this plan will begin with the 2017-2018 school year and conclude at the end of the 2021-2022 school year unless terminated by the Board of Trustees.',\n",
    "'The five year plan will take effect August 2017 and end August 2022 unless rescinded or terminated by the Board of Trustees.']"
   ]
  },
  {
   "cell_type": "code",
   "execution_count": 95,
   "metadata": {
    "collapsed": true
   },
   "outputs": [],
   "source": [
    "true_phrases = [\n",
    "    'remain in effect for the next five years (2019-2023). The plan may be amended at',\n",
    "    'District of Innovation Plan 2016-2021 District of Innovation Plan 2016-2021 House',\n",
    "    'years. Therefore, this plan will begin with the 2017-2018 school year and conclude at the',\n",
    "    'years, beginning at the start of the 2017‐2018 school year  and concluding at the',\n",
    "    'remain in effect for the next five years (2019-2023). The plan may be amended', \n",
    "    'is for five years, beginning in August 2017 through the 2021-2022 school year,',\n",
    "    'A DISTRICT PLAN FOR INNOVATION AND LOCAL CONTROL 2017-2022 APPROVED BY THE BOARD OF TRUSTEES',\n",
    "    'years, beginning at the start of the 2017-2018 school year and ending at the',\n",
    "    'AISD District Plan of Innovation June 1, 2017 – June 1, 2022 House Bill (HB) 1842 passed during',\n",
    "    'District of Innovation June 2017 - May 2021 School Start Date',\n",
    "    'District of Innovation Plan will become effective in June, 2017, and will remain in effect',\n",
    "    'will commence with the adoption at the February 27, 2017, Board of Trustees regular meeting and conclude',\n",
    "    'ISD’s Innovation Plan will begin with the 2017-2018 school year and conclude at the',\n",
    "    'of the Plan is for five years, beginning March 1, 2017 and ending March 1, 2021,',\n",
    "    'INDEPENDENT SCHOOL DISTRICT District of Innovation Plan 2018-2023 SCUC – LEADING WITH PASSION AND',\n",
    "    'years, beginning at the start of the 2017-18 school year and ending at the',\n",
    "    'the plan will begin in the fall of 2018 and continue until the spring of',\n",
    "    'for five years, beginning April 1, 2017, and ending December 31, 2021',\n",
    "    'CLYDE CISD DISTRICT OF INNOVATION PLAN 2018 - 2023 Clyde Consolidated Independent School',\n",
    "    'Effective September 2016 – September 2021 2 What is',\n",
    "    'Effective Dec. 13, 2016 – Dec. 13, 2021 2',\n",
    "    'of Innovation Plan will become effective in April 2017 for the 2017-2018 school',\n",
    "    'AISD District of Innovation 2016-2017 AISD Mission: Educate every student for',\n",
    "    'District of Innovation Plan 2017-2018 Committe members include Jack Franty,'\n",
    "\n",
    "]\n",
    "phrase_df2 = pd.DataFrame({'text':true_phrases})\n",
    "phrase_df2['TERM'] = True\n",
    "phrase_df = phrase_df2.append(phrase_df)"
   ]
  },
  {
   "cell_type": "code",
   "execution_count": 96,
   "metadata": {
    "collapsed": true
   },
   "outputs": [],
   "source": [
    "phrase_df = phrase_df.sample(frac = 1)"
   ]
  },
  {
   "cell_type": "code",
   "execution_count": 97,
   "metadata": {},
   "outputs": [
    {
     "name": "stdout",
     "output_type": "stream",
     "text": [
      "The first n-10 of documents are used for training. Training dataset statistics:\n",
      "False    40\n",
      "True     24\n",
      "Name: TERM, dtype: int64\n",
      "The last 10 of documents are used for testing. Testing dataset statistics:\n",
      "True     5\n",
      "False    5\n",
      "Name: TERM, dtype: int64\n"
     ]
    }
   ],
   "source": [
    "print('The first n-10 of documents are used for training. Training dataset statistics:')\n",
    "split = int(len(phrase_df) - 10)\n",
    "print(phrase_df.head(split)['TERM'].value_counts())\n",
    "\n",
    "print('The last 10 of documents are used for testing. Testing dataset statistics:')\n",
    "print(phrase_df.tail(10)['TERM'].value_counts())"
   ]
  },
  {
   "cell_type": "markdown",
   "metadata": {},
   "source": [
    "## Train classifier"
   ]
  },
  {
   "cell_type": "code",
   "execution_count": 98,
   "metadata": {
    "collapsed": true
   },
   "outputs": [],
   "source": [
    "texts, cats = classify.reformat_cat_from_df(df = phrase_df,\n",
    "                                      text_col = 'text',\n",
    "                                      label_col = 'TERM',\n",
    "                                      category = 'TERM')"
   ]
  },
  {
   "cell_type": "code",
   "execution_count": 99,
   "metadata": {
    "collapsed": true
   },
   "outputs": [],
   "source": [
    "output_dir = os.path.join(data_path, 'date_term_classifier')"
   ]
  },
  {
   "cell_type": "code",
   "execution_count": 100,
   "metadata": {
    "scrolled": true
   },
   "outputs": [
    {
     "name": "stdout",
     "output_type": "stream",
     "text": [
      "Created blank 'en' model\n",
      "Using 74 examples (64 training, 10 evaluation)\n",
      "Warning: Unnamed vectors -- this won't allow multiple vectors models to be loaded. (Shape: (0, 0))\n",
      "Training the model...\n",
      "LOSS \t  P  \t  R  \t  F  \n",
      "6.190\t0.500\t0.400\t0.444\n",
      "3.550\t0.667\t0.400\t0.500\n",
      "3.073\t0.600\t0.600\t0.600\n",
      "0.949\t0.600\t0.600\t0.600\n",
      "1.929\t0.600\t0.600\t0.600\n",
      "1.698\t0.667\t0.800\t0.727\n",
      "0.518\t0.667\t0.800\t0.727\n",
      "1.262\t0.667\t0.800\t0.727\n",
      "0.677\t0.667\t0.800\t0.727\n",
      "0.425\t0.667\t0.800\t0.727\n",
      "No text {'TERM': 4.539787187241018e-05}\n",
      "Saved model to /Users/kylieleblancKylie/dofis/code/exemptions/../../data/date_term_classifier\n",
      "Loading from /Users/kylieleblancKylie/dofis/code/exemptions/../../data/date_term_classifier\n",
      "No text {'TERM': 4.539787187241018e-05}\n"
     ]
    },
    {
     "data": {
      "text/plain": [
       "<spacy.pipeline.TextCategorizer at 0x1200f1438>"
      ]
     },
     "execution_count": 100,
     "metadata": {},
     "output_type": "execute_result"
    }
   ],
   "source": [
    "classify.train_classifier_and_evaluate(texts=texts, \n",
    "                                        cats=cats,\n",
    "                                        n_test = 10,\n",
    "                                        model=None, \n",
    "                                        output_dir=output_dir, \n",
    "                                        n_iter=10, \n",
    "                                        categories=['TERM'])"
   ]
  },
  {
   "cell_type": "code",
   "execution_count": null,
   "metadata": {
    "collapsed": true
   },
   "outputs": [],
   "source": []
  }
 ],
 "metadata": {
  "kernelspec": {
   "display_name": "Python [conda env:spacy]",
   "language": "python",
   "name": "conda-env-spacy-py"
  },
  "language_info": {
   "codemirror_mode": {
    "name": "ipython",
    "version": 3
   },
   "file_extension": ".py",
   "mimetype": "text/x-python",
   "name": "python",
   "nbconvert_exporter": "python",
   "pygments_lexer": "ipython3",
   "version": "3.7.0"
  }
 },
 "nbformat": 4,
 "nbformat_minor": 2
}
