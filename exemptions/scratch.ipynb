{
 "cells": [
  {
   "cell_type": "code",
   "execution_count": 1,
   "metadata": {},
   "outputs": [
    {
     "name": "stderr",
     "output_type": "stream",
     "text": [
      "/Users/kylieleblancKylie/anaconda/envs/spacy/lib/python3.7/importlib/_bootstrap.py:219: RuntimeWarning: numpy.dtype size changed, may indicate binary incompatibility. Expected 96, got 88\n",
      "  return f(*args, **kwds)\n",
      "/Users/kylieleblancKylie/anaconda/envs/spacy/lib/python3.7/importlib/_bootstrap.py:219: RuntimeWarning: numpy.ufunc size changed, may indicate binary incompatibility. Expected 192, got 176\n",
      "  return f(*args, **kwds)\n",
      "/Users/kylieleblancKylie/anaconda/envs/spacy/lib/python3.7/importlib/_bootstrap.py:219: RuntimeWarning: numpy.dtype size changed, may indicate binary incompatibility. Expected 96, got 88\n",
      "  return f(*args, **kwds)\n",
      "/Users/kylieleblancKylie/anaconda/envs/spacy/lib/python3.7/importlib/_bootstrap.py:219: RuntimeWarning: numpy.ufunc size changed, may indicate binary incompatibility. Expected 192, got 176\n",
      "  return f(*args, **kwds)\n"
     ]
    }
   ],
   "source": [
    "import csv\n",
    "import pandas as pd\n",
    "import os\n",
    "import classify\n",
    "import extract_dates\n",
    "import random\n",
    "import spacy\n",
    "import en_core_web_sm\n",
    "nlp =  en_core_web_sm.load()\n",
    "import re\n",
    "from start import data_path"
   ]
  },
  {
   "cell_type": "code",
   "execution_count": 2,
   "metadata": {
    "collapsed": true
   },
   "outputs": [],
   "source": [
    "docs = pd.read_csv(os.path.join(data_path, 'text_narrowed.csv'))\n",
    "test = docs[docs.title == \"Ector County ISD\"]"
   ]
  },
  {
   "cell_type": "code",
   "execution_count": 3,
   "metadata": {
    "scrolled": true
   },
   "outputs": [
    {
     "data": {
      "text/html": [
       "<div>\n",
       "<style scoped>\n",
       "    .dataframe tbody tr th:only-of-type {\n",
       "        vertical-align: middle;\n",
       "    }\n",
       "\n",
       "    .dataframe tbody tr th {\n",
       "        vertical-align: top;\n",
       "    }\n",
       "\n",
       "    .dataframe thead th {\n",
       "        text-align: right;\n",
       "    }\n",
       "</style>\n",
       "<table border=\"1\" class=\"dataframe\">\n",
       "  <thead>\n",
       "    <tr style=\"text-align: right;\">\n",
       "      <th></th>\n",
       "      <th>Unnamed: 0</th>\n",
       "      <th>Unnamed: 0.1</th>\n",
       "      <th>Unnamed: 0.1.1</th>\n",
       "      <th>title</th>\n",
       "      <th>level</th>\n",
       "      <th>type</th>\n",
       "      <th>link</th>\n",
       "      <th>text</th>\n",
       "      <th>p_innovation</th>\n",
       "    </tr>\n",
       "  </thead>\n",
       "  <tbody>\n",
       "    <tr>\n",
       "      <th>568</th>\n",
       "      <td>270</td>\n",
       "      <td>270</td>\n",
       "      <td>270</td>\n",
       "      <td>Ector County ISD</td>\n",
       "      <td>First</td>\n",
       "      <td>pdf</td>\n",
       "      <td>http://www.ectorcountyisd.org/cms/lib011/tx010...</td>\n",
       "      <td>ECISD District of Innovation Plan 1 I. Introdu...</td>\n",
       "      <td>0.999667</td>\n",
       "    </tr>\n",
       "  </tbody>\n",
       "</table>\n",
       "</div>"
      ],
      "text/plain": [
       "     Unnamed: 0  Unnamed: 0.1  Unnamed: 0.1.1             title  level type  \\\n",
       "568         270           270             270  Ector County ISD  First  pdf   \n",
       "\n",
       "                                                  link  \\\n",
       "568  http://www.ectorcountyisd.org/cms/lib011/tx010...   \n",
       "\n",
       "                                                  text  p_innovation  \n",
       "568  ECISD District of Innovation Plan 1 I. Introdu...      0.999667  "
      ]
     },
     "execution_count": 3,
     "metadata": {},
     "output_type": "execute_result"
    }
   ],
   "source": [
    "test"
   ]
  },
  {
   "cell_type": "code",
   "execution_count": 4,
   "metadata": {
    "scrolled": false
   },
   "outputs": [
    {
     "data": {
      "text/plain": [
       "array(['ECISD District of Innovation Plan 1 I. Introduction House Bill 1842, passed during the 84th Legislative Session, permits Texas public school districts to become Districts of Innovation and to obtain exemption from certain provisions of the Texas Education Code. On February 21, 2017 the Ector County Independent School District’s Board of Trustees (“Board”) passed a resolution to initiate the Process of Designation as a District of Innovation in order to increase local control over District operations and to support innovation and local initiatives to improve educational outcomes for the benefit of students and the community. On February 28, 2017, the Board appointed an eighteen member District of Innovation Committee (“Committee”) comprised of district leaders, teachers, parents, and community members representing a variety of roles and responsibilities. The Committee met on March 2, 6, and 10, 2017, to discuss and draft this Local Innovation Plan (“Plan”). Based on direction provided by the Board and input from various District stakeholders, the Committee proposes this Plan. II. Term The term of the Plan will begin with the 2017-2018 school year and terminate at the end of the 2021-2022 school year, to include anything amended, rescinded, or renewed with the approval of the District of Innovation Committee (DOI), the District Continuous Improvement Team (DCIT) and the Board of Trustees. The DOI committee will review the Plan annually, and as needed, to confirm consistent alignment with the needs of the District. The DOI committee will be given adequate time to deliberate any requested or recommended changes to the Plan. Any recommended plan changes will be posted to the District website for 30 days and require the approval of the DOI committee, DCIT, and the Board of Trustees. III. A Comprehensive Educational Program The Plan’s comprehensive educational program is guided by the Mission Statement, Vision, and Core Beliefs. Mission Statement The mission of the ECISD Community; a passionate, unified, world class leader in education, is to develop world ready, life-long learners who discover their unique gifts, achieve personal success, and fuel their community by building unified, comprehensive community support and participation that fosters a standard of excellence; serving as advocate and steward for all students; ensuring relevant teaching, engaged learning, and dynamic innovation; and maximizing all available resources. Vision We embrace the vision of 4 non-negotiables: \\uf0b7 Academic Excellence \\uf0b7 College & Career Readiness \\uf0b7 Safe & Supportive Learning Environment \\uf0b7 Purposeful, Timely, Two-Way Communication ECISD District of Innovation Plan 2 Core Beliefs We believe that... \\uf0b7 Each person has inherent worth and unique strengths. \\uf0b7 Curiosity and learning are natural and grow without limit given stimulation and nurturing. \\uf0b7 People are interdependent. \\uf0b7 Each individual has a responsibility to add value to self and community. \\uf0b7 Individuals are accountable for their choices and actions. \\uf0b7 Education creates opportunity and opportunity creates a better world. \\uf0b7 Progress improves and adds value to human life. \\uf0b7 Fear limits life’s potential; courage inspires living. \\uf0b7 There is a difference between right and wrong. \\uf0b7 Values learned at home affect a lifetime. \\uf0b7 Leadership is influence; everyone is a leader. IV. Waiver Timeline Timeline Task Completion Date February Board Work Study \\uf0b7 Board of Trustees discusses rules and process for being a District of Innovation \\uf0b7 Board reviews Resolution to initiate consideration for being designated as a District of Innovation \\uf0b7 Board discusses appointment of DOI members* February 14, 2016 February Board Meeting \\uf0b7 Board votes to adopt Resolution to initiate consideration for being designated as a District of Innovation February 21, 2016 February \\uf0b7 Board holds public hearing to consider whether the district should become a District of Innovation \\uf0b7 Board appoints the DOI to develop a Local Innovation Plan \\uf0b7 Board votes to notify Commissioner of its intention to vote on adopting final Local Innovation Plan on April 11, 2017* February 28, 2017 March DOI meets to draft Innovation Plan March 2, 2017 March DOI meets to draft Innovation Plan March 6, 2017 March DOI meets to draft Innovation Plan. Final Draft is created during this meeting. March 10, 2017 March Final Draft is posted onto the District Website for 30 days for public review and comment March 11, 2017 – April 9, 2017 April \\uf0b7 DOI hosts public meeting to consider final version of Innovation Plan \\uf0b7 DCIT votes (majority vote) to approve the final draft April 10, 2017 April \\uf0b7 DOI presents the Final Draft of the Local Innovation Plan to Board April 11, 2017 April Board Work Study \\uf0b7 Board of Trustees votes for approval of final draft of Local Innovation Plan with 2/3 vote \\uf0b7 District sends approved plan to Commissioner of Education April 11, 2017 ECISD District of Innovation Plan 3 V. District of Innovation Committee Members VI. Exemptions Exemption for TEC Sec. 21.003. CTE Certification TEC Code Requiring Exemption: TEC Sec. 21.003(a). CERTIFICATION REQUIRED. TEC Sec. 21.057(a)-(e) (a) A person may not be employed as a teacher, teacher intern or teacher trainee, librarian, educational aide, administrator, educational diagnostician, or school counselor by a school district unless the person holds an appropriate certificate or permit issued as provided by Subchapter B. Current Challenges: \\uf0b7 Students are frequently wait listed or turned away from these particular courses due to a shortage of CTE teachers \\uf0b7 CTE teachers frequently have difficulty passing the certification exams \\uf0b7 CTE applicants frequently do not accept positions once they are faced with: \\uf0b7 Pay cuts from business and industry when entering the teaching profession; \\uf0b7 Additional loss of pay to cover the cost of alternative teacher certification programs; and \\uf0b7 Knowledge that there are exams and exam fees. \\uf0b7 CTE teachers take the teaching positions in lieu of the aforementioned points, and then the CTE Department is faced with losing them if there is an inability to pass the certification exam. This is Team Member Role Angela Holland ATPE Elizabeth Ann McClarty Administration Brandy Ferrer Chairperson Carolyn Gonzalez Administration Celeste Potter Education Foundation Christopher Bartlett TSTA Stephanie Dawn McCrary Parent James Ramage Administration Jeff Woltz Education Foundation Jessica Orosco Parent Juan Mendoza Parent Lindsey Lee Elementary Teacher Misty Hiner Secondary Teacher Olga Garza ATPE Priscilla Aguilar Parent Roxanna Mitchell Parent Roy Garcia Administration Sharon Story TSTA ECISD District of Innovation Plan 4 an added stressor for both the teacher, the CTE department, the teacher team members, and a significant loss to what would have been future students. Benefits & Rationale of Exemption for ECISD: \\uf0b7 Enrich applicant pools for specific CTE positions \\uf0b7 Flexibility to hire professionals in certain trades or vocations to teach the crafts of those trades or vocations \\uf0b7 Quality of applicant expertise would significantly increase the benefit to students pursuing that trade or vocational skill \\uf0b7 Reduction in the stress of taking and passing certification exams \\uf0b7 Reduction in the typically already reduced pay (in not having to cover the cost of exams and alternative certification programs) \\uf0b7 Improved route to hiring stellar, qualified individuals to serve our students \\uf0b7 Improved CTE teacher retention rate Local Guidelines: CTE Certification Plan for SOQ Employees Per TAC 233.14, an SOQ (Statement of Qualifications) is fulfilled via 5 years, full time, paid employment in the applicable field in business and industry. (2) The standard Trade and Industrial Education: Grades 8-12 certificate shall require current licensure, certification, or registration by a nationally recognized accrediting agency based on a recognized test or measurement. If the licensure, certification, or registration is not based on a recognized test or measurement, then passing the appropriate National Occupational Competency Testing Institute (NOCTI) assessment is required Career Pathways Requiring an SOQ and a high school diploma: 1. Automotive Technology 2. Auto Collision & Repair 3. Construction Technology 4. Welding In addition to SOQ requirements, ECISD would also require the following licensures/certifications for each area: 1. Automotive Technology \\uf0b7 A minimum of five ASE (Automotive Service Excellence) certificates with one of the five being the MLR (Auto Maintenance and Light Repair) 2. Auto Collision & Repair \\uf0b7 I-CAR Platinum Standard 3. Construction Technology \\uf0b7 For all building and trades applicable occupations, a state licensure is required; examples include electricians, plumbers, HVAC technicians, and building contractors. 4. Welding \\uf0b7 AWS (American Welding Society) certification Lastly, teachers hired in these areas would be required to enroll in and complete during the first year of teaching, a 20-hour CTE Classroom Management professional development program through an alternative certification program such as Region 18 or Region 13. ECISD District of Innovation Plan 5 The District considers individuals hired under these Guidelines for these positions to be appropriately qualified and, therefore, will not provide special notification to parents of students in their classes that the instructor does not hold a traditional teaching certificate. Exemption for TEC Sec. 21.351. Student Progress & Growth Measure in Appraisals TEC Code Requiring Exemption: TEC Sec. 21.351, 21.352, 21.354, 21.3541 and 19 Texas Administrative Code Chapter 150 to the extent these laws require that student academic growth or progress as a required component of the teacher and administrator appraisal Current Challenges: \\uf0b7 The use of test scores creates disparity between teachers who teach core subject areas tested in STAAR versus non-core testing area teachers \\uf0b7 Finalized state standardized test scores are not received until after teacher appraisal deadlines \\uf0b7 ECISD teachers and administrators are still trying to assimilate the new appraisal systems of T- TESS and T-PESS \\uf0b7 Current uncertainties with legislative decisions and processes concerning testing and accountability systems make the student performance factor unreliable Benefits & Rationale of Exemption for ECISD: \\uf0b7 Promotes an accountability system that maintains focus on the 16 dimensions of T-TESS and professional growth in those areas; \\uf0b7 Promotes professional development that focuses on individual growth; \\uf0b7 Allows ECISD time to research the processes of other school districts and the effectiveness of their practices. Local Guidelines: The Student Growth and Progress Measure, as detailed in TAC Chapter 150, Subchapter AA Sec. §150.1001. General Provisions, (f) (2) (A-D); and TAC Chapter 150, Subchapter BB Sec. §150.1022. Assessment of Principal Performance, (g) (1-3); shall not be calculated into the overall summative appraisal score for the 2017-2018 school year. In the meantime, the ECISD administration will be responsible for developing investigative committees to research best practices concerning the aforementioned TEC and TAC detailed exemptions. ECISD District of Innovation Plan 6 Exemption for TEC Sec. 25.0811. First Day of Instruction TEC Code Requiring Exemption: TEC 25.0811: A school district may not begin instruction for students for a school year before the fourth Monday in August. Current Challenges: If school starts on the fourth Monday in August: \\uf0b7 Due to the late start date at the end of the second semester would come much later than usual which could cause a decrease in student motivation and quality of learning after end-of-year finals and state tests have been administered. \\uf0b7 Graduation and end of school dates in June conflict with students’ summer commitments to college courses, jobs, summer camps, and military commitments. \\uf0b7 Semesters are not balanced and 6 Week grading periods consist of less days than an actual 6 weeks \\uf0b7 The cost of energy significantly rises in the warmer months \\uf0b7 Daily instructional minutes will increase, which affects athletics and extracurricular activities that take place before and after school \\uf0b7 Most students are already on campus for athletics, fine arts, ROTC, or other extracurricular activities in early August \\uf0b7 No break before summer school begins and less time for SSI remediation \\uf0b7 The number of teacher contract and professional development days before instruction begins is burdensome Benefits & Rationale of Exemption for ECISD: \\uf0b7 Starting one week earlier will balance the two semesters with a natural Winter Break, set exams prior to Winter Break, and create more instructional time before STAAR/EOC/AP exams; \\uf0b7 Graduation and the last day of school will be prior to Memorial Day; \\uf0b7 Ending school before Memorial Day will allow for a brief break before summer school begins, allowing for more time to prep, plan, and offer remedial instruction before the third test administration; \\uf0b7 The daily average of instructional minutes will not see a significant increase, if any, depending on the calendar option chosen. Local Guidelines: The official start date for ECISD will be Monday, August 21, 2017, for the 2017-2018 school year. In subsequent years, the District will have the flexibility to designate the first day of school each year, but not before the second Monday of August. The calendar exemption does not affect the number of contract days for teachers, which remain the same.'],\n",
       "      dtype=object)"
      ]
     },
     "execution_count": 4,
     "metadata": {},
     "output_type": "execute_result"
    }
   ],
   "source": [
    "test.text.values"
   ]
  },
  {
   "cell_type": "code",
   "execution_count": 5,
   "metadata": {},
   "outputs": [
    {
     "data": {
      "text/plain": [
       "['the Texas Education Code. On February 21, 2017 the Ector County Independent School District’s Board of Trustees (“Board”',\n",
       " 'and the community. On February 28, 2017, the Board appointed an',\n",
       " 'March 2, 6, and 10, 2017, to discuss and draft',\n",
       " 'appointment of DOI members* February 14, 2016 February Board Meeting \\uf0b7 Board',\n",
       " 'as a District of Innovation February 21, 2016 February \\uf0b7 Board holds public',\n",
       " 'final Local Innovation Plan on April 11, 2017* February 28, 2017 March DOI',\n",
       " 'April 11, 2017* February 28, 2017 March DOI meets to draft',\n",
       " 'meets to draft Innovation Plan March 2, 2017 March DOI meets to draft',\n",
       " 'meets to draft Innovation Plan March 6, 2017 March DOI meets to draft',\n",
       " 'created during this meeting. March 10, 2017 March Final Draft is posted',\n",
       " 'for public review and comment March 11, 2017 – April 9, 2017',\n",
       " 'March 11, 2017 – April 9, 2017 April \\uf0b7 DOI hosts public',\n",
       " 'to approve the final draft April 10, 2017 April \\uf0b7 DOI presents the Final Draft of the Local Innovation Plan to Board',\n",
       " 'the Final Draft of the Local Innovation Plan to Board April 11, 2017 April Board Work Study \\uf0b7 Board of Trustees',\n",
       " 'plan to Commissioner of Education April 11, 2017 ECISD District of Innovation Plan']"
      ]
     },
     "execution_count": 5,
     "metadata": {},
     "output_type": "execute_result"
    }
   ],
   "source": [
    "for text in list(test.text):\n",
    "    phrases = extract_dates.get_phrase_list(text)\n",
    "p_cats = extract_dates.get_p_cats(phrases, output_dir = os.path.join(data_path, 'date_finalize_classifier'))\n",
    "narrowed_phrases = extract_dates.narrow_phrase_list(phrases_list = phrases, p_dict_list = p_cats)\n",
    "narrowed_phrases"
   ]
  },
  {
   "cell_type": "code",
   "execution_count": 20,
   "metadata": {},
   "outputs": [],
   "source": [
    "max_year_phrases = []\n",
    "years = []\n",
    "months = []\n",
    "for phrase in narrowed_phrases:\n",
    "    year, month = extract_dates.get_latest_month_year_pair(phrase)\n",
    "    years.append(year)\n",
    "    months.append(month)\n",
    "max_year = max(years)\n",
    "i = 0\n",
    "new_months = []\n",
    "for year in years:\n",
    "    if year == max_year:\n",
    "        max_year_phrases.append(narrowed_phrases[i])\n",
    "        new_months.append(months[i])\n",
    "    i = i + 1\n",
    "max_month = extract_dates.get_latest_month(new_months)\n",
    "date_phrase = max_year_phrases[new_months.index(max_month)]"
   ]
  },
  {
   "cell_type": "code",
   "execution_count": 17,
   "metadata": {},
   "outputs": [
    {
     "data": {
      "text/plain": [
       "13"
      ]
     },
     "execution_count": 17,
     "metadata": {},
     "output_type": "execute_result"
    }
   ],
   "source": [
    "len(max_year_phrases)"
   ]
  },
  {
   "cell_type": "code",
   "execution_count": 18,
   "metadata": {},
   "outputs": [
    {
     "data": {
      "text/plain": [
       "13"
      ]
     },
     "execution_count": 18,
     "metadata": {},
     "output_type": "execute_result"
    }
   ],
   "source": [
    "len(new_months)"
   ]
  },
  {
   "cell_type": "code",
   "execution_count": 21,
   "metadata": {},
   "outputs": [
    {
     "data": {
      "text/plain": [
       "'final Local Innovation Plan on April 11, 2017* February 28, 2017 March DOI'"
      ]
     },
     "execution_count": 21,
     "metadata": {},
     "output_type": "execute_result"
    }
   ],
   "source": [
    "date_phrase"
   ]
  },
  {
   "cell_type": "code",
   "execution_count": 22,
   "metadata": {},
   "outputs": [
    {
     "data": {
      "text/plain": [
       "'April'"
      ]
     },
     "execution_count": 22,
     "metadata": {},
     "output_type": "execute_result"
    }
   ],
   "source": [
    "max_month"
   ]
  },
  {
   "cell_type": "code",
   "execution_count": 23,
   "metadata": {},
   "outputs": [
    {
     "data": {
      "text/plain": [
       "2017"
      ]
     },
     "execution_count": 23,
     "metadata": {},
     "output_type": "execute_result"
    }
   ],
   "source": [
    "max_year"
   ]
  },
  {
   "cell_type": "code",
   "execution_count": 27,
   "metadata": {},
   "outputs": [
    {
     "data": {
      "text/plain": [
       "(May 9,, Board of Trustees)"
      ]
     },
     "execution_count": 27,
     "metadata": {},
     "output_type": "execute_result"
    }
   ],
   "source": [
    "small = 'of intent to approve plan May 9, 2016 Board of Trustees votes to'\n",
    "small_doc = nlp(small)\n",
    "small_doc.ents"
   ]
  },
  {
   "cell_type": "code",
   "execution_count": null,
   "metadata": {
    "collapsed": true
   },
   "outputs": [],
   "source": []
  }
 ],
 "metadata": {
  "kernelspec": {
   "display_name": "Python [conda env:spacy]",
   "language": "python",
   "name": "conda-env-spacy-py"
  },
  "language_info": {
   "codemirror_mode": {
    "name": "ipython",
    "version": 3
   },
   "file_extension": ".py",
   "mimetype": "text/x-python",
   "name": "python",
   "nbconvert_exporter": "python",
   "pygments_lexer": "ipython3",
   "version": "3.7.0"
  }
 },
 "nbformat": 4,
 "nbformat_minor": 2
}
