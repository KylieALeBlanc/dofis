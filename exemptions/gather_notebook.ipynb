{
 "cells": [
  {
   "cell_type": "code",
   "execution_count": 1,
   "metadata": {},
   "outputs": [],
   "source": [
    "import gather\n",
    "import os"
   ]
  },
  {
   "cell_type": "code",
   "execution_count": 2,
   "metadata": {
    "collapsed": true
   },
   "outputs": [],
   "source": [
    "# List of seed links found on TEA website\n",
    "tea_url = 'https://tea.texas.gov/Texas_Schools/District_Initiatives/Districts_of_Innovation/'"
   ]
  },
  {
   "cell_type": "markdown",
   "metadata": {},
   "source": [
    "## First Level Links"
   ]
  },
  {
   "cell_type": "code",
   "execution_count": 3,
   "metadata": {},
   "outputs": [
    {
     "name": "stderr",
     "output_type": "stream",
     "text": [
      "/Users/kylieleblancKylie/anaconda/lib/python3.5/site-packages/bs4/__init__.py:181: UserWarning: No parser was explicitly specified, so I'm using the best available HTML parser for this system (\"lxml\"). This usually isn't a problem, but if you run this code on another system, or in a different virtual environment, it may use a different parser and behave differently.\n",
      "\n",
      "The code that caused this warning is on line 193 of the file /Users/kylieleblancKylie/anaconda/lib/python3.5/runpy.py. To get rid of this warning, change code that looks like this:\n",
      "\n",
      " BeautifulSoup(YOUR_MARKUP})\n",
      "\n",
      "to this:\n",
      "\n",
      " BeautifulSoup(YOUR_MARKUP, \"lxml\")\n",
      "\n",
      "  markup_type=markup_type))\n"
     ]
    },
    {
     "data": {
      "text/html": [
       "<div>\n",
       "<style scoped>\n",
       "    .dataframe tbody tr th:only-of-type {\n",
       "        vertical-align: middle;\n",
       "    }\n",
       "\n",
       "    .dataframe tbody tr th {\n",
       "        vertical-align: top;\n",
       "    }\n",
       "\n",
       "    .dataframe thead th {\n",
       "        text-align: right;\n",
       "    }\n",
       "</style>\n",
       "<table border=\"1\" class=\"dataframe\">\n",
       "  <thead>\n",
       "    <tr style=\"text-align: right;\">\n",
       "      <th></th>\n",
       "      <th>link</th>\n",
       "      <th>type</th>\n",
       "      <th>level</th>\n",
       "    </tr>\n",
       "  </thead>\n",
       "  <tbody>\n",
       "    <tr>\n",
       "      <th>Nixon-Smiley CISD</th>\n",
       "      <td>https://core-docs.s3.amazonaws.com/documents/a...</td>\n",
       "      <td>pdf</td>\n",
       "      <td>First</td>\n",
       "    </tr>\n",
       "    <tr>\n",
       "      <th>Prairiland ISD</th>\n",
       "      <td>https://s3.amazonaws.com/scschoolfiles/233/dis...</td>\n",
       "      <td>pdf</td>\n",
       "      <td>First</td>\n",
       "    </tr>\n",
       "    <tr>\n",
       "      <th>Littlefield ISD</th>\n",
       "      <td>http://www.littlefield.k12.tx.us/UserFiles/Ser...</td>\n",
       "      <td>pdf</td>\n",
       "      <td>First</td>\n",
       "    </tr>\n",
       "    <tr>\n",
       "      <th>Rising Star ISD</th>\n",
       "      <td>http://www.risingstarisd.org/vimages/shared/vn...</td>\n",
       "      <td>pdf</td>\n",
       "      <td>First</td>\n",
       "    </tr>\n",
       "    <tr>\n",
       "      <th>Lometa ISD</th>\n",
       "      <td>https://drive.google.com/file/d/1DqPY5G88CnmpB...</td>\n",
       "      <td>google</td>\n",
       "      <td>First</td>\n",
       "    </tr>\n",
       "  </tbody>\n",
       "</table>\n",
       "</div>"
      ],
      "text/plain": [
       "                                                                link    type  \\\n",
       "Nixon-Smiley CISD  https://core-docs.s3.amazonaws.com/documents/a...     pdf   \n",
       "Prairiland ISD     https://s3.amazonaws.com/scschoolfiles/233/dis...     pdf   \n",
       "Littlefield ISD    http://www.littlefield.k12.tx.us/UserFiles/Ser...     pdf   \n",
       "Rising Star ISD    http://www.risingstarisd.org/vimages/shared/vn...     pdf   \n",
       "Lometa ISD         https://drive.google.com/file/d/1DqPY5G88CnmpB...  google   \n",
       "\n",
       "                   level  \n",
       "Nixon-Smiley CISD  First  \n",
       "Prairiland ISD     First  \n",
       "Littlefield ISD    First  \n",
       "Rising Star ISD    First  \n",
       "Lometa ISD         First  "
      ]
     },
     "execution_count": 3,
     "metadata": {},
     "output_type": "execute_result"
    }
   ],
   "source": [
    "first_level_links = gather.DocLinks(tea_url, print_interim = False)\n",
    "first_level_links_df = first_level_links.docs_df\n",
    "first_level_links_df['level'] = \"First\"\n",
    "first_level_links_df.head()"
   ]
  },
  {
   "cell_type": "markdown",
   "metadata": {},
   "source": [
    "## Second Level Links"
   ]
  },
  {
   "cell_type": "code",
   "execution_count": 4,
   "metadata": {},
   "outputs": [
    {
     "name": "stderr",
     "output_type": "stream",
     "text": [
      "/Users/kylieleblancKylie/anaconda/lib/python3.5/site-packages/bs4/__init__.py:181: UserWarning: No parser was explicitly specified, so I'm using the best available HTML parser for this system (\"lxml\"). This usually isn't a problem, but if you run this code on another system, or in a different virtual environment, it may use a different parser and behave differently.\n",
      "\n",
      "The code that caused this warning is on line 193 of the file /Users/kylieleblancKylie/anaconda/lib/python3.5/runpy.py. To get rid of this warning, change code that looks like this:\n",
      "\n",
      " BeautifulSoup(YOUR_MARKUP})\n",
      "\n",
      "to this:\n",
      "\n",
      " BeautifulSoup(YOUR_MARKUP, \"lxml\")\n",
      "\n",
      "  markup_type=markup_type))\n"
     ]
    }
   ],
   "source": [
    "seed_links = gather.SeedLinks(tea_url, print_interim = False).seed_links\n",
    "seed_links"
   ]
  },
  {
   "cell_type": "code",
   "execution_count": null,
   "metadata": {
    "collapsed": true
   },
   "outputs": [],
   "source": []
  }
 ],
 "metadata": {
  "kernelspec": {
   "display_name": "Python [conda root]",
   "language": "python",
   "name": "conda-root-py"
  },
  "language_info": {
   "codemirror_mode": {
    "name": "ipython",
    "version": 3
   },
   "file_extension": ".py",
   "mimetype": "text/x-python",
   "name": "python",
   "nbconvert_exporter": "python",
   "pygments_lexer": "ipython3",
   "version": "3.5.4"
  }
 },
 "nbformat": 4,
 "nbformat_minor": 2
}
