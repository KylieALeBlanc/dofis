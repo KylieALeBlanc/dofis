{
 "cells": [
  {
   "cell_type": "code",
   "execution_count": 16,
   "metadata": {},
   "outputs": [
    {
     "data": {
      "text/html": [
       "<div>\n",
       "<style scoped>\n",
       "    .dataframe tbody tr th:only-of-type {\n",
       "        vertical-align: middle;\n",
       "    }\n",
       "\n",
       "    .dataframe tbody tr th {\n",
       "        vertical-align: top;\n",
       "    }\n",
       "\n",
       "    .dataframe thead th {\n",
       "        text-align: right;\n",
       "    }\n",
       "</style>\n",
       "<table border=\"1\" class=\"dataframe\">\n",
       "  <thead>\n",
       "    <tr style=\"text-align: right;\">\n",
       "      <th></th>\n",
       "      <th>Unnamed: 0</th>\n",
       "      <th>Unnamed: 0.1</th>\n",
       "      <th>_merge</th>\n",
       "      <th>alg_avescore</th>\n",
       "      <th>alg_numtakers</th>\n",
       "      <th>bio_avescore</th>\n",
       "      <th>bio_numtakers</th>\n",
       "      <th>cntyname</th>\n",
       "      <th>distischarter</th>\n",
       "      <th>distname</th>\n",
       "      <th>...</th>\n",
       "      <th>teachers_phddegree_num</th>\n",
       "      <th>teachers_tenure_ave</th>\n",
       "      <th>teachers_turnover_denom</th>\n",
       "      <th>teachers_turnover_num</th>\n",
       "      <th>teachers_turnover_ratio</th>\n",
       "      <th>type</th>\n",
       "      <th>type_description</th>\n",
       "      <th>us_avescore</th>\n",
       "      <th>us_numtakers</th>\n",
       "      <th>year</th>\n",
       "    </tr>\n",
       "  </thead>\n",
       "  <tbody>\n",
       "    <tr>\n",
       "      <th>0</th>\n",
       "      <td>0</td>\n",
       "      <td>0</td>\n",
       "      <td>both</td>\n",
       "      <td>4079.0</td>\n",
       "      <td>61.0</td>\n",
       "      <td>4049.0</td>\n",
       "      <td>60.0</td>\n",
       "      <td>ANDERSON</td>\n",
       "      <td>N</td>\n",
       "      <td>CAYUGA ISD</td>\n",
       "      <td>...</td>\n",
       "      <td>0.0</td>\n",
       "      <td>8.1687</td>\n",
       "      <td>NaN</td>\n",
       "      <td>NaN</td>\n",
       "      <td>7.1616</td>\n",
       "      <td>H</td>\n",
       "      <td>RURAL</td>\n",
       "      <td>3535.0</td>\n",
       "      <td>44.0</td>\n",
       "      <td>2012</td>\n",
       "    </tr>\n",
       "    <tr>\n",
       "      <th>1</th>\n",
       "      <td>1</td>\n",
       "      <td>1</td>\n",
       "      <td>both</td>\n",
       "      <td>4012.0</td>\n",
       "      <td>68.0</td>\n",
       "      <td>3608.0</td>\n",
       "      <td>80.0</td>\n",
       "      <td>ANDERSON</td>\n",
       "      <td>N</td>\n",
       "      <td>ELKHART ISD</td>\n",
       "      <td>...</td>\n",
       "      <td>0.0</td>\n",
       "      <td>9.9706</td>\n",
       "      <td>NaN</td>\n",
       "      <td>NaN</td>\n",
       "      <td>14.9543</td>\n",
       "      <td>G</td>\n",
       "      <td>NON-METROPOLITAN STABLE</td>\n",
       "      <td>NaN</td>\n",
       "      <td>NaN</td>\n",
       "      <td>2012</td>\n",
       "    </tr>\n",
       "    <tr>\n",
       "      <th>2</th>\n",
       "      <td>2</td>\n",
       "      <td>2</td>\n",
       "      <td>both</td>\n",
       "      <td>3733.0</td>\n",
       "      <td>34.0</td>\n",
       "      <td>3512.0</td>\n",
       "      <td>32.0</td>\n",
       "      <td>ANDERSON</td>\n",
       "      <td>N</td>\n",
       "      <td>FRANKSTON ISD</td>\n",
       "      <td>...</td>\n",
       "      <td>0.0</td>\n",
       "      <td>10.0724</td>\n",
       "      <td>NaN</td>\n",
       "      <td>NaN</td>\n",
       "      <td>7.1843</td>\n",
       "      <td>H</td>\n",
       "      <td>RURAL</td>\n",
       "      <td>3503.0</td>\n",
       "      <td>37.0</td>\n",
       "      <td>2012</td>\n",
       "    </tr>\n",
       "    <tr>\n",
       "      <th>3</th>\n",
       "      <td>3</td>\n",
       "      <td>3</td>\n",
       "      <td>both</td>\n",
       "      <td>3885.0</td>\n",
       "      <td>33.0</td>\n",
       "      <td>4056.0</td>\n",
       "      <td>33.0</td>\n",
       "      <td>ANDERSON</td>\n",
       "      <td>N</td>\n",
       "      <td>NECHES ISD</td>\n",
       "      <td>...</td>\n",
       "      <td>0.0</td>\n",
       "      <td>4.3684</td>\n",
       "      <td>NaN</td>\n",
       "      <td>NaN</td>\n",
       "      <td>14.4417</td>\n",
       "      <td>H</td>\n",
       "      <td>RURAL</td>\n",
       "      <td>NaN</td>\n",
       "      <td>NaN</td>\n",
       "      <td>2012</td>\n",
       "    </tr>\n",
       "    <tr>\n",
       "      <th>4</th>\n",
       "      <td>4</td>\n",
       "      <td>4</td>\n",
       "      <td>both</td>\n",
       "      <td>3657.0</td>\n",
       "      <td>160.0</td>\n",
       "      <td>3847.0</td>\n",
       "      <td>196.0</td>\n",
       "      <td>ANDERSON</td>\n",
       "      <td>N</td>\n",
       "      <td>PALESTINE ISD</td>\n",
       "      <td>...</td>\n",
       "      <td>1.0</td>\n",
       "      <td>6.6886</td>\n",
       "      <td>NaN</td>\n",
       "      <td>NaN</td>\n",
       "      <td>21.2043</td>\n",
       "      <td>E</td>\n",
       "      <td>INDEPENDENT TOWN</td>\n",
       "      <td>3713.0</td>\n",
       "      <td>198.0</td>\n",
       "      <td>2012</td>\n",
       "    </tr>\n",
       "  </tbody>\n",
       "</table>\n",
       "<p>5 rows × 68 columns</p>\n",
       "</div>"
      ],
      "text/plain": [
       "   Unnamed: 0  Unnamed: 0.1 _merge  alg_avescore  alg_numtakers  bio_avescore  \\\n",
       "0           0             0   both        4079.0           61.0        4049.0   \n",
       "1           1             1   both        4012.0           68.0        3608.0   \n",
       "2           2             2   both        3733.0           34.0        3512.0   \n",
       "3           3             3   both        3885.0           33.0        4056.0   \n",
       "4           4             4   both        3657.0          160.0        3847.0   \n",
       "\n",
       "   bio_numtakers  cntyname distischarter       distname  ...   \\\n",
       "0           60.0  ANDERSON             N     CAYUGA ISD  ...    \n",
       "1           80.0  ANDERSON             N    ELKHART ISD  ...    \n",
       "2           32.0  ANDERSON             N  FRANKSTON ISD  ...    \n",
       "3           33.0  ANDERSON             N     NECHES ISD  ...    \n",
       "4          196.0  ANDERSON             N  PALESTINE ISD  ...    \n",
       "\n",
       "   teachers_phddegree_num teachers_tenure_ave  teachers_turnover_denom  \\\n",
       "0                     0.0              8.1687                      NaN   \n",
       "1                     0.0              9.9706                      NaN   \n",
       "2                     0.0             10.0724                      NaN   \n",
       "3                     0.0              4.3684                      NaN   \n",
       "4                     1.0              6.6886                      NaN   \n",
       "\n",
       "   teachers_turnover_num  teachers_turnover_ratio  type  \\\n",
       "0                    NaN                   7.1616     H   \n",
       "1                    NaN                  14.9543     G   \n",
       "2                    NaN                   7.1843     H   \n",
       "3                    NaN                  14.4417     H   \n",
       "4                    NaN                  21.2043     E   \n",
       "\n",
       "          type_description  us_avescore  us_numtakers  year  \n",
       "0                    RURAL       3535.0          44.0  2012  \n",
       "1  NON-METROPOLITAN STABLE          NaN           NaN  2012  \n",
       "2                    RURAL       3503.0          37.0  2012  \n",
       "3                    RURAL          NaN           NaN  2012  \n",
       "4         INDEPENDENT TOWN       3713.0         198.0  2012  \n",
       "\n",
       "[5 rows x 68 columns]"
      ]
     },
     "execution_count": 16,
     "metadata": {},
     "output_type": "execute_result"
    }
   ],
   "source": [
    "import os\n",
    "import pandas as pd\n",
    "import numpy as np\n",
    "data_path = '/Users/kylieleblancKylie/domino/dofis/data/tea'\n",
    "data = pd.read_csv(os.path.join(data_path, 'desc_long.csv'), low_memory = False)\n",
    "data.head()"
   ]
  },
  {
   "cell_type": "code",
   "execution_count": 17,
   "metadata": {},
   "outputs": [
    {
     "data": {
      "text/plain": [
       "2013    1228\n",
       "2014    1227\n",
       "2012    1227\n",
       "2015    1219\n",
       "2016    1207\n",
       "2017    1203\n",
       "2018    1200\n",
       "Name: year, dtype: int64"
      ]
     },
     "execution_count": 17,
     "metadata": {},
     "output_type": "execute_result"
    }
   ],
   "source": [
    "data.year.value_counts()"
   ]
  },
  {
   "cell_type": "code",
   "execution_count": 24,
   "metadata": {
    "collapsed": true
   },
   "outputs": [],
   "source": [
    "data_path = '/Users/kylieleblancKylie/domino/dofis/data/clean'\n",
    "data = pd.read_csv(os.path.join(data_path, 'master_data.csv'), low_memory = False)"
   ]
  },
  {
   "cell_type": "code",
   "execution_count": 23,
   "metadata": {},
   "outputs": [
    {
     "data": {
      "text/plain": [
       "2013    1228\n",
       "2014    1227\n",
       "2012    1227\n",
       "2015    1219\n",
       "2016    1207\n",
       "2017    1203\n",
       "2018    1200\n",
       "Name: year, dtype: int64"
      ]
     },
     "execution_count": 23,
     "metadata": {},
     "output_type": "execute_result"
    }
   ],
   "source": [
    "data.year.value_counts()"
   ]
  },
  {
   "cell_type": "code",
   "execution_count": 25,
   "metadata": {},
   "outputs": [
    {
     "data": {
      "text/plain": [
       "2012    1029\n",
       "2013    1026\n",
       "2014    1025\n",
       "2015    1024\n",
       "2016    1024\n",
       "2018    1023\n",
       "2017    1023\n",
       "Name: year, dtype: int64"
      ]
     },
     "execution_count": 25,
     "metadata": {},
     "output_type": "execute_result"
    }
   ],
   "source": [
    "data[data.distischarter == \"N\"].year.value_counts()"
   ]
  },
  {
   "cell_type": "code",
   "execution_count": 20,
   "metadata": {
    "collapsed": true
   },
   "outputs": [],
   "source": [
    "data_path = '/Users/kylieleblancKylie/domino/dofis/data/clean'\n",
    "data = pd.read_csv(os.path.join(data_path, 'cits.csv'), low_memory = False)"
   ]
  },
  {
   "cell_type": "code",
   "execution_count": 21,
   "metadata": {},
   "outputs": [
    {
     "data": {
      "text/plain": [
       "2018    120\n",
       "2017    120\n",
       "2016    120\n",
       "2015    120\n",
       "2014    120\n",
       "2013    120\n",
       "2012    120\n",
       "Name: year, dtype: int64"
      ]
     },
     "execution_count": 21,
     "metadata": {},
     "output_type": "execute_result"
    }
   ],
   "source": [
    "data.year.value_counts()"
   ]
  },
  {
   "cell_type": "code",
   "execution_count": null,
   "metadata": {
    "collapsed": true
   },
   "outputs": [],
   "source": []
  }
 ],
 "metadata": {
  "kernelspec": {
   "display_name": "Python [conda env:spacy]",
   "language": "python",
   "name": "conda-env-spacy-py"
  },
  "language_info": {
   "codemirror_mode": {
    "name": "ipython",
    "version": 3
   },
   "file_extension": ".py",
   "mimetype": "text/x-python",
   "name": "python",
   "nbconvert_exporter": "python",
   "pygments_lexer": "ipython3",
   "version": "3.7.0"
  }
 },
 "nbformat": 4,
 "nbformat_minor": 2
}
