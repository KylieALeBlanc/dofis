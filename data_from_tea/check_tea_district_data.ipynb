{
 "cells": [
  {
   "cell_type": "code",
   "execution_count": 5,
   "metadata": {
    "collapsed": true
   },
   "outputs": [],
   "source": [
    "import sys\n",
    "import os\n",
    "import csv\n",
    "import pandas as pd\n",
    "from library import clean_tea\n",
    "from library import clean_tea_schools\n",
    "import os\n",
    "import numpy as np\n",
    "%matplotlib inline\n",
    "import matplotlib.mlab as mlab\n",
    "import matplotlib.pyplot as plt"
   ]
  },
  {
   "cell_type": "code",
   "execution_count": 6,
   "metadata": {
    "collapsed": true
   },
   "outputs": [],
   "source": [
    "pd.set_option('display.max_rows', 500)\n",
    "pd.set_option('display.max_columns', 500)"
   ]
  },
  {
   "cell_type": "code",
   "execution_count": 7,
   "metadata": {
    "collapsed": true
   },
   "outputs": [],
   "source": [
    "year = 'yr1617'"
   ]
  },
  {
   "cell_type": "markdown",
   "metadata": {},
   "source": [
    "# Basic Descriptives - DREF\n",
    "data from: https://tea.texas.gov/perfreport/tapr/index.html\n",
    "reference of labels: https://rptsvr1.tea.texas.gov/perfreport/tapr/2016/download/dstaff.html\n",
    "steps to cleaning dref can be found in cleaning.py"
   ]
  },
  {
   "cell_type": "code",
   "execution_count": 8,
   "metadata": {},
   "outputs": [
    {
     "name": "stdout",
     "output_type": "stream",
     "text": [
      "There are  1227 districts in dref\n",
      "There are  1228 districts in dref\n",
      "There are  1227 districts in dref\n",
      "There are  1219 districts in dref\n",
      "There are  1207 districts in dref\n",
      "There are  1203 districts in dref\n",
      "There are  1200 districts in dref\n"
     ]
    }
   ],
   "source": [
    "for year in ['yr1112', 'yr1213', 'yr1314', 'yr1415', 'yr1516', 'yr1617', 'yr1718']:\n",
    "    dref = clean_tea.clean_dref(year = year)\n",
    "    dref = clean_tea_schools.fix_duplicate_distname(dref, distname_col='distname', cntyname_col= 'cntyname')\n",
    "    dref.head()"
   ]
  },
  {
   "cell_type": "markdown",
   "metadata": {},
   "source": [
    "# Demographic data - DDEM\n",
    "data from: https://tea.texas.gov/perfreport/tapr/index.html\n",
    "reference of labels: https://rptsvr1.tea.texas.gov/perfreport/tapr/2016/download/dstaff.html"
   ]
  },
  {
   "cell_type": "code",
   "execution_count": 10,
   "metadata": {},
   "outputs": [
    {
     "name": "stdout",
     "output_type": "stream",
     "text": [
      "There are  1227 districts in ddem\n",
      "There are  1228 districts in ddem\n",
      "There are  1227 districts in ddem\n",
      "There are  1219 districts in ddem\n",
      "There are  1207 districts in ddem\n",
      "There are  1203 districts in ddem\n",
      "There are  1200 districts in ddem\n"
     ]
    }
   ],
   "source": [
    "for year in ['yr1112', 'yr1213', 'yr1314', 'yr1415', 'yr1516', 'yr1617', 'yr1718']:\n",
    "    ddem = clean_tea.clean_ddem(year = year)\n",
    "    ddem.head()"
   ]
  },
  {
   "cell_type": "markdown",
   "metadata": {},
   "source": [
    "# District type - DTYPE"
   ]
  },
  {
   "cell_type": "markdown",
   "metadata": {},
   "source": [
    "data from: https://tea.texas.gov/acctres/analyze/years.html \n",
    "labels from: https://tea.texas.gov/acctres/analyze/1617/gloss1617.html"
   ]
  },
  {
   "cell_type": "code",
   "execution_count": 16,
   "metadata": {},
   "outputs": [
    {
     "name": "stdout",
     "output_type": "stream",
     "text": [
      "There are  1206 districts in dref\n"
     ]
    },
    {
     "data": {
      "text/html": [
       "<div>\n",
       "<style scoped>\n",
       "    .dataframe tbody tr th:only-of-type {\n",
       "        vertical-align: middle;\n",
       "    }\n",
       "\n",
       "    .dataframe tbody tr th {\n",
       "        vertical-align: top;\n",
       "    }\n",
       "\n",
       "    .dataframe thead th {\n",
       "        text-align: right;\n",
       "    }\n",
       "</style>\n",
       "<table border=\"1\" class=\"dataframe\">\n",
       "  <thead>\n",
       "    <tr style=\"text-align: right;\">\n",
       "      <th></th>\n",
       "      <th>district</th>\n",
       "      <th>type</th>\n",
       "      <th>type_description</th>\n",
       "    </tr>\n",
       "  </thead>\n",
       "  <tbody>\n",
       "    <tr>\n",
       "      <th>0</th>\n",
       "      <td>57816.0</td>\n",
       "      <td>I</td>\n",
       "      <td>CHARTER SCHOOL DISTRICTS</td>\n",
       "    </tr>\n",
       "    <tr>\n",
       "      <th>1</th>\n",
       "      <td>57829.0</td>\n",
       "      <td>I</td>\n",
       "      <td>CHARTER SCHOOL DISTRICTS</td>\n",
       "    </tr>\n",
       "    <tr>\n",
       "      <th>2</th>\n",
       "      <td>101871.0</td>\n",
       "      <td>I</td>\n",
       "      <td>CHARTER SCHOOL DISTRICTS</td>\n",
       "    </tr>\n",
       "    <tr>\n",
       "      <th>3</th>\n",
       "      <td>109901.0</td>\n",
       "      <td>H</td>\n",
       "      <td>RURAL</td>\n",
       "    </tr>\n",
       "    <tr>\n",
       "      <th>4</th>\n",
       "      <td>95901.0</td>\n",
       "      <td>H</td>\n",
       "      <td>RURAL</td>\n",
       "    </tr>\n",
       "  </tbody>\n",
       "</table>\n",
       "</div>"
      ],
      "text/plain": [
       "   district type          type_description\n",
       "0   57816.0    I  CHARTER SCHOOL DISTRICTS\n",
       "1   57829.0    I  CHARTER SCHOOL DISTRICTS\n",
       "2  101871.0    I  CHARTER SCHOOL DISTRICTS\n",
       "3  109901.0    H                     RURAL\n",
       "4   95901.0    H                     RURAL"
      ]
     },
     "execution_count": 16,
     "metadata": {},
     "output_type": "execute_result"
    }
   ],
   "source": [
    "dtype = clean_tea.clean_dtype(year = year)\n",
    "dtype.head()"
   ]
  },
  {
   "cell_type": "markdown",
   "metadata": {},
   "source": [
    "# Number of Schools\n",
    "data from https://tea.texas.gov/perfreport/tapr/index.html"
   ]
  },
  {
   "cell_type": "code",
   "execution_count": 17,
   "metadata": {
    "collapsed": true
   },
   "outputs": [],
   "source": [
    "cref = clean_tea.clean_cref_numschools('yr1617')\n",
    "cref = clean_tea_schools.fix_duplicate_distname(cref, distname_col='distname', cntyname_col= 'cntyname')"
   ]
  },
  {
   "cell_type": "markdown",
   "metadata": {},
   "source": [
    "data_path = '/Users/kylieleblancKylie/domino/dofis/data/'\n",
    "def filter_and_rename_cols(df, dict):\n",
    "    \"\"\"\n",
    "    Keep some original cols from a dataframe, rename them to new column names\n",
    "    Return a new data frame\n",
    "\n",
    "    Arguments:\n",
    "    df = data frame\n",
    "    dict keys = original column names you want to keep\n",
    "    dict values = new column names\n",
    "    \"\"\"\n",
    "    df = df[list(dict.keys())]\n",
    "    new_df = df.rename(index=str, columns=dict)\n",
    "    return new_df\n",
    "\n",
    "def clean_cref_numschools(year):\n",
    "    \"\"\"\n",
    "    Reads campus reference data from https://rptsvr1.tea.texas.gov/perfreport/tapr/2017/download/DownloadData.html\n",
    "    :param year: df of district and number of schools\n",
    "    :return:\n",
    "    \"\"\"\n",
    "    if year == 'yr1718':\n",
    "        year = 'yr1617'\n",
    "    if year == 'yr1112':\n",
    "        filename = 'cref.dat'\n",
    "    if year == 'yr1213':\n",
    "        filename = 'CREF.txt'\n",
    "    if year >= 'yr1314':\n",
    "        filename = 'CREF.dat'\n",
    "    cref = pd.read_csv(os.path.join(data_path, 'tea', 'cref', year, filename), sep=\",\")\n",
    "    cref = pd.DataFrame(cref.groupby(cref.DISTNAME)['CAMPUS'].count())\n",
    "    \"\"\"\n",
    "    cref_tokeep = {'DISTNAME': 'distname',\n",
    "                   'CAMPUS': 'schools_num'}\n",
    "    cref = cref.reset_index()\n",
    "    cref = filter_and_rename_cols(cref, cref_tokeep)\n",
    "    \"\"\"\n",
    "    return cref"
   ]
  },
  {
   "cell_type": "markdown",
   "metadata": {},
   "source": [
    "cref = clean_cref_numschools('yr1617')\n",
    "\"\"\"\n",
    "print(cref.schools_num.sum())\n",
    "print(len(cref))\n",
    "correct_schools = {}\n",
    "for c in cref.distname:\n",
    "    correct_schools[c] = cref[cref.distname == c].schools_num\n",
    "correct_schools['ACADEMY OF DALLAS']\n",
    "\"\"\"\n",
    "cref.CAMPUS.sum()"
   ]
  },
  {
   "cell_type": "markdown",
   "metadata": {},
   "source": [
    "# Scores - dscores\n",
    "data from: https://tea.texas.gov/student.assessment/staar/aggregate/\n",
    "labels from: https://tea.texas.gov/student.assessment/staar/variables/"
   ]
  },
  {
   "cell_type": "code",
   "execution_count": 18,
   "metadata": {
    "collapsed": true
   },
   "outputs": [],
   "source": [
    "subject_list = ['3rd', '4th', '5th', '6th', '7th', '8th',\n",
    "                'Algebra', 'Biology', 'EnglishI', 'EnglishII', 'USHistory']"
   ]
  },
  {
   "cell_type": "code",
   "execution_count": 19,
   "metadata": {},
   "outputs": [
    {
     "name": "stdout",
     "output_type": "stream",
     "text": [
      "There are  1160 districts in  3rd dataset.\n",
      "There are  1161 districts in  4th dataset.\n",
      "There are  1162 districts in  5th dataset.\n",
      "There are  1161 districts in  6th dataset.\n",
      "There are  1150 districts in  7th dataset.\n",
      "There are  1145 districts in  8th dataset.\n",
      "There are  1121 districts in  Algebra dataset.\n",
      "There are  1085 districts in  Biology dataset.\n",
      "There are  1092 districts in  EnglishI dataset.\n",
      "There are  1089 districts in  EnglishII dataset.\n",
      "There are  1084 districts in  USHistory dataset.\n"
     ]
    },
    {
     "data": {
      "text/html": [
       "<div>\n",
       "<style scoped>\n",
       "    .dataframe tbody tr th:only-of-type {\n",
       "        vertical-align: middle;\n",
       "    }\n",
       "\n",
       "    .dataframe tbody tr th {\n",
       "        vertical-align: top;\n",
       "    }\n",
       "\n",
       "    .dataframe thead th {\n",
       "        text-align: right;\n",
       "    }\n",
       "</style>\n",
       "<table border=\"1\" class=\"dataframe\">\n",
       "  <thead>\n",
       "    <tr style=\"text-align: right;\">\n",
       "      <th></th>\n",
       "      <th>district</th>\n",
       "      <th>r_3rd_avescore</th>\n",
       "      <th>r_3rd_numtakers</th>\n",
       "      <th>m_3rd_avescore</th>\n",
       "      <th>m_3rd_numtakers</th>\n",
       "      <th>r_4th_avescore</th>\n",
       "      <th>r_4th_numtakers</th>\n",
       "      <th>m_4th_avescore</th>\n",
       "      <th>m_4th_numtakers</th>\n",
       "      <th>r_5th_avescore</th>\n",
       "      <th>r_5th_numtakers</th>\n",
       "      <th>m_5th_avescore</th>\n",
       "      <th>m_5th_numtakers</th>\n",
       "      <th>r_6th_avescore</th>\n",
       "      <th>r_6th_numtakers</th>\n",
       "      <th>m_6th_avescore</th>\n",
       "      <th>m_6th_numtakers</th>\n",
       "      <th>r_7th_avescore</th>\n",
       "      <th>r_7th_numtakers</th>\n",
       "      <th>m_7th_avescore</th>\n",
       "      <th>m_7th_numtakers</th>\n",
       "      <th>r_8th_avescore</th>\n",
       "      <th>r_8th_numtakers</th>\n",
       "      <th>m_8th_avescore</th>\n",
       "      <th>m_8th_numtakers</th>\n",
       "      <th>alg_avescore</th>\n",
       "      <th>alg_numtakers</th>\n",
       "      <th>bio_avescore</th>\n",
       "      <th>bio_numtakers</th>\n",
       "      <th>eng1_avescore</th>\n",
       "      <th>eng1_numtakers</th>\n",
       "      <th>eng2_avescore</th>\n",
       "      <th>eng2_numtakers</th>\n",
       "      <th>us_avescore</th>\n",
       "      <th>us_numtakers</th>\n",
       "    </tr>\n",
       "  </thead>\n",
       "  <tbody>\n",
       "    <tr>\n",
       "      <th>0</th>\n",
       "      <td>1902</td>\n",
       "      <td>1421.0</td>\n",
       "      <td>44.0</td>\n",
       "      <td>1490.0</td>\n",
       "      <td>44.0</td>\n",
       "      <td>1567.0</td>\n",
       "      <td>36.0</td>\n",
       "      <td>1583.0</td>\n",
       "      <td>38.0</td>\n",
       "      <td>1583.0</td>\n",
       "      <td>37.0</td>\n",
       "      <td>1671.0</td>\n",
       "      <td>37.0</td>\n",
       "      <td>1634.0</td>\n",
       "      <td>44.0</td>\n",
       "      <td>1662.0</td>\n",
       "      <td>44.0</td>\n",
       "      <td>1641.0</td>\n",
       "      <td>51.0</td>\n",
       "      <td>1646.0</td>\n",
       "      <td>51.0</td>\n",
       "      <td>1713.0</td>\n",
       "      <td>42.0</td>\n",
       "      <td>1698.0</td>\n",
       "      <td>42.0</td>\n",
       "      <td>4074.0</td>\n",
       "      <td>39.0</td>\n",
       "      <td>4080.0</td>\n",
       "      <td>36.0</td>\n",
       "      <td>3928.0</td>\n",
       "      <td>41.0</td>\n",
       "      <td>4088.0</td>\n",
       "      <td>51.0</td>\n",
       "      <td>4047.0</td>\n",
       "      <td>38.0</td>\n",
       "    </tr>\n",
       "    <tr>\n",
       "      <th>1</th>\n",
       "      <td>1903</td>\n",
       "      <td>1465.0</td>\n",
       "      <td>73.0</td>\n",
       "      <td>1500.0</td>\n",
       "      <td>73.0</td>\n",
       "      <td>1530.0</td>\n",
       "      <td>78.0</td>\n",
       "      <td>1616.0</td>\n",
       "      <td>78.0</td>\n",
       "      <td>1578.0</td>\n",
       "      <td>83.0</td>\n",
       "      <td>1695.0</td>\n",
       "      <td>83.0</td>\n",
       "      <td>1607.0</td>\n",
       "      <td>88.0</td>\n",
       "      <td>1631.0</td>\n",
       "      <td>88.0</td>\n",
       "      <td>1651.0</td>\n",
       "      <td>97.0</td>\n",
       "      <td>1649.0</td>\n",
       "      <td>97.0</td>\n",
       "      <td>1663.0</td>\n",
       "      <td>109.0</td>\n",
       "      <td>1628.0</td>\n",
       "      <td>92.0</td>\n",
       "      <td>3990.0</td>\n",
       "      <td>103.0</td>\n",
       "      <td>4065.0</td>\n",
       "      <td>103.0</td>\n",
       "      <td>4022.0</td>\n",
       "      <td>106.0</td>\n",
       "      <td>4105.0</td>\n",
       "      <td>99.0</td>\n",
       "      <td>4056.0</td>\n",
       "      <td>84.0</td>\n",
       "    </tr>\n",
       "    <tr>\n",
       "      <th>2</th>\n",
       "      <td>1904</td>\n",
       "      <td>1414.0</td>\n",
       "      <td>61.0</td>\n",
       "      <td>1450.0</td>\n",
       "      <td>61.0</td>\n",
       "      <td>1542.0</td>\n",
       "      <td>56.0</td>\n",
       "      <td>1589.0</td>\n",
       "      <td>56.0</td>\n",
       "      <td>1608.0</td>\n",
       "      <td>60.0</td>\n",
       "      <td>1644.0</td>\n",
       "      <td>61.0</td>\n",
       "      <td>1625.0</td>\n",
       "      <td>75.0</td>\n",
       "      <td>1692.0</td>\n",
       "      <td>75.0</td>\n",
       "      <td>1669.0</td>\n",
       "      <td>65.0</td>\n",
       "      <td>1665.0</td>\n",
       "      <td>65.0</td>\n",
       "      <td>1711.0</td>\n",
       "      <td>53.0</td>\n",
       "      <td>1734.0</td>\n",
       "      <td>53.0</td>\n",
       "      <td>4085.0</td>\n",
       "      <td>58.0</td>\n",
       "      <td>4225.0</td>\n",
       "      <td>71.0</td>\n",
       "      <td>3992.0</td>\n",
       "      <td>67.0</td>\n",
       "      <td>4144.0</td>\n",
       "      <td>71.0</td>\n",
       "      <td>4182.0</td>\n",
       "      <td>71.0</td>\n",
       "    </tr>\n",
       "    <tr>\n",
       "      <th>3</th>\n",
       "      <td>1906</td>\n",
       "      <td>1516.0</td>\n",
       "      <td>22.0</td>\n",
       "      <td>1538.0</td>\n",
       "      <td>22.0</td>\n",
       "      <td>1508.0</td>\n",
       "      <td>24.0</td>\n",
       "      <td>1627.0</td>\n",
       "      <td>24.0</td>\n",
       "      <td>1540.0</td>\n",
       "      <td>31.0</td>\n",
       "      <td>1675.0</td>\n",
       "      <td>31.0</td>\n",
       "      <td>1639.0</td>\n",
       "      <td>34.0</td>\n",
       "      <td>1695.0</td>\n",
       "      <td>34.0</td>\n",
       "      <td>1675.0</td>\n",
       "      <td>30.0</td>\n",
       "      <td>1727.0</td>\n",
       "      <td>30.0</td>\n",
       "      <td>1712.0</td>\n",
       "      <td>25.0</td>\n",
       "      <td>1677.0</td>\n",
       "      <td>25.0</td>\n",
       "      <td>4087.0</td>\n",
       "      <td>39.0</td>\n",
       "      <td>4300.0</td>\n",
       "      <td>39.0</td>\n",
       "      <td>3966.0</td>\n",
       "      <td>44.0</td>\n",
       "      <td>3875.0</td>\n",
       "      <td>28.0</td>\n",
       "      <td>4091.0</td>\n",
       "      <td>24.0</td>\n",
       "    </tr>\n",
       "    <tr>\n",
       "      <th>4</th>\n",
       "      <td>1907</td>\n",
       "      <td>1413.0</td>\n",
       "      <td>223.0</td>\n",
       "      <td>1439.0</td>\n",
       "      <td>244.0</td>\n",
       "      <td>1471.0</td>\n",
       "      <td>257.0</td>\n",
       "      <td>1519.0</td>\n",
       "      <td>257.0</td>\n",
       "      <td>1507.0</td>\n",
       "      <td>250.0</td>\n",
       "      <td>1588.0</td>\n",
       "      <td>250.0</td>\n",
       "      <td>1527.0</td>\n",
       "      <td>242.0</td>\n",
       "      <td>1607.0</td>\n",
       "      <td>244.0</td>\n",
       "      <td>1595.0</td>\n",
       "      <td>241.0</td>\n",
       "      <td>1637.0</td>\n",
       "      <td>241.0</td>\n",
       "      <td>1635.0</td>\n",
       "      <td>240.0</td>\n",
       "      <td>1694.0</td>\n",
       "      <td>239.0</td>\n",
       "      <td>4017.0</td>\n",
       "      <td>280.0</td>\n",
       "      <td>4011.0</td>\n",
       "      <td>272.0</td>\n",
       "      <td>3822.0</td>\n",
       "      <td>331.0</td>\n",
       "      <td>3791.0</td>\n",
       "      <td>292.0</td>\n",
       "      <td>4096.0</td>\n",
       "      <td>224.0</td>\n",
       "    </tr>\n",
       "  </tbody>\n",
       "</table>\n",
       "</div>"
      ],
      "text/plain": [
       "   district  r_3rd_avescore  r_3rd_numtakers  m_3rd_avescore  m_3rd_numtakers  \\\n",
       "0      1902          1421.0             44.0          1490.0             44.0   \n",
       "1      1903          1465.0             73.0          1500.0             73.0   \n",
       "2      1904          1414.0             61.0          1450.0             61.0   \n",
       "3      1906          1516.0             22.0          1538.0             22.0   \n",
       "4      1907          1413.0            223.0          1439.0            244.0   \n",
       "\n",
       "   r_4th_avescore  r_4th_numtakers  m_4th_avescore  m_4th_numtakers  \\\n",
       "0          1567.0             36.0          1583.0             38.0   \n",
       "1          1530.0             78.0          1616.0             78.0   \n",
       "2          1542.0             56.0          1589.0             56.0   \n",
       "3          1508.0             24.0          1627.0             24.0   \n",
       "4          1471.0            257.0          1519.0            257.0   \n",
       "\n",
       "   r_5th_avescore  r_5th_numtakers  m_5th_avescore  m_5th_numtakers  \\\n",
       "0          1583.0             37.0          1671.0             37.0   \n",
       "1          1578.0             83.0          1695.0             83.0   \n",
       "2          1608.0             60.0          1644.0             61.0   \n",
       "3          1540.0             31.0          1675.0             31.0   \n",
       "4          1507.0            250.0          1588.0            250.0   \n",
       "\n",
       "   r_6th_avescore  r_6th_numtakers  m_6th_avescore  m_6th_numtakers  \\\n",
       "0          1634.0             44.0          1662.0             44.0   \n",
       "1          1607.0             88.0          1631.0             88.0   \n",
       "2          1625.0             75.0          1692.0             75.0   \n",
       "3          1639.0             34.0          1695.0             34.0   \n",
       "4          1527.0            242.0          1607.0            244.0   \n",
       "\n",
       "   r_7th_avescore  r_7th_numtakers  m_7th_avescore  m_7th_numtakers  \\\n",
       "0          1641.0             51.0          1646.0             51.0   \n",
       "1          1651.0             97.0          1649.0             97.0   \n",
       "2          1669.0             65.0          1665.0             65.0   \n",
       "3          1675.0             30.0          1727.0             30.0   \n",
       "4          1595.0            241.0          1637.0            241.0   \n",
       "\n",
       "   r_8th_avescore  r_8th_numtakers  m_8th_avescore  m_8th_numtakers  \\\n",
       "0          1713.0             42.0          1698.0             42.0   \n",
       "1          1663.0            109.0          1628.0             92.0   \n",
       "2          1711.0             53.0          1734.0             53.0   \n",
       "3          1712.0             25.0          1677.0             25.0   \n",
       "4          1635.0            240.0          1694.0            239.0   \n",
       "\n",
       "   alg_avescore  alg_numtakers  bio_avescore  bio_numtakers  eng1_avescore  \\\n",
       "0        4074.0           39.0        4080.0           36.0         3928.0   \n",
       "1        3990.0          103.0        4065.0          103.0         4022.0   \n",
       "2        4085.0           58.0        4225.0           71.0         3992.0   \n",
       "3        4087.0           39.0        4300.0           39.0         3966.0   \n",
       "4        4017.0          280.0        4011.0          272.0         3822.0   \n",
       "\n",
       "   eng1_numtakers  eng2_avescore  eng2_numtakers  us_avescore  us_numtakers  \n",
       "0            41.0         4088.0            51.0       4047.0          38.0  \n",
       "1           106.0         4105.0            99.0       4056.0          84.0  \n",
       "2            67.0         4144.0            71.0       4182.0          71.0  \n",
       "3            44.0         3875.0            28.0       4091.0          24.0  \n",
       "4           331.0         3791.0           292.0       4096.0         224.0  "
      ]
     },
     "execution_count": 19,
     "metadata": {},
     "output_type": "execute_result"
    }
   ],
   "source": [
    "dscores = pd.DataFrame(columns = ['district'])\n",
    "for subject in subject_list:\n",
    "    dscores_subject = clean_tea.clean_scores(year, subject)\n",
    "    dscores = dscores.merge(dscores_subject, how='outer', \n",
    "                            on = 'district')\n",
    "dscores.head()"
   ]
  },
  {
   "cell_type": "markdown",
   "metadata": {},
   "source": [
    "# Merge"
   ]
  },
  {
   "cell_type": "code",
   "execution_count": 20,
   "metadata": {},
   "outputs": [
    {
     "name": "stdout",
     "output_type": "stream",
     "text": [
      "There is perfect overlap between ddem and dref. New dataset contains  1203  districts.\n"
     ]
    }
   ],
   "source": [
    "descriptives = ddem.merge(dref, on = 'district', how = 'inner')\n",
    "print(\"There is perfect overlap between ddem and dref. New dataset contains \", len(descriptives), \" districts.\")\n",
    "correct_distname = list(descriptives.distname)\n",
    "correct_district = list(descriptives.district)"
   ]
  },
  {
   "cell_type": "code",
   "execution_count": 21,
   "metadata": {},
   "outputs": [
    {
     "name": "stdout",
     "output_type": "stream",
     "text": [
      "8757\n",
      "New dataset contains  1203  districts.\n",
      "8757\n"
     ]
    }
   ],
   "source": [
    "print(cref.schools_num.sum())\n",
    "descriptives = descriptives.merge(cref, on = 'distname', how = 'inner')\n",
    "print(\"New dataset contains \", len(descriptives), \" districts.\")\n",
    "print(descriptives.schools_num.sum())"
   ]
  },
  {
   "cell_type": "code",
   "execution_count": 22,
   "metadata": {},
   "outputs": [
    {
     "name": "stdout",
     "output_type": "stream",
     "text": [
      "1209\n"
     ]
    }
   ],
   "source": [
    "descriptives = descriptives.merge(dscores, on = 'district', how = 'outer', indicator = True)\n",
    "descriptives = descriptives.dropna(how='all')\n",
    "print(len(descriptives))"
   ]
  },
  {
   "cell_type": "code",
   "execution_count": null,
   "metadata": {
    "collapsed": true
   },
   "outputs": [],
   "source": [
    "for num,name in zip(descriptives.district, descriptives.distname):\n",
    "    if num not in correct_district:\n",
    "        print('number: ', num)\n",
    "        print('name: ', name)\n",
    "        try:\n",
    "            print('3rd Testers: ', int(descriptives[descriptives.district == num]['r_3rd_numtakers']))\n",
    "        except:\n",
    "            print('3rd Testers: ', 'missing')\n",
    "        print()"
   ]
  },
  {
   "cell_type": "code",
   "execution_count": null,
   "metadata": {
    "collapsed": true
   },
   "outputs": [],
   "source": [
    "descriptives['r_3rd_numtakers'].sum()"
   ]
  },
  {
   "cell_type": "code",
   "execution_count": null,
   "metadata": {
    "collapsed": true
   },
   "outputs": [],
   "source": [
    "descriptives[descriptives._merge != 'both']"
   ]
  },
  {
   "cell_type": "code",
   "execution_count": null,
   "metadata": {
    "collapsed": true
   },
   "outputs": [],
   "source": [
    "print('Some charter/specialty schools do not have any test scores. We can drop these from the dataset.')\n",
    "descriptives.distname[descriptives._merge == 'left_only']"
   ]
  },
  {
   "cell_type": "code",
   "execution_count": null,
   "metadata": {
    "collapsed": true
   },
   "outputs": [],
   "source": [
    "print('All schools with test scores have demographic and basic information')\n",
    "descriptives.distname[descriptives._merge == 'right_only']"
   ]
  },
  {
   "cell_type": "code",
   "execution_count": null,
   "metadata": {
    "collapsed": true
   },
   "outputs": [],
   "source": [
    "descriptives = descriptives[descriptives._merge != 'right_only']"
   ]
  },
  {
   "cell_type": "markdown",
   "metadata": {},
   "source": [
    "# Descriptives of Missing Data"
   ]
  },
  {
   "cell_type": "code",
   "execution_count": null,
   "metadata": {
    "collapsed": true
   },
   "outputs": [],
   "source": [
    "missing_elem_tests = []\n",
    "elem_tests = [descriptives.r_3rd_avescore, descriptives.m_3rd_avescore,\n",
    "              descriptives.r_4th_avescore, descriptives.m_4th_avescore,\n",
    "             descriptives.r_5th_avescore, descriptives.m_5th_avescore,\n",
    "             descriptives.r_6th_avescore, descriptives.m_6th_avescore]\n",
    "for test in elem_tests:\n",
    "    for district in list(descriptives.distname[test.isnull() == True]):\n",
    "        if district not in missing_elem_tests: #add unique districts\n",
    "            missing_elem_tests.append(district)\n",
    "print(len(missing_elem_tests), 'districts missing elementary test scores.')\n",
    "missing_elem_tests"
   ]
  },
  {
   "cell_type": "code",
   "execution_count": null,
   "metadata": {
    "collapsed": true,
    "scrolled": false
   },
   "outputs": [],
   "source": [
    "missing_hs_tests = []\n",
    "if year in ['yr1112', 'yr1214']:\n",
    "    hs_tests = [descriptives.alg_avescore, descriptives.bio_avescore,\n",
    "                  descriptives.eng1_avescore, descriptives.eng2_avescore,\n",
    "                 descriptives.us_avescore]    \n",
    "else:\n",
    "    hs_tests = [descriptives.alg_avescore, descriptives.bio_avescore,\n",
    "                  descriptives.eng1_avescore, descriptives.eng2_avescore,\n",
    "                 descriptives.us_avescore]\n",
    "for test in hs_tests:\n",
    "    for district in list(descriptives.distname[test.isnull() == True]):\n",
    "        if district not in missing_hs_tests: #add unique districts\n",
    "            missing_hs_tests.append(district)\n",
    "print(len(missing_hs_tests), 'districts missing hs test scores')\n",
    "missing_hs_tests"
   ]
  },
  {
   "cell_type": "code",
   "execution_count": null,
   "metadata": {
    "collapsed": true
   },
   "outputs": [],
   "source": [
    "missing_both = [value for value in missing_elem_tests \n",
    "                if value in missing_hs_tests] \n",
    "print(len(missing_both), 'districts missing elem and hs test scores')\n",
    "print('of these', \n",
    "      len(descriptives[descriptives.distname.isin(missing_both)]\n",
    "         [descriptives.distischarter == 'Y']),\n",
    "      'are charters.')\n",
    "missing_both"
   ]
  },
  {
   "cell_type": "code",
   "execution_count": null,
   "metadata": {
    "collapsed": true
   },
   "outputs": [],
   "source": [
    "descriptives.r_5th_numtakers.sum()"
   ]
  },
  {
   "cell_type": "code",
   "execution_count": null,
   "metadata": {
    "collapsed": true
   },
   "outputs": [],
   "source": [
    "dscores = pd.read_csv(os.path.join('/Users/kylieleblancKylie/domino/dofis/data/', 'tea', 'dscores', '5th', 'dfy17e5.dat'), sep=\",\")"
   ]
  },
  {
   "cell_type": "code",
   "execution_count": null,
   "metadata": {
    "collapsed": true
   },
   "outputs": [],
   "source": [
    "dscores[dscores.DISTRICT == 35902]"
   ]
  },
  {
   "cell_type": "code",
   "execution_count": null,
   "metadata": {
    "collapsed": true
   },
   "outputs": [],
   "source": [
    "dscores.r_all_d.sum()"
   ]
  },
  {
   "cell_type": "code",
   "execution_count": null,
   "metadata": {
    "collapsed": true
   },
   "outputs": [],
   "source": [
    "dscores.r_all_docs_n.sum()"
   ]
  },
  {
   "cell_type": "code",
   "execution_count": null,
   "metadata": {
    "collapsed": true
   },
   "outputs": [],
   "source": [
    "dscores.r_all_rs.mean()"
   ]
  },
  {
   "cell_type": "code",
   "execution_count": null,
   "metadata": {
    "collapsed": true
   },
   "outputs": [],
   "source": [
    "dscores_subject = clean_tea.clean_scores('yr1617', '3rd')"
   ]
  },
  {
   "cell_type": "code",
   "execution_count": null,
   "metadata": {
    "collapsed": true
   },
   "outputs": [],
   "source": [
    "dscores_subject['r_3rd_numtakers'].sum()"
   ]
  },
  {
   "cell_type": "code",
   "execution_count": null,
   "metadata": {
    "collapsed": true
   },
   "outputs": [],
   "source": [
    "descriptives['r_3rd_numtakers'].sum()\n"
   ]
  },
  {
   "cell_type": "code",
   "execution_count": null,
   "metadata": {
    "collapsed": true
   },
   "outputs": [],
   "source": []
  }
 ],
 "metadata": {
  "kernelspec": {
   "display_name": "Python [conda env:spacy]",
   "language": "python",
   "name": "conda-env-spacy-py"
  },
  "language_info": {
   "codemirror_mode": {
    "name": "ipython",
    "version": 3
   },
   "file_extension": ".py",
   "mimetype": "text/x-python",
   "name": "python",
   "nbconvert_exporter": "python",
   "pygments_lexer": "ipython3",
   "version": "3.7.0"
  }
 },
 "nbformat": 4,
 "nbformat_minor": 2
}
