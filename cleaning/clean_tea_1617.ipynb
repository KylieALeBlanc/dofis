{
 "cells": [
  {
   "cell_type": "code",
   "execution_count": 1,
   "metadata": {},
   "outputs": [],
   "source": [
    "import csv\n",
    "import pandas as pd\n",
    "import cleaning\n",
    "import os"
   ]
  },
  {
   "cell_type": "code",
   "execution_count": 2,
   "metadata": {
    "collapsed": true
   },
   "outputs": [],
   "source": [
    "pd.set_option('display.max_rows', 500)"
   ]
  },
  {
   "cell_type": "code",
   "execution_count": 3,
   "metadata": {
    "collapsed": true
   },
   "outputs": [],
   "source": [
    "data_path = '/Users/kylieleblancKylie/domino/dofis/data/tea/'"
   ]
  },
  {
   "cell_type": "markdown",
   "metadata": {},
   "source": [
    "# Basic Descriptives - DREF\n",
    "data from: https://tea.texas.gov/perfreport/tapr/index.html\n",
    "reference of labels: https://rptsvr1.tea.texas.gov/perfreport/tapr/2016/download/dstaff.html\n",
    "steps to cleaning dref can be found in cleaning.py"
   ]
  },
  {
   "cell_type": "code",
   "execution_count": 4,
   "metadata": {},
   "outputs": [
    {
     "name": "stdout",
     "output_type": "stream",
     "text": [
      "There are  1203 districts in dref\n"
     ]
    },
    {
     "data": {
      "text/html": [
       "<div>\n",
       "<style scoped>\n",
       "    .dataframe tbody tr th:only-of-type {\n",
       "        vertical-align: middle;\n",
       "    }\n",
       "\n",
       "    .dataframe tbody tr th {\n",
       "        vertical-align: top;\n",
       "    }\n",
       "\n",
       "    .dataframe thead th {\n",
       "        text-align: right;\n",
       "    }\n",
       "</style>\n",
       "<table border=\"1\" class=\"dataframe\">\n",
       "  <thead>\n",
       "    <tr style=\"text-align: right;\">\n",
       "      <th></th>\n",
       "      <th>district</th>\n",
       "      <th>distname</th>\n",
       "      <th>distischarter</th>\n",
       "      <th>rating</th>\n",
       "      <th>cntyname</th>\n",
       "    </tr>\n",
       "  </thead>\n",
       "  <tbody>\n",
       "    <tr>\n",
       "      <th>0</th>\n",
       "      <td>1902</td>\n",
       "      <td>CAYUGA ISD</td>\n",
       "      <td>N</td>\n",
       "      <td>M</td>\n",
       "      <td>ANDERSON</td>\n",
       "    </tr>\n",
       "    <tr>\n",
       "      <th>1</th>\n",
       "      <td>1903</td>\n",
       "      <td>ELKHART ISD</td>\n",
       "      <td>N</td>\n",
       "      <td>M</td>\n",
       "      <td>ANDERSON</td>\n",
       "    </tr>\n",
       "    <tr>\n",
       "      <th>2</th>\n",
       "      <td>1904</td>\n",
       "      <td>FRANKSTON ISD</td>\n",
       "      <td>N</td>\n",
       "      <td>M</td>\n",
       "      <td>ANDERSON</td>\n",
       "    </tr>\n",
       "    <tr>\n",
       "      <th>3</th>\n",
       "      <td>1906</td>\n",
       "      <td>NECHES ISD</td>\n",
       "      <td>N</td>\n",
       "      <td>M</td>\n",
       "      <td>ANDERSON</td>\n",
       "    </tr>\n",
       "    <tr>\n",
       "      <th>4</th>\n",
       "      <td>1907</td>\n",
       "      <td>PALESTINE ISD</td>\n",
       "      <td>N</td>\n",
       "      <td>M</td>\n",
       "      <td>ANDERSON</td>\n",
       "    </tr>\n",
       "  </tbody>\n",
       "</table>\n",
       "</div>"
      ],
      "text/plain": [
       "   district       distname distischarter rating  cntyname\n",
       "0      1902     CAYUGA ISD             N      M  ANDERSON\n",
       "1      1903    ELKHART ISD             N      M  ANDERSON\n",
       "2      1904  FRANKSTON ISD             N      M  ANDERSON\n",
       "3      1906     NECHES ISD             N      M  ANDERSON\n",
       "4      1907  PALESTINE ISD             N      M  ANDERSON"
      ]
     },
     "execution_count": 4,
     "metadata": {},
     "output_type": "execute_result"
    }
   ],
   "source": [
    "dref = cleaning.clean_dref(year = 'yr1617')\n",
    "dref.head()"
   ]
  },
  {
   "cell_type": "markdown",
   "metadata": {},
   "source": [
    "# Demographic data - DDEM\n",
    "data from: https://tea.texas.gov/perfreport/tapr/index.html\n",
    "reference of labels: https://rptsvr1.tea.texas.gov/perfreport/tapr/2016/download/dstaff.html"
   ]
  },
  {
   "cell_type": "code",
   "execution_count": 5,
   "metadata": {},
   "outputs": [
    {
     "name": "stdout",
     "output_type": "stream",
     "text": [
      "There are  1203 districts in ddem\n"
     ]
    },
    {
     "data": {
      "text/html": [
       "<div>\n",
       "<style scoped>\n",
       "    .dataframe tbody tr th:only-of-type {\n",
       "        vertical-align: middle;\n",
       "    }\n",
       "\n",
       "    .dataframe tbody tr th {\n",
       "        vertical-align: top;\n",
       "    }\n",
       "\n",
       "    .dataframe thead th {\n",
       "        text-align: right;\n",
       "    }\n",
       "</style>\n",
       "<table border=\"1\" class=\"dataframe\">\n",
       "  <thead>\n",
       "    <tr style=\"text-align: right;\">\n",
       "      <th></th>\n",
       "      <th>district</th>\n",
       "      <th>teachers_num</th>\n",
       "      <th>teachers_new_num</th>\n",
       "      <th>teachers_exp_ave</th>\n",
       "      <th>teachers_tenure_ave</th>\n",
       "      <th>teachers_turnover_denom</th>\n",
       "      <th>teacher_turnover_num</th>\n",
       "      <th>teachers_turnover_ratio</th>\n",
       "      <th>teachers_nodegree_num</th>\n",
       "      <th>teachers_badegree_num</th>\n",
       "      <th>teachers_msdegree_num</th>\n",
       "      <th>teachers_phddegree_num</th>\n",
       "      <th>students_num</th>\n",
       "      <th>students_frpl_num</th>\n",
       "      <th>students_hisp_num</th>\n",
       "      <th>students_white_num</th>\n",
       "      <th>students_black_num</th>\n",
       "    </tr>\n",
       "  </thead>\n",
       "  <tbody>\n",
       "    <tr>\n",
       "      <th>0</th>\n",
       "      <td>1902</td>\n",
       "      <td>105.5</td>\n",
       "      <td>1</td>\n",
       "      <td>15.4</td>\n",
       "      <td>7.8</td>\n",
       "      <td>54.4</td>\n",
       "      <td>4</td>\n",
       "      <td>7.3</td>\n",
       "      <td>0</td>\n",
       "      <td>48.4</td>\n",
       "      <td>4</td>\n",
       "      <td>0</td>\n",
       "      <td>576</td>\n",
       "      <td>192</td>\n",
       "      <td>42</td>\n",
       "      <td>479</td>\n",
       "      <td>27</td>\n",
       "    </tr>\n",
       "    <tr>\n",
       "      <th>1</th>\n",
       "      <td>1903</td>\n",
       "      <td>179.6</td>\n",
       "      <td>2</td>\n",
       "      <td>14.9</td>\n",
       "      <td>9.4</td>\n",
       "      <td>100.3</td>\n",
       "      <td>11</td>\n",
       "      <td>11</td>\n",
       "      <td>0</td>\n",
       "      <td>84</td>\n",
       "      <td>19</td>\n",
       "      <td>0</td>\n",
       "      <td>1267</td>\n",
       "      <td>673</td>\n",
       "      <td>137</td>\n",
       "      <td>1011</td>\n",
       "      <td>67</td>\n",
       "    </tr>\n",
       "    <tr>\n",
       "      <th>2</th>\n",
       "      <td>1904</td>\n",
       "      <td>121</td>\n",
       "      <td>2</td>\n",
       "      <td>13.7</td>\n",
       "      <td>6.4</td>\n",
       "      <td>58.1</td>\n",
       "      <td>15.1</td>\n",
       "      <td>26</td>\n",
       "      <td>0</td>\n",
       "      <td>42</td>\n",
       "      <td>17</td>\n",
       "      <td>0</td>\n",
       "      <td>846</td>\n",
       "      <td>446</td>\n",
       "      <td>82</td>\n",
       "      <td>648</td>\n",
       "      <td>76</td>\n",
       "    </tr>\n",
       "    <tr>\n",
       "      <th>3</th>\n",
       "      <td>1906</td>\n",
       "      <td>64.2</td>\n",
       "      <td>0.3</td>\n",
       "      <td>11.9</td>\n",
       "      <td>6.6</td>\n",
       "      <td>34.5</td>\n",
       "      <td>2.5</td>\n",
       "      <td>7.2</td>\n",
       "      <td>0</td>\n",
       "      <td>35.3</td>\n",
       "      <td>0</td>\n",
       "      <td>0</td>\n",
       "      <td>377</td>\n",
       "      <td>172</td>\n",
       "      <td>51</td>\n",
       "      <td>286</td>\n",
       "      <td>28</td>\n",
       "    </tr>\n",
       "    <tr>\n",
       "      <th>4</th>\n",
       "      <td>1907</td>\n",
       "      <td>481</td>\n",
       "      <td>23.1</td>\n",
       "      <td>11.2</td>\n",
       "      <td>6.3</td>\n",
       "      <td>270.3</td>\n",
       "      <td>58.9</td>\n",
       "      <td>21.8</td>\n",
       "      <td>5.3</td>\n",
       "      <td>225.8</td>\n",
       "      <td>32.4</td>\n",
       "      <td>0</td>\n",
       "      <td>3453</td>\n",
       "      <td>2587</td>\n",
       "      <td>1382</td>\n",
       "      <td>974</td>\n",
       "      <td>949</td>\n",
       "    </tr>\n",
       "  </tbody>\n",
       "</table>\n",
       "</div>"
      ],
      "text/plain": [
       "   district teachers_num teachers_new_num teachers_exp_ave  \\\n",
       "0      1902        105.5                1             15.4   \n",
       "1      1903        179.6                2             14.9   \n",
       "2      1904          121                2             13.7   \n",
       "3      1906         64.2              0.3             11.9   \n",
       "4      1907          481             23.1             11.2   \n",
       "\n",
       "  teachers_tenure_ave teachers_turnover_denom teacher_turnover_num  \\\n",
       "0                 7.8                    54.4                    4   \n",
       "1                 9.4                   100.3                   11   \n",
       "2                 6.4                    58.1                 15.1   \n",
       "3                 6.6                    34.5                  2.5   \n",
       "4                 6.3                   270.3                 58.9   \n",
       "\n",
       "  teachers_turnover_ratio teachers_nodegree_num teachers_badegree_num  \\\n",
       "0                     7.3                     0                  48.4   \n",
       "1                      11                     0                    84   \n",
       "2                      26                     0                    42   \n",
       "3                     7.2                     0                  35.3   \n",
       "4                    21.8                   5.3                 225.8   \n",
       "\n",
       "  teachers_msdegree_num teachers_phddegree_num  students_num  \\\n",
       "0                     4                      0           576   \n",
       "1                    19                      0          1267   \n",
       "2                    17                      0           846   \n",
       "3                     0                      0           377   \n",
       "4                  32.4                      0          3453   \n",
       "\n",
       "   students_frpl_num  students_hisp_num  students_white_num  \\\n",
       "0                192                 42                 479   \n",
       "1                673                137                1011   \n",
       "2                446                 82                 648   \n",
       "3                172                 51                 286   \n",
       "4               2587               1382                 974   \n",
       "\n",
       "   students_black_num  \n",
       "0                  27  \n",
       "1                  67  \n",
       "2                  76  \n",
       "3                  28  \n",
       "4                 949  "
      ]
     },
     "execution_count": 5,
     "metadata": {},
     "output_type": "execute_result"
    }
   ],
   "source": [
    "ddem = cleaning.clean_ddem(year = 'yr1617')\n",
    "ddem.head()"
   ]
  },
  {
   "cell_type": "markdown",
   "metadata": {},
   "source": [
    "# Scores - dscores\n",
    "data from: https://tea.texas.gov/student.assessment/staar/aggregate/\n",
    "labels from: https://tea.texas.gov/student.assessment/staar/variables/"
   ]
  },
  {
   "cell_type": "code",
   "execution_count": 6,
   "metadata": {
    "collapsed": true
   },
   "outputs": [],
   "source": [
    "subject_list = ['3rd', '4th', '5th', '6th', '7th', '8th',\n",
    "                'Algebra', 'Biology', 'EnglishI', 'EnglishII', 'USHistory']\n",
    "year_list = ['yr1112', 'yr1213', 'yr1314', 'yr1415', 'yr1516', 'yr1617']"
   ]
  },
  {
   "cell_type": "code",
   "execution_count": 7,
   "metadata": {},
   "outputs": [
    {
     "name": "stdout",
     "output_type": "stream",
     "text": [
      "There are  1121 districts in  dataset.\n",
      "There are 0  duplicate indices.\n"
     ]
    }
   ],
   "source": [
    "dscores = cleaning.clean_scores('yr1617', 'Algebra')"
   ]
  },
  {
   "cell_type": "code",
   "execution_count": 8,
   "metadata": {},
   "outputs": [
    {
     "name": "stdout",
     "output_type": "stream",
     "text": [
      "There are  1180 districts in  dataset.\n",
      "There are 0  duplicate indices.\n"
     ]
    },
    {
     "data": {
      "text/html": [
       "<div>\n",
       "<style scoped>\n",
       "    .dataframe tbody tr th:only-of-type {\n",
       "        vertical-align: middle;\n",
       "    }\n",
       "\n",
       "    .dataframe tbody tr th {\n",
       "        vertical-align: top;\n",
       "    }\n",
       "\n",
       "    .dataframe thead th {\n",
       "        text-align: right;\n",
       "    }\n",
       "</style>\n",
       "<table border=\"1\" class=\"dataframe\">\n",
       "  <thead>\n",
       "    <tr style=\"text-align: right;\">\n",
       "      <th></th>\n",
       "      <th>r_3rd_avescore</th>\n",
       "      <th>r_3rd_numtakers</th>\n",
       "      <th>m_3rd_avescore</th>\n",
       "      <th>m_3rd_numtakers</th>\n",
       "    </tr>\n",
       "    <tr>\n",
       "      <th>district</th>\n",
       "      <th></th>\n",
       "      <th></th>\n",
       "      <th></th>\n",
       "      <th></th>\n",
       "    </tr>\n",
       "  </thead>\n",
       "  <tbody>\n",
       "    <tr>\n",
       "      <th>1902</th>\n",
       "      <td>1480.0</td>\n",
       "      <td>36</td>\n",
       "      <td>36</td>\n",
       "      <td>1549.0</td>\n",
       "    </tr>\n",
       "    <tr>\n",
       "      <th>1903</th>\n",
       "      <td>1435.0</td>\n",
       "      <td>81</td>\n",
       "      <td>82</td>\n",
       "      <td>1442.0</td>\n",
       "    </tr>\n",
       "    <tr>\n",
       "      <th>1904</th>\n",
       "      <td>1452.0</td>\n",
       "      <td>56</td>\n",
       "      <td>56</td>\n",
       "      <td>1421.0</td>\n",
       "    </tr>\n",
       "    <tr>\n",
       "      <th>1906</th>\n",
       "      <td>1447.0</td>\n",
       "      <td>31</td>\n",
       "      <td>31</td>\n",
       "      <td>1432.0</td>\n",
       "    </tr>\n",
       "    <tr>\n",
       "      <th>1907</th>\n",
       "      <td>1387.0</td>\n",
       "      <td>216</td>\n",
       "      <td>227</td>\n",
       "      <td>1441.0</td>\n",
       "    </tr>\n",
       "  </tbody>\n",
       "</table>\n",
       "</div>"
      ],
      "text/plain": [
       "          r_3rd_avescore  r_3rd_numtakers  m_3rd_avescore  m_3rd_numtakers\n",
       "district                                                                  \n",
       "1902              1480.0               36              36           1549.0\n",
       "1903              1435.0               81              82           1442.0\n",
       "1904              1452.0               56              56           1421.0\n",
       "1906              1447.0               31              31           1432.0\n",
       "1907              1387.0              216             227           1441.0"
      ]
     },
     "execution_count": 8,
     "metadata": {},
     "output_type": "execute_result"
    }
   ],
   "source": [
    "dscores_3rd = cleaning.clean_scores('yr1314', '3rd')\n",
    "dscores_3rd.head()"
   ]
  },
  {
   "cell_type": "markdown",
   "metadata": {},
   "source": [
    "# Merge"
   ]
  },
  {
   "cell_type": "code",
   "execution_count": 9,
   "metadata": {
    "collapsed": true
   },
   "outputs": [],
   "source": [
    "#descriptives = ddem.merge(dref, how = 'inner')\n",
    "#print(\"There is perfect overlap between ddem and dref. New dataset contains \", len(descriptives), \" districts.\")"
   ]
  },
  {
   "cell_type": "code",
   "execution_count": 10,
   "metadata": {
    "collapsed": true
   },
   "outputs": [],
   "source": [
    "#descriptives = descriptives.merge(dscores, how = 'outer', indicator = True)\n",
    "#print(len(descriptives))"
   ]
  },
  {
   "cell_type": "code",
   "execution_count": 11,
   "metadata": {
    "collapsed": true
   },
   "outputs": [],
   "source": [
    "#descriptives.distname[descriptives._merge == 'left_only']"
   ]
  },
  {
   "cell_type": "code",
   "execution_count": null,
   "metadata": {
    "collapsed": true
   },
   "outputs": [],
   "source": []
  }
 ],
 "metadata": {
  "kernelspec": {
   "display_name": "Python [conda env:spacy]",
   "language": "python",
   "name": "conda-env-spacy-py"
  },
  "language_info": {
   "codemirror_mode": {
    "name": "ipython",
    "version": 3
   },
   "file_extension": ".py",
   "mimetype": "text/x-python",
   "name": "python",
   "nbconvert_exporter": "python",
   "pygments_lexer": "ipython3",
   "version": "3.7.0"
  }
 },
 "nbformat": 4,
 "nbformat_minor": 2
}
