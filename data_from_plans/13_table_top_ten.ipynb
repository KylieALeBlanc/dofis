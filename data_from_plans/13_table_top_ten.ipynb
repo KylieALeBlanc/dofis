{
 "cells": [
  {
   "cell_type": "code",
   "execution_count": 1,
   "metadata": {},
   "outputs": [
    {
     "ename": "ModuleNotFoundError",
     "evalue": "No module named 'openpyxl'",
     "output_type": "error",
     "traceback": [
      "\u001b[0;31m---------------------------------------------------------------------------\u001b[0m",
      "\u001b[0;31mModuleNotFoundError\u001b[0m                       Traceback (most recent call last)",
      "\u001b[0;32m<ipython-input-1-8cc38957b221>\u001b[0m in \u001b[0;36m<module>\u001b[0;34m\u001b[0m\n\u001b[1;32m      2\u001b[0m \u001b[0;32mimport\u001b[0m \u001b[0mos\u001b[0m\u001b[0;34m\u001b[0m\u001b[0;34m\u001b[0m\u001b[0m\n\u001b[1;32m      3\u001b[0m \u001b[0;32mfrom\u001b[0m \u001b[0mstart\u001b[0m \u001b[0;32mimport\u001b[0m \u001b[0mdata_path\u001b[0m\u001b[0;34m\u001b[0m\u001b[0;34m\u001b[0m\u001b[0m\n\u001b[0;32m----> 4\u001b[0;31m \u001b[0;32mfrom\u001b[0m \u001b[0mopenpyxl\u001b[0m \u001b[0;32mimport\u001b[0m \u001b[0mload_workbook\u001b[0m\u001b[0;34m\u001b[0m\u001b[0;34m\u001b[0m\u001b[0m\n\u001b[0m",
      "\u001b[0;31mModuleNotFoundError\u001b[0m: No module named 'openpyxl'"
     ]
    }
   ],
   "source": [
    "import pandas as pd\n",
    "import os\n",
    "from start import data_path\n",
    "from openpyxl import load_workbook"
   ]
  },
  {
   "cell_type": "code",
   "execution_count": null,
   "metadata": {},
   "outputs": [],
   "source": [
    "data_path"
   ]
  },
  {
   "cell_type": "code",
   "execution_count": null,
   "metadata": {},
   "outputs": [],
   "source": [
    "data = pd.read_csv((os.path.join(data_path, 'doi_final.csv')))\n",
    "data"
   ]
  },
  {
   "cell_type": "code",
   "execution_count": null,
   "metadata": {},
   "outputs": [],
   "source": [
    "stubnames = sorted(\n",
    "    set([match[0] for match in data.columns.str.findall(\n",
    "    r'reg.*').values if match != [] ])\n",
    "    )\n",
    "\n",
    "proportion = []\n",
    "number = []\n",
    "for reg in stubnames:\n",
    "    proportion.append(data[reg].mean())\n",
    "    number.append(data[reg].sum())\n",
    "\n",
    "regs = pd.DataFrame(\n",
    "    {'law': stubnames,\n",
    "     'proportion': proportion,\n",
    "     'number': number\n",
    "    }).sort_values(by = ['proportion'], ascending = False)\n",
    "regs.head(10)"
   ]
  },
  {
   "cell_type": "code",
   "execution_count": null,
   "metadata": {},
   "outputs": [],
   "source": [
    "from openpyxl import load_workbook\n",
    "\n",
    "def df_to_excel(file, df, df_columns, start_col, start_row, all_ints = True):\n",
    "    wb = load_workbook(file)\n",
    "    ws = wb.active\n",
    "\n",
    "    col_n = start_col\n",
    "    for col in df_columns:\n",
    "        row_n = start_row\n",
    "        for ob in df[col]:\n",
    "            ws.cell(row=row_n, column=col_n).value = ob\n",
    "            row_n = row_n + 1\n",
    "        col_n = col_n + 1\n",
    "    wb.save(file)"
   ]
  },
  {
   "cell_type": "code",
   "execution_count": null,
   "metadata": {},
   "outputs": [],
   "source": [
    "df_to_excel(file = os.path.join(data_path, 'table_exemptions.xlsx'),\n",
    "            df = regs, df_columns = ['law', 'proportion'],\n",
    "            start_col = 4, start_row = 3)"
   ]
  },
  {
   "cell_type": "code",
   "execution_count": null,
   "metadata": {},
   "outputs": [],
   "source": []
  }
 ],
 "metadata": {
  "kernelspec": {
   "display_name": "Python 3",
   "language": "python",
   "name": "python3"
  },
  "language_info": {
   "codemirror_mode": {
    "name": "ipython",
    "version": 3
   },
   "file_extension": ".py",
   "mimetype": "text/x-python",
   "name": "python",
   "nbconvert_exporter": "python",
   "pygments_lexer": "ipython3",
   "version": "3.7.3"
  }
 },
 "nbformat": 4,
 "nbformat_minor": 2
}
