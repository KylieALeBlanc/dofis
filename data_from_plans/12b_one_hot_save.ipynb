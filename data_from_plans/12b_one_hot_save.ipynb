{
 "cells": [
  {
   "cell_type": "code",
   "execution_count": null,
   "metadata": {},
   "outputs": [],
   "source": [
    "import pandas as pd\n",
    "import csv\n",
    "import os\n",
    "import sklearn\n",
    "\n",
    "from start import data_path\n",
    "import extract_laws\n",
    "import clean_documents\n",
    "import numpy as np\n",
    "\n",
    "from sklearn.feature_extraction.text import CountVectorizer\n",
    "from sklearn.preprocessing import MultiLabelBinarizer"
   ]
  },
  {
   "cell_type": "code",
   "execution_count": null,
   "metadata": {},
   "outputs": [],
   "source": [
    "def make_list(string):\n",
    "    new_list = [i.replace('[','').replace(']','') for i in string.split(', ')]\n",
    "    return new_list\n",
    "\n",
    "doi_df['possible_laws'] = doi_df['possible_laws'].apply(make_list)\n",
    "doi_df = doi_df[['title', 'link', 'text', 'p_innovation', 'possible_laws', 'doi_year']]\n",
    "len(doi_df)"
   ]
  },
  {
   "cell_type": "code",
   "execution_count": null,
   "metadata": {},
   "outputs": [],
   "source": [
    "mlb = MultiLabelBinarizer()\n",
    "plans_onehot = doi_df.join(pd.DataFrame(mlb.fit_transform(doi_df.pop('possible_laws')),\n",
    "                          columns=mlb.classes_,\n",
    "                          index=doi_df.index))\n",
    "plans_onehot.head(10)\n",
    "len(plans_onehot)"
   ]
  },
  {
   "cell_type": "code",
   "execution_count": null,
   "metadata": {},
   "outputs": [],
   "source": [
    "drop_cols = [c for c in plans_onehot.columns if c.lower()[:7] == 'unnamed']\n",
    "plans_onehot = plans_onehot.drop(drop_cols, axis=1)\n",
    "plans_onehot.head()\n",
    "len(plans_onehot)"
   ]
  },
  {
   "cell_type": "code",
   "execution_count": null,
   "metadata": {},
   "outputs": [],
   "source": [
    "plans_onehot.columns = ['reg' + str(i).replace('.', '_') for i in plans_onehot.columns]\n",
    "plans_onehot = plans_onehot.drop(['reg'], axis=1)\n",
    "plans_onehot = plans_onehot.rename(index=str, columns= {'regtitle':'district', \n",
    "                                                        'reglink': 'link',\n",
    "                                                        'regtext': 'text',\n",
    "                                                        'regp_innovation':'p_doi',\n",
    "                                                        'regdoi_year' : 'doi_year'})\n",
    "plans_onehot.head(10)"
   ]
  },
  {
   "cell_type": "code",
   "execution_count": null,
   "metadata": {},
   "outputs": [],
   "source": [
    "cols = [c for c in plans_onehot.columns if c.lower()[:3] == 'reg']\n",
    "plans_onehot['total'] = plans_onehot[cols].sum(axis = 1)\n",
    "print(len(plans_onehot))\n",
    "# drop documents with missing regulations\n",
    "#plans_onehot = plans_onehot[plans_onehot.total > 0]\n",
    "print(len(plans_onehot))"
   ]
  },
  {
   "cell_type": "code",
   "execution_count": null,
   "metadata": {},
   "outputs": [],
   "source": [
    "# replace values\n",
    "plans_onehot['reg25_0811'] = np.where((plans_onehot.reg25_081 == 1), 1, plans_onehot.reg25_0811)"
   ]
  },
  {
   "cell_type": "code",
   "execution_count": null,
   "metadata": {},
   "outputs": [],
   "source": [
    "plans_onehot.to_csv((os.path.join(data_path, 'doi_final_wtext.csv')))\n",
    "plans_onehot = plans_onehot.drop(['text'], axis = 1)\n",
    "plans_onehot.to_csv((os.path.join(data_path, 'doi_final.csv')))"
   ]
  },
  {
   "cell_type": "code",
   "execution_count": null,
   "metadata": {},
   "outputs": [],
   "source": [
    "df = pd.read_csv((os.path.join(data_path, 'doi_final.csv')))"
   ]
  },
  {
   "cell_type": "code",
   "execution_count": null,
   "metadata": {},
   "outputs": [],
   "source": [
    "plans_onehot.reg25_0811.mean()"
   ]
  },
  {
   "cell_type": "code",
   "execution_count": null,
   "metadata": {},
   "outputs": [],
   "source": [
    "df.reg25_0811.mean()"
   ]
  }
 ],
 "metadata": {
  "kernelspec": {
   "display_name": "Python 3",
   "language": "python",
   "name": "python3"
  },
  "language_info": {
   "codemirror_mode": {
    "name": "ipython",
    "version": 3
   },
   "file_extension": ".py",
   "mimetype": "text/x-python",
   "name": "python",
   "nbconvert_exporter": "python",
   "pygments_lexer": "ipython3",
   "version": "3.7.3"
  }
 },
 "nbformat": 4,
 "nbformat_minor": 4
}
