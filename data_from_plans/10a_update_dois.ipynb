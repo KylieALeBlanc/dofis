{
 "cells": [
  {
   "cell_type": "markdown",
   "metadata": {},
   "source": [
    "# Update DOIs"
   ]
  },
  {
   "cell_type": "code",
   "execution_count": 1,
   "metadata": {},
   "outputs": [],
   "source": [
    "import urllib\n",
    "import urllib.request\n",
    "import urllib.parse\n",
    "import urllib.error\n",
    "import requests\n",
    "from bs4 import BeautifulSoup\n",
    "import csv\n",
    "import os\n",
    "import pandas as pd\n",
    "from pathlib import Path\n",
    "import spacy\n",
    "from spacy import displacy\n",
    "from spacy.matcher import Matcher\n",
    "from functools import reduce\n",
    "from start import data_path\n",
    "import extract_laws\n",
    "import clean_documents\n",
    "import numpy as np\n",
    "import gather_documents"
   ]
  },
  {
   "cell_type": "code",
   "execution_count": 2,
   "metadata": {},
   "outputs": [
    {
     "name": "stdout",
     "output_type": "stream",
     "text": [
      "824\n"
     ]
    },
    {
     "data": {
      "text/html": [
       "<div>\n",
       "<style scoped>\n",
       "    .dataframe tbody tr th:only-of-type {\n",
       "        vertical-align: middle;\n",
       "    }\n",
       "\n",
       "    .dataframe tbody tr th {\n",
       "        vertical-align: top;\n",
       "    }\n",
       "\n",
       "    .dataframe thead th {\n",
       "        text-align: right;\n",
       "    }\n",
       "</style>\n",
       "<table border=\"1\" class=\"dataframe\">\n",
       "  <thead>\n",
       "    <tr style=\"text-align: right;\">\n",
       "      <th></th>\n",
       "      <th>title</th>\n",
       "      <th>Unnamed: 0</th>\n",
       "      <th>Unnamed: 0.1</th>\n",
       "      <th>Unnamed: 0.1.1</th>\n",
       "      <th>Unnamed: 0.1.1.1</th>\n",
       "      <th>Unnamed: 0.1.1.1.1</th>\n",
       "      <th>level</th>\n",
       "      <th>type</th>\n",
       "      <th>link</th>\n",
       "      <th>text</th>\n",
       "      <th>p_innovation</th>\n",
       "      <th>possible_laws</th>\n",
       "    </tr>\n",
       "  </thead>\n",
       "  <tbody>\n",
       "    <tr>\n",
       "      <td>693</td>\n",
       "      <td>South San Antonio ISD</td>\n",
       "      <td>130.0</td>\n",
       "      <td>614</td>\n",
       "      <td>614</td>\n",
       "      <td>614</td>\n",
       "      <td>640</td>\n",
       "      <td>Second</td>\n",
       "      <td>pdf</td>\n",
       "      <td>https://www.southsanisd.net//cms/lib/TX0191831...</td>\n",
       "      <td>South San Antonio Independent School District ...</td>\n",
       "      <td>0.999955</td>\n",
       "      <td>[25.0811, 21.003, 25.112, 25.1113, 21.051, 25....</td>\n",
       "    </tr>\n",
       "  </tbody>\n",
       "</table>\n",
       "</div>"
      ],
      "text/plain": [
       "                     title  Unnamed: 0  Unnamed: 0.1  Unnamed: 0.1.1  \\\n",
       "693  South San Antonio ISD       130.0           614             614   \n",
       "\n",
       "     Unnamed: 0.1.1.1  Unnamed: 0.1.1.1.1   level type  \\\n",
       "693               614                 640  Second  pdf   \n",
       "\n",
       "                                                  link  \\\n",
       "693  https://www.southsanisd.net//cms/lib/TX0191831...   \n",
       "\n",
       "                                                  text  p_innovation  \\\n",
       "693  South San Antonio Independent School District ...      0.999955   \n",
       "\n",
       "                                         possible_laws  \n",
       "693  [25.0811, 21.003, 25.112, 25.1113, 21.051, 25....  "
      ]
     },
     "execution_count": 2,
     "metadata": {},
     "output_type": "execute_result"
    }
   ],
   "source": [
    "# import cleaned exemptions list\n",
    "docs_df = pd.read_csv(os.path.join(data_path,'doi_exemptions_list.csv'))\n",
    "print(len(docs_df))\n",
    "docs_df[docs_df.title == \"South San Antonio ISD\"]"
   ]
  },
  {
   "cell_type": "code",
   "execution_count": 3,
   "metadata": {},
   "outputs": [
    {
     "data": {
      "text/plain": [
       "['Bronte\\xa0ISD',\n",
       " 'Burleson ISD',\n",
       " 'Crosbyton CISD',\n",
       " 'Dimmitt ISD',\n",
       " 'Gregory-Portland ISD',\n",
       " 'Henrietta ISD',\n",
       " 'La Joya ISD',\n",
       " 'Liberty Hill ISD',\n",
       " 'Marathon ISD',\n",
       " 'Midway ISD (161903) ']"
      ]
     },
     "execution_count": 3,
     "metadata": {},
     "output_type": "execute_result"
    }
   ],
   "source": [
    "# old districts with missing laws\n",
    "missing_laws = docs_df[docs_df.possible_laws == '[]']\n",
    "len(missing_laws)\n",
    "missing_laws_list = list(missing_laws.title)\n",
    "missing_laws_list"
   ]
  },
  {
   "cell_type": "code",
   "execution_count": 4,
   "metadata": {
    "scrolled": true
   },
   "outputs": [],
   "source": [
    "# import cleaned dates"
   ]
  },
  {
   "cell_type": "markdown",
   "metadata": {},
   "source": [
    "## Check TEA website for new districts of innovation"
   ]
  },
  {
   "cell_type": "code",
   "execution_count": 5,
   "metadata": {
    "scrolled": false
   },
   "outputs": [
    {
     "name": "stdout",
     "output_type": "stream",
     "text": [
      "Number of districts on DOI website 896\n"
     ]
    }
   ],
   "source": [
    "url = \"https://tea.texas.gov/Texas_Schools/District_Initiatives/Districts_of_Innovation/\"\n",
    "webcontent = urllib.request.urlopen(url).read()\n",
    "soup = BeautifulSoup(webcontent, 'html.parser')\n",
    "links = soup.find_all('a')\n",
    "districts_list = [i for i in map(lambda x: x.get('title'), links) \n",
    "                  if i is not None and 'ISD' in i]\n",
    "print(\"Number of districts on DOI website\", len(districts_list))"
   ]
  },
  {
   "cell_type": "code",
   "execution_count": 14,
   "metadata": {},
   "outputs": [
    {
     "name": "stdout",
     "output_type": "stream",
     "text": [
      "Number of new districts:  76\n"
     ]
    }
   ],
   "source": [
    "new_districts_list = []\n",
    "for dist in districts_list:\n",
    "    if dist not in list(docs_df.title):\n",
    "        new_districts_list.append(dist)\n",
    "\n",
    "print(\"Number of new districts: \", len(new_districts_list))"
   ]
  },
  {
   "cell_type": "code",
   "execution_count": 15,
   "metadata": {},
   "outputs": [
    {
     "name": "stdout",
     "output_type": "stream",
     "text": [
      "86\n"
     ]
    }
   ],
   "source": [
    "new_districts_list = new_districts_list + missing_laws_list\n",
    "new_df = pd.DataFrame(new_districts_list, columns=['title'])\n",
    "print(len(new_df))"
   ]
  },
  {
   "cell_type": "code",
   "execution_count": 16,
   "metadata": {},
   "outputs": [],
   "source": [
    "# Gather"
   ]
  },
  {
   "cell_type": "code",
   "execution_count": 17,
   "metadata": {},
   "outputs": [
    {
     "name": "stdout",
     "output_type": "stream",
     "text": [
      "450\n"
     ]
    },
    {
     "data": {
      "text/html": [
       "<div>\n",
       "<style scoped>\n",
       "    .dataframe tbody tr th:only-of-type {\n",
       "        vertical-align: middle;\n",
       "    }\n",
       "\n",
       "    .dataframe tbody tr th {\n",
       "        vertical-align: top;\n",
       "    }\n",
       "\n",
       "    .dataframe thead th {\n",
       "        text-align: right;\n",
       "    }\n",
       "</style>\n",
       "<table border=\"1\" class=\"dataframe\">\n",
       "  <thead>\n",
       "    <tr style=\"text-align: right;\">\n",
       "      <th></th>\n",
       "      <th>title</th>\n",
       "      <th>link</th>\n",
       "      <th>type</th>\n",
       "    </tr>\n",
       "  </thead>\n",
       "  <tbody>\n",
       "    <tr>\n",
       "      <td>0</td>\n",
       "      <td>Denver City ISD</td>\n",
       "      <td>http://www.dcisd.org/cms/lib011/TX01917797/Cen...</td>\n",
       "      <td>docx</td>\n",
       "    </tr>\n",
       "    <tr>\n",
       "      <td>1</td>\n",
       "      <td>Marion ISD</td>\n",
       "      <td>http://www.marionisd.net/upload/page/0020/DofI...</td>\n",
       "      <td>docx</td>\n",
       "    </tr>\n",
       "    <tr>\n",
       "      <td>2</td>\n",
       "      <td>Post ISD</td>\n",
       "      <td>https://1.cdn.edl.io/I2a9qAWX4QHUGdG5HRdQP38Ja...</td>\n",
       "      <td>docx</td>\n",
       "    </tr>\n",
       "    <tr>\n",
       "      <td>3</td>\n",
       "      <td>Abilene ISD</td>\n",
       "      <td>https://www.abileneisd.org/wp-content/uploads/...</td>\n",
       "      <td>pdf</td>\n",
       "    </tr>\n",
       "    <tr>\n",
       "      <td>4</td>\n",
       "      <td>Adrian ISD</td>\n",
       "      <td>https://s3.amazonaws.com/scschoolfiles/2280/ad...</td>\n",
       "      <td>pdf</td>\n",
       "    </tr>\n",
       "    <tr>\n",
       "      <td>...</td>\n",
       "      <td>...</td>\n",
       "      <td>...</td>\n",
       "      <td>...</td>\n",
       "    </tr>\n",
       "    <tr>\n",
       "      <td>445</td>\n",
       "      <td>Valentine ISD</td>\n",
       "      <td>https://drive.google.com/file/d/1xmFIMZZfvcs4u...</td>\n",
       "      <td>google</td>\n",
       "    </tr>\n",
       "    <tr>\n",
       "      <td>446</td>\n",
       "      <td>Vega ISD</td>\n",
       "      <td>https://drive.google.com/file/d/1ecypqBHsR1b4-...</td>\n",
       "      <td>google</td>\n",
       "    </tr>\n",
       "    <tr>\n",
       "      <td>447</td>\n",
       "      <td>Whitehouse ISD</td>\n",
       "      <td>https://docs.google.com/document/d/1lxtD2uHrmK...</td>\n",
       "      <td>google</td>\n",
       "    </tr>\n",
       "    <tr>\n",
       "      <td>448</td>\n",
       "      <td>Whitharral ISD</td>\n",
       "      <td>https://docs.google.com/document/d/1QpBqSAmJNZ...</td>\n",
       "      <td>google</td>\n",
       "    </tr>\n",
       "    <tr>\n",
       "      <td>449</td>\n",
       "      <td>Winona ISD</td>\n",
       "      <td>https://docs.google.com/document/d/1kDyG_vaZ0F...</td>\n",
       "      <td>google</td>\n",
       "    </tr>\n",
       "  </tbody>\n",
       "</table>\n",
       "<p>450 rows × 3 columns</p>\n",
       "</div>"
      ],
      "text/plain": [
       "               title                                               link  \\\n",
       "0    Denver City ISD  http://www.dcisd.org/cms/lib011/TX01917797/Cen...   \n",
       "1         Marion ISD  http://www.marionisd.net/upload/page/0020/DofI...   \n",
       "2           Post ISD  https://1.cdn.edl.io/I2a9qAWX4QHUGdG5HRdQP38Ja...   \n",
       "3        Abilene ISD  https://www.abileneisd.org/wp-content/uploads/...   \n",
       "4         Adrian ISD  https://s3.amazonaws.com/scschoolfiles/2280/ad...   \n",
       "..               ...                                                ...   \n",
       "445    Valentine ISD  https://drive.google.com/file/d/1xmFIMZZfvcs4u...   \n",
       "446         Vega ISD  https://drive.google.com/file/d/1ecypqBHsR1b4-...   \n",
       "447  Whitehouse ISD   https://docs.google.com/document/d/1lxtD2uHrmK...   \n",
       "448   Whitharral ISD  https://docs.google.com/document/d/1QpBqSAmJNZ...   \n",
       "449       Winona ISD  https://docs.google.com/document/d/1kDyG_vaZ0F...   \n",
       "\n",
       "       type  \n",
       "0      docx  \n",
       "1      docx  \n",
       "2      docx  \n",
       "3       pdf  \n",
       "4       pdf  \n",
       "..      ...  \n",
       "445  google  \n",
       "446  google  \n",
       "447  google  \n",
       "448  google  \n",
       "449  google  \n",
       "\n",
       "[450 rows x 3 columns]"
      ]
     },
     "execution_count": 17,
     "metadata": {},
     "output_type": "execute_result"
    }
   ],
   "source": [
    "first_level_links = gather_documents.FirstLevelLinks(url, print_interim=False)\n",
    "first_level_df = first_level_links.docs_df.reset_index().rename(columns={'index': 'title'})\n",
    "print(len(first_level_df))\n",
    "first_level_df"
   ]
  },
  {
   "cell_type": "code",
   "execution_count": 20,
   "metadata": {},
   "outputs": [
    {
     "name": "stdout",
     "output_type": "stream",
     "text": [
      "86\n"
     ]
    }
   ],
   "source": [
    "new_df = new_df.merge(first_level_df, how = 'left')\n",
    "print(len(new_df))\n",
    "new_df\n",
    "new_df.to_csv(os.path.join(data_path, 'update_links.csv'))"
   ]
  },
  {
   "cell_type": "code",
   "execution_count": 31,
   "metadata": {},
   "outputs": [
    {
     "data": {
      "text/plain": [
       "43"
      ]
     },
     "execution_count": 31,
     "metadata": {},
     "output_type": "execute_result"
    }
   ],
   "source": [
    "# Only keep new districts\n",
    "new_districts_links_df = first_level_df[first_level_df['title'].isin(new_districts_list)]\n",
    "len(new_districts_links_df)\n",
    "len(new_districts_links_df)"
   ]
  }
 ],
 "metadata": {
  "kernelspec": {
   "display_name": "Python 3.7.4 64-bit",
   "language": "python",
   "name": "python37464bitc21292dc346b4406a38c83136932008f"
  },
  "language_info": {
   "codemirror_mode": {
    "name": "ipython",
    "version": 3
   },
   "file_extension": ".py",
   "mimetype": "text/x-python",
   "name": "python",
   "nbconvert_exporter": "python",
   "pygments_lexer": "ipython3",
   "version": "3.7.4"
  }
 },
 "nbformat": 4,
 "nbformat_minor": 4
}
