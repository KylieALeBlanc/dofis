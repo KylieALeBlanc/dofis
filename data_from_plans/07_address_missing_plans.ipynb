{
 "cells": [
  {
   "cell_type": "markdown",
   "metadata": {},
   "source": [
    "# Address missing data"
   ]
  },
  {
   "cell_type": "code",
   "execution_count": 35,
   "metadata": {},
   "outputs": [],
   "source": [
    "import urllib\n",
    "import urllib.request\n",
    "import urllib.parse\n",
    "import urllib.error\n",
    "import requests\n",
    "from bs4 import BeautifulSoup\n",
    "import csv\n",
    "import os\n",
    "import pandas as pd\n",
    "import clean_documents\n",
    "from pathlib import Path\n",
    "import spacy\n",
    "from spacy import displacy\n",
    "from spacy.matcher import Matcher\n",
    "from functools import reduce\n",
    "import extract_dates\n",
    "from start import data_path"
   ]
  },
  {
   "cell_type": "code",
   "execution_count": 36,
   "metadata": {
    "collapsed": true
   },
   "outputs": [],
   "source": [
    "docs_df = pd.read_csv(os.path.join(data_path, 'doi_exemptions_scraped.csv'))"
   ]
  },
  {
   "cell_type": "markdown",
   "metadata": {},
   "source": [
    "## Check TEA website for new districts of innovation"
   ]
  },
  {
   "cell_type": "code",
   "execution_count": 37,
   "metadata": {
    "collapsed": true
   },
   "outputs": [],
   "source": [
    "add_new_dois = False"
   ]
  },
  {
   "cell_type": "code",
   "execution_count": 38,
   "metadata": {
    "collapsed": true
   },
   "outputs": [],
   "source": [
    "if add_new_dois:\n",
    "    url = \"https://tea.texas.gov/Texas_Schools/District_Initiatives/Districts_of_Innovation/\"\n",
    "    webcontent = urllib.request.urlopen(url).read()\n",
    "    soup = BeautifulSoup(webcontent, 'html.parser')\n",
    "    links = soup.find_all('a')\n",
    "    districts_list = [i for i in map(lambda x: x.get('title'), links) \n",
    "                      if i is not None and 'ISD' in i]\n",
    "    districts_df = pd.DataFrame(districts_list, columns=['title'])\n",
    "    len(districts_df)\n",
    "    # Make a new DataFrame from a right join on dois with list of districts\n",
    "    combined_df = docs_df.merge(districts_df, how='right', left_on='title', right_on='title')\n",
    "\n",
    "    # Save the district name and link for those districts that we don't have laws for\n",
    "    missing_districts = combined_df[(combined_df['possible_laws'] == '[]')][['title', 'link']]\n",
    "\n",
    "    print(\"Number of missing districts: \", len(missing_districts))\n",
    "    missing_districts.head()"
   ]
  },
  {
   "cell_type": "code",
   "execution_count": 39,
   "metadata": {},
   "outputs": [
    {
     "name": "stdout",
     "output_type": "stream",
     "text": [
      "Number of missing districts:  283\n"
     ]
    }
   ],
   "source": [
    "if add_new_dois == False: \n",
    "    # Save the district name and link for those districts that we don't have laws for\n",
    "    missing_districts = docs_df[(docs_df['possible_laws'] == '[]')][['title', 'link']]\n",
    "    print(\"Number of missing districts: \", len(missing_districts))\n",
    "    missing_districts.head()"
   ]
  },
  {
   "cell_type": "code",
   "execution_count": 40,
   "metadata": {},
   "outputs": [
    {
     "data": {
      "text/html": [
       "<div>\n",
       "<style scoped>\n",
       "    .dataframe tbody tr th:only-of-type {\n",
       "        vertical-align: middle;\n",
       "    }\n",
       "\n",
       "    .dataframe tbody tr th {\n",
       "        vertical-align: top;\n",
       "    }\n",
       "\n",
       "    .dataframe thead th {\n",
       "        text-align: right;\n",
       "    }\n",
       "</style>\n",
       "<table border=\"1\" class=\"dataframe\">\n",
       "  <thead>\n",
       "    <tr style=\"text-align: right;\">\n",
       "      <th></th>\n",
       "      <th>title</th>\n",
       "      <th>link</th>\n",
       "    </tr>\n",
       "  </thead>\n",
       "  <tbody>\n",
       "    <tr>\n",
       "      <th>5</th>\n",
       "      <td>Yoakum ISD</td>\n",
       "      <td>http://www.yoakumisd.net/cms/lib3/TX01001553/C...</td>\n",
       "    </tr>\n",
       "    <tr>\n",
       "      <th>7</th>\n",
       "      <td>Wylie ISD (221912)</td>\n",
       "      <td>http://www.wyliebulldogs.org/cms/One.aspx?port...</td>\n",
       "    </tr>\n",
       "    <tr>\n",
       "      <th>10</th>\n",
       "      <td>Woodville ISD</td>\n",
       "      <td>https://core-docs.s3.amazonaws.com/documents/a...</td>\n",
       "    </tr>\n",
       "    <tr>\n",
       "      <th>11</th>\n",
       "      <td>Woodson ISD</td>\n",
       "      <td>https://sites.google.com/a/woodsonisd.net/wood...</td>\n",
       "    </tr>\n",
       "    <tr>\n",
       "      <th>14</th>\n",
       "      <td>Woden ISD</td>\n",
       "      <td>http://www.wodenisd.org/home/district-announce...</td>\n",
       "    </tr>\n",
       "  </tbody>\n",
       "</table>\n",
       "</div>"
      ],
      "text/plain": [
       "                 title                                               link\n",
       "5           Yoakum ISD  http://www.yoakumisd.net/cms/lib3/TX01001553/C...\n",
       "7   Wylie ISD (221912)  http://www.wyliebulldogs.org/cms/One.aspx?port...\n",
       "10       Woodville ISD  https://core-docs.s3.amazonaws.com/documents/a...\n",
       "11         Woodson ISD  https://sites.google.com/a/woodsonisd.net/wood...\n",
       "14           Woden ISD  http://www.wodenisd.org/home/district-announce..."
      ]
     },
     "execution_count": 40,
     "metadata": {},
     "output_type": "execute_result"
    }
   ],
   "source": [
    "missing_districts.head()"
   ]
  },
  {
   "cell_type": "markdown",
   "metadata": {},
   "source": [
    "## Address districts that are missing due to incorrect link."
   ]
  },
  {
   "cell_type": "markdown",
   "metadata": {},
   "source": [
    "### Where possible, incorporate previously (manually) collected links before editing"
   ]
  },
  {
   "cell_type": "code",
   "execution_count": 41,
   "metadata": {},
   "outputs": [
    {
     "name": "stdout",
     "output_type": "stream",
     "text": [
      "Number of missing links 283\n"
     ]
    },
    {
     "data": {
      "text/html": [
       "<div>\n",
       "<style scoped>\n",
       "    .dataframe tbody tr th:only-of-type {\n",
       "        vertical-align: middle;\n",
       "    }\n",
       "\n",
       "    .dataframe tbody tr th {\n",
       "        vertical-align: top;\n",
       "    }\n",
       "\n",
       "    .dataframe thead th {\n",
       "        text-align: right;\n",
       "    }\n",
       "</style>\n",
       "<table border=\"1\" class=\"dataframe\">\n",
       "  <thead>\n",
       "    <tr style=\"text-align: right;\">\n",
       "      <th></th>\n",
       "      <th>title</th>\n",
       "      <th>link_scraped</th>\n",
       "      <th>Unnamed: 0</th>\n",
       "      <th>link_manual</th>\n",
       "      <th>link</th>\n",
       "    </tr>\n",
       "  </thead>\n",
       "  <tbody>\n",
       "    <tr>\n",
       "      <th>0</th>\n",
       "      <td>Yoakum ISD</td>\n",
       "      <td>http://www.yoakumisd.net/cms/lib3/TX01001553/C...</td>\n",
       "      <td>0.0</td>\n",
       "      <td>http://www.yoakumisd.net/cms/lib3/TX01001553/C...</td>\n",
       "      <td>http://www.yoakumisd.net/cms/lib3/TX01001553/C...</td>\n",
       "    </tr>\n",
       "    <tr>\n",
       "      <th>1</th>\n",
       "      <td>Wylie ISD (221912)</td>\n",
       "      <td>http://www.wyliebulldogs.org/cms/One.aspx?port...</td>\n",
       "      <td>1.0</td>\n",
       "      <td>http://www.wyliebulldogs.org/UserFiles/Servers...</td>\n",
       "      <td>http://www.wyliebulldogs.org/UserFiles/Servers...</td>\n",
       "    </tr>\n",
       "    <tr>\n",
       "      <th>2</th>\n",
       "      <td>Woodville ISD</td>\n",
       "      <td>https://core-docs.s3.amazonaws.com/documents/a...</td>\n",
       "      <td>2.0</td>\n",
       "      <td>https://core-docs.s3.amazonaws.com/documents/a...</td>\n",
       "      <td>https://core-docs.s3.amazonaws.com/documents/a...</td>\n",
       "    </tr>\n",
       "    <tr>\n",
       "      <th>3</th>\n",
       "      <td>Woodson ISD</td>\n",
       "      <td>https://sites.google.com/a/woodsonisd.net/wood...</td>\n",
       "      <td>3.0</td>\n",
       "      <td>https://drive.google.com/file/d/0B5Y_iCwf_UMuT...</td>\n",
       "      <td>https://drive.google.com/file/d/0B5Y_iCwf_UMuT...</td>\n",
       "    </tr>\n",
       "    <tr>\n",
       "      <th>4</th>\n",
       "      <td>Woden ISD</td>\n",
       "      <td>http://www.wodenisd.org/home/district-announce...</td>\n",
       "      <td>4.0</td>\n",
       "      <td>https://drive.google.com/file/d/1j-lifioD9y4Z7...</td>\n",
       "      <td>https://drive.google.com/file/d/1j-lifioD9y4Z7...</td>\n",
       "    </tr>\n",
       "  </tbody>\n",
       "</table>\n",
       "</div>"
      ],
      "text/plain": [
       "                title                                       link_scraped  \\\n",
       "0          Yoakum ISD  http://www.yoakumisd.net/cms/lib3/TX01001553/C...   \n",
       "1  Wylie ISD (221912)  http://www.wyliebulldogs.org/cms/One.aspx?port...   \n",
       "2       Woodville ISD  https://core-docs.s3.amazonaws.com/documents/a...   \n",
       "3         Woodson ISD  https://sites.google.com/a/woodsonisd.net/wood...   \n",
       "4           Woden ISD  http://www.wodenisd.org/home/district-announce...   \n",
       "\n",
       "   Unnamed: 0                                        link_manual  \\\n",
       "0         0.0  http://www.yoakumisd.net/cms/lib3/TX01001553/C...   \n",
       "1         1.0  http://www.wyliebulldogs.org/UserFiles/Servers...   \n",
       "2         2.0  https://core-docs.s3.amazonaws.com/documents/a...   \n",
       "3         3.0  https://drive.google.com/file/d/0B5Y_iCwf_UMuT...   \n",
       "4         4.0  https://drive.google.com/file/d/1j-lifioD9y4Z7...   \n",
       "\n",
       "                                                link  \n",
       "0  http://www.yoakumisd.net/cms/lib3/TX01001553/C...  \n",
       "1  http://www.wyliebulldogs.org/UserFiles/Servers...  \n",
       "2  https://core-docs.s3.amazonaws.com/documents/a...  \n",
       "3  https://drive.google.com/file/d/0B5Y_iCwf_UMuT...  \n",
       "4  https://drive.google.com/file/d/1j-lifioD9y4Z7...  "
      ]
     },
     "execution_count": 41,
     "metadata": {},
     "output_type": "execute_result"
    }
   ],
   "source": [
    "missing_districts = missing_districts.rename({'link': 'link_scraped'}, axis = 'columns')\n",
    "missing_links = pd.read_csv(os.path.join(data_path, 'missing_links_corrected.csv'))\n",
    "missing_links = missing_links.rename({'link': 'link_manual'}, axis = 'columns')\n",
    "missing_links = missing_districts.merge(missing_links, how = 'left', left_on = 'title', right_on = 'title')\n",
    "print(\"Number of missing links\", len(missing_links))\n",
    "missing_links['link'] = missing_links.link_manual\n",
    "missing_links['link'] = missing_links['link'].fillna(missing_links['link_scraped'])\n",
    "missing_links.head()"
   ]
  },
  {
   "cell_type": "code",
   "execution_count": 42,
   "metadata": {
    "collapsed": true
   },
   "outputs": [],
   "source": [
    "missing_links = missing_links[['title', 'link']]\n",
    "missing_links.to_csv(os.path.join(data_path, 'missing_links.csv'))"
   ]
  },
  {
   "cell_type": "markdown",
   "metadata": {},
   "source": [
    "### Manually edit links in missing_links.csv where wrong. Save as missing_links_corrected.csv. Then upload."
   ]
  },
  {
   "cell_type": "code",
   "execution_count": 43,
   "metadata": {},
   "outputs": [
    {
     "data": {
      "text/html": [
       "<div>\n",
       "<style scoped>\n",
       "    .dataframe tbody tr th:only-of-type {\n",
       "        vertical-align: middle;\n",
       "    }\n",
       "\n",
       "    .dataframe tbody tr th {\n",
       "        vertical-align: top;\n",
       "    }\n",
       "\n",
       "    .dataframe thead th {\n",
       "        text-align: right;\n",
       "    }\n",
       "</style>\n",
       "<table border=\"1\" class=\"dataframe\">\n",
       "  <thead>\n",
       "    <tr style=\"text-align: right;\">\n",
       "      <th></th>\n",
       "      <th>Unnamed: 0</th>\n",
       "      <th>title</th>\n",
       "      <th>link</th>\n",
       "    </tr>\n",
       "  </thead>\n",
       "  <tbody>\n",
       "    <tr>\n",
       "      <th>272</th>\n",
       "      <td>272</td>\n",
       "      <td>Anahuac ISD</td>\n",
       "      <td>https://drive.google.com/file/d/11uTSTuAcBFTdq...</td>\n",
       "    </tr>\n",
       "    <tr>\n",
       "      <th>273</th>\n",
       "      <td>273</td>\n",
       "      <td>Amarillo ISD</td>\n",
       "      <td>http://www.amaisd.org/UserFiles/Servers/Server...</td>\n",
       "    </tr>\n",
       "    <tr>\n",
       "      <th>274</th>\n",
       "      <td>274</td>\n",
       "      <td>Alvarado ISD</td>\n",
       "      <td>http://www.alvaradoisd.net/UserFiles/Servers/S...</td>\n",
       "    </tr>\n",
       "    <tr>\n",
       "      <th>275</th>\n",
       "      <td>275</td>\n",
       "      <td>Alto ISD</td>\n",
       "      <td>https://resources.finalsite.net/images/v154092...</td>\n",
       "    </tr>\n",
       "    <tr>\n",
       "      <th>276</th>\n",
       "      <td>276</td>\n",
       "      <td>Aledo ISD</td>\n",
       "      <td>https://docs.google.com/viewerng/viewer?url=ht...</td>\n",
       "    </tr>\n",
       "  </tbody>\n",
       "</table>\n",
       "</div>"
      ],
      "text/plain": [
       "     Unnamed: 0         title  \\\n",
       "272         272   Anahuac ISD   \n",
       "273         273  Amarillo ISD   \n",
       "274         274  Alvarado ISD   \n",
       "275         275      Alto ISD   \n",
       "276         276     Aledo ISD   \n",
       "\n",
       "                                                  link  \n",
       "272  https://drive.google.com/file/d/11uTSTuAcBFTdq...  \n",
       "273  http://www.amaisd.org/UserFiles/Servers/Server...  \n",
       "274  http://www.alvaradoisd.net/UserFiles/Servers/S...  \n",
       "275  https://resources.finalsite.net/images/v154092...  \n",
       "276  https://docs.google.com/viewerng/viewer?url=ht...  "
      ]
     },
     "execution_count": 43,
     "metadata": {},
     "output_type": "execute_result"
    }
   ],
   "source": [
    "missing_links = pd.read_csv(os.path.join(data_path, 'missing_links_corrected.csv'))\n",
    "missing_links.tail()"
   ]
  },
  {
   "cell_type": "markdown",
   "metadata": {},
   "source": [
    "### Extract text from missing_links"
   ]
  },
  {
   "cell_type": "code",
   "execution_count": 44,
   "metadata": {},
   "outputs": [
    {
     "name": "stdout",
     "output_type": "stream",
     "text": [
      "Current link: http://www.windthorstisd.net/Uploads/50/misc/f283384.pdfqSoIFMeyfvnuo.pdfoodville_ISD_DOI_Final_Plan.pdfAREAS%20%20OF%20%20INNOVATION.pdf\r"
     ]
    },
    {
     "name": "stderr",
     "output_type": "stream",
     "text": [
      "2019-06-29 17:31:55,456 [MainThread  ] [WARNI]  Tika server returned status: 422\n"
     ]
    },
    {
     "name": "stdout",
     "output_type": "stream",
     "text": [
      "error: HTTP Error 404: Not Found link: http://www.windthorstisd.net/Uploads/50/misc/f283384.pdf\n",
      "Google Error: 'd' is not in listle.com/drive/folders/0B-ALJgmFKVDFZmxBb09rRE9aQ1Uiewategories/Documents/District_of_Innovation_Timeline_&_Plan16_PDF.pdfll%201842.pdfExemptions-BoardApproved.pdf\n",
      "Google Error: 'd' is not in listle.com/open?id=1kC4Rn_OgoK8K-s3kvUh4xBPTluPJdtpKtes/News/Documents/FINAL_DOI_PDF_FIle.pdf20Final.pdf7-2022_Adopted%2005.09.2017_Revised%2006.2018.docx\n",
      "error: <urlopen error [Errno 8] nodename nor servname provided, or not known> link: http://www.mumford.k12.tx.us/TEAReports/Innovation%20Plan%2008%2024%202017_2.pdfhru%202021.pdfproved.pdf2F2018%20Website%20%2D%20Required%2FDistrict%2Dof%2DInnovation%2DPlan%2D2016%2D2017%2DBoard%2DApproved%2Epdf&parent=%2Fpersonal%2Fmarcus%5Fdavis%5Fpottsboroisd%5Forg%2FDocuments%2F2018%20Website%20%2D%20Required&slrid=58be829e%2D30c5%2D6000%2D8997%2De55bfde53779\n",
      "Google Error: 'd' is not in listle.com/drive/folders/169mMXgf5g3TeRrsjYPg7fpq25FI57Ce_?usp=sharing_2017.pdfan%202018-2023.pdfpdfMillsap+ISD+Innovation+Plan+2018.docx\n",
      "Current link: http://www.ezzellisd.org/apps/pages/index.jsp?uREC_ID=199567&type=d&pREC_ID=431083viewileName=District of Innovation Plan - final - 3-24-17.pdfGFLSZTYQ&Expires=1869139420&response-cache-control=private%2C%20max-age%3D31536000&response-content-disposition=%3Bfilename%3D%22Adopted%2520DOI%2520V2%25204-2017.pdf%22&response-content-type=application%2Fpdf&Signature=UGyLWybPWLXoHZJnUXWxZQPKFgo%3D\r"
     ]
    },
    {
     "name": "stderr",
     "output_type": "stream",
     "text": [
      "2019-06-29 17:36:20,799 [MainThread  ] [WARNI]  Tika server returned status: 422\n"
     ]
    },
    {
     "name": "stdout",
     "output_type": "stream",
     "text": [
      "error: HTTP Error 404: File Not Found link: http://www.ezzellisd.org/apps/pages/index.jsp?uREC_ID=199567&type=d&pREC_ID=431083\n",
      "Google Error: 'd' is not in listle.com/drive/folders/0B3zKmpprcZY1OHRBcEw1d2VFcFEISD/district%20of%20innovation/CLEAR%20CREEK%20INDEPENDENT%20SCHOOL%20DISTRICT%20PLAN%20FINAL.pdf\n",
      "Current link: https://docs.google.com/viewerng/viewer?url=https://www.aledoisd.org//cms/lib/TX02205721/Centricity/Domain/2005/DOI_Plan.pdfnnovation%20Plan%20(FINAL).pdf\r"
     ]
    }
   ],
   "source": [
    "texts = []\n",
    "for link in missing_links.link:\n",
    "    text = clean_documents.get_plain_text(link)\n",
    "    texts.append(text)"
   ]
  },
  {
   "cell_type": "code",
   "execution_count": 45,
   "metadata": {},
   "outputs": [
    {
     "data": {
      "text/plain": [
       "277"
      ]
     },
     "execution_count": 45,
     "metadata": {},
     "output_type": "execute_result"
    }
   ],
   "source": [
    "missing_links['text'] = texts\n",
    "missing_links['text'] = missing_links['text'].fillna('No text')\n",
    "len(missing_links)"
   ]
  },
  {
   "cell_type": "code",
   "execution_count": 46,
   "metadata": {},
   "outputs": [
    {
     "data": {
      "text/html": [
       "<div>\n",
       "<style scoped>\n",
       "    .dataframe tbody tr th:only-of-type {\n",
       "        vertical-align: middle;\n",
       "    }\n",
       "\n",
       "    .dataframe tbody tr th {\n",
       "        vertical-align: top;\n",
       "    }\n",
       "\n",
       "    .dataframe thead th {\n",
       "        text-align: right;\n",
       "    }\n",
       "</style>\n",
       "<table border=\"1\" class=\"dataframe\">\n",
       "  <thead>\n",
       "    <tr style=\"text-align: right;\">\n",
       "      <th></th>\n",
       "      <th>Unnamed: 0</th>\n",
       "      <th>title</th>\n",
       "      <th>link</th>\n",
       "      <th>text</th>\n",
       "    </tr>\n",
       "  </thead>\n",
       "  <tbody>\n",
       "    <tr>\n",
       "      <th>0</th>\n",
       "      <td>0</td>\n",
       "      <td>Yoakum ISD</td>\n",
       "      <td>http://www.yoakumisd.net/cms/lib3/TX01001553/C...</td>\n",
       "      <td>DISTRICT OF INNOVATION DISTRICT OF INNOVATION ...</td>\n",
       "    </tr>\n",
       "    <tr>\n",
       "      <th>1</th>\n",
       "      <td>1</td>\n",
       "      <td>Wylie ISD (221912)</td>\n",
       "      <td>http://www.wyliebulldogs.org/UserFiles/Servers...</td>\n",
       "      <td>District of Innovation Introduction HB 1842 wa...</td>\n",
       "    </tr>\n",
       "    <tr>\n",
       "      <th>2</th>\n",
       "      <td>2</td>\n",
       "      <td>Woodville ISD</td>\n",
       "      <td>https://core-docs.s3.amazonaws.com/documents/a...</td>\n",
       "      <td>No text</td>\n",
       "    </tr>\n",
       "    <tr>\n",
       "      <th>3</th>\n",
       "      <td>3</td>\n",
       "      <td>Woodson ISD</td>\n",
       "      <td>https://drive.google.com/file/d/0B5Y_iCwf_UMuT...</td>\n",
       "      <td>Woodson Independent School District District o...</td>\n",
       "    </tr>\n",
       "    <tr>\n",
       "      <th>4</th>\n",
       "      <td>4</td>\n",
       "      <td>Woden ISD</td>\n",
       "      <td>https://drive.google.com/file/d/1j-lifioD9y4Z7...</td>\n",
       "      <td>DISTRICT OF INNOVATION PLAN Introduction The 8...</td>\n",
       "    </tr>\n",
       "  </tbody>\n",
       "</table>\n",
       "</div>"
      ],
      "text/plain": [
       "   Unnamed: 0               title  \\\n",
       "0           0          Yoakum ISD   \n",
       "1           1  Wylie ISD (221912)   \n",
       "2           2       Woodville ISD   \n",
       "3           3         Woodson ISD   \n",
       "4           4           Woden ISD   \n",
       "\n",
       "                                                link  \\\n",
       "0  http://www.yoakumisd.net/cms/lib3/TX01001553/C...   \n",
       "1  http://www.wyliebulldogs.org/UserFiles/Servers...   \n",
       "2  https://core-docs.s3.amazonaws.com/documents/a...   \n",
       "3  https://drive.google.com/file/d/0B5Y_iCwf_UMuT...   \n",
       "4  https://drive.google.com/file/d/1j-lifioD9y4Z7...   \n",
       "\n",
       "                                                text  \n",
       "0  DISTRICT OF INNOVATION DISTRICT OF INNOVATION ...  \n",
       "1  District of Innovation Introduction HB 1842 wa...  \n",
       "2                                            No text  \n",
       "3  Woodson Independent School District District o...  \n",
       "4  DISTRICT OF INNOVATION PLAN Introduction The 8...  "
      ]
     },
     "execution_count": 46,
     "metadata": {},
     "output_type": "execute_result"
    }
   ],
   "source": [
    "missing_links = clean_documents.remove_whitespace(missing_links, text_col = 'text')\n",
    "missing_links.head()"
   ]
  },
  {
   "cell_type": "markdown",
   "metadata": {},
   "source": [
    "### Extract laws from missing_links"
   ]
  },
  {
   "cell_type": "code",
   "execution_count": 47,
   "metadata": {},
   "outputs": [],
   "source": [
    "nlp = spacy.load('en_core_web_sm')\n",
    "law_shapes = [i*'d' + '.' + j*'d' for i in range(1, 4) for j in range(3,5)]\n",
    "law_shape_patterns = [[{'LIKE_NUM':True, 'SHAPE':shape}, {'ORTH':'%', 'OP':'!'}] for shape in law_shapes] # could add {'SHAPE':'§', 'OP':'*'},  and exceptions for laws in parentheses or followed by a hyphen\n",
    "\n",
    "matcher = Matcher(nlp.vocab)\n",
    "matcher.add(\"ExplicitLaw\", None, *law_shape_patterns)\n",
    "\n",
    "def get_matches(string):\n",
    "    doc = nlp(string)\n",
    "    matches = matcher(doc)\n",
    "    return list(set([doc[i[1]:i[2]][0] for i in matches]))\n",
    "\n",
    "missing_links['possible_laws'] = missing_links.text.apply(get_matches)"
   ]
  },
  {
   "cell_type": "code",
   "execution_count": 48,
   "metadata": {},
   "outputs": [
    {
     "data": {
      "text/plain": [
       "277"
      ]
     },
     "execution_count": 48,
     "metadata": {},
     "output_type": "execute_result"
    }
   ],
   "source": [
    "len(missing_links)"
   ]
  },
  {
   "cell_type": "code",
   "execution_count": 49,
   "metadata": {},
   "outputs": [
    {
     "name": "stdout",
     "output_type": "stream",
     "text": [
      "There are 58 documents without text (photocopies, most likely)\n",
      "There are 3 documents which we cannot access\n",
      "An additional 60 documents have text but do not contain laws.\n"
     ]
    },
    {
     "name": "stderr",
     "output_type": "stream",
     "text": [
      "/Users/kylieleblancKylie/anaconda/envs/spacy/lib/python3.7/site-packages/ipykernel/__main__.py:3: UserWarning: Boolean Series key will be reindexed to match DataFrame index.\n",
      "  app.launch_new_instance()\n"
     ]
    }
   ],
   "source": [
    "print('There are', len(missing_links[missing_links.text == 'No text']), 'documents without text (photocopies, most likely)')\n",
    "print('There are', len(missing_links[missing_links.text == 'UNAVAILABLE']), 'documents which we cannot access')\n",
    "print('An additional', len(missing_links[missing_links['possible_laws'].astype(str) == '[]'][(missing_links.text != 'No text') & (missing_links.text != 'UNAVAILABLE')]), 'documents have text but do not contain laws.')"
   ]
  },
  {
   "cell_type": "markdown",
   "metadata": {},
   "source": [
    "### Save now correct observations to 'missing_links_corrected'. Save districts that are still incorrect to missing_text."
   ]
  },
  {
   "cell_type": "code",
   "execution_count": 50,
   "metadata": {
    "collapsed": true
   },
   "outputs": [],
   "source": [
    "missing_links_corrected = missing_links[missing_links['possible_laws'].astype(str) != '[]']\n",
    "missing_text = missing_links[missing_links['possible_laws'].astype(str) == '[]']"
   ]
  },
  {
   "cell_type": "code",
   "execution_count": 51,
   "metadata": {},
   "outputs": [
    {
     "data": {
      "text/plain": [
       "121"
      ]
     },
     "execution_count": 51,
     "metadata": {},
     "output_type": "execute_result"
    }
   ],
   "source": [
    "len(missing_text)"
   ]
  },
  {
   "cell_type": "code",
   "execution_count": 52,
   "metadata": {},
   "outputs": [
    {
     "name": "stdout",
     "output_type": "stream",
     "text": [
      "We have added 156 districts.\n",
      "121 are still missing.\n"
     ]
    }
   ],
   "source": [
    "print('We have added', len(missing_links_corrected), 'districts.')\n",
    "print(len(missing_text), 'are still missing.')"
   ]
  },
  {
   "cell_type": "markdown",
   "metadata": {},
   "source": [
    "## Address districts that are missing due to missing or incorrect text."
   ]
  },
  {
   "cell_type": "markdown",
   "metadata": {},
   "source": [
    "### Where possible, incorporate previously (manually) collected text before editing"
   ]
  },
  {
   "cell_type": "code",
   "execution_count": 53,
   "metadata": {},
   "outputs": [
    {
     "name": "stdout",
     "output_type": "stream",
     "text": [
      "Number of missing texts 121\n"
     ]
    }
   ],
   "source": [
    "missing_text_new = missing_text.rename({'text': 'text_scraped'}, axis = 'columns')\n",
    "missing_text_old = pd.read_csv(os.path.join(data_path, 'missing_text_corrected.csv'), encoding='latin-1')\n",
    "missing_text_old = missing_links.rename({'text': 'text_manual'}, axis = 'columns')\n",
    "missing_text = missing_text_new.merge(missing_text_old, how = 'left', left_on = 'title', right_on = 'title')\n",
    "print(\"Number of missing texts\", len(missing_text))\n",
    "missing_text['text'] = missing_text.text_manual\n",
    "missing_text['text'] = missing_text['text'].fillna(missing_text['text_scraped'])\n",
    "missing_text.to_csv(os.path.join(data_path, 'missing_text.csv'))"
   ]
  },
  {
   "cell_type": "markdown",
   "metadata": {},
   "source": [
    "##### Manually add correct text. If no text (photocopy), put 'No text' in cell. If you cannot find the document, put 'No document found'. Save as missing_text_corrected.csv."
   ]
  },
  {
   "cell_type": "code",
   "execution_count": 54,
   "metadata": {
    "collapsed": true
   },
   "outputs": [],
   "source": [
    "missing_texts = pd.read_csv(os.path.join(data_path, 'missing_text_corrected.csv'))"
   ]
  },
  {
   "cell_type": "markdown",
   "metadata": {},
   "source": [
    "### Extract laws"
   ]
  },
  {
   "cell_type": "code",
   "execution_count": 55,
   "metadata": {
    "collapsed": true
   },
   "outputs": [],
   "source": [
    "missing_texts['possible_laws'] = missing_texts.text.apply(get_matches)"
   ]
  },
  {
   "cell_type": "code",
   "execution_count": 56,
   "metadata": {},
   "outputs": [
    {
     "data": {
      "text/html": [
       "<div>\n",
       "<style scoped>\n",
       "    .dataframe tbody tr th:only-of-type {\n",
       "        vertical-align: middle;\n",
       "    }\n",
       "\n",
       "    .dataframe tbody tr th {\n",
       "        vertical-align: top;\n",
       "    }\n",
       "\n",
       "    .dataframe thead th {\n",
       "        text-align: right;\n",
       "    }\n",
       "</style>\n",
       "<table border=\"1\" class=\"dataframe\">\n",
       "  <thead>\n",
       "    <tr style=\"text-align: right;\">\n",
       "      <th></th>\n",
       "      <th>Unnamed: 0</th>\n",
       "      <th>Unnamed: 0.1</th>\n",
       "      <th>title</th>\n",
       "      <th>link</th>\n",
       "      <th>text</th>\n",
       "      <th>possible_laws</th>\n",
       "    </tr>\n",
       "  </thead>\n",
       "  <tbody>\n",
       "    <tr>\n",
       "      <th>0</th>\n",
       "      <td>2</td>\n",
       "      <td>2</td>\n",
       "      <td>Woodville ISD</td>\n",
       "      <td>https://core-docs.s3.amazonaws.com/documents/a...</td>\n",
       "      <td>No text</td>\n",
       "      <td>[]</td>\n",
       "    </tr>\n",
       "    <tr>\n",
       "      <th>1</th>\n",
       "      <td>5</td>\n",
       "      <td>5</td>\n",
       "      <td>Wink-Loving ISD</td>\n",
       "      <td>https://1.cdn.edl.io/vQwTZvpBxb8PX0K2KFrGbN9Y0...</td>\n",
       "      <td>Wink-Loving ISD WLISD - The Best in Texas: Bui...</td>\n",
       "      <td>[]</td>\n",
       "    </tr>\n",
       "    <tr>\n",
       "      <th>2</th>\n",
       "      <td>6</td>\n",
       "      <td>6</td>\n",
       "      <td>Windthorst ISD</td>\n",
       "      <td>http://www.windthorstisd.net/Uploads/50/misc/f...</td>\n",
       "      <td>No text</td>\n",
       "      <td>[]</td>\n",
       "    </tr>\n",
       "    <tr>\n",
       "      <th>3</th>\n",
       "      <td>8</td>\n",
       "      <td>8</td>\n",
       "      <td>Willis ISD</td>\n",
       "      <td>https://tx50000123.schoolwires.net//cms/lib/TX...</td>\n",
       "      <td>2 Approved by WISD School Board April 12, 2017...</td>\n",
       "      <td>[]</td>\n",
       "    </tr>\n",
       "    <tr>\n",
       "      <th>4</th>\n",
       "      <td>9</td>\n",
       "      <td>9</td>\n",
       "      <td>Whitney ISD</td>\n",
       "      <td>https://www.whitney.k12.tx.us/cms/lib3/TX01001...</td>\n",
       "      <td>No text</td>\n",
       "      <td>[]</td>\n",
       "    </tr>\n",
       "  </tbody>\n",
       "</table>\n",
       "</div>"
      ],
      "text/plain": [
       "   Unnamed: 0  Unnamed: 0.1            title  \\\n",
       "0           2             2    Woodville ISD   \n",
       "1           5             5  Wink-Loving ISD   \n",
       "2           6             6   Windthorst ISD   \n",
       "3           8             8       Willis ISD   \n",
       "4           9             9      Whitney ISD   \n",
       "\n",
       "                                                link  \\\n",
       "0  https://core-docs.s3.amazonaws.com/documents/a...   \n",
       "1  https://1.cdn.edl.io/vQwTZvpBxb8PX0K2KFrGbN9Y0...   \n",
       "2  http://www.windthorstisd.net/Uploads/50/misc/f...   \n",
       "3  https://tx50000123.schoolwires.net//cms/lib/TX...   \n",
       "4  https://www.whitney.k12.tx.us/cms/lib3/TX01001...   \n",
       "\n",
       "                                                text possible_laws  \n",
       "0                                            No text            []  \n",
       "1  Wink-Loving ISD WLISD - The Best in Texas: Bui...            []  \n",
       "2                                            No text            []  \n",
       "3  2 Approved by WISD School Board April 12, 2017...            []  \n",
       "4                                            No text            []  "
      ]
     },
     "execution_count": 56,
     "metadata": {},
     "output_type": "execute_result"
    }
   ],
   "source": [
    "missing_texts.head()"
   ]
  },
  {
   "cell_type": "code",
   "execution_count": 57,
   "metadata": {
    "collapsed": true
   },
   "outputs": [],
   "source": [
    "missing_text_corrected = missing_texts[missing_texts['possible_laws'].astype(str) != '[]']\n",
    "missing_laws = missing_texts[missing_texts['possible_laws'].astype(str) == '[]']"
   ]
  },
  {
   "cell_type": "code",
   "execution_count": 58,
   "metadata": {},
   "outputs": [
    {
     "name": "stdout",
     "output_type": "stream",
     "text": [
      "We have added 28 districts.\n",
      "89 are still missing.\n"
     ]
    }
   ],
   "source": [
    "print('We have added', len(missing_text_corrected), 'districts.')\n",
    "print(len(missing_laws), 'are still missing.')"
   ]
  },
  {
   "cell_type": "markdown",
   "metadata": {},
   "source": [
    "# Address districts that are photocopies"
   ]
  },
  {
   "cell_type": "code",
   "execution_count": 59,
   "metadata": {},
   "outputs": [],
   "source": [
    "missing_laws.to_csv(os.path.join(data_path, 'missing_laws.csv'))"
   ]
  },
  {
   "cell_type": "markdown",
   "metadata": {},
   "source": [
    "##### Manually add correct laws. If you cannot find the document, leave possible_laws blank. Save as missing_laws_corrected.csv."
   ]
  },
  {
   "cell_type": "markdown",
   "metadata": {},
   "source": [
    "#### Incorporate previous edits"
   ]
  },
  {
   "cell_type": "code",
   "execution_count": 60,
   "metadata": {},
   "outputs": [
    {
     "name": "stdout",
     "output_type": "stream",
     "text": [
      "Number of missing laws 89\n"
     ]
    },
    {
     "data": {
      "text/html": [
       "<div>\n",
       "<style scoped>\n",
       "    .dataframe tbody tr th:only-of-type {\n",
       "        vertical-align: middle;\n",
       "    }\n",
       "\n",
       "    .dataframe tbody tr th {\n",
       "        vertical-align: top;\n",
       "    }\n",
       "\n",
       "    .dataframe thead th {\n",
       "        text-align: right;\n",
       "    }\n",
       "</style>\n",
       "<table border=\"1\" class=\"dataframe\">\n",
       "  <thead>\n",
       "    <tr style=\"text-align: right;\">\n",
       "      <th></th>\n",
       "      <th>Unnamed: 0</th>\n",
       "      <th>Unnamed: 0.1</th>\n",
       "      <th>title</th>\n",
       "      <th>link</th>\n",
       "      <th>text</th>\n",
       "      <th>possible_laws</th>\n",
       "      <th>laws_old</th>\n",
       "    </tr>\n",
       "  </thead>\n",
       "  <tbody>\n",
       "    <tr>\n",
       "      <th>0</th>\n",
       "      <td>2</td>\n",
       "      <td>2</td>\n",
       "      <td>Woodville ISD</td>\n",
       "      <td>https://core-docs.s3.amazonaws.com/documents/a...</td>\n",
       "      <td>No text</td>\n",
       "      <td>[25.0811, 25.0812]</td>\n",
       "      <td>[25.0811, 25.0812]</td>\n",
       "    </tr>\n",
       "    <tr>\n",
       "      <th>1</th>\n",
       "      <td>5</td>\n",
       "      <td>5</td>\n",
       "      <td>Wink-Loving ISD</td>\n",
       "      <td>https://1.cdn.edl.io/vQwTZvpBxb8PX0K2KFrGbN9Y0...</td>\n",
       "      <td>Wink-Loving ISD WLISD - The Best in Texas: Bui...</td>\n",
       "      <td>[25.0811, 21.003]</td>\n",
       "      <td>[25.0811, 21.003]</td>\n",
       "    </tr>\n",
       "    <tr>\n",
       "      <th>2</th>\n",
       "      <td>6</td>\n",
       "      <td>6</td>\n",
       "      <td>Windthorst ISD</td>\n",
       "      <td>http://www.windthorstisd.net/Uploads/50/misc/f...</td>\n",
       "      <td>No text</td>\n",
       "      <td>[21.401, 25.0811]</td>\n",
       "      <td>[21.401, 25.0811]</td>\n",
       "    </tr>\n",
       "    <tr>\n",
       "      <th>3</th>\n",
       "      <td>8</td>\n",
       "      <td>8</td>\n",
       "      <td>Willis ISD</td>\n",
       "      <td>https://tx50000123.schoolwires.net//cms/lib/TX...</td>\n",
       "      <td>2 Approved by WISD School Board April 12, 2017...</td>\n",
       "      <td>[25.0811, 21.003, 21.102]</td>\n",
       "      <td>[25.0811, 21.003, 21.102]</td>\n",
       "    </tr>\n",
       "    <tr>\n",
       "      <th>4</th>\n",
       "      <td>9</td>\n",
       "      <td>9</td>\n",
       "      <td>Whitney ISD</td>\n",
       "      <td>https://www.whitney.k12.tx.us/cms/lib3/TX01001...</td>\n",
       "      <td>No text</td>\n",
       "      <td>[25.0811]</td>\n",
       "      <td>[25.0811]</td>\n",
       "    </tr>\n",
       "  </tbody>\n",
       "</table>\n",
       "</div>"
      ],
      "text/plain": [
       "   Unnamed: 0  Unnamed: 0.1            title  \\\n",
       "0           2             2    Woodville ISD   \n",
       "1           5             5  Wink-Loving ISD   \n",
       "2           6             6   Windthorst ISD   \n",
       "3           8             8       Willis ISD   \n",
       "4           9             9      Whitney ISD   \n",
       "\n",
       "                                                link  \\\n",
       "0  https://core-docs.s3.amazonaws.com/documents/a...   \n",
       "1  https://1.cdn.edl.io/vQwTZvpBxb8PX0K2KFrGbN9Y0...   \n",
       "2  http://www.windthorstisd.net/Uploads/50/misc/f...   \n",
       "3  https://tx50000123.schoolwires.net//cms/lib/TX...   \n",
       "4  https://www.whitney.k12.tx.us/cms/lib3/TX01001...   \n",
       "\n",
       "                                                text  \\\n",
       "0                                            No text   \n",
       "1  Wink-Loving ISD WLISD - The Best in Texas: Bui...   \n",
       "2                                            No text   \n",
       "3  2 Approved by WISD School Board April 12, 2017...   \n",
       "4                                            No text   \n",
       "\n",
       "               possible_laws                   laws_old  \n",
       "0         [25.0811, 25.0812]         [25.0811, 25.0812]  \n",
       "1          [25.0811, 21.003]          [25.0811, 21.003]  \n",
       "2          [21.401, 25.0811]          [21.401, 25.0811]  \n",
       "3  [25.0811, 21.003, 21.102]  [25.0811, 21.003, 21.102]  \n",
       "4                  [25.0811]                  [25.0811]  "
      ]
     },
     "execution_count": 60,
     "metadata": {},
     "output_type": "execute_result"
    }
   ],
   "source": [
    "missing_laws_old = pd.read_csv(os.path.join(data_path, 'missing_laws_corrected.csv'), encoding='latin-1')\n",
    "missing_laws_old = missing_laws_old.rename({'possible_laws': 'laws_old'}, axis = 'columns')\n",
    "missing_laws = missing_laws.merge(missing_laws_old[['title',  'laws_old']], how = 'left', left_on = 'title', right_on = 'title')\n",
    "print(\"Number of missing laws\", len(missing_laws))\n",
    "missing_laws['possible_laws'] = missing_laws.laws_old\n",
    "missing_laws[['title', 'possible_laws','link']].to_csv(os.path.join(data_path, 'missing_laws_and_dates.csv'))\n",
    "missing_laws.head()"
   ]
  },
  {
   "cell_type": "code",
   "execution_count": 61,
   "metadata": {},
   "outputs": [
    {
     "data": {
      "text/html": [
       "<div>\n",
       "<style scoped>\n",
       "    .dataframe tbody tr th:only-of-type {\n",
       "        vertical-align: middle;\n",
       "    }\n",
       "\n",
       "    .dataframe tbody tr th {\n",
       "        vertical-align: top;\n",
       "    }\n",
       "\n",
       "    .dataframe thead th {\n",
       "        text-align: right;\n",
       "    }\n",
       "</style>\n",
       "<table border=\"1\" class=\"dataframe\">\n",
       "  <thead>\n",
       "    <tr style=\"text-align: right;\">\n",
       "      <th></th>\n",
       "      <th>Unnamed: 0</th>\n",
       "      <th>title</th>\n",
       "      <th>possible_laws</th>\n",
       "      <th>date</th>\n",
       "      <th>link</th>\n",
       "    </tr>\n",
       "  </thead>\n",
       "  <tbody>\n",
       "    <tr>\n",
       "      <th>84</th>\n",
       "      <td>84</td>\n",
       "      <td>Beeville ISD</td>\n",
       "      <td>[21.003, 21.044, 25.0811, 25.0812, 21.203, 21....</td>\n",
       "      <td>2017</td>\n",
       "      <td>https://s3.amazonaws.com/scschoolfiles/380/bis...</td>\n",
       "    </tr>\n",
       "    <tr>\n",
       "      <th>85</th>\n",
       "      <td>85</td>\n",
       "      <td>Beckville ISD</td>\n",
       "      <td>[25.092, 25.082, 25.0811, 25.0812, 25.081, 37....</td>\n",
       "      <td>2017</td>\n",
       "      <td>https://drive.google.com/file/d/1bosBi0QjvukFz...</td>\n",
       "    </tr>\n",
       "    <tr>\n",
       "      <th>86</th>\n",
       "      <td>86</td>\n",
       "      <td>Aquilla ISD</td>\n",
       "      <td>[25.0811, 25.083, 25.081, 25.082, 25.112, 25.1...</td>\n",
       "      <td>2017</td>\n",
       "      <td>https://core-docs.s3.amazonaws.com/documents/a...</td>\n",
       "    </tr>\n",
       "    <tr>\n",
       "      <th>87</th>\n",
       "      <td>87</td>\n",
       "      <td>Anthony ISD</td>\n",
       "      <td>[21.003, 25.0811]</td>\n",
       "      <td>2016</td>\n",
       "      <td>http://www.anthonyisd.net/assets/aisd-district...</td>\n",
       "    </tr>\n",
       "    <tr>\n",
       "      <th>88</th>\n",
       "      <td>88</td>\n",
       "      <td>Amarillo ISD</td>\n",
       "      <td>[25.0811, 25.0812, 25.081, 25.082]</td>\n",
       "      <td>2016</td>\n",
       "      <td>http://www.amaisd.org/UserFiles/Servers/Server...</td>\n",
       "    </tr>\n",
       "  </tbody>\n",
       "</table>\n",
       "</div>"
      ],
      "text/plain": [
       "    Unnamed: 0          title  \\\n",
       "84          84   Beeville ISD   \n",
       "85          85  Beckville ISD   \n",
       "86          86    Aquilla ISD   \n",
       "87          87    Anthony ISD   \n",
       "88          88   Amarillo ISD   \n",
       "\n",
       "                                        possible_laws  date  \\\n",
       "84  [21.003, 21.044, 25.0811, 25.0812, 21.203, 21....  2017   \n",
       "85  [25.092, 25.082, 25.0811, 25.0812, 25.081, 37....  2017   \n",
       "86  [25.0811, 25.083, 25.081, 25.082, 25.112, 25.1...  2017   \n",
       "87                                  [21.003, 25.0811]  2016   \n",
       "88                 [25.0811, 25.0812, 25.081, 25.082]  2016   \n",
       "\n",
       "                                                 link  \n",
       "84  https://s3.amazonaws.com/scschoolfiles/380/bis...  \n",
       "85  https://drive.google.com/file/d/1bosBi0QjvukFz...  \n",
       "86  https://core-docs.s3.amazonaws.com/documents/a...  \n",
       "87  http://www.anthonyisd.net/assets/aisd-district...  \n",
       "88  http://www.amaisd.org/UserFiles/Servers/Server...  "
      ]
     },
     "execution_count": 61,
     "metadata": {},
     "output_type": "execute_result"
    }
   ],
   "source": [
    "missing_laws_corrected = pd.read_csv(os.path.join(data_path, 'missing_laws_corrected.csv'))\n",
    "missing_laws_corrected.tail()"
   ]
  },
  {
   "cell_type": "markdown",
   "metadata": {},
   "source": [
    "# Update full dataset"
   ]
  },
  {
   "cell_type": "code",
   "execution_count": 62,
   "metadata": {
    "collapsed": true
   },
   "outputs": [],
   "source": [
    "missing_links_corrected = missing_links_corrected.set_index('title')\n",
    "missing_text_corrected = missing_text_corrected.set_index('title')\n",
    "missing_laws_corrected = missing_laws_corrected.set_index('title')\n",
    "docs_df = docs_df.set_index('title')\n",
    "docs_df = docs_df.sort_index()"
   ]
  },
  {
   "cell_type": "code",
   "execution_count": 63,
   "metadata": {
    "collapsed": true
   },
   "outputs": [],
   "source": [
    "docs_df.update(missing_links_corrected)\n",
    "docs_df.update(missing_text_corrected)\n",
    "docs_df.update(missing_laws_corrected)"
   ]
  },
  {
   "cell_type": "code",
   "execution_count": 64,
   "metadata": {},
   "outputs": [
    {
     "name": "stdout",
     "output_type": "stream",
     "text": [
      "Only missing 17  of  824 - unable to find plans.\n"
     ]
    }
   ],
   "source": [
    "print(\"Only missing\", len(docs_df[docs_df['possible_laws'].astype(str) == '[]']), \" of \", len(docs_df),  \"- unable to find plans.\")"
   ]
  },
  {
   "cell_type": "markdown",
   "metadata": {},
   "source": [
    "# Save"
   ]
  },
  {
   "cell_type": "code",
   "execution_count": 65,
   "metadata": {
    "collapsed": true
   },
   "outputs": [],
   "source": [
    "doi_dates_and_exemptions = docs_df.to_csv(os.path.join(data_path, 'doi_exemptions_temp.csv'))"
   ]
  },
  {
   "cell_type": "code",
   "execution_count": null,
   "metadata": {
    "collapsed": true
   },
   "outputs": [],
   "source": []
  }
 ],
 "metadata": {
  "kernelspec": {
   "display_name": "Python [conda env:spacy]",
   "language": "python",
   "name": "conda-env-spacy-py"
  },
  "language_info": {
   "codemirror_mode": {
    "name": "ipython",
    "version": 3
   },
   "file_extension": ".py",
   "mimetype": "text/x-python",
   "name": "python",
   "nbconvert_exporter": "python",
   "pygments_lexer": "ipython3",
   "version": "3.7.2"
  }
 },
 "nbformat": 4,
 "nbformat_minor": 2
}
