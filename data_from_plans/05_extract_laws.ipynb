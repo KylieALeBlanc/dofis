{
 "cells": [
  {
   "cell_type": "code",
   "execution_count": 1,
   "metadata": {
    "collapsed": true
   },
   "outputs": [],
   "source": [
    "import pandas as pd\n",
    "import os\n",
    "from start import data_path\n",
    "import extract_laws\n",
    "import re\n",
    "import spacy\n",
    "import pandas as pd\n",
    "import clean_documents"
   ]
  },
  {
   "cell_type": "code",
   "execution_count": 2,
   "metadata": {
    "collapsed": true
   },
   "outputs": [],
   "source": [
    "docs = pd.read_csv(os.path.join(data_path, 'text_narrowed.csv'))\n",
    "docs = clean_documents.remove_whitespace(docs, text_col = 'text')"
   ]
  },
  {
   "cell_type": "code",
   "execution_count": 3,
   "metadata": {},
   "outputs": [
    {
     "data": {
      "text/plain": [
       "[25.0811, 21.003, 21.053, 25.036]"
      ]
     },
     "execution_count": 3,
     "metadata": {},
     "output_type": "execute_result"
    }
   ],
   "source": [
    "extract_laws.get_laws(docs[docs['title'] == 'Coupland ISD']['text'].values[0])"
   ]
  },
  {
   "cell_type": "code",
   "execution_count": 4,
   "metadata": {},
   "outputs": [
    {
     "data": {
      "text/plain": [
       "249"
      ]
     },
     "execution_count": 4,
     "metadata": {},
     "output_type": "execute_result"
    }
   ],
   "source": [
    "len(docs[docs.text == \"Not a plan\"])"
   ]
  },
  {
   "cell_type": "code",
   "execution_count": 5,
   "metadata": {
    "scrolled": false
   },
   "outputs": [
    {
     "data": {
      "text/html": [
       "<div>\n",
       "<style scoped>\n",
       "    .dataframe tbody tr th:only-of-type {\n",
       "        vertical-align: middle;\n",
       "    }\n",
       "\n",
       "    .dataframe tbody tr th {\n",
       "        vertical-align: top;\n",
       "    }\n",
       "\n",
       "    .dataframe thead th {\n",
       "        text-align: right;\n",
       "    }\n",
       "</style>\n",
       "<table border=\"1\" class=\"dataframe\">\n",
       "  <thead>\n",
       "    <tr style=\"text-align: right;\">\n",
       "      <th></th>\n",
       "      <th>Unnamed: 0</th>\n",
       "      <th>Unnamed: 0.1</th>\n",
       "      <th>Unnamed: 0.1.1</th>\n",
       "      <th>Unnamed: 0.1.1.1</th>\n",
       "      <th>title</th>\n",
       "      <th>level</th>\n",
       "      <th>type</th>\n",
       "      <th>link</th>\n",
       "      <th>text</th>\n",
       "      <th>p_innovation</th>\n",
       "      <th>possible_laws</th>\n",
       "    </tr>\n",
       "  </thead>\n",
       "  <tbody>\n",
       "    <tr>\n",
       "      <th>0</th>\n",
       "      <td>1323</td>\n",
       "      <td>1323</td>\n",
       "      <td>1323</td>\n",
       "      <td>1451</td>\n",
       "      <td>Lake Travis ISD</td>\n",
       "      <td>Second</td>\n",
       "      <td>pdf</td>\n",
       "      <td>https://www.ltisdschools.org//cms/lib/Tx018000...</td>\n",
       "      <td>LTISD Plan of Innovation LAKE TRAVIS INDEPENDE...</td>\n",
       "      <td>0.999945</td>\n",
       "      <td>[25.0811, 11.251, 21.003, 21.352, 21.102, 21.0...</td>\n",
       "    </tr>\n",
       "    <tr>\n",
       "      <th>1</th>\n",
       "      <td>1913</td>\n",
       "      <td>1913</td>\n",
       "      <td>1913</td>\n",
       "      <td>2108</td>\n",
       "      <td>Zephyr ISD</td>\n",
       "      <td>Second</td>\n",
       "      <td>docx</td>\n",
       "      <td>http://zephyrisd.net/wp-content/uploads/2014/0...</td>\n",
       "      <td>Zephyr ISD District of Innovation Plan Introdu...</td>\n",
       "      <td>0.999955</td>\n",
       "      <td>[25.036, 21.003, 21.102, 25.0811]</td>\n",
       "    </tr>\n",
       "    <tr>\n",
       "      <th>2</th>\n",
       "      <td>1895</td>\n",
       "      <td>1895</td>\n",
       "      <td>1895</td>\n",
       "      <td>2089</td>\n",
       "      <td>Zavalla ISD</td>\n",
       "      <td>Second</td>\n",
       "      <td>pdf</td>\n",
       "      <td>https://s3.amazonaws.com/scschoolfiles/1772/za...</td>\n",
       "      <td>Zavalla ISD District of Innovation Plan (HB 18...</td>\n",
       "      <td>0.999955</td>\n",
       "      <td>[25.0811, 25.092, 21.352, 21.401, 21.003, 21.0...</td>\n",
       "    </tr>\n",
       "    <tr>\n",
       "      <th>3</th>\n",
       "      <td>577</td>\n",
       "      <td>577</td>\n",
       "      <td>577</td>\n",
       "      <td>596</td>\n",
       "      <td>Zapata County ISD</td>\n",
       "      <td>Second</td>\n",
       "      <td>pdf</td>\n",
       "      <td>https://1.cdn.edl.io/VZ6fi1M6pn8Qk8tS3GetGewCD...</td>\n",
       "      <td>Not a plan</td>\n",
       "      <td>0.249567</td>\n",
       "      <td>[]</td>\n",
       "    </tr>\n",
       "    <tr>\n",
       "      <th>4</th>\n",
       "      <td>1784</td>\n",
       "      <td>1784</td>\n",
       "      <td>1784</td>\n",
       "      <td>1967</td>\n",
       "      <td>Yorktown ISD</td>\n",
       "      <td>Second</td>\n",
       "      <td>pdf</td>\n",
       "      <td>http://www.yisd.org/userfiles/57/my%20files/fi...</td>\n",
       "      <td>Yorktown Independent School District Final Dis...</td>\n",
       "      <td>0.999955</td>\n",
       "      <td>[25.082, 25.081, 21.053, 21.003, 21.102, 25.08...</td>\n",
       "    </tr>\n",
       "  </tbody>\n",
       "</table>\n",
       "</div>"
      ],
      "text/plain": [
       "   Unnamed: 0  Unnamed: 0.1  Unnamed: 0.1.1  Unnamed: 0.1.1.1  \\\n",
       "0        1323          1323            1323              1451   \n",
       "1        1913          1913            1913              2108   \n",
       "2        1895          1895            1895              2089   \n",
       "3         577           577             577               596   \n",
       "4        1784          1784            1784              1967   \n",
       "\n",
       "               title   level  type  \\\n",
       "0    Lake Travis ISD  Second   pdf   \n",
       "1         Zephyr ISD  Second  docx   \n",
       "2        Zavalla ISD  Second   pdf   \n",
       "3  Zapata County ISD  Second   pdf   \n",
       "4       Yorktown ISD  Second   pdf   \n",
       "\n",
       "                                                link  \\\n",
       "0  https://www.ltisdschools.org//cms/lib/Tx018000...   \n",
       "1  http://zephyrisd.net/wp-content/uploads/2014/0...   \n",
       "2  https://s3.amazonaws.com/scschoolfiles/1772/za...   \n",
       "3  https://1.cdn.edl.io/VZ6fi1M6pn8Qk8tS3GetGewCD...   \n",
       "4  http://www.yisd.org/userfiles/57/my%20files/fi...   \n",
       "\n",
       "                                                text  p_innovation  \\\n",
       "0  LTISD Plan of Innovation LAKE TRAVIS INDEPENDE...      0.999945   \n",
       "1  Zephyr ISD District of Innovation Plan Introdu...      0.999955   \n",
       "2  Zavalla ISD District of Innovation Plan (HB 18...      0.999955   \n",
       "3                                         Not a plan      0.249567   \n",
       "4  Yorktown Independent School District Final Dis...      0.999955   \n",
       "\n",
       "                                       possible_laws  \n",
       "0  [25.0811, 11.251, 21.003, 21.352, 21.102, 21.0...  \n",
       "1                  [25.036, 21.003, 21.102, 25.0811]  \n",
       "2  [25.0811, 25.092, 21.352, 21.401, 21.003, 21.0...  \n",
       "3                                                 []  \n",
       "4  [25.082, 25.081, 21.053, 21.003, 21.102, 25.08...  "
      ]
     },
     "execution_count": 5,
     "metadata": {},
     "output_type": "execute_result"
    }
   ],
   "source": [
    "docs['possible_laws'] = docs.text.apply(extract_laws.get_laws)\n",
    "docs.head()"
   ]
  },
  {
   "cell_type": "code",
   "execution_count": 6,
   "metadata": {},
   "outputs": [
    {
     "data": {
      "text/plain": [
       "757    BLUM Independent School District District of Innovation Plan June 2017-May 2022 1 A District of Innovation is a concept passed by the 84th Legislative Session in House Bill 1842 that allows school districts greater local control and flexibility regarding certain state-level regulations in an effort to utilize the designation to better serve students. The proposed plan, once adopted, will remain in effect for the next five years (June 2017-May 2022). The plan may be amended at any time by the District of Innovation Committee with the approval of the school board. District of Innovation Committee Jeff Sanders Administration Kim Moore Middle School Traci Bellomy Administration Cooper Thornhill High School Mark Brandenberger Administration Leah Davis High School Jody Fergason Administration LaDonna Jean High School Tiffany Quinn Elementary Samantha Maxwell Parent Jennifer Williams Elementary LaDonna Poteet Parent Chantelle Hurt Middle School Elsa Scott Community Timeline Task Feb. 27, 2017 Board of Trustees to pass a resolution to begin District of Innovation Plan March 6, 2017 Board of Trustees to hold a public hearing on the District of Innovation March 6, 2017 Board of Trustees to approve the DOI committee March 23, 2017 Initial planning meeting of the DOI committee April 10, 2017 2nd Planning meeting of the DOI committee April 12, 2017 DOI Plan voted on by the DOI committee April 13, 2017 DOI plan posted to Blum ISD website for 30 days April 13, 2017 DOI Plan submitted to the Commissioner of Education May 15, 2017 BISD Trustees vote on the DOI Plan May 16, 2017 Update all policy changes with TASB Statutes under consideration at this time include: 2 Blum ISD District of Innovation Plan SCHOOL START DATE (EB LEGAL) (Ed. Code 25.0811(a)) FIRST DAY OF INSTRUCTION (a) Except as provided by this section, a school district may not begin instruction for students for a school year before the fourth Monday in August. Proposed Blum ISD, who does not qualify for any of the exceptions noted in the statute, would like to have the freedom to develop a calendar that better fits the needs of the community should the committee choose. Having greater flexibility in this area would allow the District Committee to better balance the first and second semesters and provide more instructional days prior to state testing. SCHOOL DAY INTERRUPTIONS (EC Local) (Ed. Code 25.083(a)) SCHOOL DAY INTERRUPTIONS. (a) The board of trustees of each school district shall adopt and strictly enforce a policy limiting interruptions of classes during the school day for nonacademic activities (such as announcements) to once during the school day except in the case of an Emergency. Proposed Blum ISD would like to have the freedom to make announcements as needed during picture days and other days that are not routine for greater efficiency. LENGTH OF INSTRUCTIONAL DAY (Ed. Code 25.081, 25.082(a)) LENGTH OF INSTRUCTIONAL DAY. Sec. 25.081. OPERATION OF SCHOOLS. (a) Except as authorized under Subsection (b) of this section, Section 25.084, or Section 29.0821, for each school year each school district must operate so that the district provides for at least 75,600 minutes of instruction, including intermissions and recesses, for students. (b)The commissioner may approve the instruction of students for fewer than the number of minutes required under Subsection (a) if disaster, flood, extreme weather conditions, fuel curtailment, or another calamity causes the closing of schools. (c)If the commissioner does not approve reduced instruction time under Subsection (b), a school district may add additional minutes to the end of the district’s normal school hours as necessary to compensate for minutes of instruction lost due to school closures caused by disaster, flood, extreme weather conditions, fuel curtailment, or another calamity. 3 (d)The commissioner may adopt rules for the application, on the basis of the minimum minutes of instruction required by Subsection(a), of any provision of this title that refers to a minimum number of days of instruction under this section. (e)For purposes of this code, a reference to a day of instruction means 420 minutes of instruction, SCHOOL DAY; PLEDGES OF ALLEGIANCE; MINUTE OF SILENCE. Sec. 25.082. (a) A school day shall be at least seven hours each day, including intermissions and recesses. Proposed Exemption from the 420-minute day requirement would allow Blum ISD the flexibility needed to alter the school day schedule on selected days whenever it was locally determined as necessary or beneficial to the district and its stakeholders. While there is a waiver process available to request exemption from this requirement, the waiver is limited to a 6-day maximum number for the school year. Exempting completely from the 420-minute requirement would give the district a significant amount of local control over scheduling (above and beyond the 6-day maximum as needed) without the fear of diminishing state funding or losing credit for instructional time that might cause the district to fall out of compliance with annual minute requirements. This would allow the district the flexibility to schedule non-instructional days into the schedule to allow for teachers to analyze student data and engage in targeted, relevant professional development. Blum ISD does not have any intentions to shorten the school day on a regular basis or without specific purpose. To the greatest extent possible, “early release” days would be planned ahead of time and noted in the district calendar, which is approved by the Board of Trustees and published and distributed to stakeholders in advance of the school year and continuously published using school media. 90 PERCENT ATTENDANCE RULE (TEC 25.092) MINIMUM ATTENDANCE FOR CLASS CREDIT OR FINAL GRADE. (a) Except as provided by this section, a student in any grade level from kindergarten through grade 12 may not be given credit or a final grade for a class unless the student is in attendance for at least 90 percent of the days the class is offered. (a-1) A student who is in attendance for at least 75 percent but less than 90 percent of the days a class is offered may be given credit or a final grade for the class if the student completes a plan approved by the school's principal that provides for the student to meet the instructional requirements of the class. A student under the jurisdiction of a court in a criminal or juvenile justice proceeding may not receive credit or a final grade under this subsection without the consent of the judge presiding over the student's case. Proposed The 90 percent rule is an arbitrary percentage. District should have the option to set their own requirement. Local districts need the flexibility to set attendance requirements which reflect their specific situations and expectations. 4 Abstaining from the requirement means the district won’t have to penalize students who miss class due to extra/co-curricular activities, academic activities, or other extenuating circumstances. The flexibility can allow for local boards to set higher expectations for attendance while promoting students engagement, as well as social and emotional development by encouraging more students to participate in extracurricular activities. It must be noted, relief from Section 25.092 does not in any way impact or alter existing compulsory attendance requirements or University Interscholastic League (UIL) rules. Opting out of Section 25.092 in no way limits or modifies a teacher’s right to determine the finality of a grade in accordance with Texas Education Code Section 28.0214, nor does it restrict or alter a teacher’s right to assign grades in accordance with Texas Education Code Section 28.0216. ABSENCES FOR COLLEGE VISITS (Ed. Code 25.087 (b-2)) EXCUSED ABSENCES. (b-2) A school district may excuse a student from attending school to visit an institution of higher education accredited by a generally recognized accrediting organization during the student’s junior and senior years of high school for the purpose of determining the student’s interest in attending the institution of higher education, provided that: (1)the district may not excuse for this purpose more than two days during the student’s junior year and two days during the student’s senior year; and (2)The district adopts: (A) a policy to determine when an absence will be excused for this purpose; and (B) a procedure to verify the student’s visit at the institution of higher education Proposed Currently students are only allowed to have two excused school days to visit college or universities as college days. In some cases, where students are visiting colleges out of state, students need more than the two days that are currently allowed to safely visit a college they are interested in attending or doing comparative visits to multiple colleges. Blum ISD will be exempt from the two-day excused absence limit for students visiting institutions of higher education. Students would be allowed more than the current two-day excused absence limit. Each situation would be evaluated by the counselor on a case by case basis. LOCAL ROLE IN TEACHER AND PRINCIPAL EVALUATION (DNA LEGAL) (Texas Education Code 21.352, 21.353, 21.354, 21.3541) TEC §21.352 In appraising teachers, each school district shall use the appraisal process and performance criteria developed by the commissioner or an appraisal process and performance criteria developed by the district- and campus-level committees established under Section 11.251, containing the items described by Sections 21.351(a)(1) and (2), and adopted by the board of trustees. The board of trustees may reject an appraisal process and performance criteria developed by the district- and campus-level committees but may not modify the process or criteria. Except as otherwise provided by this subsection, appraisal must be done at least once during each school year. A teacher may be appraised less frequently if the teacher agre...\n",
       "Name: text, dtype: object"
      ]
     },
     "execution_count": 6,
     "metadata": {},
     "output_type": "execute_result"
    }
   ],
   "source": [
    "docs.to_csv(os.path.join(data_path, 'doi_exemptions_scraped.csv'))\n",
    "pd.options.display.max_colwidth = 10000\n",
    "docs[docs.title == \"Blum ISD\"].text"
   ]
  },
  {
   "cell_type": "markdown",
   "metadata": {},
   "source": [
    "## Validate laws"
   ]
  },
  {
   "cell_type": "code",
   "execution_count": 7,
   "metadata": {
    "collapsed": true
   },
   "outputs": [],
   "source": [
    "test = docs[docs.p_innovation > .9].sample(30, random_state = 117)\n",
    "test['missing_laws'] = ''\n",
    "test['incorrect_laws'] = ''\n",
    "test[['title', 'link', 'possible_laws', 'incorrect_laws']].to_csv((os.path.join(data_path, 'sample_laws.csv')))"
   ]
  },
  {
   "cell_type": "code",
   "execution_count": 8,
   "metadata": {
    "collapsed": true
   },
   "outputs": [],
   "source": [
    "results = pd.read_csv(os.path.join(data_path, 'sample_laws_filledin.csv'))"
   ]
  },
  {
   "cell_type": "code",
   "execution_count": 9,
   "metadata": {},
   "outputs": [
    {
     "data": {
      "text/html": [
       "<div>\n",
       "<style scoped>\n",
       "    .dataframe tbody tr th:only-of-type {\n",
       "        vertical-align: middle;\n",
       "    }\n",
       "\n",
       "    .dataframe tbody tr th {\n",
       "        vertical-align: top;\n",
       "    }\n",
       "\n",
       "    .dataframe thead th {\n",
       "        text-align: right;\n",
       "    }\n",
       "</style>\n",
       "<table border=\"1\" class=\"dataframe\">\n",
       "  <thead>\n",
       "    <tr style=\"text-align: right;\">\n",
       "      <th></th>\n",
       "      <th>Unnamed: 0</th>\n",
       "      <th>title</th>\n",
       "      <th>link</th>\n",
       "      <th>possible_laws</th>\n",
       "      <th>incorrect_laws</th>\n",
       "      <th>gold_standard</th>\n",
       "    </tr>\n",
       "  </thead>\n",
       "  <tbody>\n",
       "    <tr>\n",
       "      <th>0</th>\n",
       "      <td>552</td>\n",
       "      <td>Evant ISD</td>\n",
       "      <td>https://s3.amazonaws.com/scschoolfiles/1553/evant_district_of_innovation_plan-6-5-18b.pdf</td>\n",
       "      <td>[21.401, 25.081, 25.081, 21.003, 25.0811, 21.003]</td>\n",
       "      <td>0.0</td>\n",
       "      <td>[21.401, 25.081, 25.081, 21.003, 25.0811, 21.003]</td>\n",
       "    </tr>\n",
       "    <tr>\n",
       "      <th>1</th>\n",
       "      <td>687</td>\n",
       "      <td>Buna ISD</td>\n",
       "      <td>https://s3.amazonaws.com/scschoolfiles/130/buna_isd_doi_plan__04102017.pdf</td>\n",
       "      <td>[25.0811, 21.003, 21.057, 25.0812, 21.053, 25.113, 21.057, 21.458, 21.055, 25.113, 21.458, 21.055, 21.451, 21.053, 21.003, 25.0811, 25.112, 21.451, 25.112, 25.113, 25.0812]</td>\n",
       "      <td>1.0</td>\n",
       "      <td>[25.0811, 25.0812, 25.112, 21.003, 21.053, 21.055, 21.057, 21.102, 21.451, 21.458]</td>\n",
       "    </tr>\n",
       "    <tr>\n",
       "      <th>2</th>\n",
       "      <td>759</td>\n",
       "      <td>Anson ISD</td>\n",
       "      <td>http://www.ansontigers.com/users/2016-17/District%20of%20Innovation,%202017.pdf</td>\n",
       "      <td>[25.092, 21.003, 21.102, 25.081, 21.458, 21.003, 11.253, 28.0214, 21.404, 21.458, 21.404, 25.081, 25.0811, 21.057, 21.057, 28.0216, 25.092, 21.102, 21.003, 25.092, 11.253]</td>\n",
       "      <td>2.0</td>\n",
       "      <td>NaN</td>\n",
       "    </tr>\n",
       "    <tr>\n",
       "      <th>3</th>\n",
       "      <td>31</td>\n",
       "      <td>White Deer ISD</td>\n",
       "      <td>http://s3.amazonaws.com/scschoolfiles/1380/white_deer_isd_plan_of_innovation.pdf</td>\n",
       "      <td>[21.057, 25.0811, 21.003, 28.004, 25.0811, 21.003, 25.036, 21.053, 25.001, 37.008, 25.036, 28.004, 21.401, 28.004, 25.082, 25.0811, 37.008, 25.036, 25.082]</td>\n",
       "      <td>0.0</td>\n",
       "      <td>[25.0811, 21.003, 21.053, 21.057, 21.401, 25.082, 37.008, 25.036]\\n</td>\n",
       "    </tr>\n",
       "    <tr>\n",
       "      <th>4</th>\n",
       "      <td>692</td>\n",
       "      <td>Bryan ISD</td>\n",
       "      <td>https://1.cdn.edl.io/3fzDFgsiJY1q2kNSwlpWOc5xqOFR6E9ke5pjwMiuzMyJnpsf.pdf</td>\n",
       "      <td>[25.0811, 25.113, 25.092, 21.057, 28.0216, 25.112, 25.113, 25.112, 25.092, 25.092, 25.0811, 25.111, 25.111, 28.214]</td>\n",
       "      <td>2.0</td>\n",
       "      <td>[25.0811, 21.003, 25.092, 25.111, 25.112, 25.113]</td>\n",
       "    </tr>\n",
       "  </tbody>\n",
       "</table>\n",
       "</div>"
      ],
      "text/plain": [
       "   Unnamed: 0           title  \\\n",
       "0         552       Evant ISD   \n",
       "1         687        Buna ISD   \n",
       "2         759       Anson ISD   \n",
       "3          31  White Deer ISD   \n",
       "4         692       Bryan ISD   \n",
       "\n",
       "                                                                                        link  \\\n",
       "0  https://s3.amazonaws.com/scschoolfiles/1553/evant_district_of_innovation_plan-6-5-18b.pdf   \n",
       "1                 https://s3.amazonaws.com/scschoolfiles/130/buna_isd_doi_plan__04102017.pdf   \n",
       "2            http://www.ansontigers.com/users/2016-17/District%20of%20Innovation,%202017.pdf   \n",
       "3           http://s3.amazonaws.com/scschoolfiles/1380/white_deer_isd_plan_of_innovation.pdf   \n",
       "4                  https://1.cdn.edl.io/3fzDFgsiJY1q2kNSwlpWOc5xqOFR6E9ke5pjwMiuzMyJnpsf.pdf   \n",
       "\n",
       "                                                                                                                                                                  possible_laws  \\\n",
       "0                                                                                                                             [21.401, 25.081, 25.081, 21.003, 25.0811, 21.003]   \n",
       "1  [25.0811, 21.003, 21.057, 25.0812, 21.053, 25.113, 21.057, 21.458, 21.055, 25.113, 21.458, 21.055, 21.451, 21.053, 21.003, 25.0811, 25.112, 21.451, 25.112, 25.113, 25.0812]   \n",
       "2   [25.092, 21.003, 21.102, 25.081, 21.458, 21.003, 11.253, 28.0214, 21.404, 21.458, 21.404, 25.081, 25.0811, 21.057, 21.057, 28.0216, 25.092, 21.102, 21.003, 25.092, 11.253]   \n",
       "3                   [21.057, 25.0811, 21.003, 28.004, 25.0811, 21.003, 25.036, 21.053, 25.001, 37.008, 25.036, 28.004, 21.401, 28.004, 25.082, 25.0811, 37.008, 25.036, 25.082]   \n",
       "4                                                           [25.0811, 25.113, 25.092, 21.057, 28.0216, 25.112, 25.113, 25.112, 25.092, 25.092, 25.0811, 25.111, 25.111, 28.214]   \n",
       "\n",
       "   incorrect_laws  \\\n",
       "0             0.0   \n",
       "1             1.0   \n",
       "2             2.0   \n",
       "3             0.0   \n",
       "4             2.0   \n",
       "\n",
       "                                                                        gold_standard  \n",
       "0                                   [21.401, 25.081, 25.081, 21.003, 25.0811, 21.003]  \n",
       "1  [25.0811, 25.0812, 25.112, 21.003, 21.053, 21.055, 21.057, 21.102, 21.451, 21.458]  \n",
       "2                                                                                 NaN  \n",
       "3                 [25.0811, 21.003, 21.053, 21.057, 21.401, 25.082, 37.008, 25.036]\\n  \n",
       "4                                   [25.0811, 21.003, 25.092, 25.111, 25.112, 25.113]  "
      ]
     },
     "execution_count": 9,
     "metadata": {},
     "output_type": "execute_result"
    }
   ],
   "source": [
    "results.head()"
   ]
  },
  {
   "cell_type": "code",
   "execution_count": null,
   "metadata": {
    "collapsed": true
   },
   "outputs": [],
   "source": []
  }
 ],
 "metadata": {
  "kernelspec": {
   "display_name": "Python 3",
   "language": "python",
   "name": "python3"
  },
  "language_info": {
   "codemirror_mode": {
    "name": "ipython",
    "version": 3
   },
   "file_extension": ".py",
   "mimetype": "text/x-python",
   "name": "python",
   "nbconvert_exporter": "python",
   "pygments_lexer": "ipython3",
   "version": "3.7.3"
  }
 },
 "nbformat": 4,
 "nbformat_minor": 2
}
