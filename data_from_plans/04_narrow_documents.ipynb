{
 "cells": [
  {
   "cell_type": "markdown",
   "metadata": {},
   "source": [
    "# Apply document classifier"
   ]
  },
  {
   "cell_type": "markdown",
   "metadata": {},
   "source": [
    "This script applies the trained classifier to scraped documents and narrows to mostly likely doi document for each district."
   ]
  },
  {
   "cell_type": "code",
   "execution_count": 4,
   "metadata": {},
   "outputs": [
    {
     "name": "stderr",
     "output_type": "stream",
     "text": [
      "/Users/kylieleblancKylie/anaconda/envs/spacy/lib/python3.7/importlib/_bootstrap.py:219: RuntimeWarning: numpy.dtype size changed, may indicate binary incompatibility. Expected 96, got 88\n",
      "  return f(*args, **kwds)\n",
      "/Users/kylieleblancKylie/anaconda/envs/spacy/lib/python3.7/importlib/_bootstrap.py:219: RuntimeWarning: numpy.ufunc size changed, may indicate binary incompatibility. Expected 192, got 176\n",
      "  return f(*args, **kwds)\n",
      "/Users/kylieleblancKylie/anaconda/envs/spacy/lib/python3.7/importlib/_bootstrap.py:219: RuntimeWarning: numpy.dtype size changed, may indicate binary incompatibility. Expected 96, got 88\n",
      "  return f(*args, **kwds)\n",
      "/Users/kylieleblancKylie/anaconda/envs/spacy/lib/python3.7/importlib/_bootstrap.py:219: RuntimeWarning: numpy.ufunc size changed, may indicate binary incompatibility. Expected 192, got 176\n",
      "  return f(*args, **kwds)\n"
     ]
    }
   ],
   "source": [
    "import pandas as pd\n",
    "import os\n",
    "import spacy\n",
    "from spacy.util import minibatch, compounding\n",
    "from start import data_path\n",
    "import numpy as np"
   ]
  },
  {
   "cell_type": "markdown",
   "metadata": {},
   "source": [
    "## Import texts"
   ]
  },
  {
   "cell_type": "code",
   "execution_count": 31,
   "metadata": {},
   "outputs": [
    {
     "data": {
      "text/plain": [
       "0    0 ABILENE INDEPENDENT SCHOOL DISTRICT Local In...\n",
       "1    Carlisle Independent School District District ...\n",
       "2    Lockney ISD District of Innovation Plan House ...\n",
       "3    Adopted AISD Local Innovation Plan 02-16-17 co...\n",
       "4    March 2017 through March 2022 Paris ISD Distri...\n",
       "Name: text, dtype: object"
      ]
     },
     "execution_count": 31,
     "metadata": {},
     "output_type": "execute_result"
    }
   ],
   "source": [
    "texts_scraped = pd.read_csv(os.path.join(data_path, 'text_scraped.csv'))\n",
    "texts = texts_scraped['text']\n",
    "texts.head()"
   ]
  },
  {
   "cell_type": "markdown",
   "metadata": {},
   "source": [
    "## Import and apply model"
   ]
  },
  {
   "cell_type": "code",
   "execution_count": 32,
   "metadata": {
    "scrolled": true
   },
   "outputs": [
    {
     "name": "stdout",
     "output_type": "stream",
     "text": [
      "Loading from /Users/kylieleblancKylie/domino/dofis/src/data_from_plans/../../data/plans/document_classifier_n300\n"
     ]
    }
   ],
   "source": [
    "# Load model\n",
    "model_dir = os.path.join(os.getcwd(),  '..', '..', 'data', 'plans', 'document_classifier_n300')\n",
    "# apply the saved model\n",
    "print(\"Loading from\", model_dir)\n",
    "nlp = spacy.load(model_dir)\n",
    "categories = []\n",
    "for text in texts:\n",
    "    doc = nlp(text)\n",
    "    categories.append(doc.cats)"
   ]
  },
  {
   "cell_type": "code",
   "execution_count": 33,
   "metadata": {
    "collapsed": true
   },
   "outputs": [],
   "source": [
    "p_innovation = [x['INNOVATION'] for x in categories]"
   ]
  },
  {
   "cell_type": "code",
   "execution_count": 34,
   "metadata": {},
   "outputs": [
    {
     "data": {
      "text/html": [
       "<div>\n",
       "<style scoped>\n",
       "    .dataframe tbody tr th:only-of-type {\n",
       "        vertical-align: middle;\n",
       "    }\n",
       "\n",
       "    .dataframe tbody tr th {\n",
       "        vertical-align: top;\n",
       "    }\n",
       "\n",
       "    .dataframe thead th {\n",
       "        text-align: right;\n",
       "    }\n",
       "</style>\n",
       "<table border=\"1\" class=\"dataframe\">\n",
       "  <thead>\n",
       "    <tr style=\"text-align: right;\">\n",
       "      <th></th>\n",
       "      <th>Unnamed: 0</th>\n",
       "      <th>Unnamed: 0.1</th>\n",
       "      <th>title</th>\n",
       "      <th>level</th>\n",
       "      <th>type</th>\n",
       "      <th>link</th>\n",
       "      <th>text</th>\n",
       "      <th>p_innovation</th>\n",
       "    </tr>\n",
       "  </thead>\n",
       "  <tbody>\n",
       "    <tr>\n",
       "      <th>3990</th>\n",
       "      <td>3990</td>\n",
       "      <td>396</td>\n",
       "      <td>Petersburg ISD</td>\n",
       "      <td>html</td>\n",
       "      <td>html</td>\n",
       "      <td>http://www.petersburgisd.net/DOI</td>\n",
       "      <td>District of Innovation - Petersburg ISD PISD S...</td>\n",
       "      <td>0.002487</td>\n",
       "    </tr>\n",
       "    <tr>\n",
       "      <th>3991</th>\n",
       "      <td>3991</td>\n",
       "      <td>397</td>\n",
       "      <td>Three Way ISD</td>\n",
       "      <td>html</td>\n",
       "      <td>html</td>\n",
       "      <td>https://www.twisd.us/144516_2</td>\n",
       "      <td>Three Way Independent School District - Three ...</td>\n",
       "      <td>0.012157</td>\n",
       "    </tr>\n",
       "    <tr>\n",
       "      <th>3992</th>\n",
       "      <td>3992</td>\n",
       "      <td>398</td>\n",
       "      <td>Sinton ISD</td>\n",
       "      <td>html</td>\n",
       "      <td>html</td>\n",
       "      <td>http://www.sintonisd.net/wp/index.php/district...</td>\n",
       "      <td>District of Innovation (DOI) Latest: Teacher o...</td>\n",
       "      <td>0.000078</td>\n",
       "    </tr>\n",
       "    <tr>\n",
       "      <th>3993</th>\n",
       "      <td>3993</td>\n",
       "      <td>399</td>\n",
       "      <td>Athens ISD</td>\n",
       "      <td>html</td>\n",
       "      <td>html</td>\n",
       "      <td>http://athensisd.net/cms/One.aspx?portalId=841...</td>\n",
       "      <td>District of Innovation Plan - Athens Independe...</td>\n",
       "      <td>0.000045</td>\n",
       "    </tr>\n",
       "    <tr>\n",
       "      <th>3994</th>\n",
       "      <td>3994</td>\n",
       "      <td>400</td>\n",
       "      <td>Spring ISD</td>\n",
       "      <td>html</td>\n",
       "      <td>html</td>\n",
       "      <td>http://www.springisd.org/doi</td>\n",
       "      <td>District of Innovation / Homepage Skip to Main...</td>\n",
       "      <td>0.000269</td>\n",
       "    </tr>\n",
       "  </tbody>\n",
       "</table>\n",
       "</div>"
      ],
      "text/plain": [
       "      Unnamed: 0  Unnamed: 0.1           title level  type  \\\n",
       "3990        3990           396  Petersburg ISD  html  html   \n",
       "3991        3991           397   Three Way ISD  html  html   \n",
       "3992        3992           398      Sinton ISD  html  html   \n",
       "3993        3993           399      Athens ISD  html  html   \n",
       "3994        3994           400      Spring ISD  html  html   \n",
       "\n",
       "                                                   link  \\\n",
       "3990                   http://www.petersburgisd.net/DOI   \n",
       "3991                      https://www.twisd.us/144516_2   \n",
       "3992  http://www.sintonisd.net/wp/index.php/district...   \n",
       "3993  http://athensisd.net/cms/One.aspx?portalId=841...   \n",
       "3994                       http://www.springisd.org/doi   \n",
       "\n",
       "                                                   text  p_innovation  \n",
       "3990  District of Innovation - Petersburg ISD PISD S...      0.002487  \n",
       "3991  Three Way Independent School District - Three ...      0.012157  \n",
       "3992  District of Innovation (DOI) Latest: Teacher o...      0.000078  \n",
       "3993  District of Innovation Plan - Athens Independe...      0.000045  \n",
       "3994  District of Innovation / Homepage Skip to Main...      0.000269  "
      ]
     },
     "execution_count": 34,
     "metadata": {},
     "output_type": "execute_result"
    }
   ],
   "source": [
    "texts_scraped_p = texts_scraped\n",
    "texts_scraped_p['p_innovation'] = p_innovation\n",
    "texts_scraped_p.tail()"
   ]
  },
  {
   "cell_type": "code",
   "execution_count": 35,
   "metadata": {},
   "outputs": [
    {
     "data": {
      "text/html": [
       "<div>\n",
       "<style scoped>\n",
       "    .dataframe tbody tr th:only-of-type {\n",
       "        vertical-align: middle;\n",
       "    }\n",
       "\n",
       "    .dataframe tbody tr th {\n",
       "        vertical-align: top;\n",
       "    }\n",
       "\n",
       "    .dataframe thead th {\n",
       "        text-align: right;\n",
       "    }\n",
       "</style>\n",
       "<table border=\"1\" class=\"dataframe\">\n",
       "  <thead>\n",
       "    <tr style=\"text-align: right;\">\n",
       "      <th></th>\n",
       "      <th>Unnamed: 0</th>\n",
       "      <th>Unnamed: 0.1</th>\n",
       "      <th>title</th>\n",
       "      <th>level</th>\n",
       "      <th>type</th>\n",
       "      <th>link</th>\n",
       "      <th>text</th>\n",
       "      <th>p_innovation</th>\n",
       "    </tr>\n",
       "  </thead>\n",
       "  <tbody>\n",
       "    <tr>\n",
       "      <th>0</th>\n",
       "      <td>0</td>\n",
       "      <td>0</td>\n",
       "      <td>Abilene ISD</td>\n",
       "      <td>First</td>\n",
       "      <td>pdf</td>\n",
       "      <td>https://www.abileneisd.org/wp-content/uploads/...</td>\n",
       "      <td>0 ABILENE INDEPENDENT SCHOOL DISTRICT Local In...</td>\n",
       "      <td>0.999955</td>\n",
       "    </tr>\n",
       "    <tr>\n",
       "      <th>1</th>\n",
       "      <td>1</td>\n",
       "      <td>1</td>\n",
       "      <td>Carlisle ISD</td>\n",
       "      <td>First</td>\n",
       "      <td>pdf</td>\n",
       "      <td>https://s3.amazonaws.com/scschoolfiles/83/carl...</td>\n",
       "      <td>Carlisle Independent School District District ...</td>\n",
       "      <td>0.999955</td>\n",
       "    </tr>\n",
       "    <tr>\n",
       "      <th>2</th>\n",
       "      <td>2</td>\n",
       "      <td>2</td>\n",
       "      <td>Lockney ISD</td>\n",
       "      <td>First</td>\n",
       "      <td>pdf</td>\n",
       "      <td>https://s3.amazonaws.com/scschoolfiles/777/doi...</td>\n",
       "      <td>Lockney ISD District of Innovation Plan House ...</td>\n",
       "      <td>0.999753</td>\n",
       "    </tr>\n",
       "    <tr>\n",
       "      <th>3</th>\n",
       "      <td>3</td>\n",
       "      <td>3</td>\n",
       "      <td>Arlington ISD</td>\n",
       "      <td>First</td>\n",
       "      <td>pdf</td>\n",
       "      <td>http://w4.aisd.net/pdf/District-of-Innovation-...</td>\n",
       "      <td>Adopted AISD Local Innovation Plan 02-16-17 co...</td>\n",
       "      <td>0.999955</td>\n",
       "    </tr>\n",
       "    <tr>\n",
       "      <th>4</th>\n",
       "      <td>4</td>\n",
       "      <td>4</td>\n",
       "      <td>Paris ISD</td>\n",
       "      <td>First</td>\n",
       "      <td>pdf</td>\n",
       "      <td>https://s3.amazonaws.com/scschoolfiles/167/doi...</td>\n",
       "      <td>March 2017 through March 2022 Paris ISD Distri...</td>\n",
       "      <td>0.999955</td>\n",
       "    </tr>\n",
       "  </tbody>\n",
       "</table>\n",
       "</div>"
      ],
      "text/plain": [
       "   Unnamed: 0  Unnamed: 0.1          title  level type  \\\n",
       "0           0             0    Abilene ISD  First  pdf   \n",
       "1           1             1   Carlisle ISD  First  pdf   \n",
       "2           2             2    Lockney ISD  First  pdf   \n",
       "3           3             3  Arlington ISD  First  pdf   \n",
       "4           4             4      Paris ISD  First  pdf   \n",
       "\n",
       "                                                link  \\\n",
       "0  https://www.abileneisd.org/wp-content/uploads/...   \n",
       "1  https://s3.amazonaws.com/scschoolfiles/83/carl...   \n",
       "2  https://s3.amazonaws.com/scschoolfiles/777/doi...   \n",
       "3  http://w4.aisd.net/pdf/District-of-Innovation-...   \n",
       "4  https://s3.amazonaws.com/scschoolfiles/167/doi...   \n",
       "\n",
       "                                                text  p_innovation  \n",
       "0  0 ABILENE INDEPENDENT SCHOOL DISTRICT Local In...      0.999955  \n",
       "1  Carlisle Independent School District District ...      0.999955  \n",
       "2  Lockney ISD District of Innovation Plan House ...      0.999753  \n",
       "3  Adopted AISD Local Innovation Plan 02-16-17 co...      0.999955  \n",
       "4  March 2017 through March 2022 Paris ISD Distri...      0.999955  "
      ]
     },
     "execution_count": 35,
     "metadata": {},
     "output_type": "execute_result"
    }
   ],
   "source": [
    "texts_scraped_p.head()"
   ]
  },
  {
   "cell_type": "code",
   "execution_count": 36,
   "metadata": {
    "collapsed": true
   },
   "outputs": [],
   "source": [
    "texts_scraped_p.to_csv(os.path.join(data_path, 'text_scraped_p.csv'))"
   ]
  },
  {
   "cell_type": "markdown",
   "metadata": {},
   "source": [
    "## Descriptive statistics"
   ]
  },
  {
   "cell_type": "code",
   "execution_count": 6,
   "metadata": {},
   "outputs": [],
   "source": [
    "texts_scraped_p = pd.read_csv(os.path.join(data_path, 'text_scraped_p.csv'))"
   ]
  },
  {
   "cell_type": "code",
   "execution_count": 7,
   "metadata": {},
   "outputs": [
    {
     "name": "stdout",
     "output_type": "stream",
     "text": [
      "Predicted probability of DOI plan for first level documents:\n"
     ]
    },
    {
     "data": {
      "text/plain": [
       "p_innovation    0.633631\n",
       "dtype: float64"
      ]
     },
     "execution_count": 7,
     "metadata": {},
     "output_type": "execute_result"
    }
   ],
   "source": [
    "print(\"Predicted probability of DOI plan for first level documents:\")\n",
    "texts_scraped_p[['p_innovation']][texts_scraped_p.level == 'First'].mean()"
   ]
  },
  {
   "cell_type": "code",
   "execution_count": 8,
   "metadata": {
    "scrolled": true
   },
   "outputs": [
    {
     "name": "stdout",
     "output_type": "stream",
     "text": [
      "Predicted probability of DOI plan for second level and HTML documents:\n"
     ]
    },
    {
     "data": {
      "text/plain": [
       "p_innovation    0.115193\n",
       "dtype: float64"
      ]
     },
     "execution_count": 8,
     "metadata": {},
     "output_type": "execute_result"
    }
   ],
   "source": [
    "print(\"Predicted probability of DOI plan for second level and HTML documents:\")\n",
    "texts_scraped_p[['p_innovation']][texts_scraped_p.level != 'First'].mean()"
   ]
  },
  {
   "cell_type": "markdown",
   "metadata": {},
   "source": [
    "# Narrow Documents"
   ]
  },
  {
   "cell_type": "markdown",
   "metadata": {},
   "source": [
    "Narrow documents to most likely DOI plan candidates. Only keep text if classified as DIP."
   ]
  },
  {
   "cell_type": "code",
   "execution_count": 9,
   "metadata": {},
   "outputs": [],
   "source": [
    "text_narrowed = texts_scraped_p.sort_values(['title', 'p_innovation'], ascending=False).drop_duplicates(subset=[\"title\"], keep=\"first\")\n",
    "text_narrowed['text'] = np.where((text_narrowed.p_innovation < 0.5), 'Not a plan', text_narrowed.text)"
   ]
  },
  {
   "cell_type": "code",
   "execution_count": 10,
   "metadata": {
    "collapsed": true
   },
   "outputs": [],
   "source": [
    "text_narrowed.to_csv(os.path.join(data_path, 'text_narrowed.csv'))"
   ]
  },
  {
   "cell_type": "code",
   "execution_count": 11,
   "metadata": {},
   "outputs": [
    {
     "name": "stdout",
     "output_type": "stream",
     "text": [
      "\n",
      "\n",
      "------------------------------\n",
      "DISTRICT 0\n",
      "------------------------------\n",
      "\n",
      "\n",
      "LTISD Plan of Innovation LAKE TRAVIS INDEPENDENT SCHOOL DISTRICT -Effective Dec. 13, 2016 – Dec. 13, 2021 Frequently Asked Questions Nhat is a District of Innovation? Nhat are the benefits to Lake Travis ISD becoming a District of Innovation? Nhat are the proposed areas of innovation for Lake Travis ISD? Nhat areas is Lake Travis ISD prohibited from seeking exemption? What is a District of Innovation? The District of Innovation concept was passed by the 84th Legislative Session in House Bill 1842 and has been codified in the Texas Education Code Chapter 12a. A District of Innovation designation gives traditional school districts most of the flexibility currently available to Texas’ open-enrollment charter schools. It gives a district more local control and increases a district’s ability to decide what best suits the district’s needs. Under HB 1842, districts may identify certain requirements imposed by the Texas Education Code “that inhibit the goals of the plan and from which the district should exempt on adoption of the plan.” What are the benefits to Lake Travis ISD becoming a District of Innovation? A District of Innovation will have the flexibility to implement practices similar to charter schools and exercise local control over certain decisions about education and governance that are more appropriate for the individual needs of the District. A District of Innovation is given empowerment to innovate and think differently based on the unique needs of the school, students, and staff. Becoming a District of Innovation allows a district to customize appropriate plans district-wide, a grade level, or a single campus. What are the proposed areas of innovation for Lake Travis ISD? First day of instruction Class size in grades K-4 Teacher Appraisal System Teacher Certifications Probationary Teacher Contracts What areas is Lake Travis ISD prohibited from seeking exemption? A District of Innovation cannot seek exemption from state or federal requirements applicable to an open enrollment charter school; state requirements for curriculum or graduation; and academic and financial accountability. Additionally, a District of Innovation cannot be exempt from statutes, including but not limited to, election of board of trustees; powers and duties of school boards, superintendents, and principals; criminal history record checks and educator misconduct reporting; bilingual education; special 2 Nhat is the process for developing and approving LTISD's Innovation Plan? ~ow long is the District of Innovation Plan effective? education; prekindergarten; academic accountability including student assessment; open meetings, open records; financial accountability and related reporting; and nepotism. What is the process for developing and approving LTISD’s Innovation Plan? On September 20, 2016, the Lake Travis ISD’s Board of Trustees passed a resolution to initiate the process of considering the designation of LTISD as a District of Innovation. The Board of Trustees appointed an innovation plan committee to explore and develop a local innovation plan. The innovation plan committee is comprised of key district stakeholders including, senior leadership, administration, staff, parents, board members, and community members. The innovation plan committee met in September, October, and November to draft, review, and prepare a final proposed Innovation Plan. The final proposed Innovation Plan will be posted on the District’s website for at least 30 days and can be accessed from the homepage at http://www.ltisdschools.org/. The District’s Advisory Committee for Education (ACE), established pursuant to Texas Education Code §11.251, will hold a public meeting on December 13, 2016 to consider and vote on the final version of the proposed plan. If the final proposed innovation plan is approved by a majority of the District’s ACE, the Board of Trustees will vote on whether to adopt the final proposed plan during the December 13, 2016 board meeting. If two-thirds\n",
      "\n",
      "\n",
      "------------------------------\n",
      "DISTRICT 1\n",
      "------------------------------\n",
      "\n",
      "\n",
      "Zephyr ISD District of Innovation Plan Introduction HB 1842 was passed during the 84th Texas Legislative Session in Spring 2015, and provides Texas public school districts the opportunity to be designated as Districts of Innovation. To access these flexibilities, a school district must adopt an innovation plan, as set forth in the Texas Education Code Chapter 12A. Districts of Innovation may be exempted from a number of state statutes and will have: · Greater local control as the decision makers over the educational and instructional model for students; · Increased freedom and flexibility, with accountability, relative to state mandates that govern educational programming; and · Empowerment to innovate and think differently. Districts are not exempt from statutes including curriculum and graduation requirements, and academic and financial accountability. Process On February 19th, 2018 the Zephyr Independent School District’s Board of Trustees passed a Resolution to Initiate the Process of Designation as a District of Innovation in order to support innovation and local initiatives to improve student learning. On February 19th, 2018 the Zephyr ISD Board of Trustees held a public hearing on whether the District should pursue the designation as a District of Innovation. The Board of Trustees acknowledged the District of Innovation Committee plans to discuss and draft this Local Innovation Plan. This committee represents various stakeholders across the district, including teachers, parents, campus administration, district administration, and Board of Trustees. The committee met on March 1st and 8th to discuss and develop the plan. The plan was posted on the district website March 9th, 2018. The District Site-Base Decision Making Committee, a body composed of representatives from all stakeholder groups within the district’s community, met on March 20th, 2018. If a majority of their membership approves the plan, it will go to the Board on April 16th, 2018. Term The District of Innovation Plan will become effective in September 2018 and will remain in effect for five years, through June 2023, unless terminated or amended earlier by the Board of Trustees in accordance with the law. Any amendment to the Innovation Plan must follow the same process as the plan development. The District of Innovation Committee would consider any proposed amendment/s. Any amendment/s would require majority approval of the District of Innovation Committee, a majority approval of the District Site-Based Committee, and posting on the district website for 30 days. A 2/3 vote by the Board of Trustees would be required for final approval of any amendment/s. Zephyr I.S.D. Timeline Timeline Activity/Task February 19th, 2018 Board of Trustees adopted resolution to initiate District of Innovation and appointed Committee to draft a DOI Plan February 19th, 2018 Board of Trustees held public hearing regarding District of Innovation (DOI) February 20th, 2018 District notifies the Commissioner of Education of intent to become District of Innovation March 1st, 2018 1st Meeting of DOI Committee to discuss District of Innovation Plan March 8th, 2018 2nd Meeting of DOI Committee to discuss District of Innovation Plan March 9th, 2018 Post DOI Plan on Zephyr ISD website for 30 days April 16th, 2018 Recommend Final Plan to Board of Trustees for Approval April 17th, 2018 Final Plan submitted to the Commissioner of Education for Approval District of Innovation Planning Committee Member Name District/Community Role Stanton Marwitz Superintendent Kelsa Blair Principal Judy Painter Business Manager Wade Lowery Technology Director Holly Lowery Elementary Teacher Jennifer Cozart High School Teacher Sutton Spieckerman Special Education Teacher Maria Caballero Auxiliary Staff Margaret Green Secondary Teacher Rhonda King Cafeteria Manager April Reedy Parent Brenda Tunnell Counselor John Rockafellow School Board President Becky Cornelius School Board Secretary Proposed Exemptions The foll\n",
      "\n",
      "\n",
      "------------------------------\n",
      "DISTRICT 2\n",
      "------------------------------\n",
      "\n",
      "\n",
      "Zavalla ISD District of Innovation Plan (HB 1842) 2016-2017 Zavalla ISD is using HB 1842, of the 84th Legislative Session, to establish more local control in certain areas. HB 1842 allows a traditional public school to have some of the same local flexibility that public charter schools have been allowed. Zavalla ISD believes this is a great opportunity for our local district to establish plans based on the unique needs of our students and community. This plan will be in effect for the 2017-2018 school year through the 2021-2022 school year. This plan may be amended at any time by the committee with approval of the Board of Trustees. District Innovation Team 1. Ricky Oliver Superintendent 2. Kathy Caton High School Principal 3. Shana McCugh Elementary School Principal 4. Caryn Calhoun Coordinator of Special Programs 5. Emily Roebuck District Counselor 6. Elizabeth Boulware CTE Teacher 7. Preston Cooper CTE Teacher 8. Tara Boulware Parent Representative 9. Jamie Dykes Business Representative Timeline Resolution to the Board of Trustees January 26, 2017 Committee Meeting Review and revise plan January 27,2017 Resolution to notify Commissioner January 27,2017 Final version plan posted January 27, 2017 District level meeting February 23, 2017 Board Approval of Plan February 28, 2017 ​1. Submitting waivers for Kindergarten – Grade 4 class size (EEB LEGAL) (Ed. Code 25.112, 25.113) Currently Kindergarten – 4th Grade classes are to be kept at a 22 student to 1 teacher ratio according to state law. When a class exceeds this limit, the district must complete a waiver with the Texas Education Agency. These waivers are never rejected by TEA. This is a bureaucratic step that serves no purpose. Along with the waiver, it is required that a letter is sent home to each parent in the section that exceeds the 22:1 ratio, informing them the waiver has been submitted. Many times soon after the waiver is submitted, students move out of the district and we are below the 22:1 ratio. Proposed While we certainly believe that small class size plays a positive role in the classroom, we do not believe it has a negative effect when you only add one or two more students. Many times it is not the number of the students but the makeup and chemistry of the classroom which influence the learning environment. a. ZISD will attempt to keep all K-4th core classrooms to a 22:1 ratio. However, in the event the class size exceeds this ratio, the superintendent will report to the Board of Trustees. b. In the event a K-4th core classroom reaches 24:1, the campus will notify the parents of the students in the classroom and inform them of the situation. c. A TEA waiver will not be necessary when a K-4th classroom exceeds the 22:1 ratio. d. This gives ZISD the flexibility without having the bureaucracy of waivers within the Texas Education Agency. 2. Teacher certification (DK LEGAL, DK LOCAL, DK EXHIBIT) (Ed. Code 21.003, 21.057) Currently In the event a district cannot locate a certified teacher for a position or a teacher is teaching a subject outside of their certification, the district must submit a request to the Texas Education Agency. TEA then approves or denies this request. There is a lot of bureaucracy and unnecessary paperwork involved in the process. Proposed In order to best serve ZISD students, decisions on certification will be handled locally. a. The campus principal may submit to the superintendent a request to allow a certified teacher to teach one subject out of their certified field. The principal must specify in writing the reason for the request and document what credentials the certified teacher possesses which qualify this individual to teach this subject. b. An individual with experience in a CTE field could be eligible to teach a vocational skill or course through a local teaching certificate. The principal will submit the request to the superintendent with all the individual’s credentials. The superintendent will then approve the request if they \n",
      "\n",
      "\n",
      "------------------------------\n",
      "DISTRICT 3\n",
      "------------------------------\n",
      "\n",
      "\n",
      "Not a plan\n",
      "\n",
      "\n",
      "------------------------------\n",
      "DISTRICT 4\n",
      "------------------------------\n",
      "\n",
      "\n",
      "Yorktown Independent School District Final District of Innovation Plan 2017-2018 Introduction The 84th Legislature passed House Bill (HB) 1842 which gives traditional independent school districts most of the flexibilities available to the state’s open enrollment charter schools. HB 1842 provides Yorktown ISD an opportunity to modify state requirements at the local level to better meet the needs of our student population, in order to prepare them for success and life- long learning. Yorktown ISD took the first step in exploring this opportunity when the YISD Board of Trustees approved a resolution initiating the process in March after a public hearing to consider whether the district should develop an innovation plan, at which time the Board decided to move forward in the process. A committee was appointed to develop an innovation plan, and the plan was then created. The innovation plan will be posted online for at least 30 days. The committee will have a public meeting to approve the plan before it can be submitted to the Board. Goals • To utilize flexibility in meeting the growing needs of our students • To utilize the flexibility to use our personnel in the best way to facilitate this • To utilize the flexibility to plan and coordinate more effective professional development, • To utilize the flexibility to foster collaboration and planning between teachers • To utilize the flexibility to foster more positive teacher /parent interactions Process On March 20, 2017 the Yorktown ISD Board of Trustees voted to form a District of Innovation committee to pursue developing a plan for District of Innovation status following a public hearing at the March Regular Board Meeting. The committee was formed and met initially on March 27, 2017 to learn about Districts of Innovation and the process for becoming one. The committee met again on March 31, 2017 and began developing the plan and a calendar for the district. On April 6, 2017, the committee finalized the plan and it was posted to the district website on April 15, 2017 as the committee continued developing calendar options for the district. On April 17, 2017 a letter was sent to Commissioner Mike Morath at the Texas Education Agency notifying him of Yorktown ISD’s intent to pursue the District of Innovation Status. On April 28, 2017, Yorktown ISD’s Superintendent was notified by the Commissioner’s office of their receipt of the letter. On May 15, 2017 the District Committee met to approve the District of Innovation Plan for Yorktown ISD. District of Innovation District Committee Chad Gee, Superintendent Sylvia Hernandez, Curriculum Director Dr. Carlos Garza, Secondary Principal Pamela Edwards, Elementary Principal Nancy Gohmert, Secondary Counselor Dina Menn, Elementary Counselor and parent Kegan Perez, Junior High Teacher Jeanne Curbow, Junior High Teacher Caleb Gips, High School Teacher Tracy Heasley, Secondary SPED Teacher Carla Sullivan, Elementary Teacher and parent Stacey Gee, Elementary Teacher and parent Karen Casten, Elementary Teacher Sierra Ibrom, Elementary Teacher and parent Steven Gowens, Secondary Teacher and parent Lana Brysch, Community member Edie Boyd, Parent Adrianna Longoria, Parent Anna Foerster, Parent Megan Geffert, Parent Innovations Yorktown ISD, in conjunction with the District of Innovation Committee, proposes the following flexibilities with the Texas Education Code to provide the best and most innovative educational opportunities for students at YISD. _____________________________________________________________ 1. First and Last Day of Instruction (EB Legal) Exemption from: TEC 25.0811 TEC 25.0812 Manner in which law inhibits Board Goals: • TEC 25.0811 states that a school district may not begin student instruction before the 4th Monday of August. For many years this was the rule. However, districts had the option of applying for a waiver to start earlier, even as early as the 2nd Monday in August. • TEC 25.0812 states that a school district may not sc\n",
      "\n",
      "\n",
      "------------------------------\n",
      "DISTRICT 5\n",
      "------------------------------\n",
      "\n",
      "\n",
      "Not a plan\n",
      "\n",
      "\n",
      "------------------------------\n",
      "DISTRICT 6\n",
      "------------------------------\n",
      "\n",
      "\n",
      "Yantis ISD District of Innovation Plan (HB1842) 2017- 2018 INTRODUCTION House Bill 1842 passed in the 84th Texas Legislative Session, provides an opportunity for Texas public school districts to be designated as Districts of Innovation. This designation allows districts flexibility to exempt certain state requirements at the local level to better meet the needs of their unique student population. As a District of Innovation, Yantis ISD intends to utilize the opportunity to enact a high degree of local control over policies and procedures to best meet the needs of our students, employees, and community. PROCESS On March 19, 2018, the Yantis I SD Board of Trustees passed a resolution to explore/initiate the process of designation as a District of Innovation in order to increase local control over district operations and to support innovation and local initiatives. On March 19, 2018 the Yantis ISD Board of Trustees held a public hearing for public discussions on whether the district should develop a local innovation plan for the designation of the district as a District of Innovation. There were no objections coming from the hearing, the Board of Trustees appointed the Site Based Decision Making Team to discuss and draft a local innovation plan. Yantis ISD Board of Trustees will consider the plan at its meeting in June 2018. The plan will be posted on the district website for 30 days before being presented to the SBDM team on June, 2018. Yantis ISD will notify the Commissioner of Education of the District’s final District of Innovation Plan. The finalized plan will be submitted to the Board of Trustees for approval on June, 2018. TERM The District of Innovation Plan will become effective in June 2018 for the 2017-2018 school year and will remain in effect for five years, through May 2023 , unless terminated or amended earlier by the Board of Trustees in accordance with the law. The SBDM Team will monitor the effectiveness of the plan and recommend to the Board of Trustees any suggested modifications. TIMELINE February, 2018 Introduced the idea of becoming District of Innovation March 19, 2018 Board of Trustees passed a resolution to initiate District of Innovation April 11, 2018 Initial meeting of SBDM Team to discuss District of Innovation Plan April 17, 2018 Meeting of SBDM Team to finalize District of Innovation Plan April 18, 2018 Post District of Innovation Plan on Yantis ISD website April 18, 2018 Plan submitted to the Commissioner of Education May 21, 2018 SBDM Team will hold meeting to finalize plan June 11, 2018 Board of Trustees vote on District of Innovation Plan June 12, 2018 Update all policy changes with TASB (if plan is approved by board). DISTRICT OF INNOVATION COMMITTEE Donna Yarbrough Teacher Christy Simmerman Teacher Christie Quinn Teacher Sheila Aaron Teacher Cyndi Hassell Teacher Kendra Fisher Teacher Kendra Fisher Teacher Angela Gamblin Teacher Lindsey Chamness Teacher Jennifer Rodriquez Non- Teaching Felicia Williams Parent Fran Stapleton Parent Buddy Winstead Secondary Principal Tracey Helfferich Superintendent School Start Date – Flexible Calendar Exempt from: TEC 25.0811 Relevant Board Policy: EB LEGAL CURRENT A school district may not begin instruction before the fourth Monday in August, unless the school operates year-round. PROPOSED Flexibility of start date would allow the district to determine locally, on an annual basis, what best meets the needs of the students and local community. An early start date permits students an additional week of instruction prior to the state assessment and creates a more balanced instructional calendar within the two semesters. It would also allow us to end school prior to June. Inter- District Transfers Exemptions from TEC 25.036 Related Board Policy: FDA Local CURRENT According to Texas Education Code, a district may choose to accept, as transfers, students who are not entitled to enroll in the district, but TEC 25.036, has been interpreted to require a transfer to b\n",
      "\n",
      "\n",
      "------------------------------\n",
      "DISTRICT 7\n",
      "------------------------------\n",
      "\n",
      "\n",
      "Not a plan\n",
      "\n",
      "\n",
      "------------------------------\n",
      "DISTRICT 8\n",
      "------------------------------\n",
      "\n",
      "\n",
      "Wylie ISD INNOVATION PLAN INTRODUCTION House Bill (HB) 1842, passed during the 84th Legislative Session, permits Texas public school districts to become Districts of Innovation and to obtain exemption from certain provisions of the Texas Education Code. Potential benefits of becoming a District of Innovation include: • Flexibility: Districts will have the flexibility to implement practices similar to charter schools, including exemptions from certain mandates including the uniform school start date and required minutes of instruction. • Local control: Districts decide which flexibilities best suit their local needs. • Autonomy: Districts must submit a District of Innovation Plan to the commissioner of education, but commissioner approval is not required. On November 17, 2016, the Wylie Independent School District’s Board of Trustees (“Board”) passed a Resolution to explore the development of a District of Innovation Plan to increase local control over District operations and to support innovation and local initiatives. The adoption of this plan seeks to increase the District’s flexibility in order to improve educational outcomes for the benefit of students and the community. On December 8, 2016, the Superintendent appointed a 22-member District of Innovation Committee (“Committee”) comprised of diverse leaders representing a cross-section of the District’s stakeholders including teachers, principals, parents, community members, and administrators. The Committee met on December 14, 2016 and January 25, 2017 to discuss and draft the Local Innovation Plan (“Plan”). The District-Wide Educational Improvement Committee met on January 26, 2017 to review and approve the proposed District of Innovation Plan. The Wylie ISD Board of Trustees will consider the Plan at its meeting on March 20, 2017. DISTRICT OF INNOVATION TIMELINE FOR Wylie ISD November 7 Attend District of Innovation Summit at Mansfield ISD November 15 Scheduled Instructional Focus Meeting Overview Presentation of District of Innovation November 17 Board adopts Resolution to develop District of Innovation Plan December 8 Board holds public hearing in accordance with statute/ delegates authority to Supt to appoint committee December 14 District of Innovation Committee Meets to review draft of proposed plan January 2 Senior Leadership Team meets to discuss District of Innovation Plan January 10 Scheduled Instructional Focus Meeting - Presentation of District of Innovation Plan January 23 Board update from District of Innovation Committee/Board provides input January 25 District of Innovation Committee meeting to finalize District of Innovation Plan January 26 DWEIC meeting to approve plan Feb 1 – March 2 District of Innovation Plan posted on District Website for 30 days March 3 District of Innovation Plan presented to Board; Board votes to notify Commissioner of Education intention to vote on adopting DOI Plan March 20 Board meeting – Board votes on District of Innovation Plan March 21 Board of Trustees formally notifies the Texas Commissioner of Education the District of Innovation Plan is adopted District of Innovation Committee Name Position Tom Westhora Board Member Barbara Goss Board Member Kim Spicer Asst. Superintendent of Curriculum and Instruction Michele Trongaard Asst. Superintendent of Finance and Operations Scott Winn Asst. Superintendent for Human Resources & Student Services Ian Halperin Executive Director of Communications/Community Relations Kyle Craighead Executive Director of Athletics Glenn Lambert Director of Fine Arts Jason Hudson Director of Career and Technical Education Kelly Morton Principal, Smith Elementary School Christa Smyder Principal, Harrison Intermediate School Jon Peters Principal, McMillan Junior High Mike Williams Principal, Wylie East High School Nancy Butler Teacher, Hartman Elementary School Diana Caldwell Teacher, McMillan Junior High School Ann Darby Teacher, Davis Intermediate School Robyn Bray Teacher, Wylie East High School Karr\n",
      "\n",
      "\n",
      "------------------------------\n",
      "DISTRICT 9\n",
      "------------------------------\n",
      "\n",
      "\n",
      "W Wortham ISD District of Innovation Plan 2017-2018 through 2021-2022 Wortham ISD is utilizing HB 1842, of the 84th Legislative Session, in order to have more local control in certain areas. HB 1842 allows a traditional public school to be named as a District of Innovation and have some of the same local flexibility that public charter schools have always been allowed. We feel this is a great opportunity for our local district to tailor plans based on the needs of our students and community. This plan will be in effect for the 2017-2018 school year through the 2021-2022 school year. The District of Innovation Committee may amend this plan at any time with approval of the Wortham ISD Board of Trustees. Wortham ISD Innovation Committee: David R. Allen Superintendent David Hayes Principal, Wortham HS/MS Dee Ann Allen Principal/Counselor WELEM Cheri Spencer RTI, Special Programs Cor. Krystal Duke Counselor/Parent WHS Marc Nichelson Director of Technology/Bands Amy Jo Miller Teacher, WHS Laura Sides Teacher/Parent WMS Christine Towles Teacher/Parent WELEM Lindsay Hayes Teacher, WELEM Andrea Jenkins Parent Marsha Calame Community Member Innovations: 1. Teacher Certification (DK LEGAL, DK LOCAL, DK EXHIBIT) TEC 21.003 Current Law In the event a district cannot locate a certified teacher for a position or a teacher is teaching a subject outside of their certification, the district must submit a request to the Texas Education Agency. TEA then approves or denies this request. In certain circumstances, a district can use a local one-year permit. Proposed In order to best serve WISD students, decisions on certification will be handled locally. a. The principal, after following procedures, may submit to the superintendent a request to allow a certified teacher to teach subject(s) out of their certified field. The principal must specify in writing the reason for the request and document what credentials the certified teacher possesses in which would qualify this individual to teach this subject. b. An individual with experience in a CTE field could be eligible to teach a vocational skill or course through a local teaching certificate. The principal will submit the request to the superintendent with all the individual’s credentials. The superintendent will then approve the request if they feel the individual could be an asset to students. The superintendent will then report this action to the Board of Trustees prior to the individual beginning any employment. Local teaching certificates will be for one year. The employee will be at-will. c. This proposal will provide more flexibility in our scheduling and more options for our students in class offerings. 2. Teacher Contract Days (DCB Legal, DCB Local) (Ed. Code 21.401) Current Law Current education law located in Chapter 21 defines a teacher contract as a ten month contract equivalent to 187 days. Proposed This proposal reduces teacher contract days from 187 to 182 with no effect on teacher salaries. Due to low property values, it is difficult for Wortham ISD to compete with area schools in the area of teacher salary. This reduction in contract days at the current salary schedule would make our salaries more competitive. 1. This proposal will increase the daily rate the district pays teachers. 2. This proposal should enhance teacher recruitment, therefore putting the district on a more level playing field with neighboring districts. 3. This proposal will significantly improve teacher morale. 4. This proposal will provide teachers more opportunities during the summer months to seek out beneficial staff development that relates to their field. 5. This proposal will be part of the calendar planning process to maintain the reduced number of teacher contract days. 3. School Start Date (EB Legal) (EB Local) (TEC 25.0811 Current Law Texas Education code Section 25.0811 states that a school district may not begin instruction before the fourth Monday in August. Plan To meet local and community needs,\n",
      "\n",
      "\n",
      "------------------------------\n",
      "DISTRICT 10\n",
      "------------------------------\n",
      "\n",
      "\n",
      "Not a plan\n",
      "\n",
      "\n",
      "------------------------------\n",
      "DISTRICT 11\n",
      "------------------------------\n",
      "\n",
      "\n",
      "Not a plan\n",
      "\n",
      "\n",
      "------------------------------\n",
      "DISTRICT 12\n",
      "------------------------------\n",
      "\n",
      "\n",
      "Copy of WISD District of Innovation Copy of WISD District of Innovation Woodsboro ISD District of Innovation Plan HB 1842Â was passed during the 84th Texas legislative Session in Spring 2015, and provides Texas public school districts the opportunity to be designated as a District of Innovation. To access these flexibilities, a school district must adopt an innovation plan, as set forth in Texas Education Code Chapter 12A. Districts of Innovation may be exempted from a number of state statutes and will have: Greater local control as the decision makers over the educational and instructional model for students: Increased freedom and flexibility, with accountability, relative to state mandates that govern educational programming; and Empowerment to innovate and think differently. Districts are not exempt from statutes including curriculum and graduation requirements and academic and financial accountability. Woodsboro ISD Board of Trustees meet on Monday December 19th, 2016 in a regular scheduled board meeting to consider Woodsboro ISD becoming a District of Innovation. The Woodsboro ISD Board of Trustees unanimously passed a resolution to consider developing a District Innovation Plan. The board also appointed the districtâ€™s site based decision making committee to research and develop a District Innovation Plan. Woodsboro ISD Board of Trustees Mr. Robbie Thomas, Board President Mr. Henry Fierova, Board Vice President Mrs. Mandy Nixon, Board Secretary Mrs. Ruby Martinez Mr. Jeff Gillespie Mr. Brian Hicks Mr. Robbie Blaschke District Site Based Decision Making Committee/District Innovation Committee Members Jeff Dyer, SuperintendentÂ Â Â Â Â Â Â Â Â Â Â Â Â Â Â Â Â Â Â Â Â Â Â Â Â Â Â Â Â Â Â Â Cindy Krause, Curriculum Director Linda Garza, Secondary PrincipalÂ Â Â Â Â Â Â Â Â Â Â Â Â Â Â Â Â Â Â Â Â Â Â Â Bobby Blaschke, Community Member Leslie Garza, Elementary PrincipalÂ Â Â Â Â Â Â Â Â Â Â Â Â Â Â Â Â Â Â Â Â Â Â Â Louise Hicks, Special Programs Facilitator Kellie Beall, Elementary TeacherÂ Â Â Â Â Â Â Â Â Â Â Â Â Â Â Â Â Â Â Â Â Â Â Â Leigh Anna Miller, Secondary Teacher KaSteene Harris, Elementary TeacherÂ Â Â Â Â Â Â Â Â Â Â Â Â Â Â Â Crystal Reyna Escobar, Secondary Teacher Erin Allen, ParentÂ Â Â Â Â Â Â Â Â Â Â Â Â Â Â Â Â Â Â Â Â Â Â Â Â Â Â Â Â Â Â Â Â Â Â Â Â Â Â Â DeAnne Jochetz, Business Owner Amy Burns, ParentÂ Â Â Â Â Â Â Â Â Â Â Â Â Â Â Â Â Â Â Â Â Â Â Â Â Â Â Â Â Â Â Â Â Â Â Â Â Â Â Â Christina Gray, ParentÂ Â Â Â Â Â Â Â Â Â Â Â Â Â Â Â Â Â Â Â Â Â Â Â Â Â Â Â Â Â Â Â Â Â Â Â Â Â Â Â District Innovation Timeline Timeline Activity Wednesday, January 4th, 2016 Board Meeting to take action to adopt a Resolution to seek District of Innovation status. Â Monday, January 4th, 2017 Public Hearing held to explain and discuss possibilities of seeking a District of Innovation status.Â Board of Trustees approved a Motion to pass a Resolution and appointed a District Innovation Planning Committee. Thursday, January 26th, 2017 District Innovation Committee Meeting Monday, February 20th, 2017 District Wide Faculty Meeting to explain and discuss possibilities of seeking a District of Innovation status. Thursday, February 23rd, 2017 District Innovation Committee Meeting Thursday, March 9th, 2017 The District of Innovation Committee Meeting to the public posted on the district website. Tuesday, March 7th, 2017 District Innovation Committee Meeting to review the final plan. Tuesday, March 7th, 2017 District Innovation Planning Committee holds public meeting and votes to approve the District Innovation Plan. Wednesday, March 8th, 2017 Post Woodsboro ISDâ€™s District Innovation Plan on Website 30 days Monday, March 20th, 2017 Present District of Innovation Plan to the Board of Trustees. Â Board of Trustees signs a â€œNotice of Intentionâ€� letter to notify the commissioner of their desire to vote on the proposed District of Innovation Plan during the April 17th, 2017 Board meeting. Monday, April 17th, 2017 Board Meeting to Appro\n",
      "\n",
      "\n",
      "------------------------------\n",
      "DISTRICT 13\n",
      "------------------------------\n",
      "\n",
      "\n",
      "Wolfe City ISD District of Innovation Plan Wolfe City ISD District of Innovation Wolfe City ISD District of Innovation Plan Wolfe City ISD Innovation Committee Members District Administration Vernon Richardson Superintendent Sheila Gardner Director of Curriculum & Technology Elementary School Randi Jones Pre-Kindergarten Teacher Kimberly Thacker Kindergarten Teacher Amy Cox First Grade Teacher Liz Myrick Second Grade Teacher Lindsay Richardson Third Grade Teacher Christina Davis Fourth Grade Teacher Lisa Wilson Fifth Grade Teacher / Testing Coordinator Jodi Card SPED Teacher Angela Anderson Reading Lab Teacher Sharon Duncan GT / Computer Technology Teacher Dona Gavlick Counselor Brent Fitzgerald Principal Casey Hale Parent Middle School Dona Gavlick Counselor Amber Northcutt Teacher/Testing Coordinator Alissa Davis Teacher/Mentor Lisa Tisdale Teacher/Technology Danielle Cagle Parent Melanie Williams Principal High School Dona Gavlick Counselor Billy Eldridge SPED Teacher/Testing Coordinator Alayne Aikens English Teacher Paula Fitzgerald Business and CTE Teacher Rose Gardner Science Teacher Jess Merritt Social Studies Teacher Jamie Moore CTE Teacher Mike Hammonds Parent Boyd Roberts Community Member Carrie Roberts Community Member Chris Sheets Principal Wolfe City ISD District of Innovation Plan Overview House Bill 1842, passed in 2015 in the 84th Session of the Texas Legislature, in part amended Chapter 12A of the Texas Education Code (TEC) to create Districts of Innovation. The designation allows school districts to be exempt from certain sections of the TEC, providing more flexibilities and control in locally meeting the needs of students and the communities served. Traditional independent school districts now have many of the flexibilities available to open enrollment charter schools. In order to have these opportunities, a district must adopt an innovation plan as set forth in Texas Education Code 12A. Wolfe City ISD has the opportunity to design a plan according to the needs and resources of our district while maximizing local control. Terms By law, the term of the designation as a District of Innovation may not exceed five years. The term of the Wolfe City Innovation Plan begins on March 22, 2017, and ends on March 22, 2022, unless rescinded or renewed by the Board in accordance with law, or terminated by the Commissioner of Education. The plan may be amended, rescinded or renewed by a majority vote of the district-level committee along with a two-thirds majority vote of the Board. The district-level committee will be comprised of at least 60% teachers. An amendment to the Plan does not change/extend the date of the term of designation as an innovation district; exemptions that were already formally approved are not required to be reviewed. The District must notify TEA within five business days of rescission of the plan and provide a date (not to be later than the start of the following school year) at which time it will be in compliance with all sections of the TEC. During renewal, all sections of the plan and exemptions shall be reviewed and the adoption process must be followed. The District shall notify the Commissioner of any actions taken to amend, rescind or renew the Plan along with the associated TEC exemptions. The Committee will annually review the plan, unless the Board determines a review must be done prior to the annual review, to ensure that the recommendations are continuing to meet the needs of the District as intended. The WCISD School Board has determined that the District of Innovation Committee will be composed the three Campus Improvement Committees along with additional personnel appointed by the Superintendent. If a member of the Campus Improvement Committee is unable to fulfill his/her duties, the campus administration will appoint a new member to the Campus Improvement Committee. If a member appointed by the Superintendent is unable to fulfill his/her duties, the Superintendent will appoint a re\n",
      "\n",
      "\n",
      "------------------------------\n",
      "DISTRICT 14\n",
      "------------------------------\n",
      "\n",
      "\n",
      "Not a plan\n",
      "\n",
      "\n",
      "------------------------------\n",
      "DISTRICT 15\n",
      "------------------------------\n",
      "\n",
      "\n",
      "` Winters ISD District of Innovation Plan 2017-2022 Introduction The 84th Legislature passed House Bill (HB) 1842 which gives traditional independent school districts most of the flexibilities available to the state’s open enrollment charter schools. HB 1842 provides Winters ISD an opportunity to modify state requirements at the local level to better meet the needs of our student population and implement innovative strategies in order to prepare them for success and life-long learning. Our district must have an academic performance rating of at least Academically Acceptable and adopt an innovation plan. Winters ISD took the first step in exploring this opportunity when the WISD Board of Trustees approved a resolution initiating the process in January, 2017. The Board then held a public hearing to consider whether the district should develop an innovation plan, at which time the Board decided to move forward in the process. A committee was appointed to develop an innovation plan. The committee created a district of innovation plan. The plan then will be posted on-line for at least 30 days. The District Improvement Committee will have a public meeting to approve it before it can go back to the Board. Goals of Winters ISD in our District of Innovation Plan Goal 1: Winters ISD Board of Trustees and administration will make teacher certification and contract decisions based on district qualifications that meet the needs of our district’s students and community and offer the widest range of courses and innovative course options possible. Goal 2: Winters ISD Board of Trustees and administration will make governance decisions based on the unique needs of the district’s students and community. Term The term for this plan is for five years unless amended or terminated earlier by the Board of Trustees in accordance with Texas Law. In the event Winters ISD feels other exemptions would benefit the district, community, and/or students, the Board of Trustees will follow procedures to amend the plan. District of Innovation Team Bruce Davis, WISD Superintendent Sammy Tullous, WHS Principal Kari Calcote, WES Principal Mandie England, WHS Counselor Edward Garcia, WES Counselor Jolie Hatter, WES Teacher Monte Angel, WHS Teacher Charles Kidwell, WISD Board Member Danny Martinez, WISD Board Member Lacy Dugan, WES parent Christy Oats, WHS Parent Christy Lindley, WHS Parent Melissa Gerhart, WHS Teacher District of Innovation Timeline December 12, 2016 Informational item at Winters Independent School Board meeting January 16, 2017 Board of Trustees approve resolution to hold a public hearing to discuss the possibility of becoming a District of Innovation February 13, 2017 Public hearing to explain and discuss possibility of becoming District of Innovation and appoint a committee, February 27, 2017 Initial meeting of the District of Innovation Committee. Begin planning March 8, 2017 Review of plan by the District of Innovation Committee with the District Improvement Team and possible approval by the District Improvement Team March 9, 2017 Innovation plan posted on the district website for 30 days (TEC 12A.005(a)(1)) Commissioner notified of Board’s intent to vote on District of Innovation. April 10, 2017 Public Meeting and District Improvement Team April 10, 2017 Public Hearing to hear input into the District of Innovation Plan Winters ISD Board Meeting to consider approval of the plan Innovations Winters ISD in conjunction with the District of Innovation Committee proposes the following flexibilities with the Texas Education Code to provide the best educational opportunities for students at Winters ISD. Uniform Start Date (TEC 25.0811, TEC 25.0812) EB (LEGAL), State law currently prohibits school districts from starting class before the fourth Monday in August, unless they are year-round districts. Rationale for Exemption The flexibility of the start date allows the district to determine locally, on an annual basis, what best meets the needs of the st\n",
      "\n",
      "\n",
      "------------------------------\n",
      "DISTRICT 16\n",
      "------------------------------\n",
      "\n",
      "\n",
      "Microsoft Word - District of Innovation.docx Winnsboro ISD – District of Innovation Plan Winnsboro ISD – District of Innovation Plan Winnsboro ISD District of Innovation Plan (HB 1842) 2017-2018 When the 84th Legislative Session passed HB 1842, a unique opportunity presented itself for Texas public school districts to have more local control. HB 1842 allows independent school districts to modify certain state requirements in an effort to better serve the needs of students, effectively allowing the district to more accurately mirror the values of the community it serves. With the recent passage of a bond to construct a new high school and CTE facility, we feel that the time is right to take advantage of this opportunity that will allow our local district to tailor plans based on the needs of our students and community. This plan will be in effect for the 2018-2019 school year through the 2022-2023 school year. This plan may be amended at any time by the committee with the approval of the Winnsboro ISD Board of Trustees. District of Innovation Committee 1. Susan Morton - Superintendent 2. Torri Miller – Director of Curriculum 3. David Pinnell – Winnsboro High School Principal 4. Jeff Akin – Memorial Middle School Principal 5. Kristie Amason – Winnsboro Elementary Principal 6. Mary Ellen Knight – Special Education Director 7. Kelly Knight – WHS Teacher 8. Laura Murdock – MMS Teacher 9. Jessica Crocker – WES Teacher 10. Darren Swanner – Parent 11. Joe Grimes – Parent 12. Tori Simons - Parent 1. School Start Date (EB LEGAL) (TEC 25.0811) Currently: TEC 25.0811 states that a school district may not begin instruction before the fourth Monday in August. TEC 25.0812 states that a school may not schedule the last day of school before May 15. Proposed: To allow for a calendar that fits the needs of our local community, we would like to consider moving the mandatory start date back one week to benefit our students. • Students will begin no earlier than the 2nd Monday of August. • Teachers will begin no earlier than the 1st Monday of August. • This will allow the first and second semesters to be more balanced in terms of the number of days of instruction. • This will allow for a calendar that fits the needs of our local community, staff, and students. Winnsboro ISD – District of Innovation Plan 2. Teacher Certification (DK LEGAL) (TEC 21.003) Currently: TEC 21.003 states that a person may not be employed as a teacher, teacher intern or teacher trainee, librarian, educational aide, administrator, educational diagnostician, or school counselor by a school district unless the person holds an appropriate certificate or permit. Proposed: In order to best serve Winnsboro ISD students, decisions of certification for classroom teachers will be handled locally. • The campus principal may submit to the superintendent a request to allow a certified teacher to teach one subject out of their certified field. The principal must specify in writing the reason for the request and document what credentials the certified teacher possesses which qualify this individual to teach this subject. • An individual with experience in a CTE field could be eligible to teach a vocational skill or course through a local teaching certificate. The principal will submit the request to the superintendent with all of the individual’s credentials. The superintendent will then approve the request if they feel the individual could be an asset to the students. The superintendent will then report this action to the Board of Trustees prior to the individual beginning any employment. Local teaching certificates will be for one year. The employee will be at-will. • This will allow more flexibility in scheduling and expand options for course offerings where certified people are not readily available. • It is the intent of WISD to utilize this option sparingly – and only as it relates to expanding opportunities for possible class offerings in the schedule. 3. Probationary Contracts (DC\n",
      "\n",
      "\n",
      "------------------------------\n",
      "DISTRICT 17\n",
      "------------------------------\n",
      "\n",
      "\n",
      "Wink-Loving ISD WLISD - The Best in Texas: Building Excellence, Pride, and Tradition! What exemptions does Wink-Loving ISD intend to pur- sue? WLISD will apply for exemptions of the following legal requirements: 1. Uniform school start date (EB Legal): This will allow WLISD to provide a calendar that addresses student in- struction and focused professional development plan in conjunction with the new instructional minutes rather than instructional days required. 2. Teacher Certification (DK Legal and Local): In the event a district cannot locate a certified teacher for a posi- tion or a teacher is teaching a subject outside their certifi- cation, a district must submit a request to TEA. In order to best serve WLISD students, this will allow decisions on certification to be handled locally. What is a District of Innovation? The District of Innovation concept, passed by the 84 th Legislative Session in House Bill 1842, gives traditional independent school districts most of the flexibilities available to Texas’ open-enrollment charter schools. To access these flexibilities, a school district must adopt an innovation plan as set forth in Texas Education Code, Chapter 12A. Summary of Process  Conduct Public Hearing concerning District of Innovation Resolution.  WLISD Board consider to Adopt a Resolution  Decision to decline or appoint a District of Innovation Committee  Develop Strategic Plan  Provide Plan for Review (Public/District of Innovation Team/TEA)  District of Innovation Team votes on Strategic Plan  WLISD Board votes on Strategic Plan HD 1842: District of Innovation  HB 1842 provides WLISD with the opportunity to de- sign a strategic plan ac- cording to the needs and resources of our district while maximizing local con- trol. District of Innovation Committee Members: Dewitt Smith: Superintendent Scotty Carman: HS Principal Linda Jolly: Elem. Principal Lance Wineinger: Asst. Princi- pal Amanda Smith: Elem. Teacher Tiffany Youngblood: Elem. Teacher Susan Abbott: JH Teacher Vonda Warren: HS Teacher Isela Flores: WLISD Parent Charity Smith: Business Rep. Courtney Woody: District Nurse https://www.tasb.org/Legislative/Issue-Based-Resources/Districts-of-Innovation/documents/HB01842F-(1).pdf https://www.tasb.org/Legislative/Issue-Based-Resources/Districts-of-Innovation/documents/HB01842F-(1).pdf https://www.tasb.org/Legislative/Issue-Based-Resources/Districts-of-Innovation/documents/HB01842F-(1).pdf https://www.tasb.org/Legislative/Issue-Based-Resources/Districts-of-Innovation/documents/HB01842F-(1).pdf https://www.tasb.org/Legislative/Issue-Based-Resources/Districts-of-Innovation/documents/HB01842F-(1).pdf\n",
      "\n",
      "\n",
      "------------------------------\n",
      "DISTRICT 18\n",
      "------------------------------\n",
      "\n",
      "\n",
      "Not a plan\n",
      "\n",
      "\n",
      "------------------------------\n",
      "DISTRICT 19\n",
      "------------------------------\n",
      "\n",
      "\n",
      "Not a plan\n",
      "\n",
      "\n",
      "------------------------------\n",
      "DISTRICT 20\n",
      "------------------------------\n",
      "\n",
      "\n",
      "WILLS POINT DISTRICT OF INNOVATION PLAN Introduction House Bill 1842, passed by the 84th Legislature, allows districts to seek designation as a District of Innovation in order to pursue flexibilities available to Texas’ open-enrollment charter schools. Potential benefits of becoming a District of Innovation include: • HB 1842 provides WPISD with the opportunity to fulfill our mission according to the needs and resources of our district while maximizing local control • Continue to expand current programs and to recruit and retain excellent teachers • To better serve and accommodate the diverse needs of all of our stakeholders, including students, staff, parents and community members • Flexibility and freedom to be innovative with the kinds of learning experiences afforded students while maintaining accountability for the results • Increased local control over district operations to improve the quality of services benefiting all stakeholders important educational decisions at the local level Process On November 13, 2017, the Board appointed a District of Innovation Committee that is composed of teachers, parents, community members, school administrators, and board members. The committee met on November 27, 2017 to discuss options and determined the exemptions to pursue through the District of Innovation Plan. The committee discussed district goals and flexibilities that would support goal attainment. District of Innovation Committee Members On November 13, 2017, the Wills Point ISD Board of Trustees appointed members to serve as the District of Innovation Team. Scott Caloss Superintendent Barbie McMath Assistant Superintendent of C/I Jammie Madden Director of Special Education Chuck Allen School Board Member Jim Lamb School Board Member Jeff Russell High School Principal Casey Cochran Junior High Principal Kim Calvery Middle School Principal Melanie Mullin Intermediate Principal Kim White Primary Principal Todd Staley High School Teacher Tammy McEnturff Junior High Teacher Christina Miller Middle School Teacher Valerie Gray Intermediate Teacher Nikki Phillips Primary Teacher Nancy Roberts High School Parent/Business Jackie Cockerham Junior High Parent/Business Monica LaJone Middle School Parent/Business Tiffany Suits Intermediate Parent/Business Tiffany Genung Primary Parent/Business John Young Co-Curricular Greg Cranfill Extra-Curricular Cheryl Kinney CTE Process Timeline Monday November 6, 2017 Initial meeting with administrative staff to discuss preliminary thoughts, possible exemptions, and possible members of the District Innovation Committee. The District of Innovation Committee will consist of: • Superintendent • Administrative Staff • Principals for Each Campus • One teacher from each campus • Two - five parents and/or community members • Teacher representatives from Co-Curricular, Extra-Curricular and CTE programs Monday, November 13, 2017 6:30 PM – Special Board Meeting • Board approve a resolution to hold a public hearing to discuss the possibility of using HB 1842 to become a District of Innovation • Adjourn 6:40 PM Public Hearing • Explain and discuss the possibility of using HB 1842 to become a District of Innovation 7:00 PM Regular Board Meeting • Approve a motion to pursue local “District of Innovation” plan • Approve the members of the District of Innovation Committee • Adjourn Monday, November 27, 2017 4:00 PM Meeting of District of Innovation Committee • Educate them about HB 1842 and Districts of Innovation • Discuss possible exemptions • Decide which exemptions to pursue and include in our plan Monday, December 4, 2017 5:00 PM Meeting of the District of Innovation Committee and District Site-Based Committee • Public meeting to consider the final Wills Point ISD District of Innovation Plan Wednesday, December 6, 2017 Post proposed Wills Point ISD District of Innovation plan on the district website for thirty days Monday, December 11, 2017 Board will vote to notify Commissioner of Education of intent to vote o\n",
      "\n",
      "\n",
      "------------------------------\n",
      "DISTRICT 21\n",
      "------------------------------\n",
      "\n",
      "\n",
      "Not a plan\n",
      "\n",
      "\n",
      "------------------------------\n",
      "DISTRICT 22\n",
      "------------------------------\n",
      "\n",
      "\n",
      "WILDORADO INDEPENDENT SCHOOL DISTRICT Local Innovation Plan Local Innovation Plan Committee Members · Troy Duck - Superintendent · Kelley Schroeder – Special Education Teacher · Michelle Johnson - Teacher · Robin Welch - Teacher · Ashley Palmer - Teacher · Jennifer Duck - Counselor · Michelle Fithen – Instructional Assistant /Intervention · Jane Mason - Parent · Clay Crist - Community Introduction House Bill 1842, passed the 84th Texas Legislature, during Regular Session 2015, permits eligible Texas public school districts to become Districts of Innovation and to obtain exemption from certain provisions of the Texas Education Code. In accordance with 19 TAC § 102.1303 On December 14, 2016, the Wildorado Independent School District’s Board of Trustees (to be known as “Board”) passed a Resolution to Initiate the Process of Designation as a District of Innovation in order to increase local control over District operations and to support innovation and local initiatives to improve educational outcomes for the benefit of students and the community. On January 13, 2017, the Board appointed the members of the District Site Based Team as the Local Innovation Plan Committee (“Committee”) comprised of district administrators, teachers, parents, and community members. The Committee met on May 22, 2017 to discuss and draft this Local Innovation Plan (“Plan”). Term The term of this Plan is for five years, beginning August 1, 2017, and ending August 1, 2022, unless terminated or amended earlier by the Board in accordance with TEC §12A.006 and §12A.008. The Committee will annually monitor the effectiveness of the Plan and recommend to the Board any suggested modification to the Plan on or before August 1st of each year of implementation. Following adoption by the Board of Trustees, the Wildorado ISD Local Innovation Plan for District of Innovation designation will be reported to the Texas Education Agency. Innovations The district proposes flexibility in the following areas: Teacher Certification - TEC §21.003, DBA (LEGAL), DBA (LOCAL) Texas Education Code Section §21.003 (a) states that a person may not be employed as a teacher, teacher intern or teacher trainee, librarian, educational aide, administrator, educational diagnostician, or school counselor by a school district unless the person holds an appropriate certificate of permit issued as provided by Subchapter B. In the event a district cannot locate a certified teacher for a position or a teacher is teaching a subject outside of their certification, the district must request emergency certification form the Texas Education Agency and/or State Board of Educator Certification. The current certification requirements inhibit the District’s ability to hire professionals with industry experience to teach Career and Technical Education (CATE) and Science, Math, Technology, Engineering, Arts, Mathematics (STEAM), Foreign Language, History, and English Language Arts courses. The District would also like to honor candidates with Bachelor's degrees and certifications from bordering states as fully certified teachers eligible for a Texas Probationary teaching contract in our District and remain eligible for the period of time outlined in District policy DCA (LEGAL) for Probationary Certificate. This provision would mirror the DCA (LEGAL) policy term of one year with the District’s option to extend two additional years. Our plan: To allow flexibility for hiring certified personnel, Wildorado ISD will · Make all decisions on teacher certification and assignments locally. · Notifications of district teaching permits (local certification) shall not be necessary. · The campus principal may submit in writing to the Superintendent a request to allow a certified teacher to teach one subject in a related field for which he/she is not fully certified in Texas according to SBEC guidelines. · Notification must include the reason for the request and document which qualifying credentials the teacher holds, jus\n",
      "\n",
      "\n",
      "------------------------------\n",
      "DISTRICT 23\n",
      "------------------------------\n",
      "\n",
      "\n",
      "Microsoft Word - District of Innovation Plan.docx 1 District of Innovation Plan Passed and Approved by WFISD Board of Trustees on April 11, 2017 In accordance with Texas HB 1842, the District of Innovation Committee recommends the following plan to be in effect from 2017-2022. 2 Committee Members Jennifer Faulkenbery Teacher Letitia Pert Community Member Angelica Perkins Teacher James (Jim) Price Community Member Lisa Martischnig Teacher Alan Rainey Community Member Roberto Rodriguez Community Member Amy Simmons Teacher Matthew Capps Dean of West College of Education, MSU Tracey Goodman Teacher Diann Taylor Retired Administrator Carol Sales Interim CEO of the Arts Council, Wichita Falls Inc. Jared Jacobs Teacher Denise Williams Retired WFISD Krista Kaspar Teacher Sarah Chisum Teacher Bethlyn Eby Teacher Ferran Kaspar Teacher Michael Tayntor Teacher Lisa Kowalick Teacher Larry Fox Teacher Stephanie Robles Assistant Principal Shannon Cunningham Assistant Principal Angela Vaughn Counselor Debby Patterson Director of School Administration District of Innovation Timeline Oct 17, 2016 Board of Trustees approved resolution to develop an innovation plan Nov 1, 2016 Board of Trustees held a public hearing in accordance with the statute Nov 1, 2016 Board of Trustees appointed a committee of volunteers to develop a local Innovation plan District of Innovation Committee held initial meeting District of Innovation Committee held follow-up meeting District of Innovation Committee held follow-up meeting District of Innovation Committee held follow-up meeting District of Innovation Committee held follow-up meeting Nov 10, 2016 Nov 15, 2016 Nov 21, 2016 Dec 5, 2016 Jan 2, 2017 Jan 9, 2017 Jan 12, 2017 April 6, 2017 April 11, 2017 District of Innovation Committee held final meeting District Action Committee reviewed District of Innovation proposal District Action Committee voted to approve the District of Innovation Plan District of Innovation Plan approved by WFISD Board of Trustees 3 District of Innovation Plan Wichita Falls Independent School District prides itself on providing a high-quality education, for all of our students, while always looking to our future in areas to improve. This is evident in our Core Beliefs that state our commitment to: • Providing equal access to a quality education for every child that enters our District regardless of race, sex, ethnicity or socio-economic status. • Doing everything possible to ensure student success, by not accepting excuses for anything less. • Creating schools that provide a high-quality foundation in academics and strong support for emotional needs and character development. • Providing a rigorous, relevant college preparatory curriculum as well as high-quality career and technology programs. • Allocating resources to ensure equity for all students to reach their full potential. • Providing students, the opportunity to perform to their full potential and ensuring that there is no discernable difference between the achievement levels of students by race, gender, or economic status. • Basing academic decisions on quality research and reliable, pertinent data. • Ensuring that quality instruction takes priority over all other functions. • Providing a safe and secure environment for our students and staff. • Maintaining the integrity of all support systems. • Operating a workplace where all employees are valued while striving to be the employer of choice. • Ensuring that every classroom has a caring and effective teacher. • Ensuring that campus and district administrators demonstrate strong leadership and management skills. • Holding all employees accountable for student success and student well-being. • Encouraging and actively promoting engagement opportunities for all students and their families. • Partnering with community members, businesses and institutions to enhance student achievement. This is also evident of our new state-of-the-art CTE center, opening in 2017, and our commitment to in\n",
      "\n",
      "\n",
      "------------------------------\n",
      "DISTRICT 24\n",
      "------------------------------\n",
      "\n",
      "\n",
      "Not a plan\n",
      "\n",
      "\n",
      "------------------------------\n",
      "DISTRICT 25\n",
      "------------------------------\n",
      "\n",
      "\n",
      "WISD District of Innovation Devel.docx - Google Docs JavaScript isn't enabled in your browser, so this file can't be opened. Enable and reload. Some Word features can't be displayed in Google Docs and will be dropped if you make changes View Details WISD District of Innovation Devel.docx Share Sign in File Edit View Tools Help Accessibility Debug Error while saving changes See new changes Accessibility View only Toggle screen reader supportMain menu\n",
      "\n",
      "\n",
      "------------------------------\n",
      "DISTRICT 26\n",
      "------------------------------\n",
      "\n",
      "\n",
      "Not a plan\n",
      "\n",
      "\n",
      "------------------------------\n",
      "DISTRICT 27\n",
      "------------------------------\n",
      "\n",
      "\n",
      "Not a plan\n",
      "\n",
      "\n",
      "------------------------------\n",
      "DISTRICT 28\n",
      "------------------------------\n",
      "\n",
      "\n",
      "District of Innovation Plan 2017-2018 1 Whitehouse ISD District of Innovation Plan 2017-2018 During the 84th Legislative Session, HB 1842 was passed which granted more local control to public school districts in certain areas. HB 1842 allows traditional public schools to utilize some of the same local flexibility or exemptions to Education Law that charter schools enjoy. We feel that becoming a District of Innovation is a great opportunity for Whitehouse ISD to tailor plans based on the needs of our students and community. This plan will be in effect for the next five years through school year 2021-2022 and may be amended at any time by the WISD District of Innovation Committee with approval from the District Educational Improvement Committee and the Board of Trustees. WISD District of Innovation Committee Sandi Jones Principal Cain Elementary Valencia Ray Principal Brown Elementary Forrest Kaiser Principal Higgins Elementary Sterling Haskell Principal Stanton-Smith Elementary Travis Splinter Principal Holloway Sixth Grade Campus Josh Garred Principal Whitehouse Junior High School Dr. Jonathan Campbell Principal Whitehouse High School Dr. Gary Jacobs Director of Alternative Education Denise Martin Instructional Consultant Secondary English/Social Studies Dr. Paul Drake Assistant Principal Whitehouse School Susanna Campbell Director of Instructional Programs Kelley Vannatta Chief Human Resources Officer Dr. Trampas Bass Assistant Superintendent of Curriculum & Instruction Betty Lough Executive Director of Curriculum & Instruction 2 Innovation Process Timeline November 7, 2016 - 7:00 P.M. High School Lecture Hall Public hearing to discuss the possibility of becoming a District of Innovation Resolution approved by WISD School Board to investigate becoming a District of Innovation School Board approves the recommended WISD District of Innovation Committee November 18, 2016 - 8:45 A.M. WISD Annex Initial meeting of District of Innovation Committee District of Innovation guidelines shared January 6, 2017 - 9:30 A.M. WISD Annex Innovative ideas developed by campus innovation teams shared with District of Innovation Committee January 12, 2017, WISD Central Office Design Team meeting January 18, 2017, WISD Annex Design Team meeting January 19, 2017, WISD Central Office Design Team meeting February 2, 2017 WISD Annex Second meeting of District of Innovation Committee February 3, 2017 WISD Innovation Plan posted to district website for 30 Days Commissioner of Education Notified of WISD District of Innovation Plan February 9, 2017 WISD Innovation Plan approved by District Educational Improvement Committee April 10, 2017 - 7:00 P.M. High School Lecture Hall WISD Innovation Plan approved by School Board 3 1. School Start Date (TEC 25.0811) (EB Legal) Current Law Students may not begin school before the 4th Monday in August. For many years this was the rule; however, districts at one time had the option of applying for a waiver to begin earlier, some even as early as the second Monday in August. The Texas tourism groups lobbied to have this stopped because they believed it was hurting the tourism business. Hence, the start-date waiver was eventually removed by the legislature rendering no flexibility with the school start date and dictating that schools could not begin until the 4th Monday in August, with no exceptions. Proposed We would like to develop a calendar that will better meet the needs of Whitehouse students, staff, and community. a. Whitehouse ISD will determine on an annual basis the local starting date of the first semester. b. The annual calendar will be developed by district leadership and approved by the District Educational Improvement Committee and the Board of Trustees. Rationale a. By beginning the start date earlier, the Calendar Committee can design a calendar that better balances the number of days of instruction for the first and second semesters, which will allow teachers to better pace and deliver instruction before\n",
      "\n",
      "\n",
      "------------------------------\n",
      "DISTRICT 29\n",
      "------------------------------\n",
      "\n",
      "\n",
      "Microsoft Word - DOI Plan draft.docx Whiteface CISD District of Innovation Plan August 2017 – May 2022 Established by HB 1842 in the 84th Legislative Session, Districts of Innovation can obtain exemption from certain provision of the Texas Education Code. The intent of the bill is to increase local control over district operations and to support innovative and local initiatives. The District of Innovation Plan will be created by a board-appointed District of Innovation Committee, including administration and teachers, as well as parent, community, and business representatives. The adoption of the plan will provide the opportunity for district flexibility in order to improve educational outcomes and better meet the needs of unique learners. District of Innovation Timeline: 2-9-17 WCISD Board of Trustees hold a public meeting to discuss District of Innovation 2-9-17 WCISD Board of Trustees passes a resolution to initiate consideration for being designated as a District of Innovation 2-9-17 WCISD Board of Trustees appoints the District of Innovation Committee February-March District of Innovation Committee completes plan and holds Public Meeting to consider and approve the final version. Upon approval by Committee, plan is posted to the district website for 30 days. 3-16-17 WCISD Board of Trustees reviewed final plan recommendation sfrom District of Innovation Committee 3-16-17 WCISD Board of Trustees voted to notify the Commissioner of intent to adopt 4-10-17 WCISD Board of Trustees adopted final plan for implementation in August 2017 4-26-17 Final plan submitted to the Commissioner District of Innovation Committee Cassidy McBrayer, Superintendent Chris Mendez, HS Principal Scott Lucas, Elementary Principal Jim Gruhlkey, HS Teacher Cindy Chapman, HS Teacher Staci Brown, Middle School Teacher Eliseo Rocha, HS Teacher Lacy Timmons, Elementary Teacher Emily Terry, Elementary Teacher Belinda Rose, Elementary Teacher Melanie Gruhlkey, Elementary Teacher Nancy Brewer, DEIC Parent Representative Steve Mosley, DEIC Community Representative Mary Brown, DEIC Business Representative VISION STATEMENT FOR WHITEFACE CISD Whiteface CISD focuses on the student of least concern to meet the needs of all students. Student needs will be met first academically and the school environment will foster the abilities of each student to maximize individual success for future service to our nation and the world. MISSION STATEMENT FOR WHITEFACE CISD The Whiteface CISD Board of Trustees and the School Administration believes that every child is important and possesses unique needs and abilities. Whiteface CISD is committed to providing an education that will allow each student to become a productive citizen. GOALS FOR WHITEFACE CISD 1.Student Programs Each child will be educated to his/her potential academically, socially, physically, morally and ethically. 2.Staff Development Whiteface CISD will employ and develop a staff and will uphold high expectations of professionalism, accountability and ethics. 3.Curriculum The Board of Trustees and Administration will develop a curriculum that will demonstrate exemplary performance in reading, writing, mathematics, science, social studies, physical education, and fine arts. 4.Technology The Board of Trustees and Administration will ensure that every student has access to the best technological equipment and knowledge possible. 5.Involvement The Board of Trustees and administration will promote alliances with businesses and parents and ensure that staff and students will perform their responsibilities to the best of their ability. 6.Finance The Board of Trustees and Administration will ensure that School District funds are appropriated and spent in the spirit of accountability and good stewardship. District of Innovation Plan As outlined by the Texas Education Agency, the term of the Innovation Plan is five years. The plan will commence at the beginning of the 2017-18 school year and expire at the end of the 2021-22 \n"
     ]
    }
   ],
   "source": [
    "# Make first 30 documents easy to read.\n",
    "for i, v in enumerate(text_narrowed.loc[:,:]['text'][0:30]):\n",
    "    print('\\n')\n",
    "    print('-'*30)\n",
    "    print('DISTRICT {}'.format(i))\n",
    "    print('-'*30)\n",
    "    print('\\n')\n",
    "    print(v[0:4000])"
   ]
  },
  {
   "cell_type": "markdown",
   "metadata": {},
   "source": [
    "## Narrowed Descriptives"
   ]
  },
  {
   "cell_type": "code",
   "execution_count": 12,
   "metadata": {
    "collapsed": true
   },
   "outputs": [],
   "source": [
    "test = pd.read_csv(os.path.join(data_path, 'text_narrowed.csv'))\n",
    "test = test[test.text != '']"
   ]
  },
  {
   "cell_type": "code",
   "execution_count": 13,
   "metadata": {},
   "outputs": [
    {
     "name": "stdout",
     "output_type": "stream",
     "text": [
      "Average probability of DOI classification:  0.6988151844010362\n",
      "SD of DOI classification:  0.44646352908745485\n",
      "Number of documents w/<.2 probability of DOI classification:  234\n"
     ]
    }
   ],
   "source": [
    "print('Average probability of DOI classification: ', test.p_innovation.mean())\n",
    "print('SD of DOI classification: ',test.p_innovation.std())\n",
    "print('Number of documents w/<.2 probability of DOI classification: ', len(test[test.p_innovation < .2]))"
   ]
  },
  {
   "cell_type": "code",
   "execution_count": null,
   "metadata": {
    "collapsed": true
   },
   "outputs": [],
   "source": []
  }
 ],
 "metadata": {
  "kernelspec": {
   "display_name": "Python [conda env:spacy]",
   "language": "python",
   "name": "conda-env-spacy-py"
  },
  "language_info": {
   "codemirror_mode": {
    "name": "ipython",
    "version": 3
   },
   "file_extension": ".py",
   "mimetype": "text/x-python",
   "name": "python",
   "nbconvert_exporter": "python",
   "pygments_lexer": "ipython3",
   "version": "3.7.2"
  }
 },
 "nbformat": 4,
 "nbformat_minor": 2
}
