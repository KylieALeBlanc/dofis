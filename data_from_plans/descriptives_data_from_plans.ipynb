{
 "cells": [
  {
   "cell_type": "markdown",
   "metadata": {},
   "source": [
    "# Basic Descriptives of Dataset"
   ]
  },
  {
   "cell_type": "code",
   "execution_count": 25,
   "metadata": {},
   "outputs": [
    {
     "data": {
      "text/plain": [
       "'../../data/plans/../clean'"
      ]
     },
     "execution_count": 25,
     "metadata": {},
     "output_type": "execute_result"
    }
   ],
   "source": [
    "import os\n",
    "import pandas as pd\n",
    "import numpy as np\n",
    "from start import data_path\n",
    "data_path = data_path + '/../clean'\n",
    "data_path"
   ]
  },
  {
   "cell_type": "code",
   "execution_count": 26,
   "metadata": {},
   "outputs": [
    {
     "data": {
      "text/html": [
       "<div>\n",
       "<style scoped>\n",
       "    .dataframe tbody tr th:only-of-type {\n",
       "        vertical-align: middle;\n",
       "    }\n",
       "\n",
       "    .dataframe tbody tr th {\n",
       "        vertical-align: top;\n",
       "    }\n",
       "\n",
       "    .dataframe thead th {\n",
       "        text-align: right;\n",
       "    }\n",
       "</style>\n",
       "<table border=\"1\" class=\"dataframe\">\n",
       "  <thead>\n",
       "    <tr style=\"text-align: right;\">\n",
       "      <th></th>\n",
       "      <th>Unnamed: 0</th>\n",
       "      <th>district</th>\n",
       "      <th>link</th>\n",
       "      <th>p_doi</th>\n",
       "      <th>term_phrase</th>\n",
       "      <th>term_year</th>\n",
       "      <th>finalize_phrase</th>\n",
       "      <th>finalize_year</th>\n",
       "      <th>finalize_month</th>\n",
       "      <th>doi_year</th>\n",
       "      <th>...</th>\n",
       "      <th>reg545_207</th>\n",
       "      <th>reg55_0811</th>\n",
       "      <th>reg551_001</th>\n",
       "      <th>reg552_023</th>\n",
       "      <th>reg552_024</th>\n",
       "      <th>reg7_056</th>\n",
       "      <th>reg75_600</th>\n",
       "      <th>reg921_406</th>\n",
       "      <th>reg97_1001</th>\n",
       "      <th>reg97_1055</th>\n",
       "    </tr>\n",
       "  </thead>\n",
       "  <tbody>\n",
       "    <tr>\n",
       "      <th>0</th>\n",
       "      <td>0</td>\n",
       "      <td>Abbott ISD</td>\n",
       "      <td>https://www.abbottisd.org/ourpages/auto/2018/3...</td>\n",
       "      <td>0.999949</td>\n",
       "      <td>for the next five years (March 2018-February 2...</td>\n",
       "      <td>2018.0</td>\n",
       "      <td>Abbott Independent School District District of...</td>\n",
       "      <td>2018.0</td>\n",
       "      <td>March</td>\n",
       "      <td>2018.0</td>\n",
       "      <td>...</td>\n",
       "      <td>0</td>\n",
       "      <td>0</td>\n",
       "      <td>0</td>\n",
       "      <td>0</td>\n",
       "      <td>0</td>\n",
       "      <td>0</td>\n",
       "      <td>0</td>\n",
       "      <td>0</td>\n",
       "      <td>0</td>\n",
       "      <td>0</td>\n",
       "    </tr>\n",
       "    <tr>\n",
       "      <th>1</th>\n",
       "      <td>1</td>\n",
       "      <td>Abernathy ISD</td>\n",
       "      <td>https://1.cdn.edl.io/epGD4mZXjWUcPl8yA7IhlcDol...</td>\n",
       "      <td>0.998340</td>\n",
       "      <td>of Innovation Plan â Draft Introduction Hous...</td>\n",
       "      <td>2017.0</td>\n",
       "      <td>the Texas Education Code. On Thursday, January...</td>\n",
       "      <td>2017.0</td>\n",
       "      <td>January</td>\n",
       "      <td>2017.0</td>\n",
       "      <td>...</td>\n",
       "      <td>0</td>\n",
       "      <td>0</td>\n",
       "      <td>0</td>\n",
       "      <td>0</td>\n",
       "      <td>0</td>\n",
       "      <td>0</td>\n",
       "      <td>0</td>\n",
       "      <td>0</td>\n",
       "      <td>0</td>\n",
       "      <td>0</td>\n",
       "    </tr>\n",
       "    <tr>\n",
       "      <th>2</th>\n",
       "      <td>2</td>\n",
       "      <td>Abilene ISD</td>\n",
       "      <td>https://www.abileneisd.org/wp-content/uploads/...</td>\n",
       "      <td>0.999955</td>\n",
       "      <td>ABILENE INDEPENDENT SCHOOL DISTRICT Local Inno...</td>\n",
       "      <td>2018.0</td>\n",
       "      <td>the AISD Board of Trustees April 9, 2018 1 Boa...</td>\n",
       "      <td>2018.0</td>\n",
       "      <td>April</td>\n",
       "      <td>2018.0</td>\n",
       "      <td>...</td>\n",
       "      <td>0</td>\n",
       "      <td>0</td>\n",
       "      <td>0</td>\n",
       "      <td>0</td>\n",
       "      <td>0</td>\n",
       "      <td>0</td>\n",
       "      <td>0</td>\n",
       "      <td>0</td>\n",
       "      <td>0</td>\n",
       "      <td>0</td>\n",
       "    </tr>\n",
       "    <tr>\n",
       "      <th>3</th>\n",
       "      <td>3</td>\n",
       "      <td>Academy ISD</td>\n",
       "      <td>https://4.files.edl.io/1a8f/06/29/18/204245-44...</td>\n",
       "      <td>0.999836</td>\n",
       "      <td>2018-2019 school year and concluding at the en...</td>\n",
       "      <td>2018.0</td>\n",
       "      <td>regularly scheduled board meeting on June 28, ...</td>\n",
       "      <td>2018.0</td>\n",
       "      <td>June</td>\n",
       "      <td>2018.0</td>\n",
       "      <td>...</td>\n",
       "      <td>0</td>\n",
       "      <td>0</td>\n",
       "      <td>0</td>\n",
       "      <td>0</td>\n",
       "      <td>0</td>\n",
       "      <td>0</td>\n",
       "      <td>0</td>\n",
       "      <td>0</td>\n",
       "      <td>0</td>\n",
       "      <td>0</td>\n",
       "    </tr>\n",
       "    <tr>\n",
       "      <th>4</th>\n",
       "      <td>4</td>\n",
       "      <td>Adrian ISD</td>\n",
       "      <td>http://www.adrianisd.net/UserFiles/Servers/Ser...</td>\n",
       "      <td>0.999945</td>\n",
       "      <td>term of up to five years beginning June 2018 a...</td>\n",
       "      <td>2018.0</td>\n",
       "      <td>NaN</td>\n",
       "      <td>NaN</td>\n",
       "      <td>NaN</td>\n",
       "      <td>2018.0</td>\n",
       "      <td>...</td>\n",
       "      <td>0</td>\n",
       "      <td>0</td>\n",
       "      <td>0</td>\n",
       "      <td>0</td>\n",
       "      <td>0</td>\n",
       "      <td>0</td>\n",
       "      <td>0</td>\n",
       "      <td>0</td>\n",
       "      <td>0</td>\n",
       "      <td>0</td>\n",
       "    </tr>\n",
       "  </tbody>\n",
       "</table>\n",
       "<p>5 rows × 309 columns</p>\n",
       "</div>"
      ],
      "text/plain": [
       "   Unnamed: 0       district  \\\n",
       "0           0     Abbott ISD   \n",
       "1           1  Abernathy ISD   \n",
       "2           2    Abilene ISD   \n",
       "3           3    Academy ISD   \n",
       "4           4     Adrian ISD   \n",
       "\n",
       "                                                link     p_doi  \\\n",
       "0  https://www.abbottisd.org/ourpages/auto/2018/3...  0.999949   \n",
       "1  https://1.cdn.edl.io/epGD4mZXjWUcPl8yA7IhlcDol...  0.998340   \n",
       "2  https://www.abileneisd.org/wp-content/uploads/...  0.999955   \n",
       "3  https://4.files.edl.io/1a8f/06/29/18/204245-44...  0.999836   \n",
       "4  http://www.adrianisd.net/UserFiles/Servers/Ser...  0.999945   \n",
       "\n",
       "                                         term_phrase  term_year  \\\n",
       "0  for the next five years (March 2018-February 2...     2018.0   \n",
       "1  of Innovation Plan â Draft Introduction Hous...     2017.0   \n",
       "2  ABILENE INDEPENDENT SCHOOL DISTRICT Local Inno...     2018.0   \n",
       "3  2018-2019 school year and concluding at the en...     2018.0   \n",
       "4  term of up to five years beginning June 2018 a...     2018.0   \n",
       "\n",
       "                                     finalize_phrase  finalize_year  \\\n",
       "0  Abbott Independent School District District of...         2018.0   \n",
       "1  the Texas Education Code. On Thursday, January...         2017.0   \n",
       "2  the AISD Board of Trustees April 9, 2018 1 Boa...         2018.0   \n",
       "3  regularly scheduled board meeting on June 28, ...         2018.0   \n",
       "4                                                NaN            NaN   \n",
       "\n",
       "  finalize_month  doi_year     ...      reg545_207  reg55_0811  reg551_001  \\\n",
       "0          March    2018.0     ...               0           0           0   \n",
       "1        January    2017.0     ...               0           0           0   \n",
       "2          April    2018.0     ...               0           0           0   \n",
       "3           June    2018.0     ...               0           0           0   \n",
       "4            NaN    2018.0     ...               0           0           0   \n",
       "\n",
       "   reg552_023  reg552_024  reg7_056  reg75_600  reg921_406  reg97_1001  \\\n",
       "0           0           0         0          0           0           0   \n",
       "1           0           0         0          0           0           0   \n",
       "2           0           0         0          0           0           0   \n",
       "3           0           0         0          0           0           0   \n",
       "4           0           0         0          0           0           0   \n",
       "\n",
       "   reg97_1055  \n",
       "0           0  \n",
       "1           0  \n",
       "2           0  \n",
       "3           0  \n",
       "4           0  \n",
       "\n",
       "[5 rows x 309 columns]"
      ]
     },
     "execution_count": 26,
     "metadata": {},
     "output_type": "execute_result"
    }
   ],
   "source": [
    "data = pd.read_csv(os.path.join(data_path, 'doi_final.csv'))\n",
    "data.head()"
   ]
  },
  {
   "cell_type": "markdown",
   "metadata": {},
   "source": [
    "## Count DOIs as of March 2019"
   ]
  },
  {
   "cell_type": "code",
   "execution_count": 27,
   "metadata": {},
   "outputs": [
    {
     "data": {
      "text/plain": [
       "824"
      ]
     },
     "execution_count": 27,
     "metadata": {},
     "output_type": "execute_result"
    }
   ],
   "source": [
    "len(data)"
   ]
  },
  {
   "cell_type": "code",
   "execution_count": 28,
   "metadata": {},
   "outputs": [
    {
     "data": {
      "text/plain": [
       "824"
      ]
     },
     "execution_count": 28,
     "metadata": {},
     "output_type": "execute_result"
    }
   ],
   "source": [
    "data.district.nunique()"
   ]
  },
  {
   "cell_type": "markdown",
   "metadata": {},
   "source": [
    "## Count DOIs by Implementation Year"
   ]
  },
  {
   "cell_type": "code",
   "execution_count": 29,
   "metadata": {},
   "outputs": [
    {
     "data": {
      "text/plain": [
       "776"
      ]
     },
     "execution_count": 29,
     "metadata": {},
     "output_type": "execute_result"
    }
   ],
   "source": [
    "len(data[pd.notnull(data.doi_year)])"
   ]
  },
  {
   "cell_type": "code",
   "execution_count": 30,
   "metadata": {},
   "outputs": [
    {
     "data": {
      "text/plain": [
       "2017.0    552\n",
       "2018.0    124\n",
       "2016.0     75\n",
       "2019.0     24\n",
       "2020.0      1\n",
       "Name: doi_year, dtype: int64"
      ]
     },
     "execution_count": 30,
     "metadata": {},
     "output_type": "execute_result"
    }
   ],
   "source": [
    "data.doi_year.value_counts()"
   ]
  }
 ],
 "metadata": {
  "kernelspec": {
   "display_name": "Python [conda env:spacy]",
   "language": "python",
   "name": "conda-env-spacy-py"
  },
  "language_info": {
   "codemirror_mode": {
    "name": "ipython",
    "version": 3
   },
   "file_extension": ".py",
   "mimetype": "text/x-python",
   "name": "python",
   "nbconvert_exporter": "python",
   "pygments_lexer": "ipython3",
   "version": "3.7.0"
  }
 },
 "nbformat": 4,
 "nbformat_minor": 2
}
