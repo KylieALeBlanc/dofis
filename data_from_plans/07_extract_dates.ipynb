{
 "cells": [
  {
   "cell_type": "markdown",
   "metadata": {},
   "source": [
    "# Extract dates from text"
   ]
  },
  {
   "cell_type": "code",
   "execution_count": 1,
   "metadata": {},
   "outputs": [],
   "source": [
    "import os\n",
    "import pandas as pd\n",
    "import extract_dates\n",
    "import spacy\n",
    "from start import data_path"
   ]
  },
  {
   "cell_type": "code",
   "execution_count": 7,
   "metadata": {},
   "outputs": [],
   "source": [
    "docs = pd.read_csv(os.path.join(data_path, 'text_narrowed.csv'))"
   ]
  },
  {
   "cell_type": "markdown",
   "metadata": {},
   "source": [
    "## Term Dates\n",
    "Identify most likely term date phrase from text using classifier. Extract earliest year (and month, if available) from that phrase. "
   ]
  },
  {
   "cell_type": "code",
   "execution_count": 9,
   "metadata": {},
   "outputs": [],
   "source": [
    "output_dir = os.path.join(data_path, 'date_term_classifier')\n",
    "nlp = spacy.load(output_dir)"
   ]
  },
  {
   "cell_type": "code",
   "execution_count": 10,
   "metadata": {},
   "outputs": [],
   "source": [
    "start_dates = []\n",
    "date_phrases = []\n",
    "p_terms = []\n",
    "months = []\n",
    "for text in docs.text:\n",
    "    year, month, phrase, p = extract_dates.get_term_date_and_phrase(text, output_dir)\n",
    "    start_dates.append(year)\n",
    "    months.append(month)\n",
    "    date_phrases.append(phrase)        \n",
    "    p_terms.append(p)"
   ]
  },
  {
   "cell_type": "code",
   "execution_count": 11,
   "metadata": {},
   "outputs": [],
   "source": [
    "docs['term_year'] = start_dates\n",
    "docs['term_month'] = months\n",
    "docs['term_phrase'] = date_phrases\n",
    "docs['term_p'] = p_terms"
   ]
  },
  {
   "cell_type": "markdown",
   "metadata": {},
   "source": [
    "## Finalize plan date\n",
    "Identify most likely finalize date phrase from text using classifier and use latest (in terms of both year and month) as the date of finalization. "
   ]
  },
  {
   "cell_type": "code",
   "execution_count": 12,
   "metadata": {},
   "outputs": [],
   "source": [
    "output_dir = os.path.join(data_path, 'date_finalize_classifier')\n",
    "nlp = spacy.load(output_dir)"
   ]
  },
  {
   "cell_type": "code",
   "execution_count": 13,
   "metadata": {},
   "outputs": [],
   "source": [
    "finalize_years = []\n",
    "finalize_months = []\n",
    "finalize_phrases = []\n",
    "finalize_p = []\n",
    "for text in docs.text:\n",
    "    year, month, phrase, p  = extract_dates.get_finalize_month_year_phrase(text, output_dir)\n",
    "    finalize_years.append(year)\n",
    "    finalize_months.append(month)\n",
    "    finalize_phrases.append(phrase)\n",
    "    finalize_p.append(p)"
   ]
  },
  {
   "cell_type": "code",
   "execution_count": 14,
   "metadata": {},
   "outputs": [],
   "source": [
    "docs['finalize_year'] = finalize_years\n",
    "docs['finalize_month'] = finalize_months\n",
    "docs['finalize_phrase'] = finalize_phrases\n",
    "docs['finalize_p'] = finalize_p"
   ]
  },
  {
   "cell_type": "markdown",
   "metadata": {},
   "source": [
    "# Create year and month column\n",
    "For now, term is prioritized. If there is a likely term year (> .9 probability) use that year as the term year. If there is a month, extract that as well. If there is no month, we assume the term is referring to an academic year. \n",
    "\n",
    "If there is no term phrase, use the finalize phrase instead."
   ]
  },
  {
   "cell_type": "code",
   "execution_count": 31,
   "metadata": {},
   "outputs": [
    {
     "data": {
      "text/html": [
       "<div>\n",
       "<style scoped>\n",
       "    .dataframe tbody tr th:only-of-type {\n",
       "        vertical-align: middle;\n",
       "    }\n",
       "\n",
       "    .dataframe tbody tr th {\n",
       "        vertical-align: top;\n",
       "    }\n",
       "\n",
       "    .dataframe thead th {\n",
       "        text-align: right;\n",
       "    }\n",
       "</style>\n",
       "<table border=\"1\" class=\"dataframe\">\n",
       "  <thead>\n",
       "    <tr style=\"text-align: right;\">\n",
       "      <th></th>\n",
       "      <th>Unnamed: 0</th>\n",
       "      <th>Unnamed: 0.1</th>\n",
       "      <th>Unnamed: 0.1.1</th>\n",
       "      <th>Unnamed: 0.1.1.1</th>\n",
       "      <th>title</th>\n",
       "      <th>level</th>\n",
       "      <th>type</th>\n",
       "      <th>link</th>\n",
       "      <th>text</th>\n",
       "      <th>p_innovation</th>\n",
       "      <th>...</th>\n",
       "      <th>finalize_month</th>\n",
       "      <th>finalize_phrase</th>\n",
       "      <th>finalize_p</th>\n",
       "      <th>date_year</th>\n",
       "      <th>date_month</th>\n",
       "      <th>date_phrase</th>\n",
       "      <th>date_ay</th>\n",
       "      <th>test</th>\n",
       "      <th>test.x</th>\n",
       "      <th>test.y</th>\n",
       "    </tr>\n",
       "  </thead>\n",
       "  <tbody>\n",
       "    <tr>\n",
       "      <th>0</th>\n",
       "      <td>1323</td>\n",
       "      <td>1323</td>\n",
       "      <td>1323</td>\n",
       "      <td>1451</td>\n",
       "      <td>Lake Travis ISD</td>\n",
       "      <td>Second</td>\n",
       "      <td>pdf</td>\n",
       "      <td>https://www.ltisdschools.org//cms/lib/Tx018000...</td>\n",
       "      <td>LTISD Plan of Innovation LAKE TRAVIS INDEPENDE...</td>\n",
       "      <td>0.999945</td>\n",
       "      <td>...</td>\n",
       "      <td>December</td>\n",
       "      <td>hold a public meeting on December 13, 2016 to ...</td>\n",
       "      <td>0.996723</td>\n",
       "      <td>2017.0</td>\n",
       "      <td></td>\n",
       "      <td>: 1. Beginning with the 2017-2018 academic yea...</td>\n",
       "      <td>2017.0</td>\n",
       "      <td>&lt;zip object at 0x11f833048&gt;</td>\n",
       "      <td>999</td>\n",
       "      <td></td>\n",
       "    </tr>\n",
       "    <tr>\n",
       "      <th>1</th>\n",
       "      <td>1913</td>\n",
       "      <td>1913</td>\n",
       "      <td>1913</td>\n",
       "      <td>2108</td>\n",
       "      <td>Zephyr ISD</td>\n",
       "      <td>Second</td>\n",
       "      <td>docx</td>\n",
       "      <td>http://zephyrisd.net/wp-content/uploads/2014/0...</td>\n",
       "      <td>Zephyr ISD District of Innovation Plan Introdu...</td>\n",
       "      <td>0.999955</td>\n",
       "      <td>...</td>\n",
       "      <td>April</td>\n",
       "      <td>go to the Board on April 16th, 2018. Term The ...</td>\n",
       "      <td>0.889274</td>\n",
       "      <td>2018.0</td>\n",
       "      <td>September</td>\n",
       "      <td>Term The District of Innovation Plan will beco...</td>\n",
       "      <td>2018.0</td>\n",
       "      <td>&lt;zip object at 0x11f833048&gt;</td>\n",
       "      <td>2018</td>\n",
       "      <td>September</td>\n",
       "    </tr>\n",
       "    <tr>\n",
       "      <th>2</th>\n",
       "      <td>1895</td>\n",
       "      <td>1895</td>\n",
       "      <td>1895</td>\n",
       "      <td>2089</td>\n",
       "      <td>Zavalla ISD</td>\n",
       "      <td>Second</td>\n",
       "      <td>pdf</td>\n",
       "      <td>https://s3.amazonaws.com/scschoolfiles/1772/za...</td>\n",
       "      <td>Zavalla ISD District of Innovation Plan (HB 18...</td>\n",
       "      <td>0.999955</td>\n",
       "      <td>...</td>\n",
       "      <td>February</td>\n",
       "      <td>27,2017 Final version plan posted January 27, ...</td>\n",
       "      <td>0.999955</td>\n",
       "      <td>2017.0</td>\n",
       "      <td></td>\n",
       "      <td>This plan will be in effect for the 2017-2018 ...</td>\n",
       "      <td>2017.0</td>\n",
       "      <td>&lt;zip object at 0x11f833048&gt;</td>\n",
       "      <td>999</td>\n",
       "      <td></td>\n",
       "    </tr>\n",
       "    <tr>\n",
       "      <th>3</th>\n",
       "      <td>577</td>\n",
       "      <td>577</td>\n",
       "      <td>577</td>\n",
       "      <td>596</td>\n",
       "      <td>Zapata County ISD</td>\n",
       "      <td>Second</td>\n",
       "      <td>pdf</td>\n",
       "      <td>https://1.cdn.edl.io/VZ6fi1M6pn8Qk8tS3GetGewCD...</td>\n",
       "      <td>Not a plan</td>\n",
       "      <td>0.249567</td>\n",
       "      <td>...</td>\n",
       "      <td></td>\n",
       "      <td></td>\n",
       "      <td>0.000000</td>\n",
       "      <td>-999.0</td>\n",
       "      <td></td>\n",
       "      <td></td>\n",
       "      <td>-999.0</td>\n",
       "      <td>&lt;zip object at 0x11f833048&gt;</td>\n",
       "      <td>999</td>\n",
       "      <td></td>\n",
       "    </tr>\n",
       "    <tr>\n",
       "      <th>4</th>\n",
       "      <td>1784</td>\n",
       "      <td>1784</td>\n",
       "      <td>1784</td>\n",
       "      <td>1967</td>\n",
       "      <td>Yorktown ISD</td>\n",
       "      <td>Second</td>\n",
       "      <td>pdf</td>\n",
       "      <td>http://www.yisd.org/userfiles/57/my%20files/fi...</td>\n",
       "      <td>Yorktown Independent School District Final Dis...</td>\n",
       "      <td>0.999955</td>\n",
       "      <td>...</td>\n",
       "      <td>May</td>\n",
       "      <td>of the letter. On May 15, 2017 the District Co...</td>\n",
       "      <td>0.972258</td>\n",
       "      <td>2017.0</td>\n",
       "      <td></td>\n",
       "      <td>Yorktown Independent School District Final Dis...</td>\n",
       "      <td>2017.0</td>\n",
       "      <td>&lt;zip object at 0x11f833048&gt;</td>\n",
       "      <td>999</td>\n",
       "      <td></td>\n",
       "    </tr>\n",
       "  </tbody>\n",
       "</table>\n",
       "<p>5 rows × 25 columns</p>\n",
       "</div>"
      ],
      "text/plain": [
       "   Unnamed: 0  Unnamed: 0.1  Unnamed: 0.1.1  Unnamed: 0.1.1.1  \\\n",
       "0        1323          1323            1323              1451   \n",
       "1        1913          1913            1913              2108   \n",
       "2        1895          1895            1895              2089   \n",
       "3         577           577             577               596   \n",
       "4        1784          1784            1784              1967   \n",
       "\n",
       "               title   level  type  \\\n",
       "0    Lake Travis ISD  Second   pdf   \n",
       "1         Zephyr ISD  Second  docx   \n",
       "2        Zavalla ISD  Second   pdf   \n",
       "3  Zapata County ISD  Second   pdf   \n",
       "4       Yorktown ISD  Second   pdf   \n",
       "\n",
       "                                                link  \\\n",
       "0  https://www.ltisdschools.org//cms/lib/Tx018000...   \n",
       "1  http://zephyrisd.net/wp-content/uploads/2014/0...   \n",
       "2  https://s3.amazonaws.com/scschoolfiles/1772/za...   \n",
       "3  https://1.cdn.edl.io/VZ6fi1M6pn8Qk8tS3GetGewCD...   \n",
       "4  http://www.yisd.org/userfiles/57/my%20files/fi...   \n",
       "\n",
       "                                                text  p_innovation  ...  \\\n",
       "0  LTISD Plan of Innovation LAKE TRAVIS INDEPENDE...      0.999945  ...   \n",
       "1  Zephyr ISD District of Innovation Plan Introdu...      0.999955  ...   \n",
       "2  Zavalla ISD District of Innovation Plan (HB 18...      0.999955  ...   \n",
       "3                                         Not a plan      0.249567  ...   \n",
       "4  Yorktown Independent School District Final Dis...      0.999955  ...   \n",
       "\n",
       "   finalize_month                                    finalize_phrase  \\\n",
       "0        December  hold a public meeting on December 13, 2016 to ...   \n",
       "1           April  go to the Board on April 16th, 2018. Term The ...   \n",
       "2        February  27,2017 Final version plan posted January 27, ...   \n",
       "3                                                                      \n",
       "4             May  of the letter. On May 15, 2017 the District Co...   \n",
       "\n",
       "  finalize_p  date_year  date_month  \\\n",
       "0   0.996723     2017.0               \n",
       "1   0.889274     2018.0   September   \n",
       "2   0.999955     2017.0               \n",
       "3   0.000000     -999.0               \n",
       "4   0.972258     2017.0               \n",
       "\n",
       "                                         date_phrase date_ay  \\\n",
       "0  : 1. Beginning with the 2017-2018 academic yea...  2017.0   \n",
       "1  Term The District of Innovation Plan will beco...  2018.0   \n",
       "2  This plan will be in effect for the 2017-2018 ...  2017.0   \n",
       "3                                                     -999.0   \n",
       "4  Yorktown Independent School District Final Dis...  2017.0   \n",
       "\n",
       "                          test  test.x     test.y  \n",
       "0  <zip object at 0x11f833048>     999             \n",
       "1  <zip object at 0x11f833048>    2018  September  \n",
       "2  <zip object at 0x11f833048>     999             \n",
       "3  <zip object at 0x11f833048>     999             \n",
       "4  <zip object at 0x11f833048>     999             \n",
       "\n",
       "[5 rows x 25 columns]"
      ]
     },
     "execution_count": 31,
     "metadata": {},
     "output_type": "execute_result"
    }
   ],
   "source": [
    "docs.loc[docs.term_p >= .9, 'date_year'] = docs.term_year\n",
    "docs.loc[docs.term_p >= .9, 'date_month'] = docs.term_month\n",
    "docs.loc[docs.term_p >= .9, 'date_phrase'] = docs.term_phrase\n",
    "\n",
    "docs.loc[docs.term_p < .9, 'date_year'] = docs.finalize_year\n",
    "docs.loc[docs.term_p < .9, 'date_month'] = docs.finalize_month\n",
    "docs.loc[docs.term_p < .9, 'date_phrase'] = docs.finalize_phrase\n",
    "\n",
    "docs.head()"
   ]
  },
  {
   "cell_type": "markdown",
   "metadata": {},
   "source": [
    "# Save"
   ]
  },
  {
   "cell_type": "code",
   "execution_count": 19,
   "metadata": {},
   "outputs": [],
   "source": [
    "docs.to_csv(os.path.join(data_path, 'doi_dates_scraped.csv'))"
   ]
  },
  {
   "cell_type": "code",
   "execution_count": 20,
   "metadata": {},
   "outputs": [
    {
     "data": {
      "text/plain": [
       "824"
      ]
     },
     "execution_count": 20,
     "metadata": {},
     "output_type": "execute_result"
    }
   ],
   "source": [
    "len(docs)"
   ]
  }
 ],
 "metadata": {
  "kernelspec": {
   "display_name": "Python [default]",
   "language": "python",
   "name": "python3"
  },
  "language_info": {
   "codemirror_mode": {
    "name": "ipython",
    "version": 3
   },
   "file_extension": ".py",
   "mimetype": "text/x-python",
   "name": "python",
   "nbconvert_exporter": "python",
   "pygments_lexer": "ipython3",
   "version": "3.7.2"
  }
 },
 "nbformat": 4,
 "nbformat_minor": 4
}
