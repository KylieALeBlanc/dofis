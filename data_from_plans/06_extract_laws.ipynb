{
 "cells": [
  {
   "cell_type": "code",
   "execution_count": 1,
   "metadata": {
    "collapsed": true
   },
   "outputs": [],
   "source": [
    "import pandas as pd\n",
    "import os\n",
    "from start import data_path\n",
    "import extract_laws"
   ]
  },
  {
   "cell_type": "code",
   "execution_count": 2,
   "metadata": {
    "collapsed": true
   },
   "outputs": [],
   "source": [
    "import re\n",
    "import spacy\n",
    "import pandas as pd\n"
   ]
  },
  {
   "cell_type": "code",
   "execution_count": 3,
   "metadata": {
    "collapsed": true
   },
   "outputs": [],
   "source": [
    "docs = pd.read_csv(os.path.join(data_path, 'text_narrowed.csv'))"
   ]
  },
  {
   "cell_type": "code",
   "execution_count": 4,
   "metadata": {
    "scrolled": true
   },
   "outputs": [
    {
     "data": {
      "text/html": [
       "<div>\n",
       "<style scoped>\n",
       "    .dataframe tbody tr th:only-of-type {\n",
       "        vertical-align: middle;\n",
       "    }\n",
       "\n",
       "    .dataframe tbody tr th {\n",
       "        vertical-align: top;\n",
       "    }\n",
       "\n",
       "    .dataframe thead th {\n",
       "        text-align: right;\n",
       "    }\n",
       "</style>\n",
       "<table border=\"1\" class=\"dataframe\">\n",
       "  <thead>\n",
       "    <tr style=\"text-align: right;\">\n",
       "      <th></th>\n",
       "      <th>Unnamed: 0</th>\n",
       "      <th>Unnamed: 0.1</th>\n",
       "      <th>Unnamed: 0.1.1</th>\n",
       "      <th>title</th>\n",
       "      <th>level</th>\n",
       "      <th>type</th>\n",
       "      <th>link</th>\n",
       "      <th>text</th>\n",
       "      <th>p_innovation</th>\n",
       "      <th>possible_laws</th>\n",
       "    </tr>\n",
       "  </thead>\n",
       "  <tbody>\n",
       "    <tr>\n",
       "      <th>0</th>\n",
       "      <td>1323</td>\n",
       "      <td>1323</td>\n",
       "      <td>1451</td>\n",
       "      <td>Lake Travis ISD</td>\n",
       "      <td>Second</td>\n",
       "      <td>pdf</td>\n",
       "      <td>https://www.ltisdschools.org//cms/lib/Tx018000...</td>\n",
       "      <td>LTISD Plan of Innovation LAKE TRAVIS INDEPENDE...</td>\n",
       "      <td>0.999890</td>\n",
       "      <td>[21.352, 21.057, 25.112, 22.102, 25.0811, 21.0...</td>\n",
       "    </tr>\n",
       "    <tr>\n",
       "      <th>1</th>\n",
       "      <td>1913</td>\n",
       "      <td>1913</td>\n",
       "      <td>2108</td>\n",
       "      <td>Zephyr ISD</td>\n",
       "      <td>Second</td>\n",
       "      <td>docx</td>\n",
       "      <td>http://zephyrisd.net/wp-content/uploads/2014/0...</td>\n",
       "      <td>Zephyr ISD District of Innovation Plan Introdu...</td>\n",
       "      <td>0.999922</td>\n",
       "      <td>[25.0811, 25.036, 25.036, 21.102, 25.036, 25.0...</td>\n",
       "    </tr>\n",
       "    <tr>\n",
       "      <th>2</th>\n",
       "      <td>1895</td>\n",
       "      <td>1895</td>\n",
       "      <td>2089</td>\n",
       "      <td>Zavalla ISD</td>\n",
       "      <td>Second</td>\n",
       "      <td>pdf</td>\n",
       "      <td>https://s3.amazonaws.com/scschoolfiles/1772/za...</td>\n",
       "      <td>Zavalla ISD District of Innovation Plan (HB 18...</td>\n",
       "      <td>0.999619</td>\n",
       "      <td>[21.003, 21.057, 21.401, 21.203, 21.352, 25.09...</td>\n",
       "    </tr>\n",
       "    <tr>\n",
       "      <th>3</th>\n",
       "      <td>577</td>\n",
       "      <td>577</td>\n",
       "      <td>596</td>\n",
       "      <td>Zapata County ISD</td>\n",
       "      <td>Second</td>\n",
       "      <td>pdf</td>\n",
       "      <td>https://1.cdn.edl.io/VZ6fi1M6pn8Qk8tS3GetGewCD...</td>\n",
       "      <td>Microsoft Word - Document1 ZAPATA COUNTY INDEP...</td>\n",
       "      <td>0.452118</td>\n",
       "      <td>[39.362, 51.403, 39.306]</td>\n",
       "    </tr>\n",
       "    <tr>\n",
       "      <th>4</th>\n",
       "      <td>1784</td>\n",
       "      <td>1784</td>\n",
       "      <td>1967</td>\n",
       "      <td>Yorktown ISD</td>\n",
       "      <td>Second</td>\n",
       "      <td>pdf</td>\n",
       "      <td>http://www.yisd.org/userfiles/57/my%20files/fi...</td>\n",
       "      <td>Yorktown Independent School District Final Dis...</td>\n",
       "      <td>0.999877</td>\n",
       "      <td>[25.0811, 25.0811, 21.102, 25.082, 21.102, 25....</td>\n",
       "    </tr>\n",
       "  </tbody>\n",
       "</table>\n",
       "</div>"
      ],
      "text/plain": [
       "   Unnamed: 0  Unnamed: 0.1  Unnamed: 0.1.1              title   level  type  \\\n",
       "0        1323          1323            1451    Lake Travis ISD  Second   pdf   \n",
       "1        1913          1913            2108         Zephyr ISD  Second  docx   \n",
       "2        1895          1895            2089        Zavalla ISD  Second   pdf   \n",
       "3         577           577             596  Zapata County ISD  Second   pdf   \n",
       "4        1784          1784            1967       Yorktown ISD  Second   pdf   \n",
       "\n",
       "                                                link  \\\n",
       "0  https://www.ltisdschools.org//cms/lib/Tx018000...   \n",
       "1  http://zephyrisd.net/wp-content/uploads/2014/0...   \n",
       "2  https://s3.amazonaws.com/scschoolfiles/1772/za...   \n",
       "3  https://1.cdn.edl.io/VZ6fi1M6pn8Qk8tS3GetGewCD...   \n",
       "4  http://www.yisd.org/userfiles/57/my%20files/fi...   \n",
       "\n",
       "                                                text  p_innovation  \\\n",
       "0  LTISD Plan of Innovation LAKE TRAVIS INDEPENDE...      0.999890   \n",
       "1  Zephyr ISD District of Innovation Plan Introdu...      0.999922   \n",
       "2  Zavalla ISD District of Innovation Plan (HB 18...      0.999619   \n",
       "3  Microsoft Word - Document1 ZAPATA COUNTY INDEP...      0.452118   \n",
       "4  Yorktown Independent School District Final Dis...      0.999877   \n",
       "\n",
       "                                       possible_laws  \n",
       "0  [21.352, 21.057, 25.112, 22.102, 25.0811, 21.0...  \n",
       "1  [25.0811, 25.036, 25.036, 21.102, 25.036, 25.0...  \n",
       "2  [21.003, 21.057, 21.401, 21.203, 21.352, 25.09...  \n",
       "3                           [39.362, 51.403, 39.306]  \n",
       "4  [25.0811, 25.0811, 21.102, 25.082, 21.102, 25....  "
      ]
     },
     "execution_count": 4,
     "metadata": {},
     "output_type": "execute_result"
    }
   ],
   "source": [
    "docs['possible_laws'] = docs.text.apply(extract_laws.get_laws)\n",
    "docs.head()"
   ]
  },
  {
   "cell_type": "code",
   "execution_count": 5,
   "metadata": {
    "collapsed": true
   },
   "outputs": [],
   "source": [
    "docs.to_csv(os.path.join(data_path, 'doi_exemptions_scraped.csv'))"
   ]
  },
  {
   "cell_type": "markdown",
   "metadata": {},
   "source": [
    "## Validate laws"
   ]
  },
  {
   "cell_type": "code",
   "execution_count": 6,
   "metadata": {
    "collapsed": true
   },
   "outputs": [],
   "source": [
    "test = docs[docs.p_innovation > .9].sample(30, random_state = 117)\n",
    "test['missing_laws'] = ''\n",
    "test['incorrect_laws'] = ''\n",
    "test[['title', 'link', 'possible_laws', 'incorrect_laws']].to_csv((os.path.join(data_path, 'sample_laws.csv')))"
   ]
  },
  {
   "cell_type": "code",
   "execution_count": 7,
   "metadata": {
    "collapsed": true
   },
   "outputs": [],
   "source": [
    "results = pd.read_csv(os.path.join(data_path, 'sample_laws_filledin.csv'))"
   ]
  },
  {
   "cell_type": "code",
   "execution_count": 8,
   "metadata": {},
   "outputs": [
    {
     "data": {
      "text/html": [
       "<div>\n",
       "<style scoped>\n",
       "    .dataframe tbody tr th:only-of-type {\n",
       "        vertical-align: middle;\n",
       "    }\n",
       "\n",
       "    .dataframe tbody tr th {\n",
       "        vertical-align: top;\n",
       "    }\n",
       "\n",
       "    .dataframe thead th {\n",
       "        text-align: right;\n",
       "    }\n",
       "</style>\n",
       "<table border=\"1\" class=\"dataframe\">\n",
       "  <thead>\n",
       "    <tr style=\"text-align: right;\">\n",
       "      <th></th>\n",
       "      <th>Unnamed: 0</th>\n",
       "      <th>title</th>\n",
       "      <th>link</th>\n",
       "      <th>possible_laws</th>\n",
       "      <th>incorrect_laws</th>\n",
       "      <th>gold_standard</th>\n",
       "    </tr>\n",
       "  </thead>\n",
       "  <tbody>\n",
       "    <tr>\n",
       "      <th>0</th>\n",
       "      <td>552</td>\n",
       "      <td>Evant ISD</td>\n",
       "      <td>https://s3.amazonaws.com/scschoolfiles/1553/ev...</td>\n",
       "      <td>[21.401, 25.081, 25.081, 21.003, 25.0811, 21.003]</td>\n",
       "      <td>0.0</td>\n",
       "      <td>[21.401, 25.081, 25.081, 21.003, 25.0811, 21.003]</td>\n",
       "    </tr>\n",
       "    <tr>\n",
       "      <th>1</th>\n",
       "      <td>687</td>\n",
       "      <td>Buna ISD</td>\n",
       "      <td>https://s3.amazonaws.com/scschoolfiles/130/bun...</td>\n",
       "      <td>[25.0811, 21.003, 21.057, 25.0812, 21.053, 25....</td>\n",
       "      <td>1.0</td>\n",
       "      <td>[25.0811, 25.0812, 25.112, 21.003, 21.053, 21....</td>\n",
       "    </tr>\n",
       "    <tr>\n",
       "      <th>2</th>\n",
       "      <td>759</td>\n",
       "      <td>Anson ISD</td>\n",
       "      <td>http://www.ansontigers.com/users/2016-17/Distr...</td>\n",
       "      <td>[25.092, 21.003, 21.102, 25.081, 21.458, 21.00...</td>\n",
       "      <td>2.0</td>\n",
       "      <td>NaN</td>\n",
       "    </tr>\n",
       "    <tr>\n",
       "      <th>3</th>\n",
       "      <td>31</td>\n",
       "      <td>White Deer ISD</td>\n",
       "      <td>http://s3.amazonaws.com/scschoolfiles/1380/whi...</td>\n",
       "      <td>[21.057, 25.0811, 21.003, 28.004, 25.0811, 21....</td>\n",
       "      <td>0.0</td>\n",
       "      <td>[25.0811, 21.003, 21.053, 21.057, 21.401, 25.0...</td>\n",
       "    </tr>\n",
       "    <tr>\n",
       "      <th>4</th>\n",
       "      <td>692</td>\n",
       "      <td>Bryan ISD</td>\n",
       "      <td>https://1.cdn.edl.io/3fzDFgsiJY1q2kNSwlpWOc5xq...</td>\n",
       "      <td>[25.0811, 25.113, 25.092, 21.057, 28.0216, 25....</td>\n",
       "      <td>2.0</td>\n",
       "      <td>[25.0811, 21.003, 25.092, 25.111, 25.112, 25.113]</td>\n",
       "    </tr>\n",
       "  </tbody>\n",
       "</table>\n",
       "</div>"
      ],
      "text/plain": [
       "   Unnamed: 0           title  \\\n",
       "0         552       Evant ISD   \n",
       "1         687        Buna ISD   \n",
       "2         759       Anson ISD   \n",
       "3          31  White Deer ISD   \n",
       "4         692       Bryan ISD   \n",
       "\n",
       "                                                link  \\\n",
       "0  https://s3.amazonaws.com/scschoolfiles/1553/ev...   \n",
       "1  https://s3.amazonaws.com/scschoolfiles/130/bun...   \n",
       "2  http://www.ansontigers.com/users/2016-17/Distr...   \n",
       "3  http://s3.amazonaws.com/scschoolfiles/1380/whi...   \n",
       "4  https://1.cdn.edl.io/3fzDFgsiJY1q2kNSwlpWOc5xq...   \n",
       "\n",
       "                                       possible_laws  incorrect_laws  \\\n",
       "0  [21.401, 25.081, 25.081, 21.003, 25.0811, 21.003]             0.0   \n",
       "1  [25.0811, 21.003, 21.057, 25.0812, 21.053, 25....             1.0   \n",
       "2  [25.092, 21.003, 21.102, 25.081, 21.458, 21.00...             2.0   \n",
       "3  [21.057, 25.0811, 21.003, 28.004, 25.0811, 21....             0.0   \n",
       "4  [25.0811, 25.113, 25.092, 21.057, 28.0216, 25....             2.0   \n",
       "\n",
       "                                       gold_standard  \n",
       "0  [21.401, 25.081, 25.081, 21.003, 25.0811, 21.003]  \n",
       "1  [25.0811, 25.0812, 25.112, 21.003, 21.053, 21....  \n",
       "2                                                NaN  \n",
       "3  [25.0811, 21.003, 21.053, 21.057, 21.401, 25.0...  \n",
       "4  [25.0811, 21.003, 25.092, 25.111, 25.112, 25.113]  "
      ]
     },
     "execution_count": 8,
     "metadata": {},
     "output_type": "execute_result"
    }
   ],
   "source": [
    "results.head()"
   ]
  },
  {
   "cell_type": "code",
   "execution_count": null,
   "metadata": {
    "collapsed": true
   },
   "outputs": [],
   "source": []
  },
  {
   "cell_type": "code",
   "execution_count": null,
   "metadata": {
    "collapsed": true
   },
   "outputs": [],
   "source": []
  }
 ],
 "metadata": {
  "kernelspec": {
   "display_name": "Python [default]",
   "language": "python",
   "name": "python3"
  },
  "language_info": {
   "codemirror_mode": {
    "name": "ipython",
    "version": 3
   },
   "file_extension": ".py",
   "mimetype": "text/x-python",
   "name": "python",
   "nbconvert_exporter": "python",
   "pygments_lexer": "ipython3",
   "version": "3.5.4"
  }
 },
 "nbformat": 4,
 "nbformat_minor": 2
}
