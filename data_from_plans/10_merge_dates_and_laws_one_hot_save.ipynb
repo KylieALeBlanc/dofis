{
 "cells": [
  {
   "cell_type": "markdown",
   "metadata": {},
   "source": [
    "# One hot save and clean"
   ]
  },
  {
   "cell_type": "code",
   "execution_count": 35,
   "metadata": {},
   "outputs": [],
   "source": [
    "import pandas as pd\n",
    "import csv\n",
    "import os\n",
    "import sklearn\n",
    "from sklearn.feature_extraction.text import CountVectorizer\n",
    "from sklearn.preprocessing import MultiLabelBinarizer\n",
    "from start import data_path\n",
    "import extract_laws\n",
    "import clean_documents\n",
    "import numpy as np"
   ]
  },
  {
   "cell_type": "code",
   "execution_count": 36,
   "metadata": {},
   "outputs": [
    {
     "name": "stdout",
     "output_type": "stream",
     "text": [
      "824\n",
      "824\n",
      "824\n"
     ]
    },
    {
     "data": {
      "text/html": [
       "<div>\n",
       "<style scoped>\n",
       "    .dataframe tbody tr th:only-of-type {\n",
       "        vertical-align: middle;\n",
       "    }\n",
       "\n",
       "    .dataframe tbody tr th {\n",
       "        vertical-align: top;\n",
       "    }\n",
       "\n",
       "    .dataframe thead th {\n",
       "        text-align: right;\n",
       "    }\n",
       "</style>\n",
       "<table border=\"1\" class=\"dataframe\">\n",
       "  <thead>\n",
       "    <tr style=\"text-align: right;\">\n",
       "      <th></th>\n",
       "      <th>title</th>\n",
       "      <th>Unnamed: 0_x</th>\n",
       "      <th>Unnamed: 0.1</th>\n",
       "      <th>Unnamed: 0.1.1</th>\n",
       "      <th>Unnamed: 0.1.1.1</th>\n",
       "      <th>Unnamed: 0.1.1.1.1</th>\n",
       "      <th>level</th>\n",
       "      <th>type</th>\n",
       "      <th>link</th>\n",
       "      <th>text</th>\n",
       "      <th>p_innovation</th>\n",
       "      <th>possible_laws</th>\n",
       "      <th>Unnamed: 0_y</th>\n",
       "      <th>doi_date</th>\n",
       "    </tr>\n",
       "  </thead>\n",
       "  <tbody>\n",
       "    <tr>\n",
       "      <th>495</th>\n",
       "      <td>Mexia ISD</td>\n",
       "      <td>328.0</td>\n",
       "      <td>1579</td>\n",
       "      <td>1579</td>\n",
       "      <td>1579</td>\n",
       "      <td>1741</td>\n",
       "      <td>Second</td>\n",
       "      <td>pdf</td>\n",
       "      <td>https://s3.amazonaws.com/scschoolfiles/1097/in...</td>\n",
       "      <td>District Of Innovation MEXIA ISD District Of I...</td>\n",
       "      <td>0.999955</td>\n",
       "      <td>[25.113, 37.0012, 25.0811, 25.082, 28.0214, 25...</td>\n",
       "      <td>328</td>\n",
       "      <td>2017-08-01</td>\n",
       "    </tr>\n",
       "    <tr>\n",
       "      <th>41</th>\n",
       "      <td>Azle ISD</td>\n",
       "      <td>782.0</td>\n",
       "      <td>18</td>\n",
       "      <td>18</td>\n",
       "      <td>18</td>\n",
       "      <td>18</td>\n",
       "      <td>First</td>\n",
       "      <td>pdf</td>\n",
       "      <td>http://www.azleisd.net/cms/lib6/TX01917633/Cen...</td>\n",
       "      <td>Azle Independent School District District of I...</td>\n",
       "      <td>0.999955</td>\n",
       "      <td>[37.0012, 25.0811, 28.0216, 21.003, 21.102, 25...</td>\n",
       "      <td>782</td>\n",
       "      <td>2017-08-01</td>\n",
       "    </tr>\n",
       "    <tr>\n",
       "      <th>334</th>\n",
       "      <td>Hawley ISD</td>\n",
       "      <td>489.0</td>\n",
       "      <td>687</td>\n",
       "      <td>687</td>\n",
       "      <td>687</td>\n",
       "      <td>726</td>\n",
       "      <td>Second</td>\n",
       "      <td>pdf</td>\n",
       "      <td>http://www.hawley.esc14.net/upload/page/0096/D...</td>\n",
       "      <td>HAWLEY INDEPENDENT SCHOOL DISTRICT DISTRICT OF...</td>\n",
       "      <td>0.999955</td>\n",
       "      <td>[28.0214, 21.002, 21.003, 21.102, 21.352, 25.0...</td>\n",
       "      <td>489</td>\n",
       "      <td>2017-08-01</td>\n",
       "    </tr>\n",
       "    <tr>\n",
       "      <th>765</th>\n",
       "      <td>Vernon ISD</td>\n",
       "      <td>58.0</td>\n",
       "      <td>346</td>\n",
       "      <td>346</td>\n",
       "      <td>346</td>\n",
       "      <td>346</td>\n",
       "      <td>First</td>\n",
       "      <td>pdf</td>\n",
       "      <td>https://s3.amazonaws.com/scschoolfiles/949/vis...</td>\n",
       "      <td>1 | P a g e VERNON INDEPENDENT SCHOOL DISTRICT...</td>\n",
       "      <td>0.999850</td>\n",
       "      <td>[25.082, 21.003, 21.056, 21.401, 25.081, 25.08...</td>\n",
       "      <td>58</td>\n",
       "      <td>2017-08-01</td>\n",
       "    </tr>\n",
       "    <tr>\n",
       "      <th>718</th>\n",
       "      <td>Sweeny ISD</td>\n",
       "      <td>11.0</td>\n",
       "      <td>263</td>\n",
       "      <td>263</td>\n",
       "      <td>263</td>\n",
       "      <td>263</td>\n",
       "      <td>First</td>\n",
       "      <td>pdf</td>\n",
       "      <td>http://www.sweenyisd.org/UserFiles/Servers/Ser...</td>\n",
       "      <td>Not a plan</td>\n",
       "      <td>0.000045</td>\n",
       "      <td>[21.003, 21.0031, 21.053, 21.057, 21.102, 25.0...</td>\n",
       "      <td>105</td>\n",
       "      <td>2017-04-01</td>\n",
       "    </tr>\n",
       "  </tbody>\n",
       "</table>\n",
       "</div>"
      ],
      "text/plain": [
       "          title  Unnamed: 0_x  Unnamed: 0.1  Unnamed: 0.1.1  Unnamed: 0.1.1.1  \\\n",
       "495   Mexia ISD         328.0          1579            1579              1579   \n",
       "41     Azle ISD         782.0            18              18                18   \n",
       "334  Hawley ISD         489.0           687             687               687   \n",
       "765  Vernon ISD          58.0           346             346               346   \n",
       "718  Sweeny ISD          11.0           263             263               263   \n",
       "\n",
       "     Unnamed: 0.1.1.1.1   level type  \\\n",
       "495                1741  Second  pdf   \n",
       "41                   18   First  pdf   \n",
       "334                 726  Second  pdf   \n",
       "765                 346   First  pdf   \n",
       "718                 263   First  pdf   \n",
       "\n",
       "                                                  link  \\\n",
       "495  https://s3.amazonaws.com/scschoolfiles/1097/in...   \n",
       "41   http://www.azleisd.net/cms/lib6/TX01917633/Cen...   \n",
       "334  http://www.hawley.esc14.net/upload/page/0096/D...   \n",
       "765  https://s3.amazonaws.com/scschoolfiles/949/vis...   \n",
       "718  http://www.sweenyisd.org/UserFiles/Servers/Ser...   \n",
       "\n",
       "                                                  text  p_innovation  \\\n",
       "495  District Of Innovation MEXIA ISD District Of I...      0.999955   \n",
       "41   Azle Independent School District District of I...      0.999955   \n",
       "334  HAWLEY INDEPENDENT SCHOOL DISTRICT DISTRICT OF...      0.999955   \n",
       "765  1 | P a g e VERNON INDEPENDENT SCHOOL DISTRICT...      0.999850   \n",
       "718                                         Not a plan      0.000045   \n",
       "\n",
       "                                         possible_laws  Unnamed: 0_y  \\\n",
       "495  [25.113, 37.0012, 25.0811, 25.082, 28.0214, 25...           328   \n",
       "41   [37.0012, 25.0811, 28.0216, 21.003, 21.102, 25...           782   \n",
       "334  [28.0214, 21.002, 21.003, 21.102, 21.352, 25.0...           489   \n",
       "765  [25.082, 21.003, 21.056, 21.401, 25.081, 25.08...            58   \n",
       "718  [21.003, 21.0031, 21.053, 21.057, 21.102, 25.0...           105   \n",
       "\n",
       "       doi_date  \n",
       "495  2017-08-01  \n",
       "41   2017-08-01  \n",
       "334  2017-08-01  \n",
       "765  2017-08-01  \n",
       "718  2017-04-01  "
      ]
     },
     "execution_count": 36,
     "metadata": {},
     "output_type": "execute_result"
    }
   ],
   "source": [
    "laws_df = pd.read_csv(os.path.join(data_path, 'doi_exemptions_list.csv'))\n",
    "dates_df = pd.read_csv(os.path.join(data_path, 'doi_dates.csv'))\n",
    "doi_df = laws_df.merge(dates_df, left_on = 'title', right_on = 'title', how = 'left')\n",
    "print(len(laws_df))\n",
    "print(len(dates_df))\n",
    "print(len(doi_df))\n",
    "doi_df.sample(5)"
   ]
  },
  {
   "cell_type": "markdown",
   "metadata": {},
   "source": [
    "## Save create one-hot variables for laws"
   ]
  },
  {
   "cell_type": "code",
   "execution_count": 37,
   "metadata": {
    "scrolled": true
   },
   "outputs": [
    {
     "data": {
      "text/plain": [
       "824"
      ]
     },
     "execution_count": 37,
     "metadata": {},
     "output_type": "execute_result"
    }
   ],
   "source": [
    "def make_list(string):\n",
    "    new_list = [i.replace('[','').replace(']','') for i in string.split(', ')]\n",
    "    return new_list\n",
    "\n",
    "doi_df['possible_laws'] = doi_df['possible_laws'].apply(make_list)\n",
    "doi_df = doi_df[['title', 'link', 'text', 'p_innovation', 'possible_laws', 'doi_date']]\n",
    "len(doi_df)"
   ]
  },
  {
   "cell_type": "code",
   "execution_count": 38,
   "metadata": {},
   "outputs": [
    {
     "data": {
      "text/plain": [
       "824"
      ]
     },
     "execution_count": 38,
     "metadata": {},
     "output_type": "execute_result"
    }
   ],
   "source": [
    "mlb = MultiLabelBinarizer()\n",
    "plans_onehot = doi_df.join(pd.DataFrame(mlb.fit_transform(doi_df.pop('possible_laws')),\n",
    "                          columns=mlb.classes_,\n",
    "                          index=doi_df.index))\n",
    "plans_onehot.head(10)\n",
    "len(plans_onehot)"
   ]
  },
  {
   "cell_type": "code",
   "execution_count": 39,
   "metadata": {},
   "outputs": [
    {
     "data": {
      "text/plain": [
       "824"
      ]
     },
     "execution_count": 39,
     "metadata": {},
     "output_type": "execute_result"
    }
   ],
   "source": [
    "drop_cols = [c for c in plans_onehot.columns if c.lower()[:7] == 'unnamed']\n",
    "plans_onehot = plans_onehot.drop(drop_cols, axis=1)\n",
    "plans_onehot.head()\n",
    "len(plans_onehot)"
   ]
  },
  {
   "cell_type": "markdown",
   "metadata": {},
   "source": [
    "### Rename exemptions so they start with reg"
   ]
  },
  {
   "cell_type": "code",
   "execution_count": 40,
   "metadata": {},
   "outputs": [
    {
     "data": {
      "text/html": [
       "<div>\n",
       "<style scoped>\n",
       "    .dataframe tbody tr th:only-of-type {\n",
       "        vertical-align: middle;\n",
       "    }\n",
       "\n",
       "    .dataframe tbody tr th {\n",
       "        vertical-align: top;\n",
       "    }\n",
       "\n",
       "    .dataframe thead th {\n",
       "        text-align: right;\n",
       "    }\n",
       "</style>\n",
       "<table border=\"1\" class=\"dataframe\">\n",
       "  <thead>\n",
       "    <tr style=\"text-align: right;\">\n",
       "      <th></th>\n",
       "      <th>district</th>\n",
       "      <th>link</th>\n",
       "      <th>text</th>\n",
       "      <th>p_doi</th>\n",
       "      <th>doi_date</th>\n",
       "      <th>reg11_1511</th>\n",
       "      <th>reg11_162</th>\n",
       "      <th>reg11_164</th>\n",
       "      <th>reg11_251</th>\n",
       "      <th>reg11_252</th>\n",
       "      <th>...</th>\n",
       "      <th>reg45_204</th>\n",
       "      <th>reg45_205</th>\n",
       "      <th>reg45_206</th>\n",
       "      <th>reg45_207</th>\n",
       "      <th>reg45_208</th>\n",
       "      <th>reg45_209</th>\n",
       "      <th>reg46_001</th>\n",
       "      <th>reg51_403</th>\n",
       "      <th>reg55_0811</th>\n",
       "      <th>reg97_1001</th>\n",
       "    </tr>\n",
       "  </thead>\n",
       "  <tbody>\n",
       "    <tr>\n",
       "      <th>0</th>\n",
       "      <td>Abbott ISD</td>\n",
       "      <td>https://www.abbottisd.org/ourpages/auto/2018/3...</td>\n",
       "      <td>1 Abbott Independent School District District ...</td>\n",
       "      <td>0.999955</td>\n",
       "      <td>2018-03-01</td>\n",
       "      <td>0</td>\n",
       "      <td>0</td>\n",
       "      <td>0</td>\n",
       "      <td>0</td>\n",
       "      <td>0</td>\n",
       "      <td>...</td>\n",
       "      <td>0</td>\n",
       "      <td>0</td>\n",
       "      <td>1</td>\n",
       "      <td>0</td>\n",
       "      <td>0</td>\n",
       "      <td>0</td>\n",
       "      <td>0</td>\n",
       "      <td>0</td>\n",
       "      <td>0</td>\n",
       "      <td>0</td>\n",
       "    </tr>\n",
       "    <tr>\n",
       "      <th>1</th>\n",
       "      <td>Abernathy ISD</td>\n",
       "      <td>https://1.cdn.edl.io/epGD4mZXjWUcPl8yA7IhlcDol...</td>\n",
       "      <td>Abernathy ISD District of Innovation Plan – Dr...</td>\n",
       "      <td>0.999904</td>\n",
       "      <td>2017-01-01</td>\n",
       "      <td>0</td>\n",
       "      <td>0</td>\n",
       "      <td>0</td>\n",
       "      <td>0</td>\n",
       "      <td>0</td>\n",
       "      <td>...</td>\n",
       "      <td>0</td>\n",
       "      <td>0</td>\n",
       "      <td>0</td>\n",
       "      <td>0</td>\n",
       "      <td>0</td>\n",
       "      <td>0</td>\n",
       "      <td>0</td>\n",
       "      <td>0</td>\n",
       "      <td>0</td>\n",
       "      <td>0</td>\n",
       "    </tr>\n",
       "    <tr>\n",
       "      <th>2</th>\n",
       "      <td>Abilene ISD</td>\n",
       "      <td>https://www.abileneisd.org/wp-content/uploads/...</td>\n",
       "      <td>0 ABILENE INDEPENDENT SCHOOL DISTRICT Local In...</td>\n",
       "      <td>0.999955</td>\n",
       "      <td>2018-08-01</td>\n",
       "      <td>0</td>\n",
       "      <td>0</td>\n",
       "      <td>0</td>\n",
       "      <td>0</td>\n",
       "      <td>0</td>\n",
       "      <td>...</td>\n",
       "      <td>0</td>\n",
       "      <td>0</td>\n",
       "      <td>0</td>\n",
       "      <td>0</td>\n",
       "      <td>0</td>\n",
       "      <td>0</td>\n",
       "      <td>0</td>\n",
       "      <td>0</td>\n",
       "      <td>0</td>\n",
       "      <td>0</td>\n",
       "    </tr>\n",
       "    <tr>\n",
       "      <th>3</th>\n",
       "      <td>Academy ISD</td>\n",
       "      <td>https://4.files.edl.io/1a8f/06/29/18/204245-44...</td>\n",
       "      <td>District of Innovation Plan Developed in coope...</td>\n",
       "      <td>0.999208</td>\n",
       "      <td>2018-08-01</td>\n",
       "      <td>0</td>\n",
       "      <td>0</td>\n",
       "      <td>0</td>\n",
       "      <td>0</td>\n",
       "      <td>0</td>\n",
       "      <td>...</td>\n",
       "      <td>0</td>\n",
       "      <td>0</td>\n",
       "      <td>0</td>\n",
       "      <td>0</td>\n",
       "      <td>0</td>\n",
       "      <td>0</td>\n",
       "      <td>0</td>\n",
       "      <td>0</td>\n",
       "      <td>0</td>\n",
       "      <td>0</td>\n",
       "    </tr>\n",
       "    <tr>\n",
       "      <th>4</th>\n",
       "      <td>Adrian ISD</td>\n",
       "      <td>http://www.adrianisd.net/UserFiles/Servers/Ser...</td>\n",
       "      <td>Adrian ISD District of Innovation Plan House B...</td>\n",
       "      <td>0.999955</td>\n",
       "      <td>2018-08-01</td>\n",
       "      <td>0</td>\n",
       "      <td>0</td>\n",
       "      <td>0</td>\n",
       "      <td>0</td>\n",
       "      <td>0</td>\n",
       "      <td>...</td>\n",
       "      <td>0</td>\n",
       "      <td>0</td>\n",
       "      <td>0</td>\n",
       "      <td>0</td>\n",
       "      <td>0</td>\n",
       "      <td>0</td>\n",
       "      <td>0</td>\n",
       "      <td>0</td>\n",
       "      <td>0</td>\n",
       "      <td>0</td>\n",
       "    </tr>\n",
       "    <tr>\n",
       "      <th>5</th>\n",
       "      <td>Agua Dulce ISD</td>\n",
       "      <td>https://tx02206063.schoolwires.net/cms/lib/TX0...</td>\n",
       "      <td>Microsoft Word - DOI 2017-2022.docx Agua Dulce...</td>\n",
       "      <td>0.999955</td>\n",
       "      <td>2017-08-01</td>\n",
       "      <td>0</td>\n",
       "      <td>0</td>\n",
       "      <td>0</td>\n",
       "      <td>0</td>\n",
       "      <td>0</td>\n",
       "      <td>...</td>\n",
       "      <td>0</td>\n",
       "      <td>0</td>\n",
       "      <td>0</td>\n",
       "      <td>0</td>\n",
       "      <td>0</td>\n",
       "      <td>0</td>\n",
       "      <td>0</td>\n",
       "      <td>0</td>\n",
       "      <td>0</td>\n",
       "      <td>0</td>\n",
       "    </tr>\n",
       "    <tr>\n",
       "      <th>6</th>\n",
       "      <td>Alamo Heights ISD</td>\n",
       "      <td>http://www.ahisd.net/UserFiles/Servers/Server_...</td>\n",
       "      <td>1 | P a g e Mission Statement The Alamo Height...</td>\n",
       "      <td>0.999955</td>\n",
       "      <td>2016-08-01</td>\n",
       "      <td>0</td>\n",
       "      <td>0</td>\n",
       "      <td>0</td>\n",
       "      <td>0</td>\n",
       "      <td>0</td>\n",
       "      <td>...</td>\n",
       "      <td>0</td>\n",
       "      <td>0</td>\n",
       "      <td>0</td>\n",
       "      <td>0</td>\n",
       "      <td>0</td>\n",
       "      <td>0</td>\n",
       "      <td>0</td>\n",
       "      <td>0</td>\n",
       "      <td>0</td>\n",
       "      <td>0</td>\n",
       "    </tr>\n",
       "    <tr>\n",
       "      <th>7</th>\n",
       "      <td>Albany ISD</td>\n",
       "      <td>http://www.albanyisd.net/uploads/4/4/4/1/44419...</td>\n",
       "      <td>Microsoft Word - innovation_plan.docx Albany I...</td>\n",
       "      <td>0.999955</td>\n",
       "      <td>2017-06-01</td>\n",
       "      <td>0</td>\n",
       "      <td>0</td>\n",
       "      <td>0</td>\n",
       "      <td>0</td>\n",
       "      <td>0</td>\n",
       "      <td>...</td>\n",
       "      <td>0</td>\n",
       "      <td>0</td>\n",
       "      <td>0</td>\n",
       "      <td>0</td>\n",
       "      <td>0</td>\n",
       "      <td>0</td>\n",
       "      <td>0</td>\n",
       "      <td>0</td>\n",
       "      <td>0</td>\n",
       "      <td>0</td>\n",
       "    </tr>\n",
       "    <tr>\n",
       "      <th>8</th>\n",
       "      <td>Aldine ISD</td>\n",
       "      <td>http://insidealdine.com/wp-content/uploads/201...</td>\n",
       "      <td>Aldine District of Innovation Plan Approved by...</td>\n",
       "      <td>0.999955</td>\n",
       "      <td>2017-08-01</td>\n",
       "      <td>1</td>\n",
       "      <td>0</td>\n",
       "      <td>0</td>\n",
       "      <td>0</td>\n",
       "      <td>0</td>\n",
       "      <td>...</td>\n",
       "      <td>0</td>\n",
       "      <td>0</td>\n",
       "      <td>0</td>\n",
       "      <td>0</td>\n",
       "      <td>0</td>\n",
       "      <td>0</td>\n",
       "      <td>0</td>\n",
       "      <td>0</td>\n",
       "      <td>0</td>\n",
       "      <td>0</td>\n",
       "    </tr>\n",
       "    <tr>\n",
       "      <th>9</th>\n",
       "      <td>Aledo ISD</td>\n",
       "      <td>https://docs.google.com/viewerng/viewer?url=ht...</td>\n",
       "      <td>ALEDO Independent School District A Past to Re...</td>\n",
       "      <td>0.329979</td>\n",
       "      <td>2019-02-01</td>\n",
       "      <td>0</td>\n",
       "      <td>0</td>\n",
       "      <td>0</td>\n",
       "      <td>0</td>\n",
       "      <td>0</td>\n",
       "      <td>...</td>\n",
       "      <td>0</td>\n",
       "      <td>0</td>\n",
       "      <td>0</td>\n",
       "      <td>0</td>\n",
       "      <td>0</td>\n",
       "      <td>0</td>\n",
       "      <td>0</td>\n",
       "      <td>0</td>\n",
       "      <td>0</td>\n",
       "      <td>0</td>\n",
       "    </tr>\n",
       "  </tbody>\n",
       "</table>\n",
       "<p>10 rows × 194 columns</p>\n",
       "</div>"
      ],
      "text/plain": [
       "            district                                               link  \\\n",
       "0         Abbott ISD  https://www.abbottisd.org/ourpages/auto/2018/3...   \n",
       "1      Abernathy ISD  https://1.cdn.edl.io/epGD4mZXjWUcPl8yA7IhlcDol...   \n",
       "2        Abilene ISD  https://www.abileneisd.org/wp-content/uploads/...   \n",
       "3        Academy ISD  https://4.files.edl.io/1a8f/06/29/18/204245-44...   \n",
       "4         Adrian ISD  http://www.adrianisd.net/UserFiles/Servers/Ser...   \n",
       "5     Agua Dulce ISD  https://tx02206063.schoolwires.net/cms/lib/TX0...   \n",
       "6  Alamo Heights ISD  http://www.ahisd.net/UserFiles/Servers/Server_...   \n",
       "7         Albany ISD  http://www.albanyisd.net/uploads/4/4/4/1/44419...   \n",
       "8         Aldine ISD  http://insidealdine.com/wp-content/uploads/201...   \n",
       "9          Aledo ISD  https://docs.google.com/viewerng/viewer?url=ht...   \n",
       "\n",
       "                                                text     p_doi    doi_date  \\\n",
       "0  1 Abbott Independent School District District ...  0.999955  2018-03-01   \n",
       "1  Abernathy ISD District of Innovation Plan – Dr...  0.999904  2017-01-01   \n",
       "2  0 ABILENE INDEPENDENT SCHOOL DISTRICT Local In...  0.999955  2018-08-01   \n",
       "3  District of Innovation Plan Developed in coope...  0.999208  2018-08-01   \n",
       "4  Adrian ISD District of Innovation Plan House B...  0.999955  2018-08-01   \n",
       "5  Microsoft Word - DOI 2017-2022.docx Agua Dulce...  0.999955  2017-08-01   \n",
       "6  1 | P a g e Mission Statement The Alamo Height...  0.999955  2016-08-01   \n",
       "7  Microsoft Word - innovation_plan.docx Albany I...  0.999955  2017-06-01   \n",
       "8  Aldine District of Innovation Plan Approved by...  0.999955  2017-08-01   \n",
       "9  ALEDO Independent School District A Past to Re...  0.329979  2019-02-01   \n",
       "\n",
       "   reg11_1511  reg11_162  reg11_164  reg11_251  reg11_252  ...  reg45_204  \\\n",
       "0           0          0          0          0          0  ...          0   \n",
       "1           0          0          0          0          0  ...          0   \n",
       "2           0          0          0          0          0  ...          0   \n",
       "3           0          0          0          0          0  ...          0   \n",
       "4           0          0          0          0          0  ...          0   \n",
       "5           0          0          0          0          0  ...          0   \n",
       "6           0          0          0          0          0  ...          0   \n",
       "7           0          0          0          0          0  ...          0   \n",
       "8           1          0          0          0          0  ...          0   \n",
       "9           0          0          0          0          0  ...          0   \n",
       "\n",
       "   reg45_205  reg45_206  reg45_207  reg45_208  reg45_209  reg46_001  \\\n",
       "0          0          1          0          0          0          0   \n",
       "1          0          0          0          0          0          0   \n",
       "2          0          0          0          0          0          0   \n",
       "3          0          0          0          0          0          0   \n",
       "4          0          0          0          0          0          0   \n",
       "5          0          0          0          0          0          0   \n",
       "6          0          0          0          0          0          0   \n",
       "7          0          0          0          0          0          0   \n",
       "8          0          0          0          0          0          0   \n",
       "9          0          0          0          0          0          0   \n",
       "\n",
       "   reg51_403  reg55_0811  reg97_1001  \n",
       "0          0           0           0  \n",
       "1          0           0           0  \n",
       "2          0           0           0  \n",
       "3          0           0           0  \n",
       "4          0           0           0  \n",
       "5          0           0           0  \n",
       "6          0           0           0  \n",
       "7          0           0           0  \n",
       "8          0           0           0  \n",
       "9          0           0           0  \n",
       "\n",
       "[10 rows x 194 columns]"
      ]
     },
     "execution_count": 40,
     "metadata": {},
     "output_type": "execute_result"
    }
   ],
   "source": [
    "plans_onehot.columns = ['reg' + str(i).replace('.', '_') for i in plans_onehot.columns]\n",
    "plans_onehot = plans_onehot.drop(['reg'], axis=1)\n",
    "plans_onehot = plans_onehot.rename(index=str, columns= {'regtitle':'district', \n",
    "                                                        'reglink': 'link',\n",
    "                                                        'regtext': 'text',\n",
    "                                                        'regp_innovation':'p_doi',\n",
    "                                                        'regdoi_date' : 'doi_date'})\n",
    "plans_onehot.head(10)"
   ]
  },
  {
   "cell_type": "code",
   "execution_count": 41,
   "metadata": {},
   "outputs": [
    {
     "data": {
      "text/plain": [
       "824"
      ]
     },
     "execution_count": 41,
     "metadata": {},
     "output_type": "execute_result"
    }
   ],
   "source": [
    "len(plans_onehot)"
   ]
  },
  {
   "cell_type": "code",
   "execution_count": 42,
   "metadata": {},
   "outputs": [
    {
     "name": "stdout",
     "output_type": "stream",
     "text": [
      "824\n",
      "824\n"
     ]
    }
   ],
   "source": [
    "cols = [c for c in plans_onehot.columns if c.lower()[:3] == 'reg']\n",
    "plans_onehot['total'] = plans_onehot[cols].sum(axis = 1)\n",
    "print(len(plans_onehot))\n",
    "# drop documents with missing regulations\n",
    "#plans_onehot = plans_onehot[plans_onehot.total > 0]\n",
    "print(len(plans_onehot))"
   ]
  },
  {
   "cell_type": "code",
   "execution_count": 43,
   "metadata": {},
   "outputs": [],
   "source": [
    "# replace values\n",
    "plans_onehot['reg25_0811'] = np.where((plans_onehot.reg25_081 == 1), 1, plans_onehot.reg25_0811)"
   ]
  },
  {
   "cell_type": "markdown",
   "metadata": {},
   "source": [
    "# Save"
   ]
  },
  {
   "cell_type": "code",
   "execution_count": 44,
   "metadata": {},
   "outputs": [],
   "source": [
    "plans_onehot.to_csv((os.path.join(data_path, 'doi_final_wtext.csv')))\n",
    "plans_onehot = plans_onehot.drop(['text'], axis = 1)\n",
    "plans_onehot.to_csv((os.path.join(data_path, 'doi_final.csv')))"
   ]
  },
  {
   "cell_type": "code",
   "execution_count": 45,
   "metadata": {},
   "outputs": [],
   "source": [
    "df = pd.read_csv((os.path.join(data_path, 'doi_final.csv')))"
   ]
  },
  {
   "cell_type": "code",
   "execution_count": 46,
   "metadata": {},
   "outputs": [
    {
     "data": {
      "text/plain": [
       "0.970873786407767"
      ]
     },
     "execution_count": 46,
     "metadata": {},
     "output_type": "execute_result"
    }
   ],
   "source": [
    "plans_onehot.reg25_0811.mean()"
   ]
  },
  {
   "cell_type": "code",
   "execution_count": 47,
   "metadata": {},
   "outputs": [
    {
     "data": {
      "text/plain": [
       "0.970873786407767"
      ]
     },
     "execution_count": 47,
     "metadata": {},
     "output_type": "execute_result"
    }
   ],
   "source": [
    "df.reg25_0811.mean()"
   ]
  },
  {
   "cell_type": "code",
   "execution_count": 48,
   "metadata": {},
   "outputs": [
    {
     "data": {
      "text/plain": [
       "214"
      ]
     },
     "execution_count": 48,
     "metadata": {},
     "output_type": "execute_result"
    }
   ],
   "source": [
    "# Just certification, not other inputs\n",
    "len(df[(df.reg21_003 == 1) & (df.reg25_112 == 0) & (df.reg25_081 == 0)])"
   ]
  },
  {
   "cell_type": "code",
   "execution_count": 49,
   "metadata": {},
   "outputs": [
    {
     "data": {
      "text/plain": [
       "18"
      ]
     },
     "execution_count": 49,
     "metadata": {},
     "output_type": "execute_result"
    }
   ],
   "source": [
    "# Just class size, not other inputs\n",
    "len(df[(df.reg21_003 == 0) & (df.reg25_112 == 1) & (df.reg25_081 == 0)])"
   ]
  },
  {
   "cell_type": "code",
   "execution_count": 50,
   "metadata": {},
   "outputs": [
    {
     "data": {
      "text/plain": [
       "18"
      ]
     },
     "execution_count": 50,
     "metadata": {},
     "output_type": "execute_result"
    }
   ],
   "source": [
    "# Just minutes of operation, not other inputs\n",
    "len(df[(df.reg21_003 == 0) & (df.reg25_112 == 0) & (df.reg25_081 == 1)])"
   ]
  },
  {
   "cell_type": "code",
   "execution_count": 51,
   "metadata": {},
   "outputs": [
    {
     "data": {
      "text/plain": [
       "824"
      ]
     },
     "execution_count": 51,
     "metadata": {},
     "output_type": "execute_result"
    }
   ],
   "source": [
    "len(df)"
   ]
  },
  {
   "cell_type": "code",
   "execution_count": null,
   "metadata": {},
   "outputs": [],
   "source": []
  }
 ],
 "metadata": {
  "kernelspec": {
   "display_name": "Python [conda env:spacy]",
   "language": "python",
   "name": "conda-env-spacy-py"
  },
  "language_info": {
   "codemirror_mode": {
    "name": "ipython",
    "version": 3
   },
   "file_extension": ".py",
   "mimetype": "text/x-python",
   "name": "python",
   "nbconvert_exporter": "python",
   "pygments_lexer": "ipython3",
   "version": "3.7.2"
  }
 },
 "nbformat": 4,
 "nbformat_minor": 2
}
