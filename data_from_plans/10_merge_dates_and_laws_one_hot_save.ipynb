{
 "cells": [
  {
   "cell_type": "markdown",
   "metadata": {},
   "source": [
    "# One hot save and clean"
   ]
  },
  {
   "cell_type": "code",
   "execution_count": 1,
   "metadata": {},
   "outputs": [
    {
     "name": "stderr",
     "output_type": "stream",
     "text": [
      "/Users/kylieleblancKylie/anaconda/envs/spacy/lib/python3.7/site-packages/sklearn/utils/__init__.py:4: DeprecationWarning: Using or importing the ABCs from 'collections' instead of from 'collections.abc' is deprecated, and in 3.8 it will stop working\n",
      "  from collections import Sequence\n"
     ]
    }
   ],
   "source": [
    "import pandas as pd\n",
    "import csv\n",
    "import os\n",
    "import sklearn\n",
    "from sklearn.feature_extraction.text import CountVectorizer\n",
    "from sklearn.preprocessing import MultiLabelBinarizer\n",
    "from start import data_path\n",
    "import extract_laws\n",
    "import clean_documents\n",
    "import numpy as np"
   ]
  },
  {
   "cell_type": "code",
   "execution_count": 2,
   "metadata": {},
   "outputs": [
    {
     "name": "stdout",
     "output_type": "stream",
     "text": [
      "824\n",
      "824\n",
      "824\n"
     ]
    },
    {
     "data": {
      "text/html": [
       "<div>\n",
       "<style scoped>\n",
       "    .dataframe tbody tr th:only-of-type {\n",
       "        vertical-align: middle;\n",
       "    }\n",
       "\n",
       "    .dataframe tbody tr th {\n",
       "        vertical-align: top;\n",
       "    }\n",
       "\n",
       "    .dataframe thead th {\n",
       "        text-align: right;\n",
       "    }\n",
       "</style>\n",
       "<table border=\"1\" class=\"dataframe\">\n",
       "  <thead>\n",
       "    <tr style=\"text-align: right;\">\n",
       "      <th></th>\n",
       "      <th>title</th>\n",
       "      <th>Unnamed: 0_x</th>\n",
       "      <th>Unnamed: 0.1</th>\n",
       "      <th>Unnamed: 0.1.1</th>\n",
       "      <th>Unnamed: 0.1.1.1</th>\n",
       "      <th>Unnamed: 0.1.1.1.1</th>\n",
       "      <th>level</th>\n",
       "      <th>type</th>\n",
       "      <th>link</th>\n",
       "      <th>text</th>\n",
       "      <th>p_innovation</th>\n",
       "      <th>possible_laws</th>\n",
       "      <th>Unnamed: 0_y</th>\n",
       "      <th>doi_year</th>\n",
       "    </tr>\n",
       "  </thead>\n",
       "  <tbody>\n",
       "    <tr>\n",
       "      <th>51</th>\n",
       "      <td>Bellevue ISD</td>\n",
       "      <td>772.0</td>\n",
       "      <td>150</td>\n",
       "      <td>150</td>\n",
       "      <td>150</td>\n",
       "      <td>150</td>\n",
       "      <td>First</td>\n",
       "      <td>pdf</td>\n",
       "      <td>http://www.bellevueisd.org/pages/uploaded_file...</td>\n",
       "      <td>BELLEVUE INDEPENDENT SCHOOL DISTRICT P. O. Box...</td>\n",
       "      <td>0.999955</td>\n",
       "      <td>[21.102, 21.003, 21.401, 21.005, 25.0811, 21.0...</td>\n",
       "      <td>772</td>\n",
       "      <td>2017.0</td>\n",
       "    </tr>\n",
       "    <tr>\n",
       "      <th>591</th>\n",
       "      <td>Plano ISD</td>\n",
       "      <td>232.0</td>\n",
       "      <td>387</td>\n",
       "      <td>387</td>\n",
       "      <td>387</td>\n",
       "      <td>387</td>\n",
       "      <td>First</td>\n",
       "      <td>pdf</td>\n",
       "      <td>https://www.pisd.edu/cms/lib/TX02215173/Centri...</td>\n",
       "      <td>DOI Amended Plan 2018 1 Plano Independent Scho...</td>\n",
       "      <td>0.999955</td>\n",
       "      <td>[25.082, 25.0811, 25.092, 25.081, 21.405, 21.0...</td>\n",
       "      <td>232</td>\n",
       "      <td>2017.0</td>\n",
       "    </tr>\n",
       "    <tr>\n",
       "      <th>319</th>\n",
       "      <td>Hamilton ISD</td>\n",
       "      <td>504.0</td>\n",
       "      <td>409</td>\n",
       "      <td>409</td>\n",
       "      <td>409</td>\n",
       "      <td>409</td>\n",
       "      <td>First</td>\n",
       "      <td>pdf</td>\n",
       "      <td>https://1.cdn.edl.io/Yf0oWXKAzv0mNIodouRdnDkkh...</td>\n",
       "      <td>Hamilton ISD Hamilton ISD District of Innovati...</td>\n",
       "      <td>0.999955</td>\n",
       "      <td>[21.352, 21.053, 21.003, 21.102, 25.0811, 21.401]</td>\n",
       "      <td>504</td>\n",
       "      <td>2017.0</td>\n",
       "    </tr>\n",
       "    <tr>\n",
       "      <th>318</th>\n",
       "      <td>Hallsville ISD</td>\n",
       "      <td>185.0</td>\n",
       "      <td>188</td>\n",
       "      <td>188</td>\n",
       "      <td>188</td>\n",
       "      <td>188</td>\n",
       "      <td>First</td>\n",
       "      <td>pdf</td>\n",
       "      <td>https://www.hisd.com/cms/lib/TX02217334/Centri...</td>\n",
       "      <td>HALLSVILLE INDEPENDENT SCHOOL DISTRICT “Excell...</td>\n",
       "      <td>0.000045</td>\n",
       "      <td>[25.0811, 21.102, 25.113, 25.111, 25.112]</td>\n",
       "      <td>505</td>\n",
       "      <td>2019.0</td>\n",
       "    </tr>\n",
       "    <tr>\n",
       "      <th>744</th>\n",
       "      <td>Tornillo ISD</td>\n",
       "      <td>14.0</td>\n",
       "      <td>3973</td>\n",
       "      <td>3973</td>\n",
       "      <td>3973</td>\n",
       "      <td>379</td>\n",
       "      <td>html</td>\n",
       "      <td>html</td>\n",
       "      <td>http://www.tisd.us/district_accountability/dis...</td>\n",
       "      <td>2018 - 2023 District of Innovation Plan Tornil...</td>\n",
       "      <td>0.000045</td>\n",
       "      <td>[37.002, 37.0012, 28.0216, 25.081, 25.1113, 21...</td>\n",
       "      <td>79</td>\n",
       "      <td>2018.0</td>\n",
       "    </tr>\n",
       "  </tbody>\n",
       "</table>\n",
       "</div>"
      ],
      "text/plain": [
       "              title  Unnamed: 0_x  Unnamed: 0.1  Unnamed: 0.1.1  \\\n",
       "51     Bellevue ISD         772.0           150             150   \n",
       "591       Plano ISD         232.0           387             387   \n",
       "319    Hamilton ISD         504.0           409             409   \n",
       "318  Hallsville ISD         185.0           188             188   \n",
       "744    Tornillo ISD          14.0          3973            3973   \n",
       "\n",
       "     Unnamed: 0.1.1.1  Unnamed: 0.1.1.1.1  level  type  \\\n",
       "51                150                 150  First   pdf   \n",
       "591               387                 387  First   pdf   \n",
       "319               409                 409  First   pdf   \n",
       "318               188                 188  First   pdf   \n",
       "744              3973                 379   html  html   \n",
       "\n",
       "                                                  link  \\\n",
       "51   http://www.bellevueisd.org/pages/uploaded_file...   \n",
       "591  https://www.pisd.edu/cms/lib/TX02215173/Centri...   \n",
       "319  https://1.cdn.edl.io/Yf0oWXKAzv0mNIodouRdnDkkh...   \n",
       "318  https://www.hisd.com/cms/lib/TX02217334/Centri...   \n",
       "744  http://www.tisd.us/district_accountability/dis...   \n",
       "\n",
       "                                                  text  p_innovation  \\\n",
       "51   BELLEVUE INDEPENDENT SCHOOL DISTRICT P. O. Box...      0.999955   \n",
       "591  DOI Amended Plan 2018 1 Plano Independent Scho...      0.999955   \n",
       "319  Hamilton ISD Hamilton ISD District of Innovati...      0.999955   \n",
       "318  HALLSVILLE INDEPENDENT SCHOOL DISTRICT “Excell...      0.000045   \n",
       "744  2018 - 2023 District of Innovation Plan Tornil...      0.000045   \n",
       "\n",
       "                                         possible_laws  Unnamed: 0_y  doi_year  \n",
       "51   [21.102, 21.003, 21.401, 21.005, 25.0811, 21.0...           772    2017.0  \n",
       "591  [25.082, 25.0811, 25.092, 25.081, 21.405, 21.0...           232    2017.0  \n",
       "319  [21.352, 21.053, 21.003, 21.102, 25.0811, 21.401]           504    2017.0  \n",
       "318          [25.0811, 21.102, 25.113, 25.111, 25.112]           505    2019.0  \n",
       "744  [37.002, 37.0012, 28.0216, 25.081, 25.1113, 21...            79    2018.0  "
      ]
     },
     "execution_count": 2,
     "metadata": {},
     "output_type": "execute_result"
    }
   ],
   "source": [
    "laws_df = pd.read_csv(os.path.join(data_path, 'doi_exemptions_list.csv'))\n",
    "dates_df = pd.read_csv(os.path.join(data_path, 'doi_dates.csv'))\n",
    "doi_df = laws_df.merge(dates_df, left_on = 'title', right_on = 'title', how = 'left')\n",
    "print(len(laws_df))\n",
    "print(len(dates_df))\n",
    "print(len(doi_df))\n",
    "doi_df.sample(5)"
   ]
  },
  {
   "cell_type": "markdown",
   "metadata": {},
   "source": [
    "## Save create one-hot variables for laws"
   ]
  },
  {
   "cell_type": "code",
   "execution_count": 3,
   "metadata": {
    "scrolled": true
   },
   "outputs": [
    {
     "data": {
      "text/plain": [
       "824"
      ]
     },
     "execution_count": 3,
     "metadata": {},
     "output_type": "execute_result"
    }
   ],
   "source": [
    "def make_list(string):\n",
    "    new_list = [i.replace('[','').replace(']','') for i in string.split(', ')]\n",
    "    return new_list\n",
    "\n",
    "doi_df['possible_laws'] = doi_df['possible_laws'].apply(make_list)\n",
    "doi_df = doi_df[['title', 'link', 'text', 'p_innovation', 'possible_laws', 'doi_year']]\n",
    "len(doi_df)"
   ]
  },
  {
   "cell_type": "code",
   "execution_count": 4,
   "metadata": {},
   "outputs": [
    {
     "data": {
      "text/plain": [
       "824"
      ]
     },
     "execution_count": 4,
     "metadata": {},
     "output_type": "execute_result"
    }
   ],
   "source": [
    "mlb = MultiLabelBinarizer()\n",
    "plans_onehot = doi_df.join(pd.DataFrame(mlb.fit_transform(doi_df.pop('possible_laws')),\n",
    "                          columns=mlb.classes_,\n",
    "                          index=doi_df.index))\n",
    "plans_onehot.head(10)\n",
    "len(plans_onehot)"
   ]
  },
  {
   "cell_type": "code",
   "execution_count": 5,
   "metadata": {},
   "outputs": [
    {
     "data": {
      "text/plain": [
       "824"
      ]
     },
     "execution_count": 5,
     "metadata": {},
     "output_type": "execute_result"
    }
   ],
   "source": [
    "drop_cols = [c for c in plans_onehot.columns if c.lower()[:7] == 'unnamed']\n",
    "plans_onehot = plans_onehot.drop(drop_cols, axis=1)\n",
    "plans_onehot.head()\n",
    "len(plans_onehot)"
   ]
  },
  {
   "cell_type": "markdown",
   "metadata": {},
   "source": [
    "### Rename exemptions so they start with reg"
   ]
  },
  {
   "cell_type": "code",
   "execution_count": 6,
   "metadata": {},
   "outputs": [
    {
     "data": {
      "text/html": [
       "<div>\n",
       "<style scoped>\n",
       "    .dataframe tbody tr th:only-of-type {\n",
       "        vertical-align: middle;\n",
       "    }\n",
       "\n",
       "    .dataframe tbody tr th {\n",
       "        vertical-align: top;\n",
       "    }\n",
       "\n",
       "    .dataframe thead th {\n",
       "        text-align: right;\n",
       "    }\n",
       "</style>\n",
       "<table border=\"1\" class=\"dataframe\">\n",
       "  <thead>\n",
       "    <tr style=\"text-align: right;\">\n",
       "      <th></th>\n",
       "      <th>district</th>\n",
       "      <th>link</th>\n",
       "      <th>text</th>\n",
       "      <th>p_doi</th>\n",
       "      <th>doi_year</th>\n",
       "      <th>reg11_1511</th>\n",
       "      <th>reg11_162</th>\n",
       "      <th>reg11_164</th>\n",
       "      <th>reg11_251</th>\n",
       "      <th>reg11_252</th>\n",
       "      <th>...</th>\n",
       "      <th>reg45_204</th>\n",
       "      <th>reg45_205</th>\n",
       "      <th>reg45_206</th>\n",
       "      <th>reg45_207</th>\n",
       "      <th>reg45_208</th>\n",
       "      <th>reg45_209</th>\n",
       "      <th>reg46_001</th>\n",
       "      <th>reg51_403</th>\n",
       "      <th>reg55_0811</th>\n",
       "      <th>reg97_1001</th>\n",
       "    </tr>\n",
       "  </thead>\n",
       "  <tbody>\n",
       "    <tr>\n",
       "      <th>0</th>\n",
       "      <td>Abbott ISD</td>\n",
       "      <td>https://www.abbottisd.org/ourpages/auto/2018/3...</td>\n",
       "      <td>1 Abbott Independent School District District ...</td>\n",
       "      <td>0.999955</td>\n",
       "      <td>2018.0</td>\n",
       "      <td>0</td>\n",
       "      <td>0</td>\n",
       "      <td>0</td>\n",
       "      <td>0</td>\n",
       "      <td>0</td>\n",
       "      <td>...</td>\n",
       "      <td>0</td>\n",
       "      <td>0</td>\n",
       "      <td>1</td>\n",
       "      <td>0</td>\n",
       "      <td>0</td>\n",
       "      <td>0</td>\n",
       "      <td>0</td>\n",
       "      <td>0</td>\n",
       "      <td>0</td>\n",
       "      <td>0</td>\n",
       "    </tr>\n",
       "    <tr>\n",
       "      <th>1</th>\n",
       "      <td>Abernathy ISD</td>\n",
       "      <td>https://1.cdn.edl.io/epGD4mZXjWUcPl8yA7IhlcDol...</td>\n",
       "      <td>Abernathy ISD District of Innovation Plan – Dr...</td>\n",
       "      <td>0.999904</td>\n",
       "      <td>2017.0</td>\n",
       "      <td>0</td>\n",
       "      <td>0</td>\n",
       "      <td>0</td>\n",
       "      <td>0</td>\n",
       "      <td>0</td>\n",
       "      <td>...</td>\n",
       "      <td>0</td>\n",
       "      <td>0</td>\n",
       "      <td>0</td>\n",
       "      <td>0</td>\n",
       "      <td>0</td>\n",
       "      <td>0</td>\n",
       "      <td>0</td>\n",
       "      <td>0</td>\n",
       "      <td>0</td>\n",
       "      <td>0</td>\n",
       "    </tr>\n",
       "    <tr>\n",
       "      <th>2</th>\n",
       "      <td>Abilene ISD</td>\n",
       "      <td>https://www.abileneisd.org/wp-content/uploads/...</td>\n",
       "      <td>0 ABILENE INDEPENDENT SCHOOL DISTRICT Local In...</td>\n",
       "      <td>0.999955</td>\n",
       "      <td>2018.0</td>\n",
       "      <td>0</td>\n",
       "      <td>0</td>\n",
       "      <td>0</td>\n",
       "      <td>0</td>\n",
       "      <td>0</td>\n",
       "      <td>...</td>\n",
       "      <td>0</td>\n",
       "      <td>0</td>\n",
       "      <td>0</td>\n",
       "      <td>0</td>\n",
       "      <td>0</td>\n",
       "      <td>0</td>\n",
       "      <td>0</td>\n",
       "      <td>0</td>\n",
       "      <td>0</td>\n",
       "      <td>0</td>\n",
       "    </tr>\n",
       "    <tr>\n",
       "      <th>3</th>\n",
       "      <td>Academy ISD</td>\n",
       "      <td>https://4.files.edl.io/1a8f/06/29/18/204245-44...</td>\n",
       "      <td>District of Innovation Plan Developed in coope...</td>\n",
       "      <td>0.999208</td>\n",
       "      <td>2018.0</td>\n",
       "      <td>0</td>\n",
       "      <td>0</td>\n",
       "      <td>0</td>\n",
       "      <td>0</td>\n",
       "      <td>0</td>\n",
       "      <td>...</td>\n",
       "      <td>0</td>\n",
       "      <td>0</td>\n",
       "      <td>0</td>\n",
       "      <td>0</td>\n",
       "      <td>0</td>\n",
       "      <td>0</td>\n",
       "      <td>0</td>\n",
       "      <td>0</td>\n",
       "      <td>0</td>\n",
       "      <td>0</td>\n",
       "    </tr>\n",
       "    <tr>\n",
       "      <th>4</th>\n",
       "      <td>Adrian ISD</td>\n",
       "      <td>http://www.adrianisd.net/UserFiles/Servers/Ser...</td>\n",
       "      <td>Adrian ISD District of Innovation Plan House B...</td>\n",
       "      <td>0.999955</td>\n",
       "      <td>2018.0</td>\n",
       "      <td>0</td>\n",
       "      <td>0</td>\n",
       "      <td>0</td>\n",
       "      <td>0</td>\n",
       "      <td>0</td>\n",
       "      <td>...</td>\n",
       "      <td>0</td>\n",
       "      <td>0</td>\n",
       "      <td>0</td>\n",
       "      <td>0</td>\n",
       "      <td>0</td>\n",
       "      <td>0</td>\n",
       "      <td>0</td>\n",
       "      <td>0</td>\n",
       "      <td>0</td>\n",
       "      <td>0</td>\n",
       "    </tr>\n",
       "    <tr>\n",
       "      <th>5</th>\n",
       "      <td>Agua Dulce ISD</td>\n",
       "      <td>https://tx02206063.schoolwires.net/cms/lib/TX0...</td>\n",
       "      <td>Microsoft Word - DOI 2017-2022.docx Agua Dulce...</td>\n",
       "      <td>0.999955</td>\n",
       "      <td>2017.0</td>\n",
       "      <td>0</td>\n",
       "      <td>0</td>\n",
       "      <td>0</td>\n",
       "      <td>0</td>\n",
       "      <td>0</td>\n",
       "      <td>...</td>\n",
       "      <td>0</td>\n",
       "      <td>0</td>\n",
       "      <td>0</td>\n",
       "      <td>0</td>\n",
       "      <td>0</td>\n",
       "      <td>0</td>\n",
       "      <td>0</td>\n",
       "      <td>0</td>\n",
       "      <td>0</td>\n",
       "      <td>0</td>\n",
       "    </tr>\n",
       "    <tr>\n",
       "      <th>6</th>\n",
       "      <td>Alamo Heights ISD</td>\n",
       "      <td>http://www.ahisd.net/UserFiles/Servers/Server_...</td>\n",
       "      <td>1 | P a g e Mission Statement The Alamo Height...</td>\n",
       "      <td>0.999955</td>\n",
       "      <td>2016.0</td>\n",
       "      <td>0</td>\n",
       "      <td>0</td>\n",
       "      <td>0</td>\n",
       "      <td>0</td>\n",
       "      <td>0</td>\n",
       "      <td>...</td>\n",
       "      <td>0</td>\n",
       "      <td>0</td>\n",
       "      <td>0</td>\n",
       "      <td>0</td>\n",
       "      <td>0</td>\n",
       "      <td>0</td>\n",
       "      <td>0</td>\n",
       "      <td>0</td>\n",
       "      <td>0</td>\n",
       "      <td>0</td>\n",
       "    </tr>\n",
       "    <tr>\n",
       "      <th>7</th>\n",
       "      <td>Albany ISD</td>\n",
       "      <td>http://www.albanyisd.net/uploads/4/4/4/1/44419...</td>\n",
       "      <td>Microsoft Word - innovation_plan.docx Albany I...</td>\n",
       "      <td>0.999955</td>\n",
       "      <td>2017.0</td>\n",
       "      <td>0</td>\n",
       "      <td>0</td>\n",
       "      <td>0</td>\n",
       "      <td>0</td>\n",
       "      <td>0</td>\n",
       "      <td>...</td>\n",
       "      <td>0</td>\n",
       "      <td>0</td>\n",
       "      <td>0</td>\n",
       "      <td>0</td>\n",
       "      <td>0</td>\n",
       "      <td>0</td>\n",
       "      <td>0</td>\n",
       "      <td>0</td>\n",
       "      <td>0</td>\n",
       "      <td>0</td>\n",
       "    </tr>\n",
       "    <tr>\n",
       "      <th>8</th>\n",
       "      <td>Aldine ISD</td>\n",
       "      <td>http://insidealdine.com/wp-content/uploads/201...</td>\n",
       "      <td>Aldine District of Innovation Plan Approved by...</td>\n",
       "      <td>0.999955</td>\n",
       "      <td>2017.0</td>\n",
       "      <td>1</td>\n",
       "      <td>0</td>\n",
       "      <td>0</td>\n",
       "      <td>0</td>\n",
       "      <td>0</td>\n",
       "      <td>...</td>\n",
       "      <td>0</td>\n",
       "      <td>0</td>\n",
       "      <td>0</td>\n",
       "      <td>0</td>\n",
       "      <td>0</td>\n",
       "      <td>0</td>\n",
       "      <td>0</td>\n",
       "      <td>0</td>\n",
       "      <td>0</td>\n",
       "      <td>0</td>\n",
       "    </tr>\n",
       "    <tr>\n",
       "      <th>9</th>\n",
       "      <td>Aledo ISD</td>\n",
       "      <td>https://docs.google.com/viewerng/viewer?url=ht...</td>\n",
       "      <td>ALEDO Independent School District A Past to Re...</td>\n",
       "      <td>0.329979</td>\n",
       "      <td>2019.0</td>\n",
       "      <td>0</td>\n",
       "      <td>0</td>\n",
       "      <td>0</td>\n",
       "      <td>0</td>\n",
       "      <td>0</td>\n",
       "      <td>...</td>\n",
       "      <td>0</td>\n",
       "      <td>0</td>\n",
       "      <td>0</td>\n",
       "      <td>0</td>\n",
       "      <td>0</td>\n",
       "      <td>0</td>\n",
       "      <td>0</td>\n",
       "      <td>0</td>\n",
       "      <td>0</td>\n",
       "      <td>0</td>\n",
       "    </tr>\n",
       "  </tbody>\n",
       "</table>\n",
       "<p>10 rows × 194 columns</p>\n",
       "</div>"
      ],
      "text/plain": [
       "            district                                               link  \\\n",
       "0         Abbott ISD  https://www.abbottisd.org/ourpages/auto/2018/3...   \n",
       "1      Abernathy ISD  https://1.cdn.edl.io/epGD4mZXjWUcPl8yA7IhlcDol...   \n",
       "2        Abilene ISD  https://www.abileneisd.org/wp-content/uploads/...   \n",
       "3        Academy ISD  https://4.files.edl.io/1a8f/06/29/18/204245-44...   \n",
       "4         Adrian ISD  http://www.adrianisd.net/UserFiles/Servers/Ser...   \n",
       "5     Agua Dulce ISD  https://tx02206063.schoolwires.net/cms/lib/TX0...   \n",
       "6  Alamo Heights ISD  http://www.ahisd.net/UserFiles/Servers/Server_...   \n",
       "7         Albany ISD  http://www.albanyisd.net/uploads/4/4/4/1/44419...   \n",
       "8         Aldine ISD  http://insidealdine.com/wp-content/uploads/201...   \n",
       "9          Aledo ISD  https://docs.google.com/viewerng/viewer?url=ht...   \n",
       "\n",
       "                                                text     p_doi  doi_year  \\\n",
       "0  1 Abbott Independent School District District ...  0.999955    2018.0   \n",
       "1  Abernathy ISD District of Innovation Plan – Dr...  0.999904    2017.0   \n",
       "2  0 ABILENE INDEPENDENT SCHOOL DISTRICT Local In...  0.999955    2018.0   \n",
       "3  District of Innovation Plan Developed in coope...  0.999208    2018.0   \n",
       "4  Adrian ISD District of Innovation Plan House B...  0.999955    2018.0   \n",
       "5  Microsoft Word - DOI 2017-2022.docx Agua Dulce...  0.999955    2017.0   \n",
       "6  1 | P a g e Mission Statement The Alamo Height...  0.999955    2016.0   \n",
       "7  Microsoft Word - innovation_plan.docx Albany I...  0.999955    2017.0   \n",
       "8  Aldine District of Innovation Plan Approved by...  0.999955    2017.0   \n",
       "9  ALEDO Independent School District A Past to Re...  0.329979    2019.0   \n",
       "\n",
       "   reg11_1511  reg11_162  reg11_164  reg11_251  reg11_252  ...  reg45_204  \\\n",
       "0           0          0          0          0          0  ...          0   \n",
       "1           0          0          0          0          0  ...          0   \n",
       "2           0          0          0          0          0  ...          0   \n",
       "3           0          0          0          0          0  ...          0   \n",
       "4           0          0          0          0          0  ...          0   \n",
       "5           0          0          0          0          0  ...          0   \n",
       "6           0          0          0          0          0  ...          0   \n",
       "7           0          0          0          0          0  ...          0   \n",
       "8           1          0          0          0          0  ...          0   \n",
       "9           0          0          0          0          0  ...          0   \n",
       "\n",
       "   reg45_205  reg45_206  reg45_207  reg45_208  reg45_209  reg46_001  \\\n",
       "0          0          1          0          0          0          0   \n",
       "1          0          0          0          0          0          0   \n",
       "2          0          0          0          0          0          0   \n",
       "3          0          0          0          0          0          0   \n",
       "4          0          0          0          0          0          0   \n",
       "5          0          0          0          0          0          0   \n",
       "6          0          0          0          0          0          0   \n",
       "7          0          0          0          0          0          0   \n",
       "8          0          0          0          0          0          0   \n",
       "9          0          0          0          0          0          0   \n",
       "\n",
       "   reg51_403  reg55_0811  reg97_1001  \n",
       "0          0           0           0  \n",
       "1          0           0           0  \n",
       "2          0           0           0  \n",
       "3          0           0           0  \n",
       "4          0           0           0  \n",
       "5          0           0           0  \n",
       "6          0           0           0  \n",
       "7          0           0           0  \n",
       "8          0           0           0  \n",
       "9          0           0           0  \n",
       "\n",
       "[10 rows x 194 columns]"
      ]
     },
     "execution_count": 6,
     "metadata": {},
     "output_type": "execute_result"
    }
   ],
   "source": [
    "plans_onehot.columns = ['reg' + str(i).replace('.', '_') for i in plans_onehot.columns]\n",
    "plans_onehot = plans_onehot.drop(['reg'], axis=1)\n",
    "plans_onehot = plans_onehot.rename(index=str, columns= {'regtitle':'district', \n",
    "                                                        'reglink': 'link',\n",
    "                                                        'regtext': 'text',\n",
    "                                                        'regp_innovation':'p_doi',\n",
    "                                                        'regdoi_year' : 'doi_year'})\n",
    "plans_onehot.head(10)"
   ]
  },
  {
   "cell_type": "code",
   "execution_count": 7,
   "metadata": {},
   "outputs": [
    {
     "data": {
      "text/plain": [
       "824"
      ]
     },
     "execution_count": 7,
     "metadata": {},
     "output_type": "execute_result"
    }
   ],
   "source": [
    "len(plans_onehot)"
   ]
  },
  {
   "cell_type": "code",
   "execution_count": 8,
   "metadata": {},
   "outputs": [
    {
     "name": "stdout",
     "output_type": "stream",
     "text": [
      "824\n",
      "824\n"
     ]
    }
   ],
   "source": [
    "cols = [c for c in plans_onehot.columns if c.lower()[:3] == 'reg']\n",
    "plans_onehot['total'] = plans_onehot[cols].sum(axis = 1)\n",
    "print(len(plans_onehot))\n",
    "# drop documents with missing regulations\n",
    "#plans_onehot = plans_onehot[plans_onehot.total > 0]\n",
    "print(len(plans_onehot))"
   ]
  },
  {
   "cell_type": "code",
   "execution_count": 9,
   "metadata": {},
   "outputs": [],
   "source": [
    "# replace values\n",
    "plans_onehot['reg25_0811'] = np.where((plans_onehot.reg25_081 == 1), 1, plans_onehot.reg25_0811)"
   ]
  },
  {
   "cell_type": "markdown",
   "metadata": {},
   "source": [
    "# Save"
   ]
  },
  {
   "cell_type": "code",
   "execution_count": 10,
   "metadata": {},
   "outputs": [],
   "source": [
    "plans_onehot.to_csv((os.path.join(data_path, 'doi_final_wtext.csv')))\n",
    "plans_onehot = plans_onehot.drop(['text'], axis = 1)\n",
    "plans_onehot.to_csv((os.path.join(data_path, 'doi_final.csv')))"
   ]
  },
  {
   "cell_type": "code",
   "execution_count": 11,
   "metadata": {},
   "outputs": [],
   "source": [
    "df = pd.read_csv((os.path.join(data_path, 'doi_final.csv')))"
   ]
  },
  {
   "cell_type": "code",
   "execution_count": 12,
   "metadata": {},
   "outputs": [
    {
     "data": {
      "text/plain": [
       "0.970873786407767"
      ]
     },
     "execution_count": 12,
     "metadata": {},
     "output_type": "execute_result"
    }
   ],
   "source": [
    "plans_onehot.reg25_0811.mean()"
   ]
  },
  {
   "cell_type": "code",
   "execution_count": 13,
   "metadata": {},
   "outputs": [
    {
     "data": {
      "text/plain": [
       "0.970873786407767"
      ]
     },
     "execution_count": 13,
     "metadata": {},
     "output_type": "execute_result"
    }
   ],
   "source": [
    "df.reg25_0811.mean()"
   ]
  },
  {
   "cell_type": "code",
   "execution_count": 14,
   "metadata": {},
   "outputs": [
    {
     "data": {
      "text/plain": [
       "214"
      ]
     },
     "execution_count": 14,
     "metadata": {},
     "output_type": "execute_result"
    }
   ],
   "source": [
    "# Just certification, not other inputs\n",
    "len(df[(df.reg21_003 == 1) & (df.reg25_112 == 0) & (df.reg25_081 == 0)])"
   ]
  },
  {
   "cell_type": "code",
   "execution_count": 15,
   "metadata": {},
   "outputs": [
    {
     "data": {
      "text/plain": [
       "18"
      ]
     },
     "execution_count": 15,
     "metadata": {},
     "output_type": "execute_result"
    }
   ],
   "source": [
    "# Just class size, not other inputs\n",
    "len(df[(df.reg21_003 == 0) & (df.reg25_112 == 1) & (df.reg25_081 == 0)])"
   ]
  },
  {
   "cell_type": "code",
   "execution_count": 16,
   "metadata": {},
   "outputs": [
    {
     "data": {
      "text/plain": [
       "18"
      ]
     },
     "execution_count": 16,
     "metadata": {},
     "output_type": "execute_result"
    }
   ],
   "source": [
    "# Just minutes of operation, not other inputs\n",
    "len(df[(df.reg21_003 == 0) & (df.reg25_112 == 0) & (df.reg25_081 == 1)])"
   ]
  },
  {
   "cell_type": "code",
   "execution_count": 17,
   "metadata": {},
   "outputs": [
    {
     "data": {
      "text/plain": [
       "824"
      ]
     },
     "execution_count": 17,
     "metadata": {},
     "output_type": "execute_result"
    }
   ],
   "source": [
    "len(df)"
   ]
  },
  {
   "cell_type": "code",
   "execution_count": null,
   "metadata": {},
   "outputs": [],
   "source": []
  }
 ],
 "metadata": {
  "kernelspec": {
   "display_name": "Python [conda env:spacy]",
   "language": "python",
   "name": "conda-env-spacy-py"
  },
  "language_info": {
   "codemirror_mode": {
    "name": "ipython",
    "version": 3
   },
   "file_extension": ".py",
   "mimetype": "text/x-python",
   "name": "python",
   "nbconvert_exporter": "python",
   "pygments_lexer": "ipython3",
   "version": "3.7.2"
  }
 },
 "nbformat": 4,
 "nbformat_minor": 2
}
