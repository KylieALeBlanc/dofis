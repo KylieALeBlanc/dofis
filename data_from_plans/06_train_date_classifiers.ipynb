{
 "cells": [
  {
   "cell_type": "markdown",
   "metadata": {},
   "source": [
    "# Train classifer on date phrases to find plan start date"
   ]
  },
  {
   "cell_type": "code",
   "execution_count": 5,
   "metadata": {},
   "outputs": [],
   "source": [
    "import csv\n",
    "import pandas as pd\n",
    "import os\n",
    "import classify\n",
    "import extract_dates\n",
    "import random\n",
    "from start import data_path"
   ]
  },
  {
   "cell_type": "markdown",
   "metadata": {},
   "source": [
    "## Create training data"
   ]
  },
  {
   "cell_type": "code",
   "execution_count": 6,
   "metadata": {},
   "outputs": [],
   "source": [
    "docs = pd.read_csv(os.path.join(data_path, 'text_narrowed.csv'))"
   ]
  },
  {
   "cell_type": "markdown",
   "metadata": {},
   "source": [
    "### Randomly sample ten plans"
   ]
  },
  {
   "cell_type": "markdown",
   "metadata": {},
   "source": [
    "Do not overwrite labelled document set unless you want to relabel. relabel_docs = False uses previously randomly sample plans."
   ]
  },
  {
   "cell_type": "code",
   "execution_count": 7,
   "metadata": {},
   "outputs": [],
   "source": [
    "relabel = False\n",
    "if relabel:\n",
    "    docs_to_label = docs[docs.p_innovation >.5].sample(n = 10)\n",
    "    docs_to_label.index"
   ]
  },
  {
   "cell_type": "code",
   "execution_count": 8,
   "metadata": {},
   "outputs": [],
   "source": [
    "if not relabel:\n",
    "    docs_to_label = docs[docs.title == \"Ector County ISD\"]\n",
    "    docs_to_label = docs_to_label.append(docs[docs.title == \"Dimmitt ISD\"])\n",
    "    docs_to_label = docs_to_label.append(docs[docs.title == \"Sunnyvale ISD\"])\n",
    "    docs_to_label = docs_to_label.append(docs[docs.title == \"Sunray ISD\"])\n",
    "    docs_to_label = docs_to_label.append(docs[docs.title == \"Douglass ISD\"])\n",
    "    docs_to_label = docs_to_label.append(docs[docs.title == \"Dodd City ISD\"])\n",
    "    docs_to_label = docs_to_label.append(docs[docs.title == \"Snyder ISD\"])\n",
    "    docs_to_label = docs_to_label.append(docs[docs.title == \"Mart ISD\"])\n",
    "    docs_to_label = docs_to_label.append(docs[docs.title == \"Rivercrest ISD\"])"
   ]
  },
  {
   "cell_type": "code",
   "execution_count": 9,
   "metadata": {},
   "outputs": [
    {
     "data": {
      "text/html": [
       "<div>\n",
       "<style scoped>\n",
       "    .dataframe tbody tr th:only-of-type {\n",
       "        vertical-align: middle;\n",
       "    }\n",
       "\n",
       "    .dataframe tbody tr th {\n",
       "        vertical-align: top;\n",
       "    }\n",
       "\n",
       "    .dataframe thead th {\n",
       "        text-align: right;\n",
       "    }\n",
       "</style>\n",
       "<table border=\"1\" class=\"dataframe\">\n",
       "  <thead>\n",
       "    <tr style=\"text-align: right;\">\n",
       "      <th></th>\n",
       "      <th>Unnamed: 0</th>\n",
       "      <th>Unnamed: 0.1</th>\n",
       "      <th>Unnamed: 0.1.1</th>\n",
       "      <th>Unnamed: 0.1.1.1</th>\n",
       "      <th>title</th>\n",
       "      <th>level</th>\n",
       "      <th>type</th>\n",
       "      <th>link</th>\n",
       "      <th>text</th>\n",
       "      <th>p_innovation</th>\n",
       "    </tr>\n",
       "  </thead>\n",
       "  <tbody>\n",
       "    <tr>\n",
       "      <td>599</td>\n",
       "      <td>328</td>\n",
       "      <td>328</td>\n",
       "      <td>328</td>\n",
       "      <td>328</td>\n",
       "      <td>Ector County ISD</td>\n",
       "      <td>First</td>\n",
       "      <td>pdf</td>\n",
       "      <td>http://www.ectorcountyisd.org/cms/lib011/tx010...</td>\n",
       "      <td>ECISD District of Innovation Plan 1 I. Introdu...</td>\n",
       "      <td>0.999729</td>\n",
       "    </tr>\n",
       "    <tr>\n",
       "      <td>611</td>\n",
       "      <td>3819</td>\n",
       "      <td>3819</td>\n",
       "      <td>3819</td>\n",
       "      <td>218</td>\n",
       "      <td>Dimmitt ISD</td>\n",
       "      <td>html</td>\n",
       "      <td>html</td>\n",
       "      <td>http://www.dimmittisd.net/vnews/display.v/ART/...</td>\n",
       "      <td>Not a plan</td>\n",
       "      <td>0.000618</td>\n",
       "    </tr>\n",
       "    <tr>\n",
       "      <td>107</td>\n",
       "      <td>2067</td>\n",
       "      <td>2067</td>\n",
       "      <td>2067</td>\n",
       "      <td>2282</td>\n",
       "      <td>Sunnyvale ISD</td>\n",
       "      <td>Second</td>\n",
       "      <td>pdf</td>\n",
       "      <td>http://www.sunnyvaleisd.com/site/handlers/file...</td>\n",
       "      <td>Sunnyvale ISD District of Innovation Plan Spri...</td>\n",
       "      <td>0.999955</td>\n",
       "    </tr>\n",
       "    <tr>\n",
       "      <td>106</td>\n",
       "      <td>172</td>\n",
       "      <td>172</td>\n",
       "      <td>172</td>\n",
       "      <td>172</td>\n",
       "      <td>Sunray ISD</td>\n",
       "      <td>First</td>\n",
       "      <td>pdf</td>\n",
       "      <td>https://1.cdn.edl.io/Rb3eNoIDEma2NVfd5LdmKpqLB...</td>\n",
       "      <td>Not a plan</td>\n",
       "      <td>0.000045</td>\n",
       "    </tr>\n",
       "    <tr>\n",
       "      <td>609</td>\n",
       "      <td>15</td>\n",
       "      <td>15</td>\n",
       "      <td>15</td>\n",
       "      <td>15</td>\n",
       "      <td>Douglass ISD</td>\n",
       "      <td>First</td>\n",
       "      <td>google</td>\n",
       "      <td>https://drive.google.com/file/d/1_OzEr7LnngRcQ...</td>\n",
       "      <td>Douglass ISD District of Innovation Plan (HB 1...</td>\n",
       "      <td>0.999955</td>\n",
       "    </tr>\n",
       "    <tr>\n",
       "      <td>610</td>\n",
       "      <td>28</td>\n",
       "      <td>28</td>\n",
       "      <td>28</td>\n",
       "      <td>28</td>\n",
       "      <td>Dodd City ISD</td>\n",
       "      <td>First</td>\n",
       "      <td>pdf</td>\n",
       "      <td>https://s3.amazonaws.com/scschoolfiles/1212/dc...</td>\n",
       "      <td>Dodd City Independent School District District...</td>\n",
       "      <td>0.999955</td>\n",
       "    </tr>\n",
       "    <tr>\n",
       "      <td>132</td>\n",
       "      <td>356</td>\n",
       "      <td>356</td>\n",
       "      <td>356</td>\n",
       "      <td>356</td>\n",
       "      <td>Snyder ISD</td>\n",
       "      <td>First</td>\n",
       "      <td>pdf</td>\n",
       "      <td>https://1.cdn.edl.io/7b21ktMGjSuFIU9LdTLlk0PHz...</td>\n",
       "      <td>SISD Local Innovation Plan (1) Snyder ISD Dist...</td>\n",
       "      <td>0.999955</td>\n",
       "    </tr>\n",
       "    <tr>\n",
       "      <td>346</td>\n",
       "      <td>178</td>\n",
       "      <td>178</td>\n",
       "      <td>178</td>\n",
       "      <td>178</td>\n",
       "      <td>Mart ISD</td>\n",
       "      <td>First</td>\n",
       "      <td>pdf</td>\n",
       "      <td>http://www.martisd.org/upload/page/0001/docs/D...</td>\n",
       "      <td>Not a plan</td>\n",
       "      <td>0.000045</td>\n",
       "    </tr>\n",
       "    <tr>\n",
       "      <td>194</td>\n",
       "      <td>197</td>\n",
       "      <td>197</td>\n",
       "      <td>197</td>\n",
       "      <td>197</td>\n",
       "      <td>Rivercrest ISD</td>\n",
       "      <td>First</td>\n",
       "      <td>pdf</td>\n",
       "      <td>http://s3.amazonaws.com/scschoolfiles/760/inno...</td>\n",
       "      <td>Not a plan</td>\n",
       "      <td>0.000045</td>\n",
       "    </tr>\n",
       "  </tbody>\n",
       "</table>\n",
       "</div>"
      ],
      "text/plain": [
       "     Unnamed: 0  Unnamed: 0.1  Unnamed: 0.1.1  Unnamed: 0.1.1.1  \\\n",
       "599         328           328             328               328   \n",
       "611        3819          3819            3819               218   \n",
       "107        2067          2067            2067              2282   \n",
       "106         172           172             172               172   \n",
       "609          15            15              15                15   \n",
       "610          28            28              28                28   \n",
       "132         356           356             356               356   \n",
       "346         178           178             178               178   \n",
       "194         197           197             197               197   \n",
       "\n",
       "                title   level    type  \\\n",
       "599  Ector County ISD   First     pdf   \n",
       "611       Dimmitt ISD    html    html   \n",
       "107     Sunnyvale ISD  Second     pdf   \n",
       "106        Sunray ISD   First     pdf   \n",
       "609      Douglass ISD   First  google   \n",
       "610     Dodd City ISD   First     pdf   \n",
       "132        Snyder ISD   First     pdf   \n",
       "346          Mart ISD   First     pdf   \n",
       "194    Rivercrest ISD   First     pdf   \n",
       "\n",
       "                                                  link  \\\n",
       "599  http://www.ectorcountyisd.org/cms/lib011/tx010...   \n",
       "611  http://www.dimmittisd.net/vnews/display.v/ART/...   \n",
       "107  http://www.sunnyvaleisd.com/site/handlers/file...   \n",
       "106  https://1.cdn.edl.io/Rb3eNoIDEma2NVfd5LdmKpqLB...   \n",
       "609  https://drive.google.com/file/d/1_OzEr7LnngRcQ...   \n",
       "610  https://s3.amazonaws.com/scschoolfiles/1212/dc...   \n",
       "132  https://1.cdn.edl.io/7b21ktMGjSuFIU9LdTLlk0PHz...   \n",
       "346  http://www.martisd.org/upload/page/0001/docs/D...   \n",
       "194  http://s3.amazonaws.com/scschoolfiles/760/inno...   \n",
       "\n",
       "                                                  text  p_innovation  \n",
       "599  ECISD District of Innovation Plan 1 I. Introdu...      0.999729  \n",
       "611                                         Not a plan      0.000618  \n",
       "107  Sunnyvale ISD District of Innovation Plan Spri...      0.999955  \n",
       "106                                         Not a plan      0.000045  \n",
       "609  Douglass ISD District of Innovation Plan (HB 1...      0.999955  \n",
       "610  Dodd City Independent School District District...      0.999955  \n",
       "132  SISD Local Innovation Plan (1) Snyder ISD Dist...      0.999955  \n",
       "346                                         Not a plan      0.000045  \n",
       "194                                         Not a plan      0.000045  "
      ]
     },
     "execution_count": 9,
     "metadata": {},
     "output_type": "execute_result"
    }
   ],
   "source": [
    "docs_to_label"
   ]
  },
  {
   "cell_type": "markdown",
   "metadata": {},
   "source": [
    "## Collect phrases surrounding date match. Currently, function collects 8 words before and 6 words after but more if an entity is cut off."
   ]
  },
  {
   "cell_type": "code",
   "execution_count": 10,
   "metadata": {},
   "outputs": [],
   "source": [
    "date_phrases = []\n",
    "for text in docs_to_label.text:\n",
    "    phrases = extract_dates.get_phrase_list(text = text)\n",
    "    for phrase in phrases:\n",
    "        date_phrases.append(phrase)\n",
    "date_phrases = [str(item) for item in date_phrases]"
   ]
  },
  {
   "cell_type": "markdown",
   "metadata": {},
   "source": [
    "## Export to manually label. \n",
    "#### Term date refers to a phrase in the plan which specifies when the DOI plan begins and ends. Here, we refer to finalize date as any step in the DOI process (board votes, plan drafted, commissioner notified). Later,  we will treat only the latest 'finalize date' as the date the plan was finalized. "
   ]
  },
  {
   "cell_type": "code",
   "execution_count": 11,
   "metadata": {},
   "outputs": [],
   "source": [
    "phrase_df = pd.DataFrame({'text':date_phrases, 'term' : '', 'finalize': ''})\n",
    "phrase_df.to_csv(os.path.join(data_path, 'dates_to_label.csv'))"
   ]
  },
  {
   "cell_type": "markdown",
   "metadata": {},
   "source": [
    "## Save relabelled as dates_to_label_labelled.csv. Upload."
   ]
  },
  {
   "cell_type": "code",
   "execution_count": 12,
   "metadata": {},
   "outputs": [
    {
     "data": {
      "text/html": [
       "<div>\n",
       "<style scoped>\n",
       "    .dataframe tbody tr th:only-of-type {\n",
       "        vertical-align: middle;\n",
       "    }\n",
       "\n",
       "    .dataframe tbody tr th {\n",
       "        vertical-align: top;\n",
       "    }\n",
       "\n",
       "    .dataframe thead th {\n",
       "        text-align: right;\n",
       "    }\n",
       "</style>\n",
       "<table border=\"1\" class=\"dataframe\">\n",
       "  <thead>\n",
       "    <tr style=\"text-align: right;\">\n",
       "      <th></th>\n",
       "      <th>Unnamed: 0</th>\n",
       "      <th>text</th>\n",
       "      <th>term</th>\n",
       "      <th>finalize</th>\n",
       "    </tr>\n",
       "  </thead>\n",
       "  <tbody>\n",
       "    <tr>\n",
       "      <td>0</td>\n",
       "      <td>0</td>\n",
       "      <td>of Innovation Plan 1 I. Introduction House Bil...</td>\n",
       "      <td>False</td>\n",
       "      <td>False</td>\n",
       "    </tr>\n",
       "    <tr>\n",
       "      <td>1</td>\n",
       "      <td>1</td>\n",
       "      <td>the Texas Education Code. On February 21, 2017...</td>\n",
       "      <td>False</td>\n",
       "      <td>True</td>\n",
       "    </tr>\n",
       "    <tr>\n",
       "      <td>2</td>\n",
       "      <td>2</td>\n",
       "      <td>and the community. On February 28, 2017, the B...</td>\n",
       "      <td>False</td>\n",
       "      <td>True</td>\n",
       "    </tr>\n",
       "    <tr>\n",
       "      <td>3</td>\n",
       "      <td>3</td>\n",
       "      <td>March 2, 6, and 10, 2017, to discuss and draft</td>\n",
       "      <td>False</td>\n",
       "      <td>True</td>\n",
       "    </tr>\n",
       "    <tr>\n",
       "      <td>4</td>\n",
       "      <td>4</td>\n",
       "      <td>term of the Plan will begin with the 2017-2018...</td>\n",
       "      <td>True</td>\n",
       "      <td>False</td>\n",
       "    </tr>\n",
       "  </tbody>\n",
       "</table>\n",
       "</div>"
      ],
      "text/plain": [
       "   Unnamed: 0                                               text   term  \\\n",
       "0           0  of Innovation Plan 1 I. Introduction House Bil...  False   \n",
       "1           1  the Texas Education Code. On February 21, 2017...  False   \n",
       "2           2  and the community. On February 28, 2017, the B...  False   \n",
       "3           3     March 2, 6, and 10, 2017, to discuss and draft  False   \n",
       "4           4  term of the Plan will begin with the 2017-2018...   True   \n",
       "\n",
       "   finalize  \n",
       "0     False  \n",
       "1      True  \n",
       "2      True  \n",
       "3      True  \n",
       "4     False  "
      ]
     },
     "execution_count": 12,
     "metadata": {},
     "output_type": "execute_result"
    }
   ],
   "source": [
    "labelled = pd.read_csv(os.path.join(data_path, 'dates_to_label_labelled.csv'))\n",
    "labelled = labelled.replace({'FALSE': 'False', 'TRUE': 'True'})\n",
    "labelled.head()"
   ]
  },
  {
   "cell_type": "code",
   "execution_count": 13,
   "metadata": {},
   "outputs": [
    {
     "ename": "ValueError",
     "evalue": "Length of values does not match length of index",
     "output_type": "error",
     "traceback": [
      "\u001b[0;31m---------------------------------------------------------------------------\u001b[0m",
      "\u001b[0;31mValueError\u001b[0m                                Traceback (most recent call last)",
      "\u001b[0;32m<ipython-input-13-b4b598c975a3>\u001b[0m in \u001b[0;36m<module>\u001b[0;34m\u001b[0m\n\u001b[0;32m----> 1\u001b[0;31m \u001b[0mphrase_df\u001b[0m\u001b[0;34m[\u001b[0m\u001b[0;34m'finalize'\u001b[0m\u001b[0;34m]\u001b[0m \u001b[0;34m=\u001b[0m \u001b[0mlist\u001b[0m\u001b[0;34m(\u001b[0m\u001b[0mlabelled\u001b[0m\u001b[0;34m.\u001b[0m\u001b[0mfinalize\u001b[0m\u001b[0;34m)\u001b[0m\u001b[0;34m\u001b[0m\u001b[0;34m\u001b[0m\u001b[0m\n\u001b[0m\u001b[1;32m      2\u001b[0m \u001b[0mphrase_df\u001b[0m\u001b[0;34m[\u001b[0m\u001b[0;34m'term'\u001b[0m\u001b[0;34m]\u001b[0m \u001b[0;34m=\u001b[0m \u001b[0mlist\u001b[0m\u001b[0;34m(\u001b[0m\u001b[0mlabelled\u001b[0m\u001b[0;34m.\u001b[0m\u001b[0mterm\u001b[0m\u001b[0;34m)\u001b[0m\u001b[0;34m\u001b[0m\u001b[0;34m\u001b[0m\u001b[0m\n\u001b[1;32m      3\u001b[0m \u001b[0mphrase_df\u001b[0m\u001b[0;34m.\u001b[0m\u001b[0mhead\u001b[0m\u001b[0;34m(\u001b[0m\u001b[0;34m)\u001b[0m\u001b[0;34m\u001b[0m\u001b[0;34m\u001b[0m\u001b[0m\n",
      "\u001b[0;32m~/.pyenv/versions/anaconda3-2019.10/lib/python3.7/site-packages/pandas/core/frame.py\u001b[0m in \u001b[0;36m__setitem__\u001b[0;34m(self, key, value)\u001b[0m\n\u001b[1;32m   3470\u001b[0m         \u001b[0;32melse\u001b[0m\u001b[0;34m:\u001b[0m\u001b[0;34m\u001b[0m\u001b[0;34m\u001b[0m\u001b[0m\n\u001b[1;32m   3471\u001b[0m             \u001b[0;31m# set column\u001b[0m\u001b[0;34m\u001b[0m\u001b[0;34m\u001b[0m\u001b[0;34m\u001b[0m\u001b[0m\n\u001b[0;32m-> 3472\u001b[0;31m             \u001b[0mself\u001b[0m\u001b[0;34m.\u001b[0m\u001b[0m_set_item\u001b[0m\u001b[0;34m(\u001b[0m\u001b[0mkey\u001b[0m\u001b[0;34m,\u001b[0m \u001b[0mvalue\u001b[0m\u001b[0;34m)\u001b[0m\u001b[0;34m\u001b[0m\u001b[0;34m\u001b[0m\u001b[0m\n\u001b[0m\u001b[1;32m   3473\u001b[0m \u001b[0;34m\u001b[0m\u001b[0m\n\u001b[1;32m   3474\u001b[0m     \u001b[0;32mdef\u001b[0m \u001b[0m_setitem_slice\u001b[0m\u001b[0;34m(\u001b[0m\u001b[0mself\u001b[0m\u001b[0;34m,\u001b[0m \u001b[0mkey\u001b[0m\u001b[0;34m,\u001b[0m \u001b[0mvalue\u001b[0m\u001b[0;34m)\u001b[0m\u001b[0;34m:\u001b[0m\u001b[0;34m\u001b[0m\u001b[0;34m\u001b[0m\u001b[0m\n",
      "\u001b[0;32m~/.pyenv/versions/anaconda3-2019.10/lib/python3.7/site-packages/pandas/core/frame.py\u001b[0m in \u001b[0;36m_set_item\u001b[0;34m(self, key, value)\u001b[0m\n\u001b[1;32m   3547\u001b[0m \u001b[0;34m\u001b[0m\u001b[0m\n\u001b[1;32m   3548\u001b[0m         \u001b[0mself\u001b[0m\u001b[0;34m.\u001b[0m\u001b[0m_ensure_valid_index\u001b[0m\u001b[0;34m(\u001b[0m\u001b[0mvalue\u001b[0m\u001b[0;34m)\u001b[0m\u001b[0;34m\u001b[0m\u001b[0;34m\u001b[0m\u001b[0m\n\u001b[0;32m-> 3549\u001b[0;31m         \u001b[0mvalue\u001b[0m \u001b[0;34m=\u001b[0m \u001b[0mself\u001b[0m\u001b[0;34m.\u001b[0m\u001b[0m_sanitize_column\u001b[0m\u001b[0;34m(\u001b[0m\u001b[0mkey\u001b[0m\u001b[0;34m,\u001b[0m \u001b[0mvalue\u001b[0m\u001b[0;34m)\u001b[0m\u001b[0;34m\u001b[0m\u001b[0;34m\u001b[0m\u001b[0m\n\u001b[0m\u001b[1;32m   3550\u001b[0m         \u001b[0mNDFrame\u001b[0m\u001b[0;34m.\u001b[0m\u001b[0m_set_item\u001b[0m\u001b[0;34m(\u001b[0m\u001b[0mself\u001b[0m\u001b[0;34m,\u001b[0m \u001b[0mkey\u001b[0m\u001b[0;34m,\u001b[0m \u001b[0mvalue\u001b[0m\u001b[0;34m)\u001b[0m\u001b[0;34m\u001b[0m\u001b[0;34m\u001b[0m\u001b[0m\n\u001b[1;32m   3551\u001b[0m \u001b[0;34m\u001b[0m\u001b[0m\n",
      "\u001b[0;32m~/.pyenv/versions/anaconda3-2019.10/lib/python3.7/site-packages/pandas/core/frame.py\u001b[0m in \u001b[0;36m_sanitize_column\u001b[0;34m(self, key, value, broadcast)\u001b[0m\n\u001b[1;32m   3732\u001b[0m \u001b[0;34m\u001b[0m\u001b[0m\n\u001b[1;32m   3733\u001b[0m             \u001b[0;31m# turn me into an ndarray\u001b[0m\u001b[0;34m\u001b[0m\u001b[0;34m\u001b[0m\u001b[0;34m\u001b[0m\u001b[0m\n\u001b[0;32m-> 3734\u001b[0;31m             \u001b[0mvalue\u001b[0m \u001b[0;34m=\u001b[0m \u001b[0msanitize_index\u001b[0m\u001b[0;34m(\u001b[0m\u001b[0mvalue\u001b[0m\u001b[0;34m,\u001b[0m \u001b[0mself\u001b[0m\u001b[0;34m.\u001b[0m\u001b[0mindex\u001b[0m\u001b[0;34m,\u001b[0m \u001b[0mcopy\u001b[0m\u001b[0;34m=\u001b[0m\u001b[0;32mFalse\u001b[0m\u001b[0;34m)\u001b[0m\u001b[0;34m\u001b[0m\u001b[0;34m\u001b[0m\u001b[0m\n\u001b[0m\u001b[1;32m   3735\u001b[0m             \u001b[0;32mif\u001b[0m \u001b[0;32mnot\u001b[0m \u001b[0misinstance\u001b[0m\u001b[0;34m(\u001b[0m\u001b[0mvalue\u001b[0m\u001b[0;34m,\u001b[0m \u001b[0;34m(\u001b[0m\u001b[0mnp\u001b[0m\u001b[0;34m.\u001b[0m\u001b[0mndarray\u001b[0m\u001b[0;34m,\u001b[0m \u001b[0mIndex\u001b[0m\u001b[0;34m)\u001b[0m\u001b[0;34m)\u001b[0m\u001b[0;34m:\u001b[0m\u001b[0;34m\u001b[0m\u001b[0;34m\u001b[0m\u001b[0m\n\u001b[1;32m   3736\u001b[0m                 \u001b[0;32mif\u001b[0m \u001b[0misinstance\u001b[0m\u001b[0;34m(\u001b[0m\u001b[0mvalue\u001b[0m\u001b[0;34m,\u001b[0m \u001b[0mlist\u001b[0m\u001b[0;34m)\u001b[0m \u001b[0;32mand\u001b[0m \u001b[0mlen\u001b[0m\u001b[0;34m(\u001b[0m\u001b[0mvalue\u001b[0m\u001b[0;34m)\u001b[0m \u001b[0;34m>\u001b[0m \u001b[0;36m0\u001b[0m\u001b[0;34m:\u001b[0m\u001b[0;34m\u001b[0m\u001b[0;34m\u001b[0m\u001b[0m\n",
      "\u001b[0;32m~/.pyenv/versions/anaconda3-2019.10/lib/python3.7/site-packages/pandas/core/internals/construction.py\u001b[0m in \u001b[0;36msanitize_index\u001b[0;34m(data, index, copy)\u001b[0m\n\u001b[1;32m    610\u001b[0m \u001b[0;34m\u001b[0m\u001b[0m\n\u001b[1;32m    611\u001b[0m     \u001b[0;32mif\u001b[0m \u001b[0mlen\u001b[0m\u001b[0;34m(\u001b[0m\u001b[0mdata\u001b[0m\u001b[0;34m)\u001b[0m \u001b[0;34m!=\u001b[0m \u001b[0mlen\u001b[0m\u001b[0;34m(\u001b[0m\u001b[0mindex\u001b[0m\u001b[0;34m)\u001b[0m\u001b[0;34m:\u001b[0m\u001b[0;34m\u001b[0m\u001b[0;34m\u001b[0m\u001b[0m\n\u001b[0;32m--> 612\u001b[0;31m         \u001b[0;32mraise\u001b[0m \u001b[0mValueError\u001b[0m\u001b[0;34m(\u001b[0m\u001b[0;34m\"Length of values does not match length of index\"\u001b[0m\u001b[0;34m)\u001b[0m\u001b[0;34m\u001b[0m\u001b[0;34m\u001b[0m\u001b[0m\n\u001b[0m\u001b[1;32m    613\u001b[0m \u001b[0;34m\u001b[0m\u001b[0m\n\u001b[1;32m    614\u001b[0m     \u001b[0;32mif\u001b[0m \u001b[0misinstance\u001b[0m\u001b[0;34m(\u001b[0m\u001b[0mdata\u001b[0m\u001b[0;34m,\u001b[0m \u001b[0mABCIndexClass\u001b[0m\u001b[0;34m)\u001b[0m \u001b[0;32mand\u001b[0m \u001b[0;32mnot\u001b[0m \u001b[0mcopy\u001b[0m\u001b[0;34m:\u001b[0m\u001b[0;34m\u001b[0m\u001b[0;34m\u001b[0m\u001b[0m\n",
      "\u001b[0;31mValueError\u001b[0m: Length of values does not match length of index"
     ]
    }
   ],
   "source": [
    "phrase_df['finalize'] = list(labelled.finalize)\n",
    "phrase_df['term'] = list(labelled.term)\n",
    "phrase_df.head()"
   ]
  },
  {
   "cell_type": "code",
   "execution_count": 10,
   "metadata": {
    "collapsed": true
   },
   "outputs": [],
   "source": [
    "phrase_df = phrase_df.sample(frac = 1)"
   ]
  },
  {
   "cell_type": "code",
   "execution_count": 11,
   "metadata": {},
   "outputs": [
    {
     "name": "stdout",
     "output_type": "stream",
     "text": [
      "The first n-30 of documents are used for training. Term date training dataset statistics:\n",
      "False    101\n",
      "True      26\n",
      "Name: term, dtype: int64\n",
      "The last 30 of documents are used for testing. Term date testing dataset statistics:\n",
      "False    23\n",
      "True      7\n",
      "Name: term, dtype: int64\n",
      "The first n-30 of documents are used for training. Finalize date training dataset statistics:\n",
      "True     75\n",
      "False    52\n",
      "Name: finalize, dtype: int64\n",
      "The last 30 of documents are used for testing. Finalize date testing dataset statistics:\n",
      "True     19\n",
      "False    11\n",
      "Name: finalize, dtype: int64\n"
     ]
    }
   ],
   "source": [
    "print('The first n-30 of documents are used for training. Term date training dataset statistics:')\n",
    "split = int(len(phrase_df) - 30)\n",
    "print(phrase_df.head(split)['term'].value_counts())\n",
    "\n",
    "print('The last 30 of documents are used for testing. Term date testing dataset statistics:')\n",
    "print(phrase_df.tail(30)['term'].value_counts())\n",
    "\n",
    "print('The first n-30 of documents are used for training. Finalize date training dataset statistics:')\n",
    "split = int(len(phrase_df) - 30)\n",
    "print(phrase_df.head(split)['finalize'].value_counts())\n",
    "\n",
    "print('The last 30 of documents are used for testing. Finalize date testing dataset statistics:')\n",
    "print(phrase_df.tail(30)['finalize'].value_counts())"
   ]
  },
  {
   "cell_type": "markdown",
   "metadata": {},
   "source": [
    "# Train term classifier"
   ]
  },
  {
   "cell_type": "code",
   "execution_count": 12,
   "metadata": {
    "collapsed": true
   },
   "outputs": [],
   "source": [
    "texts, cats = classify.reformat_cat_from_df(df = phrase_df,\n",
    "                                      text_col = 'text',\n",
    "                                      label_col = 'term',\n",
    "                                      category = 'TERM')\n",
    "output_dir = os.path.join(data_path, 'date_finalize_classifier')"
   ]
  },
  {
   "cell_type": "code",
   "execution_count": 13,
   "metadata": {
    "scrolled": true
   },
   "outputs": [
    {
     "name": "stdout",
     "output_type": "stream",
     "text": [
      "Created blank 'en' model\n",
      "Using 157 examples (127 training, 30 evaluation)\n",
      "Warning: Unnamed vectors -- this won't allow multiple vectors models to be loaded. (Shape: (0, 0))\n",
      "Training the model...\n",
      "LOSS \t  P  \t  R  \t  F  \n",
      "6.285\t0.500\t0.143\t0.222\n",
      "4.461\t0.667\t0.571\t0.615\n",
      "3.254\t0.857\t0.857\t0.857\n",
      "1.734\t0.857\t0.857\t0.857\n",
      "1.148\t0.833\t0.714\t0.769\n",
      "1.469\t1.000\t0.714\t0.833\n",
      "1.426\t1.000\t0.714\t0.833\n",
      "0.416\t1.000\t0.714\t0.833\n",
      "0.241\t0.833\t0.714\t0.769\n",
      "0.270\t0.833\t0.714\t0.769\n",
      "No text {'TERM': 4.539787187241018e-05}\n",
      "Saved model to /Users/kylieleblancKylie/dofis/data/plans/date_finalize_classifier\n",
      "Loading from /Users/kylieleblancKylie/dofis/data/plans/date_finalize_classifier\n",
      "No text {'TERM': 4.539787187241018e-05}\n"
     ]
    },
    {
     "data": {
      "text/plain": [
       "<spacy.pipeline.TextCategorizer at 0x10f798048>"
      ]
     },
     "execution_count": 13,
     "metadata": {},
     "output_type": "execute_result"
    }
   ],
   "source": [
    "classify.train_classifier_and_evaluate(texts=texts, \n",
    "                                        cats=cats,\n",
    "                                        n_test = 30,\n",
    "                                        model=None, \n",
    "                                        output_dir=output_dir, \n",
    "                                        n_iter=10, \n",
    "                                        categories=['TERM'])"
   ]
  },
  {
   "cell_type": "markdown",
   "metadata": {
    "collapsed": true
   },
   "source": [
    "# Train finalize classifier"
   ]
  },
  {
   "cell_type": "code",
   "execution_count": 14,
   "metadata": {
    "collapsed": true
   },
   "outputs": [],
   "source": [
    "texts, cats = classify.reformat_cat_from_df(df = phrase_df,\n",
    "                                      text_col = 'text',\n",
    "                                      label_col = 'finalize',\n",
    "                                      category = 'FINALIZE')\n",
    "output_dir = os.path.join(data_path, 'date_finalize_classifier')"
   ]
  },
  {
   "cell_type": "code",
   "execution_count": 15,
   "metadata": {},
   "outputs": [
    {
     "name": "stdout",
     "output_type": "stream",
     "text": [
      "Created blank 'en' model\n",
      "Using 157 examples (127 training, 30 evaluation)\n",
      "Warning: Unnamed vectors -- this won't allow multiple vectors models to be loaded. (Shape: (0, 0))\n",
      "Training the model...\n",
      "LOSS \t  P  \t  R  \t  F  \n",
      "10.032\t0.760\t1.000\t0.864\n",
      "5.598\t0.895\t0.895\t0.895\n",
      "3.119\t0.905\t1.000\t0.950\n",
      "3.151\t1.000\t1.000\t1.000\n",
      "3.314\t0.905\t1.000\t0.950\n",
      "1.359\t1.000\t0.947\t0.973\n",
      "0.793\t0.900\t0.947\t0.923\n",
      "0.804\t0.950\t1.000\t0.974\n",
      "0.753\t0.950\t1.000\t0.974\n",
      "0.966\t0.950\t1.000\t0.974\n",
      "No text {'FINALIZE': 0.8246667981147766}\n",
      "Saved model to /Users/kylieleblancKylie/dofis/data/plans/date_finalize_classifier\n",
      "Loading from /Users/kylieleblancKylie/dofis/data/plans/date_finalize_classifier\n",
      "No text {'FINALIZE': 0.8246667981147766}\n"
     ]
    },
    {
     "data": {
      "text/plain": [
       "<spacy.pipeline.TextCategorizer at 0x12272e438>"
      ]
     },
     "execution_count": 15,
     "metadata": {},
     "output_type": "execute_result"
    }
   ],
   "source": [
    "classify.train_classifier_and_evaluate(texts=texts, \n",
    "                                        cats=cats,\n",
    "                                        n_test = 30,\n",
    "                                        model=None, \n",
    "                                        output_dir=output_dir, \n",
    "                                        n_iter=10, \n",
    "                                        categories=['FINALIZE'])"
   ]
  },
  {
   "cell_type": "code",
   "execution_count": null,
   "metadata": {
    "collapsed": true
   },
   "outputs": [],
   "source": []
  }
 ],
 "metadata": {
  "kernelspec": {
   "display_name": "anaconda3-2019.10",
   "language": "python",
   "name": "anaconda3-2019.10"
  },
  "language_info": {
   "codemirror_mode": {
    "name": "ipython",
    "version": 3
   },
   "file_extension": ".py",
   "mimetype": "text/x-python",
   "name": "python",
   "nbconvert_exporter": "python",
   "pygments_lexer": "ipython3",
   "version": "3.7.4"
  }
 },
 "nbformat": 4,
 "nbformat_minor": 2
}
