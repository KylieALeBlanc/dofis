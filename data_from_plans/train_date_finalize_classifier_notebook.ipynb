{
 "cells": [
  {
   "cell_type": "markdown",
   "metadata": {},
   "source": [
    "# Train classifer on date phrases to find plan start date"
   ]
  },
  {
   "cell_type": "code",
   "execution_count": 2,
   "metadata": {
    "collapsed": true
   },
   "outputs": [],
   "source": [
    "import csv\n",
    "import pandas as pd\n",
    "import os\n",
    "import classify\n",
    "import extract_dates\n",
    "import random"
   ]
  },
  {
   "cell_type": "markdown",
   "metadata": {},
   "source": [
    "## Create training data"
   ]
  },
  {
   "cell_type": "code",
   "execution_count": 3,
   "metadata": {
    "collapsed": true
   },
   "outputs": [],
   "source": [
    "docs = pd.read_csv(os.path.join(data_path, 'text_narrowed.csv'))"
   ]
  },
  {
   "cell_type": "markdown",
   "metadata": {},
   "source": [
    "### Randomly sample five plans"
   ]
  },
  {
   "cell_type": "markdown",
   "metadata": {},
   "source": [
    "Do not overwrite labelled document set unless you want to relabel. relabel_docs = False uses previously randomly sample plans."
   ]
  },
  {
   "cell_type": "code",
   "execution_count": 4,
   "metadata": {
    "collapsed": true
   },
   "outputs": [],
   "source": [
    "relabel = False\n",
    "if relabel:\n",
    "    docs_to_label = docs[docs.p_innovation >.5].sample(n = 6)\n",
    "    docs_to_label.index\n",
    "    docs_to_label.head(5)"
   ]
  },
  {
   "cell_type": "code",
   "execution_count": 5,
   "metadata": {
    "collapsed": true
   },
   "outputs": [],
   "source": [
    "if not relabel:\n",
    "    docs_to_label = docs[docs.title == \"Ector County ISD\"]\n",
    "    docs_to_label = docs_to_label.append(docs[docs.title == \"Dimmitt ISD\"])\n",
    "    docs_to_label = docs_to_label.append(docs[docs.title == \"Sunnyvale ISD\"])\n",
    "    docs_to_label = docs_to_label.append(docs[docs.title == \"Sunray ISD\"])\n",
    "    docs_to_label = docs_to_label.append(docs[docs.title == \"Douglass ISD\"])\n",
    "    docs_to_label = docs_to_label.append(docs[docs.title == \"Dodd City ISD\"])\n",
    "    docs_to_label = docs_to_label.append(docs[docs.title == \"Snyder ISD\"])\n",
    "    docs_to_label = docs_to_label.append(docs[docs.title == \"Mart ISD\"])\n",
    "    docs_to_label = docs_to_label.append(docs[docs.title == \"Rivercrest ISD\"])\n",
    "    docs_to_label.head(5)"
   ]
  },
  {
   "cell_type": "code",
   "execution_count": 6,
   "metadata": {},
   "outputs": [
    {
     "data": {
      "text/html": [
       "<div>\n",
       "<style scoped>\n",
       "    .dataframe tbody tr th:only-of-type {\n",
       "        vertical-align: middle;\n",
       "    }\n",
       "\n",
       "    .dataframe tbody tr th {\n",
       "        vertical-align: top;\n",
       "    }\n",
       "\n",
       "    .dataframe thead th {\n",
       "        text-align: right;\n",
       "    }\n",
       "</style>\n",
       "<table border=\"1\" class=\"dataframe\">\n",
       "  <thead>\n",
       "    <tr style=\"text-align: right;\">\n",
       "      <th></th>\n",
       "      <th>Unnamed: 0</th>\n",
       "      <th>Unnamed: 0.1</th>\n",
       "      <th>Unnamed: 0.1.1</th>\n",
       "      <th>title</th>\n",
       "      <th>level</th>\n",
       "      <th>type</th>\n",
       "      <th>link</th>\n",
       "      <th>text</th>\n",
       "      <th>p_innovation</th>\n",
       "    </tr>\n",
       "  </thead>\n",
       "  <tbody>\n",
       "    <tr>\n",
       "      <th>568</th>\n",
       "      <td>270</td>\n",
       "      <td>270</td>\n",
       "      <td>270</td>\n",
       "      <td>Ector County ISD</td>\n",
       "      <td>First</td>\n",
       "      <td>pdf</td>\n",
       "      <td>http://www.ectorcountyisd.org/cms/lib011/tx010...</td>\n",
       "      <td>ECISD District of Innovation Plan 1 I. Introdu...</td>\n",
       "      <td>0.999667</td>\n",
       "    </tr>\n",
       "    <tr>\n",
       "      <th>579</th>\n",
       "      <td>3631</td>\n",
       "      <td>3631</td>\n",
       "      <td>288</td>\n",
       "      <td>Dimmitt ISD</td>\n",
       "      <td>html</td>\n",
       "      <td>html</td>\n",
       "      <td>http://www.dimmittisd.net/vnews/display.v/ART/...</td>\n",
       "      <td>Dimmitt ISD - District of Innovation Quick Lin...</td>\n",
       "      <td>0.986358</td>\n",
       "    </tr>\n",
       "    <tr>\n",
       "      <th>101</th>\n",
       "      <td>3331</td>\n",
       "      <td>3331</td>\n",
       "      <td>3331</td>\n",
       "      <td>Sunnyvale ISD</td>\n",
       "      <td>Second</td>\n",
       "      <td>pdf</td>\n",
       "      <td>http://www.sunnyvaleisd.com/site/handlers/file...</td>\n",
       "      <td>Sunnyvale ISD District of Innovation Plan Spri...</td>\n",
       "      <td>0.999955</td>\n",
       "    </tr>\n",
       "    <tr>\n",
       "      <th>100</th>\n",
       "      <td>98</td>\n",
       "      <td>98</td>\n",
       "      <td>98</td>\n",
       "      <td>Sunray ISD</td>\n",
       "      <td>First</td>\n",
       "      <td>pdf</td>\n",
       "      <td>https://1.cdn.edl.io/Rb3eNoIDEma2NVfd5LdmKpqLB...</td>\n",
       "      <td>SUNRAY ISD District of Innovation Plan 2 Distr...</td>\n",
       "      <td>0.999829</td>\n",
       "    </tr>\n",
       "    <tr>\n",
       "      <th>577</th>\n",
       "      <td>291</td>\n",
       "      <td>291</td>\n",
       "      <td>291</td>\n",
       "      <td>Douglass ISD</td>\n",
       "      <td>First</td>\n",
       "      <td>google</td>\n",
       "      <td>https://drive.google.com/file/d/1_OzEr7LnngRcQ...</td>\n",
       "      <td>Douglass ISD District of Innovation Plan (HB 1...</td>\n",
       "      <td>0.999721</td>\n",
       "    </tr>\n",
       "    <tr>\n",
       "      <th>578</th>\n",
       "      <td>237</td>\n",
       "      <td>237</td>\n",
       "      <td>237</td>\n",
       "      <td>Dodd City ISD</td>\n",
       "      <td>First</td>\n",
       "      <td>pdf</td>\n",
       "      <td>http://toolbox1.s3-website-us-west-2.amazonaws...</td>\n",
       "      <td>Microsoft Word - DCInnovationPlan (2).docx Dod...</td>\n",
       "      <td>0.999735</td>\n",
       "    </tr>\n",
       "  </tbody>\n",
       "</table>\n",
       "</div>"
      ],
      "text/plain": [
       "     Unnamed: 0  Unnamed: 0.1  Unnamed: 0.1.1             title   level  \\\n",
       "568         270           270             270  Ector County ISD   First   \n",
       "579        3631          3631             288       Dimmitt ISD    html   \n",
       "101        3331          3331            3331     Sunnyvale ISD  Second   \n",
       "100          98            98              98        Sunray ISD   First   \n",
       "577         291           291             291      Douglass ISD   First   \n",
       "578         237           237             237     Dodd City ISD   First   \n",
       "\n",
       "       type                                               link  \\\n",
       "568     pdf  http://www.ectorcountyisd.org/cms/lib011/tx010...   \n",
       "579    html  http://www.dimmittisd.net/vnews/display.v/ART/...   \n",
       "101     pdf  http://www.sunnyvaleisd.com/site/handlers/file...   \n",
       "100     pdf  https://1.cdn.edl.io/Rb3eNoIDEma2NVfd5LdmKpqLB...   \n",
       "577  google  https://drive.google.com/file/d/1_OzEr7LnngRcQ...   \n",
       "578     pdf  http://toolbox1.s3-website-us-west-2.amazonaws...   \n",
       "\n",
       "                                                  text  p_innovation  \n",
       "568  ECISD District of Innovation Plan 1 I. Introdu...      0.999667  \n",
       "579  Dimmitt ISD - District of Innovation Quick Lin...      0.986358  \n",
       "101  Sunnyvale ISD District of Innovation Plan Spri...      0.999955  \n",
       "100  SUNRAY ISD District of Innovation Plan 2 Distr...      0.999829  \n",
       "577  Douglass ISD District of Innovation Plan (HB 1...      0.999721  \n",
       "578  Microsoft Word - DCInnovationPlan (2).docx Dod...      0.999735  "
      ]
     },
     "execution_count": 6,
     "metadata": {},
     "output_type": "execute_result"
    }
   ],
   "source": [
    "docs_to_label"
   ]
  },
  {
   "cell_type": "markdown",
   "metadata": {},
   "source": [
    "## Collect phrases surrounding date match. Currently, function collects 8 words before and 6 words after."
   ]
  },
  {
   "cell_type": "code",
   "execution_count": 28,
   "metadata": {},
   "outputs": [
    {
     "data": {
      "text/plain": [
       "['of Innovation Plan 1 I. Introduction House Bill 1842, passed during the 84th Legislative',\n",
       " 'Texas Education Code. On February 21, 2017 the Ector County Independent School District',\n",
       " 'and the community. On February 28, 2017, the Board appointed an eighteen',\n",
       " 'March 2, 6, and 10, 2017, to discuss and draft this',\n",
       " 'term of the Plan will begin with the 2017-2018 school year and terminate',\n",
       " 'the Plan will begin with the 2017-2018 school year and terminate at the',\n",
       " 'year and terminate at the end of the 2021-2022 school year, to',\n",
       " 'terminate at the end of the 2021-2022 school year, to include anything',\n",
       " 'appointment of DOI members* February 14, 2016 February Board Meeting \\uf0b7 Board votes',\n",
       " 'as a District of Innovation February 21, 2016 February \\uf0b7 Board holds public hearing',\n",
       " 'final Local Innovation Plan on April 11, 2017* February 28, 2017 March',\n",
       " 'April 11, 2017* February 28, 2017 March DOI meets to draft Innovation',\n",
       " 'meets to draft Innovation Plan March 2, 2017 March DOI meets to draft Innovation',\n",
       " 'meets to draft Innovation Plan March 6, 2017 March DOI meets to draft Innovation',\n",
       " 'created during this meeting. March 10, 2017 March Final Draft is posted onto',\n",
       " 'for public review and comment March 11, 2017 – April 9, 2017 April',\n",
       " 'March 11, 2017 – April 9, 2017 April \\uf0b7 DOI hosts public meeting',\n",
       " 'to approve the final draft April 10, 2017 April \\uf0b7 DOI presents the Final',\n",
       " 'Local Innovation Plan to Board April 11, 2017 April Board Work Study \\uf0b7 Board',\n",
       " 'plan to Commissioner of Education April 11, 2017 ECISD District of Innovation Plan 3',\n",
       " 'into the overall summative appraisal score for the 2017-2018 school year. In',\n",
       " 'overall summative appraisal score for the 2017-2018 school year. In the meantime',\n",
       " 'ECISD will be Monday, August 21, 2017, for the 2017-2018',\n",
       " ', August 21, 2017, for the 2017-2018 school year. In',\n",
       " '21, 2017, for the 2017-2018 school year. In subsequent years',\n",
       " 'via email District of Innovation February 14, 2016 District of Innovation Dimmitt ISD Local',\n",
       " 'Dimmitt ISD Local Innovation Plan April 1, 2017 through April 1, 2022 School',\n",
       " 'April 1, 2017 through April 1, 2022 School Board Approval March 27th,',\n",
       " ', 2022 School Board Approval March 27th, 2017 Introduction During the 84th Legislative Session',\n",
       " 'Introduction During the 84th Legislative Session, HB 1842 passed which allows Texas public schools',\n",
       " 'for five years, beginning April 1, 2017 and ending April 1, 2022',\n",
       " '1, 2017 and ending April 1, 2022, unless terminated or amended earlier',\n",
       " 'the Board of Trustees in accordance with HB 1842. The Committee will continually monitor',\n",
       " 'Timeline Board approval of Resolution November 14, 2016 Public Hearing December 12, 2016',\n",
       " '14, 2016 Public Hearing December 12, 2016 BOE approval of Committee Members December',\n",
       " 'BOE approval of Committee Members December 12, 2016 DEIC passes plan by 2/3 majority',\n",
       " 'plan by 2/3 majority vote February 9, 2017 Public meeting February 9, 2017',\n",
       " '9, 2017 Public meeting February 9, 2017 School board notifies Commissioner of intent',\n",
       " 'Commissioner of intent to vote February 13, 2017 Plan posted online February 14,',\n",
       " ', 2017 Plan posted online February 14, 2017 School Board Votes to approve plan',\n",
       " 'Votes to approve plan Approved March 27, 2017 5. Innovations School start /',\n",
       " 'areas Dimmitt ISD608 W Halsell StreetDimmitt, TX 79027 806-647-3101Fax:',\n",
       " 'StreetDimmitt, TX 79027 806-647-3101Fax: 806-647-5433disd@dimmittisd.net © 2018 Dimmitt ISD',\n",
       " '806-647-3101Fax: 806-647-5433disd@dimmittisd.net © 2018 Dimmitt ISD Accessibility Privacy Pledge Mobile',\n",
       " 'Sunnyvale ISD District of Innovation Plan Spring, 2017 - Spring, 2022 Sunnyvale ISD',\n",
       " 'Innovation Plan Spring, 2017 - Spring, 2022 Sunnyvale ISD - District of Innovation',\n",
       " '- District of Innovation Plan Introduction House Bill 1842, passed by the 84\\u200bth\\u200b Legislature',\n",
       " 'certain mandates. On November, 28, 2016, the Sunnyvale ISD Board of',\n",
       " 'of Innovation. Process On December 12, 2016, the Board appointed a District',\n",
       " '. The committee met on January 24, 2017 to discuss options and determine flexibilities',\n",
       " 'of Innovation Team Members On December 12, 2016, the Sunnyvale ISD Board of',\n",
       " 'Board Resolution to Pursue Process November 28, 2016 Public Hearing and Committee Appointment December',\n",
       " 'Public Hearing and Committee Appointment December 12, 2016 District of Innovation Committee Meeting January',\n",
       " 'District of Innovation Committee Meeting January 24, 2017 Public Meeting for Feedback/Approval',\n",
       " 'Meeting for Feedback/Approval February 9, 2017 Plan Sent to Commissioner February 14',\n",
       " '2017 Plan Sent to Commissioner February 14, 2017 District of Innovation Meeting/Approval',\n",
       " 'of Innovation Meeting/Approval February 23, 2017 Posted to SISD Website February 24',\n",
       " '2017 Posted to SISD Website February 24, 2017 Public Approval by District of Innovation',\n",
       " 'by District of Innovation Team March 27, 2017 Adoption by Board of Trustees March',\n",
       " 'Adoption by Board of Trustees March 27, 2017 Sunnyvale ISD - District of Innovation',\n",
       " 'Approval to Commissioner of Education April 10, 2017 Term of Plan The term of',\n",
       " 'years. The plan will begin Spring, 2017 and conclude Spring, 2022,',\n",
       " 'begin Spring, 2017 and conclude Spring, 2022, unless terminated by the Board',\n",
       " '…..….8 3 INTRODUCTION House Bill 1842, passed by the 84th Texas',\n",
       " 'the 84th Texas Legislature, during Regular Session 2015, permits eligible Texas public school',\n",
       " 'for approval with the revisions. Under HB 1842, districts may identify certain requirements',\n",
       " 'Size 4 TIMELINE Board Resolution February 13, 2017 Public Hearing March 9, 2017',\n",
       " '13, 2017 Public Hearing March 9, 2017 Appoint Innovative Plan Committee March 9',\n",
       " '2017 Appoint Innovative Plan Committee March 9, 2017 Develop Innovation Plan March 20 &',\n",
       " '2017 Develop Innovation Plan March 20 & 21 2017 District Improvement Committee Approval-Public',\n",
       " 'Committee Approval-Public Hearing March 23, 2017 30 Day Public Review (Website',\n",
       " '(Website Posting) March 24-April 27, 2017 Board Action to Notify TEA Commissioner',\n",
       " 'TEA Commissioner of Board Vote March 24, 2017 Board Action for Final Approval April',\n",
       " 'Board Action for Final Approval April 27, 2017 Notification of Approval to TEA Commissioner',\n",
       " 'to TEA Commissioner, Publish April 28, 2017 TERM The term of this Plan',\n",
       " 'for five years, beginning April 27, 2017, and ending April 27,',\n",
       " ', 2017, and ending April 27, 2022, unless terminated or amended earlier',\n",
       " 'Douglass ISD District of Innovation Plan (HB 1842) 2018-2019 Approved by',\n",
       " 'District of Innovation Plan (HB 1842) 2018-2019 Approved by Douglass Board',\n",
       " 'Innovation Plan (HB 1842) 2018-2019 Approved by Douglass Board of Trustees',\n",
       " 'Douglass Board of Trustees on April 26, 2018 Revised 04/23/18 Douglass ISD is utilizing',\n",
       " '2018 Revised 04/23/18 Douglass ISD is utilizing HB 1842, of the 84th Legislative Session',\n",
       " 'more local control in certain areas. HB 1842 allows a traditional public school to',\n",
       " 'This plan will be in effect for the 2018-2019 school year through the',\n",
       " 'will be in effect for the 2018-2019 school year through the 2022-',\n",
       " 'the 2018-2019 school year through the 2022-2023 school year. This',\n",
       " '-2019 school year through the 2022-2023 school year. This plan may',\n",
       " 'hearing to discuss the possibility of using HB 1842 to become a District of Innovation',\n",
       " 'is issued a new teacher appraisal system in 2016-2017, called the Texas',\n",
       " 'a new teacher appraisal system in 2016-2017, called the Texas Teacher Evaluation',\n",
       " 'City Independent School District District of Innovation Plan 2017-2022 Resolution by the DCISD',\n",
       " 'School District District of Innovation Plan 2017-2022 Resolution by the DCISD Board of',\n",
       " 'DCISD Board of Trustees, December 1, 2016 District of Innovation Committee Meeting,',\n",
       " 'of Innovation Committee Meeting, December 5, 2016 Approved by the District Improvement Committee',\n",
       " 'the District Improvement Committee, January 7, 2017 Adopted by the DCISD Board of',\n",
       " 'DCISD Board of Trustees, January 19, 2017 Dodd City ISD District of Innovation',\n",
       " 'Dodd City ISD District of Innovation - Plan 2017-2022 ____',\n",
       " 'ISD District of Innovation - Plan 2017-2022 ______',\n",
       " 'Introduction During the 84th Legislative Session, HB 1842 passed that allows Texas public schools',\n",
       " 'ISD’s Innovation Plan will begin with the 2017-2018 school year and conclude',\n",
       " 'Innovation Plan will begin with the 2017-2018 school year and conclude at the',\n",
       " 'year and conclude at the end of the 2021-2022 school year unless the',\n",
       " 'conclude at the end of the 2021-2022 school year unless the plan is',\n",
       " 'City ISD School Board in accordance with HB 1842. Committee Members Craig Reed -',\n",
       " 'Innovation - Timeline Monday, November 14, 2016 Initial meeting with administrative staff to',\n",
       " 'of Innovation. Thursday, December 1, 2016 7:00pm Special Board Meeting *Board',\n",
       " 'hearing to discuss the possibility of using HB 1842 to become a District of Innovation',\n",
       " 'Innovation Committee. Monday, December 5, 2016 District of Innovation Committee meet to',\n",
       " 'a plan. Wednesday, December 7, 2016 Post District of Innovation Plan on',\n",
       " '30 days. Thursday, January 5, 2017 District Improvement Committee Public Hearing District',\n",
       " 'Local Innovation Plan Monday, January 9, 2017 Notify Commissioner of Education of the',\n",
       " 'proposed plan. Thursday, January 19, 2017 - Regular Board Meeting *Approve',\n",
       " 'of Innovation Plan Monday, January 23, 2017 Notify the Commissioner of Education of']"
      ]
     },
     "execution_count": 28,
     "metadata": {},
     "output_type": "execute_result"
    }
   ],
   "source": [
    "date_phrases = []\n",
    "for text in docs_to_label.text:\n",
    "    phrases = extract_dates.get_phrase_list(text = text)\n",
    "    for phrase in phrases:\n",
    "        date_phrases.append(phrase)\n",
    "date_phrases = [str(item) for item in date_phrases]\n",
    "date_phrases"
   ]
  },
  {
   "cell_type": "code",
   "execution_count": 29,
   "metadata": {
    "collapsed": true
   },
   "outputs": [],
   "source": [
    "phrase_df = pd.DataFrame({'text':date_phrases})"
   ]
  },
  {
   "cell_type": "code",
   "execution_count": 30,
   "metadata": {},
   "outputs": [
    {
     "name": "stdout",
     "output_type": "stream",
     "text": [
      "1 - of Innovation Plan 1 I. Introduction House Bill 1842, passed during the 84th Legislative\n",
      "2 - Texas Education Code. On February 21, 2017 the Ector County Independent School District\n",
      "3 - and the community. On February 28, 2017, the Board appointed an eighteen\n",
      "4 - March 2, 6, and 10, 2017, to discuss and draft this\n",
      "5 - term of the Plan will begin with the 2017-2018 school year and terminate\n",
      "6 - the Plan will begin with the 2017-2018 school year and terminate at the\n",
      "7 - year and terminate at the end of the 2021-2022 school year, to\n",
      "8 - terminate at the end of the 2021-2022 school year, to include anything\n",
      "9 - appointment of DOI members* February 14, 2016 February Board Meeting  Board votes\n",
      "10 - as a District of Innovation February 21, 2016 February  Board holds public hearing\n",
      "11 - final Local Innovation Plan on April 11, 2017* February 28, 2017 March\n",
      "12 - April 11, 2017* February 28, 2017 March DOI meets to draft Innovation\n",
      "13 - meets to draft Innovation Plan March 2, 2017 March DOI meets to draft Innovation\n",
      "14 - meets to draft Innovation Plan March 6, 2017 March DOI meets to draft Innovation\n",
      "15 - created during this meeting. March 10, 2017 March Final Draft is posted onto\n",
      "16 - for public review and comment March 11, 2017 – April 9, 2017 April\n",
      "17 - March 11, 2017 – April 9, 2017 April  DOI hosts public meeting\n",
      "18 - to approve the final draft April 10, 2017 April  DOI presents the Final\n",
      "19 - Local Innovation Plan to Board April 11, 2017 April Board Work Study  Board\n",
      "20 - plan to Commissioner of Education April 11, 2017 ECISD District of Innovation Plan 3\n",
      "21 - into the overall summative appraisal score for the 2017-2018 school year. In\n",
      "22 - overall summative appraisal score for the 2017-2018 school year. In the meantime\n",
      "23 - ECISD will be Monday, August 21, 2017, for the 2017-2018\n",
      "24 - , August 21, 2017, for the 2017-2018 school year. In\n",
      "25 - 21, 2017, for the 2017-2018 school year. In subsequent years\n",
      "26 - via email District of Innovation February 14, 2016 District of Innovation Dimmitt ISD Local\n",
      "27 - Dimmitt ISD Local Innovation Plan April 1, 2017 through April 1, 2022 School\n",
      "28 - April 1, 2017 through April 1, 2022 School Board Approval March 27th,\n",
      "29 - , 2022 School Board Approval March 27th, 2017 Introduction During the 84th Legislative Session\n",
      "30 - Introduction During the 84th Legislative Session, HB 1842 passed which allows Texas public schools\n",
      "31 - for five years, beginning April 1, 2017 and ending April 1, 2022\n",
      "32 - 1, 2017 and ending April 1, 2022, unless terminated or amended earlier\n",
      "33 - the Board of Trustees in accordance with HB 1842. The Committee will continually monitor\n",
      "34 - Timeline Board approval of Resolution November 14, 2016 Public Hearing December 12, 2016\n",
      "35 - 14, 2016 Public Hearing December 12, 2016 BOE approval of Committee Members December\n",
      "36 - BOE approval of Committee Members December 12, 2016 DEIC passes plan by 2/3 majority\n",
      "37 - plan by 2/3 majority vote February 9, 2017 Public meeting February 9, 2017\n",
      "38 - 9, 2017 Public meeting February 9, 2017 School board notifies Commissioner of intent\n",
      "39 - Commissioner of intent to vote February 13, 2017 Plan posted online February 14,\n",
      "40 - , 2017 Plan posted online February 14, 2017 School Board Votes to approve plan\n",
      "41 - Votes to approve plan Approved March 27, 2017 5. Innovations School start /\n",
      "42 - areas Dimmitt ISD608 W Halsell StreetDimmitt, TX 79027 806-647-3101Fax:\n",
      "43 - StreetDimmitt, TX 79027 806-647-3101Fax: 806-647-5433disd@dimmittisd.net © 2018 Dimmitt ISD\n",
      "44 - 806-647-3101Fax: 806-647-5433disd@dimmittisd.net © 2018 Dimmitt ISD Accessibility Privacy Pledge Mobile\n",
      "45 - Sunnyvale ISD District of Innovation Plan Spring, 2017 - Spring, 2022 Sunnyvale ISD\n",
      "46 - Innovation Plan Spring, 2017 - Spring, 2022 Sunnyvale ISD - District of Innovation\n",
      "47 - - District of Innovation Plan Introduction House Bill 1842, passed by the 84​th​ Legislature\n",
      "48 - certain mandates. On November, 28, 2016, the Sunnyvale ISD Board of\n",
      "49 - of Innovation. Process On December 12, 2016, the Board appointed a District\n",
      "50 - . The committee met on January 24, 2017 to discuss options and determine flexibilities\n",
      "51 - of Innovation Team Members On December 12, 2016, the Sunnyvale ISD Board of\n",
      "52 - Board Resolution to Pursue Process November 28, 2016 Public Hearing and Committee Appointment December\n",
      "53 - Public Hearing and Committee Appointment December 12, 2016 District of Innovation Committee Meeting January\n",
      "54 - District of Innovation Committee Meeting January 24, 2017 Public Meeting for Feedback/Approval\n",
      "55 - Meeting for Feedback/Approval February 9, 2017 Plan Sent to Commissioner February 14\n",
      "56 - 2017 Plan Sent to Commissioner February 14, 2017 District of Innovation Meeting/Approval\n",
      "57 - of Innovation Meeting/Approval February 23, 2017 Posted to SISD Website February 24\n",
      "58 - 2017 Posted to SISD Website February 24, 2017 Public Approval by District of Innovation\n",
      "59 - by District of Innovation Team March 27, 2017 Adoption by Board of Trustees March\n",
      "60 - Adoption by Board of Trustees March 27, 2017 Sunnyvale ISD - District of Innovation\n",
      "61 - Approval to Commissioner of Education April 10, 2017 Term of Plan The term of\n",
      "62 - years. The plan will begin Spring, 2017 and conclude Spring, 2022,\n",
      "63 - begin Spring, 2017 and conclude Spring, 2022, unless terminated by the Board\n",
      "64 - …..….8 3 INTRODUCTION House Bill 1842, passed by the 84th Texas\n",
      "65 - the 84th Texas Legislature, during Regular Session 2015, permits eligible Texas public school\n",
      "66 - for approval with the revisions. Under HB 1842, districts may identify certain requirements\n",
      "67 - Size 4 TIMELINE Board Resolution February 13, 2017 Public Hearing March 9, 2017\n",
      "68 - 13, 2017 Public Hearing March 9, 2017 Appoint Innovative Plan Committee March 9\n",
      "69 - 2017 Appoint Innovative Plan Committee March 9, 2017 Develop Innovation Plan March 20 &\n",
      "70 - 2017 Develop Innovation Plan March 20 & 21 2017 District Improvement Committee Approval-Public\n",
      "71 - Committee Approval-Public Hearing March 23, 2017 30 Day Public Review (Website\n",
      "72 - (Website Posting) March 24-April 27, 2017 Board Action to Notify TEA Commissioner\n",
      "73 - TEA Commissioner of Board Vote March 24, 2017 Board Action for Final Approval April\n",
      "74 - Board Action for Final Approval April 27, 2017 Notification of Approval to TEA Commissioner\n",
      "75 - to TEA Commissioner, Publish April 28, 2017 TERM The term of this Plan\n",
      "76 - for five years, beginning April 27, 2017, and ending April 27,\n",
      "77 - , 2017, and ending April 27, 2022, unless terminated or amended earlier\n",
      "78 - Douglass ISD District of Innovation Plan (HB 1842) 2018-2019 Approved by\n",
      "79 - District of Innovation Plan (HB 1842) 2018-2019 Approved by Douglass Board\n",
      "80 - Innovation Plan (HB 1842) 2018-2019 Approved by Douglass Board of Trustees\n",
      "81 - Douglass Board of Trustees on April 26, 2018 Revised 04/23/18 Douglass ISD is utilizing\n",
      "82 - 2018 Revised 04/23/18 Douglass ISD is utilizing HB 1842, of the 84th Legislative Session\n",
      "83 - more local control in certain areas. HB 1842 allows a traditional public school to\n",
      "84 - This plan will be in effect for the 2018-2019 school year through the\n",
      "85 - will be in effect for the 2018-2019 school year through the 2022-\n",
      "86 - the 2018-2019 school year through the 2022-2023 school year. This\n",
      "87 - -2019 school year through the 2022-2023 school year. This plan may\n",
      "88 - hearing to discuss the possibility of using HB 1842 to become a District of Innovation\n",
      "89 - is issued a new teacher appraisal system in 2016-2017, called the Texas\n",
      "90 - a new teacher appraisal system in 2016-2017, called the Texas Teacher Evaluation\n",
      "91 - City Independent School District District of Innovation Plan 2017-2022 Resolution by the DCISD\n",
      "92 - School District District of Innovation Plan 2017-2022 Resolution by the DCISD Board of\n",
      "93 - DCISD Board of Trustees, December 1, 2016 District of Innovation Committee Meeting,\n",
      "94 - of Innovation Committee Meeting, December 5, 2016 Approved by the District Improvement Committee\n",
      "95 - the District Improvement Committee, January 7, 2017 Adopted by the DCISD Board of\n",
      "96 - DCISD Board of Trustees, January 19, 2017 Dodd City ISD District of Innovation\n",
      "97 - Dodd City ISD District of Innovation - Plan 2017-2022 ____\n",
      "98 - ISD District of Innovation - Plan 2017-2022 ______\n",
      "99 - Introduction During the 84th Legislative Session, HB 1842 passed that allows Texas public schools\n",
      "100 - ISD’s Innovation Plan will begin with the 2017-2018 school year and conclude\n",
      "101 - Innovation Plan will begin with the 2017-2018 school year and conclude at the\n",
      "102 - year and conclude at the end of the 2021-2022 school year unless the\n",
      "103 - conclude at the end of the 2021-2022 school year unless the plan is\n",
      "104 - City ISD School Board in accordance with HB 1842. Committee Members Craig Reed -\n",
      "105 - Innovation - Timeline Monday, November 14, 2016 Initial meeting with administrative staff to\n",
      "106 - of Innovation. Thursday, December 1, 2016 7:00pm Special Board Meeting *Board\n",
      "107 - hearing to discuss the possibility of using HB 1842 to become a District of Innovation\n",
      "108 - Innovation Committee. Monday, December 5, 2016 District of Innovation Committee meet to\n",
      "109 - a plan. Wednesday, December 7, 2016 Post District of Innovation Plan on\n",
      "110 - 30 days. Thursday, January 5, 2017 District Improvement Committee Public Hearing District\n",
      "111 - Local Innovation Plan Monday, January 9, 2017 Notify Commissioner of Education of the\n",
      "112 - proposed plan. Thursday, January 19, 2017 - Regular Board Meeting *Approve\n",
      "113 - of Innovation Plan Monday, January 23, 2017 Notify the Commissioner of Education of\n"
     ]
    }
   ],
   "source": [
    "i = 1\n",
    "for item in phrase_df.text:\n",
    "    print(i, '-', item)\n",
    "    i = i + 1"
   ]
  },
  {
   "cell_type": "code",
   "execution_count": 31,
   "metadata": {
    "collapsed": true
   },
   "outputs": [],
   "source": [
    "cats = [False, False, False, False, False,\n",
    "        False, False, False, False, False, \n",
    "        True, False, False, False, True,\n",
    "        False, True, True, True, False,\n",
    "        False, False, False, False, False,\n",
    "\n",
    "        False, False, True, True, False,\n",
    "        False, False, False, False, False,\n",
    "        True, True, True, True, True,\n",
    "        True, False, False, False, False,\n",
    "        False, False, False, False, False,\n",
    "\n",
    "        False, False, False, False, False,\n",
    "        True, True, True, True, True,\n",
    "        True, False, False, False, False,\n",
    "        False,False,False,False,False,\n",
    "        False, True, True, True, True,\n",
    "\n",
    "        False, False, True, True, True,\n",
    "        False, False, False, False, False,\n",
    "        False, False, False, False, False,\n",
    "        False, False, False, True, True,\n",
    "        False,False,False,False,False,\n",
    "\n",
    "        False, False, False, False, False,\n",
    "        False, False, False, True, False,\n",
    "        True,True, True]"
   ]
  },
  {
   "cell_type": "code",
   "execution_count": 32,
   "metadata": {
    "collapsed": true
   },
   "outputs": [],
   "source": [
    "phrase_df['FINALIZE'] = cats"
   ]
  },
  {
   "cell_type": "code",
   "execution_count": 33,
   "metadata": {
    "collapsed": true
   },
   "outputs": [],
   "source": [
    "phrase_df = phrase_df.sample(frac = 1)"
   ]
  },
  {
   "cell_type": "code",
   "execution_count": 35,
   "metadata": {},
   "outputs": [
    {
     "name": "stdout",
     "output_type": "stream",
     "text": [
      "The first n-20 of documents are used for training. Training dataset statistics:\n",
      "False    67\n",
      "True     26\n",
      "Name: FINALIZE, dtype: int64\n",
      "The last 20 of documents are used for testing. Testing dataset statistics:\n",
      "False    14\n",
      "True      6\n",
      "Name: FINALIZE, dtype: int64\n"
     ]
    }
   ],
   "source": [
    "print('The first n-20 of documents are used for training. Training dataset statistics:')\n",
    "split = int(len(phrase_df) - 20)\n",
    "print(phrase_df.head(split)['FINALIZE'].value_counts())\n",
    "\n",
    "print('The last 20 of documents are used for testing. Testing dataset statistics:')\n",
    "print(phrase_df.tail(20)['FINALIZE'].value_counts())"
   ]
  },
  {
   "cell_type": "markdown",
   "metadata": {},
   "source": [
    "## Train classifier"
   ]
  },
  {
   "cell_type": "code",
   "execution_count": 37,
   "metadata": {
    "collapsed": true
   },
   "outputs": [],
   "source": [
    "texts, cats = classify.reformat_cat_from_df(df = phrase_df,\n",
    "                                      text_col = 'text',\n",
    "                                      label_col = 'FINALIZE',\n",
    "                                      category = 'FINALIZE')"
   ]
  },
  {
   "cell_type": "code",
   "execution_count": 38,
   "metadata": {
    "collapsed": true
   },
   "outputs": [],
   "source": [
    "output_dir = os.path.join(data_path, 'date_finalize_classifier')"
   ]
  },
  {
   "cell_type": "code",
   "execution_count": 39,
   "metadata": {
    "scrolled": true
   },
   "outputs": [
    {
     "name": "stdout",
     "output_type": "stream",
     "text": [
      "Created blank 'en' model\n",
      "Using 113 examples (93 training, 20 evaluation)\n",
      "Warning: Unnamed vectors -- this won't allow multiple vectors models to be loaded. (Shape: (0, 0))\n",
      "Training the model...\n",
      "LOSS \t  P  \t  R  \t  F  \n",
      "5.987\t0.500\t0.000\t0.000\n",
      "4.914\t0.400\t0.333\t0.364\n",
      "3.045\t0.400\t0.667\t0.500\n",
      "3.673\t0.500\t0.667\t0.571\n",
      "2.243\t0.600\t1.000\t0.750\n",
      "1.945\t0.625\t0.833\t0.714\n",
      "1.235\t0.625\t0.833\t0.714\n",
      "1.075\t0.625\t0.833\t0.714\n",
      "0.395\t0.667\t1.000\t0.800\n",
      "0.619\t0.750\t1.000\t0.857\n",
      "0.709\t0.750\t1.000\t0.857\n",
      "0.347\t0.600\t1.000\t0.750\n",
      "0.106\t0.667\t1.000\t0.800\n",
      "0.343\t0.600\t1.000\t0.750\n",
      "0.412\t0.600\t1.000\t0.750\n",
      "0.199\t0.600\t1.000\t0.750\n",
      "0.166\t0.545\t1.000\t0.706\n",
      "0.229\t0.545\t1.000\t0.706\n",
      "0.294\t0.667\t1.000\t0.800\n",
      "0.351\t0.667\t1.000\t0.800\n",
      "No text {'FINALIZE': 0.011657624505460262}\n",
      "Saved model to /Users/kylieleblancKylie/dofis/code/exemptions/../../data/date_finalize_classifier\n",
      "Loading from /Users/kylieleblancKylie/dofis/code/exemptions/../../data/date_finalize_classifier\n",
      "No text {'FINALIZE': 0.011657624505460262}\n"
     ]
    },
    {
     "data": {
      "text/plain": [
       "<spacy.pipeline.TextCategorizer at 0x118b499b0>"
      ]
     },
     "execution_count": 39,
     "metadata": {},
     "output_type": "execute_result"
    }
   ],
   "source": [
    "classify.train_classifier_and_evaluate(texts=texts, \n",
    "                                        cats=cats,\n",
    "                                        n_test = 20,\n",
    "                                        model=None, \n",
    "                                        output_dir=output_dir, \n",
    "                                        n_iter=20, \n",
    "                                        categories=['FINALIZE'])"
   ]
  },
  {
   "cell_type": "code",
   "execution_count": null,
   "metadata": {
    "collapsed": true
   },
   "outputs": [],
   "source": []
  }
 ],
 "metadata": {
  "kernelspec": {
   "display_name": "Python [conda env:spacy]",
   "language": "python",
   "name": "conda-env-spacy-py"
  },
  "language_info": {
   "codemirror_mode": {
    "name": "ipython",
    "version": 3
   },
   "file_extension": ".py",
   "mimetype": "text/x-python",
   "name": "python",
   "nbconvert_exporter": "python",
   "pygments_lexer": "ipython3",
   "version": "3.7.0"
  }
 },
 "nbformat": 4,
 "nbformat_minor": 2
}
