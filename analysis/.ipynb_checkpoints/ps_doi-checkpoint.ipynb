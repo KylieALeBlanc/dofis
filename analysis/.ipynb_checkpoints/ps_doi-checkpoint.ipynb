{
 "cells": [
  {
   "cell_type": "code",
   "execution_count": 82,
   "metadata": {
    "collapsed": true
   },
   "outputs": [],
   "source": [
    "import pandas as pd\n",
    "import os\n",
    "import statsmodels.formula.api as sm\n",
    "import statsmodels.formula.api as smf\n",
    "\n",
    "from library import regulations\n",
    "from library import characteristics\n",
    "from library import analysis\n",
    "from library import tables\n",
    "\n",
    "from openpyxl import load_workbook\n"
   ]
  },
  {
   "cell_type": "code",
   "execution_count": 83,
   "metadata": {},
   "outputs": [
    {
     "name": "stderr",
     "output_type": "stream",
     "text": [
      "/Users/kylieleblancKylie/anaconda/envs/spacy/lib/python3.7/site-packages/IPython/core/interactiveshell.py:2785: DtypeWarning: Columns (7) have mixed types. Specify dtype option on import or set low_memory=False.\n",
      "  interactivity=interactivity, compiler=compiler, result=result)\n"
     ]
    }
   ],
   "source": [
    "data_path = '/Users/kylieleblancKylie/domino/dofis/data/'\n",
    "table_path = '/Users/kylieleblancKylie/domino/dofis/results/descriptive/'\n",
    "data = pd.read_csv(os.path.join(data_path, 'clean', 'master_data.csv'),\n",
    "                  sep=\",\")\n",
    "data = data[data.year == 'yr1415']\n",
    "data = data[data.eligible == 1]"
   ]
  },
  {
   "cell_type": "code",
   "execution_count": 84,
   "metadata": {
    "collapsed": true
   },
   "outputs": [],
   "source": [
    "tf = {True: 1, False: 0}\n",
    "data['doi'] = data['doi'].map(tf)"
   ]
  },
  {
   "cell_type": "code",
   "execution_count": 85,
   "metadata": {
    "collapsed": true
   },
   "outputs": [],
   "source": [
    "f1 = 'doi ~ type_urban + type_rural + teachers_exp_ave + teachers_tenure_ave + teachers_turnover_ratio + students_teacher_ratio + students_hisp + students_white + students_black + students_frpl + avescores'\n",
    "f2 = 'doi ~ type_urban + type_rural'\n",
    "f3 = 'doi ~ teachers_exp_ave + teachers_tenure_ave + teachers_turnover_ratio + students_teacher_ratio'\n",
    "f4 = 'doi ~ students_hisp + students_white + students_black + students_frpl + avescores'\n"
   ]
  },
  {
   "cell_type": "code",
   "execution_count": 86,
   "metadata": {
    "collapsed": true
   },
   "outputs": [],
   "source": [
    "f1_list = ['type_urban', 'type_rural',\n",
    "           'teachers_exp_ave', 'teachers_tenure_ave', 'teachers_turnover_ratio', 'students_teacher_ratio',\n",
    "           'students_hisp', 'students_white', 'students_black', 'students_frpl', 'avescores']"
   ]
  },
  {
   "cell_type": "code",
   "execution_count": 97,
   "metadata": {},
   "outputs": [
    {
     "name": "stdout",
     "output_type": "stream",
     "text": [
      "Optimization terminated successfully.\n",
      "         Current function value: 0.484537\n",
      "         Iterations 6\n"
     ]
    },
    {
     "data": {
      "text/html": [
       "<table class=\"simpletable\">\n",
       "<caption>Logit Regression Results</caption>\n",
       "<tr>\n",
       "  <th>Dep. Variable:</th>        <td>doi</td>       <th>  No. Observations:  </th>  <td>   970</td>  \n",
       "</tr>\n",
       "<tr>\n",
       "  <th>Model:</th>               <td>Logit</td>      <th>  Df Residuals:      </th>  <td>   959</td>  \n",
       "</tr>\n",
       "<tr>\n",
       "  <th>Method:</th>               <td>MLE</td>       <th>  Df Model:          </th>  <td>    10</td>  \n",
       "</tr>\n",
       "<tr>\n",
       "  <th>Date:</th>          <td>Fri, 19 Oct 2018</td> <th>  Pseudo R-squ.:     </th>  <td>0.07018</td> \n",
       "</tr>\n",
       "<tr>\n",
       "  <th>Time:</th>              <td>15:35:00</td>     <th>  Log-Likelihood:    </th> <td> -470.00</td> \n",
       "</tr>\n",
       "<tr>\n",
       "  <th>converged:</th>           <td>True</td>       <th>  LL-Null:           </th> <td> -505.47</td> \n",
       "</tr>\n",
       "<tr>\n",
       "  <th> </th>                      <td> </td>        <th>  LLR p-value:       </th> <td>2.912e-11</td>\n",
       "</tr>\n",
       "</table>\n",
       "<table class=\"simpletable\">\n",
       "<tr>\n",
       "             <td></td>                <th>coef</th>     <th>std err</th>      <th>z</th>      <th>P>|z|</th>  <th>[0.025</th>    <th>0.975]</th>  \n",
       "</tr>\n",
       "<tr>\n",
       "  <th>type_urban</th>              <td>   -0.1882</td> <td>    0.370</td> <td>   -0.509</td> <td> 0.611</td> <td>   -0.912</td> <td>    0.536</td>\n",
       "</tr>\n",
       "<tr>\n",
       "  <th>type_rural</th>              <td>   -0.1625</td> <td>    0.224</td> <td>   -0.725</td> <td> 0.468</td> <td>   -0.602</td> <td>    0.277</td>\n",
       "</tr>\n",
       "<tr>\n",
       "  <th>teachers_exp_ave</th>        <td>    0.0601</td> <td>    0.049</td> <td>    1.228</td> <td> 0.220</td> <td>   -0.036</td> <td>    0.156</td>\n",
       "</tr>\n",
       "<tr>\n",
       "  <th>teachers_tenure_ave</th>     <td>   -0.0061</td> <td>    0.061</td> <td>   -0.100</td> <td> 0.920</td> <td>   -0.126</td> <td>    0.114</td>\n",
       "</tr>\n",
       "<tr>\n",
       "  <th>teachers_turnover_ratio</th> <td>    0.0044</td> <td>    0.011</td> <td>    0.397</td> <td> 0.691</td> <td>   -0.017</td> <td>    0.026</td>\n",
       "</tr>\n",
       "<tr>\n",
       "  <th>students_teacher_ratio</th>  <td>    0.1794</td> <td>    0.089</td> <td>    2.006</td> <td> 0.045</td> <td>    0.004</td> <td>    0.355</td>\n",
       "</tr>\n",
       "<tr>\n",
       "  <th>students_hisp</th>           <td>   -1.7763</td> <td>    1.147</td> <td>   -1.549</td> <td> 0.121</td> <td>   -4.024</td> <td>    0.471</td>\n",
       "</tr>\n",
       "<tr>\n",
       "  <th>students_white</th>          <td>    0.0499</td> <td>    1.093</td> <td>    0.046</td> <td> 0.964</td> <td>   -2.092</td> <td>    2.192</td>\n",
       "</tr>\n",
       "<tr>\n",
       "  <th>students_black</th>          <td>    0.7266</td> <td>    1.685</td> <td>    0.431</td> <td> 0.666</td> <td>   -2.576</td> <td>    4.029</td>\n",
       "</tr>\n",
       "<tr>\n",
       "  <th>students_frpl</th>           <td>    0.1577</td> <td>    0.772</td> <td>    0.204</td> <td> 0.838</td> <td>   -1.355</td> <td>    1.670</td>\n",
       "</tr>\n",
       "<tr>\n",
       "  <th>avescores</th>               <td>    0.2399</td> <td>    0.185</td> <td>    1.300</td> <td> 0.194</td> <td>   -0.122</td> <td>    0.602</td>\n",
       "</tr>\n",
       "</table>"
      ],
      "text/plain": [
       "<class 'statsmodels.iolib.summary.Summary'>\n",
       "\"\"\"\n",
       "                           Logit Regression Results                           \n",
       "==============================================================================\n",
       "Dep. Variable:                    doi   No. Observations:                  970\n",
       "Model:                          Logit   Df Residuals:                      959\n",
       "Method:                           MLE   Df Model:                           10\n",
       "Date:                Fri, 19 Oct 2018   Pseudo R-squ.:                 0.07018\n",
       "Time:                        15:35:00   Log-Likelihood:                -470.00\n",
       "converged:                       True   LL-Null:                       -505.47\n",
       "                                        LLR p-value:                 2.912e-11\n",
       "===========================================================================================\n",
       "                              coef    std err          z      P>|z|      [0.025      0.975]\n",
       "-------------------------------------------------------------------------------------------\n",
       "type_urban                 -0.1882      0.370     -0.509      0.611      -0.912       0.536\n",
       "type_rural                 -0.1625      0.224     -0.725      0.468      -0.602       0.277\n",
       "teachers_exp_ave            0.0601      0.049      1.228      0.220      -0.036       0.156\n",
       "teachers_tenure_ave        -0.0061      0.061     -0.100      0.920      -0.126       0.114\n",
       "teachers_turnover_ratio     0.0044      0.011      0.397      0.691      -0.017       0.026\n",
       "students_teacher_ratio      0.1794      0.089      2.006      0.045       0.004       0.355\n",
       "students_hisp              -1.7763      1.147     -1.549      0.121      -4.024       0.471\n",
       "students_white              0.0499      1.093      0.046      0.964      -2.092       2.192\n",
       "students_black              0.7266      1.685      0.431      0.666      -2.576       4.029\n",
       "students_frpl               0.1577      0.772      0.204      0.838      -1.355       1.670\n",
       "avescores                   0.2399      0.185      1.300      0.194      -0.122       0.602\n",
       "===========================================================================================\n",
       "\"\"\""
      ]
     },
     "execution_count": 97,
     "metadata": {},
     "output_type": "execute_result"
    }
   ],
   "source": [
    "def model_to_excel(data, y, x_list, file, start_row, start_col):\n",
    "    wb = load_workbook(file)\n",
    "    ws = wb.active\n",
    "    \n",
    "    col_n = start_col\n",
    "    row_n = start_row\n",
    "    \n",
    "    # create formula\n",
    "    i = 1\n",
    "    x_str = ''\n",
    "    for x in x_list:\n",
    "        if i == 1:\n",
    "            x_str = x_str + x\n",
    "        if i > 1:\n",
    "            x_str = x_str + ' + ' + x\n",
    "        i += 1\n",
    "    x_str = x_str + '- 1'\n",
    "    formula = y + ' ~ ' + x_str\n",
    "    \n",
    "    # run\n",
    "    result = smf.logit(formula=formula, data=data).fit()\n",
    "    # to excel\n",
    "    for x in x_list:\n",
    "        p = result.pvalues[x]\n",
    "        coef = result.params[x].round(2)\n",
    "        if p >=.05:\n",
    "            coef = str(coef)\n",
    "        if p < .05:\n",
    "            coef = str(coef) + '*'\n",
    "        if p < .01:\n",
    "            coef = str(coef) + '**'\n",
    "        if p < .01:\n",
    "            coef = str(coef) + '***'\n",
    "        ws.cell(row=row_n, column=col_n).value = coef\n",
    "        row_n = row_n + 1\n",
    "        ws.cell(row=row_n, column=col_n).value = '(' + str(result.bse[x].round(2)) + ')'\n",
    "        row_n = row_n + 1\n",
    "    \n",
    "    ws.cell(row=row_n, column=col_n).value = result.llf.round(2)\n",
    "    row_n = row_n + 1\n",
    "    ws.cell(row=row_n, column=col_n).value = result.prsquared.round(2)\n",
    "    wb.save(file)\n",
    "    \n",
    "    return result.summary()\n",
    "    \n",
    "model_to_excel(data, y = 'doi', x_list = f1_list, file = table_path + 'PS_DOI.xlsx', start_row = 3, start_col = 2)"
   ]
  },
  {
   "cell_type": "code",
   "execution_count": 106,
   "metadata": {},
   "outputs": [
    {
     "name": "stdout",
     "output_type": "stream",
     "text": [
      "Optimization terminated successfully.\n",
      "         Current function value: 0.483650\n",
      "         Iterations 6\n"
     ]
    },
    {
     "data": {
      "text/html": [
       "<table class=\"simpletable\">\n",
       "<caption>Logit Regression Results</caption>\n",
       "<tr>\n",
       "  <th>Dep. Variable:</th>        <td>doi</td>       <th>  No. Observations:  </th>  <td>   970</td>  \n",
       "</tr>\n",
       "<tr>\n",
       "  <th>Model:</th>               <td>Logit</td>      <th>  Df Residuals:      </th>  <td>   958</td>  \n",
       "</tr>\n",
       "<tr>\n",
       "  <th>Method:</th>               <td>MLE</td>       <th>  Df Model:          </th>  <td>    11</td>  \n",
       "</tr>\n",
       "<tr>\n",
       "  <th>Date:</th>          <td>Fri, 19 Oct 2018</td> <th>  Pseudo R-squ.:     </th>  <td>0.07188</td> \n",
       "</tr>\n",
       "<tr>\n",
       "  <th>Time:</th>              <td>15:48:04</td>     <th>  Log-Likelihood:    </th> <td> -469.14</td> \n",
       "</tr>\n",
       "<tr>\n",
       "  <th>converged:</th>           <td>True</td>       <th>  LL-Null:           </th> <td> -505.47</td> \n",
       "</tr>\n",
       "<tr>\n",
       "  <th> </th>                      <td> </td>        <th>  LLR p-value:       </th> <td>3.792e-11</td>\n",
       "</tr>\n",
       "</table>\n",
       "<table class=\"simpletable\">\n",
       "<tr>\n",
       "             <td></td>                <th>coef</th>     <th>std err</th>      <th>z</th>      <th>P>|z|</th>  <th>[0.025</th>    <th>0.975]</th>  \n",
       "</tr>\n",
       "<tr>\n",
       "  <th>type_urban</th>              <td>   -0.0771</td> <td>    0.443</td> <td>   -0.174</td> <td> 0.862</td> <td>   -0.945</td> <td>    0.791</td>\n",
       "</tr>\n",
       "<tr>\n",
       "  <th>type_suburban</th>           <td>   -0.0088</td> <td>    0.282</td> <td>   -0.031</td> <td> 0.975</td> <td>   -0.561</td> <td>    0.544</td>\n",
       "</tr>\n",
       "<tr>\n",
       "  <th>type_town</th>               <td>    0.2856</td> <td>    0.237</td> <td>    1.202</td> <td> 0.229</td> <td>   -0.180</td> <td>    0.751</td>\n",
       "</tr>\n",
       "<tr>\n",
       "  <th>teachers_exp_ave</th>        <td>    0.0544</td> <td>    0.049</td> <td>    1.105</td> <td> 0.269</td> <td>   -0.042</td> <td>    0.151</td>\n",
       "</tr>\n",
       "<tr>\n",
       "  <th>teachers_tenure_ave</th>     <td>   -0.0053</td> <td>    0.061</td> <td>   -0.086</td> <td> 0.931</td> <td>   -0.126</td> <td>    0.115</td>\n",
       "</tr>\n",
       "<tr>\n",
       "  <th>teachers_turnover_ratio</th> <td>    0.0033</td> <td>    0.011</td> <td>    0.294</td> <td> 0.769</td> <td>   -0.019</td> <td>    0.025</td>\n",
       "</tr>\n",
       "<tr>\n",
       "  <th>students_teacher_ratio</th>  <td>    0.1953</td> <td>    0.093</td> <td>    2.102</td> <td> 0.036</td> <td>    0.013</td> <td>    0.377</td>\n",
       "</tr>\n",
       "<tr>\n",
       "  <th>students_hisp</th>           <td>   -1.9149</td> <td>    1.112</td> <td>   -1.721</td> <td> 0.085</td> <td>   -4.095</td> <td>    0.265</td>\n",
       "</tr>\n",
       "<tr>\n",
       "  <th>students_white</th>          <td>   -0.1271</td> <td>    1.036</td> <td>   -0.123</td> <td> 0.902</td> <td>   -2.158</td> <td>    1.904</td>\n",
       "</tr>\n",
       "<tr>\n",
       "  <th>students_black</th>          <td>    0.5988</td> <td>    1.668</td> <td>    0.359</td> <td> 0.720</td> <td>   -2.671</td> <td>    3.868</td>\n",
       "</tr>\n",
       "<tr>\n",
       "  <th>students_frpl</th>           <td>    0.1291</td> <td>    0.773</td> <td>    0.167</td> <td> 0.867</td> <td>   -1.386</td> <td>    1.644</td>\n",
       "</tr>\n",
       "<tr>\n",
       "  <th>avescores</th>               <td>    0.2445</td> <td>    0.184</td> <td>    1.326</td> <td> 0.185</td> <td>   -0.117</td> <td>    0.606</td>\n",
       "</tr>\n",
       "</table>"
      ],
      "text/plain": [
       "<class 'statsmodels.iolib.summary.Summary'>\n",
       "\"\"\"\n",
       "                           Logit Regression Results                           \n",
       "==============================================================================\n",
       "Dep. Variable:                    doi   No. Observations:                  970\n",
       "Model:                          Logit   Df Residuals:                      958\n",
       "Method:                           MLE   Df Model:                           11\n",
       "Date:                Fri, 19 Oct 2018   Pseudo R-squ.:                 0.07188\n",
       "Time:                        15:48:04   Log-Likelihood:                -469.14\n",
       "converged:                       True   LL-Null:                       -505.47\n",
       "                                        LLR p-value:                 3.792e-11\n",
       "===========================================================================================\n",
       "                              coef    std err          z      P>|z|      [0.025      0.975]\n",
       "-------------------------------------------------------------------------------------------\n",
       "type_urban                 -0.0771      0.443     -0.174      0.862      -0.945       0.791\n",
       "type_suburban              -0.0088      0.282     -0.031      0.975      -0.561       0.544\n",
       "type_town                   0.2856      0.237      1.202      0.229      -0.180       0.751\n",
       "teachers_exp_ave            0.0544      0.049      1.105      0.269      -0.042       0.151\n",
       "teachers_tenure_ave        -0.0053      0.061     -0.086      0.931      -0.126       0.115\n",
       "teachers_turnover_ratio     0.0033      0.011      0.294      0.769      -0.019       0.025\n",
       "students_teacher_ratio      0.1953      0.093      2.102      0.036       0.013       0.377\n",
       "students_hisp              -1.9149      1.112     -1.721      0.085      -4.095       0.265\n",
       "students_white             -0.1271      1.036     -0.123      0.902      -2.158       1.904\n",
       "students_black              0.5988      1.668      0.359      0.720      -2.671       3.868\n",
       "students_frpl               0.1291      0.773      0.167      0.867      -1.386       1.644\n",
       "avescores                   0.2445      0.184      1.326      0.185      -0.117       0.606\n",
       "===========================================================================================\n",
       "\"\"\""
      ]
     },
     "execution_count": 106,
     "metadata": {},
     "output_type": "execute_result"
    }
   ],
   "source": [
    "f = 'doi ~ type_urban + type_suburban + type_town + teachers_exp_ave + teachers_tenure_ave + teachers_turnover_ratio + students_teacher_ratio + students_hisp + students_white + students_black + students_frpl + avescores -1'\n",
    "result = smf.logit(formula=str(f), data=data).fit()\n",
    "result.summary()"
   ]
  },
  {
   "cell_type": "code",
   "execution_count": null,
   "metadata": {
    "collapsed": true
   },
   "outputs": [],
   "source": []
  }
 ],
 "metadata": {
  "kernelspec": {
   "display_name": "Python [conda env:spacy]",
   "language": "python",
   "name": "conda-env-spacy-py"
  },
  "language_info": {
   "codemirror_mode": {
    "name": "ipython",
    "version": 3
   },
   "file_extension": ".py",
   "mimetype": "text/x-python",
   "name": "python",
   "nbconvert_exporter": "python",
   "pygments_lexer": "ipython3",
   "version": "3.7.0"
  }
 },
 "nbformat": 4,
 "nbformat_minor": 2
}
