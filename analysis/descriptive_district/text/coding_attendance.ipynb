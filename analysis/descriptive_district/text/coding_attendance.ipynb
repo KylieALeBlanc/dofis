{
 "cells": [
  {
   "cell_type": "code",
   "execution_count": 3,
   "metadata": {},
   "outputs": [],
   "source": [
    "import pandas as pd\n",
    "import os\n",
    "import re\n",
    "import spacy\n",
    "import en_core_web_sm\n",
    "from spacy.matcher import Matcher\n",
    "from IPython.display import clear_output"
   ]
  },
  {
   "cell_type": "code",
   "execution_count": 4,
   "metadata": {},
   "outputs": [
    {
     "data": {
      "text/html": [
       "<div>\n",
       "<style scoped>\n",
       "    .dataframe tbody tr th:only-of-type {\n",
       "        vertical-align: middle;\n",
       "    }\n",
       "\n",
       "    .dataframe tbody tr th {\n",
       "        vertical-align: top;\n",
       "    }\n",
       "\n",
       "    .dataframe thead th {\n",
       "        text-align: right;\n",
       "    }\n",
       "</style>\n",
       "<table border=\"1\" class=\"dataframe\">\n",
       "  <thead>\n",
       "    <tr style=\"text-align: right;\">\n",
       "      <th></th>\n",
       "      <th>Unnamed: 0</th>\n",
       "      <th>district</th>\n",
       "      <th>link</th>\n",
       "      <th>text</th>\n",
       "      <th>variable</th>\n",
       "      <th>value</th>\n",
       "      <th>phrase</th>\n",
       "    </tr>\n",
       "  </thead>\n",
       "  <tbody>\n",
       "    <tr>\n",
       "      <th>0</th>\n",
       "      <td>9889</td>\n",
       "      <td>Abernathy ISD</td>\n",
       "      <td>https://1.cdn.edl.io/epGD4mZXjWUcPl8yA7IhlcDol...</td>\n",
       "      <td>Abernathy ISD District of Innovation Plan – Dr...</td>\n",
       "      <td>reg25_092</td>\n",
       "      <td>1</td>\n",
       "      <td>|25.092 TEC §25.092 declares A student in any ...</td>\n",
       "    </tr>\n",
       "    <tr>\n",
       "      <th>1</th>\n",
       "      <td>9892</td>\n",
       "      <td>Adrian ISD</td>\n",
       "      <td>http://www.adrianisd.net/UserFiles/Servers/Ser...</td>\n",
       "      <td>Adrian ISD District of Innovation Plan House B...</td>\n",
       "      <td>reg25_092</td>\n",
       "      <td>1</td>\n",
       "      <td>|25.092 FEC Legal Current TEC §25.092 states a...</td>\n",
       "    </tr>\n",
       "    <tr>\n",
       "      <th>2</th>\n",
       "      <td>9894</td>\n",
       "      <td>Alamo Heights ISD</td>\n",
       "      <td>http://www.ahisd.net/UserFiles/Servers/Server_...</td>\n",
       "      <td>1 | P a g e Mission Statement The Alamo Height...</td>\n",
       "      <td>reg25_092</td>\n",
       "      <td>1</td>\n",
       "      <td>|25.092) Current statute: State law currently ...</td>\n",
       "    </tr>\n",
       "    <tr>\n",
       "      <th>3</th>\n",
       "      <td>9896</td>\n",
       "      <td>Aldine ISD</td>\n",
       "      <td>http://insidealdine.com/wp-content/uploads/201...</td>\n",
       "      <td>Aldine District of Innovation Plan Approved by...</td>\n",
       "      <td>reg25_092</td>\n",
       "      <td>1</td>\n",
       "      <td>|25.092 provides conditions for credit or a fi...</td>\n",
       "    </tr>\n",
       "    <tr>\n",
       "      <th>4</th>\n",
       "      <td>9899</td>\n",
       "      <td>Alief ISD</td>\n",
       "      <td>http://www.aliefisd.net/site/handlers/filedown...</td>\n",
       "      <td>Alief District of Innovation Plan Approved by ...</td>\n",
       "      <td>reg25_092</td>\n",
       "      <td>1</td>\n",
       "      <td>|25.092, commonly referred to as the 90 percen...</td>\n",
       "    </tr>\n",
       "  </tbody>\n",
       "</table>\n",
       "</div>"
      ],
      "text/plain": [
       "   Unnamed: 0           district  \\\n",
       "0        9889      Abernathy ISD   \n",
       "1        9892         Adrian ISD   \n",
       "2        9894  Alamo Heights ISD   \n",
       "3        9896         Aldine ISD   \n",
       "4        9899          Alief ISD   \n",
       "\n",
       "                                                link  \\\n",
       "0  https://1.cdn.edl.io/epGD4mZXjWUcPl8yA7IhlcDol...   \n",
       "1  http://www.adrianisd.net/UserFiles/Servers/Ser...   \n",
       "2  http://www.ahisd.net/UserFiles/Servers/Server_...   \n",
       "3  http://insidealdine.com/wp-content/uploads/201...   \n",
       "4  http://www.aliefisd.net/site/handlers/filedown...   \n",
       "\n",
       "                                                text   variable  value  \\\n",
       "0  Abernathy ISD District of Innovation Plan – Dr...  reg25_092      1   \n",
       "1  Adrian ISD District of Innovation Plan House B...  reg25_092      1   \n",
       "2  1 | P a g e Mission Statement The Alamo Height...  reg25_092      1   \n",
       "3  Aldine District of Innovation Plan Approved by...  reg25_092      1   \n",
       "4  Alief District of Innovation Plan Approved by ...  reg25_092      1   \n",
       "\n",
       "                                              phrase  \n",
       "0  |25.092 TEC §25.092 declares A student in any ...  \n",
       "1  |25.092 FEC Legal Current TEC §25.092 states a...  \n",
       "2  |25.092) Current statute: State law currently ...  \n",
       "3  |25.092 provides conditions for credit or a fi...  \n",
       "4  |25.092, commonly referred to as the 90 percen...  "
      ]
     },
     "execution_count": 4,
     "metadata": {},
     "output_type": "execute_result"
    }
   ],
   "source": [
    "data_path = '/Users/kylieleblancKylie/domino/dofis/data/'\n",
    "docs = pd.read_csv(os.path.join(data_path, 'clean', 'phrases_attendance.csv'),\n",
    "                  sep=\",\")\n",
    "docs.head()"
   ]
  },
  {
   "cell_type": "code",
   "execution_count": 5,
   "metadata": {},
   "outputs": [],
   "source": [
    "docs_to_label = docs.sample(n = 50, random_state = 45)\n",
    "docs_to_label = docs_to_label[['phrase', 'link']]\n",
    "docs_to_label = docs_to_label.rename({'phrase': 'text', 'link': 'source'}, axis = 1)\n",
    "#docs_to_label.to_csv(os.path.join(data_path, 'plans', 'certification_to_label.csv'), header = True)"
   ]
  },
  {
   "cell_type": "code",
   "execution_count": null,
   "metadata": {},
   "outputs": [],
   "source": [
    "if True:\n",
    "    teacher_matters_more = []\n",
    "    changes = []\n",
    "    for text, source in zip(docs_to_label.text[0:12], docs_to_label.source[0:12]):\n",
    "        show = str(source) + str(text)\n",
    "        \n",
    "        annotation = input(show + \"Say teachers matter more\")\n",
    "        teacher_matters_more.append(annotation)\n",
    "        \n",
    "        annotation = input(\"Mentions changing enrollmemt\")\n",
    "        changes.append(annotation)\n",
    "                     \n",
    "        clear_output()"
   ]
  },
  {
   "cell_type": "code",
   "execution_count": 14,
   "metadata": {},
   "outputs": [
    {
     "data": {
      "text/plain": [
       "['0', '1', '0', '1', '0', '0', '0', '1', '0', '0', '0', '0']"
      ]
     },
     "execution_count": 14,
     "metadata": {},
     "output_type": "execute_result"
    }
   ],
   "source": [
    "teacher_matters_more"
   ]
  },
  {
   "cell_type": "code",
   "execution_count": 16,
   "metadata": {},
   "outputs": [
    {
     "data": {
      "text/plain": [
       "['1', '0', '1', '0', '0', '0', '1', '0', '0', '0', '1', '0']"
      ]
     },
     "execution_count": 16,
     "metadata": {},
     "output_type": "execute_result"
    }
   ],
   "source": [
    "changes"
   ]
  },
  {
   "cell_type": "code",
   "execution_count": 17,
   "metadata": {},
   "outputs": [],
   "source": [
    "if True:\n",
    "    hiring = []\n",
    "    for text, source in zip(docs_to_label.text[0:12], docs_to_label.source[0:12]):\n",
    "        show = str(source) + str(text)\n",
    "        \n",
    "        annotation = input(show + \"Hiring logistics\")\n",
    "        hiring.append(annotation)\n",
    "        \n",
    "        clear_output()"
   ]
  },
  {
   "cell_type": "code",
   "execution_count": 19,
   "metadata": {},
   "outputs": [
    {
     "data": {
      "text/plain": [
       "['0', '0', '0', '1', '0', '0', '1', '0', '.', '1', '0', '0']"
      ]
     },
     "execution_count": 19,
     "metadata": {},
     "output_type": "execute_result"
    }
   ],
   "source": [
    "hiring"
   ]
  },
  {
   "cell_type": "code",
   "execution_count": null,
   "metadata": {
    "collapsed": true
   },
   "outputs": [],
   "source": []
  }
 ],
 "metadata": {
  "kernelspec": {
   "display_name": "Python [conda env:spacy]",
   "language": "python",
   "name": "conda-env-spacy-py"
  },
  "language_info": {
   "codemirror_mode": {
    "name": "ipython",
    "version": 3
   },
   "file_extension": ".py",
   "mimetype": "text/x-python",
   "name": "python",
   "nbconvert_exporter": "python",
   "pygments_lexer": "ipython3",
   "version": "3.7.2"
  }
 },
 "nbformat": 4,
 "nbformat_minor": 2
}
