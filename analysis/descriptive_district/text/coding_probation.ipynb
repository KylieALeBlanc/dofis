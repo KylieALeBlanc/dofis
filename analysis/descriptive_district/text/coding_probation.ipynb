{
 "cells": [
  {
   "cell_type": "code",
   "execution_count": 1,
   "metadata": {},
   "outputs": [
    {
     "name": "stderr",
     "output_type": "stream",
     "text": [
      "/Users/kylieleblancKylie/anaconda/envs/spacy/lib/python3.7/importlib/_bootstrap.py:219: RuntimeWarning: numpy.dtype size changed, may indicate binary incompatibility. Expected 96, got 88\n",
      "  return f(*args, **kwds)\n",
      "/Users/kylieleblancKylie/anaconda/envs/spacy/lib/python3.7/importlib/_bootstrap.py:219: RuntimeWarning: numpy.ufunc size changed, may indicate binary incompatibility. Expected 192, got 176\n",
      "  return f(*args, **kwds)\n",
      "/Users/kylieleblancKylie/anaconda/envs/spacy/lib/python3.7/importlib/_bootstrap.py:219: RuntimeWarning: numpy.dtype size changed, may indicate binary incompatibility. Expected 96, got 88\n",
      "  return f(*args, **kwds)\n",
      "/Users/kylieleblancKylie/anaconda/envs/spacy/lib/python3.7/importlib/_bootstrap.py:219: RuntimeWarning: numpy.ufunc size changed, may indicate binary incompatibility. Expected 192, got 176\n",
      "  return f(*args, **kwds)\n"
     ]
    }
   ],
   "source": [
    "import pandas as pd\n",
    "import os\n",
    "import re\n",
    "import spacy\n",
    "import en_core_web_sm\n",
    "from spacy.matcher import Matcher\n",
    "from IPython.display import clear_output\n"
   ]
  },
  {
   "cell_type": "markdown",
   "metadata": {},
   "source": [
    "# Probation"
   ]
  },
  {
   "cell_type": "code",
   "execution_count": 2,
   "metadata": {},
   "outputs": [
    {
     "data": {
      "text/html": [
       "<div>\n",
       "<style scoped>\n",
       "    .dataframe tbody tr th:only-of-type {\n",
       "        vertical-align: middle;\n",
       "    }\n",
       "\n",
       "    .dataframe tbody tr th {\n",
       "        vertical-align: top;\n",
       "    }\n",
       "\n",
       "    .dataframe thead th {\n",
       "        text-align: right;\n",
       "    }\n",
       "</style>\n",
       "<table border=\"1\" class=\"dataframe\">\n",
       "  <thead>\n",
       "    <tr style=\"text-align: right;\">\n",
       "      <th></th>\n",
       "      <th>Unnamed: 0</th>\n",
       "      <th>district</th>\n",
       "      <th>link</th>\n",
       "      <th>text</th>\n",
       "      <th>variable</th>\n",
       "      <th>value</th>\n",
       "      <th>phrase</th>\n",
       "    </tr>\n",
       "  </thead>\n",
       "  <tbody>\n",
       "    <tr>\n",
       "      <th>0</th>\n",
       "      <td>2346</td>\n",
       "      <td>Academy ISD</td>\n",
       "      <td>https://4.files.edl.io/1a8f/06/29/18/204245-44...</td>\n",
       "      <td>District of Innovation Plan Developed in coope...</td>\n",
       "      <td>reg21_102</td>\n",
       "      <td>1</td>\n",
       "      <td>|21.102) Current Requirement: Texas Education ...</td>\n",
       "    </tr>\n",
       "    <tr>\n",
       "      <th>1</th>\n",
       "      <td>2347</td>\n",
       "      <td>Adrian ISD</td>\n",
       "      <td>http://www.adrianisd.net/UserFiles/Servers/Ser...</td>\n",
       "      <td>Adrian ISD District of Innovation Plan House B...</td>\n",
       "      <td>reg21_102</td>\n",
       "      <td>1</td>\n",
       "      <td>|21.102 (b) DCA LEGAL DEFINITION. In this subc...</td>\n",
       "    </tr>\n",
       "    <tr>\n",
       "      <th>2</th>\n",
       "      <td>2349</td>\n",
       "      <td>Alamo Heights ISD</td>\n",
       "      <td>http://www.ahisd.net/UserFiles/Servers/Server_...</td>\n",
       "      <td>1 | P a g e Mission Statement The Alamo Height...</td>\n",
       "      <td>reg21_102</td>\n",
       "      <td>1</td>\n",
       "      <td>|21.102) Current Statute: Under current guidel...</td>\n",
       "    </tr>\n",
       "    <tr>\n",
       "      <th>3</th>\n",
       "      <td>2356</td>\n",
       "      <td>Alto ISD</td>\n",
       "      <td>https://1.cdn.edl.io/zhIfqqIkGkDfT1eSTIx5SAJ9K...</td>\n",
       "      <td>Microsoft Word - Alto ISD DOI 17-18 final2 (1)...</td>\n",
       "      <td>reg21_102</td>\n",
       "      <td>1</td>\n",
       "      <td>|21.102) Currently A probationary contract may...</td>\n",
       "    </tr>\n",
       "    <tr>\n",
       "      <th>4</th>\n",
       "      <td>2357</td>\n",
       "      <td>Alvarado ISD</td>\n",
       "      <td>http://www.alvaradoisd.net/UserFiles/Servers/S...</td>\n",
       "      <td>District of Innovation Plan (FINAL) Inspiring ...</td>\n",
       "      <td>reg21_102</td>\n",
       "      <td>1</td>\n",
       "      <td>|21.102) Current Statute: Under current guidel...</td>\n",
       "    </tr>\n",
       "  </tbody>\n",
       "</table>\n",
       "</div>"
      ],
      "text/plain": [
       "   Unnamed: 0           district  \\\n",
       "0        2346        Academy ISD   \n",
       "1        2347         Adrian ISD   \n",
       "2        2349  Alamo Heights ISD   \n",
       "3        2356           Alto ISD   \n",
       "4        2357       Alvarado ISD   \n",
       "\n",
       "                                                link  \\\n",
       "0  https://4.files.edl.io/1a8f/06/29/18/204245-44...   \n",
       "1  http://www.adrianisd.net/UserFiles/Servers/Ser...   \n",
       "2  http://www.ahisd.net/UserFiles/Servers/Server_...   \n",
       "3  https://1.cdn.edl.io/zhIfqqIkGkDfT1eSTIx5SAJ9K...   \n",
       "4  http://www.alvaradoisd.net/UserFiles/Servers/S...   \n",
       "\n",
       "                                                text   variable  value  \\\n",
       "0  District of Innovation Plan Developed in coope...  reg21_102      1   \n",
       "1  Adrian ISD District of Innovation Plan House B...  reg21_102      1   \n",
       "2  1 | P a g e Mission Statement The Alamo Height...  reg21_102      1   \n",
       "3  Microsoft Word - Alto ISD DOI 17-18 final2 (1)...  reg21_102      1   \n",
       "4  District of Innovation Plan (FINAL) Inspiring ...  reg21_102      1   \n",
       "\n",
       "                                              phrase  \n",
       "0  |21.102) Current Requirement: Texas Education ...  \n",
       "1  |21.102 (b) DCA LEGAL DEFINITION. In this subc...  \n",
       "2  |21.102) Current Statute: Under current guidel...  \n",
       "3  |21.102) Currently A probationary contract may...  \n",
       "4  |21.102) Current Statute: Under current guidel...  "
      ]
     },
     "execution_count": 2,
     "metadata": {},
     "output_type": "execute_result"
    }
   ],
   "source": [
    "data_path = '/Users/kylieleblancKylie/domino/dofis/data/'\n",
    "\n",
    "docs = pd.read_csv(os.path.join(data_path, 'clean', 'phrases_probation.csv'),\n",
    "                  sep=\",\")\n",
    "docs.head()"
   ]
  },
  {
   "cell_type": "code",
   "execution_count": 3,
   "metadata": {
    "collapsed": true
   },
   "outputs": [],
   "source": [
    "docs_to_label = docs.sample(n = 50, random_state = 45)\n",
    "docs_to_label = docs_to_label[['phrase', 'link']]\n",
    "docs_to_label = docs_to_label.rename({'phrase': 'text', 'link': 'source'}, axis = 1)\n",
    "#docs_to_label.to_csv(os.path.join(data_path, 'plans', 'certification_to_label.csv'), header = True)"
   ]
  },
  {
   "cell_type": "code",
   "execution_count": 4,
   "metadata": {
    "collapsed": true
   },
   "outputs": [],
   "source": [
    "relabel_docs = True"
   ]
  },
  {
   "cell_type": "code",
   "execution_count": 5,
   "metadata": {},
   "outputs": [
    {
     "data": {
      "text/plain": [
       "50"
      ]
     },
     "execution_count": 5,
     "metadata": {},
     "output_type": "execute_result"
    }
   ],
   "source": [
    "len(docs_to_label)"
   ]
  },
  {
   "cell_type": "code",
   "execution_count": null,
   "metadata": {},
   "outputs": [],
   "source": [
    "if relabel_docs:\n",
    "    extend = []\n",
    "    data_timing = []\n",
    "    for text, source in zip(docs_to_label.text[0:12], docs_to_label.source[0:12]):\n",
    "        show = str(source) + str(text)\n",
    "        \n",
    "        annotation = input(show + \"Mentions not enough time\")\n",
    "        extend.append(annotation)\n",
    "        \n",
    "        annotation = input(\"Mentions problem with timing of data\")\n",
    "        data_timing.append(annotation)\n",
    "                           \n",
    "        clear_output()"
   ]
  },
  {
   "cell_type": "code",
   "execution_count": 11,
   "metadata": {
    "collapsed": true
   },
   "outputs": [],
   "source": [
    "extend = extend[0:10]\n",
    "no_tenure = no_tenure[0:10]\n",
    "data_timing = data_timing[0:10]"
   ]
  },
  {
   "cell_type": "code",
   "execution_count": 12,
   "metadata": {},
   "outputs": [
    {
     "data": {
      "text/plain": [
       "128    |21.102 will permit Iraan-Sheffield ISD the op...\n",
       "220    |21.102) (Supports RSISD Board Goal #1) Texas ...\n",
       "69                                                   NaN\n",
       "273    |21.102) Currently A probationary contract may...\n",
       "30     |21.102) Current Law For experienced teachers,...\n",
       "38     |21.102. PROBATIONARY CONTRACT. b) A probation...\n",
       "96     |21.102. PROBATIONARY CONTRACT. (b) A probatio...\n",
       "0      |21.102) Current Requirement: Texas Education ...\n",
       "157                                                  NaN\n",
       "150    |21.102. Innovation Statement: The District wo...\n",
       "Name: text, dtype: object"
      ]
     },
     "execution_count": 12,
     "metadata": {},
     "output_type": "execute_result"
    }
   ],
   "source": [
    "docs_to_label.text[10:20]"
   ]
  },
  {
   "cell_type": "code",
   "execution_count": null,
   "metadata": {},
   "outputs": [
    {
     "name": "stdout",
     "output_type": "stream",
     "text": [
      "https://4.files.edl.io/1a8f/06/29/18/204245-444387be-1b9b-4ee3-82d0-a63c0fa7a43b.docx|21.102) Current Requirement: Texas Education Code, sections 21.102 requires that experienced teachers new to the district have a probationary period that may not exceed one year if the person has been employed as a teacher in public education for at least five of the previous eight years. Proposal: Academy ISD suggests that this amount of time is not always sufficient to evaluate teacher effectiveness and would propose the following: · Experienced teachers/counselors who have been employed in public education for at least five of the eight previous years may be extended a probationary contract for up to two years (to include the initial contract at hiring). D. Designation of Campus Behavior Coordinator (TEC|21.102 requires that experienced teachers new to the district have a probationary period that may not exceed one year if the person has been employed as a teacher in public education for at least five of the previous eight years. Proposal: Academy ISD suggests that this amount of time is not always sufficient to evaluate teacher effectiveness and would propose the following: · Experienced teachers/counselors who have been employed in public education for at least five of the eight previous years may be extended a probationary contract for up to two years (to include the initial contract at hiring). D. Designation of Campus Behavior Coordinator (TECMentions not enough time1\n"
     ]
    }
   ],
   "source": [
    "if relabel_docs:\n",
    "    for text, source in zip(docs_to_label.text[10:20], docs_to_label.source[10:20]):\n",
    "        show = str(source) + str(text)\n",
    "        \n",
    "        annotation = input(show + \"Mentions not enough time\")\n",
    "        time.append(annotation)\n",
    "        \n",
    "        annotation = input(\"Doesn't want to be required to give tenure\")\n",
    "        no_tenure.append(annotation)\n",
    "        \n",
    "        annotation = input(\"Mentions problem with timing of data\")\n",
    "        no_tenure.append(annotation)\n",
    "                           \n",
    "        clear_output()"
   ]
  },
  {
   "cell_type": "code",
   "execution_count": 36,
   "metadata": {
    "collapsed": true
   },
   "outputs": [],
   "source": [
    "if relabel_docs:\n",
    "        for text, source in zip(docs_to_label.text[20:30], docs_to_label.source[20:30]):\n",
    "            show = str(source) + str(text)\n",
    "            annotation = input(show + \"Mentions paperwork or hard-to-fill?\")\n",
    "            shortage.append(annotation)\n",
    "\n",
    "            annotation = input(\"Mentions certified not in subject?\")\n",
    "            outofsubject.append(annotation)\n",
    "\n",
    "            annotation = input(\"Mentions CTE, dual-credit, or elective courses?\")\n",
    "            electives.append(annotation)\n",
    "\n",
    "            clear_output()"
   ]
  },
  {
   "cell_type": "code",
   "execution_count": 42,
   "metadata": {
    "collapsed": true
   },
   "outputs": [],
   "source": [
    "if relabel_docs:\n",
    "        for text, source in zip(docs_to_label.text[30:40], docs_to_label.source[30:40]):\n",
    "            show = str(source) + str(text)\n",
    "            annotation = input(show + \"Mentions paperwork or hard-to-fill?\")\n",
    "            shortage.append(annotation)\n",
    "\n",
    "            annotation = input(\"Mentions certified not in subject?\")\n",
    "            outofsubject.append(annotation)\n",
    "\n",
    "            annotation = input(\"Mentions CTE, dual-credit, or elective courses?\")\n",
    "            electives.append(annotation)\n",
    "\n",
    "            clear_output()"
   ]
  },
  {
   "cell_type": "code",
   "execution_count": 43,
   "metadata": {
    "collapsed": true
   },
   "outputs": [],
   "source": [
    "if relabel_docs:\n",
    "        for text, source in zip(docs_to_label.text[40:50], docs_to_label.source[40:50]):\n",
    "            show = str(source) + str(text)\n",
    "            annotation = input(show + \"Mentions paperwork or hard-to-fill?\")\n",
    "            shortage.append(annotation)\n",
    "\n",
    "            annotation = input(\"Mentions certified not in subject?\")\n",
    "            outofsubject.append(annotation)\n",
    "\n",
    "            annotation = input(\"Mentions CTE, dual-credit, or elective courses?\")\n",
    "            electives.append(annotation)\n",
    "\n",
    "            clear_output()"
   ]
  },
  {
   "cell_type": "code",
   "execution_count": 72,
   "metadata": {
    "collapsed": true
   },
   "outputs": [],
   "source": [
    "docs_to_label['shortage'] =  shortage\n",
    "docs_to_label['outofsubject'] = outofsubject\n",
    "docs_to_label['electives'] = electives"
   ]
  },
  {
   "cell_type": "code",
   "execution_count": 73,
   "metadata": {
    "collapsed": true
   },
   "outputs": [],
   "source": [
    "docs_to_label['shortage'] = pd.to_numeric(docs_to_label['shortage'], errors='coerce')\n",
    "docs_to_label['outofsubject'] = pd.to_numeric(docs_to_label['outofsubject'], errors='coerce')\n",
    "docs_to_label['electives'] = pd.to_numeric(docs_to_label['electives'], errors='coerce')"
   ]
  },
  {
   "cell_type": "code",
   "execution_count": 76,
   "metadata": {},
   "outputs": [
    {
     "name": "stdout",
     "output_type": "stream",
     "text": [
      "Proportion mentioning emergency paperwork:  0.32653061224489793\n",
      "Proportion mentioning CTE:  0.84\n",
      "Proportion mentioning out of subject certification:  0.52\n"
     ]
    },
    {
     "data": {
      "text/html": [
       "<div>\n",
       "<style scoped>\n",
       "    .dataframe tbody tr th:only-of-type {\n",
       "        vertical-align: middle;\n",
       "    }\n",
       "\n",
       "    .dataframe tbody tr th {\n",
       "        vertical-align: top;\n",
       "    }\n",
       "\n",
       "    .dataframe thead th {\n",
       "        text-align: right;\n",
       "    }\n",
       "</style>\n",
       "<table border=\"1\" class=\"dataframe\">\n",
       "  <thead>\n",
       "    <tr style=\"text-align: right;\">\n",
       "      <th></th>\n",
       "      <th>text</th>\n",
       "      <th>source</th>\n",
       "      <th>shortage</th>\n",
       "      <th>outofsubject</th>\n",
       "      <th>electives</th>\n",
       "    </tr>\n",
       "  </thead>\n",
       "  <tbody>\n",
       "    <tr>\n",
       "      <th>524</th>\n",
       "      <td>|21.003) Currently In the event a district can...</td>\n",
       "      <td>http://images.pcmac.org/Uploads/TrentonISD/Tre...</td>\n",
       "      <td>1.0</td>\n",
       "      <td>0</td>\n",
       "      <td>0</td>\n",
       "    </tr>\n",
       "    <tr>\n",
       "      <th>159</th>\n",
       "      <td>|21.003) (DK Exhibit) (DK Legal) (DK Local) TE...</td>\n",
       "      <td>http://www.emsisd.com/cms/lib/TX21000533/Centr...</td>\n",
       "      <td>0.0</td>\n",
       "      <td>0</td>\n",
       "      <td>1</td>\n",
       "    </tr>\n",
       "    <tr>\n",
       "      <th>133</th>\n",
       "      <td>|21.003, §21.044, §21.053 and §21.057) State l...</td>\n",
       "      <td>https://s3.amazonaws.com/scschoolfiles/1170/cr...</td>\n",
       "      <td>0.0</td>\n",
       "      <td>0</td>\n",
       "      <td>1</td>\n",
       "    </tr>\n",
       "    <tr>\n",
       "      <th>535</th>\n",
       "      <td>|21.003, §21.044, §21.053, §21.055) As a small...</td>\n",
       "      <td>https://d3jc3ahdjad7x7.cloudfront.net/F5HPSEGE...</td>\n",
       "      <td>1.0</td>\n",
       "      <td>0</td>\n",
       "      <td>1</td>\n",
       "    </tr>\n",
       "    <tr>\n",
       "      <th>212</th>\n",
       "      <td>|21.003 Current Law: In the event a district c...</td>\n",
       "      <td>https://1.cdn.edl.io/hccNlwvPnDQR6L8Rr8kSyY5uc...</td>\n",
       "      <td>0.0</td>\n",
       "      <td>1</td>\n",
       "      <td>1</td>\n",
       "    </tr>\n",
       "  </tbody>\n",
       "</table>\n",
       "</div>"
      ],
      "text/plain": [
       "                                                  text  \\\n",
       "524  |21.003) Currently In the event a district can...   \n",
       "159  |21.003) (DK Exhibit) (DK Legal) (DK Local) TE...   \n",
       "133  |21.003, §21.044, §21.053 and §21.057) State l...   \n",
       "535  |21.003, §21.044, §21.053, §21.055) As a small...   \n",
       "212  |21.003 Current Law: In the event a district c...   \n",
       "\n",
       "                                                source  shortage  \\\n",
       "524  http://images.pcmac.org/Uploads/TrentonISD/Tre...       1.0   \n",
       "159  http://www.emsisd.com/cms/lib/TX21000533/Centr...       0.0   \n",
       "133  https://s3.amazonaws.com/scschoolfiles/1170/cr...       0.0   \n",
       "535  https://d3jc3ahdjad7x7.cloudfront.net/F5HPSEGE...       1.0   \n",
       "212  https://1.cdn.edl.io/hccNlwvPnDQR6L8Rr8kSyY5uc...       0.0   \n",
       "\n",
       "     outofsubject  electives  \n",
       "524             0          0  \n",
       "159             0          1  \n",
       "133             0          1  \n",
       "535             0          1  \n",
       "212             1          1  "
      ]
     },
     "execution_count": 76,
     "metadata": {},
     "output_type": "execute_result"
    }
   ],
   "source": [
    "docs_to_label\n",
    "print(\"Proportion mentioning emergency paperwork: \", docs_to_label['shortage'].mean())\n",
    "print(\"Proportion mentioning CTE: \", docs_to_label['electives'].mean())\n",
    "print(\"Proportion mentioning out of subject certification: \", docs_to_label['outofsubject'].mean())\n",
    "docs_to_label.head()"
   ]
  },
  {
   "cell_type": "code",
   "execution_count": 2,
   "metadata": {},
   "outputs": [
    {
     "ename": "NameError",
     "evalue": "name 'docs_to_label' is not defined",
     "output_type": "error",
     "traceback": [
      "\u001b[0;31m---------------------------------------------------------------------------\u001b[0m",
      "\u001b[0;31mNameError\u001b[0m                                 Traceback (most recent call last)",
      "\u001b[0;32m<ipython-input-2-e6846dbec00b>\u001b[0m in \u001b[0;36m<module>\u001b[0;34m()\u001b[0m\n\u001b[0;32m----> 1\u001b[0;31m \u001b[0mdocs_to_label\u001b[0m\u001b[0;34m.\u001b[0m\u001b[0mto_csv\u001b[0m\u001b[0;34m(\u001b[0m\u001b[0mdata_path\u001b[0m \u001b[0;34m+\u001b[0m \u001b[0;34m'labeled_certification.csv'\u001b[0m\u001b[0;34m)\u001b[0m\u001b[0;34m\u001b[0m\u001b[0m\n\u001b[0m",
      "\u001b[0;31mNameError\u001b[0m: name 'docs_to_label' is not defined"
     ]
    }
   ],
   "source": [
    "docs_to_label.to_csv(data_path + 'labeled_certification.csv')"
   ]
  },
  {
   "cell_type": "code",
   "execution_count": 25,
   "metadata": {},
   "outputs": [
    {
     "data": {
      "text/plain": [
       "['0', '1', '1', '0', '1', '1', '1', '1', '1', '1', '1', '1', '1', '1']"
      ]
     },
     "execution_count": 25,
     "metadata": {},
     "output_type": "execute_result"
    }
   ],
   "source": [
    "cte"
   ]
  },
  {
   "cell_type": "code",
   "execution_count": null,
   "metadata": {
    "collapsed": true
   },
   "outputs": [],
   "source": [
    "if relabel_docs:\n",
    "    cte = []\n",
    "    for text, source in zip(docs_to_label.text, docs_to_label.source):\n",
    "        show = source + text\n",
    "        annotation = input(show)\n",
    "        paperwork.append(annotation)\n",
    "        clear_output()"
   ]
  },
  {
   "cell_type": "code",
   "execution_count": null,
   "metadata": {
    "collapsed": true
   },
   "outputs": [],
   "source": [
    "if relabel_docs:\n",
    "    flexibility = []\n",
    "    for text, source in zip(docs_to_label.text, docs_to_label.source):\n",
    "        show = source + text\n",
    "        annotation = input(show)\n",
    "        paperwork.append(annotation)\n",
    "        clear_output()"
   ]
  }
 ],
 "metadata": {
  "kernelspec": {
   "display_name": "Python [conda env:spacy]",
   "language": "python",
   "name": "conda-env-spacy-py"
  },
  "language_info": {
   "codemirror_mode": {
    "name": "ipython",
    "version": 3
   },
   "file_extension": ".py",
   "mimetype": "text/x-python",
   "name": "python",
   "nbconvert_exporter": "python",
   "pygments_lexer": "ipython3",
   "version": "3.7.2"
  }
 },
 "nbformat": 4,
 "nbformat_minor": 2
}
