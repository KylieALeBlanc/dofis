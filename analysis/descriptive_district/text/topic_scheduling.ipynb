{
 "cells": [
  {
   "cell_type": "code",
   "execution_count": 1,
   "metadata": {},
   "outputs": [
    {
     "name": "stderr",
     "output_type": "stream",
     "text": [
      "/Users/kylieleblancKylie/anaconda/envs/spacy/lib/python3.7/site-packages/sklearn/utils/__init__.py:4: DeprecationWarning: Using or importing the ABCs from 'collections' instead of from 'collections.abc' is deprecated, and in 3.8 it will stop working\n",
      "  from collections import Sequence\n"
     ]
    }
   ],
   "source": [
    "import pandas as pd\n",
    "import os\n",
    "import re\n",
    "\n",
    "import topic_modeling\n",
    "\n",
    "from nltk.corpus import stopwords \n",
    "from nltk.stem.wordnet import WordNetLemmatizer\n",
    "import string\n",
    "import gensim\n",
    "from gensim import corpora"
   ]
  },
  {
   "cell_type": "code",
   "execution_count": 2,
   "metadata": {},
   "outputs": [
    {
     "data": {
      "text/plain": [
       "'|25.0811; TEC §|25.0811 states a school district may not begin student instruction before the 4th Monday of August. TEC §'"
      ]
     },
     "execution_count": 2,
     "metadata": {},
     "output_type": "execute_result"
    }
   ],
   "source": [
    "data_path = '/Users/kylieleblancKylie/domino/dofis/data/'\n",
    "\n",
    "data = pd.read_csv(os.path.join(data_path, 'clean', 'phrases_startdate.csv'),\n",
    "                  sep=\",\")\n",
    "doc_complete = list(data['phrase'])\n",
    "doc_complete = [str(i) for i in doc_complete]\n",
    "doc_complete[0]"
   ]
  },
  {
   "cell_type": "code",
   "execution_count": 7,
   "metadata": {
    "collapsed": true
   },
   "outputs": [],
   "source": [
    "calendar_stop_words = ['first', 'day', 'instruction', 'fourth', 'monday', 'august', \n",
    "                       'student', 'calendar', 'school',  'schedule',  'may', 'start', 'date',\n",
    "                      'year', 'begin', 'day']\n",
    "stop = topic_modeling.stop + calendar_stop_words\n",
    "\n",
    "stop = set(stop)"
   ]
  },
  {
   "cell_type": "code",
   "execution_count": 8,
   "metadata": {
    "collapsed": true
   },
   "outputs": [],
   "source": [
    "doc_clean = [topic_modeling.clean(doc).split() for doc in doc_complete] \n",
    "dictionary, matrix = topic_modeling.get_dict_and_matrix(doc_clean)"
   ]
  },
  {
   "cell_type": "code",
   "execution_count": 9,
   "metadata": {},
   "outputs": [
    {
     "name": "stdout",
     "output_type": "stream",
     "text": [
      "(0, '0.023*\"teacher\" + 0.017*\"•\" + 0.015*\"student\" + 0.012*\"school\" + 0.012*\"board\" + 0.012*\"plan\" + 0.011*\"year\" + 0.010*\"contract\" + 0.010*\"nan\" + 0.009*\"calendar\"')\n",
      "(1, '0.036*\"school\" + 0.031*\"student\" + 0.029*\"monday\" + 0.026*\"august\" + 0.026*\"begin\" + 0.023*\"instruction\" + 0.019*\"year\" + 0.019*\"start\" + 0.018*\"may\" + 0.017*\"calendar\"')\n",
      "(2, '0.022*\"member\" + 0.021*\"plan\" + 0.016*\"school\" + 0.016*\"teacher\" + 0.012*\"committee\" + 0.011*\"board\" + 0.011*\"2017\" + 0.011*\"day\" + 0.010*\"student\" + 0.009*\"voting\"')\n",
      "(3, '0.045*\"school\" + 0.033*\"student\" + 0.025*\"start\" + 0.022*\"semester\" + 0.022*\"date\" + 0.019*\"instruction\" + 0.018*\"day\" + 0.016*\"calendar\" + 0.015*\"year\" + 0.014*\"august\"')\n",
      "(4, '0.042*\"school\" + 0.021*\"day\" + 0.019*\"student\" + 0.015*\"semester\" + 0.015*\"august\" + 0.013*\"calendar\" + 0.013*\"start\" + 0.012*\"date\" + 0.012*\"monday\" + 0.011*\"year\"')\n"
     ]
    }
   ],
   "source": [
    "ldamodel = topic_modeling.run_lda(matrix = matrix, dictionary = dictionary, \n",
    "                                 num_topics = 5, passes = 50)\n",
    "for topic in ldamodel.print_topics(num_topics=10, num_words=10):\n",
    "    print(topic)"
   ]
  },
  {
   "cell_type": "code",
   "execution_count": null,
   "metadata": {
    "collapsed": true
   },
   "outputs": [],
   "source": []
  }
 ],
 "metadata": {
  "kernelspec": {
   "display_name": "Python [conda env:spacy]",
   "language": "python",
   "name": "conda-env-spacy-py"
  },
  "language_info": {
   "codemirror_mode": {
    "name": "ipython",
    "version": 3
   },
   "file_extension": ".py",
   "mimetype": "text/x-python",
   "name": "python",
   "nbconvert_exporter": "python",
   "pygments_lexer": "ipython3",
   "version": "3.7.0"
  }
 },
 "nbformat": 4,
 "nbformat_minor": 2
}
