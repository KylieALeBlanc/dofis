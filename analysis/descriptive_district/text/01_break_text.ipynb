{
 "cells": [
  {
   "cell_type": "code",
   "execution_count": 1,
   "metadata": {},
   "outputs": [],
   "source": [
    "import sys\n",
    "sys.path.append(\"../../\")\n",
    "\n",
    "import pandas as pd\n",
    "import os\n",
    "import re\n",
    "import spacy\n",
    "import en_core_web_sm\n",
    "from spacy.matcher import Matcher\n",
    "from IPython.display import clear_output\n",
    "\n",
    "from library import regulations\n",
    "import breaktext"
   ]
  },
  {
   "cell_type": "code",
   "execution_count": 2,
   "metadata": {},
   "outputs": [],
   "source": [
    "data_path = '/Users/kylieleblancKylie/domino/dofis/data/'\n",
    "data = pd.read_csv(os.path.join(data_path, 'plans', 'doi_final_wtext.csv'),\n",
    "                  sep=\",\")\n",
    "data = data[['district', 'link', 'text',\n",
    "      'reg25_0811', 'reg25_081', 'reg25_0812', 'reg25_082',\n",
    "      'reg21_003', 'reg21_053', 'reg21_057',\n",
    "      'reg21_102', 'reg21_401', 'reg21_352', 'reg21_354',\n",
    "      'reg25_092', 'reg37_0012', 'reg25_036', 'reg25_112']]\n",
    "data.head(1)"
   ]
  },
  {
   "cell_type": "code",
   "execution_count": 3,
   "metadata": {},
   "outputs": [],
   "source": [
    "regulations.similar"
   ]
  },
  {
   "cell_type": "code",
   "execution_count": 4,
   "metadata": {},
   "outputs": [],
   "source": [
    "stubnames = sorted(\n",
    "    set([match[0] for match in data.columns.str.findall(\n",
    "    r'reg.*').values if match != [] ])\n",
    "    )\n",
    "long = pd.melt(data, id_vars=['district', 'link', 'text'], value_vars=stubnames)\n",
    "long = long[long.value == 1]\n",
    "print('length= ', len(long))\n",
    "long.head(1)"
   ]
  },
  {
   "cell_type": "code",
   "execution_count": 5,
   "metadata": {},
   "outputs": [],
   "source": [
    "breaktext.get_phrase(\"21.003 45.211 21.003 21.053, 21.044 This is about teacher certification okay\", regulation = '21.003')"
   ]
  },
  {
   "cell_type": "markdown",
   "metadata": {},
   "source": [
    "# Schedules"
   ]
  },
  {
   "cell_type": "code",
   "execution_count": 6,
   "metadata": {},
   "outputs": [
    {
     "name": "stderr",
     "output_type": "stream",
     "text": [
      "/Users/kylieleblancKylie/anaconda/envs/spacy/lib/python3.7/site-packages/ipykernel/__main__.py:6: SettingWithCopyWarning: \n",
      "A value is trying to be set on a copy of a slice from a DataFrame.\n",
      "Try using .loc[row_indexer,col_indexer] = value instead\n",
      "\n",
      "See the caveats in the documentation: http://pandas.pydata.org/pandas-docs/stable/user_guide/indexing.html#returning-a-view-versus-a-copy\n"
     ]
    }
   ],
   "source": [
    "startdate = long[long.variable == 'reg25_0811']\n",
    "phrases = []\n",
    "for text in startdate.text:\n",
    "    phrase = breaktext.get_phrase(text, '25.0811', include_similar = False)\n",
    "    phrases.append(phrase)\n",
    "startdate['phrase'] = phrases\n",
    "startdate.to_csv(os.path.join(data_path, 'clean', 'phrases_startdate.csv'),\n",
    "                  sep=\",\")"
   ]
  },
  {
   "cell_type": "code",
   "execution_count": 7,
   "metadata": {},
   "outputs": [
    {
     "name": "stderr",
     "output_type": "stream",
     "text": [
      "/Users/kylieleblancKylie/anaconda/envs/spacy/lib/python3.7/site-packages/ipykernel/__main__.py:6: SettingWithCopyWarning: \n",
      "A value is trying to be set on a copy of a slice from a DataFrame.\n",
      "Try using .loc[row_indexer,col_indexer] = value instead\n",
      "\n",
      "See the caveats in the documentation: http://pandas.pydata.org/pandas-docs/stable/user_guide/indexing.html#returning-a-view-versus-a-copy\n"
     ]
    }
   ],
   "source": [
    "startdate = long[long.variable == 'reg25_081']\n",
    "phrases = []\n",
    "for text in startdate.text:\n",
    "    phrase = breaktext.get_phrase(text, '25.081', include_similar = False)\n",
    "    phrases.append(phrase)\n",
    "startdate['phrase'] = phrases\n",
    "startdate.to_csv(os.path.join(data_path, 'clean', 'phrases_minutes.csv'),\n",
    "                  sep=\",\")"
   ]
  },
  {
   "cell_type": "markdown",
   "metadata": {},
   "source": [
    "# Certification"
   ]
  },
  {
   "cell_type": "code",
   "execution_count": 8,
   "metadata": {},
   "outputs": [
    {
     "name": "stderr",
     "output_type": "stream",
     "text": [
      "/Users/kylieleblancKylie/anaconda/envs/spacy/lib/python3.7/site-packages/ipykernel/__main__.py:6: SettingWithCopyWarning: \n",
      "A value is trying to be set on a copy of a slice from a DataFrame.\n",
      "Try using .loc[row_indexer,col_indexer] = value instead\n",
      "\n",
      "See the caveats in the documentation: http://pandas.pydata.org/pandas-docs/stable/user_guide/indexing.html#returning-a-view-versus-a-copy\n"
     ]
    }
   ],
   "source": [
    "certification = long[long.variable == 'reg21_003']\n",
    "phrases = []\n",
    "for text in certification.text:\n",
    "    phrase = breaktext.get_phrase(text, '21.003')\n",
    "    phrases.append(phrase)\n",
    "certification['phrase'] = phrases\n",
    "certification.to_csv(os.path.join(data_path, 'clean', 'phrases_certification.csv'),\n",
    "                  sep=\",\")"
   ]
  },
  {
   "cell_type": "markdown",
   "metadata": {},
   "source": [
    "# Class Size"
   ]
  },
  {
   "cell_type": "code",
   "execution_count": 9,
   "metadata": {},
   "outputs": [
    {
     "name": "stderr",
     "output_type": "stream",
     "text": [
      "/Users/kylieleblancKylie/anaconda/envs/spacy/lib/python3.7/site-packages/ipykernel/__main__.py:6: SettingWithCopyWarning: \n",
      "A value is trying to be set on a copy of a slice from a DataFrame.\n",
      "Try using .loc[row_indexer,col_indexer] = value instead\n",
      "\n",
      "See the caveats in the documentation: http://pandas.pydata.org/pandas-docs/stable/user_guide/indexing.html#returning-a-view-versus-a-copy\n"
     ]
    }
   ],
   "source": [
    "classsize = long[long.variable == 'reg25_112']\n",
    "phrases = []\n",
    "for text in classsize.text:\n",
    "    phrase = breaktext.get_phrase(text, '25.112')\n",
    "    phrases.append(phrase)\n",
    "classsize['phrase'] = phrases\n",
    "classsize.to_csv(os.path.join(data_path, 'clean', 'phrases_classsize.csv'),\n",
    "                  sep=\",\")"
   ]
  },
  {
   "cell_type": "markdown",
   "metadata": {},
   "source": [
    "# Contracts"
   ]
  },
  {
   "cell_type": "code",
   "execution_count": 10,
   "metadata": {},
   "outputs": [
    {
     "name": "stderr",
     "output_type": "stream",
     "text": [
      "/Users/kylieleblancKylie/anaconda/envs/spacy/lib/python3.7/site-packages/ipykernel/__main__.py:6: SettingWithCopyWarning: \n",
      "A value is trying to be set on a copy of a slice from a DataFrame.\n",
      "Try using .loc[row_indexer,col_indexer] = value instead\n",
      "\n",
      "See the caveats in the documentation: http://pandas.pydata.org/pandas-docs/stable/user_guide/indexing.html#returning-a-view-versus-a-copy\n"
     ]
    }
   ],
   "source": [
    "probation = long[long.variable == 'reg21_102']\n",
    "phrases = []\n",
    "for text in probation.text:\n",
    "    phrase = breaktext.get_phrase(text, '21.102')\n",
    "    phrases.append(phrase)\n",
    "probation['phrase'] = phrases\n",
    "probation.to_csv(os.path.join(data_path, 'clean', 'phrases_probation.csv'),\n",
    "                  sep=\",\")"
   ]
  },
  {
   "cell_type": "code",
   "execution_count": 11,
   "metadata": {},
   "outputs": [
    {
     "name": "stderr",
     "output_type": "stream",
     "text": [
      "/Users/kylieleblancKylie/anaconda/envs/spacy/lib/python3.7/site-packages/ipykernel/__main__.py:6: SettingWithCopyWarning: \n",
      "A value is trying to be set on a copy of a slice from a DataFrame.\n",
      "Try using .loc[row_indexer,col_indexer] = value instead\n",
      "\n",
      "See the caveats in the documentation: http://pandas.pydata.org/pandas-docs/stable/user_guide/indexing.html#returning-a-view-versus-a-copy\n"
     ]
    }
   ],
   "source": [
    "service = long[long.variable == 'reg21_401']\n",
    "phrases = []\n",
    "for text in service.text:\n",
    "    phrase = breaktext.get_phrase(text, '21.401')\n",
    "    phrases.append(phrase)\n",
    "service['phrase'] = phrases\n",
    "service.to_csv(os.path.join(data_path, 'clean', 'phrases_service.csv'),\n",
    "                  sep=\",\")"
   ]
  },
  {
   "cell_type": "code",
   "execution_count": 12,
   "metadata": {},
   "outputs": [
    {
     "name": "stderr",
     "output_type": "stream",
     "text": [
      "/Users/kylieleblancKylie/anaconda/envs/spacy/lib/python3.7/site-packages/ipykernel/__main__.py:6: SettingWithCopyWarning: \n",
      "A value is trying to be set on a copy of a slice from a DataFrame.\n",
      "Try using .loc[row_indexer,col_indexer] = value instead\n",
      "\n",
      "See the caveats in the documentation: http://pandas.pydata.org/pandas-docs/stable/user_guide/indexing.html#returning-a-view-versus-a-copy\n"
     ]
    }
   ],
   "source": [
    "teacherevals = long[long.variable == 'reg21_352']\n",
    "phrases = []\n",
    "for text in teacherevals.text:\n",
    "    phrase = breaktext.get_phrase(text, '21.352')\n",
    "    phrases.append(phrase)\n",
    "teacherevals['phrase'] = phrases\n",
    "teacherevals.to_csv(os.path.join(data_path, 'clean', 'phrases_teacherevals.csv'),\n",
    "                  sep=\",\")"
   ]
  },
  {
   "cell_type": "markdown",
   "metadata": {},
   "source": [
    "# Behavior"
   ]
  },
  {
   "cell_type": "code",
   "execution_count": 13,
   "metadata": {},
   "outputs": [
    {
     "name": "stderr",
     "output_type": "stream",
     "text": [
      "/Users/kylieleblancKylie/anaconda/envs/spacy/lib/python3.7/site-packages/ipykernel/__main__.py:6: SettingWithCopyWarning: \n",
      "A value is trying to be set on a copy of a slice from a DataFrame.\n",
      "Try using .loc[row_indexer,col_indexer] = value instead\n",
      "\n",
      "See the caveats in the documentation: http://pandas.pydata.org/pandas-docs/stable/user_guide/indexing.html#returning-a-view-versus-a-copy\n"
     ]
    }
   ],
   "source": [
    "attendance = long[long.variable == 'reg25_092']\n",
    "phrases = []\n",
    "for text in attendance.text:\n",
    "    phrase = breaktext.get_phrase(text, '25.092')\n",
    "    phrases.append(phrase)\n",
    "attendance['phrase'] = phrases\n",
    "attendance.to_csv(os.path.join(data_path, 'clean', 'phrases_attendance.csv'),\n",
    "                  sep=\",\")"
   ]
  },
  {
   "cell_type": "code",
   "execution_count": 14,
   "metadata": {},
   "outputs": [
    {
     "name": "stderr",
     "output_type": "stream",
     "text": [
      "/Users/kylieleblancKylie/anaconda/envs/spacy/lib/python3.7/site-packages/ipykernel/__main__.py:6: SettingWithCopyWarning: \n",
      "A value is trying to be set on a copy of a slice from a DataFrame.\n",
      "Try using .loc[row_indexer,col_indexer] = value instead\n",
      "\n",
      "See the caveats in the documentation: http://pandas.pydata.org/pandas-docs/stable/user_guide/indexing.html#returning-a-view-versus-a-copy\n"
     ]
    }
   ],
   "source": [
    "coordinator = long[long.variable == 'reg37_0012']\n",
    "phrases = []\n",
    "for text in coordinator.text:\n",
    "    phrase = breaktext.get_phrase(text, '37.0012')\n",
    "    phrases.append(phrase)\n",
    "coordinator['phrase'] = phrases\n",
    "coordinator.to_csv(os.path.join(data_path, 'clean', 'phrases_coordinator.csv'),\n",
    "                  sep=\",\")"
   ]
  },
  {
   "cell_type": "code",
   "execution_count": 15,
   "metadata": {},
   "outputs": [
    {
     "name": "stderr",
     "output_type": "stream",
     "text": [
      "/Users/kylieleblancKylie/anaconda/envs/spacy/lib/python3.7/site-packages/ipykernel/__main__.py:6: SettingWithCopyWarning: \n",
      "A value is trying to be set on a copy of a slice from a DataFrame.\n",
      "Try using .loc[row_indexer,col_indexer] = value instead\n",
      "\n",
      "See the caveats in the documentation: http://pandas.pydata.org/pandas-docs/stable/user_guide/indexing.html#returning-a-view-versus-a-copy\n"
     ]
    }
   ],
   "source": [
    "transfers = long[long.variable == 'reg25_036']\n",
    "phrases = []\n",
    "for text in transfers.text:\n",
    "    phrase = breaktext.get_phrase(text, '25.036')\n",
    "    phrases.append(phrase)\n",
    "transfers['phrase'] = phrases\n",
    "transfers.to_csv(os.path.join(data_path, 'clean', 'phrases_transfers.csv'),\n",
    "                  sep=\",\")"
   ]
  },
  {
   "cell_type": "code",
   "execution_count": null,
   "metadata": {},
   "outputs": [],
   "source": []
  }
 ],
 "metadata": {
  "kernelspec": {
   "display_name": "Python [conda env:spacy]",
   "language": "python",
   "name": "conda-env-spacy-py"
  },
  "language_info": {
   "codemirror_mode": {
    "name": "ipython",
    "version": 3
   },
   "file_extension": ".py",
   "mimetype": "text/x-python",
   "name": "python",
   "nbconvert_exporter": "python",
   "pygments_lexer": "ipython3",
   "version": "3.7.2"
  }
 },
 "nbformat": 4,
 "nbformat_minor": 2
}
