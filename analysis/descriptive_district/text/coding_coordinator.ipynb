{
 "cells": [
  {
   "cell_type": "code",
   "execution_count": 1,
   "metadata": {},
   "outputs": [],
   "source": [
    "import pandas as pd\n",
    "import os\n",
    "import re\n",
    "import spacy\n",
    "import en_core_web_sm\n",
    "from spacy.matcher import Matcher\n",
    "from IPython.display import clear_output"
   ]
  },
  {
   "cell_type": "code",
   "execution_count": 2,
   "metadata": {},
   "outputs": [
    {
     "data": {
      "text/html": [
       "<div>\n",
       "<style scoped>\n",
       "    .dataframe tbody tr th:only-of-type {\n",
       "        vertical-align: middle;\n",
       "    }\n",
       "\n",
       "    .dataframe tbody tr th {\n",
       "        vertical-align: top;\n",
       "    }\n",
       "\n",
       "    .dataframe thead th {\n",
       "        text-align: right;\n",
       "    }\n",
       "</style>\n",
       "<table border=\"1\" class=\"dataframe\">\n",
       "  <thead>\n",
       "    <tr style=\"text-align: right;\">\n",
       "      <th></th>\n",
       "      <th>Unnamed: 0</th>\n",
       "      <th>district</th>\n",
       "      <th>link</th>\n",
       "      <th>text</th>\n",
       "      <th>variable</th>\n",
       "      <th>value</th>\n",
       "      <th>phrase</th>\n",
       "    </tr>\n",
       "  </thead>\n",
       "  <tbody>\n",
       "    <tr>\n",
       "      <th>0</th>\n",
       "      <td>11536</td>\n",
       "      <td>Abbott ISD</td>\n",
       "      <td>https://www.abbottisd.org/ourpages/auto/2018/3...</td>\n",
       "      <td>1 Abbott Independent School District District ...</td>\n",
       "      <td>reg37_0012</td>\n",
       "      <td>1</td>\n",
       "      <td>|37.0012 A person at each campus must be desig...</td>\n",
       "    </tr>\n",
       "    <tr>\n",
       "      <th>1</th>\n",
       "      <td>11537</td>\n",
       "      <td>Abernathy ISD</td>\n",
       "      <td>https://1.cdn.edl.io/epGD4mZXjWUcPl8yA7IhlcDol...</td>\n",
       "      <td>Abernathy ISD District of Innovation Plan – Dr...</td>\n",
       "      <td>reg37_0012</td>\n",
       "      <td>1</td>\n",
       "      <td>|37.0012 TEC§37.0012 requires a person be desi...</td>\n",
       "    </tr>\n",
       "    <tr>\n",
       "      <th>2</th>\n",
       "      <td>11539</td>\n",
       "      <td>Academy ISD</td>\n",
       "      <td>https://4.files.edl.io/1a8f/06/29/18/204245-44...</td>\n",
       "      <td>District of Innovation Plan Developed in coope...</td>\n",
       "      <td>reg37_0012</td>\n",
       "      <td>1</td>\n",
       "      <td>|37.0012) Current Requirement: Texas Education...</td>\n",
       "    </tr>\n",
       "    <tr>\n",
       "      <th>3</th>\n",
       "      <td>11542</td>\n",
       "      <td>Alamo Heights ISD</td>\n",
       "      <td>http://www.ahisd.net/UserFiles/Servers/Server_...</td>\n",
       "      <td>1 | P a g e Mission Statement The Alamo Height...</td>\n",
       "      <td>reg37_0012</td>\n",
       "      <td>1</td>\n",
       "      <td>|37.0012) Current Statute: Senate Bill 107 req...</td>\n",
       "    </tr>\n",
       "    <tr>\n",
       "      <th>4</th>\n",
       "      <td>11545</td>\n",
       "      <td>Aledo ISD</td>\n",
       "      <td>https://docs.google.com/viewerng/viewer?url=ht...</td>\n",
       "      <td>ALEDO Independent School District A Past to Re...</td>\n",
       "      <td>reg37_0012</td>\n",
       "      <td>1</td>\n",
       "      <td>|37.0012 Related Board Policies: FO (Legal), F...</td>\n",
       "    </tr>\n",
       "  </tbody>\n",
       "</table>\n",
       "</div>"
      ],
      "text/plain": [
       "   Unnamed: 0           district  \\\n",
       "0       11536         Abbott ISD   \n",
       "1       11537      Abernathy ISD   \n",
       "2       11539        Academy ISD   \n",
       "3       11542  Alamo Heights ISD   \n",
       "4       11545          Aledo ISD   \n",
       "\n",
       "                                                link  \\\n",
       "0  https://www.abbottisd.org/ourpages/auto/2018/3...   \n",
       "1  https://1.cdn.edl.io/epGD4mZXjWUcPl8yA7IhlcDol...   \n",
       "2  https://4.files.edl.io/1a8f/06/29/18/204245-44...   \n",
       "3  http://www.ahisd.net/UserFiles/Servers/Server_...   \n",
       "4  https://docs.google.com/viewerng/viewer?url=ht...   \n",
       "\n",
       "                                                text    variable  value  \\\n",
       "0  1 Abbott Independent School District District ...  reg37_0012      1   \n",
       "1  Abernathy ISD District of Innovation Plan – Dr...  reg37_0012      1   \n",
       "2  District of Innovation Plan Developed in coope...  reg37_0012      1   \n",
       "3  1 | P a g e Mission Statement The Alamo Height...  reg37_0012      1   \n",
       "4  ALEDO Independent School District A Past to Re...  reg37_0012      1   \n",
       "\n",
       "                                              phrase  \n",
       "0  |37.0012 A person at each campus must be desig...  \n",
       "1  |37.0012 TEC§37.0012 requires a person be desi...  \n",
       "2  |37.0012) Current Requirement: Texas Education...  \n",
       "3  |37.0012) Current Statute: Senate Bill 107 req...  \n",
       "4  |37.0012 Related Board Policies: FO (Legal), F...  "
      ]
     },
     "execution_count": 2,
     "metadata": {},
     "output_type": "execute_result"
    }
   ],
   "source": [
    "data_path = '/Users/kylieleblancKylie/domino/dofis/data/'\n",
    "docs = pd.read_csv(os.path.join(data_path, 'clean', 'phrases_coordinator.csv'),\n",
    "                  sep=\",\")\n",
    "docs.head()"
   ]
  },
  {
   "cell_type": "code",
   "execution_count": null,
   "metadata": {},
   "outputs": [],
   "source": [
    "docs_to_label = docs.sample(n = 50, random_state = 45)\n",
    "docs_to_label = docs_to_label[['phrase', 'link']]\n",
    "docs_to_label = docs_to_label.rename({'phrase': 'text', 'link': 'source'}, axis = 1)\n",
    "#docs_to_label.to_csv(os.path.join(data_path, 'plans', 'certification_to_label.csv'), header = True)"
   ]
  },
  {
   "cell_type": "code",
   "execution_count": null,
   "metadata": {},
   "outputs": [],
   "source": [
    "if True:\n",
    "    collaboration = []\n",
    "    admin = []\n",
    "    for text, source in zip(docs_to_label.text[0:12], docs_to_label.source[0:12]):\n",
    "        show = str(source) + str(text)\n",
    "        \n",
    "        annotation = input(show + \"Collaboration\")\n",
    "        teacher_matters_more.append(annotation)\n",
    "        \n",
    "        annotation = input(\"Administrative Burden\")\n",
    "        changes.append(annotation)\n",
    "                     \n",
    "        clear_output()"
   ]
  },
  {
   "cell_type": "code",
   "execution_count": 14,
   "metadata": {},
   "outputs": [
    {
     "data": {
      "text/plain": [
       "['0', '1', '0', '1', '0', '0', '0', '1', '0', '0', '0', '0']"
      ]
     },
     "execution_count": 14,
     "metadata": {},
     "output_type": "execute_result"
    }
   ],
   "source": [
    "teacher_matters_more"
   ]
  },
  {
   "cell_type": "code",
   "execution_count": 16,
   "metadata": {},
   "outputs": [
    {
     "data": {
      "text/plain": [
       "['1', '0', '1', '0', '0', '0', '1', '0', '0', '0', '1', '0']"
      ]
     },
     "execution_count": 16,
     "metadata": {},
     "output_type": "execute_result"
    }
   ],
   "source": [
    "changes"
   ]
  },
  {
   "cell_type": "code",
   "execution_count": 17,
   "metadata": {},
   "outputs": [],
   "source": [
    "if True:\n",
    "    hiring = []\n",
    "    for text, source in zip(docs_to_label.text[0:12], docs_to_label.source[0:12]):\n",
    "        show = str(source) + str(text)\n",
    "        \n",
    "        annotation = input(show + \"Hiring logistics\")\n",
    "        hiring.append(annotation)\n",
    "        \n",
    "        clear_output()"
   ]
  },
  {
   "cell_type": "code",
   "execution_count": 19,
   "metadata": {},
   "outputs": [
    {
     "data": {
      "text/plain": [
       "['0', '0', '0', '1', '0', '0', '1', '0', '.', '1', '0', '0']"
      ]
     },
     "execution_count": 19,
     "metadata": {},
     "output_type": "execute_result"
    }
   ],
   "source": [
    "hiring"
   ]
  },
  {
   "cell_type": "code",
   "execution_count": null,
   "metadata": {
    "collapsed": true
   },
   "outputs": [],
   "source": []
  }
 ],
 "metadata": {
  "kernelspec": {
   "display_name": "Python [conda env:spacy]",
   "language": "python",
   "name": "conda-env-spacy-py"
  },
  "language_info": {
   "codemirror_mode": {
    "name": "ipython",
    "version": 3
   },
   "file_extension": ".py",
   "mimetype": "text/x-python",
   "name": "python",
   "nbconvert_exporter": "python",
   "pygments_lexer": "ipython3",
   "version": "3.7.2"
  }
 },
 "nbformat": 4,
 "nbformat_minor": 2
}
