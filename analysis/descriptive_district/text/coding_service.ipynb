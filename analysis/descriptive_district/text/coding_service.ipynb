{
 "cells": [
  {
   "cell_type": "code",
   "execution_count": 1,
   "metadata": {},
   "outputs": [
    {
     "name": "stderr",
     "output_type": "stream",
     "text": [
      "/Users/kylieleblancKylie/anaconda/envs/spacy/lib/python3.7/importlib/_bootstrap.py:219: RuntimeWarning: numpy.dtype size changed, may indicate binary incompatibility. Expected 96, got 88\n",
      "  return f(*args, **kwds)\n",
      "/Users/kylieleblancKylie/anaconda/envs/spacy/lib/python3.7/importlib/_bootstrap.py:219: RuntimeWarning: numpy.ufunc size changed, may indicate binary incompatibility. Expected 192, got 176\n",
      "  return f(*args, **kwds)\n",
      "/Users/kylieleblancKylie/anaconda/envs/spacy/lib/python3.7/importlib/_bootstrap.py:219: RuntimeWarning: numpy.dtype size changed, may indicate binary incompatibility. Expected 96, got 88\n",
      "  return f(*args, **kwds)\n",
      "/Users/kylieleblancKylie/anaconda/envs/spacy/lib/python3.7/importlib/_bootstrap.py:219: RuntimeWarning: numpy.ufunc size changed, may indicate binary incompatibility. Expected 192, got 176\n",
      "  return f(*args, **kwds)\n"
     ]
    }
   ],
   "source": [
    "import pandas as pd\n",
    "import os\n",
    "import re\n",
    "import spacy\n",
    "import en_core_web_sm\n",
    "from spacy.matcher import Matcher\n",
    "from IPython.display import clear_output"
   ]
  },
  {
   "cell_type": "code",
   "execution_count": 2,
   "metadata": {},
   "outputs": [
    {
     "data": {
      "text/html": [
       "<div>\n",
       "<style scoped>\n",
       "    .dataframe tbody tr th:only-of-type {\n",
       "        vertical-align: middle;\n",
       "    }\n",
       "\n",
       "    .dataframe tbody tr th {\n",
       "        vertical-align: top;\n",
       "    }\n",
       "\n",
       "    .dataframe thead th {\n",
       "        text-align: right;\n",
       "    }\n",
       "</style>\n",
       "<table border=\"1\" class=\"dataframe\">\n",
       "  <thead>\n",
       "    <tr style=\"text-align: right;\">\n",
       "      <th></th>\n",
       "      <th>Unnamed: 0</th>\n",
       "      <th>district</th>\n",
       "      <th>link</th>\n",
       "      <th>text</th>\n",
       "      <th>variable</th>\n",
       "      <th>value</th>\n",
       "      <th>phrase</th>\n",
       "    </tr>\n",
       "  </thead>\n",
       "  <tbody>\n",
       "    <tr>\n",
       "      <th>0</th>\n",
       "      <td>4690</td>\n",
       "      <td>Adrian ISD</td>\n",
       "      <td>http://www.adrianisd.net/UserFiles/Servers/Ser...</td>\n",
       "      <td>Adrian ISD District of Innovation Plan House B...</td>\n",
       "      <td>reg21_401</td>\n",
       "      <td>1</td>\n",
       "      <td>|21.401 DC Legal DEA Local Current TEC §21.401...</td>\n",
       "    </tr>\n",
       "    <tr>\n",
       "      <th>1</th>\n",
       "      <td>4691</td>\n",
       "      <td>Agua Dulce ISD</td>\n",
       "      <td>https://tx02206063.schoolwires.net/cms/lib/TX0...</td>\n",
       "      <td>Microsoft Word - DOI 2017-2022.docx Agua Dulce...</td>\n",
       "      <td>reg21_401</td>\n",
       "      <td>1</td>\n",
       "      <td>|21.401. MINIMUM SERVICE REQUIRED. (a) A contr...</td>\n",
       "    </tr>\n",
       "    <tr>\n",
       "      <th>2</th>\n",
       "      <td>4695</td>\n",
       "      <td>Alice ISD</td>\n",
       "      <td>https://drive.google.com/file/d/1v1wysSRUqD5FX...</td>\n",
       "      <td>Microsoft Word - District of Innovation Docume...</td>\n",
       "      <td>reg21_401</td>\n",
       "      <td>1</td>\n",
       "      <td>|21.401. MINIMUM SERVICE REQUIRED. (a) A contr...</td>\n",
       "    </tr>\n",
       "    <tr>\n",
       "      <th>3</th>\n",
       "      <td>4698</td>\n",
       "      <td>Alpine ISD</td>\n",
       "      <td>https://s3.amazonaws.com/scschoolfiles/389/alp...</td>\n",
       "      <td>Alpine Independent School District Alpine ISD ...</td>\n",
       "      <td>reg21_401</td>\n",
       "      <td>1</td>\n",
       "      <td>|21.401) (DC LEGAL) Alpine ISD Board Goals – 1...</td>\n",
       "    </tr>\n",
       "    <tr>\n",
       "      <th>4</th>\n",
       "      <td>4699</td>\n",
       "      <td>Alto ISD</td>\n",
       "      <td>https://1.cdn.edl.io/zhIfqqIkGkDfT1eSTIx5SAJ9K...</td>\n",
       "      <td>Microsoft Word - Alto ISD DOI 17-18 final2 (1)...</td>\n",
       "      <td>reg21_401</td>\n",
       "      <td>1</td>\n",
       "      <td>|21.401) Currently Under current education law...</td>\n",
       "    </tr>\n",
       "  </tbody>\n",
       "</table>\n",
       "</div>"
      ],
      "text/plain": [
       "   Unnamed: 0        district  \\\n",
       "0        4690      Adrian ISD   \n",
       "1        4691  Agua Dulce ISD   \n",
       "2        4695       Alice ISD   \n",
       "3        4698      Alpine ISD   \n",
       "4        4699        Alto ISD   \n",
       "\n",
       "                                                link  \\\n",
       "0  http://www.adrianisd.net/UserFiles/Servers/Ser...   \n",
       "1  https://tx02206063.schoolwires.net/cms/lib/TX0...   \n",
       "2  https://drive.google.com/file/d/1v1wysSRUqD5FX...   \n",
       "3  https://s3.amazonaws.com/scschoolfiles/389/alp...   \n",
       "4  https://1.cdn.edl.io/zhIfqqIkGkDfT1eSTIx5SAJ9K...   \n",
       "\n",
       "                                                text   variable  value  \\\n",
       "0  Adrian ISD District of Innovation Plan House B...  reg21_401      1   \n",
       "1  Microsoft Word - DOI 2017-2022.docx Agua Dulce...  reg21_401      1   \n",
       "2  Microsoft Word - District of Innovation Docume...  reg21_401      1   \n",
       "3  Alpine Independent School District Alpine ISD ...  reg21_401      1   \n",
       "4  Microsoft Word - Alto ISD DOI 17-18 final2 (1)...  reg21_401      1   \n",
       "\n",
       "                                              phrase  \n",
       "0  |21.401 DC Legal DEA Local Current TEC §21.401...  \n",
       "1  |21.401. MINIMUM SERVICE REQUIRED. (a) A contr...  \n",
       "2  |21.401. MINIMUM SERVICE REQUIRED. (a) A contr...  \n",
       "3  |21.401) (DC LEGAL) Alpine ISD Board Goals – 1...  \n",
       "4  |21.401) Currently Under current education law...  "
      ]
     },
     "execution_count": 2,
     "metadata": {},
     "output_type": "execute_result"
    }
   ],
   "source": [
    "data_path = '/Users/kylieleblancKylie/domino/dofis/data/'\n",
    "docs = pd.read_csv(os.path.join(data_path, 'clean', 'phrases_service.csv'),\n",
    "                  sep=\",\")\n",
    "docs.head()"
   ]
  },
  {
   "cell_type": "code",
   "execution_count": 3,
   "metadata": {
    "collapsed": true
   },
   "outputs": [],
   "source": [
    "docs_to_label = docs.sample(n = 50, random_state = 45)\n",
    "docs_to_label = docs_to_label[['phrase', 'link']]\n",
    "docs_to_label = docs_to_label.rename({'phrase': 'text', 'link': 'source'}, axis = 1)\n",
    "#docs_to_label.to_csv(os.path.join(data_path, 'plans', 'c"
   ]
  },
  {
   "cell_type": "code",
   "execution_count": 4,
   "metadata": {},
   "outputs": [],
   "source": [
    "if True:\n",
    "    entice = []\n",
    "    for text, source in zip(docs_to_label.text[0:12], docs_to_label.source[0:12]):\n",
    "        show = str(source) + str(text)\n",
    "        \n",
    "        annotation = input(show + \"entice\")\n",
    "        entice.append(annotation)\n",
    "                     \n",
    "        clear_output()"
   ]
  },
  {
   "cell_type": "code",
   "execution_count": 5,
   "metadata": {},
   "outputs": [
    {
     "data": {
      "text/plain": [
       "['1', '0', '1', '.', '1', '1', '0', '1', '0', '1', '1', '1']"
      ]
     },
     "execution_count": 5,
     "metadata": {},
     "output_type": "execute_result"
    }
   ],
   "source": [
    "entice"
   ]
  },
  {
   "cell_type": "code",
   "execution_count": 7,
   "metadata": {},
   "outputs": [
    {
     "name": "stderr",
     "output_type": "stream",
     "text": [
      "/Users/kylieleblancKylie/anaconda/envs/spacy/lib/python3.7/site-packages/IPython/core/interactiveshell.py:2785: DtypeWarning: Columns (7,8,412) have mixed types. Specify dtype option on import or set low_memory=False.\n",
      "  interactivity=interactivity, compiler=compiler, result=result)\n"
     ]
    }
   ],
   "source": [
    "data_path = '/Users/kylieleblancKylie/domino/dofis/data/'\n",
    "data = pd.read_csv(os.path.join(data_path, 'clean', 'master_data.csv'),\n",
    "                  sep=\",\")\n",
    "data = data[data.year == 'yr1718']"
   ]
  },
  {
   "cell_type": "code",
   "execution_count": 9,
   "metadata": {},
   "outputs": [
    {
     "data": {
      "text/plain": [
       "0.41273885350318473"
      ]
     },
     "execution_count": 9,
     "metadata": {},
     "output_type": "execute_result"
    }
   ],
   "source": [
    "data.reg25_081.mean()"
   ]
  },
  {
   "cell_type": "code",
   "execution_count": 10,
   "metadata": {},
   "outputs": [
    {
     "data": {
      "text/plain": [
       "0.34394904458598724"
      ]
     },
     "execution_count": 10,
     "metadata": {},
     "output_type": "execute_result"
    }
   ],
   "source": [
    "data.reg21_401.mean()"
   ]
  },
  {
   "cell_type": "code",
   "execution_count": 11,
   "metadata": {},
   "outputs": [
    {
     "data": {
      "text/plain": [
       "0.4382716049382716"
      ]
     },
     "execution_count": 11,
     "metadata": {},
     "output_type": "execute_result"
    }
   ],
   "source": [
    "data[data.reg25_081 == True].reg21_401.mean()"
   ]
  },
  {
   "cell_type": "code",
   "execution_count": null,
   "metadata": {
    "collapsed": true
   },
   "outputs": [],
   "source": []
  }
 ],
 "metadata": {
  "kernelspec": {
   "display_name": "Python [conda env:spacy]",
   "language": "python",
   "name": "conda-env-spacy-py"
  },
  "language_info": {
   "codemirror_mode": {
    "name": "ipython",
    "version": 3
   },
   "file_extension": ".py",
   "mimetype": "text/x-python",
   "name": "python",
   "nbconvert_exporter": "python",
   "pygments_lexer": "ipython3",
   "version": "3.7.0"
  }
 },
 "nbformat": 4,
 "nbformat_minor": 2
}
