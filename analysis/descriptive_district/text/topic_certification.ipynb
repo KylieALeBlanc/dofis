{
 "cells": [
  {
   "cell_type": "code",
   "execution_count": 1,
   "metadata": {},
   "outputs": [
    {
     "name": "stderr",
     "output_type": "stream",
     "text": [
      "/Users/kylieleblancKylie/anaconda/envs/spacy/lib/python3.7/site-packages/sklearn/utils/__init__.py:4: DeprecationWarning: Using or importing the ABCs from 'collections' instead of from 'collections.abc' is deprecated, and in 3.8 it will stop working\n",
      "  from collections import Sequence\n"
     ]
    }
   ],
   "source": [
    "import pandas as pd\n",
    "import os\n",
    "import re\n",
    "\n",
    "import topic_modeling\n",
    "\n",
    "from nltk.corpus import stopwords \n",
    "from nltk.stem.wordnet import WordNetLemmatizer\n",
    "import string\n",
    "import gensim\n",
    "from gensim import corpora"
   ]
  },
  {
   "cell_type": "code",
   "execution_count": 2,
   "metadata": {},
   "outputs": [
    {
     "data": {
      "text/plain": [
       "'|21.003; TEC§ 21.057 The principal may submit to the superintendent and/or the superintendent’s designee a request for District Teaching Permit (local certification) outlining the individual’s credentials/qualifications. Qualification for local certification could include, but is not limited to: ● professional work experience ● formal training/education in the content area ● active/relevant professional industry certification/registration ● a combination of work experience, training, and education ● demonstration of successful experience working with students. The superintendent or his/her designee will then approve the request if they believe the individual possesses the knowledge, skills and experience required of the position and feel the individual could be an asset to students. Employment is dependent upon Board approval. An employee working under a District Teaching Permit (local certification) will be appraised under the same teacher appraisal system as required of all certified teachers and will adhere to the same professional standards, ethics, and requirements of all certified teachers. Uniform School Start and End Date Exemption from: TEC §'"
      ]
     },
     "execution_count": 2,
     "metadata": {},
     "output_type": "execute_result"
    }
   ],
   "source": [
    "data_path = '/Users/kylieleblancKylie/domino/dofis/data/'\n",
    "\n",
    "data = pd.read_csv(os.path.join(data_path, 'clean', 'text', 'phrases_certification.csv'),\n",
    "                  sep=\",\")\n",
    "doc_complete = list(data['phrase'])\n",
    "doc_complete = [str(i) for i in doc_complete]\n",
    "doc_complete[0]"
   ]
  },
  {
   "cell_type": "code",
   "execution_count": 3,
   "metadata": {},
   "outputs": [],
   "source": [
    "certification_stop_words = ['certification', 'teacher']\n",
    "stop = topic_modeling.stop + certification_stop_words\n",
    "stop = set(stop)"
   ]
  },
  {
   "cell_type": "code",
   "execution_count": 4,
   "metadata": {},
   "outputs": [],
   "source": [
    "doc_clean = [topic_modeling.clean(doc).split() for doc in doc_complete] \n",
    "dictionary, matrix = topic_modeling.get_dict_and_matrix(doc_clean)"
   ]
  },
  {
   "cell_type": "code",
   "execution_count": 5,
   "metadata": {},
   "outputs": [
    {
     "name": "stdout",
     "output_type": "stream",
     "text": [
      "(0, '0.027*\"•\" + 0.023*\"\\uf0b7\" + 0.016*\"teacher\" + 0.014*\"course\" + 0.013*\"student\" + 0.013*\"\\uf0fc\" + 0.011*\"plan\" + 0.010*\"cte\" + 0.010*\"learning\" + 0.009*\"grade\"')\n",
      "(1, '0.038*\"teacher\" + 0.027*\"course\" + 0.026*\"certification\" + 0.020*\"requirement\" + 0.014*\"teach\" + 0.013*\"student\" + 0.013*\"professional\" + 0.013*\"hire\" + 0.012*\"certified\" + 0.009*\"person\"')\n",
      "(2, '0.036*\"teacher\" + 0.031*\"certification\" + 0.022*\"certified\" + 0.020*\"teach\" + 0.017*\"request\" + 0.017*\"individual\" + 0.016*\"experience\" + 0.014*\"allow\" + 0.013*\"superintendent\" + 0.013*\"teaching\"')\n",
      "(3, '0.030*\"teacher\" + 0.026*\"request\" + 0.023*\"superintendent\" + 0.020*\"individual\" + 0.018*\"certified\" + 0.017*\"student\" + 0.017*\"principal\" + 0.016*\"certification\" + 0.016*\"teach\" + 0.016*\"teaching\"')\n",
      "(4, '0.049*\"teacher\" + 0.023*\"certification\" + 0.017*\"individual\" + 0.016*\"teaching\" + 0.016*\"certified\" + 0.016*\"may\" + 0.014*\"course\" + 0.014*\"year\" + 0.013*\"teach\" + 0.013*\"certificate\"')\n"
     ]
    }
   ],
   "source": [
    "ldamodel = topic_modeling.run_lda(matrix = matrix, dictionary = dictionary, \n",
    "                                 num_topics = 5, passes = 50)\n",
    "for topic in ldamodel.print_topics(num_topics=10, num_words=10):\n",
    "    print(topic)"
   ]
  },
  {
   "cell_type": "code",
   "execution_count": null,
   "metadata": {
    "collapsed": true
   },
   "outputs": [],
   "source": []
  }
 ],
 "metadata": {
  "kernelspec": {
   "display_name": "Python [conda env:spacy]",
   "language": "python",
   "name": "conda-env-spacy-py"
  },
  "language_info": {
   "codemirror_mode": {
    "name": "ipython",
    "version": 3
   },
   "file_extension": ".py",
   "mimetype": "text/x-python",
   "name": "python",
   "nbconvert_exporter": "python",
   "pygments_lexer": "ipython3",
   "version": "3.7.2"
  }
 },
 "nbformat": 4,
 "nbformat_minor": 2
}
