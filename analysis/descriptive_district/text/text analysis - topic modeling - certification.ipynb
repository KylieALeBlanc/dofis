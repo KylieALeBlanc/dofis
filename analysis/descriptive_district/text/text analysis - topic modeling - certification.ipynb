{
 "cells": [
  {
   "cell_type": "code",
   "execution_count": 25,
   "metadata": {
    "collapsed": true
   },
   "outputs": [],
   "source": [
    "import pandas as pd\n",
    "import os\n",
    "import re\n",
    "import spacy\n",
    "import en_core_web_sm\n",
    "from spacy.matcher import Matcher"
   ]
  },
  {
   "cell_type": "code",
   "execution_count": 26,
   "metadata": {
    "collapsed": true
   },
   "outputs": [],
   "source": [
    "from nltk.corpus import stopwords \n",
    "from nltk.stem.wordnet import WordNetLemmatizer\n",
    "import string\n",
    "import gensim\n",
    "from gensim import corpora"
   ]
  },
  {
   "cell_type": "code",
   "execution_count": 27,
   "metadata": {
    "collapsed": true
   },
   "outputs": [],
   "source": [
    "data_path = '/Users/kylieleblancKylie/domino/dofis/data/'\n",
    "data = pd.read_csv(os.path.join(data_path, 'plans', 'doi_final_wtext.csv'),\n",
    "                  sep=\",\")\n",
    "data = data[['district', 'link', 'text', 'reg25_0811', 'reg25_081', 'reg25_0812', 'reg25_082',\n",
    "            'reg25_112', 'reg25_113', 'reg25_111', \n",
    "            'reg21_003', 'reg21_053', 'reg21_057',\n",
    "            'reg21_102', 'reg21_401', 'reg21_352', 'reg21_354',\n",
    "            'reg25_092', 'reg37_0012', 'reg25_036']]"
   ]
  },
  {
   "cell_type": "code",
   "execution_count": 28,
   "metadata": {
    "collapsed": true
   },
   "outputs": [],
   "source": [
    "similar_laws = {'25.0811': ['25.0811', '25_081', '25.0812', '25.082'],\n",
    "               '25.112': ['25.112', '25.113', '25.111'], \n",
    "               '21.003': ['21.003', '21.053', '21.057'],\n",
    "               '21.102': ['21.102','21.401', '21.352'],\n",
    "                '25.092': ['25.092']}\n",
    "law_name = {'reg25_0812': '25.0812', \n",
    "           'reg21_003': '21.003'}"
   ]
  },
  {
   "cell_type": "code",
   "execution_count": 29,
   "metadata": {
    "collapsed": true
   },
   "outputs": [],
   "source": [
    "stubnames = sorted(\n",
    "    set([match[0] for match in data.columns.str.findall(\n",
    "    r'reg.*').values if match != [] ])\n",
    "    )"
   ]
  },
  {
   "cell_type": "code",
   "execution_count": 30,
   "metadata": {},
   "outputs": [
    {
     "name": "stdout",
     "output_type": "stream",
     "text": [
      "length=  4485\n"
     ]
    },
    {
     "data": {
      "text/html": [
       "<div>\n",
       "<style scoped>\n",
       "    .dataframe tbody tr th:only-of-type {\n",
       "        vertical-align: middle;\n",
       "    }\n",
       "\n",
       "    .dataframe tbody tr th {\n",
       "        vertical-align: top;\n",
       "    }\n",
       "\n",
       "    .dataframe thead th {\n",
       "        text-align: right;\n",
       "    }\n",
       "</style>\n",
       "<table border=\"1\" class=\"dataframe\">\n",
       "  <thead>\n",
       "    <tr style=\"text-align: right;\">\n",
       "      <th></th>\n",
       "      <th>district</th>\n",
       "      <th>link</th>\n",
       "      <th>text</th>\n",
       "      <th>variable</th>\n",
       "      <th>value</th>\n",
       "    </tr>\n",
       "  </thead>\n",
       "  <tbody>\n",
       "    <tr>\n",
       "      <th>1</th>\n",
       "      <td>Abernathy ISD</td>\n",
       "      <td>https://1.cdn.edl.io/epGD4mZXjWUcPl8yA7IhlcDol...</td>\n",
       "      <td>Abernathy ISD District of Innovation Plan – Dr...</td>\n",
       "      <td>reg21_003</td>\n",
       "      <td>1</td>\n",
       "    </tr>\n",
       "    <tr>\n",
       "      <th>2</th>\n",
       "      <td>Abilene ISD</td>\n",
       "      <td>https://www.abileneisd.org/wp-content/uploads/...</td>\n",
       "      <td>0 ABILENE INDEPENDENT SCHOOL DISTRICT Local In...</td>\n",
       "      <td>reg21_003</td>\n",
       "      <td>1</td>\n",
       "    </tr>\n",
       "    <tr>\n",
       "      <th>3</th>\n",
       "      <td>Academy ISD</td>\n",
       "      <td>https://4.files.edl.io/1a8f/06/29/18/204245-44...</td>\n",
       "      <td>District of Innovation Plan Developed in coope...</td>\n",
       "      <td>reg21_003</td>\n",
       "      <td>1</td>\n",
       "    </tr>\n",
       "    <tr>\n",
       "      <th>4</th>\n",
       "      <td>Adrian ISD</td>\n",
       "      <td>http://www.adrianisd.net/UserFiles/Servers/Ser...</td>\n",
       "      <td>Adrian ISD District of Innovation Plan House B...</td>\n",
       "      <td>reg21_003</td>\n",
       "      <td>1</td>\n",
       "    </tr>\n",
       "    <tr>\n",
       "      <th>5</th>\n",
       "      <td>Agua Dulce ISD</td>\n",
       "      <td>https://tx02206063.schoolwires.net/cms/lib/TX0...</td>\n",
       "      <td>Microsoft Word - DOI 2017-2022.docx Agua Dulce...</td>\n",
       "      <td>reg21_003</td>\n",
       "      <td>1</td>\n",
       "    </tr>\n",
       "  </tbody>\n",
       "</table>\n",
       "</div>"
      ],
      "text/plain": [
       "         district                                               link  \\\n",
       "1   Abernathy ISD  https://1.cdn.edl.io/epGD4mZXjWUcPl8yA7IhlcDol...   \n",
       "2     Abilene ISD  https://www.abileneisd.org/wp-content/uploads/...   \n",
       "3     Academy ISD  https://4.files.edl.io/1a8f/06/29/18/204245-44...   \n",
       "4      Adrian ISD  http://www.adrianisd.net/UserFiles/Servers/Ser...   \n",
       "5  Agua Dulce ISD  https://tx02206063.schoolwires.net/cms/lib/TX0...   \n",
       "\n",
       "                                                text   variable  value  \n",
       "1  Abernathy ISD District of Innovation Plan – Dr...  reg21_003      1  \n",
       "2  0 ABILENE INDEPENDENT SCHOOL DISTRICT Local In...  reg21_003      1  \n",
       "3  District of Innovation Plan Developed in coope...  reg21_003      1  \n",
       "4  Adrian ISD District of Innovation Plan House B...  reg21_003      1  \n",
       "5  Microsoft Word - DOI 2017-2022.docx Agua Dulce...  reg21_003      1  "
      ]
     },
     "execution_count": 30,
     "metadata": {},
     "output_type": "execute_result"
    }
   ],
   "source": [
    "long = pd.melt(data, id_vars=['district', 'link', 'text'], value_vars=stubnames)\n",
    "long = long[long.value == 1]\n",
    "print('length= ', len(long))\n",
    "long.head()"
   ]
  },
  {
   "cell_type": "code",
   "execution_count": 31,
   "metadata": {
    "collapsed": true
   },
   "outputs": [],
   "source": [
    "nlp = spacy.load('en_core_web_sm')\n",
    "law_shapes = [i*'d' + '.' + j*'d' + k*'x' for i in range(1, 4) for j in range(3,5) for k in range(3)]\n",
    "law_shape_patterns = [[{'SHAPE':shape}, {'ORTH':'%', 'OP':'!'}] for shape in law_shapes] # could add {'SHAPE':'§', 'OP':'*'},\n",
    "\n",
    "matcher = Matcher(nlp.vocab)\n",
    "matcher.add(\"ExplicitLaw\", None, *law_shape_patterns)"
   ]
  },
  {
   "cell_type": "code",
   "execution_count": 32,
   "metadata": {},
   "outputs": [
    {
     "data": {
      "text/plain": [
       "'|21.003|21.003 21.053,'"
      ]
     },
     "execution_count": 32,
     "metadata": {},
     "output_type": "execute_result"
    }
   ],
   "source": [
    "def get_phrase(text, regulation):\n",
    "    phrase = ''\n",
    "    # Get location of regulation matches\n",
    "    doc = nlp(text)\n",
    "    matches = matcher(doc)\n",
    "    locs = []\n",
    "    for match in matches:\n",
    "        locs.append(match[1])\n",
    "    locs.append(len(doc) - 1)\n",
    "    # Get phrases between one match and the next\n",
    "    i = 0\n",
    "    for loc in locs[0:-1]: \n",
    "        token = doc[loc].text\n",
    "        if token.startswith(regulation):\n",
    "            start = locs[i]\n",
    "            j = i + 1\n",
    "            end = locs[j]\n",
    "            while doc[end].text in similar_laws[regulation]:\n",
    "                j = j + 1\n",
    "                end = locs[j]\n",
    "            phrase = phrase + \"|\" + str(doc[start:end])\n",
    "        i = i + 1\n",
    "    return phrase\n",
    "get_phrase(\"21.003 45.211 21.003 21.053, 21.044 This is about teacher certification okay\", regulation = '21.003')"
   ]
  },
  {
   "cell_type": "markdown",
   "metadata": {},
   "source": [
    "# Certification"
   ]
  },
  {
   "cell_type": "code",
   "execution_count": 33,
   "metadata": {},
   "outputs": [
    {
     "data": {
      "text/html": [
       "<div>\n",
       "<style scoped>\n",
       "    .dataframe tbody tr th:only-of-type {\n",
       "        vertical-align: middle;\n",
       "    }\n",
       "\n",
       "    .dataframe tbody tr th {\n",
       "        vertical-align: top;\n",
       "    }\n",
       "\n",
       "    .dataframe thead th {\n",
       "        text-align: right;\n",
       "    }\n",
       "</style>\n",
       "<table border=\"1\" class=\"dataframe\">\n",
       "  <thead>\n",
       "    <tr style=\"text-align: right;\">\n",
       "      <th></th>\n",
       "      <th>district</th>\n",
       "      <th>link</th>\n",
       "      <th>text</th>\n",
       "      <th>variable</th>\n",
       "      <th>value</th>\n",
       "    </tr>\n",
       "  </thead>\n",
       "  <tbody>\n",
       "    <tr>\n",
       "      <th>1</th>\n",
       "      <td>Abernathy ISD</td>\n",
       "      <td>https://1.cdn.edl.io/epGD4mZXjWUcPl8yA7IhlcDol...</td>\n",
       "      <td>Abernathy ISD District of Innovation Plan – Dr...</td>\n",
       "      <td>reg21_003</td>\n",
       "      <td>1</td>\n",
       "    </tr>\n",
       "    <tr>\n",
       "      <th>2</th>\n",
       "      <td>Abilene ISD</td>\n",
       "      <td>https://www.abileneisd.org/wp-content/uploads/...</td>\n",
       "      <td>0 ABILENE INDEPENDENT SCHOOL DISTRICT Local In...</td>\n",
       "      <td>reg21_003</td>\n",
       "      <td>1</td>\n",
       "    </tr>\n",
       "    <tr>\n",
       "      <th>3</th>\n",
       "      <td>Academy ISD</td>\n",
       "      <td>https://4.files.edl.io/1a8f/06/29/18/204245-44...</td>\n",
       "      <td>District of Innovation Plan Developed in coope...</td>\n",
       "      <td>reg21_003</td>\n",
       "      <td>1</td>\n",
       "    </tr>\n",
       "    <tr>\n",
       "      <th>4</th>\n",
       "      <td>Adrian ISD</td>\n",
       "      <td>http://www.adrianisd.net/UserFiles/Servers/Ser...</td>\n",
       "      <td>Adrian ISD District of Innovation Plan House B...</td>\n",
       "      <td>reg21_003</td>\n",
       "      <td>1</td>\n",
       "    </tr>\n",
       "    <tr>\n",
       "      <th>5</th>\n",
       "      <td>Agua Dulce ISD</td>\n",
       "      <td>https://tx02206063.schoolwires.net/cms/lib/TX0...</td>\n",
       "      <td>Microsoft Word - DOI 2017-2022.docx Agua Dulce...</td>\n",
       "      <td>reg21_003</td>\n",
       "      <td>1</td>\n",
       "    </tr>\n",
       "  </tbody>\n",
       "</table>\n",
       "</div>"
      ],
      "text/plain": [
       "         district                                               link  \\\n",
       "1   Abernathy ISD  https://1.cdn.edl.io/epGD4mZXjWUcPl8yA7IhlcDol...   \n",
       "2     Abilene ISD  https://www.abileneisd.org/wp-content/uploads/...   \n",
       "3     Academy ISD  https://4.files.edl.io/1a8f/06/29/18/204245-44...   \n",
       "4      Adrian ISD  http://www.adrianisd.net/UserFiles/Servers/Ser...   \n",
       "5  Agua Dulce ISD  https://tx02206063.schoolwires.net/cms/lib/TX0...   \n",
       "\n",
       "                                                text   variable  value  \n",
       "1  Abernathy ISD District of Innovation Plan – Dr...  reg21_003      1  \n",
       "2  0 ABILENE INDEPENDENT SCHOOL DISTRICT Local In...  reg21_003      1  \n",
       "3  District of Innovation Plan Developed in coope...  reg21_003      1  \n",
       "4  Adrian ISD District of Innovation Plan House B...  reg21_003      1  \n",
       "5  Microsoft Word - DOI 2017-2022.docx Agua Dulce...  reg21_003      1  "
      ]
     },
     "execution_count": 33,
     "metadata": {},
     "output_type": "execute_result"
    }
   ],
   "source": [
    "certification = long[long.variable == 'reg21_003']\n",
    "certification.head()"
   ]
  },
  {
   "cell_type": "code",
   "execution_count": 46,
   "metadata": {
    "collapsed": true
   },
   "outputs": [],
   "source": [
    "phrases = []\n",
    "for text in certification.text:\n",
    "    phrase = str(get_phrase(text, '21.003'))\n",
    "    phrases.append(phrase)"
   ]
  },
  {
   "cell_type": "code",
   "execution_count": 47,
   "metadata": {},
   "outputs": [
    {
     "name": "stderr",
     "output_type": "stream",
     "text": [
      "/Users/kylieleblancKylie/anaconda/envs/spacy/lib/python3.7/site-packages/ipykernel/__main__.py:1: SettingWithCopyWarning: \n",
      "A value is trying to be set on a copy of a slice from a DataFrame.\n",
      "Try using .loc[row_indexer,col_indexer] = value instead\n",
      "\n",
      "See the caveats in the documentation: http://pandas.pydata.org/pandas-docs/stable/indexing.html#indexing-view-versus-copy\n",
      "  if __name__ == '__main__':\n"
     ]
    }
   ],
   "source": [
    "certification['phrase'] = phrases"
   ]
  },
  {
   "cell_type": "code",
   "execution_count": 48,
   "metadata": {
    "collapsed": true
   },
   "outputs": [],
   "source": [
    "certification.to_csv(os.path.join(data_path, 'clean', 'certification_phrases.csv'),\n",
    "                  sep=\",\")"
   ]
  },
  {
   "cell_type": "code",
   "execution_count": 65,
   "metadata": {
    "collapsed": true
   },
   "outputs": [],
   "source": [
    "data = pd.read_csv(os.path.join(data_path, 'clean', 'certification_phrases.csv'),\n",
    "                  sep=\",\")\n",
    "doc_complete = list(data['phrase'])\n",
    "doc_complete = [str(i) for i in doc_complete]"
   ]
  },
  {
   "cell_type": "code",
   "execution_count": 71,
   "metadata": {
    "collapsed": true
   },
   "outputs": [],
   "source": [
    "stop = stopwords.words('english')\n",
    "exclude = set(string.punctuation) \n",
    "lemma = WordNetLemmatizer()\n",
    "broad_stop_words = ['district', 'isd', 'innovation', 'tec']\n",
    "certification_stop_words = ['certification','teach', 'teacher', 'staff', 'certificate', 'certified']\n",
    "stop += broad_stop_words\n",
    "stop += certification_stop_words\n",
    "stop = set(stop)"
   ]
  },
  {
   "cell_type": "code",
   "execution_count": null,
   "metadata": {
    "collapsed": true
   },
   "outputs": [],
   "source": []
  },
  {
   "cell_type": "code",
   "execution_count": 72,
   "metadata": {},
   "outputs": [
    {
     "data": {
      "text/plain": [
       "['21003',\n",
       " 'tec§',\n",
       " '21057',\n",
       " 'principal',\n",
       " 'may',\n",
       " 'submit',\n",
       " 'superintendent',\n",
       " 'andor',\n",
       " 'superintendent’s',\n",
       " 'designee',\n",
       " 'request',\n",
       " 'teaching',\n",
       " 'permit',\n",
       " 'local',\n",
       " 'certification',\n",
       " 'outlining',\n",
       " 'individual’s',\n",
       " 'credentialsqualifications',\n",
       " 'qualification',\n",
       " 'local',\n",
       " 'could',\n",
       " 'include',\n",
       " 'limited',\n",
       " 'to',\n",
       " '●',\n",
       " 'professional',\n",
       " 'work',\n",
       " 'experience',\n",
       " '●',\n",
       " 'formal',\n",
       " 'trainingeducation',\n",
       " 'content',\n",
       " 'area',\n",
       " '●',\n",
       " 'activerelevant',\n",
       " 'professional',\n",
       " 'industry',\n",
       " 'certificationregistration',\n",
       " '●',\n",
       " 'combination',\n",
       " 'work',\n",
       " 'experience',\n",
       " 'training',\n",
       " 'education',\n",
       " '●',\n",
       " 'demonstration',\n",
       " 'successful',\n",
       " 'experience',\n",
       " 'working',\n",
       " 'student',\n",
       " 'superintendent',\n",
       " 'hisher',\n",
       " 'designee',\n",
       " 'approve',\n",
       " 'request',\n",
       " 'believe',\n",
       " 'individual',\n",
       " 'posse',\n",
       " 'knowledge',\n",
       " 'skill',\n",
       " 'experience',\n",
       " 'required',\n",
       " 'position',\n",
       " 'feel',\n",
       " 'individual',\n",
       " 'could',\n",
       " 'asset',\n",
       " 'student',\n",
       " 'employment',\n",
       " 'dependent',\n",
       " 'upon',\n",
       " 'board',\n",
       " 'approval',\n",
       " 'employee',\n",
       " 'working',\n",
       " 'teaching',\n",
       " 'permit',\n",
       " 'local',\n",
       " 'certification',\n",
       " 'appraised',\n",
       " 'appraisal',\n",
       " 'system',\n",
       " 'required',\n",
       " 'teacher',\n",
       " 'adhere',\n",
       " 'professional',\n",
       " 'standard',\n",
       " 'ethic',\n",
       " 'requirement',\n",
       " 'teacher',\n",
       " 'uniform',\n",
       " 'school',\n",
       " 'start',\n",
       " 'end',\n",
       " 'date',\n",
       " 'exemption',\n",
       " 'from',\n",
       " '§']"
      ]
     },
     "execution_count": 72,
     "metadata": {},
     "output_type": "execute_result"
    }
   ],
   "source": [
    "def clean(doc):\n",
    "    stop_free = \" \".join([i for i in doc.lower().split() if i not in stop])\n",
    "    punc_free = ''.join(ch for ch in stop_free if ch not in exclude)\n",
    "    normalized = \" \".join(lemma.lemmatize(word) for word in punc_free.split())\n",
    "    return normalized\n",
    "\n",
    "doc_clean = [clean(doc).split() for doc in doc_complete] "
   ]
  },
  {
   "cell_type": "code",
   "execution_count": 73,
   "metadata": {
    "collapsed": true
   },
   "outputs": [],
   "source": [
    "# Creating the term dictionary of our courpus, where every unique term is assigned an index. \n",
    "dictionary = corpora.Dictionary(doc_clean)\n",
    "\n",
    "# Converting list of documents (corpus) into Document Term Matrix using dictionary prepared above.\n",
    "doc_term_matrix = [dictionary.doc2bow(doc) for doc in doc_clean]"
   ]
  },
  {
   "cell_type": "code",
   "execution_count": 74,
   "metadata": {
    "collapsed": true
   },
   "outputs": [],
   "source": [
    "# Creating the object for LDA model using gensim library\n",
    "Lda = gensim.models.ldamodel.LdaModel\n",
    "\n",
    "# Running and Trainign LDA model on the document term matrix.\n",
    "ldamodel = Lda(doc_term_matrix, num_topics=10, id2word = dictionary, passes=50)"
   ]
  },
  {
   "cell_type": "code",
   "execution_count": 75,
   "metadata": {},
   "outputs": [
    {
     "name": "stdout",
     "output_type": "stream",
     "text": [
      "[(0, '0.042*\"course\" + 0.022*\"requirement\" + 0.021*\"professional\" + 0.020*\"cte\" + 0.018*\"science\" + 0.018*\"industry\" + 0.015*\"subject\" + 0.014*\"student\"'), (1, '0.034*\"course\" + 0.031*\"requirement\" + 0.020*\"student\" + 0.018*\"teacher\" + 0.018*\"hire\" + 0.016*\"professional\" + 0.012*\"educational\" + 0.012*\"exemption\"'), (2, '0.019*\"would\" + 0.018*\"education\" + 0.017*\"industry\" + 0.015*\"experience\" + 0.015*\"school\" + 0.014*\"individual\" + 0.012*\"local\" + 0.012*\"course\"'), (3, '0.013*\"local\" + 0.013*\"education\" + 0.013*\"student\" + 0.012*\"teacher\" + 0.009*\"board\" + 0.009*\"course\" + 0.009*\"exemption\" + 0.008*\"texas\"'), (4, '0.043*\"nan\" + 0.016*\"training\" + 0.009*\"employee\" + 0.008*\"legal\" + 0.008*\"area\" + 0.007*\"policy\" + 0.006*\"agreement\" + 0.006*\"local\"'), (5, '0.035*\"school\" + 0.028*\"21003\" + 0.021*\"person\" + 0.017*\"required\" + 0.015*\"b\" + 0.014*\"subchapter\" + 0.012*\"grade\" + 0.011*\"a\"'), (6, '0.132*\"•\" + 0.014*\"teacher\" + 0.012*\"student\" + 0.011*\"need\" + 0.010*\"–\" + 0.009*\"school\" + 0.008*\"campus\" + 0.007*\"local\"'), (7, '0.014*\"teaching\" + 0.013*\"exemption\" + 0.013*\"local\" + 0.013*\"position\" + 0.011*\"candidate\" + 0.010*\"texas\" + 0.010*\"education\" + 0.010*\"school\"'), (8, '0.031*\"request\" + 0.025*\"individual\" + 0.025*\"local\" + 0.023*\"superintendent\" + 0.020*\"principal\" + 0.017*\"subject\" + 0.017*\"allow\" + 0.017*\"teaching\"'), (9, '0.017*\"state\" + 0.017*\"may\" + 0.017*\"teaching\" + 0.015*\"teacher\" + 0.013*\"certification\" + 0.013*\"education\" + 0.013*\"individual\" + 0.013*\"person\"')]\n"
     ]
    }
   ],
   "source": [
    "print(ldamodel.print_topics(num_topics=10, num_words=8))"
   ]
  },
  {
   "cell_type": "code",
   "execution_count": null,
   "metadata": {
    "collapsed": true
   },
   "outputs": [],
   "source": [
    "for topic in ldamodel.print_topics(num_topics=10, num_words=5):\n",
    "    print(topic)"
   ]
  },
  {
   "cell_type": "code",
   "execution_count": null,
   "metadata": {
    "collapsed": true
   },
   "outputs": [],
   "source": []
  }
 ],
 "metadata": {
  "kernelspec": {
   "display_name": "Python [conda env:spacy]",
   "language": "python",
   "name": "conda-env-spacy-py"
  },
  "language_info": {
   "codemirror_mode": {
    "name": "ipython",
    "version": 3
   },
   "file_extension": ".py",
   "mimetype": "text/x-python",
   "name": "python",
   "nbconvert_exporter": "python",
   "pygments_lexer": "ipython3",
   "version": "3.7.0"
  }
 },
 "nbformat": 4,
 "nbformat_minor": 2
}
