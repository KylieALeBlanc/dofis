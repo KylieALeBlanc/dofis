{
 "cells": [
  {
   "cell_type": "code",
   "execution_count": 1,
   "metadata": {
    "collapsed": true
   },
   "outputs": [],
   "source": [
    "import sys\n",
    "sys.path.append(\"../\")\n",
    "\n",
    "import pandas as pd\n",
    "import os\n",
    "import statsmodels.formula.api as sm\n",
    "import statsmodels.formula.api as smf\n",
    "\n",
    "from library import regulations\n",
    "from library import characteristics\n",
    "from library import analysis\n",
    "from library import tables\n",
    "\n",
    "from openpyxl import load_workbook\n"
   ]
  },
  {
   "cell_type": "code",
   "execution_count": 2,
   "metadata": {},
   "outputs": [
    {
     "name": "stderr",
     "output_type": "stream",
     "text": [
      "/Users/kylieleblancKylie/anaconda/envs/spacy/lib/python3.7/site-packages/IPython/core/interactiveshell.py:2785: DtypeWarning: Columns (7,8) have mixed types. Specify dtype option on import or set low_memory=False.\n",
      "  interactivity=interactivity, compiler=compiler, result=result)\n"
     ]
    }
   ],
   "source": [
    "data_path = '/Users/kylieleblancKylie/domino/dofis/data/'\n",
    "table_path = '/Users/kylieleblancKylie/domino/dofis/results/descriptive/'\n",
    "data = pd.read_csv(os.path.join(data_path, 'clean', 'master_data.csv'),\n",
    "                  sep=\",\")\n",
    "data = data[data.year == 'yr1415']\n",
    "data = data[data.eligible == 1]"
   ]
  },
  {
   "cell_type": "code",
   "execution_count": 3,
   "metadata": {
    "collapsed": true
   },
   "outputs": [],
   "source": [
    "tf = {True: 1, False: 0}\n",
    "data['doi'] = data['doi'].map(tf)"
   ]
  },
  {
   "cell_type": "code",
   "execution_count": 5,
   "metadata": {
    "collapsed": true
   },
   "outputs": [],
   "source": [
    "x_list = ['type_urban', 'type_suburban', 'type_town',  \n",
    "           'teachers_tenure_ave', 'teachers_turnover_ratio', 'students_teacher_ratio',\n",
    "           'students_hisp', 'students_black', 'students_frpl', 'avescores']"
   ]
  },
  {
   "cell_type": "code",
   "execution_count": 6,
   "metadata": {},
   "outputs": [
    {
     "name": "stdout",
     "output_type": "stream",
     "text": [
      "Optimization terminated successfully.\n",
      "         Current function value: 0.484396\n",
      "         Iterations 6\n"
     ]
    },
    {
     "data": {
      "text/html": [
       "<table class=\"simpletable\">\n",
       "<caption>Logit Regression Results</caption>\n",
       "<tr>\n",
       "  <th>Dep. Variable:</th>        <td>doi</td>       <th>  No. Observations:  </th>  <td>   970</td>  \n",
       "</tr>\n",
       "<tr>\n",
       "  <th>Model:</th>               <td>Logit</td>      <th>  Df Residuals:      </th>  <td>   960</td>  \n",
       "</tr>\n",
       "<tr>\n",
       "  <th>Method:</th>               <td>MLE</td>       <th>  Df Model:          </th>  <td>     9</td>  \n",
       "</tr>\n",
       "<tr>\n",
       "  <th>Date:</th>          <td>Sun, 21 Oct 2018</td> <th>  Pseudo R-squ.:     </th>  <td>0.07045</td> \n",
       "</tr>\n",
       "<tr>\n",
       "  <th>Time:</th>              <td>10:58:13</td>     <th>  Log-Likelihood:    </th> <td> -469.86</td> \n",
       "</tr>\n",
       "<tr>\n",
       "  <th>converged:</th>           <td>True</td>       <th>  LL-Null:           </th> <td> -505.47</td> \n",
       "</tr>\n",
       "<tr>\n",
       "  <th> </th>                      <td> </td>        <th>  LLR p-value:       </th> <td>8.780e-12</td>\n",
       "</tr>\n",
       "</table>\n",
       "<table class=\"simpletable\">\n",
       "<tr>\n",
       "             <td></td>                <th>coef</th>     <th>std err</th>      <th>z</th>      <th>P>|z|</th>  <th>[0.025</th>    <th>0.975]</th>  \n",
       "</tr>\n",
       "<tr>\n",
       "  <th>type_urban</th>              <td>   -0.2430</td> <td>    0.409</td> <td>   -0.594</td> <td> 0.553</td> <td>   -1.045</td> <td>    0.559</td>\n",
       "</tr>\n",
       "<tr>\n",
       "  <th>type_suburban</th>           <td>   -0.1166</td> <td>    0.261</td> <td>   -0.447</td> <td> 0.655</td> <td>   -0.627</td> <td>    0.394</td>\n",
       "</tr>\n",
       "<tr>\n",
       "  <th>type_town</th>               <td>    0.2223</td> <td>    0.227</td> <td>    0.978</td> <td> 0.328</td> <td>   -0.223</td> <td>    0.668</td>\n",
       "</tr>\n",
       "<tr>\n",
       "  <th>teachers_tenure_ave</th>     <td>    0.0476</td> <td>    0.041</td> <td>    1.159</td> <td> 0.246</td> <td>   -0.033</td> <td>    0.128</td>\n",
       "</tr>\n",
       "<tr>\n",
       "  <th>teachers_turnover_ratio</th> <td>    0.0048</td> <td>    0.010</td> <td>    0.491</td> <td> 0.624</td> <td>   -0.014</td> <td>    0.024</td>\n",
       "</tr>\n",
       "<tr>\n",
       "  <th>students_teacher_ratio</th>  <td>    0.2207</td> <td>    0.065</td> <td>    3.415</td> <td> 0.001</td> <td>    0.094</td> <td>    0.347</td>\n",
       "</tr>\n",
       "<tr>\n",
       "  <th>students_hisp</th>           <td>   -1.8339</td> <td>    0.429</td> <td>   -4.275</td> <td> 0.000</td> <td>   -2.675</td> <td>   -0.993</td>\n",
       "</tr>\n",
       "<tr>\n",
       "  <th>students_black</th>          <td>    0.6359</td> <td>    1.092</td> <td>    0.582</td> <td> 0.560</td> <td>   -1.505</td> <td>    2.777</td>\n",
       "</tr>\n",
       "<tr>\n",
       "  <th>students_frpl</th>           <td>    0.1942</td> <td>    0.682</td> <td>    0.285</td> <td> 0.776</td> <td>   -1.142</td> <td>    1.530</td>\n",
       "</tr>\n",
       "<tr>\n",
       "  <th>avescores</th>               <td>    0.2777</td> <td>    0.180</td> <td>    1.541</td> <td> 0.123</td> <td>   -0.075</td> <td>    0.631</td>\n",
       "</tr>\n",
       "</table>"
      ],
      "text/plain": [
       "<class 'statsmodels.iolib.summary.Summary'>\n",
       "\"\"\"\n",
       "                           Logit Regression Results                           \n",
       "==============================================================================\n",
       "Dep. Variable:                    doi   No. Observations:                  970\n",
       "Model:                          Logit   Df Residuals:                      960\n",
       "Method:                           MLE   Df Model:                            9\n",
       "Date:                Sun, 21 Oct 2018   Pseudo R-squ.:                 0.07045\n",
       "Time:                        10:58:13   Log-Likelihood:                -469.86\n",
       "converged:                       True   LL-Null:                       -505.47\n",
       "                                        LLR p-value:                 8.780e-12\n",
       "===========================================================================================\n",
       "                              coef    std err          z      P>|z|      [0.025      0.975]\n",
       "-------------------------------------------------------------------------------------------\n",
       "type_urban                 -0.2430      0.409     -0.594      0.553      -1.045       0.559\n",
       "type_suburban              -0.1166      0.261     -0.447      0.655      -0.627       0.394\n",
       "type_town                   0.2223      0.227      0.978      0.328      -0.223       0.668\n",
       "teachers_tenure_ave         0.0476      0.041      1.159      0.246      -0.033       0.128\n",
       "teachers_turnover_ratio     0.0048      0.010      0.491      0.624      -0.014       0.024\n",
       "students_teacher_ratio      0.2207      0.065      3.415      0.001       0.094       0.347\n",
       "students_hisp              -1.8339      0.429     -4.275      0.000      -2.675      -0.993\n",
       "students_black              0.6359      1.092      0.582      0.560      -1.505       2.777\n",
       "students_frpl               0.1942      0.682      0.285      0.776      -1.142       1.530\n",
       "avescores                   0.2777      0.180      1.541      0.123      -0.075       0.631\n",
       "===========================================================================================\n",
       "\"\"\""
      ]
     },
     "execution_count": 6,
     "metadata": {},
     "output_type": "execute_result"
    }
   ],
   "source": [
    "tables.model_to_excel(data, y = 'doi', x_list = x_list, file = table_path + 'logit_doi.xlsx', start_row = 3, start_col = 2)"
   ]
  },
  {
   "cell_type": "code",
   "execution_count": null,
   "metadata": {
    "collapsed": true
   },
   "outputs": [],
   "source": []
  }
 ],
 "metadata": {
  "kernelspec": {
   "display_name": "Python [conda env:spacy]",
   "language": "python",
   "name": "conda-env-spacy-py"
  },
  "language_info": {
   "codemirror_mode": {
    "name": "ipython",
    "version": 3
   },
   "file_extension": ".py",
   "mimetype": "text/x-python",
   "name": "python",
   "nbconvert_exporter": "python",
   "pygments_lexer": "ipython3",
   "version": "3.7.0"
  }
 },
 "nbformat": 4,
 "nbformat_minor": 2
}
