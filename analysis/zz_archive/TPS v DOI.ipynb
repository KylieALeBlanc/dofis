{
 "cells": [
  {
   "cell_type": "code",
   "execution_count": 31,
   "metadata": {
    "collapsed": true
   },
   "outputs": [],
   "source": [
    "import pandas as pd\n",
    "import os\n",
    "import statsmodels.formula.api as sm\n",
    "import numpy as np\n",
    "\n",
    "from library import regulations\n",
    "from library import characteristics\n",
    "from library import analysis\n",
    "from library import tables"
   ]
  },
  {
   "cell_type": "code",
   "execution_count": 32,
   "metadata": {},
   "outputs": [
    {
     "name": "stderr",
     "output_type": "stream",
     "text": [
      "/Users/kylieleblancKylie/anaconda/envs/spacy/lib/python3.7/site-packages/IPython/core/interactiveshell.py:2785: DtypeWarning: Columns (7) have mixed types. Specify dtype option on import or set low_memory=False.\n",
      "  interactivity=interactivity, compiler=compiler, result=result)\n"
     ]
    }
   ],
   "source": [
    "data_path = '/Users/kylieleblancKylie/domino/dofis/data/'\n",
    "table_path = '/Users/kylieleblancKylie/domino/dofis/results/descriptive/'\n",
    "data = pd.read_csv(os.path.join(data_path, 'clean', 'master_data.csv'),\n",
    "                  sep=\",\")\n"
   ]
  },
  {
   "cell_type": "markdown",
   "metadata": {},
   "source": [
    "Just keep eligible districts from 2014-15"
   ]
  },
  {
   "cell_type": "code",
   "execution_count": 33,
   "metadata": {
    "collapsed": true
   },
   "outputs": [],
   "source": [
    "data = data[data.year == 'yr1415']\n",
    "data = data[data.eligible == 1]"
   ]
  },
  {
   "cell_type": "markdown",
   "metadata": {},
   "source": [
    "Generate opt out variable"
   ]
  },
  {
   "cell_type": "code",
   "execution_count": 34,
   "metadata": {},
   "outputs": [
    {
     "data": {
      "text/html": [
       "<div>\n",
       "<style scoped>\n",
       "    .dataframe tbody tr th:only-of-type {\n",
       "        vertical-align: middle;\n",
       "    }\n",
       "\n",
       "    .dataframe tbody tr th {\n",
       "        vertical-align: top;\n",
       "    }\n",
       "\n",
       "    .dataframe thead th {\n",
       "        text-align: right;\n",
       "    }\n",
       "</style>\n",
       "<table border=\"1\" class=\"dataframe\">\n",
       "  <thead>\n",
       "    <tr style=\"text-align: right;\">\n",
       "      <th></th>\n",
       "      <th>Unnamed: 0</th>\n",
       "      <th>district</th>\n",
       "      <th>distname</th>\n",
       "      <th>year</th>\n",
       "      <th>cntyname</th>\n",
       "      <th>distischarter</th>\n",
       "      <th>rating_academic</th>\n",
       "      <th>rating_financial</th>\n",
       "      <th>eligible</th>\n",
       "      <th>type</th>\n",
       "      <th>...</th>\n",
       "      <th>alg_std</th>\n",
       "      <th>bio_std</th>\n",
       "      <th>eng1_std</th>\n",
       "      <th>eng2_std</th>\n",
       "      <th>us_std</th>\n",
       "      <th>math</th>\n",
       "      <th>reading</th>\n",
       "      <th>avescores</th>\n",
       "      <th>students_teacher_ratio</th>\n",
       "      <th>optout</th>\n",
       "    </tr>\n",
       "  </thead>\n",
       "  <tbody>\n",
       "    <tr>\n",
       "      <th>3682</th>\n",
       "      <td>3682</td>\n",
       "      <td>1902</td>\n",
       "      <td>CAYUGA ISD</td>\n",
       "      <td>yr1415</td>\n",
       "      <td>ANDERSON</td>\n",
       "      <td>N</td>\n",
       "      <td>M</td>\n",
       "      <td>Pass</td>\n",
       "      <td>1.0</td>\n",
       "      <td>H</td>\n",
       "      <td>...</td>\n",
       "      <td>0.661039</td>\n",
       "      <td>0.688869</td>\n",
       "      <td>0.593574</td>\n",
       "      <td>0.737335</td>\n",
       "      <td>0.109439</td>\n",
       "      <td>0.714925</td>\n",
       "      <td>0.756997</td>\n",
       "      <td>0.683635</td>\n",
       "      <td>5.362454</td>\n",
       "      <td>False</td>\n",
       "    </tr>\n",
       "    <tr>\n",
       "      <th>3683</th>\n",
       "      <td>3683</td>\n",
       "      <td>1903</td>\n",
       "      <td>ELKHART ISD</td>\n",
       "      <td>yr1415</td>\n",
       "      <td>ANDERSON</td>\n",
       "      <td>N</td>\n",
       "      <td>M</td>\n",
       "      <td>Pass</td>\n",
       "      <td>1.0</td>\n",
       "      <td>G</td>\n",
       "      <td>...</td>\n",
       "      <td>0.295768</td>\n",
       "      <td>-0.013381</td>\n",
       "      <td>0.677605</td>\n",
       "      <td>1.086656</td>\n",
       "      <td>1.255590</td>\n",
       "      <td>0.253594</td>\n",
       "      <td>0.526180</td>\n",
       "      <td>0.469464</td>\n",
       "      <td>7.222552</td>\n",
       "      <td>False</td>\n",
       "    </tr>\n",
       "    <tr>\n",
       "      <th>3684</th>\n",
       "      <td>3684</td>\n",
       "      <td>1904</td>\n",
       "      <td>FRANKSTON ISD</td>\n",
       "      <td>yr1415</td>\n",
       "      <td>ANDERSON</td>\n",
       "      <td>N</td>\n",
       "      <td>M</td>\n",
       "      <td>Pass</td>\n",
       "      <td>1.0</td>\n",
       "      <td>H</td>\n",
       "      <td>...</td>\n",
       "      <td>0.702653</td>\n",
       "      <td>0.719402</td>\n",
       "      <td>0.643004</td>\n",
       "      <td>-0.072455</td>\n",
       "      <td>-0.093420</td>\n",
       "      <td>0.315321</td>\n",
       "      <td>0.626085</td>\n",
       "      <td>0.443978</td>\n",
       "      <td>6.946367</td>\n",
       "      <td>False</td>\n",
       "    </tr>\n",
       "    <tr>\n",
       "      <th>3685</th>\n",
       "      <td>3685</td>\n",
       "      <td>1906</td>\n",
       "      <td>NECHES ISD</td>\n",
       "      <td>yr1415</td>\n",
       "      <td>ANDERSON</td>\n",
       "      <td>N</td>\n",
       "      <td>M</td>\n",
       "      <td>Pass</td>\n",
       "      <td>1.0</td>\n",
       "      <td>H</td>\n",
       "      <td>...</td>\n",
       "      <td>-0.222086</td>\n",
       "      <td>0.999284</td>\n",
       "      <td>-0.642171</td>\n",
       "      <td>-1.104541</td>\n",
       "      <td>-0.093420</td>\n",
       "      <td>0.074073</td>\n",
       "      <td>0.619741</td>\n",
       "      <td>0.182350</td>\n",
       "      <td>6.075534</td>\n",
       "      <td>False</td>\n",
       "    </tr>\n",
       "    <tr>\n",
       "      <th>3686</th>\n",
       "      <td>3686</td>\n",
       "      <td>1907</td>\n",
       "      <td>PALESTINE ISD</td>\n",
       "      <td>yr1415</td>\n",
       "      <td>ANDERSON</td>\n",
       "      <td>N</td>\n",
       "      <td>M</td>\n",
       "      <td>Pass</td>\n",
       "      <td>1.0</td>\n",
       "      <td>E</td>\n",
       "      <td>...</td>\n",
       "      <td>0.235660</td>\n",
       "      <td>0.327567</td>\n",
       "      <td>-0.716316</td>\n",
       "      <td>-0.702292</td>\n",
       "      <td>-0.478851</td>\n",
       "      <td>0.094497</td>\n",
       "      <td>-0.738283</td>\n",
       "      <td>-0.305703</td>\n",
       "      <td>6.911340</td>\n",
       "      <td>False</td>\n",
       "    </tr>\n",
       "  </tbody>\n",
       "</table>\n",
       "<p>5 rows × 412 columns</p>\n",
       "</div>"
      ],
      "text/plain": [
       "      Unnamed: 0  district       distname    year  cntyname distischarter  \\\n",
       "3682        3682      1902     CAYUGA ISD  yr1415  ANDERSON             N   \n",
       "3683        3683      1903    ELKHART ISD  yr1415  ANDERSON             N   \n",
       "3684        3684      1904  FRANKSTON ISD  yr1415  ANDERSON             N   \n",
       "3685        3685      1906     NECHES ISD  yr1415  ANDERSON             N   \n",
       "3686        3686      1907  PALESTINE ISD  yr1415  ANDERSON             N   \n",
       "\n",
       "     rating_academic rating_financial  eligible type   ...     alg_std  \\\n",
       "3682               M             Pass       1.0    H   ...    0.661039   \n",
       "3683               M             Pass       1.0    G   ...    0.295768   \n",
       "3684               M             Pass       1.0    H   ...    0.702653   \n",
       "3685               M             Pass       1.0    H   ...   -0.222086   \n",
       "3686               M             Pass       1.0    E   ...    0.235660   \n",
       "\n",
       "       bio_std  eng1_std  eng2_std    us_std      math   reading avescores  \\\n",
       "3682  0.688869  0.593574  0.737335  0.109439  0.714925  0.756997  0.683635   \n",
       "3683 -0.013381  0.677605  1.086656  1.255590  0.253594  0.526180  0.469464   \n",
       "3684  0.719402  0.643004 -0.072455 -0.093420  0.315321  0.626085  0.443978   \n",
       "3685  0.999284 -0.642171 -1.104541 -0.093420  0.074073  0.619741  0.182350   \n",
       "3686  0.327567 -0.716316 -0.702292 -0.478851  0.094497 -0.738283 -0.305703   \n",
       "\n",
       "      students_teacher_ratio  optout  \n",
       "3682                5.362454   False  \n",
       "3683                7.222552   False  \n",
       "3684                6.946367   False  \n",
       "3685                6.075534   False  \n",
       "3686                6.911340   False  \n",
       "\n",
       "[5 rows x 412 columns]"
      ]
     },
     "execution_count": 34,
     "metadata": {},
     "output_type": "execute_result"
    }
   ],
   "source": [
    "data['optout'] = np.where((data['district_status'] != 'doi'), True, False)\n",
    "data.head()"
   ]
  },
  {
   "cell_type": "markdown",
   "metadata": {},
   "source": [
    "Some basic descriptives"
   ]
  },
  {
   "cell_type": "code",
   "execution_count": 35,
   "metadata": {},
   "outputs": [
    {
     "name": "stdout",
     "output_type": "stream",
     "text": [
      "973 eligible districts, 762 are DOIs and 211 have opted  out.\n"
     ]
    }
   ],
   "source": [
    "num_dois = len(data[data.doi == 1])\n",
    "num_tps = len(data[data.doi == 0])\n",
    "print(str(len(data)) + ' eligible districts, ' + str(num_dois), 'are DOIs and ' + str(num_tps) + ' have opted  out.')\n"
   ]
  },
  {
   "cell_type": "markdown",
   "metadata": {},
   "source": [
    "## District Characteristics"
   ]
  },
  {
   "cell_type": "code",
   "execution_count": 36,
   "metadata": {},
   "outputs": [
    {
     "data": {
      "text/html": [
       "<div>\n",
       "<style scoped>\n",
       "    .dataframe tbody tr th:only-of-type {\n",
       "        vertical-align: middle;\n",
       "    }\n",
       "\n",
       "    .dataframe tbody tr th {\n",
       "        vertical-align: top;\n",
       "    }\n",
       "\n",
       "    .dataframe thead th {\n",
       "        text-align: right;\n",
       "    }\n",
       "</style>\n",
       "<table border=\"1\" class=\"dataframe\">\n",
       "  <thead>\n",
       "    <tr style=\"text-align: right;\">\n",
       "      <th></th>\n",
       "      <th>Characteristic</th>\n",
       "      <th>Control</th>\n",
       "      <th>Difference</th>\n",
       "      <th>Std. Error</th>\n",
       "      <th>P-value</th>\n",
       "    </tr>\n",
       "  </thead>\n",
       "  <tbody>\n",
       "    <tr>\n",
       "      <th>0</th>\n",
       "      <td>Urban</td>\n",
       "      <td>0.05</td>\n",
       "      <td>0.01</td>\n",
       "      <td>0.02</td>\n",
       "      <td>0.50</td>\n",
       "    </tr>\n",
       "    <tr>\n",
       "      <th>1</th>\n",
       "      <td>Suburban</td>\n",
       "      <td>0.25</td>\n",
       "      <td>0.00</td>\n",
       "      <td>0.03</td>\n",
       "      <td>0.98</td>\n",
       "    </tr>\n",
       "    <tr>\n",
       "      <th>2</th>\n",
       "      <td>Town</td>\n",
       "      <td>0.29</td>\n",
       "      <td>-0.05</td>\n",
       "      <td>0.03</td>\n",
       "      <td>0.16</td>\n",
       "    </tr>\n",
       "    <tr>\n",
       "      <th>3</th>\n",
       "      <td>Rural</td>\n",
       "      <td>0.42</td>\n",
       "      <td>0.04</td>\n",
       "      <td>0.04</td>\n",
       "      <td>0.35</td>\n",
       "    </tr>\n",
       "  </tbody>\n",
       "</table>\n",
       "</div>"
      ],
      "text/plain": [
       "  Characteristic  Control  Difference  Std. Error  P-value\n",
       "0          Urban     0.05        0.01        0.02     0.50\n",
       "1       Suburban     0.25        0.00        0.03     0.98\n",
       "2           Town     0.29       -0.05        0.03     0.16\n",
       "3          Rural     0.42        0.04        0.04     0.35"
      ]
     },
     "execution_count": 36,
     "metadata": {},
     "output_type": "execute_result"
    }
   ],
   "source": [
    "# Traditional public schools versus DOI\n",
    "district = analysis.many_y_one_x(data = data, \n",
    "                                 y_list = characteristics.geography,\n",
    "                                 y_labels = characteristics.labels,\n",
    "                                 x = 'optout')\n",
    "district\n",
    "# note, I don't have the geographic characteristics of charter schools"
   ]
  },
  {
   "cell_type": "markdown",
   "metadata": {},
   "source": [
    "## Teacher Characteristics"
   ]
  },
  {
   "cell_type": "code",
   "execution_count": 37,
   "metadata": {},
   "outputs": [
    {
     "data": {
      "text/html": [
       "<div>\n",
       "<style scoped>\n",
       "    .dataframe tbody tr th:only-of-type {\n",
       "        vertical-align: middle;\n",
       "    }\n",
       "\n",
       "    .dataframe tbody tr th {\n",
       "        vertical-align: top;\n",
       "    }\n",
       "\n",
       "    .dataframe thead th {\n",
       "        text-align: right;\n",
       "    }\n",
       "</style>\n",
       "<table border=\"1\" class=\"dataframe\">\n",
       "  <thead>\n",
       "    <tr style=\"text-align: right;\">\n",
       "      <th></th>\n",
       "      <th>Characteristic</th>\n",
       "      <th>Control</th>\n",
       "      <th>Difference</th>\n",
       "      <th>Std. Error</th>\n",
       "      <th>P-value</th>\n",
       "    </tr>\n",
       "  </thead>\n",
       "  <tbody>\n",
       "    <tr>\n",
       "      <th>0</th>\n",
       "      <td>Ave. Experience in District</td>\n",
       "      <td>12.53</td>\n",
       "      <td>-0.40</td>\n",
       "      <td>0.19</td>\n",
       "      <td>0.03</td>\n",
       "    </tr>\n",
       "    <tr>\n",
       "      <th>1</th>\n",
       "      <td>Ave. Experience Teaching</td>\n",
       "      <td>7.38</td>\n",
       "      <td>-0.07</td>\n",
       "      <td>0.15</td>\n",
       "      <td>0.63</td>\n",
       "    </tr>\n",
       "    <tr>\n",
       "      <th>2</th>\n",
       "      <td>Teacher Turnover Ratio</td>\n",
       "      <td>18.83</td>\n",
       "      <td>1.16</td>\n",
       "      <td>0.68</td>\n",
       "      <td>0.09</td>\n",
       "    </tr>\n",
       "    <tr>\n",
       "      <th>3</th>\n",
       "      <td>Student-Teacher Ratio</td>\n",
       "      <td>6.70</td>\n",
       "      <td>-0.30</td>\n",
       "      <td>0.09</td>\n",
       "      <td>0.00</td>\n",
       "    </tr>\n",
       "  </tbody>\n",
       "</table>\n",
       "</div>"
      ],
      "text/plain": [
       "                Characteristic  Control  Difference  Std. Error  P-value\n",
       "0  Ave. Experience in District    12.53       -0.40        0.19     0.03\n",
       "1     Ave. Experience Teaching     7.38       -0.07        0.15     0.63\n",
       "2       Teacher Turnover Ratio    18.83        1.16        0.68     0.09\n",
       "3        Student-Teacher Ratio     6.70       -0.30        0.09     0.00"
      ]
     },
     "execution_count": 37,
     "metadata": {},
     "output_type": "execute_result"
    }
   ],
   "source": [
    "teacher = analysis.many_y_one_x(data = data, \n",
    "                                 y_list = characteristics.teacher,\n",
    "                                 y_labels = characteristics.labels,\n",
    "                                 x = 'optout')\n",
    "teacher"
   ]
  },
  {
   "cell_type": "markdown",
   "metadata": {},
   "source": [
    "## Student Characteristics"
   ]
  },
  {
   "cell_type": "code",
   "execution_count": 38,
   "metadata": {},
   "outputs": [
    {
     "data": {
      "text/html": [
       "<div>\n",
       "<style scoped>\n",
       "    .dataframe tbody tr th:only-of-type {\n",
       "        vertical-align: middle;\n",
       "    }\n",
       "\n",
       "    .dataframe tbody tr th {\n",
       "        vertical-align: top;\n",
       "    }\n",
       "\n",
       "    .dataframe thead th {\n",
       "        text-align: right;\n",
       "    }\n",
       "</style>\n",
       "<table border=\"1\" class=\"dataframe\">\n",
       "  <thead>\n",
       "    <tr style=\"text-align: right;\">\n",
       "      <th></th>\n",
       "      <th>Characteristic</th>\n",
       "      <th>Control</th>\n",
       "      <th>Difference</th>\n",
       "      <th>Std. Error</th>\n",
       "      <th>P-value</th>\n",
       "    </tr>\n",
       "  </thead>\n",
       "  <tbody>\n",
       "    <tr>\n",
       "      <th>0</th>\n",
       "      <td>Percent Hispanic</td>\n",
       "      <td>0.35</td>\n",
       "      <td>0.16</td>\n",
       "      <td>0.02</td>\n",
       "      <td>0.00</td>\n",
       "    </tr>\n",
       "    <tr>\n",
       "      <th>1</th>\n",
       "      <td>Percent White</td>\n",
       "      <td>0.55</td>\n",
       "      <td>-0.13</td>\n",
       "      <td>0.02</td>\n",
       "      <td>0.00</td>\n",
       "    </tr>\n",
       "    <tr>\n",
       "      <th>2</th>\n",
       "      <td>Percent Black</td>\n",
       "      <td>0.07</td>\n",
       "      <td>-0.02</td>\n",
       "      <td>0.01</td>\n",
       "      <td>0.04</td>\n",
       "    </tr>\n",
       "    <tr>\n",
       "      <th>3</th>\n",
       "      <td>Percent Econ. Disadvantaged</td>\n",
       "      <td>0.54</td>\n",
       "      <td>0.08</td>\n",
       "      <td>0.01</td>\n",
       "      <td>0.00</td>\n",
       "    </tr>\n",
       "    <tr>\n",
       "      <th>4</th>\n",
       "      <td>Average STAAR Performance (Std.)</td>\n",
       "      <td>0.16</td>\n",
       "      <td>-0.29</td>\n",
       "      <td>0.05</td>\n",
       "      <td>0.00</td>\n",
       "    </tr>\n",
       "  </tbody>\n",
       "</table>\n",
       "</div>"
      ],
      "text/plain": [
       "                     Characteristic  Control  Difference  Std. Error  P-value\n",
       "0                  Percent Hispanic     0.35        0.16        0.02     0.00\n",
       "1                     Percent White     0.55       -0.13        0.02     0.00\n",
       "2                     Percent Black     0.07       -0.02        0.01     0.04\n",
       "3       Percent Econ. Disadvantaged     0.54        0.08        0.01     0.00\n",
       "4  Average STAAR Performance (Std.)     0.16       -0.29        0.05     0.00"
      ]
     },
     "execution_count": 38,
     "metadata": {},
     "output_type": "execute_result"
    }
   ],
   "source": [
    "student = analysis.many_y_one_x(data = data, \n",
    "                                 y_list = characteristics.student,\n",
    "                                 y_labels = characteristics.labels,\n",
    "                                 x = 'optout')\n",
    "student"
   ]
  },
  {
   "cell_type": "markdown",
   "metadata": {},
   "source": [
    "## To table"
   ]
  },
  {
   "cell_type": "code",
   "execution_count": 39,
   "metadata": {},
   "outputs": [],
   "source": [
    "dfs = [district, teacher, student]\n",
    "rows = [6, 15, 24]\n",
    "tables.n_to_excel(file = table_path + 'TPS v. DOI.xlsx',\n",
    "                 col = 2, row = 4, n = len(data[data.doi == 0]))\n",
    "tables.n_to_excel(file = table_path + 'TPS v. DOI.xlsx',\n",
    "                 col = 3, row = 4, n = len(data[data.doi == 1]))\n",
    "for df, row in zip(dfs,rows):\n",
    "    tables.var_diff_to_excel(file = table_path + 'TPS v. DOI.xlsx', \n",
    "                             df = df, \n",
    "                             control_col = 'Control', \n",
    "                             diff_col = 'Difference', \n",
    "                             se_col = 'Std. Error', pvalue_col = 'P-value',\n",
    "                             start_col = 2, start_row = row)"
   ]
  },
  {
   "cell_type": "code",
   "execution_count": null,
   "metadata": {
    "collapsed": true
   },
   "outputs": [],
   "source": []
  }
 ],
 "metadata": {
  "kernelspec": {
   "display_name": "Python [conda env:spacy]",
   "language": "python",
   "name": "conda-env-spacy-py"
  },
  "language_info": {
   "codemirror_mode": {
    "name": "ipython",
    "version": 3
   },
   "file_extension": ".py",
   "mimetype": "text/x-python",
   "name": "python",
   "nbconvert_exporter": "python",
   "pygments_lexer": "ipython3",
   "version": "3.7.0"
  }
 },
 "nbformat": 4,
 "nbformat_minor": 2
}
