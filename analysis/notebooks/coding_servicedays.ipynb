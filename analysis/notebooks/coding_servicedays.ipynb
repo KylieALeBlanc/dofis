{
 "cells": [
  {
   "cell_type": "code",
   "execution_count": 1,
   "metadata": {},
   "outputs": [
    {
     "name": "stderr",
     "output_type": "stream",
     "text": [
      "/Users/kylieleblancKylie/anaconda/envs/spacy/lib/python3.7/importlib/_bootstrap.py:219: RuntimeWarning: numpy.dtype size changed, may indicate binary incompatibility. Expected 96, got 88\n",
      "  return f(*args, **kwds)\n",
      "/Users/kylieleblancKylie/anaconda/envs/spacy/lib/python3.7/importlib/_bootstrap.py:219: RuntimeWarning: numpy.ufunc size changed, may indicate binary incompatibility. Expected 192, got 176\n",
      "  return f(*args, **kwds)\n",
      "/Users/kylieleblancKylie/anaconda/envs/spacy/lib/python3.7/importlib/_bootstrap.py:219: RuntimeWarning: numpy.dtype size changed, may indicate binary incompatibility. Expected 96, got 88\n",
      "  return f(*args, **kwds)\n",
      "/Users/kylieleblancKylie/anaconda/envs/spacy/lib/python3.7/importlib/_bootstrap.py:219: RuntimeWarning: numpy.ufunc size changed, may indicate binary incompatibility. Expected 192, got 176\n",
      "  return f(*args, **kwds)\n"
     ]
    }
   ],
   "source": [
    "import pandas as pd\n",
    "import os\n",
    "import re\n",
    "import spacy\n",
    "import en_core_web_sm\n",
    "from spacy.matcher import Matcher\n",
    "from IPython.display import clear_output\n"
   ]
  },
  {
   "cell_type": "markdown",
   "metadata": {},
   "source": [
    "# Service Days"
   ]
  },
  {
   "cell_type": "code",
   "execution_count": 1,
   "metadata": {},
   "outputs": [
    {
     "ename": "NameError",
     "evalue": "name 'pd' is not defined",
     "output_type": "error",
     "traceback": [
      "\u001b[0;31m---------------------------------------------------------------------------\u001b[0m",
      "\u001b[0;31mNameError\u001b[0m                                 Traceback (most recent call last)",
      "\u001b[0;32m<ipython-input-1-87244ecb829f>\u001b[0m in \u001b[0;36m<module>\u001b[0;34m()\u001b[0m\n\u001b[1;32m      1\u001b[0m \u001b[0mdata_path\u001b[0m \u001b[0;34m=\u001b[0m \u001b[0;34m'/Users/kylieleblancKylie/domino/dofis/data/'\u001b[0m\u001b[0;34m\u001b[0m\u001b[0m\n\u001b[1;32m      2\u001b[0m \u001b[0;34m\u001b[0m\u001b[0m\n\u001b[0;32m----> 3\u001b[0;31m docs = pd.read_csv(os.path.join(data_path, 'clean', 'phrases_certification.csv'),\n\u001b[0m\u001b[1;32m      4\u001b[0m                   sep=\",\")\n\u001b[1;32m      5\u001b[0m \u001b[0mdocs\u001b[0m\u001b[0;34m.\u001b[0m\u001b[0mhead\u001b[0m\u001b[0;34m(\u001b[0m\u001b[0;34m)\u001b[0m\u001b[0;34m\u001b[0m\u001b[0m\n",
      "\u001b[0;31mNameError\u001b[0m: name 'pd' is not defined"
     ]
    }
   ],
   "source": [
    "data_path = '/Users/kylieleblancKylie/domino/dofis/data/'\n",
    "\n",
    "docs = pd.read_csv(os.path.join(data_path, 'clean', 'phrases_servicedays.csv'),\n",
    "                  sep=\",\")\n",
    "docs.head()"
   ]
  },
  {
   "cell_type": "code",
   "execution_count": 5,
   "metadata": {
    "collapsed": true
   },
   "outputs": [],
   "source": [
    "docs_to_label = docs.sample(n = 50, random_state = 45)\n",
    "docs_to_label = docs_to_label[['phrase', 'link']]\n",
    "docs_to_label = docs_to_label.rename({'phrase': 'text', 'link': 'source'}, axis = 1)\n",
    "#docs_to_label.to_csv(os.path.join(data_path, 'plans', 'certification_to_label.csv'), header = True)"
   ]
  },
  {
   "cell_type": "code",
   "execution_count": 6,
   "metadata": {
    "collapsed": true
   },
   "outputs": [],
   "source": [
    "relabel_docs = True"
   ]
  },
  {
   "cell_type": "code",
   "execution_count": 7,
   "metadata": {},
   "outputs": [
    {
     "data": {
      "text/plain": [
       "50"
      ]
     },
     "execution_count": 7,
     "metadata": {},
     "output_type": "execute_result"
    }
   ],
   "source": [
    "len(docs_to_label)"
   ]
  },
  {
   "cell_type": "code",
   "execution_count": 26,
   "metadata": {
    "collapsed": true
   },
   "outputs": [],
   "source": [
    "if relabel_docs:\n",
    "    shortage = []\n",
    "    outofsubject = []\n",
    "    electives = []\n",
    "    for text, source in zip(docs_to_label.text[0:10], docs_to_label.source[0:10]):\n",
    "        show = str(source) + str(text)\n",
    "        \n",
    "        annotation = input(show + \"Mentions paperwork or hard-to-fill?\")\n",
    "        shortage.append(annotation)\n",
    "        \n",
    "        annotation = input(\"Mentions certified not in subject?\")\n",
    "        outofsubject.append(annotation)\n",
    "        \n",
    "        annotation = input(\"Mentions CTE, dual-credit, or elective courses?\")\n",
    "        electives.append(annotation)\n",
    "                           \n",
    "        clear_output()"
   ]
  },
  {
   "cell_type": "code",
   "execution_count": 31,
   "metadata": {
    "collapsed": true
   },
   "outputs": [],
   "source": [
    "electives = electives[0:10]\n",
    "shortage = shortage[0:10]\n",
    "outofsubject = outofsubject[0:10]"
   ]
  },
  {
   "cell_type": "code",
   "execution_count": 32,
   "metadata": {},
   "outputs": [
    {
     "data": {
      "text/plain": [
       "216    |21.003 - A person may not be employed as a te...\n",
       "64     |21.003) Currently In the event a district can...\n",
       "48     |21.003) Currently In the event a district can...\n",
       "63     |21.003 Current Law: In the event a district c...\n",
       "18                                                   NaN\n",
       "446    |21.003, 21.053 and 21.057) Sec. 21.003. CERTI...\n",
       "565    |21.003, 21.053, and 21.057) DK (LEGAL) State ...\n",
       "61     |21.003) Current Statute: A person may not be ...\n",
       "102                                                  NaN\n",
       "356    |21.003 Certification Required 2. TEC|21.003 r...\n",
       "Name: text, dtype: object"
      ]
     },
     "execution_count": 32,
     "metadata": {},
     "output_type": "execute_result"
    }
   ],
   "source": [
    "docs_to_label.text[10:20]"
   ]
  },
  {
   "cell_type": "code",
   "execution_count": 35,
   "metadata": {
    "collapsed": true
   },
   "outputs": [],
   "source": [
    "if relabel_docs:\n",
    "        for text, source in zip(docs_to_label.text[10:20], docs_to_label.source[10:20]):\n",
    "            show = str(source) + str(text)\n",
    "            annotation = input(show + \"Mentions paperwork or hard-to-fill?\")\n",
    "            shortage.append(annotation)\n",
    "\n",
    "            annotation = input(\"Mentions certified not in subject?\")\n",
    "            outofsubject.append(annotation)\n",
    "\n",
    "            annotation = input(\"Mentions CTE, dual-credit, or elective courses?\")\n",
    "            electives.append(annotation)\n",
    "\n",
    "            clear_output()"
   ]
  },
  {
   "cell_type": "code",
   "execution_count": 36,
   "metadata": {
    "collapsed": true
   },
   "outputs": [],
   "source": [
    "if relabel_docs:\n",
    "        for text, source in zip(docs_to_label.text[20:30], docs_to_label.source[20:30]):\n",
    "            show = str(source) + str(text)\n",
    "            annotation = input(show + \"Mentions paperwork or hard-to-fill?\")\n",
    "            shortage.append(annotation)\n",
    "\n",
    "            annotation = input(\"Mentions certified not in subject?\")\n",
    "            outofsubject.append(annotation)\n",
    "\n",
    "            annotation = input(\"Mentions CTE, dual-credit, or elective courses?\")\n",
    "            electives.append(annotation)\n",
    "\n",
    "            clear_output()"
   ]
  },
  {
   "cell_type": "code",
   "execution_count": 42,
   "metadata": {
    "collapsed": true
   },
   "outputs": [],
   "source": [
    "if relabel_docs:\n",
    "        for text, source in zip(docs_to_label.text[30:40], docs_to_label.source[30:40]):\n",
    "            show = str(source) + str(text)\n",
    "            annotation = input(show + \"Mentions paperwork or hard-to-fill?\")\n",
    "            shortage.append(annotation)\n",
    "\n",
    "            annotation = input(\"Mentions certified not in subject?\")\n",
    "            outofsubject.append(annotation)\n",
    "\n",
    "            annotation = input(\"Mentions CTE, dual-credit, or elective courses?\")\n",
    "            electives.append(annotation)\n",
    "\n",
    "            clear_output()"
   ]
  },
  {
   "cell_type": "code",
   "execution_count": 43,
   "metadata": {
    "collapsed": true
   },
   "outputs": [],
   "source": [
    "if relabel_docs:\n",
    "        for text, source in zip(docs_to_label.text[40:50], docs_to_label.source[40:50]):\n",
    "            show = str(source) + str(text)\n",
    "            annotation = input(show + \"Mentions paperwork or hard-to-fill?\")\n",
    "            shortage.append(annotation)\n",
    "\n",
    "            annotation = input(\"Mentions certified not in subject?\")\n",
    "            outofsubject.append(annotation)\n",
    "\n",
    "            annotation = input(\"Mentions CTE, dual-credit, or elective courses?\")\n",
    "            electives.append(annotation)\n",
    "\n",
    "            clear_output()"
   ]
  },
  {
   "cell_type": "code",
   "execution_count": 72,
   "metadata": {
    "collapsed": true
   },
   "outputs": [],
   "source": [
    "docs_to_label['shortage'] =  shortage\n",
    "docs_to_label['outofsubject'] = outofsubject\n",
    "docs_to_label['electives'] = electives"
   ]
  },
  {
   "cell_type": "code",
   "execution_count": 73,
   "metadata": {
    "collapsed": true
   },
   "outputs": [],
   "source": [
    "docs_to_label['shortage'] = pd.to_numeric(docs_to_label['shortage'], errors='coerce')\n",
    "docs_to_label['outofsubject'] = pd.to_numeric(docs_to_label['outofsubject'], errors='coerce')\n",
    "docs_to_label['electives'] = pd.to_numeric(docs_to_label['electives'], errors='coerce')"
   ]
  },
  {
   "cell_type": "code",
   "execution_count": 76,
   "metadata": {},
   "outputs": [
    {
     "name": "stdout",
     "output_type": "stream",
     "text": [
      "Proportion mentioning emergency paperwork:  0.32653061224489793\n",
      "Proportion mentioning CTE:  0.84\n",
      "Proportion mentioning out of subject certification:  0.52\n"
     ]
    },
    {
     "data": {
      "text/html": [
       "<div>\n",
       "<style scoped>\n",
       "    .dataframe tbody tr th:only-of-type {\n",
       "        vertical-align: middle;\n",
       "    }\n",
       "\n",
       "    .dataframe tbody tr th {\n",
       "        vertical-align: top;\n",
       "    }\n",
       "\n",
       "    .dataframe thead th {\n",
       "        text-align: right;\n",
       "    }\n",
       "</style>\n",
       "<table border=\"1\" class=\"dataframe\">\n",
       "  <thead>\n",
       "    <tr style=\"text-align: right;\">\n",
       "      <th></th>\n",
       "      <th>text</th>\n",
       "      <th>source</th>\n",
       "      <th>shortage</th>\n",
       "      <th>outofsubject</th>\n",
       "      <th>electives</th>\n",
       "    </tr>\n",
       "  </thead>\n",
       "  <tbody>\n",
       "    <tr>\n",
       "      <th>524</th>\n",
       "      <td>|21.003) Currently In the event a district can...</td>\n",
       "      <td>http://images.pcmac.org/Uploads/TrentonISD/Tre...</td>\n",
       "      <td>1.0</td>\n",
       "      <td>0</td>\n",
       "      <td>0</td>\n",
       "    </tr>\n",
       "    <tr>\n",
       "      <th>159</th>\n",
       "      <td>|21.003) (DK Exhibit) (DK Legal) (DK Local) TE...</td>\n",
       "      <td>http://www.emsisd.com/cms/lib/TX21000533/Centr...</td>\n",
       "      <td>0.0</td>\n",
       "      <td>0</td>\n",
       "      <td>1</td>\n",
       "    </tr>\n",
       "    <tr>\n",
       "      <th>133</th>\n",
       "      <td>|21.003, §21.044, §21.053 and §21.057) State l...</td>\n",
       "      <td>https://s3.amazonaws.com/scschoolfiles/1170/cr...</td>\n",
       "      <td>0.0</td>\n",
       "      <td>0</td>\n",
       "      <td>1</td>\n",
       "    </tr>\n",
       "    <tr>\n",
       "      <th>535</th>\n",
       "      <td>|21.003, §21.044, §21.053, §21.055) As a small...</td>\n",
       "      <td>https://d3jc3ahdjad7x7.cloudfront.net/F5HPSEGE...</td>\n",
       "      <td>1.0</td>\n",
       "      <td>0</td>\n",
       "      <td>1</td>\n",
       "    </tr>\n",
       "    <tr>\n",
       "      <th>212</th>\n",
       "      <td>|21.003 Current Law: In the event a district c...</td>\n",
       "      <td>https://1.cdn.edl.io/hccNlwvPnDQR6L8Rr8kSyY5uc...</td>\n",
       "      <td>0.0</td>\n",
       "      <td>1</td>\n",
       "      <td>1</td>\n",
       "    </tr>\n",
       "  </tbody>\n",
       "</table>\n",
       "</div>"
      ],
      "text/plain": [
       "                                                  text  \\\n",
       "524  |21.003) Currently In the event a district can...   \n",
       "159  |21.003) (DK Exhibit) (DK Legal) (DK Local) TE...   \n",
       "133  |21.003, §21.044, §21.053 and §21.057) State l...   \n",
       "535  |21.003, §21.044, §21.053, §21.055) As a small...   \n",
       "212  |21.003 Current Law: In the event a district c...   \n",
       "\n",
       "                                                source  shortage  \\\n",
       "524  http://images.pcmac.org/Uploads/TrentonISD/Tre...       1.0   \n",
       "159  http://www.emsisd.com/cms/lib/TX21000533/Centr...       0.0   \n",
       "133  https://s3.amazonaws.com/scschoolfiles/1170/cr...       0.0   \n",
       "535  https://d3jc3ahdjad7x7.cloudfront.net/F5HPSEGE...       1.0   \n",
       "212  https://1.cdn.edl.io/hccNlwvPnDQR6L8Rr8kSyY5uc...       0.0   \n",
       "\n",
       "     outofsubject  electives  \n",
       "524             0          0  \n",
       "159             0          1  \n",
       "133             0          1  \n",
       "535             0          1  \n",
       "212             1          1  "
      ]
     },
     "execution_count": 76,
     "metadata": {},
     "output_type": "execute_result"
    }
   ],
   "source": [
    "docs_to_label\n",
    "print(\"Proportion mentioning emergency paperwork: \", docs_to_label['shortage'].mean())\n",
    "print(\"Proportion mentioning CTE: \", docs_to_label['electives'].mean())\n",
    "print(\"Proportion mentioning out of subject certification: \", docs_to_label['outofsubject'].mean())\n",
    "docs_to_label.head()"
   ]
  },
  {
   "cell_type": "code",
   "execution_count": 2,
   "metadata": {},
   "outputs": [
    {
     "ename": "NameError",
     "evalue": "name 'docs_to_label' is not defined",
     "output_type": "error",
     "traceback": [
      "\u001b[0;31m---------------------------------------------------------------------------\u001b[0m",
      "\u001b[0;31mNameError\u001b[0m                                 Traceback (most recent call last)",
      "\u001b[0;32m<ipython-input-2-e6846dbec00b>\u001b[0m in \u001b[0;36m<module>\u001b[0;34m()\u001b[0m\n\u001b[0;32m----> 1\u001b[0;31m \u001b[0mdocs_to_label\u001b[0m\u001b[0;34m.\u001b[0m\u001b[0mto_csv\u001b[0m\u001b[0;34m(\u001b[0m\u001b[0mdata_path\u001b[0m \u001b[0;34m+\u001b[0m \u001b[0;34m'labeled_certification.csv'\u001b[0m\u001b[0;34m)\u001b[0m\u001b[0;34m\u001b[0m\u001b[0m\n\u001b[0m",
      "\u001b[0;31mNameError\u001b[0m: name 'docs_to_label' is not defined"
     ]
    }
   ],
   "source": [
    "docs_to_label.to_csv(data_path + 'labeled_certification.csv')"
   ]
  },
  {
   "cell_type": "code",
   "execution_count": 25,
   "metadata": {},
   "outputs": [
    {
     "data": {
      "text/plain": [
       "['0', '1', '1', '0', '1', '1', '1', '1', '1', '1', '1', '1', '1', '1']"
      ]
     },
     "execution_count": 25,
     "metadata": {},
     "output_type": "execute_result"
    }
   ],
   "source": [
    "cte"
   ]
  },
  {
   "cell_type": "code",
   "execution_count": null,
   "metadata": {
    "collapsed": true
   },
   "outputs": [],
   "source": [
    "if relabel_docs:\n",
    "    cte = []\n",
    "    for text, source in zip(docs_to_label.text, docs_to_label.source):\n",
    "        show = source + text\n",
    "        annotation = input(show)\n",
    "        paperwork.append(annotation)\n",
    "        clear_output()"
   ]
  },
  {
   "cell_type": "code",
   "execution_count": null,
   "metadata": {
    "collapsed": true
   },
   "outputs": [],
   "source": [
    "if relabel_docs:\n",
    "    flexibility = []\n",
    "    for text, source in zip(docs_to_label.text, docs_to_label.source):\n",
    "        show = source + text\n",
    "        annotation = input(show)\n",
    "        paperwork.append(annotation)\n",
    "        clear_output()"
   ]
  }
 ],
 "metadata": {
  "kernelspec": {
   "display_name": "Python [conda env:spacy]",
   "language": "python",
   "name": "conda-env-spacy-py"
  },
  "language_info": {
   "codemirror_mode": {
    "name": "ipython",
    "version": 3
   },
   "file_extension": ".py",
   "mimetype": "text/x-python",
   "name": "python",
   "nbconvert_exporter": "python",
   "pygments_lexer": "ipython3",
   "version": "3.7.2"
  }
 },
 "nbformat": 4,
 "nbformat_minor": 2
}
