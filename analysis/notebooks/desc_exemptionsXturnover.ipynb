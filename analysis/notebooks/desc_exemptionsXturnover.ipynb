{
 "cells": [
  {
   "cell_type": "code",
   "execution_count": 2,
   "metadata": {},
   "outputs": [],
   "source": [
    "import sys\n",
    "sys.path.append(\"../\")\n",
    "\n",
    "import pandas as pd\n",
    "import os\n",
    "import numpy as np\n",
    "import matplotlib.pyplot as plt\n",
    "import statsmodels.formula.api as smf\n",
    "\n",
    "from library import regulations\n",
    "from library import analysis\n",
    "from library import tables\n"
   ]
  },
  {
   "cell_type": "code",
   "execution_count": 3,
   "metadata": {},
   "outputs": [
    {
     "name": "stderr",
     "output_type": "stream",
     "text": [
      "/Users/kylieleblancKylie/anaconda/envs/spacy/lib/python3.7/site-packages/IPython/core/interactiveshell.py:2785: DtypeWarning: Columns (6) have mixed types. Specify dtype option on import or set low_memory=False.\n",
      "  interactivity=interactivity, compiler=compiler, result=result)\n"
     ]
    },
    {
     "data": {
      "text/html": [
       "<div>\n",
       "<style scoped>\n",
       "    .dataframe tbody tr th:only-of-type {\n",
       "        vertical-align: middle;\n",
       "    }\n",
       "\n",
       "    .dataframe tbody tr th {\n",
       "        vertical-align: top;\n",
       "    }\n",
       "\n",
       "    .dataframe thead th {\n",
       "        text-align: right;\n",
       "    }\n",
       "</style>\n",
       "<table border=\"1\" class=\"dataframe\">\n",
       "  <thead>\n",
       "    <tr style=\"text-align: right;\">\n",
       "      <th></th>\n",
       "      <th>Unnamed: 0</th>\n",
       "      <th>year</th>\n",
       "      <th>district</th>\n",
       "      <th>distname</th>\n",
       "      <th>distischarter</th>\n",
       "      <th>rating_academic</th>\n",
       "      <th>rating_financial</th>\n",
       "      <th>type</th>\n",
       "      <th>type_description</th>\n",
       "      <th>cntyname</th>\n",
       "      <th>...</th>\n",
       "      <th>district_status</th>\n",
       "      <th>type_urban</th>\n",
       "      <th>type_suburban</th>\n",
       "      <th>type_town</th>\n",
       "      <th>type_rural</th>\n",
       "      <th>eligible</th>\n",
       "      <th>teachers_nodegree</th>\n",
       "      <th>teachers_badegree</th>\n",
       "      <th>teachers_msdegree</th>\n",
       "      <th>teachers_phddegree</th>\n",
       "    </tr>\n",
       "  </thead>\n",
       "  <tbody>\n",
       "    <tr>\n",
       "      <th>2561</th>\n",
       "      <td>2561</td>\n",
       "      <td>2014</td>\n",
       "      <td>19902</td>\n",
       "      <td>HOOKS ISD</td>\n",
       "      <td>N</td>\n",
       "      <td>M</td>\n",
       "      <td>NaN</td>\n",
       "      <td>G</td>\n",
       "      <td>NON-METROPOLITAN STABLE</td>\n",
       "      <td>BOWIE</td>\n",
       "      <td>...</td>\n",
       "      <td>doi</td>\n",
       "      <td>0</td>\n",
       "      <td>0</td>\n",
       "      <td>1</td>\n",
       "      <td>0</td>\n",
       "      <td>1</td>\n",
       "      <td>0.000000</td>\n",
       "      <td>0.796148</td>\n",
       "      <td>0.203852</td>\n",
       "      <td>0.0</td>\n",
       "    </tr>\n",
       "    <tr>\n",
       "      <th>4999</th>\n",
       "      <td>4999</td>\n",
       "      <td>2016</td>\n",
       "      <td>18904</td>\n",
       "      <td>VALLEY MILLS ISD</td>\n",
       "      <td>N</td>\n",
       "      <td>M</td>\n",
       "      <td>Pass</td>\n",
       "      <td>H</td>\n",
       "      <td>RURAL</td>\n",
       "      <td>BOSQUE</td>\n",
       "      <td>...</td>\n",
       "      <td>doi</td>\n",
       "      <td>0</td>\n",
       "      <td>0</td>\n",
       "      <td>0</td>\n",
       "      <td>1</td>\n",
       "      <td>1</td>\n",
       "      <td>0.000000</td>\n",
       "      <td>0.782178</td>\n",
       "      <td>0.217822</td>\n",
       "      <td>0.0</td>\n",
       "    </tr>\n",
       "    <tr>\n",
       "      <th>3449</th>\n",
       "      <td>3449</td>\n",
       "      <td>2014</td>\n",
       "      <td>202905</td>\n",
       "      <td>WEST SABINE ISD</td>\n",
       "      <td>N</td>\n",
       "      <td>M</td>\n",
       "      <td>NaN</td>\n",
       "      <td>H</td>\n",
       "      <td>RURAL</td>\n",
       "      <td>SABINE</td>\n",
       "      <td>...</td>\n",
       "      <td>doi</td>\n",
       "      <td>0</td>\n",
       "      <td>0</td>\n",
       "      <td>0</td>\n",
       "      <td>1</td>\n",
       "      <td>1</td>\n",
       "      <td>0.000000</td>\n",
       "      <td>0.824153</td>\n",
       "      <td>0.175847</td>\n",
       "      <td>0.0</td>\n",
       "    </tr>\n",
       "    <tr>\n",
       "      <th>2456</th>\n",
       "      <td>2456</td>\n",
       "      <td>2014</td>\n",
       "      <td>1903</td>\n",
       "      <td>ELKHART ISD</td>\n",
       "      <td>N</td>\n",
       "      <td>M</td>\n",
       "      <td>NaN</td>\n",
       "      <td>G</td>\n",
       "      <td>NON-METROPOLITAN STABLE</td>\n",
       "      <td>ANDERSON</td>\n",
       "      <td>...</td>\n",
       "      <td>doi</td>\n",
       "      <td>0</td>\n",
       "      <td>0</td>\n",
       "      <td>1</td>\n",
       "      <td>0</td>\n",
       "      <td>1</td>\n",
       "      <td>0.000000</td>\n",
       "      <td>0.851481</td>\n",
       "      <td>0.148519</td>\n",
       "      <td>0.0</td>\n",
       "    </tr>\n",
       "    <tr>\n",
       "      <th>5999</th>\n",
       "      <td>5999</td>\n",
       "      <td>2016</td>\n",
       "      <td>228901</td>\n",
       "      <td>GROVETON ISD</td>\n",
       "      <td>N</td>\n",
       "      <td>M</td>\n",
       "      <td>Pass</td>\n",
       "      <td>H</td>\n",
       "      <td>RURAL</td>\n",
       "      <td>TRINITY</td>\n",
       "      <td>...</td>\n",
       "      <td>doi</td>\n",
       "      <td>0</td>\n",
       "      <td>0</td>\n",
       "      <td>0</td>\n",
       "      <td>1</td>\n",
       "      <td>1</td>\n",
       "      <td>0.047619</td>\n",
       "      <td>0.793651</td>\n",
       "      <td>0.158730</td>\n",
       "      <td>0.0</td>\n",
       "    </tr>\n",
       "  </tbody>\n",
       "</table>\n",
       "<p>5 rows × 321 columns</p>\n",
       "</div>"
      ],
      "text/plain": [
       "      Unnamed: 0  year  district          distname distischarter  \\\n",
       "2561        2561  2014     19902         HOOKS ISD             N   \n",
       "4999        4999  2016     18904  VALLEY MILLS ISD             N   \n",
       "3449        3449  2014    202905   WEST SABINE ISD             N   \n",
       "2456        2456  2014      1903       ELKHART ISD             N   \n",
       "5999        5999  2016    228901      GROVETON ISD             N   \n",
       "\n",
       "     rating_academic rating_financial type         type_description  cntyname  \\\n",
       "2561               M              NaN    G  NON-METROPOLITAN STABLE     BOWIE   \n",
       "4999               M             Pass    H                    RURAL    BOSQUE   \n",
       "3449               M              NaN    H                    RURAL    SABINE   \n",
       "2456               M              NaN    G  NON-METROPOLITAN STABLE  ANDERSON   \n",
       "5999               M             Pass    H                    RURAL   TRINITY   \n",
       "\n",
       "      ...  district_status  type_urban  type_suburban  type_town  type_rural  \\\n",
       "2561  ...              doi           0              0          1           0   \n",
       "4999  ...              doi           0              0          0           1   \n",
       "3449  ...              doi           0              0          0           1   \n",
       "2456  ...              doi           0              0          1           0   \n",
       "5999  ...              doi           0              0          0           1   \n",
       "\n",
       "      eligible  teachers_nodegree  teachers_badegree  teachers_msdegree  \\\n",
       "2561         1           0.000000           0.796148           0.203852   \n",
       "4999         1           0.000000           0.782178           0.217822   \n",
       "3449         1           0.000000           0.824153           0.175847   \n",
       "2456         1           0.000000           0.851481           0.148519   \n",
       "5999         1           0.047619           0.793651           0.158730   \n",
       "\n",
       "      teachers_phddegree  \n",
       "2561                 0.0  \n",
       "4999                 0.0  \n",
       "3449                 0.0  \n",
       "2456                 0.0  \n",
       "5999                 0.0  \n",
       "\n",
       "[5 rows x 321 columns]"
      ]
     },
     "execution_count": 3,
     "metadata": {},
     "output_type": "execute_result"
    }
   ],
   "source": [
    "data_path = '/Users/kylieleblancKylie/domino/dofis/data/'\n",
    "table_path = '/Users/kylieleblancKylie/domino/dofis/results/descriptive/'\n",
    "data = pd.read_csv(os.path.join(data_path, 'clean', 'master_data_district.csv'),\n",
    "                  sep=\",\")\n",
    "data.sample(5)"
   ]
  },
  {
   "cell_type": "code",
   "execution_count": 4,
   "metadata": {},
   "outputs": [
    {
     "data": {
      "text/plain": [
       "<matplotlib.axes._subplots.AxesSubplot at 0x1a1a4422b0>"
      ]
     },
     "execution_count": 4,
     "metadata": {},
     "output_type": "execute_result"
    },
    {
     "data": {
      "image/png": "[encoded data removed]",
      "text/plain": [
       "<Figure size 432x288 with 1 Axes>"
      ]
     },
     "metadata": {},
     "output_type": "display_data"
    }
   ],
   "source": [
    "data = data[data.year == 2016]\n",
    "data = data[data.doi == True]\n",
    "data.sample(5)\n",
    "data.teachers_turnover_ratio.hist()"
   ]
  },
  {
   "cell_type": "markdown",
   "metadata": {},
   "source": [
    "# Teacher Turnover"
   ]
  },
  {
   "cell_type": "code",
   "execution_count": 5,
   "metadata": {},
   "outputs": [
    {
     "data": {
      "text/html": [
       "<div>\n",
       "<style scoped>\n",
       "    .dataframe tbody tr th:only-of-type {\n",
       "        vertical-align: middle;\n",
       "    }\n",
       "\n",
       "    .dataframe tbody tr th {\n",
       "        vertical-align: top;\n",
       "    }\n",
       "\n",
       "    .dataframe thead th {\n",
       "        text-align: right;\n",
       "    }\n",
       "</style>\n",
       "<table border=\"1\" class=\"dataframe\">\n",
       "  <thead>\n",
       "    <tr style=\"text-align: right;\">\n",
       "      <th></th>\n",
       "      <th>bins</th>\n",
       "      <th>teachers_turnover_ratio</th>\n",
       "    </tr>\n",
       "  </thead>\n",
       "  <tbody>\n",
       "    <tr>\n",
       "      <th>5494</th>\n",
       "      <td>&lt;10%</td>\n",
       "      <td>4.6</td>\n",
       "    </tr>\n",
       "    <tr>\n",
       "      <th>5819</th>\n",
       "      <td>20%-30%</td>\n",
       "      <td>21.9</td>\n",
       "    </tr>\n",
       "    <tr>\n",
       "      <th>5891</th>\n",
       "      <td>NaN</td>\n",
       "      <td>0.0</td>\n",
       "    </tr>\n",
       "    <tr>\n",
       "      <th>5148</th>\n",
       "      <td>20%-30%</td>\n",
       "      <td>29.7</td>\n",
       "    </tr>\n",
       "    <tr>\n",
       "      <th>5795</th>\n",
       "      <td>10%-20%</td>\n",
       "      <td>13.5</td>\n",
       "    </tr>\n",
       "  </tbody>\n",
       "</table>\n",
       "</div>"
      ],
      "text/plain": [
       "         bins  teachers_turnover_ratio\n",
       "5494     <10%                      4.6\n",
       "5819  20%-30%                     21.9\n",
       "5891      NaN                      0.0\n",
       "5148  20%-30%                     29.7\n",
       "5795  10%-20%                     13.5"
      ]
     },
     "execution_count": 5,
     "metadata": {},
     "output_type": "execute_result"
    }
   ],
   "source": [
    "bins = [0,10, 20, 30, 100]\n",
    "labels = ['<10%', '10%-20%', '20%-30%', '>30%']\n",
    "data['bins']  = pd.cut(data['teachers_turnover_ratio'], bins, labels = labels)\n",
    "data[['bins', 'teachers_turnover_ratio']].sample(5)"
   ]
  },
  {
   "cell_type": "code",
   "execution_count": 6,
   "metadata": {},
   "outputs": [],
   "source": [
    "data['bin10'] = np.where(data.bins == '<10%', 1, 0)\n",
    "data['bin20'] = np.where(data.bins == '10%-20%', 1, 0)\n",
    "data['bin30'] = np.where(data.bins == '20%-30%', 1, 0)\n",
    "data['bin100'] = np.where(data.bins == '>30%', 1, 0)"
   ]
  },
  {
   "cell_type": "code",
   "execution_count": 7,
   "metadata": {},
   "outputs": [
    {
     "data": {
      "text/plain": [
       "[413, 230, 95, 74]"
      ]
     },
     "execution_count": 7,
     "metadata": {},
     "output_type": "execute_result"
    }
   ],
   "source": [
    "list(data.bins.value_counts())"
   ]
  },
  {
   "cell_type": "code",
   "execution_count": 8,
   "metadata": {},
   "outputs": [],
   "source": [
    "def create_count_proportion_df(data, list_of_regs):\n",
    "    n_col = []\n",
    "    p_10 = []\n",
    "    p_20 = []\n",
    "    p_30 = []\n",
    "    p_100 = []\n",
    "    reg_labels = []\n",
    "    f_p = []\n",
    "\n",
    "    for reg in list_of_regs:\n",
    "        n_col.append((len(data[data[reg] == 1])))\n",
    "        p_10.append(data[data.bin10 == 1][reg].mean().round(2))\n",
    "        p_20.append(data[data.bin20 == 1][reg].mean().round(2))\n",
    "        p_30.append(data[data.bin30 == 1][reg].mean().round(2))\n",
    "        p_100.append(data[data.bin100 == 1][reg].mean().round(2))\n",
    "        reg_labels.append(regulations.labels[reg])\n",
    "        formula = reg + '~ bin20 + bin30 + bin100'\n",
    "        df = data.dropna(subset=['students_hisp', reg])\n",
    "        results = smf.ols(formula, data=df).fit()\n",
    "        f_p.append(results.f_pvalue.round(2))\n",
    "\n",
    "    df = pd.DataFrame(\n",
    "            {'Regulation': reg_labels,\n",
    "             'Count': n_col,\n",
    "             '<10%': p_10,\n",
    "             '10%-20%': p_20,\n",
    "             '20%-30%': p_30,\n",
    "             '>30%': p_100,\n",
    "             'F-test p-value': f_p\n",
    "             })\n",
    "    return df"
   ]
  },
  {
   "cell_type": "code",
   "execution_count": 9,
   "metadata": {},
   "outputs": [
    {
     "name": "stderr",
     "output_type": "stream",
     "text": [
      "/Users/kylieleblancKylie/anaconda/envs/spacy/lib/python3.7/site-packages/statsmodels/compat/pandas.py:49: FutureWarning: The Panel class is removed from pandas. Accessing it from the top-level namespace will also be removed in the next version\n",
      "  data_klasses = (pandas.Series, pandas.DataFrame, pandas.Panel)\n"
     ]
    },
    {
     "data": {
      "text/html": [
       "<div>\n",
       "<style scoped>\n",
       "    .dataframe tbody tr th:only-of-type {\n",
       "        vertical-align: middle;\n",
       "    }\n",
       "\n",
       "    .dataframe tbody tr th {\n",
       "        vertical-align: top;\n",
       "    }\n",
       "\n",
       "    .dataframe thead th {\n",
       "        text-align: right;\n",
       "    }\n",
       "</style>\n",
       "<table border=\"1\" class=\"dataframe\">\n",
       "  <thead>\n",
       "    <tr style=\"text-align: right;\">\n",
       "      <th></th>\n",
       "      <th>Regulation</th>\n",
       "      <th>Count</th>\n",
       "      <th>&lt;10%</th>\n",
       "      <th>10%-20%</th>\n",
       "      <th>20%-30%</th>\n",
       "      <th>&gt;30%</th>\n",
       "      <th>F-test p-value</th>\n",
       "    </tr>\n",
       "  </thead>\n",
       "  <tbody>\n",
       "    <tr>\n",
       "      <th>0</th>\n",
       "      <td>25.0811 - Minimum First Day of Instruction</td>\n",
       "      <td>798</td>\n",
       "      <td>0.98</td>\n",
       "      <td>0.96</td>\n",
       "      <td>0.98</td>\n",
       "      <td>0.97</td>\n",
       "      <td>0.66</td>\n",
       "    </tr>\n",
       "    <tr>\n",
       "      <th>1</th>\n",
       "      <td>25.081 - Minimum Minutes of Operation</td>\n",
       "      <td>356</td>\n",
       "      <td>0.42</td>\n",
       "      <td>0.42</td>\n",
       "      <td>0.44</td>\n",
       "      <td>0.49</td>\n",
       "      <td>0.77</td>\n",
       "    </tr>\n",
       "    <tr>\n",
       "      <th>2</th>\n",
       "      <td>25.0812 - Minimum Last Day of Instruction</td>\n",
       "      <td>231</td>\n",
       "      <td>0.31</td>\n",
       "      <td>0.27</td>\n",
       "      <td>0.32</td>\n",
       "      <td>0.20</td>\n",
       "      <td>0.26</td>\n",
       "    </tr>\n",
       "    <tr>\n",
       "      <th>3</th>\n",
       "      <td>25.082 - Pledge of Allegiance and Minute of Si...</td>\n",
       "      <td>208</td>\n",
       "      <td>0.21</td>\n",
       "      <td>0.26</td>\n",
       "      <td>0.27</td>\n",
       "      <td>0.23</td>\n",
       "      <td>0.75</td>\n",
       "    </tr>\n",
       "  </tbody>\n",
       "</table>\n",
       "</div>"
      ],
      "text/plain": [
       "                                          Regulation  Count  <10%  10%-20%  \\\n",
       "0         25.0811 - Minimum First Day of Instruction    798  0.98     0.96   \n",
       "1              25.081 - Minimum Minutes of Operation    356  0.42     0.42   \n",
       "2          25.0812 - Minimum Last Day of Instruction    231  0.31     0.27   \n",
       "3  25.082 - Pledge of Allegiance and Minute of Si...    208  0.21     0.26   \n",
       "\n",
       "   20%-30%  >30%  F-test p-value  \n",
       "0     0.98  0.97            0.66  \n",
       "1     0.44  0.49            0.77  \n",
       "2     0.32  0.20            0.26  \n",
       "3     0.27  0.23            0.75  "
      ]
     },
     "execution_count": 9,
     "metadata": {},
     "output_type": "execute_result"
    }
   ],
   "source": [
    "columns = ['Count', '<10%', '10%-20%', '20%-30%', '>30%', 'F-test p-value']\n",
    "schedules_df = create_count_proportion_df(data, list_of_regs = regulations.schedules)\n",
    "tables.df_to_excel(file = table_path + 'desc_exemptionsXturnover.xlsx', df = schedules_df,\n",
    "                  df_columns = columns, start_row = 5, start_col = 3)\n",
    "schedules_df"
   ]
  },
  {
   "cell_type": "code",
   "execution_count": 10,
   "metadata": {},
   "outputs": [
    {
     "data": {
      "text/html": [
       "<div>\n",
       "<style scoped>\n",
       "    .dataframe tbody tr th:only-of-type {\n",
       "        vertical-align: middle;\n",
       "    }\n",
       "\n",
       "    .dataframe tbody tr th {\n",
       "        vertical-align: top;\n",
       "    }\n",
       "\n",
       "    .dataframe thead th {\n",
       "        text-align: right;\n",
       "    }\n",
       "</style>\n",
       "<table border=\"1\" class=\"dataframe\">\n",
       "  <thead>\n",
       "    <tr style=\"text-align: right;\">\n",
       "      <th></th>\n",
       "      <th>Regulation</th>\n",
       "      <th>Count</th>\n",
       "      <th>&lt;10%</th>\n",
       "      <th>10%-20%</th>\n",
       "      <th>20%-30%</th>\n",
       "      <th>&gt;30%</th>\n",
       "      <th>F-test p-value</th>\n",
       "    </tr>\n",
       "  </thead>\n",
       "  <tbody>\n",
       "    <tr>\n",
       "      <th>0</th>\n",
       "      <td>25.112 - Class Size Maximum</td>\n",
       "      <td>363</td>\n",
       "      <td>0.44</td>\n",
       "      <td>0.45</td>\n",
       "      <td>0.44</td>\n",
       "      <td>0.43</td>\n",
       "      <td>0.99</td>\n",
       "    </tr>\n",
       "    <tr>\n",
       "      <th>1</th>\n",
       "      <td>25.113 - Notice of Class Size</td>\n",
       "      <td>299</td>\n",
       "      <td>0.36</td>\n",
       "      <td>0.36</td>\n",
       "      <td>0.36</td>\n",
       "      <td>0.41</td>\n",
       "      <td>0.89</td>\n",
       "    </tr>\n",
       "    <tr>\n",
       "      <th>2</th>\n",
       "      <td>25.111 - Maximum Student Teacher Ratio</td>\n",
       "      <td>127</td>\n",
       "      <td>0.12</td>\n",
       "      <td>0.17</td>\n",
       "      <td>0.14</td>\n",
       "      <td>0.14</td>\n",
       "      <td>0.54</td>\n",
       "    </tr>\n",
       "  </tbody>\n",
       "</table>\n",
       "</div>"
      ],
      "text/plain": [
       "                               Regulation  Count  <10%  10%-20%  20%-30%  \\\n",
       "0             25.112 - Class Size Maximum    363  0.44     0.45     0.44   \n",
       "1           25.113 - Notice of Class Size    299  0.36     0.36     0.36   \n",
       "2  25.111 - Maximum Student Teacher Ratio    127  0.12     0.17     0.14   \n",
       "\n",
       "   >30%  F-test p-value  \n",
       "0  0.43            0.99  \n",
       "1  0.41            0.89  \n",
       "2  0.14            0.54  "
      ]
     },
     "execution_count": 10,
     "metadata": {},
     "output_type": "execute_result"
    }
   ],
   "source": [
    "class_size_df = create_count_proportion_df(data, list_of_regs = regulations.class_size)\n",
    "tables.df_to_excel(file = table_path + 'desc_exemptionsXturnover.xlsx', df = class_size_df,\n",
    "                  df_columns = columns, start_row = 10, start_col = 3)\n",
    "class_size_df"
   ]
  },
  {
   "cell_type": "code",
   "execution_count": 11,
   "metadata": {},
   "outputs": [
    {
     "data": {
      "text/html": [
       "<div>\n",
       "<style scoped>\n",
       "    .dataframe tbody tr th:only-of-type {\n",
       "        vertical-align: middle;\n",
       "    }\n",
       "\n",
       "    .dataframe tbody tr th {\n",
       "        vertical-align: top;\n",
       "    }\n",
       "\n",
       "    .dataframe thead th {\n",
       "        text-align: right;\n",
       "    }\n",
       "</style>\n",
       "<table border=\"1\" class=\"dataframe\">\n",
       "  <thead>\n",
       "    <tr style=\"text-align: right;\">\n",
       "      <th></th>\n",
       "      <th>Regulation</th>\n",
       "      <th>Count</th>\n",
       "      <th>&lt;10%</th>\n",
       "      <th>10%-20%</th>\n",
       "      <th>20%-30%</th>\n",
       "      <th>&gt;30%</th>\n",
       "      <th>F-test p-value</th>\n",
       "    </tr>\n",
       "  </thead>\n",
       "  <tbody>\n",
       "    <tr>\n",
       "      <th>0</th>\n",
       "      <td>21.003 - Teacher Certification Required</td>\n",
       "      <td>714</td>\n",
       "      <td>0.87</td>\n",
       "      <td>0.88</td>\n",
       "      <td>0.85</td>\n",
       "      <td>0.92</td>\n",
       "      <td>0.37</td>\n",
       "    </tr>\n",
       "    <tr>\n",
       "      <th>1</th>\n",
       "      <td>21.053 - Presentation of Teacher Certificates</td>\n",
       "      <td>240</td>\n",
       "      <td>0.32</td>\n",
       "      <td>0.28</td>\n",
       "      <td>0.31</td>\n",
       "      <td>0.28</td>\n",
       "      <td>0.88</td>\n",
       "    </tr>\n",
       "    <tr>\n",
       "      <th>2</th>\n",
       "      <td>21.057 - Notice of Uncertified Teacher</td>\n",
       "      <td>271</td>\n",
       "      <td>0.36</td>\n",
       "      <td>0.29</td>\n",
       "      <td>0.37</td>\n",
       "      <td>0.41</td>\n",
       "      <td>0.11</td>\n",
       "    </tr>\n",
       "  </tbody>\n",
       "</table>\n",
       "</div>"
      ],
      "text/plain": [
       "                                      Regulation  Count  <10%  10%-20%  \\\n",
       "0        21.003 - Teacher Certification Required    714  0.87     0.88   \n",
       "1  21.053 - Presentation of Teacher Certificates    240  0.32     0.28   \n",
       "2         21.057 - Notice of Uncertified Teacher    271  0.36     0.29   \n",
       "\n",
       "   20%-30%  >30%  F-test p-value  \n",
       "0     0.85  0.92            0.37  \n",
       "1     0.31  0.28            0.88  \n",
       "2     0.37  0.41            0.11  "
      ]
     },
     "execution_count": 11,
     "metadata": {},
     "output_type": "execute_result"
    }
   ],
   "source": [
    "certification_df = create_count_proportion_df(data, \n",
    "                                                 list_of_regs = regulations.certification)\n",
    "tables.df_to_excel(file = table_path + 'desc_exemptionsXturnover.xlsx', df = certification_df,\n",
    "                  df_columns = columns, start_row = 14, start_col = 3)\n",
    "certification_df"
   ]
  },
  {
   "cell_type": "code",
   "execution_count": 12,
   "metadata": {},
   "outputs": [
    {
     "data": {
      "text/html": [
       "<div>\n",
       "<style scoped>\n",
       "    .dataframe tbody tr th:only-of-type {\n",
       "        vertical-align: middle;\n",
       "    }\n",
       "\n",
       "    .dataframe tbody tr th {\n",
       "        vertical-align: top;\n",
       "    }\n",
       "\n",
       "    .dataframe thead th {\n",
       "        text-align: right;\n",
       "    }\n",
       "</style>\n",
       "<table border=\"1\" class=\"dataframe\">\n",
       "  <thead>\n",
       "    <tr style=\"text-align: right;\">\n",
       "      <th></th>\n",
       "      <th>Regulation</th>\n",
       "      <th>Count</th>\n",
       "      <th>&lt;10%</th>\n",
       "      <th>10%-20%</th>\n",
       "      <th>20%-30%</th>\n",
       "      <th>&gt;30%</th>\n",
       "      <th>F-test p-value</th>\n",
       "    </tr>\n",
       "  </thead>\n",
       "  <tbody>\n",
       "    <tr>\n",
       "      <th>0</th>\n",
       "      <td>21.102 - Maximum Probationary Contract Length</td>\n",
       "      <td>419</td>\n",
       "      <td>0.45</td>\n",
       "      <td>0.49</td>\n",
       "      <td>0.56</td>\n",
       "      <td>0.57</td>\n",
       "      <td>0.13</td>\n",
       "    </tr>\n",
       "    <tr>\n",
       "      <th>1</th>\n",
       "      <td>21.401 - Minimum Service Days Required for Tea...</td>\n",
       "      <td>290</td>\n",
       "      <td>0.42</td>\n",
       "      <td>0.27</td>\n",
       "      <td>0.40</td>\n",
       "      <td>0.57</td>\n",
       "      <td>0.00</td>\n",
       "    </tr>\n",
       "    <tr>\n",
       "      <th>2</th>\n",
       "      <td>21.352 - Teacher Evaluation</td>\n",
       "      <td>166</td>\n",
       "      <td>0.23</td>\n",
       "      <td>0.20</td>\n",
       "      <td>0.19</td>\n",
       "      <td>0.19</td>\n",
       "      <td>0.74</td>\n",
       "    </tr>\n",
       "    <tr>\n",
       "      <th>3</th>\n",
       "      <td>21.354 - Administrator Evaluation</td>\n",
       "      <td>46</td>\n",
       "      <td>0.11</td>\n",
       "      <td>0.05</td>\n",
       "      <td>0.04</td>\n",
       "      <td>0.05</td>\n",
       "      <td>0.11</td>\n",
       "    </tr>\n",
       "  </tbody>\n",
       "</table>\n",
       "</div>"
      ],
      "text/plain": [
       "                                          Regulation  Count  <10%  10%-20%  \\\n",
       "0      21.102 - Maximum Probationary Contract Length    419  0.45     0.49   \n",
       "1  21.401 - Minimum Service Days Required for Tea...    290  0.42     0.27   \n",
       "2                        21.352 - Teacher Evaluation    166  0.23     0.20   \n",
       "3                  21.354 - Administrator Evaluation     46  0.11     0.05   \n",
       "\n",
       "   20%-30%  >30%  F-test p-value  \n",
       "0     0.56  0.57            0.13  \n",
       "1     0.40  0.57            0.00  \n",
       "2     0.19  0.19            0.74  \n",
       "3     0.04  0.05            0.11  "
      ]
     },
     "execution_count": 12,
     "metadata": {},
     "output_type": "execute_result"
    }
   ],
   "source": [
    "contracts_df = create_count_proportion_df(data, \n",
    "                                                 list_of_regs = regulations.contracts)\n",
    "tables.df_to_excel(file = table_path + 'desc_exemptionsXturnover.xlsx', df = contracts_df,\n",
    "                  df_columns = columns, start_row = 18, start_col = 3)\n",
    "contracts_df"
   ]
  },
  {
   "cell_type": "code",
   "execution_count": 13,
   "metadata": {},
   "outputs": [
    {
     "data": {
      "text/html": [
       "<div>\n",
       "<style scoped>\n",
       "    .dataframe tbody tr th:only-of-type {\n",
       "        vertical-align: middle;\n",
       "    }\n",
       "\n",
       "    .dataframe tbody tr th {\n",
       "        vertical-align: top;\n",
       "    }\n",
       "\n",
       "    .dataframe thead th {\n",
       "        text-align: right;\n",
       "    }\n",
       "</style>\n",
       "<table border=\"1\" class=\"dataframe\">\n",
       "  <thead>\n",
       "    <tr style=\"text-align: right;\">\n",
       "      <th></th>\n",
       "      <th>Regulation</th>\n",
       "      <th>Count</th>\n",
       "      <th>&lt;10%</th>\n",
       "      <th>10%-20%</th>\n",
       "      <th>20%-30%</th>\n",
       "      <th>&gt;30%</th>\n",
       "      <th>F-test p-value</th>\n",
       "    </tr>\n",
       "  </thead>\n",
       "  <tbody>\n",
       "    <tr>\n",
       "      <th>0</th>\n",
       "      <td>25.092 - Minimum Attendance for Class Credit</td>\n",
       "      <td>214</td>\n",
       "      <td>0.18</td>\n",
       "      <td>0.30</td>\n",
       "      <td>0.22</td>\n",
       "      <td>0.30</td>\n",
       "      <td>0.01</td>\n",
       "    </tr>\n",
       "    <tr>\n",
       "      <th>1</th>\n",
       "      <td>37.0012 - Designation of Campus Behavior Coord...</td>\n",
       "      <td>178</td>\n",
       "      <td>0.21</td>\n",
       "      <td>0.25</td>\n",
       "      <td>0.17</td>\n",
       "      <td>0.19</td>\n",
       "      <td>0.13</td>\n",
       "    </tr>\n",
       "    <tr>\n",
       "      <th>2</th>\n",
       "      <td>25.036 - Transfers</td>\n",
       "      <td>178</td>\n",
       "      <td>0.26</td>\n",
       "      <td>0.16</td>\n",
       "      <td>0.26</td>\n",
       "      <td>0.34</td>\n",
       "      <td>0.00</td>\n",
       "    </tr>\n",
       "  </tbody>\n",
       "</table>\n",
       "</div>"
      ],
      "text/plain": [
       "                                          Regulation  Count  <10%  10%-20%  \\\n",
       "0       25.092 - Minimum Attendance for Class Credit    214  0.18     0.30   \n",
       "1  37.0012 - Designation of Campus Behavior Coord...    178  0.21     0.25   \n",
       "2                                 25.036 - Transfers    178  0.26     0.16   \n",
       "\n",
       "   20%-30%  >30%  F-test p-value  \n",
       "0     0.22  0.30            0.01  \n",
       "1     0.17  0.19            0.13  \n",
       "2     0.26  0.34            0.00  "
      ]
     },
     "execution_count": 13,
     "metadata": {},
     "output_type": "execute_result"
    }
   ],
   "source": [
    "behavior_df = create_count_proportion_df(data, \n",
    "                                                 list_of_regs = regulations.behavior)\n",
    "tables.df_to_excel(file = table_path + 'desc_exemptionsXturnover.xlsx', df = behavior_df,\n",
    "                  df_columns = columns, start_row = 23, start_col = 3)\n",
    "behavior_df"
   ]
  },
  {
   "cell_type": "markdown",
   "metadata": {},
   "source": [
    "# Scatter plot"
   ]
  },
  {
   "cell_type": "code",
   "execution_count": 14,
   "metadata": {},
   "outputs": [],
   "source": [
    "bins = [0, 5, 10, 15, 20, 25, 30, 100]\n",
    "labels = ['5%', '10%', '15%', '20%', '25%', '30%', '35%+']\n",
    "data['bins']  = pd.cut(data['teachers_turnover_ratio'], bins, labels = labels)\n"
   ]
  },
  {
   "cell_type": "code",
   "execution_count": 15,
   "metadata": {},
   "outputs": [
    {
     "data": {
      "image/png": "[encoded data removed]",
      "text/plain": [
       "<Figure size 432x288 with 1 Axes>"
      ]
     },
     "metadata": {},
     "output_type": "display_data"
    }
   ],
   "source": [
    "df = data[['bins', 'reg21_401']].groupby('bins')['reg21_401'].describe().reset_index().rename(columns = {'mean': 'p'})\n",
    "plt.scatter(df.bins, df.p, s = df['count'])\n",
    "\n",
    "plt.ylabel('Proportion Exempting Statute 21.401')\n",
    "plt.xlabel('Percent Teachers Turning Over in 2016')\n",
    "plt.title('Minimum Service Exemption by Percent Teacher Turnover')\n",
    "\n",
    "pws = (pd.cut(df['count'], bins=4, retbins=True)[1]).round(0)\n",
    "for pw in pws:\n",
    "    plt.scatter([], [], s=df['count'], c=\"k\",label=str(pw))\n",
    "\n",
    "#h, l = plt.gca().get_legend_handles_labels()\n",
    "#plt.legend(h[5:], l[5:], labelspacing=1.2, title=\"Count\", borderpad=1, \n",
    "#            frameon=True, framealpha=0.9, loc=4, numpoints=1)\n",
    "\n",
    "plt.gca()\n",
    "\n",
    "plt.tight_layout()\n",
    "plt.savefig(table_path + 'scatter_turnover_service.png', dpi = 800)\n",
    "plt.show()"
   ]
  },
  {
   "cell_type": "code",
   "execution_count": 72,
   "metadata": {},
   "outputs": [
    {
     "data": {
      "text/plain": [
       "array([ 13.,  63., 114., 164., 214.])"
      ]
     },
     "execution_count": 72,
     "metadata": {},
     "output_type": "execute_result"
    }
   ],
   "source": [
    "pws"
   ]
  },
  {
   "cell_type": "code",
   "execution_count": 82,
   "metadata": {},
   "outputs": [
    {
     "data": {
      "text/plain": [
       "<matplotlib.axes._subplots.AxesSubplot at 0x1a19b6cfd0>"
      ]
     },
     "execution_count": 82,
     "metadata": {},
     "output_type": "execute_result"
    },
    {
     "data": {
      "image/png": "[encoded data removed]",
      "text/plain": [
       "<Figure size 432x288 with 1 Axes>"
      ]
     },
     "metadata": {},
     "output_type": "display_data"
    }
   ],
   "source": [
    "df = data[['bins', 'reg21_354']].groupby('bins')['reg21_354'].describe().reset_index().rename(columns = {'mean': 'p'})\n",
    "\n",
    "plt.scatter(df.bins, df.p, s = df['count'])\n",
    "\n",
    "plt.ylabel('Proportion Exempting Statute 21.354')\n",
    "plt.xlabel('Percent Teachers Turning Over in 2016')\n",
    "plt.title('Teacher Turnover as a Predictor of Exempting Principal Evaluation Requirements')\n",
    "\n",
    "pws = (pd.cut(df['count'], bins=4, retbins=True)[1]).round(0)\n",
    "for pw in pws:\n",
    "    plt.scatter([], [], s=df['count'], c=\"k\",label=str(pw))\n",
    "\n",
    "h, l = plt.gca().get_legend_handles_labels()\n",
    "plt.legend(h[5:], l[5:], labelspacing=1.2, title=\"Count\", borderpad=1, \n",
    "            frameon=True, framealpha=0.9, loc=4, numpoints=1)\n",
    "\n",
    "plt.gca()"
   ]
  },
  {
   "cell_type": "code",
   "execution_count": 20,
   "metadata": {},
   "outputs": [
    {
     "data": {
      "image/png": "[encoded data removed]",
      "text/plain": [
       "<Figure size 432x288 with 1 Axes>"
      ]
     },
     "metadata": {},
     "output_type": "display_data"
    }
   ],
   "source": [
    "df = data[['bins', 'reg25_092']].groupby('bins')['reg25_092'].describe().reset_index().rename(columns = {'mean': 'p'})\n",
    "\n",
    "plt.scatter(df.bins, df.p, s = df['count'])\n",
    "\n",
    "plt.ylabel('Proportion Exempting Statute 25.092')\n",
    "plt.xlabel('Percent Teachers Turning Over in 2016')\n",
    "plt.title('Minimum Attendence Exemptions by Percent Teacher Turnover')\n",
    "\n",
    "pws = (pd.cut(df['count'], bins=4, retbins=True)[1]).round(0)\n",
    "for pw in pws:\n",
    "    plt.scatter([], [], s=df['count'], c=\"k\",label=str(pw))\n",
    "\n",
    "#h, l = plt.gca().get_legend_handles_labels()\n",
    "#plt.legend(h[5:], l[5:], labelspacing=1.2, title=\"Count\", borderpad=1, \n",
    "#            frameon=True, framealpha=0.9, loc=4, numpoints=1)\n",
    "\n",
    "plt.gca()\n",
    "\n",
    "plt.tight_layout()\n",
    "plt.savefig(table_path + 'scatter_turnover_attendance.png', dpi = 800)\n",
    "plt.show()"
   ]
  },
  {
   "cell_type": "code",
   "execution_count": 19,
   "metadata": {},
   "outputs": [
    {
     "data": {
      "image/png": "[encoded data removed]",
      "text/plain": [
       "<Figure size 432x288 with 1 Axes>"
      ]
     },
     "metadata": {},
     "output_type": "display_data"
    }
   ],
   "source": [
    "df = data[['bins', 'reg25_036']].groupby('bins')['reg25_036'].describe().reset_index().rename(columns = {'mean': 'p'})\n",
    "\n",
    "plt.scatter(df.bins, df.p, s = df['count'])\n",
    "\n",
    "plt.ylabel('Proportion Exempting Statute 25.036')\n",
    "plt.xlabel('Percent Teachers Turning Over in 2016')\n",
    "plt.title('Student Transfer Exemption by Percent Teacher Turnover')\n",
    "\n",
    "pws = (pd.cut(df['count'], bins=4, retbins=True)[1]).round(0)\n",
    "for pw in pws:\n",
    "    plt.scatter([], [], s=df['count'], c=\"k\",label=str(pw))\n",
    "\n",
    "#h, l = plt.gca().get_legend_handles_labels()\n",
    "#plt.legend(h[5:], l[5:], labelspacing=1.2, title=\"Count\", borderpad=1, \n",
    "#            frameon=True, framealpha=0.9, loc=4, numpoints=1)\n",
    "\n",
    "plt.gca()\n",
    "plt.tight_layout()\n",
    "plt.savefig(table_path + 'scatter_turnover_transfer.png', dpi = 800)\n",
    "plt.show()"
   ]
  },
  {
   "cell_type": "code",
   "execution_count": null,
   "metadata": {},
   "outputs": [],
   "source": []
  }
 ],
 "metadata": {
  "kernelspec": {
   "display_name": "Python [conda env:spacy]",
   "language": "python",
   "name": "conda-env-spacy-py"
  },
  "language_info": {
   "codemirror_mode": {
    "name": "ipython",
    "version": 3
   },
   "file_extension": ".py",
   "mimetype": "text/x-python",
   "name": "python",
   "nbconvert_exporter": "python",
   "pygments_lexer": "ipython3",
   "version": "3.7.2"
  }
 },
 "nbformat": 4,
 "nbformat_minor": 2
}
