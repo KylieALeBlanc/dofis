{
 "cells": [
  {
   "cell_type": "code",
   "execution_count": 1,
   "metadata": {},
   "outputs": [
    {
     "name": "stderr",
     "output_type": "stream",
     "text": [
      "/Users/kylieleblancKylie/anaconda/envs/spacy/lib/python3.7/site-packages/sklearn/utils/__init__.py:4: DeprecationWarning: Using or importing the ABCs from 'collections' instead of from 'collections.abc' is deprecated, and in 3.8 it will stop working\n",
      "  from collections import Sequence\n"
     ]
    }
   ],
   "source": [
    "import pandas as pd\n",
    "import os\n",
    "import re\n",
    "\n",
    "import topic_modeling\n",
    "\n",
    "from nltk.corpus import stopwords \n",
    "from nltk.stem.wordnet import WordNetLemmatizer\n",
    "import string\n",
    "import gensim\n",
    "from gensim import corpora"
   ]
  },
  {
   "cell_type": "code",
   "execution_count": 2,
   "metadata": {},
   "outputs": [
    {
     "data": {
      "text/plain": [
       "\"|25.092 TEC §25.092 declares A student in any grade level from kindergarten through grade 12 may not be given credit or a final grade for a class unless the student is in attendance for at least 90 Class Size requirement Exemption from: TEC §|25.092 declares A student in any grade level from kindergarten through grade 12 may not be given credit or a final grade for a class unless the student is in attendance for at least 90 Class Size requirement Exemption from: TEC §|25.092, the district can abstain from penalizing students who miss class time due to extra- and co-curricular activities, academic activities, and/or other extenuating circumstances enabling the district to accommodate students with legitimate scheduling conflicts while reducing dropouts and increasing the number of qualifying graduates. Note that relief from Sec. 25.092 does not in any way impact or alter existing compulsory attendance requirements or University Interscholastic League (UIL) rules. Furthermore, in no way does this exemption limit a teacher's right to determine the finality of a grade in accordance with Texas Education Code Sec.|25.092 does not in any way impact or alter existing compulsory attendance requirements or University Interscholastic League (UIL) rules. Furthermore, in no way does this exemption limit a teacher's right to determine the finality of a grade in accordance with Texas Education Code Sec.\""
      ]
     },
     "execution_count": 2,
     "metadata": {},
     "output_type": "execute_result"
    }
   ],
   "source": [
    "data_path = '/Users/kylieleblancKylie/domino/dofis/data/'\n",
    "\n",
    "data = pd.read_csv(os.path.join(data_path, 'clean', 'phrases_attendance.csv'),\n",
    "                  sep=\",\")\n",
    "doc_complete = list(data['phrase'])\n",
    "doc_complete = [str(i) for i in doc_complete]\n",
    "doc_complete[0]"
   ]
  },
  {
   "cell_type": "code",
   "execution_count": 6,
   "metadata": {
    "collapsed": true
   },
   "outputs": [],
   "source": [
    "calendar_stop_words = ['attendance', 'credit', 'student', 'class']\n",
    "stop = topic_modeling.stop + calendar_stop_words\n",
    "stop = set(stop)"
   ]
  },
  {
   "cell_type": "code",
   "execution_count": 7,
   "metadata": {
    "collapsed": true
   },
   "outputs": [],
   "source": [
    "doc_clean = [topic_modeling.clean(doc).split() for doc in doc_complete] \n",
    "dictionary, matrix = topic_modeling.get_dict_and_matrix(doc_clean)"
   ]
  },
  {
   "cell_type": "code",
   "execution_count": 8,
   "metadata": {},
   "outputs": [
    {
     "name": "stdout",
     "output_type": "stream",
     "text": [
      "(0, '0.052*\"student\" + 0.035*\"class\" + 0.034*\"attendance\" + 0.032*\"grade\" + 0.026*\"credit\" + 0.019*\"final\" + 0.016*\"90\" + 0.016*\"requirement\" + 0.016*\"may\" + 0.015*\"percent\"')\n",
      "(1, '0.048*\"student\" + 0.023*\"way\" + 0.021*\"class\" + 0.020*\"section\" + 0.019*\"grade\" + 0.018*\"requirement\" + 0.017*\"25092\" + 0.016*\"accordance\" + 0.016*\"right\" + 0.015*\"credit\"')\n",
      "(2, '0.016*\"opportunity\" + 0.014*\"learning\" + 0.012*\"student\" + 0.011*\"service\" + 0.011*\"attendance\" + 0.011*\"learner\" + 0.011*\"90\" + 0.009*\"contact\" + 0.009*\"time\" + 0.008*\"engage\"')\n",
      "(3, '0.045*\"student\" + 0.021*\"class\" + 0.019*\"grade\" + 0.017*\"credit\" + 0.017*\"learning\" + 0.016*\"attendance\" + 0.011*\"exemption\" + 0.011*\"final\" + 0.010*\"day\" + 0.009*\"course\"')\n",
      "(4, '0.018*\"student\" + 0.011*\"objective\" + 0.011*\"learning\" + 0.011*\"provide\" + 0.011*\"opportunity\" + 0.011*\"performance\" + 0.010*\"•\" + 0.010*\"swisd\" + 0.009*\"community\" + 0.009*\"goal\"')\n"
     ]
    }
   ],
   "source": [
    "ldamodel = topic_modeling.run_lda(matrix = matrix, dictionary = dictionary, \n",
    "                                 num_topics = 5, passes = 50)\n",
    "for topic in ldamodel.print_topics(num_topics=10, num_words=10):\n",
    "    print(topic)"
   ]
  },
  {
   "cell_type": "code",
   "execution_count": null,
   "metadata": {
    "collapsed": true
   },
   "outputs": [],
   "source": []
  }
 ],
 "metadata": {
  "kernelspec": {
   "display_name": "Python [conda env:spacy]",
   "language": "python",
   "name": "conda-env-spacy-py"
  },
  "language_info": {
   "codemirror_mode": {
    "name": "ipython",
    "version": 3
   },
   "file_extension": ".py",
   "mimetype": "text/x-python",
   "name": "python",
   "nbconvert_exporter": "python",
   "pygments_lexer": "ipython3",
   "version": "3.7.0"
  }
 },
 "nbformat": 4,
 "nbformat_minor": 2
}
