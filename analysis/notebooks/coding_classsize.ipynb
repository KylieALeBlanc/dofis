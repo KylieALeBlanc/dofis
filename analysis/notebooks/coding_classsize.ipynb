{
 "cells": [
  {
   "cell_type": "code",
   "execution_count": 1,
   "metadata": {},
   "outputs": [],
   "source": [
    "import pandas as pd\n",
    "import os\n",
    "import re\n",
    "import spacy\n",
    "import en_core_web_sm\n",
    "from spacy.matcher import Matcher\n",
    "from IPython.display import clear_output"
   ]
  },
  {
   "cell_type": "code",
   "execution_count": 2,
   "metadata": {},
   "outputs": [
    {
     "data": {
      "text/html": [
       "<div>\n",
       "<style scoped>\n",
       "    .dataframe tbody tr th:only-of-type {\n",
       "        vertical-align: middle;\n",
       "    }\n",
       "\n",
       "    .dataframe tbody tr th {\n",
       "        vertical-align: top;\n",
       "    }\n",
       "\n",
       "    .dataframe thead th {\n",
       "        text-align: right;\n",
       "    }\n",
       "</style>\n",
       "<table border=\"1\" class=\"dataframe\">\n",
       "  <thead>\n",
       "    <tr style=\"text-align: right;\">\n",
       "      <th></th>\n",
       "      <th>Unnamed: 0</th>\n",
       "      <th>district</th>\n",
       "      <th>link</th>\n",
       "      <th>text</th>\n",
       "      <th>variable</th>\n",
       "      <th>value</th>\n",
       "      <th>phrase</th>\n",
       "    </tr>\n",
       "  </thead>\n",
       "  <tbody>\n",
       "    <tr>\n",
       "      <th>0</th>\n",
       "      <td>10712</td>\n",
       "      <td>Abbott ISD</td>\n",
       "      <td>https://www.abbottisd.org/ourpages/auto/2018/3...</td>\n",
       "      <td>1 Abbott Independent School District District ...</td>\n",
       "      <td>reg25_112</td>\n",
       "      <td>1</td>\n",
       "      <td>|25.112) CLASS SIZE. (A) Except as otherwise a...</td>\n",
       "    </tr>\n",
       "    <tr>\n",
       "      <th>1</th>\n",
       "      <td>10713</td>\n",
       "      <td>Abernathy ISD</td>\n",
       "      <td>https://1.cdn.edl.io/epGD4mZXjWUcPl8yA7IhlcDol...</td>\n",
       "      <td>Abernathy ISD District of Innovation Plan – Dr...</td>\n",
       "      <td>reg25_112</td>\n",
       "      <td>1</td>\n",
       "      <td>|25.112 requires districts to maintain a class...</td>\n",
       "    </tr>\n",
       "    <tr>\n",
       "      <th>2</th>\n",
       "      <td>10718</td>\n",
       "      <td>Alamo Heights ISD</td>\n",
       "      <td>http://www.ahisd.net/UserFiles/Servers/Server_...</td>\n",
       "      <td>1 | P a g e Mission Statement The Alamo Height...</td>\n",
       "      <td>reg25_112</td>\n",
       "      <td>1</td>\n",
       "      <td>|25.112) (Ed. Code 25.113) Current Statute: Ki...</td>\n",
       "    </tr>\n",
       "    <tr>\n",
       "      <th>3</th>\n",
       "      <td>10719</td>\n",
       "      <td>Albany ISD</td>\n",
       "      <td>http://www.albanyisd.net/uploads/4/4/4/1/44419...</td>\n",
       "      <td>Microsoft Word - innovation_plan.docx Albany I...</td>\n",
       "      <td>reg25_112</td>\n",
       "      <td>1</td>\n",
       "      <td>|25.112; TEC 25.113 EED LEGAL Currently Texas ...</td>\n",
       "    </tr>\n",
       "    <tr>\n",
       "      <th>4</th>\n",
       "      <td>10720</td>\n",
       "      <td>Aldine ISD</td>\n",
       "      <td>http://insidealdine.com/wp-content/uploads/201...</td>\n",
       "      <td>Aldine District of Innovation Plan Approved by...</td>\n",
       "      <td>reg25_112</td>\n",
       "      <td>1</td>\n",
       "      <td>|25.112 states (a) Except as otherwise authori...</td>\n",
       "    </tr>\n",
       "  </tbody>\n",
       "</table>\n",
       "</div>"
      ],
      "text/plain": [
       "   Unnamed: 0           district  \\\n",
       "0       10712         Abbott ISD   \n",
       "1       10713      Abernathy ISD   \n",
       "2       10718  Alamo Heights ISD   \n",
       "3       10719         Albany ISD   \n",
       "4       10720         Aldine ISD   \n",
       "\n",
       "                                                link  \\\n",
       "0  https://www.abbottisd.org/ourpages/auto/2018/3...   \n",
       "1  https://1.cdn.edl.io/epGD4mZXjWUcPl8yA7IhlcDol...   \n",
       "2  http://www.ahisd.net/UserFiles/Servers/Server_...   \n",
       "3  http://www.albanyisd.net/uploads/4/4/4/1/44419...   \n",
       "4  http://insidealdine.com/wp-content/uploads/201...   \n",
       "\n",
       "                                                text   variable  value  \\\n",
       "0  1 Abbott Independent School District District ...  reg25_112      1   \n",
       "1  Abernathy ISD District of Innovation Plan – Dr...  reg25_112      1   \n",
       "2  1 | P a g e Mission Statement The Alamo Height...  reg25_112      1   \n",
       "3  Microsoft Word - innovation_plan.docx Albany I...  reg25_112      1   \n",
       "4  Aldine District of Innovation Plan Approved by...  reg25_112      1   \n",
       "\n",
       "                                              phrase  \n",
       "0  |25.112) CLASS SIZE. (A) Except as otherwise a...  \n",
       "1  |25.112 requires districts to maintain a class...  \n",
       "2  |25.112) (Ed. Code 25.113) Current Statute: Ki...  \n",
       "3  |25.112; TEC 25.113 EED LEGAL Currently Texas ...  \n",
       "4  |25.112 states (a) Except as otherwise authori...  "
      ]
     },
     "execution_count": 2,
     "metadata": {},
     "output_type": "execute_result"
    }
   ],
   "source": [
    "data_path = '/Users/kylieleblancKylie/domino/dofis/data/'\n",
    "docs = pd.read_csv(os.path.join(data_path, 'clean', 'phrases_classsize.csv'),\n",
    "                  sep=\",\")\n",
    "docs.head()"
   ]
  },
  {
   "cell_type": "code",
   "execution_count": 3,
   "metadata": {},
   "outputs": [],
   "source": [
    "docs_to_label = docs.sample(n = 50, random_state = 45)\n",
    "docs_to_label = docs_to_label[['phrase', 'link']]\n",
    "docs_to_label = docs_to_label.rename({'phrase': 'text', 'link': 'source'}, axis = 1)\n",
    "#docs_to_label.to_csv(os.path.join(data_path, 'plans', 'certification_to_label.csv'), header = True)"
   ]
  },
  {
   "cell_type": "code",
   "execution_count": null,
   "metadata": {},
   "outputs": [],
   "source": [
    "if True:\n",
    "    teacher_matters_more = []\n",
    "    changes = []\n",
    "    for text, source in zip(docs_to_label.text[0:12], docs_to_label.source[0:12]):\n",
    "        show = str(source) + str(text)\n",
    "        \n",
    "        annotation = input(show + \"Say teachers matter more\")\n",
    "        teacher_matters_more.append(annotation)\n",
    "        \n",
    "        annotation = input(\"Mentions changing enrollmemt\")\n",
    "        changes.append(annotation)\n",
    "                     \n",
    "        clear_output()"
   ]
  },
  {
   "cell_type": "code",
   "execution_count": 14,
   "metadata": {},
   "outputs": [
    {
     "data": {
      "text/plain": [
       "['0', '1', '0', '1', '0', '0', '0', '1', '0', '0', '0', '0']"
      ]
     },
     "execution_count": 14,
     "metadata": {},
     "output_type": "execute_result"
    }
   ],
   "source": [
    "teacher_matters_more"
   ]
  },
  {
   "cell_type": "code",
   "execution_count": 16,
   "metadata": {},
   "outputs": [
    {
     "data": {
      "text/plain": [
       "['1', '0', '1', '0', '0', '0', '1', '0', '0', '0', '1', '0']"
      ]
     },
     "execution_count": 16,
     "metadata": {},
     "output_type": "execute_result"
    }
   ],
   "source": [
    "changes"
   ]
  },
  {
   "cell_type": "code",
   "execution_count": 17,
   "metadata": {},
   "outputs": [],
   "source": [
    "if True:\n",
    "    hiring = []\n",
    "    for text, source in zip(docs_to_label.text[0:12], docs_to_label.source[0:12]):\n",
    "        show = str(source) + str(text)\n",
    "        \n",
    "        annotation = input(show + \"Hiring logistics\")\n",
    "        hiring.append(annotation)\n",
    "        \n",
    "        clear_output()"
   ]
  },
  {
   "cell_type": "code",
   "execution_count": 19,
   "metadata": {},
   "outputs": [
    {
     "data": {
      "text/plain": [
       "['0', '0', '0', '1', '0', '0', '1', '0', '.', '1', '0', '0']"
      ]
     },
     "execution_count": 19,
     "metadata": {},
     "output_type": "execute_result"
    }
   ],
   "source": [
    "hiring"
   ]
  },
  {
   "cell_type": "code",
   "execution_count": null,
   "metadata": {
    "collapsed": true
   },
   "outputs": [],
   "source": []
  }
 ],
 "metadata": {
  "kernelspec": {
   "display_name": "Python [conda env:spacy]",
   "language": "python",
   "name": "conda-env-spacy-py"
  },
  "language_info": {
   "codemirror_mode": {
    "name": "ipython",
    "version": 3
   },
   "file_extension": ".py",
   "mimetype": "text/x-python",
   "name": "python",
   "nbconvert_exporter": "python",
   "pygments_lexer": "ipython3",
   "version": "3.7.2"
  }
 },
 "nbformat": 4,
 "nbformat_minor": 2
}
