{
 "cells": [
  {
   "cell_type": "code",
   "execution_count": 31,
   "metadata": {
    "collapsed": true
   },
   "outputs": [],
   "source": [
    "import sys\n",
    "sys.path.append(\"../\")\n",
    "\n",
    "import pandas as pd\n",
    "import os\n",
    "import statsmodels.formula.api as sm\n",
    "from openpyxl import load_workbook\n",
    "import numpy as np\n",
    "\n",
    "\n",
    "from library import regulations\n",
    "from library import analysis\n",
    "from library import tables"
   ]
  },
  {
   "cell_type": "code",
   "execution_count": 32,
   "metadata": {},
   "outputs": [
    {
     "name": "stderr",
     "output_type": "stream",
     "text": [
      "/Users/kylieleblancKylie/anaconda/envs/spacy/lib/python3.7/site-packages/IPython/core/interactiveshell.py:2785: DtypeWarning: Columns (7,8) have mixed types. Specify dtype option on import or set low_memory=False.\n",
      "  interactivity=interactivity, compiler=compiler, result=result)\n"
     ]
    }
   ],
   "source": [
    "data_path = '/Users/kylieleblancKylie/domino/dofis/data/'\n",
    "table_path = '/Users/kylieleblancKylie/domino/dofis/results/descriptive/'\n",
    "data = pd.read_csv(os.path.join(data_path, 'clean', 'master_data.csv'),\n",
    "                  sep=\",\")\n",
    "data = data[data.year == 'yr1415']"
   ]
  },
  {
   "cell_type": "code",
   "execution_count": 33,
   "metadata": {},
   "outputs": [],
   "source": [
    "data['shift'] = np.where((data['reg25_0811'] == True) & (data['reg25_0812'] == False), True, False)\n",
    "data['increase'] = np.where((data['reg25_0811'] == True) & (data['reg25_0812'] == True), True, False)\n",
    "data['shorten'] = np.where((data['reg25_0812'] == True) & (data['reg25_0811'] == False), True, False)"
   ]
  },
  {
   "cell_type": "code",
   "execution_count": 47,
   "metadata": {},
   "outputs": [],
   "source": [
    "wb = load_workbook(table_path + 'desc_scheduling.xlsx')\n",
    "ws = wb.active\n",
    "ws.cell(row = 3, column = 2).value = len(data[(data.reg25_081 == True) & (data.shorten == True)])\n",
    "ws.cell(row = 3, column = 3).value = len(data[(data.reg25_081 == True) & (data.shift == True)])\n",
    "ws.cell(row = 3, column = 4).value = len(data[(data.reg25_081 == True) & (data.increase == True)])\n",
    "\n",
    "ws.cell(row = 4, column = 2).value = len(data[(data.reg25_081 == False) & (data.shorten == True)])\n",
    "ws.cell(row = 4, column = 3).value = len(data[(data.reg25_081 == False) & (data.shift == True)])\n",
    "ws.cell(row = 4, column = 4).value = len(data[(data.reg25_081 == False) & (data.increase == True)])\n",
    "\n",
    "wb.save(table_path + 'desc_scheduling.xlsx')\n"
   ]
  },
  {
   "cell_type": "markdown",
   "metadata": {},
   "source": [
    "wb = load_workbook(table_path + 'desc_scheduling.xlsx')\n",
    "ws = wb.active\n",
    "ws.cell(row = 3, column = 2).value = data[data.reg25_0811 == True]['reg25_081'].mean()\n",
    "ws.cell(row = 4, column = 2).value = data[data.reg25_0811 == True]['reg25_082'].mean()\n",
    "ws.cell(row = 3, column = 3).value = data[data.reg25_0811 == False]['reg25_081'].mean()\n",
    "ws.cell(row = 4, column = 3).value = data[data.reg25_0811 == False]['reg25_082'].mean()\n",
    "wb.save(table_path + 'desc_scheduling.xlsx')\n"
   ]
  },
  {
   "cell_type": "code",
   "execution_count": null,
   "metadata": {
    "collapsed": true
   },
   "outputs": [],
   "source": []
  }
 ],
 "metadata": {
  "kernelspec": {
   "display_name": "Python [conda env:spacy]",
   "language": "python",
   "name": "conda-env-spacy-py"
  },
  "language_info": {
   "codemirror_mode": {
    "name": "ipython",
    "version": 3
   },
   "file_extension": ".py",
   "mimetype": "text/x-python",
   "name": "python",
   "nbconvert_exporter": "python",
   "pygments_lexer": "ipython3",
   "version": "3.7.0"
  }
 },
 "nbformat": 4,
 "nbformat_minor": 2
}
