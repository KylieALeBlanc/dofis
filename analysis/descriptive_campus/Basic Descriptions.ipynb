{
 "cells": [
  {
   "cell_type": "code",
   "execution_count": 21,
   "metadata": {},
   "outputs": [],
   "source": [
    "import sys\n",
    "sys.path.append(\"../\")\n",
    "\n",
    "import pandas as pd\n",
    "import os\n",
    "import re\n",
    "import numpy as np\n",
    "from library import tables"
   ]
  },
  {
   "cell_type": "code",
   "execution_count": 22,
   "metadata": {},
   "outputs": [
    {
     "name": "stderr",
     "output_type": "stream",
     "text": [
      "/Users/kylieleblancKylie/anaconda/envs/spacy/lib/python3.7/site-packages/IPython/core/interactiveshell.py:2785: DtypeWarning: Columns (8,9,10) have mixed types. Specify dtype option on import or set low_memory=False.\n",
      "  interactivity=interactivity, compiler=compiler, result=result)\n"
     ]
    },
    {
     "data": {
      "text/html": [
       "<div>\n",
       "<style scoped>\n",
       "    .dataframe tbody tr th:only-of-type {\n",
       "        vertical-align: middle;\n",
       "    }\n",
       "\n",
       "    .dataframe tbody tr th {\n",
       "        vertical-align: top;\n",
       "    }\n",
       "\n",
       "    .dataframe thead th {\n",
       "        text-align: right;\n",
       "    }\n",
       "</style>\n",
       "<table border=\"1\" class=\"dataframe\">\n",
       "  <thead>\n",
       "    <tr style=\"text-align: right;\">\n",
       "      <th></th>\n",
       "      <th>Unnamed: 0</th>\n",
       "      <th>year</th>\n",
       "      <th>campus</th>\n",
       "      <th>campname</th>\n",
       "      <th>campischarter</th>\n",
       "      <th>district</th>\n",
       "      <th>distname</th>\n",
       "      <th>distischarter</th>\n",
       "      <th>rating_academic</th>\n",
       "      <th>rating_financial</th>\n",
       "      <th>...</th>\n",
       "      <th>district_status</th>\n",
       "      <th>type_urban</th>\n",
       "      <th>type_suburban</th>\n",
       "      <th>type_town</th>\n",
       "      <th>type_rural</th>\n",
       "      <th>eligible</th>\n",
       "      <th>teachers_nodegree</th>\n",
       "      <th>teachers_badegree</th>\n",
       "      <th>teachers_msdegree</th>\n",
       "      <th>teachers_phddegree</th>\n",
       "    </tr>\n",
       "  </thead>\n",
       "  <tbody>\n",
       "    <tr>\n",
       "      <th>51734</th>\n",
       "      <td>51734</td>\n",
       "      <td>2018</td>\n",
       "      <td>1902001</td>\n",
       "      <td>CAYUGA H S</td>\n",
       "      <td>N</td>\n",
       "      <td>1902</td>\n",
       "      <td>CAYUGA ISD</td>\n",
       "      <td>N</td>\n",
       "      <td>B</td>\n",
       "      <td>Pass</td>\n",
       "      <td>...</td>\n",
       "      <td>doi</td>\n",
       "      <td>0</td>\n",
       "      <td>0</td>\n",
       "      <td>0</td>\n",
       "      <td>1</td>\n",
       "      <td>1</td>\n",
       "      <td>0.0</td>\n",
       "      <td>0.907514</td>\n",
       "      <td>0.092486</td>\n",
       "      <td>0.0</td>\n",
       "    </tr>\n",
       "    <tr>\n",
       "      <th>51735</th>\n",
       "      <td>51735</td>\n",
       "      <td>2018</td>\n",
       "      <td>1902041</td>\n",
       "      <td>CAYUGA MIDDLE</td>\n",
       "      <td>N</td>\n",
       "      <td>1902</td>\n",
       "      <td>CAYUGA ISD</td>\n",
       "      <td>N</td>\n",
       "      <td>B</td>\n",
       "      <td>Pass</td>\n",
       "      <td>...</td>\n",
       "      <td>doi</td>\n",
       "      <td>0</td>\n",
       "      <td>0</td>\n",
       "      <td>0</td>\n",
       "      <td>1</td>\n",
       "      <td>1</td>\n",
       "      <td>0.0</td>\n",
       "      <td>0.855072</td>\n",
       "      <td>0.137681</td>\n",
       "      <td>0.0</td>\n",
       "    </tr>\n",
       "    <tr>\n",
       "      <th>51736</th>\n",
       "      <td>51736</td>\n",
       "      <td>2018</td>\n",
       "      <td>1902103</td>\n",
       "      <td>CAYUGA EL</td>\n",
       "      <td>N</td>\n",
       "      <td>1902</td>\n",
       "      <td>CAYUGA ISD</td>\n",
       "      <td>N</td>\n",
       "      <td>B</td>\n",
       "      <td>Pass</td>\n",
       "      <td>...</td>\n",
       "      <td>doi</td>\n",
       "      <td>0</td>\n",
       "      <td>0</td>\n",
       "      <td>0</td>\n",
       "      <td>1</td>\n",
       "      <td>1</td>\n",
       "      <td>0.0</td>\n",
       "      <td>1.000000</td>\n",
       "      <td>0.000000</td>\n",
       "      <td>0.0</td>\n",
       "    </tr>\n",
       "    <tr>\n",
       "      <th>51737</th>\n",
       "      <td>51737</td>\n",
       "      <td>2018</td>\n",
       "      <td>1903001</td>\n",
       "      <td>ELKHART H S</td>\n",
       "      <td>N</td>\n",
       "      <td>1903</td>\n",
       "      <td>ELKHART ISD</td>\n",
       "      <td>N</td>\n",
       "      <td>B</td>\n",
       "      <td>Pass</td>\n",
       "      <td>...</td>\n",
       "      <td>doi</td>\n",
       "      <td>0</td>\n",
       "      <td>0</td>\n",
       "      <td>1</td>\n",
       "      <td>0</td>\n",
       "      <td>1</td>\n",
       "      <td>0.0</td>\n",
       "      <td>0.702703</td>\n",
       "      <td>0.297297</td>\n",
       "      <td>0.0</td>\n",
       "    </tr>\n",
       "    <tr>\n",
       "      <th>51738</th>\n",
       "      <td>51738</td>\n",
       "      <td>2018</td>\n",
       "      <td>1903041</td>\n",
       "      <td>ELKHART MIDDLE</td>\n",
       "      <td>N</td>\n",
       "      <td>1903</td>\n",
       "      <td>ELKHART ISD</td>\n",
       "      <td>N</td>\n",
       "      <td>B</td>\n",
       "      <td>Pass</td>\n",
       "      <td>...</td>\n",
       "      <td>doi</td>\n",
       "      <td>0</td>\n",
       "      <td>0</td>\n",
       "      <td>1</td>\n",
       "      <td>0</td>\n",
       "      <td>1</td>\n",
       "      <td>0.0</td>\n",
       "      <td>0.905579</td>\n",
       "      <td>0.090129</td>\n",
       "      <td>0.0</td>\n",
       "    </tr>\n",
       "  </tbody>\n",
       "</table>\n",
       "<p>5 rows × 305 columns</p>\n",
       "</div>"
      ],
      "text/plain": [
       "       Unnamed: 0  year   campus        campname campischarter  district  \\\n",
       "51734       51734  2018  1902001      CAYUGA H S             N      1902   \n",
       "51735       51735  2018  1902041   CAYUGA MIDDLE             N      1902   \n",
       "51736       51736  2018  1902103       CAYUGA EL             N      1902   \n",
       "51737       51737  2018  1903001     ELKHART H S             N      1903   \n",
       "51738       51738  2018  1903041  ELKHART MIDDLE             N      1903   \n",
       "\n",
       "          distname distischarter rating_academic rating_financial  ...  \\\n",
       "51734   CAYUGA ISD             N               B             Pass  ...   \n",
       "51735   CAYUGA ISD             N               B             Pass  ...   \n",
       "51736   CAYUGA ISD             N               B             Pass  ...   \n",
       "51737  ELKHART ISD             N               B             Pass  ...   \n",
       "51738  ELKHART ISD             N               B             Pass  ...   \n",
       "\n",
       "      district_status type_urban type_suburban type_town  type_rural  \\\n",
       "51734             doi          0             0         0           1   \n",
       "51735             doi          0             0         0           1   \n",
       "51736             doi          0             0         0           1   \n",
       "51737             doi          0             0         1           0   \n",
       "51738             doi          0             0         1           0   \n",
       "\n",
       "       eligible  teachers_nodegree  teachers_badegree  teachers_msdegree  \\\n",
       "51734         1                0.0           0.907514           0.092486   \n",
       "51735         1                0.0           0.855072           0.137681   \n",
       "51736         1                0.0           1.000000           0.000000   \n",
       "51737         1                0.0           0.702703           0.297297   \n",
       "51738         1                0.0           0.905579           0.090129   \n",
       "\n",
       "       teachers_phddegree  \n",
       "51734                 0.0  \n",
       "51735                 0.0  \n",
       "51736                 0.0  \n",
       "51737                 0.0  \n",
       "51738                 0.0  \n",
       "\n",
       "[5 rows x 305 columns]"
      ]
     },
     "execution_count": 22,
     "metadata": {},
     "output_type": "execute_result"
    }
   ],
   "source": [
    "data_path = '/Users/kylieleblancKylie/domino/dofis/data/'\n",
    "table_path = '/Users/kylieleblancKylie/domino/dofis/results/descriptive/'\n",
    "data = pd.read_csv(os.path.join(data_path, 'clean', 'master_data.csv'))\n",
    "data = data[data.year == 2018]\n",
    "data.head()"
   ]
  },
  {
   "cell_type": "markdown",
   "metadata": {},
   "source": [
    "# School Characteristics"
   ]
  },
  {
   "cell_type": "code",
   "execution_count": 30,
   "metadata": {},
   "outputs": [
    {
     "data": {
      "text/plain": [
       "True     6405\n",
       "False    2350\n",
       "Name: doi, dtype: int64"
      ]
     },
     "execution_count": 30,
     "metadata": {},
     "output_type": "execute_result"
    }
   ],
   "source": [
    "data.doi.value_counts()"
   ]
  },
  {
   "cell_type": "code",
   "execution_count": 31,
   "metadata": {},
   "outputs": [
    {
     "name": "stdout",
     "output_type": "stream",
     "text": [
      "There are 8755 schools in Texas.\n",
      "Of these, 701 are charters.\n",
      "Of traditional public schools 87 are ineligible for DOI status.\n",
      "6405 districts are districts of innovation.\n"
     ]
    },
    {
     "name": "stderr",
     "output_type": "stream",
     "text": [
      "/Users/kylieleblancKylie/anaconda/envs/spacy/lib/python3.7/site-packages/ipykernel/__main__.py:4: UserWarning: Boolean Series key will be reindexed to match DataFrame index.\n"
     ]
    }
   ],
   "source": [
    "print('There are', data.campus.nunique(), 'schools in Texas.')\n",
    "print('Of these,', data[data.campischarter == 'Y'].campus.nunique(), 'are charters.')\n",
    "print('Of traditional public schools', \n",
    "      data[data.distischarter == \"N\"][data.eligible == 0].campus.nunique(), \n",
    "      'are ineligible for DOI status.')\n",
    "print(len(data[data.doi == True]), 'districts are districts of innovation.')"
   ]
  },
  {
   "cell_type": "code",
   "execution_count": 33,
   "metadata": {},
   "outputs": [
    {
     "name": "stdout",
     "output_type": "stream",
     "text": [
      "There are 1196 districts in Texas.\n",
      "Of these, 173 are charters.\n",
      "Of traditional public schools only 15 are ineligible for DOI status.\n",
      "824 districts are districts of innovation.\n"
     ]
    },
    {
     "name": "stderr",
     "output_type": "stream",
     "text": [
      "/Users/kylieleblancKylie/anaconda/envs/spacy/lib/python3.7/site-packages/ipykernel/__main__.py:3: UserWarning: Boolean Series key will be reindexed to match DataFrame index.\n",
      "  app.launch_new_instance()\n"
     ]
    }
   ],
   "source": [
    "print('There are', data.district.nunique(), 'districts in Texas.')\n",
    "print('Of these,', data[data.distischarter == 'Y'].district.nunique(), 'are charters.')\n",
    "print('Of traditional public schools only', data[data.distischarter == 'N'][data.eligible == 0].district.nunique(), 'are ineligible for DOI status.')\n",
    "print(data[data.doi == True].district.nunique(), 'districts are districts of innovation.')"
   ]
  },
  {
   "cell_type": "code",
   "execution_count": 35,
   "metadata": {},
   "outputs": [
    {
     "name": "stderr",
     "output_type": "stream",
     "text": [
      "/Users/kylieleblancKylie/anaconda/envs/spacy/lib/python3.7/site-packages/ipykernel/__main__.py:1: UserWarning: Boolean Series key will be reindexed to match DataFrame index.\n",
      "  if __name__ == '__main__':\n"
     ]
    },
    {
     "data": {
      "text/plain": [
       "DONNA ISD              22\n",
       "HUNTSVILLE ISD         11\n",
       "KINGSVILLE ISD          8\n",
       "UVALDE ISD              7\n",
       "GONZALES ISD            6\n",
       "CARRIZO SPRINGS ISD     4\n",
       "NATALIA ISD             4\n",
       "CROSBYTON ISD           4\n",
       "MARLIN ISD              4\n",
       "FABENS ISD              4\n",
       "TOM BEAN ISD            3\n",
       "HEARNE ISD              3\n",
       "NEWTON ISD              3\n",
       "WINK-LOVING ISD         2\n",
       "DAMON ISD               2\n",
       "Name: distname, dtype: int64"
      ]
     },
     "execution_count": 35,
     "metadata": {},
     "output_type": "execute_result"
    }
   ],
   "source": [
    "data[data.eligible == 0][data.distischarter == \"N\"].distname.value_counts()"
   ]
  },
  {
   "cell_type": "code",
   "execution_count": 36,
   "metadata": {},
   "outputs": [
    {
     "data": {
      "text/plain": [
       "MAJOR SUBURBAN                   2081\n",
       "MAJOR URBAN                      1359\n",
       "OTHER CENTRAL CITY SUBURBAN      1265\n",
       "OTHER CENTRAL CITY               1161\n",
       "RURAL                             919\n",
       "NON-METROPOLITAN STABLE           735\n",
       "CHARTER SCHOOL DISTRICTS          701\n",
       "INDEPENDENT TOWN                  456\n",
       "NON-METROPOLITAN FAST GROWING      78\n",
       "Name: type_description, dtype: int64"
      ]
     },
     "execution_count": 36,
     "metadata": {},
     "output_type": "execute_result"
    }
   ],
   "source": [
    "data['type_description'].value_counts()"
   ]
  },
  {
   "cell_type": "code",
   "execution_count": null,
   "metadata": {},
   "outputs": [],
   "source": []
  }
 ],
 "metadata": {
  "kernelspec": {
   "display_name": "Python [conda env:spacy]",
   "language": "python",
   "name": "conda-env-spacy-py"
  },
  "language_info": {
   "codemirror_mode": {
    "name": "ipython",
    "version": 3
   },
   "file_extension": ".py",
   "mimetype": "text/x-python",
   "name": "python",
   "nbconvert_exporter": "python",
   "pygments_lexer": "ipython3",
   "version": "3.7.2"
  }
 },
 "nbformat": 4,
 "nbformat_minor": 2
}
