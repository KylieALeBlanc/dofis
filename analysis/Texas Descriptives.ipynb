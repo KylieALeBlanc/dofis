{
 "cells": [
  {
   "cell_type": "code",
   "execution_count": 1,
   "metadata": {
    "collapsed": true
   },
   "outputs": [],
   "source": [
    "import pandas as pd\n",
    "import os\n",
    "import re\n",
    "import numpy as np\n",
    "from library import tables"
   ]
  },
  {
   "cell_type": "code",
   "execution_count": 2,
   "metadata": {},
   "outputs": [
    {
     "name": "stderr",
     "output_type": "stream",
     "text": [
      "/Users/kylieleblancKylie/anaconda/lib/python3.5/site-packages/IPython/core/interactiveshell.py:2698: DtypeWarning: Columns (7) have mixed types. Specify dtype option on import or set low_memory=False.\n",
      "  interactivity=interactivity, compiler=compiler, result=result)\n"
     ]
    }
   ],
   "source": [
    "data_path = '/Users/kylieleblancKylie/domino/dofis/data/'\n",
    "table_path = '/Users/kylieleblancKylie/domino/dofis/results/descriptive/'\n",
    "data = pd.read_csv(os.path.join(data_path, 'clean', 'master_data.csv'))\n",
    "data = data[data.year == 'yr1718']"
   ]
  },
  {
   "cell_type": "markdown",
   "metadata": {},
   "source": [
    "# District Characteristics"
   ]
  },
  {
   "cell_type": "code",
   "execution_count": 3,
   "metadata": {},
   "outputs": [
    {
     "name": "stdout",
     "output_type": "stream",
     "text": [
      "There are 1203 districts in Texas.\n",
      "Of these, 180 are charters.\n",
      "Of traditional public schools only 33 are ineligible for DOI status.\n",
      "785 districts are districts of innovation.\n"
     ]
    },
    {
     "name": "stderr",
     "output_type": "stream",
     "text": [
      "/Users/kylieleblancKylie/anaconda/lib/python3.5/site-packages/ipykernel/__main__.py:3: UserWarning: Boolean Series key will be reindexed to match DataFrame index.\n",
      "  app.launch_new_instance()\n"
     ]
    }
   ],
   "source": [
    "print('There are', len(data), 'districts in Texas.')\n",
    "print('Of these,', len(data[data.distischarter == 'Y']), 'are charters.')\n",
    "print('Of traditional public schools only', len(data[data.distischarter == 'N'][data.eligible == 0]), 'are ineligible for DOI status.')\n",
    "print(len(data[data.doi == True]), 'districts are districts of innovation.')"
   ]
  },
  {
   "cell_type": "code",
   "execution_count": 14,
   "metadata": {},
   "outputs": [
    {
     "data": {
      "text/plain": [
       "RURAL                            461\n",
       "CHARTER SCHOOL DISTRICTS         180\n",
       "NON-METROPOLITAN STABLE          174\n",
       "OTHER CENTRAL CITY SUBURBAN      164\n",
       "MAJOR SUBURBAN                    79\n",
       "INDEPENDENT TOWN                  68\n",
       "OTHER CENTRAL CITY                38\n",
       "NON-METROPOLITAN FAST GROWING     28\n",
       "MAJOR URBAN                       11\n",
       "Name: type_description, dtype: int64"
      ]
     },
     "execution_count": 14,
     "metadata": {},
     "output_type": "execute_result"
    }
   ],
   "source": [
    "data['type_description'].value_counts()"
   ]
  },
  {
   "cell_type": "code",
   "execution_count": 11,
   "metadata": {},
   "outputs": [
    {
     "data": {
      "text/plain": [
       "geography\n",
       "Rural         390.271150\n",
       "Suburban    10329.209877\n",
       "Town         2133.429630\n",
       "Urban       36841.020408\n",
       "Name: students_num, dtype: float64"
      ]
     },
     "execution_count": 11,
     "metadata": {},
     "output_type": "execute_result"
    }
   ],
   "source": [
    "data.groupby(['geography'])['students_num'].mean()"
   ]
  },
  {
   "cell_type": "code",
   "execution_count": 5,
   "metadata": {},
   "outputs": [
    {
     "data": {
      "text/plain": [
       "doi    distischarter  eligible\n",
       "False  N              0.0          24\n",
       "                      1.0         214\n",
       "       Y              0.0         180\n",
       "True   N              0.0           9\n",
       "                      1.0         776\n",
       "Name: district, dtype: int64"
      ]
     },
     "execution_count": 5,
     "metadata": {},
     "output_type": "execute_result"
    }
   ],
   "source": [
    "data.groupby(['doi', 'distischarter', 'eligible'])['district'].count()"
   ]
  },
  {
   "cell_type": "code",
   "execution_count": 13,
   "metadata": {},
   "outputs": [
    {
     "data": {
      "text/html": [
       "<div>\n",
       "<style scoped>\n",
       "    .dataframe tbody tr th:only-of-type {\n",
       "        vertical-align: middle;\n",
       "    }\n",
       "\n",
       "    .dataframe tbody tr th {\n",
       "        vertical-align: top;\n",
       "    }\n",
       "\n",
       "    .dataframe thead th {\n",
       "        text-align: right;\n",
       "    }\n",
       "</style>\n",
       "<table border=\"1\" class=\"dataframe\">\n",
       "  <thead>\n",
       "    <tr style=\"text-align: right;\">\n",
       "      <th></th>\n",
       "      <th>district</th>\n",
       "      <th>proportion</th>\n",
       "    </tr>\n",
       "    <tr>\n",
       "      <th>geography</th>\n",
       "      <th></th>\n",
       "      <th></th>\n",
       "    </tr>\n",
       "  </thead>\n",
       "  <tbody>\n",
       "    <tr>\n",
       "      <th>Rural</th>\n",
       "      <td>461</td>\n",
       "      <td>0.450635</td>\n",
       "    </tr>\n",
       "    <tr>\n",
       "      <th>Suburban</th>\n",
       "      <td>243</td>\n",
       "      <td>0.237537</td>\n",
       "    </tr>\n",
       "    <tr>\n",
       "      <th>Town</th>\n",
       "      <td>270</td>\n",
       "      <td>0.263930</td>\n",
       "    </tr>\n",
       "    <tr>\n",
       "      <th>Urban</th>\n",
       "      <td>49</td>\n",
       "      <td>0.047898</td>\n",
       "    </tr>\n",
       "  </tbody>\n",
       "</table>\n",
       "</div>"
      ],
      "text/plain": [
       "           district  proportion\n",
       "geography                      \n",
       "Rural           461    0.450635\n",
       "Suburban        243    0.237537\n",
       "Town            270    0.263930\n",
       "Urban            49    0.047898"
      ]
     },
     "execution_count": 13,
     "metadata": {},
     "output_type": "execute_result"
    }
   ],
   "source": [
    "countXgeo = pd.DataFrame(data.groupby(['geography'])['district'].count())\n",
    "countXgeo['proportion'] = countXgeo['district']/countXgeo['district'].sum()\n",
    "countXgeo"
   ]
  },
  {
   "cell_type": "code",
   "execution_count": 16,
   "metadata": {},
   "outputs": [
    {
     "data": {
      "text/html": [
       "<div>\n",
       "<style scoped>\n",
       "    .dataframe tbody tr th:only-of-type {\n",
       "        vertical-align: middle;\n",
       "    }\n",
       "\n",
       "    .dataframe tbody tr th {\n",
       "        vertical-align: top;\n",
       "    }\n",
       "\n",
       "    .dataframe thead th {\n",
       "        text-align: right;\n",
       "    }\n",
       "</style>\n",
       "<table border=\"1\" class=\"dataframe\">\n",
       "  <thead>\n",
       "    <tr style=\"text-align: right;\">\n",
       "      <th></th>\n",
       "      <th>district</th>\n",
       "      <th>proportion</th>\n",
       "    </tr>\n",
       "    <tr>\n",
       "      <th>type_description</th>\n",
       "      <th></th>\n",
       "      <th></th>\n",
       "    </tr>\n",
       "  </thead>\n",
       "  <tbody>\n",
       "    <tr>\n",
       "      <th>CHARTER SCHOOL DISTRICTS</th>\n",
       "      <td>180</td>\n",
       "      <td>0.149626</td>\n",
       "    </tr>\n",
       "    <tr>\n",
       "      <th>INDEPENDENT TOWN</th>\n",
       "      <td>68</td>\n",
       "      <td>0.056525</td>\n",
       "    </tr>\n",
       "    <tr>\n",
       "      <th>MAJOR SUBURBAN</th>\n",
       "      <td>79</td>\n",
       "      <td>0.065669</td>\n",
       "    </tr>\n",
       "    <tr>\n",
       "      <th>MAJOR URBAN</th>\n",
       "      <td>11</td>\n",
       "      <td>0.009144</td>\n",
       "    </tr>\n",
       "    <tr>\n",
       "      <th>NON-METROPOLITAN FAST GROWING</th>\n",
       "      <td>28</td>\n",
       "      <td>0.023275</td>\n",
       "    </tr>\n",
       "    <tr>\n",
       "      <th>NON-METROPOLITAN STABLE</th>\n",
       "      <td>174</td>\n",
       "      <td>0.144638</td>\n",
       "    </tr>\n",
       "    <tr>\n",
       "      <th>OTHER CENTRAL CITY</th>\n",
       "      <td>38</td>\n",
       "      <td>0.031588</td>\n",
       "    </tr>\n",
       "    <tr>\n",
       "      <th>OTHER CENTRAL CITY SUBURBAN</th>\n",
       "      <td>164</td>\n",
       "      <td>0.136326</td>\n",
       "    </tr>\n",
       "    <tr>\n",
       "      <th>RURAL</th>\n",
       "      <td>461</td>\n",
       "      <td>0.383209</td>\n",
       "    </tr>\n",
       "  </tbody>\n",
       "</table>\n",
       "</div>"
      ],
      "text/plain": [
       "                               district  proportion\n",
       "type_description                                   \n",
       "CHARTER SCHOOL DISTRICTS            180    0.149626\n",
       "INDEPENDENT TOWN                     68    0.056525\n",
       "MAJOR SUBURBAN                       79    0.065669\n",
       "MAJOR URBAN                          11    0.009144\n",
       "NON-METROPOLITAN FAST GROWING        28    0.023275\n",
       "NON-METROPOLITAN STABLE             174    0.144638\n",
       "OTHER CENTRAL CITY                   38    0.031588\n",
       "OTHER CENTRAL CITY SUBURBAN         164    0.136326\n",
       "RURAL                               461    0.383209"
      ]
     },
     "execution_count": 16,
     "metadata": {},
     "output_type": "execute_result"
    }
   ],
   "source": [
    "countXtype = pd.DataFrame(data.groupby(['type_description'])['district'].count())\n",
    "countXtype['proportion'] = countXtype['district']/countXtype['district'].sum()\n",
    "countXtype"
   ]
  },
  {
   "cell_type": "code",
   "execution_count": 18,
   "metadata": {},
   "outputs": [
    {
     "data": {
      "text/plain": [
       "8485    MAJOR SUBURBAN\n",
       "Name: type_description, dtype: object"
      ]
     },
     "execution_count": 18,
     "metadata": {},
     "output_type": "execute_result"
    }
   ],
   "source": [
    "data[data.distname == \"LEANDER ISD\"].type_description"
   ]
  },
  {
   "cell_type": "markdown",
   "metadata": {},
   "source": [
    "# Student Characteristics"
   ]
  },
  {
   "cell_type": "markdown",
   "metadata": {},
   "source": [
    "Total students"
   ]
  },
  {
   "cell_type": "code",
   "execution_count": 7,
   "metadata": {},
   "outputs": [
    {
     "name": "stdout",
     "output_type": "stream",
     "text": [
      "5343834\n"
     ]
    }
   ],
   "source": [
    "students_total = data['students_num'].sum()\n",
    "print(students_total)"
   ]
  },
  {
   "cell_type": "markdown",
   "metadata": {},
   "source": [
    "## By geography"
   ]
  },
  {
   "cell_type": "code",
   "execution_count": 8,
   "metadata": {
    "collapsed": true
   },
   "outputs": [],
   "source": [
    "geography_order = {'Urban': 1,\n",
    "                   'Suburban': 2,\n",
    "                   'Town': 3,\n",
    "                   'Rural': 4}"
   ]
  },
  {
   "cell_type": "code",
   "execution_count": 9,
   "metadata": {},
   "outputs": [
    {
     "data": {
      "text/html": [
       "<div>\n",
       "<style scoped>\n",
       "    .dataframe tbody tr th:only-of-type {\n",
       "        vertical-align: middle;\n",
       "    }\n",
       "\n",
       "    .dataframe tbody tr th {\n",
       "        vertical-align: top;\n",
       "    }\n",
       "\n",
       "    .dataframe thead th {\n",
       "        text-align: right;\n",
       "    }\n",
       "</style>\n",
       "<table border=\"1\" class=\"dataframe\">\n",
       "  <thead>\n",
       "    <tr style=\"text-align: right;\">\n",
       "      <th></th>\n",
       "      <th>geography</th>\n",
       "      <th>students_num</th>\n",
       "      <th>Proportion</th>\n",
       "    </tr>\n",
       "  </thead>\n",
       "  <tbody>\n",
       "    <tr>\n",
       "      <th>3</th>\n",
       "      <td>Urban</td>\n",
       "      <td>1805210</td>\n",
       "      <td>0.337812</td>\n",
       "    </tr>\n",
       "    <tr>\n",
       "      <th>1</th>\n",
       "      <td>Suburban</td>\n",
       "      <td>2509998</td>\n",
       "      <td>0.469700</td>\n",
       "    </tr>\n",
       "    <tr>\n",
       "      <th>2</th>\n",
       "      <td>Town</td>\n",
       "      <td>576026</td>\n",
       "      <td>0.107793</td>\n",
       "    </tr>\n",
       "    <tr>\n",
       "      <th>0</th>\n",
       "      <td>Rural</td>\n",
       "      <td>179915</td>\n",
       "      <td>0.033668</td>\n",
       "    </tr>\n",
       "  </tbody>\n",
       "</table>\n",
       "</div>"
      ],
      "text/plain": [
       "  geography  students_num  Proportion\n",
       "3     Urban       1805210    0.337812\n",
       "1  Suburban       2509998    0.469700\n",
       "2      Town        576026    0.107793\n",
       "0     Rural        179915    0.033668"
      ]
     },
     "execution_count": 9,
     "metadata": {},
     "output_type": "execute_result"
    }
   ],
   "source": [
    "students_geography = pd.DataFrame(data.groupby(['geography'])['students_num'].sum()).reset_index()\n",
    "students_geography['Proportion'] = students_geography['students_num']/students_total\n",
    "students_geography['order'] = students_geography['geography'].map(geography_order)\n",
    "students_geography = students_geography.sort_values('order', axis = 0)\n",
    "students_geography = students_geography.drop('order', axis = 1)\n",
    "students_geography"
   ]
  },
  {
   "cell_type": "markdown",
   "metadata": {},
   "source": [
    "## By demographics"
   ]
  },
  {
   "cell_type": "code",
   "execution_count": 10,
   "metadata": {},
   "outputs": [
    {
     "data": {
      "text/html": [
       "<div>\n",
       "<style scoped>\n",
       "    .dataframe tbody tr th:only-of-type {\n",
       "        vertical-align: middle;\n",
       "    }\n",
       "\n",
       "    .dataframe tbody tr th {\n",
       "        vertical-align: top;\n",
       "    }\n",
       "\n",
       "    .dataframe thead th {\n",
       "        text-align: right;\n",
       "    }\n",
       "</style>\n",
       "<table border=\"1\" class=\"dataframe\">\n",
       "  <thead>\n",
       "    <tr style=\"text-align: right;\">\n",
       "      <th></th>\n",
       "      <th>Demographics</th>\n",
       "      <th>Number</th>\n",
       "      <th>Proportion</th>\n",
       "    </tr>\n",
       "  </thead>\n",
       "  <tbody>\n",
       "    <tr>\n",
       "      <th>0</th>\n",
       "      <td>students_hisp_num</td>\n",
       "      <td>2802180</td>\n",
       "      <td>0.524376</td>\n",
       "    </tr>\n",
       "    <tr>\n",
       "      <th>1</th>\n",
       "      <td>students_white_num</td>\n",
       "      <td>1499559</td>\n",
       "      <td>0.280615</td>\n",
       "    </tr>\n",
       "    <tr>\n",
       "      <th>2</th>\n",
       "      <td>students_black_num</td>\n",
       "      <td>673291</td>\n",
       "      <td>0.125994</td>\n",
       "    </tr>\n",
       "  </tbody>\n",
       "</table>\n",
       "</div>"
      ],
      "text/plain": [
       "         Demographics   Number  Proportion\n",
       "0   students_hisp_num  2802180    0.524376\n",
       "1  students_white_num  1499559    0.280615\n",
       "2  students_black_num   673291    0.125994"
      ]
     },
     "execution_count": 10,
     "metadata": {},
     "output_type": "execute_result"
    }
   ],
   "source": [
    "demographics = ['students_hisp_num', 'students_white_num', 'students_black_num']\n",
    "number = []\n",
    "proportion = []\n",
    "for dem in demographics:\n",
    "    number.append(data[dem].sum())\n",
    "    proportion.append(data[dem].sum()/students_total)\n",
    "students_demographics = pd.DataFrame(\n",
    "                            {'Demographics': demographics,\n",
    "                             'Number': number,\n",
    "                             'Proportion': proportion\n",
    "                            })\n",
    "students_demographics"
   ]
  },
  {
   "cell_type": "markdown",
   "metadata": {},
   "source": [
    "## By school"
   ]
  },
  {
   "cell_type": "code",
   "execution_count": 11,
   "metadata": {
    "collapsed": true
   },
   "outputs": [],
   "source": [
    "school_order = {'doi': 1,\n",
    "                'tps': 2,\n",
    "                'charter': 3}"
   ]
  },
  {
   "cell_type": "code",
   "execution_count": 12,
   "metadata": {},
   "outputs": [
    {
     "data": {
      "text/html": [
       "<div>\n",
       "<style scoped>\n",
       "    .dataframe tbody tr th:only-of-type {\n",
       "        vertical-align: middle;\n",
       "    }\n",
       "\n",
       "    .dataframe tbody tr th {\n",
       "        vertical-align: top;\n",
       "    }\n",
       "\n",
       "    .dataframe thead th {\n",
       "        text-align: right;\n",
       "    }\n",
       "</style>\n",
       "<table border=\"1\" class=\"dataframe\">\n",
       "  <thead>\n",
       "    <tr style=\"text-align: right;\">\n",
       "      <th></th>\n",
       "      <th>district_status</th>\n",
       "      <th>students_num</th>\n",
       "      <th>Proportion</th>\n",
       "    </tr>\n",
       "  </thead>\n",
       "  <tbody>\n",
       "    <tr>\n",
       "      <th>1</th>\n",
       "      <td>doi</td>\n",
       "      <td>3832308</td>\n",
       "      <td>0.717146</td>\n",
       "    </tr>\n",
       "    <tr>\n",
       "      <th>2</th>\n",
       "      <td>tps</td>\n",
       "      <td>1238841</td>\n",
       "      <td>0.231826</td>\n",
       "    </tr>\n",
       "    <tr>\n",
       "      <th>0</th>\n",
       "      <td>charter</td>\n",
       "      <td>272685</td>\n",
       "      <td>0.051028</td>\n",
       "    </tr>\n",
       "  </tbody>\n",
       "</table>\n",
       "</div>"
      ],
      "text/plain": [
       "  district_status  students_num  Proportion\n",
       "1             doi       3832308    0.717146\n",
       "2             tps       1238841    0.231826\n",
       "0         charter        272685    0.051028"
      ]
     },
     "execution_count": 12,
     "metadata": {},
     "output_type": "execute_result"
    }
   ],
   "source": [
    "students_schools = pd.DataFrame(data.groupby(['district_status'])['students_num'].sum()).reset_index()\n",
    "students_schools['Proportion'] = students_schools['students_num']/students_total\n",
    "students_schools['order'] = students_schools['district_status'].map(school_order)\n",
    "students_schools = students_schools.sort_values('order', axis = 0)\n",
    "students_schools = students_schools.drop('order', axis = 1)\n",
    "students_schools"
   ]
  },
  {
   "cell_type": "markdown",
   "metadata": {
    "collapsed": true
   },
   "source": [
    "# To Tables"
   ]
  },
  {
   "cell_type": "code",
   "execution_count": 13,
   "metadata": {
    "collapsed": true
   },
   "outputs": [],
   "source": [
    "dfs = [students_geography, students_demographics, students_schools]\n",
    "rows = [4, 9, 13]\n",
    "for df, row in zip(dfs,rows):\n",
    "    tables.df_to_excel(file = table_path + 'Student Characteristics.xlsx',\n",
    "                      df = df,\n",
    "                      df_columns = ['Proportion'],\n",
    "                      start_row = row,\n",
    "                      start_col = 2)"
   ]
  }
 ],
 "metadata": {
  "kernelspec": {
   "display_name": "Python [conda env:anaconda]",
   "language": "python",
   "name": "conda-env-anaconda-py"
  },
  "language_info": {
   "codemirror_mode": {
    "name": "ipython",
    "version": 3
   },
   "file_extension": ".py",
   "mimetype": "text/x-python",
   "name": "python",
   "nbconvert_exporter": "python",
   "pygments_lexer": "ipython3",
   "version": "3.5.4"
  }
 },
 "nbformat": 4,
 "nbformat_minor": 2
}
