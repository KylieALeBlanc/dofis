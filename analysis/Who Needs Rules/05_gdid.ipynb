{
 "cells": [
  {
   "cell_type": "code",
   "execution_count": 28,
   "metadata": {},
   "outputs": [],
   "source": [
    "import sys\n",
    "sys.path.append(\"../\")\n",
    "\n",
    "\n",
    "import os\n",
    "%matplotlib inline\n",
    "import matplotlib.mlab as mlab\n",
    "import matplotlib.pyplot as plt\n",
    "import pandas as pd\n",
    "import numpy as np\n",
    "import statsmodels.formula.api as smf\n",
    "from patsy import dmatrices\n",
    "from openpyxl import load_workbook\n",
    "\n",
    "from linearmodels import PanelOLS\n",
    "\n",
    "from library import print_statistics"
   ]
  },
  {
   "cell_type": "code",
   "execution_count": 29,
   "metadata": {},
   "outputs": [
    {
     "data": {
      "text/plain": [
       "'9.16'"
      ]
     },
     "execution_count": 29,
     "metadata": {},
     "output_type": "execute_result"
    }
   ],
   "source": [
    "def coef_with_stars(coef, pvalue):\n",
    "    coef = round(coef, 2)\n",
    "    if pvalue >.05:\n",
    "        coef = str(coef)\n",
    "    if pvalue <= .05:\n",
    "        coef = str(coef) + '*'\n",
    "    if pvalue <= .01:\n",
    "        coef = coef + '*'\n",
    "    if pvalue <= .001:\n",
    "        coef = coef + '*'\n",
    "    return(coef)\n",
    "test = coef_with_stars(9.1568, 0.8523)\n",
    "test"
   ]
  },
  {
   "cell_type": "code",
   "execution_count": 30,
   "metadata": {},
   "outputs": [
    {
     "data": {
      "text/plain": [
       "'0.1*'"
      ]
     },
     "execution_count": 30,
     "metadata": {},
     "output_type": "execute_result"
    }
   ],
   "source": [
    "def bonferroni(n_tests, coef, pvalue):\n",
    "    coef = round(coef, 2)\n",
    "    if pvalue >(.05/n_tests):\n",
    "        coef = str(coef)\n",
    "    if pvalue <= (.05/n_tests):\n",
    "        coef = str(coef) + '*'\n",
    "    if pvalue <= (.01/n_tests):\n",
    "        coef = coef + '*'\n",
    "    if pvalue <= (.001/n_tests):\n",
    "        coef = coef + '*'\n",
    "    return(coef)\n",
    "test = bonferroni(4, .1, .005)\n",
    "test"
   ]
  },
  {
   "cell_type": "code",
   "execution_count": 31,
   "metadata": {},
   "outputs": [
    {
     "data": {
      "text/plain": [
       "'(0.01)'"
      ]
     },
     "execution_count": 31,
     "metadata": {},
     "output_type": "execute_result"
    }
   ],
   "source": [
    "def format_se(se):\n",
    "    if se < .005:\n",
    "        se = '(0.00)'\n",
    "    else:\n",
    "        se = '(' + str(round(se, 2)) + ')'\n",
    "    return se\n",
    "test = format_se(.0053)\n",
    "test"
   ]
  },
  {
   "cell_type": "code",
   "execution_count": 32,
   "metadata": {},
   "outputs": [
    {
     "name": "stdout",
     "output_type": "stream",
     "text": [
      "808\n"
     ]
    },
    {
     "data": {
      "text/html": [
       "<div>\n",
       "<style scoped>\n",
       "    .dataframe tbody tr th:only-of-type {\n",
       "        vertical-align: middle;\n",
       "    }\n",
       "\n",
       "    .dataframe tbody tr th {\n",
       "        vertical-align: top;\n",
       "    }\n",
       "\n",
       "    .dataframe thead th {\n",
       "        text-align: right;\n",
       "    }\n",
       "</style>\n",
       "<table border=\"1\" class=\"dataframe\">\n",
       "  <thead>\n",
       "    <tr style=\"text-align: right;\">\n",
       "      <th></th>\n",
       "      <th>Unnamed: 0</th>\n",
       "      <th>campus</th>\n",
       "      <th>year</th>\n",
       "      <th>test</th>\n",
       "      <th>score</th>\n",
       "      <th>score_std</th>\n",
       "      <th>campname</th>\n",
       "      <th>campischarter</th>\n",
       "      <th>district</th>\n",
       "      <th>distname</th>\n",
       "      <th>...</th>\n",
       "      <th>pre5</th>\n",
       "      <th>pre4</th>\n",
       "      <th>pre3</th>\n",
       "      <th>pre2</th>\n",
       "      <th>pre1</th>\n",
       "      <th>pre0</th>\n",
       "      <th>post1</th>\n",
       "      <th>post2</th>\n",
       "      <th>post3</th>\n",
       "      <th>test_by_year</th>\n",
       "    </tr>\n",
       "  </thead>\n",
       "  <tbody>\n",
       "    <tr>\n",
       "      <th>102185</th>\n",
       "      <td>128578</td>\n",
       "      <td>234902102</td>\n",
       "      <td>2012</td>\n",
       "      <td>m_5th_avescore</td>\n",
       "      <td>1625.0</td>\n",
       "      <td>0.426881</td>\n",
       "      <td>CANTON INT</td>\n",
       "      <td>N</td>\n",
       "      <td>234902</td>\n",
       "      <td>CANTON ISD</td>\n",
       "      <td>...</td>\n",
       "      <td>1</td>\n",
       "      <td>0</td>\n",
       "      <td>0</td>\n",
       "      <td>0</td>\n",
       "      <td>0</td>\n",
       "      <td>0</td>\n",
       "      <td>0</td>\n",
       "      <td>0</td>\n",
       "      <td>0</td>\n",
       "      <td>m_5th_avescore2012</td>\n",
       "    </tr>\n",
       "  </tbody>\n",
       "</table>\n",
       "<p>1 rows × 174 columns</p>\n",
       "</div>"
      ],
      "text/plain": [
       "        Unnamed: 0     campus  year            test   score  score_std  \\\n",
       "102185      128578  234902102  2012  m_5th_avescore  1625.0   0.426881   \n",
       "\n",
       "          campname campischarter  district    distname  ... pre5 pre4 pre3  \\\n",
       "102185  CANTON INT             N    234902  CANTON ISD  ...    1    0    0   \n",
       "\n",
       "       pre2 pre1 pre0 post1  post2  post3        test_by_year  \n",
       "102185    0    0    0     0      0      0  m_5th_avescore2012  \n",
       "\n",
       "[1 rows x 174 columns]"
      ]
     },
     "execution_count": 32,
     "metadata": {},
     "output_type": "execute_result"
    }
   ],
   "source": [
    "data_path = '/Users/kylieleblancKylie/domino/dofis/data/'\n",
    "table_path = '/Users/kylieleblancKylie/domino/dofis/results/Who Needs Rules/'\n",
    "data = pd.read_csv(os.path.join(data_path, 'clean', 'gdid_subject.csv'),\n",
    "                  sep=\",\", low_memory= False)\n",
    "#load(data)\n",
    "print(data[data.doi == True].district.nunique())\n",
    "data.sample()"
   ]
  },
  {
   "cell_type": "code",
   "execution_count": 33,
   "metadata": {},
   "outputs": [
    {
     "data": {
      "text/plain": [
       "2018.0    133956\n",
       "2017.0     89082\n",
       "2019.0     30453\n",
       "2020.0      2906\n",
       "Name: doi_year, dtype: int64"
      ]
     },
     "execution_count": 33,
     "metadata": {},
     "output_type": "execute_result"
    }
   ],
   "source": [
    "data.doi_year.value_counts()"
   ]
  },
  {
   "cell_type": "code",
   "execution_count": 34,
   "metadata": {
    "scrolled": true
   },
   "outputs": [
    {
     "data": {
      "text/html": [
       "<div>\n",
       "<style scoped>\n",
       "    .dataframe tbody tr th:only-of-type {\n",
       "        vertical-align: middle;\n",
       "    }\n",
       "\n",
       "    .dataframe tbody tr th {\n",
       "        vertical-align: top;\n",
       "    }\n",
       "\n",
       "    .dataframe thead th {\n",
       "        text-align: right;\n",
       "    }\n",
       "</style>\n",
       "<table border=\"1\" class=\"dataframe\">\n",
       "  <thead>\n",
       "    <tr style=\"text-align: right;\">\n",
       "      <th></th>\n",
       "      <th>year</th>\n",
       "      <th>doi_year</th>\n",
       "      <th>treatpost</th>\n",
       "      <th>yearpost</th>\n",
       "    </tr>\n",
       "  </thead>\n",
       "  <tbody>\n",
       "    <tr>\n",
       "      <th>198794</th>\n",
       "      <td>2017</td>\n",
       "      <td>2018.0</td>\n",
       "      <td>False</td>\n",
       "      <td>0.0</td>\n",
       "    </tr>\n",
       "    <tr>\n",
       "      <th>49120</th>\n",
       "      <td>2016</td>\n",
       "      <td>2018.0</td>\n",
       "      <td>False</td>\n",
       "      <td>0.0</td>\n",
       "    </tr>\n",
       "    <tr>\n",
       "      <th>128383</th>\n",
       "      <td>2013</td>\n",
       "      <td>2018.0</td>\n",
       "      <td>False</td>\n",
       "      <td>0.0</td>\n",
       "    </tr>\n",
       "    <tr>\n",
       "      <th>221959</th>\n",
       "      <td>2018</td>\n",
       "      <td>2017.0</td>\n",
       "      <td>True</td>\n",
       "      <td>1.0</td>\n",
       "    </tr>\n",
       "    <tr>\n",
       "      <th>134618</th>\n",
       "      <td>2013</td>\n",
       "      <td>2018.0</td>\n",
       "      <td>False</td>\n",
       "      <td>0.0</td>\n",
       "    </tr>\n",
       "    <tr>\n",
       "      <th>51373</th>\n",
       "      <td>2016</td>\n",
       "      <td>2018.0</td>\n",
       "      <td>False</td>\n",
       "      <td>0.0</td>\n",
       "    </tr>\n",
       "    <tr>\n",
       "      <th>23471</th>\n",
       "      <td>2014</td>\n",
       "      <td>2018.0</td>\n",
       "      <td>False</td>\n",
       "      <td>0.0</td>\n",
       "    </tr>\n",
       "    <tr>\n",
       "      <th>202497</th>\n",
       "      <td>2017</td>\n",
       "      <td>2017.0</td>\n",
       "      <td>True</td>\n",
       "      <td>0.0</td>\n",
       "    </tr>\n",
       "    <tr>\n",
       "      <th>80430</th>\n",
       "      <td>2018</td>\n",
       "      <td>2018.0</td>\n",
       "      <td>True</td>\n",
       "      <td>0.0</td>\n",
       "    </tr>\n",
       "    <tr>\n",
       "      <th>241800</th>\n",
       "      <td>2019</td>\n",
       "      <td>2018.0</td>\n",
       "      <td>True</td>\n",
       "      <td>1.0</td>\n",
       "    </tr>\n",
       "  </tbody>\n",
       "</table>\n",
       "</div>"
      ],
      "text/plain": [
       "        year  doi_year  treatpost  yearpost\n",
       "198794  2017    2018.0      False       0.0\n",
       "49120   2016    2018.0      False       0.0\n",
       "128383  2013    2018.0      False       0.0\n",
       "221959  2018    2017.0       True       1.0\n",
       "134618  2013    2018.0      False       0.0\n",
       "51373   2016    2018.0      False       0.0\n",
       "23471   2014    2018.0      False       0.0\n",
       "202497  2017    2017.0       True       0.0\n",
       "80430   2018    2018.0       True       0.0\n",
       "241800  2019    2018.0       True       1.0"
      ]
     },
     "execution_count": 34,
     "metadata": {},
     "output_type": "execute_result"
    }
   ],
   "source": [
    "# phase-in effect (yearpost)\n",
    "data[['year', 'doi_year', 'treatpost', 'yearpost']].sample(10)"
   ]
  },
  {
   "cell_type": "code",
   "execution_count": 35,
   "metadata": {},
   "outputs": [
    {
     "data": {
      "text/plain": [
       "0.0    216448\n",
       "1.0     28412\n",
       "2.0     11537\n",
       "Name: yearpost, dtype: int64"
      ]
     },
     "execution_count": 35,
     "metadata": {},
     "output_type": "execute_result"
    }
   ],
   "source": [
    "data.yearpost.value_counts()"
   ]
  },
  {
   "cell_type": "markdown",
   "metadata": {},
   "source": [
    "## Pretrends - yearpre"
   ]
  },
  {
   "cell_type": "code",
   "execution_count": 36,
   "metadata": {
    "scrolled": true
   },
   "outputs": [
    {
     "data": {
      "text/html": [
       "<div>\n",
       "<style scoped>\n",
       "    .dataframe tbody tr th:only-of-type {\n",
       "        vertical-align: middle;\n",
       "    }\n",
       "\n",
       "    .dataframe tbody tr th {\n",
       "        vertical-align: top;\n",
       "    }\n",
       "\n",
       "    .dataframe thead th {\n",
       "        text-align: right;\n",
       "    }\n",
       "</style>\n",
       "<table border=\"1\" class=\"dataframe\">\n",
       "  <thead>\n",
       "    <tr style=\"text-align: right;\">\n",
       "      <th></th>\n",
       "      <th>year</th>\n",
       "      <th>doi_year</th>\n",
       "      <th>treatpost</th>\n",
       "      <th>yearpost</th>\n",
       "      <th>yearpre</th>\n",
       "    </tr>\n",
       "  </thead>\n",
       "  <tbody>\n",
       "    <tr>\n",
       "      <th>227741</th>\n",
       "      <td>2019</td>\n",
       "      <td>2017.0</td>\n",
       "      <td>True</td>\n",
       "      <td>2.0</td>\n",
       "      <td>0.0</td>\n",
       "    </tr>\n",
       "    <tr>\n",
       "      <th>44347</th>\n",
       "      <td>2015</td>\n",
       "      <td>2018.0</td>\n",
       "      <td>False</td>\n",
       "      <td>0.0</td>\n",
       "      <td>-3.0</td>\n",
       "    </tr>\n",
       "    <tr>\n",
       "      <th>156592</th>\n",
       "      <td>2015</td>\n",
       "      <td>2018.0</td>\n",
       "      <td>False</td>\n",
       "      <td>0.0</td>\n",
       "      <td>-3.0</td>\n",
       "    </tr>\n",
       "    <tr>\n",
       "      <th>186154</th>\n",
       "      <td>2016</td>\n",
       "      <td>2018.0</td>\n",
       "      <td>False</td>\n",
       "      <td>0.0</td>\n",
       "      <td>-2.0</td>\n",
       "    </tr>\n",
       "    <tr>\n",
       "      <th>149407</th>\n",
       "      <td>2014</td>\n",
       "      <td>2017.0</td>\n",
       "      <td>False</td>\n",
       "      <td>0.0</td>\n",
       "      <td>-3.0</td>\n",
       "    </tr>\n",
       "  </tbody>\n",
       "</table>\n",
       "</div>"
      ],
      "text/plain": [
       "        year  doi_year  treatpost  yearpost  yearpre\n",
       "227741  2019    2017.0       True       2.0      0.0\n",
       "44347   2015    2018.0      False       0.0     -3.0\n",
       "156592  2015    2018.0      False       0.0     -3.0\n",
       "186154  2016    2018.0      False       0.0     -2.0\n",
       "149407  2014    2017.0      False       0.0     -3.0"
      ]
     },
     "execution_count": 36,
     "metadata": {},
     "output_type": "execute_result"
    }
   ],
   "source": [
    "# Pre-trends\n",
    "data[['year', 'doi_year', 'treatpost', 'yearpost', 'yearpre']].sample(5)"
   ]
  },
  {
   "cell_type": "code",
   "execution_count": 37,
   "metadata": {},
   "outputs": [
    {
     "data": {
      "text/plain": [
       " 0.0    72073\n",
       "-1.0    32297\n",
       "-2.0    32092\n",
       "-3.0    31836\n",
       "-4.0    31640\n",
       "-5.0    31408\n",
       "-6.0    20621\n",
       "-7.0     4080\n",
       "-8.0      350\n",
       "Name: yearpre, dtype: int64"
      ]
     },
     "execution_count": 37,
     "metadata": {},
     "output_type": "execute_result"
    }
   ],
   "source": [
    "data.yearpre.value_counts()"
   ]
  },
  {
   "cell_type": "code",
   "execution_count": 38,
   "metadata": {},
   "outputs": [
    {
     "data": {
      "text/html": [
       "<div>\n",
       "<style scoped>\n",
       "    .dataframe tbody tr th:only-of-type {\n",
       "        vertical-align: middle;\n",
       "    }\n",
       "\n",
       "    .dataframe tbody tr th {\n",
       "        vertical-align: top;\n",
       "    }\n",
       "\n",
       "    .dataframe thead th {\n",
       "        text-align: right;\n",
       "    }\n",
       "</style>\n",
       "<table border=\"1\" class=\"dataframe\">\n",
       "  <thead>\n",
       "    <tr style=\"text-align: right;\">\n",
       "      <th></th>\n",
       "      <th></th>\n",
       "      <th>district</th>\n",
       "      <th>doi_year</th>\n",
       "      <th>treatpost</th>\n",
       "    </tr>\n",
       "    <tr>\n",
       "      <th>campus</th>\n",
       "      <th>year</th>\n",
       "      <th></th>\n",
       "      <th></th>\n",
       "      <th></th>\n",
       "    </tr>\n",
       "  </thead>\n",
       "  <tbody>\n",
       "    <tr>\n",
       "      <th>226903102</th>\n",
       "      <th>2013</th>\n",
       "      <td>226903</td>\n",
       "      <td>2018.0</td>\n",
       "      <td>False</td>\n",
       "    </tr>\n",
       "    <tr>\n",
       "      <th>220908202</th>\n",
       "      <th>2014</th>\n",
       "      <td>220908</td>\n",
       "      <td>2017.0</td>\n",
       "      <td>False</td>\n",
       "    </tr>\n",
       "    <tr>\n",
       "      <th>61903102</th>\n",
       "      <th>2013</th>\n",
       "      <td>61903</td>\n",
       "      <td>2017.0</td>\n",
       "      <td>False</td>\n",
       "    </tr>\n",
       "    <tr>\n",
       "      <th>20907106</th>\n",
       "      <th>2017</th>\n",
       "      <td>20907</td>\n",
       "      <td>2018.0</td>\n",
       "      <td>False</td>\n",
       "    </tr>\n",
       "    <tr>\n",
       "      <th>220901121</th>\n",
       "      <th>2013</th>\n",
       "      <td>220901</td>\n",
       "      <td>2017.0</td>\n",
       "      <td>False</td>\n",
       "    </tr>\n",
       "  </tbody>\n",
       "</table>\n",
       "</div>"
      ],
      "text/plain": [
       "                district  doi_year  treatpost\n",
       "campus    year                               \n",
       "226903102 2013    226903    2018.0      False\n",
       "220908202 2014    220908    2017.0      False\n",
       "61903102  2013     61903    2017.0      False\n",
       "20907106  2017     20907    2018.0      False\n",
       "220901121 2013    220901    2017.0      False"
      ]
     },
     "execution_count": 38,
     "metadata": {},
     "output_type": "execute_result"
    }
   ],
   "source": [
    "#convert year to datetime\n",
    "df = data.reset_index()\n",
    "df['year'] = pd.to_datetime(df['year'], format='%Y')\n",
    "#add column year to index\n",
    "df = data.set_index(['year', 'campus'])\n",
    "#swap indexes\n",
    "df.index = df.index.swaplevel(0,1)\n",
    "df[['district', 'doi_year','treatpost']].sample(5, random_state = 8)"
   ]
  },
  {
   "cell_type": "markdown",
   "metadata": {},
   "source": [
    "# Specifications"
   ]
  },
  {
   "cell_type": "code",
   "execution_count": 39,
   "metadata": {},
   "outputs": [],
   "source": [
    "# Get table ready\n",
    "file = table_path + 'table3_gdid_and_event.xlsx'\n",
    "wb = load_workbook(file)\n",
    "ws = wb.active"
   ]
  },
  {
   "cell_type": "markdown",
   "metadata": {},
   "source": [
    "## Simple GDID"
   ]
  },
  {
   "cell_type": "code",
   "execution_count": 40,
   "metadata": {},
   "outputs": [
    {
     "name": "stdout",
     "output_type": "stream",
     "text": [
      "                          PanelOLS Estimation Summary                           \n",
      "================================================================================\n",
      "Dep. Variable:              score_std   R-squared:                        0.2155\n",
      "Estimator:                   PanelOLS   R-squared (Between):             -0.2055\n",
      "No. Observations:              256397   R-squared (Within):               0.2155\n",
      "Date:                Mon, Dec 30 2019   R-squared (Overall):              0.0375\n",
      "Time:                        21:24:52   Log-likelihood                -1.933e+05\n",
      "Cov. Estimator:             Clustered                                           \n",
      "                                        F-statistic:                      563.39\n",
      "Entities:                        6033   P-value                           0.0000\n",
      "Avg Obs:                       42.499   Distribution:              F(122,250242)\n",
      "Min Obs:                       1.0000                                           \n",
      "Max Obs:                       120.00   F-statistic (robust):             299.92\n",
      "                                        P-value                           0.0000\n",
      "Time periods:                       8   Distribution:              F(122,250242)\n",
      "Avg Obs:                    3.205e+04                                           \n",
      "Min Obs:                    3.128e+04                                           \n",
      "Max Obs:                    3.271e+04                                           \n",
      "                                                                                \n",
      "                                           Parameter Estimates                                           \n",
      "=========================================================================================================\n",
      "                                       Parameter  Std. Err.     T-stat    P-value    Lower CI    Upper CI\n",
      "---------------------------------------------------------------------------------------------------------\n",
      "Intercept                                 0.6153     0.0484     12.717     0.0000      0.5205      0.7102\n",
      "treatpost[T.True]                        -0.0253     0.0075    -3.3748     0.0007     -0.0401     -0.0106\n",
      "C(test_by_year)[T.alg_avescore2013]       0.0399     0.0085     4.7041     0.0000      0.0233      0.0566\n",
      "C(test_by_year)[T.alg_avescore2014]       0.1710     0.0094     18.230     0.0000      0.1526      0.1894\n",
      "C(test_by_year)[T.alg_avescore2015]       0.2532     0.0108     23.390     0.0000      0.2320      0.2744\n",
      "C(test_by_year)[T.alg_avescore2016]       0.4348     0.0121     35.819     0.0000      0.4110      0.4586\n",
      "C(test_by_year)[T.alg_avescore2017]       0.5185     0.0128     40.390     0.0000      0.4933      0.5436\n",
      "C(test_by_year)[T.alg_avescore2018]       0.6686     0.0157     42.614     0.0000      0.6378      0.6993\n",
      "C(test_by_year)[T.alg_avescore2019]       0.8283     0.0178     46.474     0.0000      0.7934      0.8633\n",
      "C(test_by_year)[T.bio_avescore2012]      -0.0284     0.0192    -1.4827     0.1382     -0.0661      0.0092\n",
      "C(test_by_year)[T.bio_avescore2013]       0.1569     0.0204     7.6896     0.0000      0.1169      0.1969\n",
      "C(test_by_year)[T.bio_avescore2014]       0.3213     0.0195     16.451     0.0000      0.2831      0.3596\n",
      "C(test_by_year)[T.bio_avescore2015]       0.6049     0.0222     27.307     0.0000      0.5615      0.6483\n",
      "C(test_by_year)[T.bio_avescore2016]       0.7158     0.0222     32.233     0.0000      0.6723      0.7593\n",
      "C(test_by_year)[T.bio_avescore2017]       0.7410     0.0229     32.319     0.0000      0.6960      0.7859\n",
      "C(test_by_year)[T.bio_avescore2018]       0.8596     0.0243     35.358     0.0000      0.8119      0.9072\n",
      "C(test_by_year)[T.bio_avescore2019]       0.9790     0.0240     40.747     0.0000      0.9320      1.0261\n",
      "C(test_by_year)[T.eng1_avescore2012]      0.3269     0.0188     17.435     0.0000      0.2902      0.3637\n",
      "C(test_by_year)[T.eng1_avescore2013]      0.2024     0.0217     9.3202     0.0000      0.1598      0.2449\n",
      "C(test_by_year)[T.eng1_avescore2014]      0.5893     0.0196     30.066     0.0000      0.5509      0.6278\n",
      "C(test_by_year)[T.eng1_avescore2015]      0.6566     0.0221     29.719     0.0000      0.6133      0.6999\n",
      "C(test_by_year)[T.eng1_avescore2016]      0.6498     0.0216     30.054     0.0000      0.6074      0.6922\n",
      "C(test_by_year)[T.eng1_avescore2017]      0.6566     0.0218     30.174     0.0000      0.6140      0.6993\n",
      "C(test_by_year)[T.eng1_avescore2018]      0.6635     0.0226     29.397     0.0000      0.6193      0.7078\n",
      "C(test_by_year)[T.eng1_avescore2019]      0.8639     0.0239     36.145     0.0000      0.8170      0.9107\n",
      "C(test_by_year)[T.m_3rd_avescore2012]    -0.3876     0.0307    -12.613     0.0000     -0.4478     -0.3274\n",
      "C(test_by_year)[T.m_3rd_avescore2013]    -0.2418     0.0316    -7.6642     0.0000     -0.3037     -0.1800\n",
      "C(test_by_year)[T.m_3rd_avescore2014]    -0.2563     0.0314    -8.1742     0.0000     -0.3178     -0.1949\n",
      "C(test_by_year)[T.m_3rd_avescore2015]    -0.5250     0.0308    -17.026     0.0000     -0.5854     -0.4646\n",
      "C(test_by_year)[T.m_3rd_avescore2016]    -0.2647     0.0311    -8.5000     0.0000     -0.3257     -0.2037\n",
      "C(test_by_year)[T.m_3rd_avescore2017]    -0.1283     0.0320    -4.0110     0.0001     -0.1909     -0.0656\n",
      "C(test_by_year)[T.m_3rd_avescore2018]    -0.1433     0.0325    -4.4089     0.0000     -0.2070     -0.0796\n",
      "C(test_by_year)[T.m_3rd_avescore2019]    -0.0583     0.0325    -1.7919     0.0732     -0.1221      0.0055\n",
      "C(test_by_year)[T.m_4th_avescore2012]    -0.5459     0.0310    -17.593     0.0000     -0.6068     -0.4851\n",
      "C(test_by_year)[T.m_4th_avescore2013]    -0.5209     0.0311    -16.722     0.0000     -0.5819     -0.4598\n",
      "C(test_by_year)[T.m_4th_avescore2014]    -0.2436     0.0311    -7.8340     0.0000     -0.3045     -0.1826\n",
      "C(test_by_year)[T.m_4th_avescore2015]    -0.5205     0.0306    -17.009     0.0000     -0.5804     -0.4605\n",
      "C(test_by_year)[T.m_4th_avescore2016]    -0.1989     0.0309    -6.4400     0.0000     -0.2594     -0.1384\n",
      "C(test_by_year)[T.m_4th_avescore2017]     0.0250     0.0315     0.7938     0.4273     -0.0367      0.0867\n",
      "C(test_by_year)[T.m_4th_avescore2018]     0.0283     0.0321     0.8815     0.3780     -0.0346      0.0912\n",
      "C(test_by_year)[T.m_4th_avescore2019]     0.1348     0.0327     4.1177     0.0000      0.0707      0.1990\n",
      "C(test_by_year)[T.m_5th_avescore2012]    -0.6724     0.0301    -22.322     0.0000     -0.7315     -0.6134\n",
      "C(test_by_year)[T.m_5th_avescore2013]    -0.6094     0.0308    -19.776     0.0000     -0.6697     -0.5490\n",
      "C(test_by_year)[T.m_5th_avescore2014]    -0.4483     0.0304    -14.737     0.0000     -0.5079     -0.3887\n",
      "C(test_by_year)[T.m_5th_avescore2015]    -0.4795     0.0302    -15.870     0.0000     -0.5387     -0.4203\n",
      "C(test_by_year)[T.m_5th_avescore2016]    -0.3341     0.0305    -10.939     0.0000     -0.3940     -0.2742\n",
      "C(test_by_year)[T.m_5th_avescore2017]    -0.0640     0.0307    -2.0823     0.0373     -0.1243     -0.0038\n",
      "C(test_by_year)[T.m_5th_avescore2018]     0.0785     0.0317     2.4805     0.0131      0.0165      0.1406\n",
      "C(test_by_year)[T.m_5th_avescore2019]     0.3149     0.0326     9.6647     0.0000      0.2511      0.3788\n",
      "C(test_by_year)[T.m_6th_avescore2012]    -0.3024     0.0249    -12.158     0.0000     -0.3512     -0.2537\n",
      "C(test_by_year)[T.m_6th_avescore2013]    -0.3893     0.0251    -15.518     0.0000     -0.4385     -0.3402\n",
      "C(test_by_year)[T.m_6th_avescore2014]    -0.2627     0.0251    -10.473     0.0000     -0.3119     -0.2135\n",
      "C(test_by_year)[T.m_6th_avescore2015]    -0.3254     0.0243    -13.398     0.0000     -0.3730     -0.2778\n",
      "C(test_by_year)[T.m_6th_avescore2016]    -0.1600     0.0250    -6.4030     0.0000     -0.2090     -0.1110\n",
      "C(test_by_year)[T.m_6th_avescore2017]    -0.1336     0.0262    -5.0973     0.0000     -0.1850     -0.0822\n",
      "C(test_by_year)[T.m_6th_avescore2018]    -0.0042     0.0264    -0.1593     0.8735     -0.0559      0.0475\n",
      "C(test_by_year)[T.m_6th_avescore2019]     0.1106     0.0277     3.9921     0.0001      0.0563      0.1649\n",
      "C(test_by_year)[T.m_7th_avescore2012]    -0.3578     0.0234    -15.270     0.0000     -0.4037     -0.3119\n",
      "C(test_by_year)[T.m_7th_avescore2013]    -0.4043     0.0243    -16.623     0.0000     -0.4520     -0.3567\n",
      "C(test_by_year)[T.m_7th_avescore2014]    -0.4682     0.0245    -19.114     0.0000     -0.5162     -0.4202\n",
      "C(test_by_year)[T.m_7th_avescore2015]    -0.2144     0.0249    -8.6064     0.0000     -0.2632     -0.1656\n",
      "C(test_by_year)[T.m_7th_avescore2016]     0.0351     0.0274     1.2826     0.1996     -0.0185      0.0887\n",
      "C(test_by_year)[T.m_7th_avescore2017]    -0.0011     0.0277    -0.0413     0.9671     -0.0555      0.0532\n",
      "C(test_by_year)[T.m_7th_avescore2018]     0.1027     0.0286     3.5956     0.0003      0.0467      0.1586\n",
      "C(test_by_year)[T.m_7th_avescore2019]     0.1017     0.0295     3.4528     0.0006      0.0440      0.1595\n",
      "C(test_by_year)[T.m_8th_avescore2012]    -0.0295     0.0219    -1.3457     0.1784     -0.0724      0.0134\n",
      "C(test_by_year)[T.m_8th_avescore2013]    -0.0269     0.0229    -1.1748     0.2401     -0.0718      0.0180\n",
      "C(test_by_year)[T.m_8th_avescore2014]     0.1948     0.0238     8.1795     0.0000      0.1482      0.2415\n",
      "C(test_by_year)[T.m_8th_avescore2015]    -0.1572     0.0224    -7.0074     0.0000     -0.2012     -0.1133\n",
      "C(test_by_year)[T.m_8th_avescore2016]     0.0749     0.0237     3.1578     0.0016      0.0284      0.1214\n",
      "C(test_by_year)[T.m_8th_avescore2017]     0.2412     0.0261     9.2451     0.0000      0.1900      0.2923\n",
      "C(test_by_year)[T.m_8th_avescore2018]     0.5253     0.0275     19.134     0.0000      0.4715      0.5791\n",
      "C(test_by_year)[T.m_8th_avescore2019]     0.7172     0.0287     24.971     0.0000      0.6609      0.7735\n",
      "C(test_by_year)[T.r_3rd_avescore2012]    -0.6498     0.0307    -21.155     0.0000     -0.7100     -0.5896\n",
      "C(test_by_year)[T.r_3rd_avescore2013]    -0.6178     0.0309    -20.023     0.0000     -0.6783     -0.5573\n",
      "C(test_by_year)[T.r_3rd_avescore2014]    -0.6337     0.0309    -20.538     0.0000     -0.6942     -0.5732\n",
      "C(test_by_year)[T.r_3rd_avescore2015]    -0.5250     0.0308    -17.037     0.0000     -0.5854     -0.4646\n",
      "C(test_by_year)[T.r_3rd_avescore2016]    -0.4237     0.0310    -13.674     0.0000     -0.4845     -0.3630\n",
      "C(test_by_year)[T.r_3rd_avescore2017]    -0.4156     0.0315    -13.182     0.0000     -0.4774     -0.3538\n",
      "C(test_by_year)[T.r_3rd_avescore2018]    -0.3579     0.0323    -11.088     0.0000     -0.4211     -0.2946\n",
      "C(test_by_year)[T.r_3rd_avescore2019]    -0.2796     0.0323    -8.6510     0.0000     -0.3429     -0.2162\n",
      "C(test_by_year)[T.r_4th_avescore2012]    -0.4589     0.0308    -14.909     0.0000     -0.5192     -0.3986\n",
      "C(test_by_year)[T.r_4th_avescore2013]    -0.5751     0.0308    -18.702     0.0000     -0.6354     -0.5148\n",
      "C(test_by_year)[T.r_4th_avescore2014]    -0.6858     0.0306    -22.412     0.0000     -0.7458     -0.6259\n",
      "C(test_by_year)[T.r_4th_avescore2015]    -0.5205     0.0310    -16.783     0.0000     -0.5812     -0.4597\n",
      "C(test_by_year)[T.r_4th_avescore2016]    -0.4463     0.0307    -14.540     0.0000     -0.5065     -0.3862\n",
      "C(test_by_year)[T.r_4th_avescore2017]    -0.4888     0.0313    -15.609     0.0000     -0.5502     -0.4275\n",
      "C(test_by_year)[T.r_4th_avescore2018]    -0.4022     0.0319    -12.623     0.0000     -0.4647     -0.3398\n",
      "C(test_by_year)[T.r_4th_avescore2019]    -0.3716     0.0326    -11.408     0.0000     -0.4355     -0.3078\n",
      "C(test_by_year)[T.r_5th_avescore2012]    -0.7053     0.0296    -23.811     0.0000     -0.7634     -0.6473\n",
      "C(test_by_year)[T.r_5th_avescore2013]    -0.6338     0.0302    -20.990     0.0000     -0.6930     -0.5746\n",
      "C(test_by_year)[T.r_5th_avescore2014]    -0.5389     0.0303    -17.774     0.0000     -0.5983     -0.4794\n",
      "C(test_by_year)[T.r_5th_avescore2015]    -0.4792     0.0305    -15.724     0.0000     -0.5390     -0.4195\n",
      "C(test_by_year)[T.r_5th_avescore2016]    -0.4120     0.0306    -13.466     0.0000     -0.4720     -0.3521\n",
      "C(test_by_year)[T.r_5th_avescore2017]    -0.5845     0.0305    -19.180     0.0000     -0.6442     -0.5248\n",
      "C(test_by_year)[T.r_5th_avescore2018]    -0.1270     0.0308    -4.1269     0.0000     -0.1873     -0.0667\n",
      "C(test_by_year)[T.r_5th_avescore2019]    -0.1211     0.0316    -3.8374     0.0001     -0.1830     -0.0593\n",
      "C(test_by_year)[T.r_6th_avescore2012]    -0.3135     0.0251    -12.492     0.0000     -0.3627     -0.2643\n",
      "C(test_by_year)[T.r_6th_avescore2013]    -0.2989     0.0269    -11.126     0.0000     -0.3516     -0.2463\n",
      "C(test_by_year)[T.r_6th_avescore2014]    -0.3422     0.0255    -13.413     0.0000     -0.3922     -0.2922\n",
      "C(test_by_year)[T.r_6th_avescore2015]    -0.3096     0.0265    -11.676     0.0000     -0.3616     -0.2576\n",
      "C(test_by_year)[T.r_6th_avescore2016]    -0.2998     0.0268    -11.196     0.0000     -0.3522     -0.2473\n",
      "C(test_by_year)[T.r_6th_avescore2017]    -0.5699     0.0265    -21.502     0.0000     -0.6219     -0.5180\n",
      "C(test_by_year)[T.r_6th_avescore2018]    -0.5873     0.0270    -21.713     0.0000     -0.6403     -0.5343\n",
      "C(test_by_year)[T.r_6th_avescore2019]    -0.6268     0.0274    -22.911     0.0000     -0.6804     -0.5732\n",
      "C(test_by_year)[T.r_7th_avescore2012]    -0.2752     0.0231    -11.923     0.0000     -0.3204     -0.2299\n",
      "C(test_by_year)[T.r_7th_avescore2013]    -0.2897     0.0241    -11.998     0.0000     -0.3370     -0.2424\n",
      "C(test_by_year)[T.r_7th_avescore2014]    -0.3595     0.0250    -14.354     0.0000     -0.4085     -0.3104\n",
      "C(test_by_year)[T.r_7th_avescore2015]    -0.2018     0.0263    -7.6784     0.0000     -0.2533     -0.1503\n",
      "C(test_by_year)[T.r_7th_avescore2016]    -0.2022     0.0268    -7.5534     0.0000     -0.2546     -0.1497\n",
      "C(test_by_year)[T.r_7th_avescore2017]    -0.2505     0.0271    -9.2383     0.0000     -0.3037     -0.1974\n",
      "C(test_by_year)[T.r_7th_avescore2018]    -0.0372     0.0286    -1.3006     0.1934     -0.0932      0.0189\n",
      "C(test_by_year)[T.r_7th_avescore2019]    -0.0087     0.0285    -0.3040     0.7611     -0.0646      0.0472\n",
      "C(test_by_year)[T.r_8th_avescore2012]    -0.2314     0.0249    -9.2844     0.0000     -0.2803     -0.1826\n",
      "C(test_by_year)[T.r_8th_avescore2013]    -0.0109     0.0241    -0.4513     0.6518     -0.0581      0.0364\n",
      "C(test_by_year)[T.r_8th_avescore2014]    -0.0135     0.0247    -0.5446     0.5860     -0.0620      0.0350\n",
      "C(test_by_year)[T.r_8th_avescore2015]    -0.1503     0.0261    -5.7666     0.0000     -0.2014     -0.0992\n",
      "C(test_by_year)[T.r_8th_avescore2016]    -0.0189     0.0244    -0.7759     0.4378     -0.0667      0.0289\n",
      "C(test_by_year)[T.r_8th_avescore2017]    -0.1714     0.0259    -6.6128     0.0000     -0.2222     -0.1206\n",
      "C(test_by_year)[T.r_8th_avescore2018]    -0.0641     0.0270    -2.3761     0.0175     -0.1170     -0.0112\n",
      "C(test_by_year)[T.r_8th_avescore2019]     0.0545     0.0281     1.9399     0.0524     -0.0006      0.1095\n",
      "students_hisp                            -0.6591     0.0909    -7.2514     0.0000     -0.8372     -0.4809\n",
      "students_num                          -3.456e-05  3.511e-05    -0.9843     0.3250     -0.0001   3.425e-05\n",
      "=========================================================================================================\n",
      "\n",
      "F-test for Poolability: 84.160\n",
      "P-value: 0.0000\n",
      "Distribution: F(6032,250242)\n",
      "\n",
      "Included effects: Entity\n"
     ]
    }
   ],
   "source": [
    "test = pd.Categorical(df.test)\n",
    "mod = PanelOLS.from_formula('score_std ~ + 1 + treatpost + students_hisp + students_num + C(test_by_year) + EntityEffects', df)\n",
    "res = mod.fit(cov_type='clustered', cluster_entity=True)\n",
    "print(res)\n",
    "ws.cell(row= 3, column= 2).value = coef_with_stars(res.params['treatpost[T.True]'], res.pvalues['treatpost[T.True]'])\n",
    "ws.cell(row= 4, column= 2).value = format_se(res.std_errors['treatpost[T.True]'])"
   ]
  },
  {
   "cell_type": "markdown",
   "metadata": {},
   "source": [
    "## GDID with Trends"
   ]
  },
  {
   "cell_type": "code",
   "execution_count": 42,
   "metadata": {},
   "outputs": [
    {
     "ename": "AbsorbingEffectError",
     "evalue": "\nThe model cannot be estimated. The included effects have fully absorbed\none or more of the variables. This occurs when one or more of the dependent\nvariable is perfectly explained using the effects included in the model.\n\nThe following variables or variable combinations have been fully absorbed\nor have become perfectly collinear after effects are removed:\n\n          Intercept, C(test_by_year)[T.alg_avescore2013], C(test_by_year)[T.alg_avescore2014], C(test_by_year)[T.alg_avescore2015], C(test_by_year)[T.alg_avescore2016], C(test_by_year)[T.alg_avescore2017], C(test_by_year)[T.alg_avescore2018], C(test_by_year)[T.alg_avescore2019], C(test_by_year)[T.bio_avescore2013], C(test_by_year)[T.bio_avescore2014], C(test_by_year)[T.bio_avescore2015], C(test_by_year)[T.bio_avescore2016], C(test_by_year)[T.bio_avescore2017], C(test_by_year)[T.bio_avescore2018], C(test_by_year)[T.bio_avescore2019], C(test_by_year)[T.eng1_avescore2013], C(test_by_year)[T.eng1_avescore2014], C(test_by_year)[T.eng1_avescore2015], C(test_by_year)[T.eng1_avescore2016], C(test_by_year)[T.eng1_avescore2017], C(test_by_year)[T.eng1_avescore2018], C(test_by_year)[T.eng1_avescore2019], C(test_by_year)[T.m_3rd_avescore2013], C(test_by_year)[T.m_3rd_avescore2014], C(test_by_year)[T.m_3rd_avescore2015], C(test_by_year)[T.m_3rd_avescore2016], C(test_by_year)[T.m_3rd_avescore2017], C(test_by_year)[T.m_3rd_avescore2018], C(test_by_year)[T.m_3rd_avescore2019], C(test_by_year)[T.m_4th_avescore2013], C(test_by_year)[T.m_4th_avescore2014], C(test_by_year)[T.m_4th_avescore2015], C(test_by_year)[T.m_4th_avescore2016], C(test_by_year)[T.m_4th_avescore2017], C(test_by_year)[T.m_4th_avescore2018], C(test_by_year)[T.m_4th_avescore2019], C(test_by_year)[T.m_5th_avescore2013], C(test_by_year)[T.m_5th_avescore2014], C(test_by_year)[T.m_5th_avescore2015], C(test_by_year)[T.m_5th_avescore2016], C(test_by_year)[T.m_5th_avescore2017], C(test_by_year)[T.m_5th_avescore2018], C(test_by_year)[T.m_5th_avescore2019], C(test_by_year)[T.m_6th_avescore2013], C(test_by_year)[T.m_6th_avescore2014], C(test_by_year)[T.m_6th_avescore2015], C(test_by_year)[T.m_6th_avescore2016], C(test_by_year)[T.m_6th_avescore2017], C(test_by_year)[T.m_6th_avescore2018], C(test_by_year)[T.m_6th_avescore2019], C(test_by_year)[T.m_7th_avescore2013], C(test_by_year)[T.m_7th_avescore2014], C(test_by_year)[T.m_7th_avescore2015], C(test_by_year)[T.m_7th_avescore2016], C(test_by_year)[T.m_7th_avescore2017], C(test_by_year)[T.m_7th_avescore2018], C(test_by_year)[T.m_7th_avescore2019], C(test_by_year)[T.m_8th_avescore2013], C(test_by_year)[T.m_8th_avescore2014], C(test_by_year)[T.m_8th_avescore2015], C(test_by_year)[T.m_8th_avescore2016], C(test_by_year)[T.m_8th_avescore2017], C(test_by_year)[T.m_8th_avescore2018], C(test_by_year)[T.m_8th_avescore2019], C(test_by_year)[T.r_3rd_avescore2013], C(test_by_year)[T.r_3rd_avescore2014], C(test_by_year)[T.r_3rd_avescore2015], C(test_by_year)[T.r_3rd_avescore2016], C(test_by_year)[T.r_3rd_avescore2017], C(test_by_year)[T.r_3rd_avescore2018], C(test_by_year)[T.r_3rd_avescore2019], C(test_by_year)[T.r_4th_avescore2013], C(test_by_year)[T.r_4th_avescore2014], C(test_by_year)[T.r_4th_avescore2015], C(test_by_year)[T.r_4th_avescore2016], C(test_by_year)[T.r_4th_avescore2017], C(test_by_year)[T.r_4th_avescore2018], C(test_by_year)[T.r_4th_avescore2019], C(test_by_year)[T.r_5th_avescore2013], C(test_by_year)[T.r_5th_avescore2014], C(test_by_year)[T.r_5th_avescore2015], C(test_by_year)[T.r_5th_avescore2016], C(test_by_year)[T.r_5th_avescore2017], C(test_by_year)[T.r_5th_avescore2018], C(test_by_year)[T.r_5th_avescore2019], C(test_by_year)[T.r_6th_avescore2013], C(test_by_year)[T.r_6th_avescore2014], C(test_by_year)[T.r_6th_avescore2015], C(test_by_year)[T.r_6th_avescore2016], C(test_by_year)[T.r_6th_avescore2017], C(test_by_year)[T.r_6th_avescore2018], C(test_by_year)[T.r_6th_avescore2019], C(test_by_year)[T.r_7th_avescore2013], C(test_by_year)[T.r_7th_avescore2014], C(test_by_year)[T.r_7th_avescore2015], C(test_by_year)[T.r_7th_avescore2016], C(test_by_year)[T.r_7th_avescore2017], C(test_by_year)[T.r_7th_avescore2018], C(test_by_year)[T.r_7th_avescore2019], C(test_by_year)[T.r_8th_avescore2013], C(test_by_year)[T.r_8th_avescore2014], C(test_by_year)[T.r_8th_avescore2015], C(test_by_year)[T.r_8th_avescore2016], C(test_by_year)[T.r_8th_avescore2017], C(test_by_year)[T.r_8th_avescore2018], C(test_by_year)[T.r_8th_avescore2019], yearpost, yearpre\n\nSet drop_absorbed=True to automatically drop absorbed variables.\n",
     "output_type": "error",
     "traceback": [
      "\u001b[0;31m---------------------------------------------------------------------------\u001b[0m",
      "\u001b[0;31mAbsorbingEffectError\u001b[0m                      Traceback (most recent call last)",
      "\u001b[0;32m<ipython-input-42-0065a4262bba>\u001b[0m in \u001b[0;36m<module>\u001b[0;34m()\u001b[0m\n\u001b[1;32m      1\u001b[0m \u001b[0mmod\u001b[0m \u001b[0;34m=\u001b[0m \u001b[0mPanelOLS\u001b[0m\u001b[0;34m.\u001b[0m\u001b[0mfrom_formula\u001b[0m\u001b[0;34m(\u001b[0m\u001b[0;34m'score_std ~ + 1 + treatpost + yearpost + yearpre + students_hisp + students_num + C(test_by_year) + EntityEffects'\u001b[0m\u001b[0;34m,\u001b[0m \u001b[0mdf\u001b[0m\u001b[0;34m)\u001b[0m\u001b[0;34m\u001b[0m\u001b[0;34m\u001b[0m\u001b[0m\n\u001b[1;32m      2\u001b[0m \u001b[0;31m#mod = PanelOLS.from_formula('score_std ~ + 1 + treatpost + yearpost + yearpre + students_hisp + students_num + TimeEffects + EntityEffects', df)\u001b[0m\u001b[0;34m\u001b[0m\u001b[0;34m\u001b[0m\u001b[0;34m\u001b[0m\u001b[0m\n\u001b[0;32m----> 3\u001b[0;31m \u001b[0mres\u001b[0m \u001b[0;34m=\u001b[0m \u001b[0mmod\u001b[0m\u001b[0;34m.\u001b[0m\u001b[0mfit\u001b[0m\u001b[0;34m(\u001b[0m\u001b[0mcov_type\u001b[0m\u001b[0;34m=\u001b[0m\u001b[0;34m'clustered'\u001b[0m\u001b[0;34m,\u001b[0m \u001b[0mcluster_entity\u001b[0m\u001b[0;34m=\u001b[0m\u001b[0;32mTrue\u001b[0m\u001b[0;34m)\u001b[0m\u001b[0;34m\u001b[0m\u001b[0;34m\u001b[0m\u001b[0m\n\u001b[0m\u001b[1;32m      4\u001b[0m \u001b[0mprint\u001b[0m\u001b[0;34m(\u001b[0m\u001b[0mres\u001b[0m\u001b[0;34m)\u001b[0m\u001b[0;34m\u001b[0m\u001b[0;34m\u001b[0m\u001b[0m\n\u001b[1;32m      5\u001b[0m \u001b[0;31m#intercept = res.params['Intercept']\u001b[0m\u001b[0;34m\u001b[0m\u001b[0;34m\u001b[0m\u001b[0;34m\u001b[0m\u001b[0m\n",
      "\u001b[0;32m~/anaconda/envs/spacy/lib/python3.7/site-packages/linearmodels/panel/model.py\u001b[0m in \u001b[0;36mfit\u001b[0;34m(self, use_lsdv, use_lsmr, low_memory, cov_type, debiased, auto_df, count_effects, **cov_config)\u001b[0m\n\u001b[1;32m   1306\u001b[0m         \u001b[0;32mif\u001b[0m \u001b[0mself\u001b[0m\u001b[0;34m.\u001b[0m\u001b[0mentity_effects\u001b[0m \u001b[0;32mor\u001b[0m \u001b[0mself\u001b[0m\u001b[0;34m.\u001b[0m\u001b[0mtime_effects\u001b[0m \u001b[0;32mor\u001b[0m \u001b[0mself\u001b[0m\u001b[0;34m.\u001b[0m\u001b[0mother_effects\u001b[0m\u001b[0;34m:\u001b[0m\u001b[0;34m\u001b[0m\u001b[0;34m\u001b[0m\u001b[0m\n\u001b[1;32m   1307\u001b[0m             \u001b[0;32mif\u001b[0m \u001b[0;32mnot\u001b[0m \u001b[0mself\u001b[0m\u001b[0;34m.\u001b[0m\u001b[0m_drop_absorbed\u001b[0m\u001b[0;34m:\u001b[0m\u001b[0;34m\u001b[0m\u001b[0;34m\u001b[0m\u001b[0m\n\u001b[0;32m-> 1308\u001b[0;31m                 \u001b[0mcheck_absorbed\u001b[0m\u001b[0;34m(\u001b[0m\u001b[0mx\u001b[0m\u001b[0;34m,\u001b[0m \u001b[0mself\u001b[0m\u001b[0;34m.\u001b[0m\u001b[0mexog\u001b[0m\u001b[0;34m.\u001b[0m\u001b[0mvars\u001b[0m\u001b[0;34m)\u001b[0m\u001b[0;34m\u001b[0m\u001b[0;34m\u001b[0m\u001b[0m\n\u001b[0m\u001b[1;32m   1309\u001b[0m             \u001b[0;32melse\u001b[0m\u001b[0;34m:\u001b[0m\u001b[0;34m\u001b[0m\u001b[0;34m\u001b[0m\u001b[0m\n\u001b[1;32m   1310\u001b[0m                 \u001b[0mretain\u001b[0m \u001b[0;34m=\u001b[0m \u001b[0mnot_absorbed\u001b[0m\u001b[0;34m(\u001b[0m\u001b[0mx\u001b[0m\u001b[0;34m)\u001b[0m\u001b[0;34m\u001b[0m\u001b[0;34m\u001b[0m\u001b[0m\n",
      "\u001b[0;32m~/anaconda/envs/spacy/lib/python3.7/site-packages/linearmodels/panel/utility.py\u001b[0m in \u001b[0;36mcheck_absorbed\u001b[0;34m(x, variables)\u001b[0m\n\u001b[1;32m    392\u001b[0m         \u001b[0mabsorbed_variables\u001b[0m \u001b[0;34m=\u001b[0m \u001b[0;34m'\\n'\u001b[0m\u001b[0;34m.\u001b[0m\u001b[0mjoin\u001b[0m\u001b[0;34m(\u001b[0m\u001b[0mrows\u001b[0m\u001b[0;34m)\u001b[0m\u001b[0;34m\u001b[0m\u001b[0;34m\u001b[0m\u001b[0m\n\u001b[1;32m    393\u001b[0m         \u001b[0mmsg\u001b[0m \u001b[0;34m=\u001b[0m \u001b[0mabsorbing_error_msg\u001b[0m\u001b[0;34m.\u001b[0m\u001b[0mformat\u001b[0m\u001b[0;34m(\u001b[0m\u001b[0mabsorbed_variables\u001b[0m\u001b[0;34m=\u001b[0m\u001b[0mabsorbed_variables\u001b[0m\u001b[0;34m)\u001b[0m\u001b[0;34m\u001b[0m\u001b[0;34m\u001b[0m\u001b[0m\n\u001b[0;32m--> 394\u001b[0;31m         \u001b[0;32mraise\u001b[0m \u001b[0mAbsorbingEffectError\u001b[0m\u001b[0;34m(\u001b[0m\u001b[0mmsg\u001b[0m\u001b[0;34m)\u001b[0m\u001b[0;34m\u001b[0m\u001b[0;34m\u001b[0m\u001b[0m\n\u001b[0m\u001b[1;32m    395\u001b[0m \u001b[0;34m\u001b[0m\u001b[0m\n\u001b[1;32m    396\u001b[0m \u001b[0;34m\u001b[0m\u001b[0m\n",
      "\u001b[0;31mAbsorbingEffectError\u001b[0m: \nThe model cannot be estimated. The included effects have fully absorbed\none or more of the variables. This occurs when one or more of the dependent\nvariable is perfectly explained using the effects included in the model.\n\nThe following variables or variable combinations have been fully absorbed\nor have become perfectly collinear after effects are removed:\n\n          Intercept, C(test_by_year)[T.alg_avescore2013], C(test_by_year)[T.alg_avescore2014], C(test_by_year)[T.alg_avescore2015], C(test_by_year)[T.alg_avescore2016], C(test_by_year)[T.alg_avescore2017], C(test_by_year)[T.alg_avescore2018], C(test_by_year)[T.alg_avescore2019], C(test_by_year)[T.bio_avescore2013], C(test_by_year)[T.bio_avescore2014], C(test_by_year)[T.bio_avescore2015], C(test_by_year)[T.bio_avescore2016], C(test_by_year)[T.bio_avescore2017], C(test_by_year)[T.bio_avescore2018], C(test_by_year)[T.bio_avescore2019], C(test_by_year)[T.eng1_avescore2013], C(test_by_year)[T.eng1_avescore2014], C(test_by_year)[T.eng1_avescore2015], C(test_by_year)[T.eng1_avescore2016], C(test_by_year)[T.eng1_avescore2017], C(test_by_year)[T.eng1_avescore2018], C(test_by_year)[T.eng1_avescore2019], C(test_by_year)[T.m_3rd_avescore2013], C(test_by_year)[T.m_3rd_avescore2014], C(test_by_year)[T.m_3rd_avescore2015], C(test_by_year)[T.m_3rd_avescore2016], C(test_by_year)[T.m_3rd_avescore2017], C(test_by_year)[T.m_3rd_avescore2018], C(test_by_year)[T.m_3rd_avescore2019], C(test_by_year)[T.m_4th_avescore2013], C(test_by_year)[T.m_4th_avescore2014], C(test_by_year)[T.m_4th_avescore2015], C(test_by_year)[T.m_4th_avescore2016], C(test_by_year)[T.m_4th_avescore2017], C(test_by_year)[T.m_4th_avescore2018], C(test_by_year)[T.m_4th_avescore2019], C(test_by_year)[T.m_5th_avescore2013], C(test_by_year)[T.m_5th_avescore2014], C(test_by_year)[T.m_5th_avescore2015], C(test_by_year)[T.m_5th_avescore2016], C(test_by_year)[T.m_5th_avescore2017], C(test_by_year)[T.m_5th_avescore2018], C(test_by_year)[T.m_5th_avescore2019], C(test_by_year)[T.m_6th_avescore2013], C(test_by_year)[T.m_6th_avescore2014], C(test_by_year)[T.m_6th_avescore2015], C(test_by_year)[T.m_6th_avescore2016], C(test_by_year)[T.m_6th_avescore2017], C(test_by_year)[T.m_6th_avescore2018], C(test_by_year)[T.m_6th_avescore2019], C(test_by_year)[T.m_7th_avescore2013], C(test_by_year)[T.m_7th_avescore2014], C(test_by_year)[T.m_7th_avescore2015], C(test_by_year)[T.m_7th_avescore2016], C(test_by_year)[T.m_7th_avescore2017], C(test_by_year)[T.m_7th_avescore2018], C(test_by_year)[T.m_7th_avescore2019], C(test_by_year)[T.m_8th_avescore2013], C(test_by_year)[T.m_8th_avescore2014], C(test_by_year)[T.m_8th_avescore2015], C(test_by_year)[T.m_8th_avescore2016], C(test_by_year)[T.m_8th_avescore2017], C(test_by_year)[T.m_8th_avescore2018], C(test_by_year)[T.m_8th_avescore2019], C(test_by_year)[T.r_3rd_avescore2013], C(test_by_year)[T.r_3rd_avescore2014], C(test_by_year)[T.r_3rd_avescore2015], C(test_by_year)[T.r_3rd_avescore2016], C(test_by_year)[T.r_3rd_avescore2017], C(test_by_year)[T.r_3rd_avescore2018], C(test_by_year)[T.r_3rd_avescore2019], C(test_by_year)[T.r_4th_avescore2013], C(test_by_year)[T.r_4th_avescore2014], C(test_by_year)[T.r_4th_avescore2015], C(test_by_year)[T.r_4th_avescore2016], C(test_by_year)[T.r_4th_avescore2017], C(test_by_year)[T.r_4th_avescore2018], C(test_by_year)[T.r_4th_avescore2019], C(test_by_year)[T.r_5th_avescore2013], C(test_by_year)[T.r_5th_avescore2014], C(test_by_year)[T.r_5th_avescore2015], C(test_by_year)[T.r_5th_avescore2016], C(test_by_year)[T.r_5th_avescore2017], C(test_by_year)[T.r_5th_avescore2018], C(test_by_year)[T.r_5th_avescore2019], C(test_by_year)[T.r_6th_avescore2013], C(test_by_year)[T.r_6th_avescore2014], C(test_by_year)[T.r_6th_avescore2015], C(test_by_year)[T.r_6th_avescore2016], C(test_by_year)[T.r_6th_avescore2017], C(test_by_year)[T.r_6th_avescore2018], C(test_by_year)[T.r_6th_avescore2019], C(test_by_year)[T.r_7th_avescore2013], C(test_by_year)[T.r_7th_avescore2014], C(test_by_year)[T.r_7th_avescore2015], C(test_by_year)[T.r_7th_avescore2016], C(test_by_year)[T.r_7th_avescore2017], C(test_by_year)[T.r_7th_avescore2018], C(test_by_year)[T.r_7th_avescore2019], C(test_by_year)[T.r_8th_avescore2013], C(test_by_year)[T.r_8th_avescore2014], C(test_by_year)[T.r_8th_avescore2015], C(test_by_year)[T.r_8th_avescore2016], C(test_by_year)[T.r_8th_avescore2017], C(test_by_year)[T.r_8th_avescore2018], C(test_by_year)[T.r_8th_avescore2019], yearpost, yearpre\n\nSet drop_absorbed=True to automatically drop absorbed variables.\n"
     ]
    }
   ],
   "source": [
    "mod = PanelOLS.from_formula('score_std ~ + 1 + treatpost + yearpost + yearpre + students_hisp + students_num + C(test_by_year) + EntityEffects', df)\n",
    "#mod = PanelOLS.from_formula('score_std ~ + 1 + treatpost + yearpost + yearpre + students_hisp + students_num + TimeEffects + EntityEffects', df)\n",
    "res = mod.fit(cov_type='clustered', cluster_entity=True)\n",
    "print(res)\n",
    "#intercept = res.params['Intercept']\n",
    "jump = res.params['treatpost[T.True]']\n",
    "preslope = res.params['yearpre']\n",
    "preslope_se = res.std_errors['yearpre']\n",
    "postslope = res.params['yearpost']\n",
    "post_slope = res.std_errors['yearpost']\n",
    "ws.cell(row= 6, column= 2).value = coef_with_stars(res.params['treatpost[T.True]'], res.pvalues['treatpost[T.True]'])\n",
    "ws.cell(row= 7, column= 2).value = format_se(res.std_errors['treatpost[T.True]'])\n",
    "ws.cell(row= 8, column= 2).value = coef_with_stars(res.params['yearpost'], res.pvalues['yearpost'])\n",
    "ws.cell(row= 9, column= 2).value = format_se(res.std_errors['yearpost'])\n",
    "ws.cell(row= 10, column= 2).value = coef_with_stars(res.params['yearpre'], res.pvalues['yearpre'])\n",
    "ws.cell(row= 11, column= 2).value = format_se(res.std_errors['yearpre'])\n",
    "wb.save(file)"
   ]
  },
  {
   "cell_type": "markdown",
   "metadata": {},
   "source": [
    "# Non-parametric event study"
   ]
  },
  {
   "cell_type": "code",
   "execution_count": null,
   "metadata": {
    "scrolled": true
   },
   "outputs": [],
   "source": [
    "df[['test_by_year', 'doi_year', 'treatpost', 'yearpost', 'yearpre',\n",
    "   'pre6', 'pre5', 'pre4', 'pre3', 'pre2', 'pre1', 'pre0',\n",
    "    'post1', 'post2', 'post3']].groupby(['test_by_year']).agg('mean')"
   ]
  },
  {
   "cell_type": "code",
   "execution_count": null,
   "metadata": {},
   "outputs": [],
   "source": [
    "df[(df.test_by_year == 'alg_avescore2012') & (df.pre0 == 1)][['doi_year', 'treatpost', 'yearpost', 'yearpre',\n",
    "    'pre5', 'pre4', 'pre3', 'pre2', 'pre1', 'pre0',\n",
    "    'post1', 'post2', 'post3']]"
   ]
  },
  {
   "cell_type": "code",
   "execution_count": null,
   "metadata": {},
   "outputs": [],
   "source": [
    "df.head()"
   ]
  },
  {
   "cell_type": "code",
   "execution_count": null,
   "metadata": {
    "scrolled": true
   },
   "outputs": [],
   "source": [
    "mod = PanelOLS.from_formula('score_std ~ + 1 + pre5 + pre4 + pre3 + pre2 + pre1 + post1 + post2 + post3 + students_hisp + students_num + C(test_by_year) + EntityEffects', df)\n",
    "res = mod.fit(cov_type='clustered', cluster_entity=True)\n",
    "print(res)\n",
    "nonparametric = []\n",
    "nonparametric_se = []\n",
    "for coef in ['pre5', 'pre4', 'pre3', 'pre2', 'pre1', 'pre0', 'post1', 'post2', 'post3']:\n",
    "    nonpar = 0\n",
    "    nonpar_se = 0\n",
    "    if coef != 'pre0':\n",
    "        nonpar = res.params[coef]\n",
    "        nonpar_se = res.std_errors[coef]\n",
    "    nonparametric.append(nonpar)\n",
    "    nonparametric_se.append(nonpar_se)\n",
    "print(nonparametric)\n",
    "row = 3\n",
    "for coef in ['post3', 'post2', 'post1', 'pre1', 'pre2', 'pre3', 'pre4', 'pre5']:\n",
    "    ws.cell(row= row, column= 4).value = coef_with_stars(res.params[coef], res.pvalues[coef])\n",
    "    row = row + 1\n",
    "    ws.cell(row= row, column= 4).value = format_se(res.std_errors[coef])  \n",
    "    row = row + 1\n",
    "wb.save(file)"
   ]
  },
  {
   "cell_type": "code",
   "execution_count": null,
   "metadata": {},
   "outputs": [],
   "source": [
    "df.pre1.value_counts()"
   ]
  },
  {
   "cell_type": "code",
   "execution_count": null,
   "metadata": {},
   "outputs": [],
   "source": [
    "coef_df = pd.DataFrame({'coef': nonparametric,\n",
    "                        'err': nonparametric_se,\n",
    "                        'year': [-5, -4, -3, -2, -1,0 , 1, 2, 3]\n",
    "                       })\n",
    "coef_df['lb'] = coef_df.coef - (1.96*coef_df.err)\n",
    "coef_df['ub'] = coef_df.coef + (1.96*coef_df.err)\n",
    "coef_df"
   ]
  },
  {
   "cell_type": "code",
   "execution_count": null,
   "metadata": {},
   "outputs": [],
   "source": []
  },
  {
   "cell_type": "code",
   "execution_count": null,
   "metadata": {},
   "outputs": [],
   "source": [
    "fig, ax = plt.subplots(figsize=(8, 5))\n",
    "coef_df.plot(x='year', y='coef', kind='bar', \n",
    "             ax=ax, color='none', \n",
    "             yerr='err', legend=False)\n",
    "ax.set_ylabel('')\n",
    "ax.set_xlabel('')\n",
    "ax.scatter(x=pd.np.arange(coef_df.shape[0]), \n",
    "           marker='s', s=120, \n",
    "           y=coef_df['coef'], color='black')\n",
    "ax.axhline(y=0, linestyle='--', color='black', linewidth=4)\n",
    "ax.xaxis.set_ticks_position('none')\n",
    "_ = ax.set_xticklabels(['Pre5', 'Pre4', 'Pre3', 'Pre2', 'Pre1', 'Pre0', 'Post1', 'Post2', 'Post3'], \n",
    "                       rotation=0)\n",
    "#ax.set_title('Impact on Student Achievement - Event Study Coefficients', fontsize = 16)"
   ]
  },
  {
   "cell_type": "markdown",
   "metadata": {},
   "source": [
    "# Create graph (look up how to use predicted values)\n"
   ]
  },
  {
   "cell_type": "code",
   "execution_count": null,
   "metadata": {},
   "outputs": [],
   "source": [
    "years = [-5, -4, -3, -2, -1, 0, 1, 2, 3]\n",
    "parametric = []\n",
    "parametric_lb = []\n",
    "for year in years:\n",
    "    par = 0\n",
    "    if year < 0 :\n",
    "        par = (year * preslope)\n",
    "    if year > 0 :\n",
    "        par = jump + (year * postslope)\n",
    "    parametric.append(par)\n",
    "parametric"
   ]
  },
  {
   "cell_type": "code",
   "execution_count": null,
   "metadata": {
    "scrolled": true
   },
   "outputs": [],
   "source": [
    "nonparametric"
   ]
  },
  {
   "cell_type": "code",
   "execution_count": null,
   "metadata": {},
   "outputs": [],
   "source": [
    "plt.plot(years, parametric)\n",
    "plt.plot(years, nonparametric)"
   ]
  },
  {
   "cell_type": "markdown",
   "metadata": {},
   "source": [
    "# Table by Subject"
   ]
  },
  {
   "cell_type": "code",
   "execution_count": null,
   "metadata": {},
   "outputs": [],
   "source": [
    "subjects = ['m_3rd_avescore', 'r_3rd_avescore',\n",
    "            'm_4th_avescore', 'r_4th_avescore', \n",
    "            'm_5th_avescore', 'r_5th_avescore', \n",
    "            'm_6th_avescore', 'r_6th_avescore',\n",
    "            'm_7th_avescore', 'r_7th_avescore',\n",
    "            'm_8th_avescore', 'r_8th_avescore',\n",
    "            'alg_avescore', 'bio_avescore', 'eng1_avescore']"
   ]
  },
  {
   "cell_type": "code",
   "execution_count": null,
   "metadata": {
    "scrolled": false
   },
   "outputs": [],
   "source": [
    "# All Subject Table\n",
    "file = table_path + 'tableA_effect_by_subject.xlsx'\n",
    "wb = load_workbook(file)\n",
    "ws = wb.active\n",
    "\n",
    "col = 3\n",
    "for subject in subjects:\n",
    "    \n",
    "    df_sub = df[df.test == subject]\n",
    "    test = pd.Categorical(df_sub.test)\n",
    "    \n",
    "    # GDID\n",
    "    mod = PanelOLS.from_formula('score_std ~ + 1 + treatpost + students_hisp + students_num + C(test_by_year) + EntityEffects', df_sub)\n",
    "    res = mod.fit(cov_type='clustered', cluster_entity=True)\n",
    "    ws.cell(row= 4, column= col).value = bonferroni(len(subjects), res.params['treatpost[T.True]'], res.pvalues['treatpost[T.True]'])\n",
    "    ws.cell(row= 5, column= col).value = format_se(res.std_errors['treatpost[T.True]'])\n",
    "\n",
    "    # GDID with Trend\n",
    "    mod = PanelOLS.from_formula('score_std ~ + 1 + treatpost + yearpost + yearpre + students_hisp + students_num + C(test_by_year) + EntityEffects', df_sub)\n",
    "    #mod = PanelOLS.from_formula('score_std ~ + 1 + treatpost + yearpost + yearpre + students_hisp + students_num + TimeEffects + EntityEffects', df_sub)\n",
    "    res = mod.fit(cov_type='clustered', cluster_entity=True)\n",
    "    jump = res.params['treatpost[T.True]']\n",
    "    preslope = res.params['yearpre']\n",
    "    preslope_se = res.std_errors['yearpre']\n",
    "    postslope = res.params['yearpost']\n",
    "    post_slope = res.std_errors['yearpost']\n",
    "    ws.cell(row= 7, column= col).value = bonferroni(len(subjects), res.params['treatpost[T.True]'], res.pvalues['treatpost[T.True]'])\n",
    "    ws.cell(row= 8, column= col).value = format_se(res.std_errors['treatpost[T.True]'])\n",
    "    ws.cell(row= 9, column= col).value = bonferroni(len(subjects), res.params['yearpost'], res.pvalues['yearpost'])\n",
    "    ws.cell(row= 10, column= col).value = format_se(res.std_errors['yearpost'])\n",
    "    ws.cell(row= 11, column= col).value = bonferroni(len(subjects), res.params['yearpre'], res.pvalues['yearpre'])\n",
    "    ws.cell(row= 12, column= col).value = format_se(res.std_errors['yearpre'])\n",
    "    wb.save(file)\n",
    "\n",
    "    # Event Study\n",
    "    mod = PanelOLS.from_formula('score_std ~ + 1 + pre5 + pre4 + pre3 + pre2 + pre1 + post1 + post2 + post3 + students_hisp + students_num + C(test_by_year) + EntityEffects', df_sub)\n",
    "    res = mod.fit(cov_type='clustered', cluster_entity=True)\n",
    "    nonparametric = []\n",
    "    nonparametric_se = []\n",
    "    for coef in ['pre5', 'pre4', 'pre3', 'pre2', 'pre1', 'pre0', 'post1', 'post2', 'post3']:\n",
    "        nonpar = 0\n",
    "        nonpar_se = 0\n",
    "        if coef != 'pre0':\n",
    "            nonpar = res.params[coef]\n",
    "            nonpar_se = res.std_errors[coef]\n",
    "        nonparametric.append(nonpar)\n",
    "        nonparametric_se.append(nonpar_se)\n",
    "    print(nonparametric)\n",
    "    row = 14\n",
    "    for coef in ['post3', 'post2', 'post1', 'pre1', 'pre2', 'pre3', 'pre4', 'pre5']:\n",
    "        ws.cell(row= row, column= col).value = bonferroni(len(subjects), res.params[coef], res.pvalues[coef])\n",
    "        row = row + 1\n",
    "        ws.cell(row= row, column= col).value = format_se(res.std_errors[coef])  \n",
    "        row = row + 1\n",
    "    wb.save(file)\n",
    "    col = col + 1"
   ]
  },
  {
   "cell_type": "markdown",
   "metadata": {},
   "source": [
    "# Effects without 6th Grade Math"
   ]
  },
  {
   "cell_type": "code",
   "execution_count": null,
   "metadata": {},
   "outputs": [],
   "source": [
    "file = table_path + 'tableA2_gdid_and_event.xlsx'\n",
    "wb = load_workbook(file)\n",
    "ws = wb.active\n",
    "\n",
    "\n",
    "df_limited = df[df.test != 'm_6th_avescore']\n",
    "\n",
    "test = pd.Categorical(df_limited.test)\n",
    "mod = PanelOLS.from_formula('score_std ~ + 1 + treatpost + students_hisp + students_num + C(test_by_year) + EntityEffects', df_limited)\n",
    "res = mod.fit(cov_type='clustered', cluster_entity=True)\n",
    "print(res)\n",
    "ws.cell(row= 3, column= 2).value = coef_with_stars(res.params['treatpost[T.True]'], res.pvalues['treatpost[T.True]'])\n",
    "ws.cell(row= 4, column= 2).value = format_se(res.std_errors['treatpost[T.True]'])\n",
    "\n",
    "mod = PanelOLS.from_formula('score_std ~ + 1 + treatpost + yearpost + yearpre + students_hisp + students_num + C(test_by_year) + EntityEffects', df_limited)\n",
    "#mod = PanelOLS.from_formula('score_std ~ + 1 + treatpost + yearpost + yearpre + students_hisp + students_num + TimeEffects + EntityEffects', df_limited)\n",
    "res = mod.fit(cov_type='clustered', cluster_entity=True)\n",
    "print(res)\n",
    "#intercept = res.params['Intercept']\n",
    "jump = res.params['treatpost[T.True]']\n",
    "preslope = res.params['yearpre']\n",
    "preslope_se = res.std_errors['yearpre']\n",
    "postslope = res.params['yearpost']\n",
    "post_slope = res.std_errors['yearpost']\n",
    "ws.cell(row= 6, column= 2).value = coef_with_stars(res.params['treatpost[T.True]'], res.pvalues['treatpost[T.True]'])\n",
    "ws.cell(row= 7, column= 2).value = format_se(res.std_errors['treatpost[T.True]'])\n",
    "ws.cell(row= 8, column= 2).value = coef_with_stars(res.params['yearpost'], res.pvalues['yearpost'])\n",
    "ws.cell(row= 9, column= 2).value = format_se(res.std_errors['yearpost'])\n",
    "ws.cell(row= 10, column= 2).value = coef_with_stars(res.params['yearpre'], res.pvalues['yearpre'])\n",
    "ws.cell(row= 11, column= 2).value = format_se(res.std_errors['yearpre'])\n",
    "wb.save(file)\n",
    "\n",
    "mod = PanelOLS.from_formula('score_std ~ + 1 + pre5 + pre4 + pre3 + pre2 + pre1 + post1 + post2 + post3 + students_hisp + students_num + C(test_by_year) + EntityEffects', df_limited)\n",
    "res = mod.fit(cov_type='clustered', cluster_entity=True)\n",
    "print(res)\n",
    "nonparametric = []\n",
    "nonparametric_se = []\n",
    "for coef in ['pre5', 'pre4', 'pre3', 'pre2', 'pre1', 'pre0', 'post1', 'post2', 'post3']:\n",
    "    nonpar = 0\n",
    "    nonpar_se = 0\n",
    "    if coef != 'pre0':\n",
    "        nonpar = res.params[coef]\n",
    "        nonpar_se = res.std_errors[coef]\n",
    "    nonparametric.append(nonpar)\n",
    "    nonparametric_se.append(nonpar_se)\n",
    "print(nonparametric)\n",
    "row = 3\n",
    "for coef in ['post3', 'post2', 'post1', 'pre1', 'pre2', 'pre3', 'pre4', 'pre5']:\n",
    "    ws.cell(row= row, column= 4).value = coef_with_stars(res.params[coef], res.pvalues[coef])\n",
    "    row = row + 1\n",
    "    ws.cell(row= row, column= 4).value = format_se(res.std_errors[coef])  \n",
    "    row = row + 1\n",
    "wb.save(file)"
   ]
  },
  {
   "cell_type": "code",
   "execution_count": null,
   "metadata": {},
   "outputs": [],
   "source": []
  }
 ],
 "metadata": {
  "kernelspec": {
   "display_name": "Python [conda env:spacy]",
   "language": "python",
   "name": "conda-env-spacy-py"
  },
  "language_info": {
   "codemirror_mode": {
    "name": "ipython",
    "version": 3
   },
   "file_extension": ".py",
   "mimetype": "text/x-python",
   "name": "python",
   "nbconvert_exporter": "python",
   "pygments_lexer": "ipython3",
   "version": "3.7.2"
  }
 },
 "nbformat": 4,
 "nbformat_minor": 2
}
