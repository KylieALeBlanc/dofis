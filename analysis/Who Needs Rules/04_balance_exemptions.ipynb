{
 "cells": [
  {
   "cell_type": "code",
   "execution_count": 6,
   "metadata": {},
   "outputs": [],
   "source": [
    "import sys\n",
    "sys.path.append(\"../\")\n",
    "\n",
    "import pandas as pd\n",
    "import os\n",
    "import statsmodels.formula.api as sm\n",
    "import numpy as np\n",
    "import statsmodels.formula.api as smf\n",
    "\n",
    "\n",
    "from library import regulations\n",
    "from library import characteristics\n",
    "from library import analysis\n",
    "from library import tables"
   ]
  },
  {
   "cell_type": "code",
   "execution_count": 7,
   "metadata": {},
   "outputs": [
    {
     "name": "stderr",
     "output_type": "stream",
     "text": [
      "/Users/kylieleblancKylie/anaconda/envs/spacy/lib/python3.7/site-packages/IPython/core/interactiveshell.py:2785: DtypeWarning: Columns (6) have mixed types. Specify dtype option on import or set low_memory=False.\n",
      "  interactivity=interactivity, compiler=compiler, result=result)\n"
     ]
    }
   ],
   "source": [
    "data_path = '/Users/kylieleblancKylie/domino/dofis/data/'\n",
    "table_path = '/Users/kylieleblancKylie/domino/dofis/results/Who Needs Rules/'\n",
    "data = pd.read_csv(os.path.join(data_path, 'clean', 'master_data_district.csv'),\n",
    "                  sep=\",\")\n"
   ]
  },
  {
   "cell_type": "code",
   "execution_count": 8,
   "metadata": {},
   "outputs": [],
   "source": [
    "data = data[data.year == 2016]\n",
    "data = data[data.doi == True]"
   ]
  },
  {
   "cell_type": "code",
   "execution_count": 9,
   "metadata": {},
   "outputs": [],
   "source": [
    "data['teachers_turnover_ratio_d'] = data.teachers_turnover_ratio_d /100"
   ]
  },
  {
   "cell_type": "code",
   "execution_count": 10,
   "metadata": {},
   "outputs": [
    {
     "data": {
      "text/plain": [
       "4901    0.213\n",
       "4902    0.149\n",
       "4903    0.225\n",
       "4904    0.136\n",
       "4905    0.219\n",
       "        ...  \n",
       "6102    0.144\n",
       "6103    0.100\n",
       "6104    0.251\n",
       "6105    0.111\n",
       "6107    0.309\n",
       "Name: teachers_turnover_ratio_d, Length: 822, dtype: float64"
      ]
     },
     "execution_count": 10,
     "metadata": {},
     "output_type": "execute_result"
    }
   ],
   "source": [
    "data.teachers_turnover_ratio_d"
   ]
  },
  {
   "cell_type": "code",
   "execution_count": 11,
   "metadata": {},
   "outputs": [
    {
     "name": "stderr",
     "output_type": "stream",
     "text": [
      "/Users/kylieleblancKylie/anaconda/envs/spacy/lib/python3.7/site-packages/statsmodels/compat/pandas.py:49: FutureWarning: The Panel class is removed from pandas. Accessing it from the top-level namespace will also be removed in the next version\n",
      "  data_klasses = (pandas.Series, pandas.DataFrame, pandas.Panel)\n"
     ]
    },
    {
     "name": "stdout",
     "output_type": "stream",
     "text": [
      "teachers_exp_ave ~ + 1 + reg25_0811\n",
      "teachers_tenure_ave ~ + 1 + reg25_0811\n",
      "teachers_turnover_ratio_d ~ + 1 + reg25_0811\n",
      "students_teacher_ratio ~ + 1 + reg25_0811\n",
      "students_hisp ~ + 1 + reg25_0811\n",
      "students_white ~ + 1 + reg25_0811\n",
      "students_black ~ + 1 + reg25_0811\n",
      "students_frpl ~ + 1 + reg25_0811\n",
      "avescores ~ + 1 + reg25_0811\n",
      "teachers_exp_ave ~ + 1 + reg25_081\n",
      "teachers_tenure_ave ~ + 1 + reg25_081\n",
      "teachers_turnover_ratio_d ~ + 1 + reg25_081\n",
      "students_teacher_ratio ~ + 1 + reg25_081\n",
      "students_hisp ~ + 1 + reg25_081\n",
      "students_white ~ + 1 + reg25_081\n",
      "students_black ~ + 1 + reg25_081\n",
      "students_frpl ~ + 1 + reg25_081\n",
      "avescores ~ + 1 + reg25_081\n",
      "teachers_exp_ave ~ + 1 + reg25_0812\n",
      "teachers_tenure_ave ~ + 1 + reg25_0812\n",
      "teachers_turnover_ratio_d ~ + 1 + reg25_0812\n",
      "students_teacher_ratio ~ + 1 + reg25_0812\n",
      "students_hisp ~ + 1 + reg25_0812\n",
      "students_white ~ + 1 + reg25_0812\n",
      "students_black ~ + 1 + reg25_0812\n",
      "students_frpl ~ + 1 + reg25_0812\n",
      "avescores ~ + 1 + reg25_0812\n",
      "teachers_exp_ave ~ + 1 + reg25_082\n",
      "teachers_tenure_ave ~ + 1 + reg25_082\n",
      "teachers_turnover_ratio_d ~ + 1 + reg25_082\n",
      "students_teacher_ratio ~ + 1 + reg25_082\n",
      "students_hisp ~ + 1 + reg25_082\n",
      "students_white ~ + 1 + reg25_082\n",
      "students_black ~ + 1 + reg25_082\n",
      "students_frpl ~ + 1 + reg25_082\n",
      "avescores ~ + 1 + reg25_082\n",
      "teachers_exp_ave ~ + 1 + reg25_112\n",
      "teachers_tenure_ave ~ + 1 + reg25_112\n",
      "teachers_turnover_ratio_d ~ + 1 + reg25_112\n",
      "students_teacher_ratio ~ + 1 + reg25_112\n",
      "students_hisp ~ + 1 + reg25_112\n",
      "students_white ~ + 1 + reg25_112\n",
      "students_black ~ + 1 + reg25_112\n",
      "students_frpl ~ + 1 + reg25_112\n",
      "avescores ~ + 1 + reg25_112\n",
      "teachers_exp_ave ~ + 1 + reg25_113\n",
      "teachers_tenure_ave ~ + 1 + reg25_113\n",
      "teachers_turnover_ratio_d ~ + 1 + reg25_113\n",
      "students_teacher_ratio ~ + 1 + reg25_113\n",
      "students_hisp ~ + 1 + reg25_113\n",
      "students_white ~ + 1 + reg25_113\n",
      "students_black ~ + 1 + reg25_113\n",
      "students_frpl ~ + 1 + reg25_113\n",
      "avescores ~ + 1 + reg25_113\n",
      "teachers_exp_ave ~ + 1 + reg21_0003\n",
      "teachers_tenure_ave ~ + 1 + reg21_0003\n",
      "teachers_turnover_ratio_d ~ + 1 + reg21_0003\n",
      "students_teacher_ratio ~ + 1 + reg21_0003\n",
      "students_hisp ~ + 1 + reg21_0003\n",
      "students_white ~ + 1 + reg21_0003\n",
      "students_black ~ + 1 + reg21_0003\n",
      "students_frpl ~ + 1 + reg21_0003\n",
      "avescores ~ + 1 + reg21_0003\n",
      "teachers_exp_ave ~ + 1 + reg21_053\n",
      "teachers_tenure_ave ~ + 1 + reg21_053\n",
      "teachers_turnover_ratio_d ~ + 1 + reg21_053\n",
      "students_teacher_ratio ~ + 1 + reg21_053\n",
      "students_hisp ~ + 1 + reg21_053\n",
      "students_white ~ + 1 + reg21_053\n",
      "students_black ~ + 1 + reg21_053\n",
      "students_frpl ~ + 1 + reg21_053\n",
      "avescores ~ + 1 + reg21_053\n",
      "teachers_exp_ave ~ + 1 + reg21_057\n",
      "teachers_tenure_ave ~ + 1 + reg21_057\n",
      "teachers_turnover_ratio_d ~ + 1 + reg21_057\n",
      "students_teacher_ratio ~ + 1 + reg21_057\n",
      "students_hisp ~ + 1 + reg21_057\n",
      "students_white ~ + 1 + reg21_057\n",
      "students_black ~ + 1 + reg21_057\n",
      "students_frpl ~ + 1 + reg21_057\n",
      "avescores ~ + 1 + reg21_057\n",
      "teachers_exp_ave ~ + 1 + reg21_102\n",
      "teachers_tenure_ave ~ + 1 + reg21_102\n",
      "teachers_turnover_ratio_d ~ + 1 + reg21_102\n",
      "students_teacher_ratio ~ + 1 + reg21_102\n",
      "students_hisp ~ + 1 + reg21_102\n",
      "students_white ~ + 1 + reg21_102\n",
      "students_black ~ + 1 + reg21_102\n",
      "students_frpl ~ + 1 + reg21_102\n",
      "avescores ~ + 1 + reg21_102\n",
      "teachers_exp_ave ~ + 1 + reg21_401\n",
      "teachers_tenure_ave ~ + 1 + reg21_401\n",
      "teachers_turnover_ratio_d ~ + 1 + reg21_401\n",
      "students_teacher_ratio ~ + 1 + reg21_401\n",
      "students_hisp ~ + 1 + reg21_401\n",
      "students_white ~ + 1 + reg21_401\n",
      "students_black ~ + 1 + reg21_401\n",
      "students_frpl ~ + 1 + reg21_401\n",
      "avescores ~ + 1 + reg21_401\n",
      "teachers_exp_ave ~ + 1 + reg21_352\n",
      "teachers_tenure_ave ~ + 1 + reg21_352\n",
      "teachers_turnover_ratio_d ~ + 1 + reg21_352\n",
      "students_teacher_ratio ~ + 1 + reg21_352\n",
      "students_hisp ~ + 1 + reg21_352\n",
      "students_white ~ + 1 + reg21_352\n",
      "students_black ~ + 1 + reg21_352\n",
      "students_frpl ~ + 1 + reg21_352\n",
      "avescores ~ + 1 + reg21_352\n",
      "teachers_exp_ave ~ + 1 + reg25_092\n",
      "teachers_tenure_ave ~ + 1 + reg25_092\n",
      "teachers_turnover_ratio_d ~ + 1 + reg25_092\n",
      "students_teacher_ratio ~ + 1 + reg25_092\n",
      "students_hisp ~ + 1 + reg25_092\n",
      "students_white ~ + 1 + reg25_092\n",
      "students_black ~ + 1 + reg25_092\n",
      "students_frpl ~ + 1 + reg25_092\n",
      "avescores ~ + 1 + reg25_092\n",
      "teachers_exp_ave ~ + 1 + reg37_0012\n",
      "teachers_tenure_ave ~ + 1 + reg37_0012\n",
      "teachers_turnover_ratio_d ~ + 1 + reg37_0012\n",
      "students_teacher_ratio ~ + 1 + reg37_0012\n",
      "students_hisp ~ + 1 + reg37_0012\n",
      "students_white ~ + 1 + reg37_0012\n",
      "students_black ~ + 1 + reg37_0012\n",
      "students_frpl ~ + 1 + reg37_0012\n",
      "avescores ~ + 1 + reg37_0012\n",
      "teachers_exp_ave ~ + 1 + reg25_036\n",
      "teachers_tenure_ave ~ + 1 + reg25_036\n",
      "teachers_turnover_ratio_d ~ + 1 + reg25_036\n",
      "students_teacher_ratio ~ + 1 + reg25_036\n",
      "students_hisp ~ + 1 + reg25_036\n",
      "students_white ~ + 1 + reg25_036\n",
      "students_black ~ + 1 + reg25_036\n",
      "students_frpl ~ + 1 + reg25_036\n",
      "avescores ~ + 1 + reg25_036\n"
     ]
    }
   ],
   "source": [
    "for reg, col in zip(['reg25_0811', 'reg25_081', 'reg25_0812', 'reg25_082',\n",
    "                'reg25_112', 'reg25_113', 'reg21_0003', 'reg21_053', 'reg21_057',\n",
    "                'reg21_102', 'reg21_401', 'reg21_352', 'reg25_092', 'reg37_0012', 'reg25_036'], list(range(2,17))):\n",
    "    teacher = analysis.many_y_one_x(data = data, \n",
    "                                     y_list = characteristics.teacher,\n",
    "                                     y_labels = characteristics.labels,\n",
    "                                     x = reg)\n",
    "    student = analysis.many_y_one_x(data = data, \n",
    "                                     y_list = characteristics.student,\n",
    "                                     y_labels = characteristics.labels,\n",
    "                                     x = reg)\n",
    "    dfs = [teacher, student]\n",
    "    rows = [6,15]\n",
    "    for df, row in zip(dfs,rows):\n",
    "        tables.just_diff_to_excel(file = table_path + 'table4_balance_exemptions.xlsx', \n",
    "                                 df = df, \n",
    "                                 diff_col = 'Difference', \n",
    "                                 se_col = 'Std. Error', pvalue_col = 'P-value',\n",
    "                                 start_col = col, start_row = row)"
   ]
  },
  {
   "cell_type": "code",
   "execution_count": null,
   "metadata": {},
   "outputs": [],
   "source": []
  }
 ],
 "metadata": {
  "kernelspec": {
   "display_name": "Python 3.7.2 64-bit ('spacy': conda)",
   "language": "python",
   "name": "python37264bitspacycondac632d902c4c54f19b3da4fb768a0060a"
  },
  "language_info": {
   "codemirror_mode": {
    "name": "ipython",
    "version": 3
   },
   "file_extension": ".py",
   "mimetype": "text/x-python",
   "name": "python",
   "nbconvert_exporter": "python",
   "pygments_lexer": "ipython3",
   "version": "3.7.2"
  }
 },
 "nbformat": 4,
 "nbformat_minor": 2
}
