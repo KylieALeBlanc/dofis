{
 "cells": [
  {
   "cell_type": "code",
   "execution_count": 1,
   "metadata": {},
   "outputs": [],
   "source": [
    "import sys\n",
    "sys.path.append(\"../\")\n",
    "\n",
    "import pandas as pd\n",
    "import os\n",
    "import statsmodels.formula.api as sm\n",
    "import engarde.decorators as ed\n",
    "\n",
    "from library import regulations\n",
    "from library import characteristics\n",
    "from library import analysis\n",
    "from library import tables\n",
    "from library import start"
   ]
  },
  {
   "cell_type": "code",
   "execution_count": 8,
   "metadata": {},
   "outputs": [
    {
     "name": "stdout",
     "output_type": "stream",
     "text": [
      "822\n",
      "201\n"
     ]
    }
   ],
   "source": [
    "data_path = start.data_path\n",
    "table_path = start.table_path\n",
    "data = pd.read_csv(os.path.join(start.data_path, 'clean', 'master_data_district.csv'),\n",
    "                  sep=\",\", low_memory = False)\n",
    "data = data[data.year == 2017]\n",
    "data = data[data.distischarter == \"N\"]\n",
    "print(len(data[data.doi == True]))\n",
    "print(len(data[data.doi == False]))"
   ]
  },
  {
   "cell_type": "markdown",
   "metadata": {},
   "source": [
    "## District Characteristics"
   ]
  },
  {
   "cell_type": "code",
   "execution_count": 9,
   "metadata": {},
   "outputs": [
    {
     "name": "stdout",
     "output_type": "stream",
     "text": [
      "type_urban ~ + 1 + doi\n",
      "type_suburban ~ + 1 + doi\n",
      "type_town ~ + 1 + doi\n"
     ]
    },
    {
     "name": "stderr",
     "output_type": "stream",
     "text": [
      "/Users/kylieleblancKylie/anaconda/envs/spacy/lib/python3.7/site-packages/statsmodels/compat/pandas.py:49: FutureWarning: The Panel class is removed from pandas. Accessing it from the top-level namespace will also be removed in the next version\n",
      "  data_klasses = (pandas.Series, pandas.DataFrame, pandas.Panel)\n"
     ]
    },
    {
     "name": "stdout",
     "output_type": "stream",
     "text": [
      "type_rural ~ + 1 + doi\n"
     ]
    },
    {
     "data": {
      "text/html": [
       "<div>\n",
       "<style scoped>\n",
       "    .dataframe tbody tr th:only-of-type {\n",
       "        vertical-align: middle;\n",
       "    }\n",
       "\n",
       "    .dataframe tbody tr th {\n",
       "        vertical-align: top;\n",
       "    }\n",
       "\n",
       "    .dataframe thead th {\n",
       "        text-align: right;\n",
       "    }\n",
       "</style>\n",
       "<table border=\"1\" class=\"dataframe\">\n",
       "  <thead>\n",
       "    <tr style=\"text-align: right;\">\n",
       "      <th></th>\n",
       "      <th>Characteristic</th>\n",
       "      <th>Control</th>\n",
       "      <th>Difference</th>\n",
       "      <th>Std. Error</th>\n",
       "      <th>P-value</th>\n",
       "    </tr>\n",
       "  </thead>\n",
       "  <tbody>\n",
       "    <tr>\n",
       "      <th>0</th>\n",
       "      <td>Urban</td>\n",
       "      <td>0.06</td>\n",
       "      <td>-0.01</td>\n",
       "      <td>0.02</td>\n",
       "      <td>0.38</td>\n",
       "    </tr>\n",
       "    <tr>\n",
       "      <th>1</th>\n",
       "      <td>Suburban</td>\n",
       "      <td>0.19</td>\n",
       "      <td>0.05</td>\n",
       "      <td>0.03</td>\n",
       "      <td>0.11</td>\n",
       "    </tr>\n",
       "    <tr>\n",
       "      <th>2</th>\n",
       "      <td>Town</td>\n",
       "      <td>0.25</td>\n",
       "      <td>0.01</td>\n",
       "      <td>0.03</td>\n",
       "      <td>0.71</td>\n",
       "    </tr>\n",
       "    <tr>\n",
       "      <th>3</th>\n",
       "      <td>Rural</td>\n",
       "      <td>0.49</td>\n",
       "      <td>-0.05</td>\n",
       "      <td>0.04</td>\n",
       "      <td>0.18</td>\n",
       "    </tr>\n",
       "  </tbody>\n",
       "</table>\n",
       "</div>"
      ],
      "text/plain": [
       "  Characteristic  Control  Difference  Std. Error  P-value\n",
       "0          Urban     0.06       -0.01        0.02     0.38\n",
       "1       Suburban     0.19        0.05        0.03     0.11\n",
       "2           Town     0.25        0.01        0.03     0.71\n",
       "3          Rural     0.49       -0.05        0.04     0.18"
      ]
     },
     "execution_count": 9,
     "metadata": {},
     "output_type": "execute_result"
    }
   ],
   "source": [
    "# Traditional public schools versus DOI\n",
    "district = analysis.many_y_one_x(data = data, \n",
    "                                 y_list = characteristics.geography,\n",
    "                                 y_labels = characteristics.labels,\n",
    "                                 x = 'doi')\n",
    "district"
   ]
  },
  {
   "cell_type": "markdown",
   "metadata": {},
   "source": [
    "## Teacher Characteristics"
   ]
  },
  {
   "cell_type": "code",
   "execution_count": 10,
   "metadata": {},
   "outputs": [
    {
     "name": "stdout",
     "output_type": "stream",
     "text": [
      "teachers_exp_ave ~ + 1 + doi\n",
      "teachers_tenure_ave ~ + 1 + doi\n",
      "teachers_turnover_ratio_d ~ + 1 + doi\n",
      "students_teacher_ratio ~ + 1 + doi\n"
     ]
    },
    {
     "data": {
      "text/html": [
       "<div>\n",
       "<style scoped>\n",
       "    .dataframe tbody tr th:only-of-type {\n",
       "        vertical-align: middle;\n",
       "    }\n",
       "\n",
       "    .dataframe tbody tr th {\n",
       "        vertical-align: top;\n",
       "    }\n",
       "\n",
       "    .dataframe thead th {\n",
       "        text-align: right;\n",
       "    }\n",
       "</style>\n",
       "<table border=\"1\" class=\"dataframe\">\n",
       "  <thead>\n",
       "    <tr style=\"text-align: right;\">\n",
       "      <th></th>\n",
       "      <th>Characteristic</th>\n",
       "      <th>Control</th>\n",
       "      <th>Difference</th>\n",
       "      <th>Std. Error</th>\n",
       "      <th>P-value</th>\n",
       "    </tr>\n",
       "  </thead>\n",
       "  <tbody>\n",
       "    <tr>\n",
       "      <th>0</th>\n",
       "      <td>Ave. Experience Teaching</td>\n",
       "      <td>11.73</td>\n",
       "      <td>0.71</td>\n",
       "      <td>0.20</td>\n",
       "      <td>0.00</td>\n",
       "    </tr>\n",
       "    <tr>\n",
       "      <th>1</th>\n",
       "      <td>Ave. Tenure in District</td>\n",
       "      <td>6.72</td>\n",
       "      <td>0.35</td>\n",
       "      <td>0.16</td>\n",
       "      <td>0.03</td>\n",
       "    </tr>\n",
       "    <tr>\n",
       "      <th>2</th>\n",
       "      <td>Teacher Turnover Ratio</td>\n",
       "      <td>21.10</td>\n",
       "      <td>-2.36</td>\n",
       "      <td>0.72</td>\n",
       "      <td>0.00</td>\n",
       "    </tr>\n",
       "    <tr>\n",
       "      <th>3</th>\n",
       "      <td>Student-Teacher Ratio</td>\n",
       "      <td>12.48</td>\n",
       "      <td>0.29</td>\n",
       "      <td>0.19</td>\n",
       "      <td>0.13</td>\n",
       "    </tr>\n",
       "  </tbody>\n",
       "</table>\n",
       "</div>"
      ],
      "text/plain": [
       "             Characteristic  Control  Difference  Std. Error  P-value\n",
       "0  Ave. Experience Teaching    11.73        0.71        0.20     0.00\n",
       "1   Ave. Tenure in District     6.72        0.35        0.16     0.03\n",
       "2    Teacher Turnover Ratio    21.10       -2.36        0.72     0.00\n",
       "3     Student-Teacher Ratio    12.48        0.29        0.19     0.13"
      ]
     },
     "execution_count": 10,
     "metadata": {},
     "output_type": "execute_result"
    }
   ],
   "source": [
    "teacher = analysis.many_y_one_x(data = data, \n",
    "                                 y_list = characteristics.teacher,\n",
    "                                 y_labels = characteristics.labels,\n",
    "                                 x = 'doi')\n",
    "teacher"
   ]
  },
  {
   "cell_type": "markdown",
   "metadata": {},
   "source": [
    "## Student Characteristics"
   ]
  },
  {
   "cell_type": "code",
   "execution_count": 11,
   "metadata": {},
   "outputs": [
    {
     "name": "stdout",
     "output_type": "stream",
     "text": [
      "students_hisp ~ + 1 + doi\n",
      "students_white ~ + 1 + doi\n",
      "students_black ~ + 1 + doi\n",
      "students_frpl ~ + 1 + doi\n",
      "avescores ~ + 1 + doi\n"
     ]
    },
    {
     "data": {
      "text/html": [
       "<div>\n",
       "<style scoped>\n",
       "    .dataframe tbody tr th:only-of-type {\n",
       "        vertical-align: middle;\n",
       "    }\n",
       "\n",
       "    .dataframe tbody tr th {\n",
       "        vertical-align: top;\n",
       "    }\n",
       "\n",
       "    .dataframe thead th {\n",
       "        text-align: right;\n",
       "    }\n",
       "</style>\n",
       "<table border=\"1\" class=\"dataframe\">\n",
       "  <thead>\n",
       "    <tr style=\"text-align: right;\">\n",
       "      <th></th>\n",
       "      <th>Characteristic</th>\n",
       "      <th>Control</th>\n",
       "      <th>Difference</th>\n",
       "      <th>Std. Error</th>\n",
       "      <th>P-value</th>\n",
       "    </tr>\n",
       "  </thead>\n",
       "  <tbody>\n",
       "    <tr>\n",
       "      <th>0</th>\n",
       "      <td>Percent Hispanic</td>\n",
       "      <td>0.53</td>\n",
       "      <td>-0.17</td>\n",
       "      <td>0.02</td>\n",
       "      <td>0.00</td>\n",
       "    </tr>\n",
       "    <tr>\n",
       "      <th>1</th>\n",
       "      <td>Percent White</td>\n",
       "      <td>0.38</td>\n",
       "      <td>0.15</td>\n",
       "      <td>0.02</td>\n",
       "      <td>0.00</td>\n",
       "    </tr>\n",
       "    <tr>\n",
       "      <th>2</th>\n",
       "      <td>Percent Black</td>\n",
       "      <td>0.06</td>\n",
       "      <td>0.01</td>\n",
       "      <td>0.01</td>\n",
       "      <td>0.19</td>\n",
       "    </tr>\n",
       "    <tr>\n",
       "      <th>3</th>\n",
       "      <td>Percent Econ. Disadvantaged</td>\n",
       "      <td>0.66</td>\n",
       "      <td>-0.10</td>\n",
       "      <td>0.01</td>\n",
       "      <td>0.00</td>\n",
       "    </tr>\n",
       "    <tr>\n",
       "      <th>4</th>\n",
       "      <td>Average STAAR Performance (Std.)</td>\n",
       "      <td>-0.10</td>\n",
       "      <td>0.41</td>\n",
       "      <td>0.06</td>\n",
       "      <td>0.00</td>\n",
       "    </tr>\n",
       "  </tbody>\n",
       "</table>\n",
       "</div>"
      ],
      "text/plain": [
       "                     Characteristic  Control  Difference  Std. Error  P-value\n",
       "0                  Percent Hispanic     0.53       -0.17        0.02     0.00\n",
       "1                     Percent White     0.38        0.15        0.02     0.00\n",
       "2                     Percent Black     0.06        0.01        0.01     0.19\n",
       "3       Percent Econ. Disadvantaged     0.66       -0.10        0.01     0.00\n",
       "4  Average STAAR Performance (Std.)    -0.10        0.41        0.06     0.00"
      ]
     },
     "execution_count": 11,
     "metadata": {},
     "output_type": "execute_result"
    }
   ],
   "source": [
    "student = analysis.many_y_one_x(data = data, \n",
    "                                 y_list = characteristics.student,\n",
    "                                 y_labels = characteristics.labels,\n",
    "                                 x = 'doi')\n",
    "student"
   ]
  },
  {
   "cell_type": "markdown",
   "metadata": {},
   "source": [
    "\n",
    "## To table"
   ]
  },
  {
   "cell_type": "code",
   "execution_count": 12,
   "metadata": {},
   "outputs": [],
   "source": [
    "dfs = [district, teacher, student]\n",
    "rows = [6, 15, 24]\n",
    "tables.n_to_excel(file = table_path + 'balance_tpsVdoi.xlsx',\n",
    "                 col = 2, row = 4, n = len(data[data.doi == 0]))\n",
    "tables.n_to_excel(file = table_path + 'balance_tpsVdoi.xlsx',\n",
    "                 col = 3, row = 4, n = len(data[data.doi == 1]))\n",
    "for df, row in zip(dfs,rows):\n",
    "    tables.var_diff_to_excel(file = table_path + 'balance_tpsVdoi.xlsx', \n",
    "                             df = df, \n",
    "                             control_col = 'Control', \n",
    "                             diff_col = 'Difference', \n",
    "                             se_col = 'Std. Error', pvalue_col = 'P-value',\n",
    "                             start_col = 2, start_row = row)"
   ]
  },
  {
   "cell_type": "code",
   "execution_count": null,
   "metadata": {},
   "outputs": [],
   "source": []
  }
 ],
 "metadata": {
  "kernelspec": {
   "display_name": "Python [conda env:spacy]",
   "language": "python",
   "name": "conda-env-spacy-py"
  },
  "language_info": {
   "codemirror_mode": {
    "name": "ipython",
    "version": 3
   },
   "file_extension": ".py",
   "mimetype": "text/x-python",
   "name": "python",
   "nbconvert_exporter": "python",
   "pygments_lexer": "ipython3",
   "version": "3.7.2"
  }
 },
 "nbformat": 4,
 "nbformat_minor": 2
}
