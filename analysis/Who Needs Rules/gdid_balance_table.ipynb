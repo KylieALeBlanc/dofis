{
 "cells": [
  {
   "cell_type": "code",
   "execution_count": 1,
   "metadata": {},
   "outputs": [
    {
     "name": "stderr",
     "output_type": "stream",
     "text": [
      "/Users/kylieleblancKylie/anaconda/envs/spacy/lib/python3.7/site-packages/linearmodels/panel/data.py:10: FutureWarning: The Panel class is removed from pandas. Accessing it from the top-level namespace will also be removed in the next version\n",
      "  from pandas import (Categorical, DataFrame, Index, MultiIndex, Panel, Series,\n"
     ]
    }
   ],
   "source": [
    "import sys\n",
    "sys.path.append(\"../\")\n",
    "\n",
    "\n",
    "import os\n",
    "%matplotlib inline\n",
    "import matplotlib.mlab as mlab\n",
    "import matplotlib.pyplot as plt\n",
    "import pandas as pd\n",
    "import numpy as np\n",
    "import statsmodels.formula.api as smf\n",
    "from patsy import dmatrices\n",
    "from openpyxl import load_workbook\n",
    "\n",
    "from linearmodels import PanelOLS\n",
    "\n",
    "from library import print_statistics\n",
    "\n",
    "from library import regulations\n",
    "from library import characteristics\n",
    "from library import analysis\n",
    "from library import tables"
   ]
  },
  {
   "cell_type": "code",
   "execution_count": 2,
   "metadata": {},
   "outputs": [
    {
     "data": {
      "text/plain": [
       "'9.16'"
      ]
     },
     "execution_count": 2,
     "metadata": {},
     "output_type": "execute_result"
    }
   ],
   "source": [
    "def coef_with_stars(coef, pvalue):\n",
    "    coef = round(coef, 2)\n",
    "    if pvalue >.05:\n",
    "        coef = str(coef)\n",
    "    if pvalue <= .05:\n",
    "        coef = str(coef) + '*'\n",
    "    if pvalue <= .01:\n",
    "        coef = coef + '*'\n",
    "    if pvalue <= .001:\n",
    "        coef = coef + '*'\n",
    "    return(coef)\n",
    "test = coef_with_stars(9.1568, 0.8523)\n",
    "test"
   ]
  },
  {
   "cell_type": "code",
   "execution_count": 3,
   "metadata": {},
   "outputs": [
    {
     "data": {
      "text/plain": [
       "'(0.01)'"
      ]
     },
     "execution_count": 3,
     "metadata": {},
     "output_type": "execute_result"
    }
   ],
   "source": [
    "def format_se(se):\n",
    "    if se < .005:\n",
    "        se = '(0.00)'\n",
    "    else:\n",
    "        se = '(' + str(round(se, 2)) + ')'\n",
    "    return se\n",
    "test = format_se(.0053)\n",
    "test"
   ]
  },
  {
   "cell_type": "code",
   "execution_count": 4,
   "metadata": {},
   "outputs": [
    {
     "name": "stdout",
     "output_type": "stream",
     "text": [
      "794\n"
     ]
    },
    {
     "data": {
      "text/html": [
       "<div>\n",
       "<style scoped>\n",
       "    .dataframe tbody tr th:only-of-type {\n",
       "        vertical-align: middle;\n",
       "    }\n",
       "\n",
       "    .dataframe tbody tr th {\n",
       "        vertical-align: top;\n",
       "    }\n",
       "\n",
       "    .dataframe thead th {\n",
       "        text-align: right;\n",
       "    }\n",
       "</style>\n",
       "<table border=\"1\" class=\"dataframe\">\n",
       "  <thead>\n",
       "    <tr style=\"text-align: right;\">\n",
       "      <th></th>\n",
       "      <th>Unnamed: 0</th>\n",
       "      <th>year</th>\n",
       "      <th>campus</th>\n",
       "      <th>campname</th>\n",
       "      <th>campischarter</th>\n",
       "      <th>district</th>\n",
       "      <th>distname</th>\n",
       "      <th>distischarter</th>\n",
       "      <th>rating_academic</th>\n",
       "      <th>rating_financial</th>\n",
       "      <th>...</th>\n",
       "      <th>yearpost</th>\n",
       "      <th>yearpre</th>\n",
       "      <th>pre5</th>\n",
       "      <th>pre4</th>\n",
       "      <th>pre3</th>\n",
       "      <th>pre2</th>\n",
       "      <th>pre1</th>\n",
       "      <th>post1</th>\n",
       "      <th>post2</th>\n",
       "      <th>post3</th>\n",
       "    </tr>\n",
       "  </thead>\n",
       "  <tbody>\n",
       "    <tr>\n",
       "      <th>9679</th>\n",
       "      <td>13767</td>\n",
       "      <td>2013</td>\n",
       "      <td>113903002</td>\n",
       "      <td>LOVELADY J H H S</td>\n",
       "      <td>N</td>\n",
       "      <td>113903</td>\n",
       "      <td>LOVELADY ISD</td>\n",
       "      <td>N</td>\n",
       "      <td>M</td>\n",
       "      <td>NaN</td>\n",
       "      <td>...</td>\n",
       "      <td>0.0</td>\n",
       "      <td>-5.0</td>\n",
       "      <td>1</td>\n",
       "      <td>0</td>\n",
       "      <td>0</td>\n",
       "      <td>0</td>\n",
       "      <td>0</td>\n",
       "      <td>0</td>\n",
       "      <td>0</td>\n",
       "      <td>0</td>\n",
       "    </tr>\n",
       "  </tbody>\n",
       "</table>\n",
       "<p>1 rows × 167 columns</p>\n",
       "</div>"
      ],
      "text/plain": [
       "      Unnamed: 0  year     campus          campname campischarter  district  \\\n",
       "9679       13767  2013  113903002  LOVELADY J H H S             N    113903   \n",
       "\n",
       "          distname distischarter rating_academic rating_financial  ...  \\\n",
       "9679  LOVELADY ISD             N               M              NaN  ...   \n",
       "\n",
       "     yearpost yearpre pre5 pre4  pre3  pre2  pre1  post1  post2  post3  \n",
       "9679      0.0    -5.0    1    0     0     0     0      0      0      0  \n",
       "\n",
       "[1 rows x 167 columns]"
      ]
     },
     "execution_count": 4,
     "metadata": {},
     "output_type": "execute_result"
    }
   ],
   "source": [
    "data_path = '/Users/kylieleblancKylie/domino/dofis/data/'\n",
    "table_path = '/Users/kylieleblancKylie/domino/dofis/results/Who Needs Rules/'\n",
    "data = pd.read_csv(os.path.join(data_path, 'clean', 'gdid.csv'),\n",
    "                  sep=\",\", low_memory= False)\n",
    "#load(data)\n",
    "print(data[data.doi == True].district.nunique())\n",
    "data.sample()"
   ]
  },
  {
   "cell_type": "code",
   "execution_count": 5,
   "metadata": {},
   "outputs": [],
   "source": [
    "subjects = ['m_3rd_avescore', 'm_4th_avescore',  'm_5th_avescore', \n",
    "            'm_6th_avescore', 'm_7th_avescore', 'm_8th_avescore',\n",
    "            'alg_avescore',\n",
    "            'r_3rd_avescore', 'r_4th_avescore', 'r_5th_avescore',\n",
    "            'r_6th_avescore', 'r_7th_avescore', 'r_8th_avescore',\n",
    "            'eng1_avescore',  'bio_avescore']\n",
    "math_tests = ['m_3rd_avescore', 'm_4th_avescore', 'm_5th_avescore',\n",
    "              'm_6th_avescore', 'm_7th_avescore', 'm_8th_avescore', 'alg_avescore']\n",
    "reading_tests = ['r_3rd_avescore', 'r_4th_avescore', 'r_5th_avescore',\n",
    "              'r_6th_avescore', 'r_7th_avescore', 'r_8th_avescore', 'eng1_avescore']"
   ]
  },
  {
   "cell_type": "code",
   "execution_count": 6,
   "metadata": {},
   "outputs": [
    {
     "data": {
      "text/html": [
       "<div>\n",
       "<style scoped>\n",
       "    .dataframe tbody tr th:only-of-type {\n",
       "        vertical-align: middle;\n",
       "    }\n",
       "\n",
       "    .dataframe tbody tr th {\n",
       "        vertical-align: top;\n",
       "    }\n",
       "\n",
       "    .dataframe thead th {\n",
       "        text-align: right;\n",
       "    }\n",
       "</style>\n",
       "<table border=\"1\" class=\"dataframe\">\n",
       "  <thead>\n",
       "    <tr style=\"text-align: right;\">\n",
       "      <th></th>\n",
       "      <th></th>\n",
       "      <th>district</th>\n",
       "      <th>doi_year</th>\n",
       "      <th>treatpost</th>\n",
       "      <th>pre1</th>\n",
       "    </tr>\n",
       "    <tr>\n",
       "      <th>year</th>\n",
       "      <th>campus</th>\n",
       "      <th></th>\n",
       "      <th></th>\n",
       "      <th></th>\n",
       "      <th></th>\n",
       "    </tr>\n",
       "  </thead>\n",
       "  <tbody>\n",
       "    <tr>\n",
       "      <th>2019-01-01</th>\n",
       "      <th>126903001</th>\n",
       "      <td>126903</td>\n",
       "      <td>2017.0</td>\n",
       "      <td>True</td>\n",
       "      <td>0</td>\n",
       "    </tr>\n",
       "    <tr>\n",
       "      <th>2015-01-01</th>\n",
       "      <th>146905003</th>\n",
       "      <td>146905</td>\n",
       "      <td>2018.0</td>\n",
       "      <td>False</td>\n",
       "      <td>0</td>\n",
       "    </tr>\n",
       "    <tr>\n",
       "      <th>2012-01-01</th>\n",
       "      <th>101903117</th>\n",
       "      <td>101903</td>\n",
       "      <td>2018.0</td>\n",
       "      <td>False</td>\n",
       "      <td>0</td>\n",
       "    </tr>\n",
       "    <tr>\n",
       "      <th>2019-01-01</th>\n",
       "      <th>101920103</th>\n",
       "      <td>101920</td>\n",
       "      <td>2017.0</td>\n",
       "      <td>True</td>\n",
       "      <td>0</td>\n",
       "    </tr>\n",
       "    <tr>\n",
       "      <th>2012-01-01</th>\n",
       "      <th>31901131</th>\n",
       "      <td>31901</td>\n",
       "      <td>2018.0</td>\n",
       "      <td>False</td>\n",
       "      <td>0</td>\n",
       "    </tr>\n",
       "  </tbody>\n",
       "</table>\n",
       "</div>"
      ],
      "text/plain": [
       "                      district  doi_year  treatpost  pre1\n",
       "year       campus                                        \n",
       "2019-01-01 126903001    126903    2017.0       True     0\n",
       "2015-01-01 146905003    146905    2018.0      False     0\n",
       "2012-01-01 101903117    101903    2018.0      False     0\n",
       "2019-01-01 101920103    101920    2017.0       True     0\n",
       "2012-01-01 31901131      31901    2018.0      False     0"
      ]
     },
     "execution_count": 6,
     "metadata": {},
     "output_type": "execute_result"
    }
   ],
   "source": [
    "#convert year to datetime\n",
    "df = data.reset_index()\n",
    "df['year'] = pd.to_datetime(df['year'], format='%Y')\n",
    "#add column year to index\n",
    "df = df.set_index(['campus', 'year'])\n",
    "#swap indexes\n",
    "df.index = df.index.swaplevel(0,1)\n",
    "df[['district', 'doi_year','treatpost', 'pre1']].sample(5, random_state = 8)"
   ]
  },
  {
   "cell_type": "code",
   "execution_count": 7,
   "metadata": {},
   "outputs": [],
   "source": [
    "def many_y_one_x(data, y_list, y_labels, x):\n",
    "    regs = []\n",
    "    cons = []\n",
    "    coef = []\n",
    "    se = []\n",
    "    pvalue = []\n",
    "\n",
    "    for y in y_list:\n",
    "        df = data.replace(np.inf, np.nan).replace(-np.inf, np.nan).dropna(subset = [y])\n",
    "        formula = y + ' ~ + 1 + pre1 + EntityEffects'\n",
    "        print(formula)\n",
    "        mod = PanelOLS.from_formula(formula, df)\n",
    "        #result = mod.fit()\n",
    "        result = mod.fit(cov_type='clustered', cluster_entity = True, cluster_time = True)\n",
    "        #result = mod.fit(cov_type='clustered', clusters = data.district)\n",
    "\n",
    "        cons.append(result.params[\"Intercept\"].round(2))\n",
    "        if str(data[x].dtypes) == 'bool':\n",
    "            var = x + '[T.True]'\n",
    "        else:\n",
    "            var = x\n",
    "        coef.append(result.params[var].round(2))\n",
    "        se.append(result.std_errors[var].round(2))\n",
    "        pvalue.append(result.pvalues[var].round(2))\n",
    "        regs.append(y_labels[y])\n",
    "\n",
    "    df = pd.DataFrame(\n",
    "        {'Characteristic': regs,\n",
    "         'Control': cons,\n",
    "         'Difference': coef,\n",
    "         'Std. Error': se,\n",
    "         'P-value': pvalue,\n",
    "         })\n",
    "    return df\n"
   ]
  },
  {
   "cell_type": "code",
   "execution_count": 8,
   "metadata": {},
   "outputs": [
    {
     "name": "stdout",
     "output_type": "stream",
     "text": [
      "type_urban ~ + 1 + pre1 + EntityEffects\n",
      "type_suburban ~ + 1 + pre1 + EntityEffects\n",
      "type_town ~ + 1 + pre1 + EntityEffects\n",
      "type_rural ~ + 1 + pre1 + EntityEffects\n"
     ]
    },
    {
     "data": {
      "text/html": [
       "<div>\n",
       "<style scoped>\n",
       "    .dataframe tbody tr th:only-of-type {\n",
       "        vertical-align: middle;\n",
       "    }\n",
       "\n",
       "    .dataframe tbody tr th {\n",
       "        vertical-align: top;\n",
       "    }\n",
       "\n",
       "    .dataframe thead th {\n",
       "        text-align: right;\n",
       "    }\n",
       "</style>\n",
       "<table border=\"1\" class=\"dataframe\">\n",
       "  <thead>\n",
       "    <tr style=\"text-align: right;\">\n",
       "      <th></th>\n",
       "      <th>Characteristic</th>\n",
       "      <th>Control</th>\n",
       "      <th>Difference</th>\n",
       "      <th>Std. Error</th>\n",
       "      <th>P-value</th>\n",
       "    </tr>\n",
       "  </thead>\n",
       "  <tbody>\n",
       "    <tr>\n",
       "      <th>0</th>\n",
       "      <td>Urban</td>\n",
       "      <td>0.28</td>\n",
       "      <td>-0.0</td>\n",
       "      <td>0.10</td>\n",
       "      <td>0.99</td>\n",
       "    </tr>\n",
       "    <tr>\n",
       "      <th>1</th>\n",
       "      <td>Suburban</td>\n",
       "      <td>0.44</td>\n",
       "      <td>0.0</td>\n",
       "      <td>0.02</td>\n",
       "      <td>0.97</td>\n",
       "    </tr>\n",
       "    <tr>\n",
       "      <th>2</th>\n",
       "      <td>Town</td>\n",
       "      <td>0.17</td>\n",
       "      <td>-0.0</td>\n",
       "      <td>0.03</td>\n",
       "      <td>0.97</td>\n",
       "    </tr>\n",
       "    <tr>\n",
       "      <th>3</th>\n",
       "      <td>Rural</td>\n",
       "      <td>0.12</td>\n",
       "      <td>0.0</td>\n",
       "      <td>0.05</td>\n",
       "      <td>0.98</td>\n",
       "    </tr>\n",
       "  </tbody>\n",
       "</table>\n",
       "</div>"
      ],
      "text/plain": [
       "  Characteristic  Control  Difference  Std. Error  P-value\n",
       "0          Urban     0.28        -0.0        0.10     0.99\n",
       "1       Suburban     0.44         0.0        0.02     0.97\n",
       "2           Town     0.17        -0.0        0.03     0.97\n",
       "3          Rural     0.12         0.0        0.05     0.98"
      ]
     },
     "execution_count": 8,
     "metadata": {},
     "output_type": "execute_result"
    }
   ],
   "source": [
    "district  = many_y_one_x(df, characteristics.geography, characteristics.labels, 'pre1')\n",
    "district"
   ]
  },
  {
   "cell_type": "code",
   "execution_count": 9,
   "metadata": {},
   "outputs": [
    {
     "data": {
      "text/plain": [
       "0        12.884018\n",
       "1              NaN\n",
       "2        13.655172\n",
       "3         8.456555\n",
       "4        10.099912\n",
       "           ...    \n",
       "49800    17.166667\n",
       "49801    17.470588\n",
       "49802    16.093750\n",
       "49803     8.607595\n",
       "49804    13.266332\n",
       "Name: students_teacher_ratio, Length: 49805, dtype: float64"
      ]
     },
     "execution_count": 9,
     "metadata": {},
     "output_type": "execute_result"
    }
   ],
   "source": [
    "data.students_teacher_ratio"
   ]
  },
  {
   "cell_type": "code",
   "execution_count": 10,
   "metadata": {},
   "outputs": [
    {
     "name": "stdout",
     "output_type": "stream",
     "text": [
      "teachers_exp_ave ~ + 1 + pre1 + EntityEffects\n",
      "teachers_tenure_ave ~ + 1 + pre1 + EntityEffects\n",
      "teachers_turnover_ratio_d ~ + 1 + pre1 + EntityEffects\n",
      "students_teacher_ratio ~ + 1 + pre1 + EntityEffects\n"
     ]
    },
    {
     "data": {
      "text/html": [
       "<div>\n",
       "<style scoped>\n",
       "    .dataframe tbody tr th:only-of-type {\n",
       "        vertical-align: middle;\n",
       "    }\n",
       "\n",
       "    .dataframe tbody tr th {\n",
       "        vertical-align: top;\n",
       "    }\n",
       "\n",
       "    .dataframe thead th {\n",
       "        text-align: right;\n",
       "    }\n",
       "</style>\n",
       "<table border=\"1\" class=\"dataframe\">\n",
       "  <thead>\n",
       "    <tr style=\"text-align: right;\">\n",
       "      <th></th>\n",
       "      <th>Characteristic</th>\n",
       "      <th>Control</th>\n",
       "      <th>Difference</th>\n",
       "      <th>Std. Error</th>\n",
       "      <th>P-value</th>\n",
       "    </tr>\n",
       "  </thead>\n",
       "  <tbody>\n",
       "    <tr>\n",
       "      <th>0</th>\n",
       "      <td>Ave. Experience in District</td>\n",
       "      <td>11.68</td>\n",
       "      <td>-0.05</td>\n",
       "      <td>0.22</td>\n",
       "      <td>0.81</td>\n",
       "    </tr>\n",
       "    <tr>\n",
       "      <th>1</th>\n",
       "      <td>Ave. Experience Teaching</td>\n",
       "      <td>7.78</td>\n",
       "      <td>-0.01</td>\n",
       "      <td>0.15</td>\n",
       "      <td>0.97</td>\n",
       "    </tr>\n",
       "    <tr>\n",
       "      <th>2</th>\n",
       "      <td>Teacher Turnover Ratio</td>\n",
       "      <td>16.04</td>\n",
       "      <td>-0.10</td>\n",
       "      <td>1.11</td>\n",
       "      <td>0.93</td>\n",
       "    </tr>\n",
       "    <tr>\n",
       "      <th>3</th>\n",
       "      <td>Student-Teacher Ratio</td>\n",
       "      <td>14.40</td>\n",
       "      <td>-0.08</td>\n",
       "      <td>0.37</td>\n",
       "      <td>0.82</td>\n",
       "    </tr>\n",
       "  </tbody>\n",
       "</table>\n",
       "</div>"
      ],
      "text/plain": [
       "                Characteristic  Control  Difference  Std. Error  P-value\n",
       "0  Ave. Experience in District    11.68       -0.05        0.22     0.81\n",
       "1     Ave. Experience Teaching     7.78       -0.01        0.15     0.97\n",
       "2       Teacher Turnover Ratio    16.04       -0.10        1.11     0.93\n",
       "3        Student-Teacher Ratio    14.40       -0.08        0.37     0.82"
      ]
     },
     "execution_count": 10,
     "metadata": {},
     "output_type": "execute_result"
    }
   ],
   "source": [
    "teacher_characteristics = ['teachers_tenure_ave', 'teachers_turnover_ratio_d']\n",
    "teachers = many_y_one_x(df, characteristics.teacher, characteristics.labels, 'pre1')\n",
    "teachers"
   ]
  },
  {
   "cell_type": "code",
   "execution_count": 11,
   "metadata": {},
   "outputs": [
    {
     "name": "stdout",
     "output_type": "stream",
     "text": [
      "students_hisp ~ + 1 + pre1 + EntityEffects\n",
      "students_white ~ + 1 + pre1 + EntityEffects\n",
      "students_black ~ + 1 + pre1 + EntityEffects\n",
      "students_frpl ~ + 1 + pre1 + EntityEffects\n",
      "avescores ~ + 1 + pre1 + EntityEffects\n"
     ]
    },
    {
     "data": {
      "text/html": [
       "<div>\n",
       "<style scoped>\n",
       "    .dataframe tbody tr th:only-of-type {\n",
       "        vertical-align: middle;\n",
       "    }\n",
       "\n",
       "    .dataframe tbody tr th {\n",
       "        vertical-align: top;\n",
       "    }\n",
       "\n",
       "    .dataframe thead th {\n",
       "        text-align: right;\n",
       "    }\n",
       "</style>\n",
       "<table border=\"1\" class=\"dataframe\">\n",
       "  <thead>\n",
       "    <tr style=\"text-align: right;\">\n",
       "      <th></th>\n",
       "      <th>Characteristic</th>\n",
       "      <th>Control</th>\n",
       "      <th>Difference</th>\n",
       "      <th>Std. Error</th>\n",
       "      <th>P-value</th>\n",
       "    </tr>\n",
       "  </thead>\n",
       "  <tbody>\n",
       "    <tr>\n",
       "      <th>0</th>\n",
       "      <td>Percent Hispanic</td>\n",
       "      <td>0.46</td>\n",
       "      <td>0.00</td>\n",
       "      <td>0.01</td>\n",
       "      <td>0.81</td>\n",
       "    </tr>\n",
       "    <tr>\n",
       "      <th>1</th>\n",
       "      <td>Percent White</td>\n",
       "      <td>0.36</td>\n",
       "      <td>-0.00</td>\n",
       "      <td>0.02</td>\n",
       "      <td>0.97</td>\n",
       "    </tr>\n",
       "    <tr>\n",
       "      <th>2</th>\n",
       "      <td>Percent Black</td>\n",
       "      <td>0.12</td>\n",
       "      <td>-0.00</td>\n",
       "      <td>0.01</td>\n",
       "      <td>0.82</td>\n",
       "    </tr>\n",
       "    <tr>\n",
       "      <th>3</th>\n",
       "      <td>Percent Econ. Disadvantaged</td>\n",
       "      <td>0.59</td>\n",
       "      <td>0.00</td>\n",
       "      <td>0.02</td>\n",
       "      <td>0.93</td>\n",
       "    </tr>\n",
       "    <tr>\n",
       "      <th>4</th>\n",
       "      <td>Average STAAR Performance (Std.)</td>\n",
       "      <td>0.14</td>\n",
       "      <td>0.01</td>\n",
       "      <td>0.08</td>\n",
       "      <td>0.90</td>\n",
       "    </tr>\n",
       "  </tbody>\n",
       "</table>\n",
       "</div>"
      ],
      "text/plain": [
       "                     Characteristic  Control  Difference  Std. Error  P-value\n",
       "0                  Percent Hispanic     0.46        0.00        0.01     0.81\n",
       "1                     Percent White     0.36       -0.00        0.02     0.97\n",
       "2                     Percent Black     0.12       -0.00        0.01     0.82\n",
       "3       Percent Econ. Disadvantaged     0.59        0.00        0.02     0.93\n",
       "4  Average STAAR Performance (Std.)     0.14        0.01        0.08     0.90"
      ]
     },
     "execution_count": 11,
     "metadata": {},
     "output_type": "execute_result"
    }
   ],
   "source": [
    "students = many_y_one_x(df, characteristics.student, characteristics.labels, 'pre1')\n",
    "students"
   ]
  },
  {
   "cell_type": "code",
   "execution_count": 12,
   "metadata": {},
   "outputs": [],
   "source": [
    "dfs = [district, teachers, students]\n",
    "rows = [5, 14, 21]\n",
    "tables.n_to_excel(file = table_path + 'balance_controls.xlsx',\n",
    "                 col = 2, row = 4, n = len(data[data.doi == 0]))\n",
    "tables.n_to_excel(file = table_path + 'balance_controls.xlsx',\n",
    "                 col = 3, row = 4, n = len(data[data.doi == 1]))\n",
    "for df, row in zip(dfs,rows):\n",
    "    tables.var_diff_to_excel(file = table_path + 'balance_controls.xlsx', \n",
    "                             df = df, \n",
    "                             control_col = 'Control', \n",
    "                             diff_col = 'Difference', \n",
    "                             se_col = 'Std. Error', pvalue_col = 'P-value',\n",
    "                             start_col = 2, start_row = row)"
   ]
  },
  {
   "cell_type": "code",
   "execution_count": null,
   "metadata": {},
   "outputs": [],
   "source": []
  }
 ],
 "metadata": {
  "kernelspec": {
   "display_name": "Python [conda env:spacy]",
   "language": "python",
   "name": "conda-env-spacy-py"
  },
  "language_info": {
   "codemirror_mode": {
    "name": "ipython",
    "version": 3
   },
   "file_extension": ".py",
   "mimetype": "text/x-python",
   "name": "python",
   "nbconvert_exporter": "python",
   "pygments_lexer": "ipython3",
   "version": "3.7.2"
  }
 },
 "nbformat": 4,
 "nbformat_minor": 2
}
