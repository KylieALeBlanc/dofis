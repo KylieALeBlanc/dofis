{
 "cells": [
  {
   "cell_type": "code",
   "execution_count": 1,
   "metadata": {},
   "outputs": [
    {
     "name": "stderr",
     "output_type": "stream",
     "text": [
      "/Users/kylieleblancKylie/anaconda/envs/spacy/lib/python3.7/site-packages/linearmodels/panel/data.py:10: FutureWarning: The Panel class is removed from pandas. Accessing it from the top-level namespace will also be removed in the next version\n",
      "  from pandas import (Categorical, DataFrame, Index, MultiIndex, Panel, Series,\n"
     ]
    }
   ],
   "source": [
    "import sys\n",
    "sys.path.append(\"../\")\n",
    "\n",
    "\n",
    "import os\n",
    "%matplotlib inline\n",
    "import matplotlib.mlab as mlab\n",
    "import matplotlib.pyplot as plt\n",
    "import pandas as pd\n",
    "import numpy as np\n",
    "import statsmodels.formula.api as smf\n",
    "from patsy import dmatrices\n",
    "from openpyxl import load_workbook\n",
    "\n",
    "from linearmodels import PanelOLS\n",
    "\n",
    "\n",
    "from library import print_statistics"
   ]
  },
  {
   "cell_type": "code",
   "execution_count": 2,
   "metadata": {},
   "outputs": [
    {
     "data": {
      "text/plain": [
       "'9.16**'"
      ]
     },
     "execution_count": 2,
     "metadata": {},
     "output_type": "execute_result"
    }
   ],
   "source": [
    "def coef_with_stars(coef, pvalue):\n",
    "    coef = round(coef, 2)\n",
    "    if pvalue >.05:\n",
    "        coef = str(coef)\n",
    "    if pvalue <= .05:\n",
    "        coef = str(coef) + '*'\n",
    "    if pvalue <= .01:\n",
    "        coef = coef + '*'\n",
    "    if pvalue <= .001:\n",
    "        coef = coef + '*'\n",
    "    return(coef)\n",
    "test = coef_with_stars(9.1568, .005)\n",
    "test"
   ]
  },
  {
   "cell_type": "code",
   "execution_count": 3,
   "metadata": {},
   "outputs": [
    {
     "data": {
      "text/plain": [
       "'(0.01)'"
      ]
     },
     "execution_count": 3,
     "metadata": {},
     "output_type": "execute_result"
    }
   ],
   "source": [
    "def format_se(se):\n",
    "    if se < .005:\n",
    "        se = '(0.00)'\n",
    "    else:\n",
    "        se = '(' + str(round(se, 2)) + ')'\n",
    "    return se\n",
    "test = format_se(.0053)\n",
    "test"
   ]
  },
  {
   "cell_type": "code",
   "execution_count": 4,
   "metadata": {},
   "outputs": [
    {
     "name": "stdout",
     "output_type": "stream",
     "text": [
      "822\n"
     ]
    }
   ],
   "source": [
    "data_path = '/Users/kylieleblancKylie/domino/dofis/data/'\n",
    "table_path = '/Users/kylieleblancKylie/domino/dofis/results/Who Needs Rules/'\n",
    "data = pd.read_csv(os.path.join(data_path, 'clean', 'gdid.csv'),\n",
    "                  sep=\",\", low_memory= False)\n",
    "#load(data)\n",
    "print(data[data.doi == True].district.nunique())\n",
    "data = data[data.doi == True]\n",
    "\n",
    "data.sample()\n",
    "\n",
    "data['doi_year'] = np.where((data.doi_year == 2015), np.nan, data.doi_year) #drop first implementer (one district)\n"
   ]
  },
  {
   "cell_type": "code",
   "execution_count": 5,
   "metadata": {},
   "outputs": [
    {
     "data": {
      "text/plain": [
       "2017.0    33831\n",
       "2018.0     7586\n",
       "2016.0     7422\n",
       "2019.0     1633\n",
       "Name: doi_year, dtype: int64"
      ]
     },
     "execution_count": 5,
     "metadata": {},
     "output_type": "execute_result"
    }
   ],
   "source": [
    "data.doi_year.value_counts()"
   ]
  },
  {
   "cell_type": "markdown",
   "metadata": {},
   "source": [
    "# Create trend and nonparametric variables"
   ]
  },
  {
   "cell_type": "markdown",
   "metadata": {},
   "source": [
    "## Phase-in Effect - yearpost"
   ]
  },
  {
   "cell_type": "code",
   "execution_count": 6,
   "metadata": {},
   "outputs": [
    {
     "data": {
      "text/html": [
       "<div>\n",
       "<style scoped>\n",
       "    .dataframe tbody tr th:only-of-type {\n",
       "        vertical-align: middle;\n",
       "    }\n",
       "\n",
       "    .dataframe tbody tr th {\n",
       "        vertical-align: top;\n",
       "    }\n",
       "\n",
       "    .dataframe thead th {\n",
       "        text-align: right;\n",
       "    }\n",
       "</style>\n",
       "<table border=\"1\" class=\"dataframe\">\n",
       "  <thead>\n",
       "    <tr style=\"text-align: right;\">\n",
       "      <th></th>\n",
       "      <th>year</th>\n",
       "      <th>doi_year</th>\n",
       "      <th>yearpost</th>\n",
       "    </tr>\n",
       "  </thead>\n",
       "  <tbody>\n",
       "    <tr>\n",
       "      <th>12161</th>\n",
       "      <td>2013</td>\n",
       "      <td>2017.0</td>\n",
       "      <td>0.0</td>\n",
       "    </tr>\n",
       "    <tr>\n",
       "      <th>58768</th>\n",
       "      <td>2018</td>\n",
       "      <td>NaN</td>\n",
       "      <td>0.0</td>\n",
       "    </tr>\n",
       "    <tr>\n",
       "      <th>41887</th>\n",
       "      <td>2016</td>\n",
       "      <td>2017.0</td>\n",
       "      <td>0.0</td>\n",
       "    </tr>\n",
       "    <tr>\n",
       "      <th>46335</th>\n",
       "      <td>2017</td>\n",
       "      <td>2017.0</td>\n",
       "      <td>0.0</td>\n",
       "    </tr>\n",
       "    <tr>\n",
       "      <th>57112</th>\n",
       "      <td>2018</td>\n",
       "      <td>2017.0</td>\n",
       "      <td>1.0</td>\n",
       "    </tr>\n",
       "    <tr>\n",
       "      <th>41191</th>\n",
       "      <td>2016</td>\n",
       "      <td>2017.0</td>\n",
       "      <td>0.0</td>\n",
       "    </tr>\n",
       "    <tr>\n",
       "      <th>39880</th>\n",
       "      <td>2016</td>\n",
       "      <td>2017.0</td>\n",
       "      <td>0.0</td>\n",
       "    </tr>\n",
       "    <tr>\n",
       "      <th>66407</th>\n",
       "      <td>2019</td>\n",
       "      <td>2017.0</td>\n",
       "      <td>2.0</td>\n",
       "    </tr>\n",
       "    <tr>\n",
       "      <th>12413</th>\n",
       "      <td>2013</td>\n",
       "      <td>2017.0</td>\n",
       "      <td>0.0</td>\n",
       "    </tr>\n",
       "    <tr>\n",
       "      <th>58257</th>\n",
       "      <td>2018</td>\n",
       "      <td>2017.0</td>\n",
       "      <td>1.0</td>\n",
       "    </tr>\n",
       "  </tbody>\n",
       "</table>\n",
       "</div>"
      ],
      "text/plain": [
       "       year  doi_year  yearpost\n",
       "12161  2013    2017.0       0.0\n",
       "58768  2018       NaN       0.0\n",
       "41887  2016    2017.0       0.0\n",
       "46335  2017    2017.0       0.0\n",
       "57112  2018    2017.0       1.0\n",
       "41191  2016    2017.0       0.0\n",
       "39880  2016    2017.0       0.0\n",
       "66407  2019    2017.0       2.0\n",
       "12413  2013    2017.0       0.0\n",
       "58257  2018    2017.0       1.0"
      ]
     },
     "execution_count": 6,
     "metadata": {},
     "output_type": "execute_result"
    }
   ],
   "source": [
    "data['yearpost'] = np.where(data.year > data.doi_year, data.year - data.doi_year, 0)\n",
    "data[['year', 'doi_year', 'yearpost']].sample(10)"
   ]
  },
  {
   "cell_type": "code",
   "execution_count": 7,
   "metadata": {},
   "outputs": [
    {
     "data": {
      "text/plain": [
       "0.0    38694\n",
       "1.0     6129\n",
       "2.0     5190\n",
       "3.0      938\n",
       "Name: yearpost, dtype: int64"
      ]
     },
     "execution_count": 7,
     "metadata": {},
     "output_type": "execute_result"
    }
   ],
   "source": [
    "data.yearpost.value_counts()"
   ]
  },
  {
   "cell_type": "markdown",
   "metadata": {},
   "source": [
    "## Pretrends - yearpre"
   ]
  },
  {
   "cell_type": "code",
   "execution_count": 8,
   "metadata": {},
   "outputs": [
    {
     "data": {
      "text/html": [
       "<div>\n",
       "<style scoped>\n",
       "    .dataframe tbody tr th:only-of-type {\n",
       "        vertical-align: middle;\n",
       "    }\n",
       "\n",
       "    .dataframe tbody tr th {\n",
       "        vertical-align: top;\n",
       "    }\n",
       "\n",
       "    .dataframe thead th {\n",
       "        text-align: right;\n",
       "    }\n",
       "</style>\n",
       "<table border=\"1\" class=\"dataframe\">\n",
       "  <thead>\n",
       "    <tr style=\"text-align: right;\">\n",
       "      <th></th>\n",
       "      <th>year</th>\n",
       "      <th>doi_year</th>\n",
       "      <th>yearpost</th>\n",
       "      <th>yearpre</th>\n",
       "    </tr>\n",
       "  </thead>\n",
       "  <tbody>\n",
       "    <tr>\n",
       "      <th>40541</th>\n",
       "      <td>2016</td>\n",
       "      <td>2016.0</td>\n",
       "      <td>0.0</td>\n",
       "      <td>0.0</td>\n",
       "    </tr>\n",
       "    <tr>\n",
       "      <th>20247</th>\n",
       "      <td>2014</td>\n",
       "      <td>2016.0</td>\n",
       "      <td>0.0</td>\n",
       "      <td>-2.0</td>\n",
       "    </tr>\n",
       "    <tr>\n",
       "      <th>52381</th>\n",
       "      <td>2018</td>\n",
       "      <td>2019.0</td>\n",
       "      <td>0.0</td>\n",
       "      <td>-1.0</td>\n",
       "    </tr>\n",
       "    <tr>\n",
       "      <th>34022</th>\n",
       "      <td>2015</td>\n",
       "      <td>2017.0</td>\n",
       "      <td>0.0</td>\n",
       "      <td>-2.0</td>\n",
       "    </tr>\n",
       "    <tr>\n",
       "      <th>37901</th>\n",
       "      <td>2016</td>\n",
       "      <td>2017.0</td>\n",
       "      <td>0.0</td>\n",
       "      <td>-1.0</td>\n",
       "    </tr>\n",
       "  </tbody>\n",
       "</table>\n",
       "</div>"
      ],
      "text/plain": [
       "       year  doi_year  yearpost  yearpre\n",
       "40541  2016    2016.0       0.0      0.0\n",
       "20247  2014    2016.0       0.0     -2.0\n",
       "52381  2018    2019.0       0.0     -1.0\n",
       "34022  2015    2017.0       0.0     -2.0\n",
       "37901  2016    2017.0       0.0     -1.0"
      ]
     },
     "execution_count": 8,
     "metadata": {},
     "output_type": "execute_result"
    }
   ],
   "source": [
    "data['yearpre'] = np.where(data.year <= data.doi_year, data.year - data.doi_year, 0)\n",
    "data[['year', 'doi_year', 'yearpost', 'yearpre']].sample(5)"
   ]
  },
  {
   "cell_type": "code",
   "execution_count": 9,
   "metadata": {},
   "outputs": [
    {
     "data": {
      "text/plain": [
       " 0.0    19082\n",
       "-1.0     6329\n",
       "-2.0     6293\n",
       "-3.0     6275\n",
       "-4.0     6263\n",
       "-5.0     5356\n",
       "-6.0     1152\n",
       "-7.0      201\n",
       "Name: yearpre, dtype: int64"
      ]
     },
     "execution_count": 9,
     "metadata": {},
     "output_type": "execute_result"
    }
   ],
   "source": [
    "data.yearpre.value_counts()"
   ]
  },
  {
   "cell_type": "markdown",
   "metadata": {},
   "source": [
    "## Non-parametric fixed effects for years pre and post - pre# and post#"
   ]
  },
  {
   "cell_type": "code",
   "execution_count": 10,
   "metadata": {},
   "outputs": [],
   "source": [
    "data['pre5'] = np.where(data.yearpre <= -5, 1, 0)\n",
    "data['pre4'] = np.where(data.yearpre == -4, 1, 0)\n",
    "data['pre3'] = np.where(data.yearpre == -3, 1, 0)\n",
    "data['pre2'] = np.where(data.yearpre == -2, 1, 0)\n",
    "data['pre1'] = np.where(data.yearpre == -1, 1, 0)\n",
    "data['pre0'] = np.where(data.yearpre == 0, 1, 0)\n",
    "data['post1'] = np.where(data.yearpost == 1, 1, 0)\n",
    "data['post2'] = np.where(data.yearpost == 2, 1, 0)\n",
    "data['post3'] = np.where(data.yearpost == 3, 1, 0)\n"
   ]
  },
  {
   "cell_type": "code",
   "execution_count": 11,
   "metadata": {},
   "outputs": [
    {
     "data": {
      "text/html": [
       "<div>\n",
       "<style scoped>\n",
       "    .dataframe tbody tr th:only-of-type {\n",
       "        vertical-align: middle;\n",
       "    }\n",
       "\n",
       "    .dataframe tbody tr th {\n",
       "        vertical-align: top;\n",
       "    }\n",
       "\n",
       "    .dataframe thead th {\n",
       "        text-align: right;\n",
       "    }\n",
       "</style>\n",
       "<table border=\"1\" class=\"dataframe\">\n",
       "  <thead>\n",
       "    <tr style=\"text-align: right;\">\n",
       "      <th></th>\n",
       "      <th></th>\n",
       "      <th>district</th>\n",
       "      <th>doi_year</th>\n",
       "      <th>treatpost</th>\n",
       "    </tr>\n",
       "    <tr>\n",
       "      <th>campus</th>\n",
       "      <th>year</th>\n",
       "      <th></th>\n",
       "      <th></th>\n",
       "      <th></th>\n",
       "    </tr>\n",
       "  </thead>\n",
       "  <tbody>\n",
       "    <tr>\n",
       "      <th>11901101</th>\n",
       "      <th>2012</th>\n",
       "      <td>11901</td>\n",
       "      <td>2017.0</td>\n",
       "      <td>False</td>\n",
       "    </tr>\n",
       "    <tr>\n",
       "      <th>236902002</th>\n",
       "      <th>2015</th>\n",
       "      <td>236902</td>\n",
       "      <td>2016.0</td>\n",
       "      <td>False</td>\n",
       "    </tr>\n",
       "    <tr>\n",
       "      <th>188901128</th>\n",
       "      <th>2013</th>\n",
       "      <td>188901</td>\n",
       "      <td>2017.0</td>\n",
       "      <td>False</td>\n",
       "    </tr>\n",
       "    <tr>\n",
       "      <th>61902131</th>\n",
       "      <th>2019</th>\n",
       "      <td>61902</td>\n",
       "      <td>2017.0</td>\n",
       "      <td>True</td>\n",
       "    </tr>\n",
       "    <tr>\n",
       "      <th>234909101</th>\n",
       "      <th>2016</th>\n",
       "      <td>234909</td>\n",
       "      <td>2017.0</td>\n",
       "      <td>False</td>\n",
       "    </tr>\n",
       "  </tbody>\n",
       "</table>\n",
       "</div>"
      ],
      "text/plain": [
       "                district  doi_year  treatpost\n",
       "campus    year                               \n",
       "11901101  2012     11901    2017.0      False\n",
       "236902002 2015    236902    2016.0      False\n",
       "188901128 2013    188901    2017.0      False\n",
       "61902131  2019     61902    2017.0       True\n",
       "234909101 2016    234909    2017.0      False"
      ]
     },
     "execution_count": 11,
     "metadata": {},
     "output_type": "execute_result"
    }
   ],
   "source": [
    "#convert year to datetime\n",
    "df = data.reset_index()\n",
    "df['year'] = pd.to_datetime(df['year'], format='%Y')\n",
    "#add column year to index\n",
    "df = data.set_index(['year', 'campus'])\n",
    "#swap indexes\n",
    "df.index = df.index.swaplevel(0,1)\n",
    "df[['district', 'doi_year','treatpost']].sample(5)"
   ]
  },
  {
   "cell_type": "markdown",
   "metadata": {},
   "source": [
    "# Specifications"
   ]
  },
  {
   "cell_type": "code",
   "execution_count": 12,
   "metadata": {},
   "outputs": [],
   "source": [
    "# Get table ready\n",
    "#file = table_path + 'tableX_gdid_and_event.xlsx'\n",
    "#wb = load_workbook(file)\n",
    "#ws = wb.active"
   ]
  },
  {
   "cell_type": "code",
   "execution_count": 13,
   "metadata": {},
   "outputs": [
    {
     "data": {
      "text/plain": [
       "['Unnamed: 0',\n",
       " 'campname',\n",
       " 'campischarter',\n",
       " 'district',\n",
       " 'distname',\n",
       " 'distischarter',\n",
       " 'rating_academic',\n",
       " 'rating_financial',\n",
       " 'rating_academic_c',\n",
       " 'type',\n",
       " 'type_description',\n",
       " 'cntyname',\n",
       " 'students_amind_num',\n",
       " 'students_asian_num',\n",
       " 'students_black_num',\n",
       " 'students_cte_num',\n",
       " 'students_ell_num',\n",
       " 'students_frpl_num',\n",
       " 'students_hisp_num',\n",
       " 'students_num',\n",
       " 'students_num_d',\n",
       " 'students_paci_num',\n",
       " 'students_sped_num',\n",
       " 'students_tworaces_num',\n",
       " 'students_white_num',\n",
       " 'teachers_badegree_num',\n",
       " 'teachers_exp_ave',\n",
       " 'teachers_msdegree_num',\n",
       " 'teachers_new_num',\n",
       " 'teachers_nodegree_num',\n",
       " 'teachers_num',\n",
       " 'teachers_phddegree_num',\n",
       " 'teachers_tenure_ave',\n",
       " 'teachers_turnover_ratio_d',\n",
       " 'alg_avescore',\n",
       " 'bio_avescore',\n",
       " 'eng1_avescore',\n",
       " 'eng2_avescore',\n",
       " 'm_3rd_avescore',\n",
       " 'm_4th_avescore',\n",
       " 'm_5th_avescore',\n",
       " 'm_6th_avescore',\n",
       " 'm_7th_avescore',\n",
       " 'm_8th_avescore',\n",
       " 'r_3rd_avescore',\n",
       " 'r_4th_avescore',\n",
       " 'r_5th_avescore',\n",
       " 'r_6th_avescore',\n",
       " 'r_7th_avescore',\n",
       " 'r_8th_avescore',\n",
       " 's_8th_avescore',\n",
       " 'us_avescore',\n",
       " 'alg_numtakers',\n",
       " 'bio_numtakers',\n",
       " 'eng1_numtakers',\n",
       " 'eng2_numtakers',\n",
       " 'm_3rd_numtakers',\n",
       " 'm_4th_numtakers',\n",
       " 'm_5th_numtakers',\n",
       " 'm_6th_numtakers',\n",
       " 'm_7th_numtakers',\n",
       " 'm_8th_numtakers',\n",
       " 'r_3rd_numtakers',\n",
       " 'r_4th_numtakers',\n",
       " 'r_5th_numtakers',\n",
       " 'r_6th_numtakers',\n",
       " 'r_7th_numtakers',\n",
       " 'r_8th_numtakers',\n",
       " 's_8th_numtakers',\n",
       " 'us_numtakers',\n",
       " 'days_max',\n",
       " 'days_mean',\n",
       " 'days_min',\n",
       " 'class_size_1',\n",
       " 'class_size_2',\n",
       " 'class_size_3',\n",
       " 'class_size_4',\n",
       " 'class_size_5',\n",
       " 'class_size_6',\n",
       " 'class_size_k',\n",
       " 'class_size_sec_lang',\n",
       " 'class_size_sec_math',\n",
       " 'class_size_sec_r',\n",
       " 'class_size_sec_sci',\n",
       " 'class_size_sec_ss',\n",
       " 'stu_teach_ratio',\n",
       " 'Unnamed: 0_x',\n",
       " 'link',\n",
       " 'p_doi',\n",
       " 'doi_year',\n",
       " 'total',\n",
       " '_merge_x',\n",
       " 'doi',\n",
       " 'Unnamed: 0_y',\n",
       " '_merge_y',\n",
       " 'cert_area_elem',\n",
       " 'cert_area_voc',\n",
       " 'cert_secondary_ela',\n",
       " 'cert_secondary_math',\n",
       " 'cert_secondary_sci',\n",
       " 'certification',\n",
       " 'certification_report',\n",
       " 'vocational',\n",
       " 'county',\n",
       " 'cnty_pop',\n",
       " 'students_frpl',\n",
       " 'students_black',\n",
       " 'students_hisp',\n",
       " 'students_white',\n",
       " 'students_ell',\n",
       " 'students_sped',\n",
       " 'students_cte',\n",
       " 'students_teacher_ratio',\n",
       " 'geography',\n",
       " 'charter',\n",
       " 'district_status',\n",
       " 'type_urban',\n",
       " 'type_suburban',\n",
       " 'type_town',\n",
       " 'type_rural',\n",
       " 'eligible',\n",
       " 'teachers_nodegree',\n",
       " 'teachers_badegree',\n",
       " 'teachers_msdegree',\n",
       " 'teachers_phddegree',\n",
       " 'r_3rd_std',\n",
       " 'm_3rd_std',\n",
       " 'r_4th_std',\n",
       " 'm_4th_std',\n",
       " 'r_5th_std',\n",
       " 'm_5th_std',\n",
       " 'r_6th_std',\n",
       " 'm_6th_std',\n",
       " 'r_7th_std',\n",
       " 'm_7th_std',\n",
       " 'r_8th_std',\n",
       " 'm_8th_std',\n",
       " 's_8th_std',\n",
       " 'alg_std',\n",
       " 'bio_std',\n",
       " 'eng1_std',\n",
       " 'eng2_std',\n",
       " 'us_std',\n",
       " 'elem_math',\n",
       " 'elem_reading',\n",
       " 'elem',\n",
       " 'middle_math',\n",
       " 'middle_reading',\n",
       " 'middle_science',\n",
       " 'algebra',\n",
       " 'biology',\n",
       " 'eng1',\n",
       " 'math',\n",
       " 'reading',\n",
       " 'avescores',\n",
       " 'treatpost',\n",
       " 'yearpost',\n",
       " 'yearpre',\n",
       " 'pre5',\n",
       " 'pre4',\n",
       " 'pre3',\n",
       " 'pre2',\n",
       " 'pre1',\n",
       " 'pre0',\n",
       " 'post1',\n",
       " 'post2',\n",
       " 'post3']"
      ]
     },
     "execution_count": 13,
     "metadata": {},
     "output_type": "execute_result"
    }
   ],
   "source": [
    "list(df.columns)"
   ]
  },
  {
   "cell_type": "markdown",
   "metadata": {},
   "source": [
    "## Simple GDID"
   ]
  },
  {
   "cell_type": "code",
   "execution_count": 14,
   "metadata": {},
   "outputs": [
    {
     "name": "stderr",
     "output_type": "stream",
     "text": [
      "/Users/kylieleblancKylie/anaconda/envs/spacy/lib/python3.7/site-packages/linearmodels/utility.py:478: MissingValueWarning: \n",
      "Inputs contain missing values. Dropping rows with missing observations.\n",
      "  warnings.warn(missing_value_warning_msg, MissingValueWarning)\n"
     ]
    },
    {
     "name": "stdout",
     "output_type": "stream",
     "text": [
      "                          PanelOLS Estimation Summary                           \n",
      "================================================================================\n",
      "Dep. Variable:          certification   R-squared:                        0.0004\n",
      "Estimator:                   PanelOLS   R-squared (Between):             -0.0370\n",
      "No. Observations:               36968   R-squared (Within):              -0.0020\n",
      "Date:                Tue, Dec 17 2019   R-squared (Overall):             -0.0165\n",
      "Time:                        17:30:23   Log-likelihood                 9.576e+04\n",
      "Cov. Estimator:             Clustered                                           \n",
      "                                        F-statistic:                      4.3739\n",
      "Entities:                        6486   P-value                           0.0044\n",
      "Avg Obs:                       5.6997   Distribution:                 F(3,30474)\n",
      "Min Obs:                       1.0000                                           \n",
      "Max Obs:                       6.0000   F-statistic (robust):             4.0660\n",
      "                                        P-value                           0.0067\n",
      "Time periods:                       6   Distribution:                 F(3,30474)\n",
      "Avg Obs:                       6161.3                                           \n",
      "Min Obs:                       6115.0                                           \n",
      "Max Obs:                       6215.0                                           \n",
      "                                                                                \n",
      "                                 Parameter Estimates                                 \n",
      "=====================================================================================\n",
      "                   Parameter  Std. Err.     T-stat    P-value    Lower CI    Upper CI\n",
      "-------------------------------------------------------------------------------------\n",
      "Intercept             0.9983     0.0034     290.47     0.0000      0.9916      1.0051\n",
      "treatpost[T.True]    -0.0002     0.0004    -0.4162     0.6773     -0.0010      0.0006\n",
      "students_hisp        -0.0082     0.0075    -1.1018     0.2706     -0.0229      0.0064\n",
      "students_num      -3.831e-06  1.233e-06    -3.1078     0.0019  -6.247e-06  -1.415e-06\n",
      "=====================================================================================\n",
      "\n",
      "F-test for Poolability: 2.6312\n",
      "P-value: 0.0000\n",
      "Distribution: F(6490,30474)\n",
      "\n",
      "Included effects: Entity, Time\n"
     ]
    }
   ],
   "source": [
    "mod = PanelOLS.from_formula('certification ~ + 1 + treatpost + students_hisp + students_num + TimeEffects + EntityEffects', df)\n",
    "res = mod.fit(cov_type='clustered', cluster_entity=True)\n",
    "print(res)\n",
    "#ws.cell(row= 3, column= 2).value = coef_with_stars(res.params['treatpost[T.True]'], res.pvalues['treatpost[T.True]'])\n",
    "#ws.cell(row= 4, column= 2).value = format_se(res.std_errors['treatpost[T.True]'])"
   ]
  },
  {
   "cell_type": "markdown",
   "metadata": {},
   "source": [
    "## GDID with Trends"
   ]
  },
  {
   "cell_type": "code",
   "execution_count": 15,
   "metadata": {},
   "outputs": [
    {
     "name": "stderr",
     "output_type": "stream",
     "text": [
      "/Users/kylieleblancKylie/anaconda/envs/spacy/lib/python3.7/site-packages/linearmodels/utility.py:478: MissingValueWarning: \n",
      "Inputs contain missing values. Dropping rows with missing observations.\n",
      "  warnings.warn(missing_value_warning_msg, MissingValueWarning)\n"
     ]
    },
    {
     "name": "stdout",
     "output_type": "stream",
     "text": [
      "                          PanelOLS Estimation Summary                           \n",
      "================================================================================\n",
      "Dep. Variable:          certification   R-squared:                        0.0005\n",
      "Estimator:                   PanelOLS   R-squared (Between):             -0.0356\n",
      "No. Observations:               36968   R-squared (Within):               0.0082\n",
      "Date:                Tue, Dec 17 2019   R-squared (Overall):             -0.0090\n",
      "Time:                        17:30:33   Log-likelihood                 9.576e+04\n",
      "Cov. Estimator:             Clustered                                           \n",
      "                                        F-statistic:                      2.8253\n",
      "Entities:                        6486   P-value                           0.0148\n",
      "Avg Obs:                       5.6997   Distribution:                 F(5,30472)\n",
      "Min Obs:                       1.0000                                           \n",
      "Max Obs:                       6.0000   F-statistic (robust):             2.7882\n",
      "                                        P-value                           0.0160\n",
      "Time periods:                       6   Distribution:                 F(5,30472)\n",
      "Avg Obs:                       6161.3                                           \n",
      "Min Obs:                       6115.0                                           \n",
      "Max Obs:                       6215.0                                           \n",
      "                                                                                \n",
      "                                 Parameter Estimates                                 \n",
      "=====================================================================================\n",
      "                   Parameter  Std. Err.     T-stat    P-value    Lower CI    Upper CI\n",
      "-------------------------------------------------------------------------------------\n",
      "Intercept             0.9988     0.0036     280.83     0.0000      0.9918      1.0057\n",
      "treatpost[T.True]     0.0005     0.0006     0.8786     0.3796     -0.0007      0.0017\n",
      "yearpost             -0.0005     0.0008    -0.5679     0.5701     -0.0020      0.0011\n",
      "yearpre               0.0003     0.0006     0.4703     0.6382     -0.0009      0.0014\n",
      "students_hisp        -0.0082     0.0075    -1.1018     0.2705     -0.0229      0.0064\n",
      "students_num      -3.817e-06  1.233e-06    -3.0951     0.0020  -6.234e-06    -1.4e-06\n",
      "=====================================================================================\n",
      "\n",
      "F-test for Poolability: 2.4281\n",
      "P-value: 0.0000\n",
      "Distribution: F(6490,30472)\n",
      "\n",
      "Included effects: Entity, Time\n"
     ]
    }
   ],
   "source": [
    "mod = PanelOLS.from_formula('certification ~ + 1 + treatpost + yearpost + yearpre + students_hisp + students_num + TimeEffects + EntityEffects', df)\n",
    "res = mod.fit(cov_type='clustered', cluster_entity=True)\n",
    "print(res)\n",
    "#intercept = res.params['Intercept']\n",
    "jump = res.params['treatpost[T.True]']\n",
    "preslope = res.params['yearpre']\n",
    "postslope = res.params['yearpost']\n",
    "#ws.cell(row= 6, column= 2).value = coef_with_stars(res.params['treatpost[T.True]'], res.pvalues['treatpost[T.True]'])\n",
    "#ws.cell(row= 7, column= 2).value = format_se(res.std_errors['treatpost[T.True]'])\n",
    "#ws.cell(row= 8, column= 2).value = coef_with_stars(res.params['yearpost'], res.pvalues['treatpost[T.True]'])\n",
    "#ws.cell(row= 9, column= 2).value = format_se(res.std_errors['yearpost'])\n",
    "#ws.cell(row= 10, column= 2).value = coef_with_stars(res.params['yearpre'], res.pvalues['treatpost[T.True]'])\n",
    "#ws.cell(row= 11, column= 2).value = format_se(res.std_errors['yearpre'])\n",
    "#wb.save(file)"
   ]
  },
  {
   "cell_type": "code",
   "execution_count": 16,
   "metadata": {},
   "outputs": [
    {
     "name": "stderr",
     "output_type": "stream",
     "text": [
      "/Users/kylieleblancKylie/anaconda/envs/spacy/lib/python3.7/site-packages/linearmodels/utility.py:478: MissingValueWarning: \n",
      "Inputs contain missing values. Dropping rows with missing observations.\n",
      "  warnings.warn(missing_value_warning_msg, MissingValueWarning)\n"
     ]
    },
    {
     "ename": "ValueError",
     "evalue": "exog does not have full column rank.",
     "output_type": "error",
     "traceback": [
      "\u001b[0;31m---------------------------------------------------------------------------\u001b[0m",
      "\u001b[0;31mValueError\u001b[0m                                Traceback (most recent call last)",
      "\u001b[0;32m<ipython-input-16-3ae4777e2f5e>\u001b[0m in \u001b[0;36m<module>\u001b[0;34m()\u001b[0m\n\u001b[0;32m----> 1\u001b[0;31m \u001b[0mmod\u001b[0m \u001b[0;34m=\u001b[0m \u001b[0mPanelOLS\u001b[0m\u001b[0;34m.\u001b[0m\u001b[0mfrom_formula\u001b[0m\u001b[0;34m(\u001b[0m\u001b[0;34m'certification ~ + 1 + pre5 + pre4 + pre3 + pre2 + pre1 + post1 + post2 + post3 + students_hisp + students_num + TimeEffects + EntityEffects'\u001b[0m\u001b[0;34m,\u001b[0m \u001b[0mdf\u001b[0m\u001b[0;34m)\u001b[0m\u001b[0;34m\u001b[0m\u001b[0;34m\u001b[0m\u001b[0m\n\u001b[0m\u001b[1;32m      2\u001b[0m \u001b[0mres\u001b[0m \u001b[0;34m=\u001b[0m \u001b[0mmod\u001b[0m\u001b[0;34m.\u001b[0m\u001b[0mfit\u001b[0m\u001b[0;34m(\u001b[0m\u001b[0mcov_type\u001b[0m\u001b[0;34m=\u001b[0m\u001b[0;34m'clustered'\u001b[0m\u001b[0;34m,\u001b[0m \u001b[0mcluster_entity\u001b[0m\u001b[0;34m=\u001b[0m\u001b[0;32mTrue\u001b[0m\u001b[0;34m)\u001b[0m\u001b[0;34m\u001b[0m\u001b[0;34m\u001b[0m\u001b[0m\n\u001b[1;32m      3\u001b[0m \u001b[0mprint\u001b[0m\u001b[0;34m(\u001b[0m\u001b[0mres\u001b[0m\u001b[0;34m)\u001b[0m\u001b[0;34m\u001b[0m\u001b[0;34m\u001b[0m\u001b[0m\n\u001b[1;32m      4\u001b[0m \u001b[0mnonparametric\u001b[0m \u001b[0;34m=\u001b[0m \u001b[0;34m[\u001b[0m\u001b[0;34m]\u001b[0m\u001b[0;34m\u001b[0m\u001b[0;34m\u001b[0m\u001b[0m\n\u001b[1;32m      5\u001b[0m \u001b[0;32mfor\u001b[0m \u001b[0mcoef\u001b[0m \u001b[0;32min\u001b[0m \u001b[0;34m[\u001b[0m\u001b[0;34m'pre5'\u001b[0m\u001b[0;34m,\u001b[0m \u001b[0;34m'pre4'\u001b[0m\u001b[0;34m,\u001b[0m \u001b[0;34m'pre3'\u001b[0m\u001b[0;34m,\u001b[0m \u001b[0;34m'pre2'\u001b[0m\u001b[0;34m,\u001b[0m \u001b[0;34m'pre1'\u001b[0m\u001b[0;34m,\u001b[0m \u001b[0;34m'pre0'\u001b[0m\u001b[0;34m,\u001b[0m \u001b[0;34m'post1'\u001b[0m\u001b[0;34m,\u001b[0m \u001b[0;34m'post2'\u001b[0m\u001b[0;34m,\u001b[0m \u001b[0;34m'post3'\u001b[0m\u001b[0;34m]\u001b[0m\u001b[0;34m:\u001b[0m\u001b[0;34m\u001b[0m\u001b[0;34m\u001b[0m\u001b[0m\n",
      "\u001b[0;32m~/anaconda/envs/spacy/lib/python3.7/site-packages/linearmodels/panel/model.py\u001b[0m in \u001b[0;36mfrom_formula\u001b[0;34m(cls, formula, data, weights, other_effects, singletons, drop_absorbed)\u001b[0m\n\u001b[1;32m    926\u001b[0m         mod = cls(dependent, exog, entity_effects=entity_effect, time_effects=time_effect,\n\u001b[1;32m    927\u001b[0m                   \u001b[0mweights\u001b[0m\u001b[0;34m=\u001b[0m\u001b[0mweights\u001b[0m\u001b[0;34m,\u001b[0m \u001b[0mother_effects\u001b[0m\u001b[0;34m=\u001b[0m\u001b[0mother_effects\u001b[0m\u001b[0;34m,\u001b[0m \u001b[0msingletons\u001b[0m\u001b[0;34m=\u001b[0m\u001b[0msingletons\u001b[0m\u001b[0;34m,\u001b[0m\u001b[0;34m\u001b[0m\u001b[0;34m\u001b[0m\u001b[0m\n\u001b[0;32m--> 928\u001b[0;31m                   drop_absorbed=drop_absorbed)\n\u001b[0m\u001b[1;32m    929\u001b[0m         \u001b[0mmod\u001b[0m\u001b[0;34m.\u001b[0m\u001b[0mformula\u001b[0m \u001b[0;34m=\u001b[0m \u001b[0mformula\u001b[0m\u001b[0;34m\u001b[0m\u001b[0;34m\u001b[0m\u001b[0m\n\u001b[1;32m    930\u001b[0m         \u001b[0;32mreturn\u001b[0m \u001b[0mmod\u001b[0m\u001b[0;34m\u001b[0m\u001b[0;34m\u001b[0m\u001b[0m\n",
      "\u001b[0;32m~/anaconda/envs/spacy/lib/python3.7/site-packages/linearmodels/panel/model.py\u001b[0m in \u001b[0;36m__init__\u001b[0;34m(self, dependent, exog, weights, entity_effects, time_effects, other_effects, singletons, drop_absorbed)\u001b[0m\n\u001b[1;32m    760\u001b[0m     def __init__(self, dependent, exog, *, weights=None, entity_effects=False, time_effects=False,\n\u001b[1;32m    761\u001b[0m                  other_effects=None, singletons=True, drop_absorbed=False):\n\u001b[0;32m--> 762\u001b[0;31m         \u001b[0msuper\u001b[0m\u001b[0;34m(\u001b[0m\u001b[0mPanelOLS\u001b[0m\u001b[0;34m,\u001b[0m \u001b[0mself\u001b[0m\u001b[0;34m)\u001b[0m\u001b[0;34m.\u001b[0m\u001b[0m__init__\u001b[0m\u001b[0;34m(\u001b[0m\u001b[0mdependent\u001b[0m\u001b[0;34m,\u001b[0m \u001b[0mexog\u001b[0m\u001b[0;34m,\u001b[0m \u001b[0mweights\u001b[0m\u001b[0;34m=\u001b[0m\u001b[0mweights\u001b[0m\u001b[0;34m)\u001b[0m\u001b[0;34m\u001b[0m\u001b[0;34m\u001b[0m\u001b[0m\n\u001b[0m\u001b[1;32m    763\u001b[0m \u001b[0;34m\u001b[0m\u001b[0m\n\u001b[1;32m    764\u001b[0m         \u001b[0mself\u001b[0m\u001b[0;34m.\u001b[0m\u001b[0m_entity_effects\u001b[0m \u001b[0;34m=\u001b[0m \u001b[0mentity_effects\u001b[0m\u001b[0;34m\u001b[0m\u001b[0;34m\u001b[0m\u001b[0m\n",
      "\u001b[0;32m~/anaconda/envs/spacy/lib/python3.7/site-packages/linearmodels/panel/model.py\u001b[0m in \u001b[0;36m__init__\u001b[0;34m(self, dependent, exog, weights)\u001b[0m\n\u001b[1;32m    183\u001b[0m                                                  DriscollKraay, ACCovariance)\n\u001b[1;32m    184\u001b[0m         \u001b[0mself\u001b[0m\u001b[0;34m.\u001b[0m\u001b[0m_original_index\u001b[0m \u001b[0;34m=\u001b[0m \u001b[0mself\u001b[0m\u001b[0;34m.\u001b[0m\u001b[0mdependent\u001b[0m\u001b[0;34m.\u001b[0m\u001b[0mindex\u001b[0m\u001b[0;34m.\u001b[0m\u001b[0mcopy\u001b[0m\u001b[0;34m(\u001b[0m\u001b[0;34m)\u001b[0m\u001b[0;34m\u001b[0m\u001b[0;34m\u001b[0m\u001b[0m\n\u001b[0;32m--> 185\u001b[0;31m         \u001b[0mself\u001b[0m\u001b[0;34m.\u001b[0m\u001b[0m_validate_data\u001b[0m\u001b[0;34m(\u001b[0m\u001b[0;34m)\u001b[0m\u001b[0;34m\u001b[0m\u001b[0;34m\u001b[0m\u001b[0m\n\u001b[0m\u001b[1;32m    186\u001b[0m         \u001b[0mself\u001b[0m\u001b[0;34m.\u001b[0m\u001b[0m_singleton_index\u001b[0m \u001b[0;34m=\u001b[0m \u001b[0;32mNone\u001b[0m\u001b[0;34m\u001b[0m\u001b[0;34m\u001b[0m\u001b[0m\n\u001b[1;32m    187\u001b[0m \u001b[0;34m\u001b[0m\u001b[0m\n",
      "\u001b[0;32m~/anaconda/envs/spacy/lib/python3.7/site-packages/linearmodels/panel/model.py\u001b[0m in \u001b[0;36m_validate_data\u001b[0;34m(self)\u001b[0m\n\u001b[1;32m    309\u001b[0m         \u001b[0mw\u001b[0m \u001b[0;34m=\u001b[0m \u001b[0mw\u001b[0m \u001b[0;34m/\u001b[0m \u001b[0mw\u001b[0m\u001b[0;34m.\u001b[0m\u001b[0mmean\u001b[0m\u001b[0;34m(\u001b[0m\u001b[0;34m)\u001b[0m\u001b[0;34m\u001b[0m\u001b[0;34m\u001b[0m\u001b[0m\n\u001b[1;32m    310\u001b[0m         \u001b[0mself\u001b[0m\u001b[0;34m.\u001b[0m\u001b[0mweights\u001b[0m \u001b[0;34m=\u001b[0m \u001b[0mPanelData\u001b[0m\u001b[0;34m(\u001b[0m\u001b[0mw\u001b[0m\u001b[0;34m)\u001b[0m\u001b[0;34m\u001b[0m\u001b[0;34m\u001b[0m\u001b[0m\n\u001b[0;32m--> 311\u001b[0;31m         \u001b[0mrank_of_x\u001b[0m \u001b[0;34m=\u001b[0m \u001b[0mself\u001b[0m\u001b[0;34m.\u001b[0m\u001b[0m_check_exog_rank\u001b[0m\u001b[0;34m(\u001b[0m\u001b[0;34m)\u001b[0m\u001b[0;34m\u001b[0m\u001b[0;34m\u001b[0m\u001b[0m\n\u001b[0m\u001b[1;32m    312\u001b[0m         \u001b[0mself\u001b[0m\u001b[0;34m.\u001b[0m\u001b[0m_constant\u001b[0m\u001b[0;34m,\u001b[0m \u001b[0mself\u001b[0m\u001b[0;34m.\u001b[0m\u001b[0m_constant_index\u001b[0m \u001b[0;34m=\u001b[0m \u001b[0mhas_constant\u001b[0m\u001b[0;34m(\u001b[0m\u001b[0mx\u001b[0m\u001b[0;34m,\u001b[0m \u001b[0mrank_of_x\u001b[0m\u001b[0;34m)\u001b[0m\u001b[0;34m\u001b[0m\u001b[0;34m\u001b[0m\u001b[0m\n\u001b[1;32m    313\u001b[0m \u001b[0;34m\u001b[0m\u001b[0m\n",
      "\u001b[0;32m~/anaconda/envs/spacy/lib/python3.7/site-packages/linearmodels/panel/model.py\u001b[0m in \u001b[0;36m_check_exog_rank\u001b[0;34m(self)\u001b[0m\n\u001b[1;32m    275\u001b[0m         \u001b[0mrank_of_x\u001b[0m \u001b[0;34m=\u001b[0m \u001b[0mmatrix_rank\u001b[0m\u001b[0;34m(\u001b[0m\u001b[0mx\u001b[0m\u001b[0;34m)\u001b[0m\u001b[0;34m\u001b[0m\u001b[0;34m\u001b[0m\u001b[0m\n\u001b[1;32m    276\u001b[0m         \u001b[0;32mif\u001b[0m \u001b[0mrank_of_x\u001b[0m \u001b[0;34m<\u001b[0m \u001b[0mx\u001b[0m\u001b[0;34m.\u001b[0m\u001b[0mshape\u001b[0m\u001b[0;34m[\u001b[0m\u001b[0;36m1\u001b[0m\u001b[0;34m]\u001b[0m\u001b[0;34m:\u001b[0m\u001b[0;34m\u001b[0m\u001b[0;34m\u001b[0m\u001b[0m\n\u001b[0;32m--> 277\u001b[0;31m             \u001b[0;32mraise\u001b[0m \u001b[0mValueError\u001b[0m\u001b[0;34m(\u001b[0m\u001b[0;34m'exog does not have full column rank.'\u001b[0m\u001b[0;34m)\u001b[0m\u001b[0;34m\u001b[0m\u001b[0;34m\u001b[0m\u001b[0m\n\u001b[0m\u001b[1;32m    278\u001b[0m         \u001b[0;32mreturn\u001b[0m \u001b[0mrank_of_x\u001b[0m\u001b[0;34m\u001b[0m\u001b[0;34m\u001b[0m\u001b[0m\n\u001b[1;32m    279\u001b[0m \u001b[0;34m\u001b[0m\u001b[0m\n",
      "\u001b[0;31mValueError\u001b[0m: exog does not have full column rank."
     ]
    }
   ],
   "source": [
    "mod = PanelOLS.from_formula('certification ~ + 1 + pre5 + pre4 + pre3 + pre2 + pre1 + post1 + post2 + post3 + students_hisp + students_num + TimeEffects + EntityEffects', df)\n",
    "res = mod.fit(cov_type='clustered', cluster_entity=True)\n",
    "print(res)\n",
    "nonparametric = []\n",
    "for coef in ['pre5', 'pre4', 'pre3', 'pre2', 'pre1', 'pre0', 'post1', 'post2', 'post3']:\n",
    "    nonpar = 0\n",
    "    if coef != 'pre0':\n",
    "        nonpar = res.params[coef]\n",
    "    nonparametric.append(nonpar)\n",
    "print(nonparametric)\n",
    "row = 3\n",
    "#for coef in ['post3', 'post2', 'post1', 'pre1', 'pre2', 'pre3', 'pre4', 'pre5']:\n",
    "#    ws.cell(row= row, column= 4).value = coef_with_stars(res.params[coef], res.pvalues[coef])\n",
    "#    row = row + 1\n",
    "#    ws.cell(row= row, column= 4).value = format_se(res.std_errors[coef])  \n",
    "#    row = row + 1\n",
    "#wb.save(file)"
   ]
  },
  {
   "cell_type": "markdown",
   "metadata": {},
   "source": [
    "# Create graph (look up how to use predicted values)\n"
   ]
  },
  {
   "cell_type": "code",
   "execution_count": 17,
   "metadata": {},
   "outputs": [
    {
     "data": {
      "text/plain": [
       "[-0.0013859035862386724,\n",
       " -0.001108722868990938,\n",
       " -0.0008315421517432035,\n",
       " -0.000554361434495469,\n",
       " -0.0002771807172477345,\n",
       " 0,\n",
       " 8.33640376296965e-05,\n",
       " -0.0003677217885540759,\n",
       " -0.0008188076147378483]"
      ]
     },
     "execution_count": 17,
     "metadata": {},
     "output_type": "execute_result"
    }
   ],
   "source": [
    "years = [-5, -4, -3, -2, -1, 0, 1, 2, 3]\n",
    "parametric = []\n",
    "for year in years:\n",
    "    par = 0\n",
    "    if year < 0 :\n",
    "        par = (year * preslope)\n",
    "    if year > 0 :\n",
    "        par = jump + (year * postslope)\n",
    "    parametric.append(par)\n",
    "parametric   "
   ]
  },
  {
   "cell_type": "code",
   "execution_count": 18,
   "metadata": {},
   "outputs": [
    {
     "ename": "NameError",
     "evalue": "name 'nonparametric' is not defined",
     "output_type": "error",
     "traceback": [
      "\u001b[0;31m---------------------------------------------------------------------------\u001b[0m",
      "\u001b[0;31mNameError\u001b[0m                                 Traceback (most recent call last)",
      "\u001b[0;32m<ipython-input-18-b30ad192c8fd>\u001b[0m in \u001b[0;36m<module>\u001b[0;34m()\u001b[0m\n\u001b[0;32m----> 1\u001b[0;31m \u001b[0mnonparametric\u001b[0m\u001b[0;34m\u001b[0m\u001b[0;34m\u001b[0m\u001b[0m\n\u001b[0m",
      "\u001b[0;31mNameError\u001b[0m: name 'nonparametric' is not defined"
     ]
    }
   ],
   "source": [
    "nonparametric"
   ]
  },
  {
   "cell_type": "code",
   "execution_count": 23,
   "metadata": {},
   "outputs": [
    {
     "data": {
      "text/plain": [
       "[<matplotlib.lines.Line2D at 0x1a189226a0>]"
      ]
     },
     "execution_count": 23,
     "metadata": {},
     "output_type": "execute_result"
    },
    {
     "data": {
      "image/png": "[encoded data removed]",
      "text/plain": [
       "<Figure size 432x288 with 1 Axes>"
      ]
     },
     "metadata": {},
     "output_type": "display_data"
    }
   ],
   "source": [
    "plt.plot(years, parametric)\n",
    "plt.plot(years, nonparametric)"
   ]
  }
 ],
 "metadata": {
  "kernelspec": {
   "display_name": "Python [conda env:spacy]",
   "language": "python",
   "name": "conda-env-spacy-py"
  },
  "language_info": {
   "codemirror_mode": {
    "name": "ipython",
    "version": 3
   },
   "file_extension": ".py",
   "mimetype": "text/x-python",
   "name": "python",
   "nbconvert_exporter": "python",
   "pygments_lexer": "ipython3",
   "version": "3.7.2"
  }
 },
 "nbformat": 4,
 "nbformat_minor": 2
}
