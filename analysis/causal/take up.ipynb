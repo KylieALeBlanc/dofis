{
 "cells": [
  {
   "cell_type": "code",
   "execution_count": 1,
   "metadata": {},
   "outputs": [],
   "source": [
    "import sys\n",
    "sys.path.append(\"../\")\n",
    "\n",
    "\n",
    "import os\n",
    "%matplotlib inline\n",
    "import matplotlib.mlab as mlab\n",
    "import matplotlib.pyplot as plt\n",
    "import pandas as pd\n",
    "import numpy as np\n",
    "import statsmodels.formula.api as smf\n",
    "from patsy import dmatrices\n",
    "from openpyxl import load_workbook\n",
    "import engarde.decorators as ed\n",
    "\n",
    "from library import test_data\n",
    "@ed.verify(test_data.allyearsandtpsd)\n",
    "@ed.verify(test_data.alldois)\n",
    "def load(data):\n",
    "    return data"
   ]
  },
  {
   "cell_type": "code",
   "execution_count": 17,
   "metadata": {},
   "outputs": [
    {
     "data": {
      "text/plain": [
       "822"
      ]
     },
     "execution_count": 17,
     "metadata": {},
     "output_type": "execute_result"
    }
   ],
   "source": [
    "data_path = '/Users/kylieleblancKylie/domino/dofis/data/'\n",
    "table_path = '/Users/kylieleblancKylie/domino/dofis/results/impact/'\n",
    "data = pd.read_csv(os.path.join(data_path, 'clean', 'gdid.csv'),\n",
    "                  sep=\",\", low_memory= False)\n",
    "\n",
    "#load(data)\n",
    "data.tail()\n",
    "data[data.doi == True].district.nunique()"
   ]
  },
  {
   "cell_type": "code",
   "execution_count": 18,
   "metadata": {},
   "outputs": [
    {
     "data": {
      "text/html": [
       "<div>\n",
       "<style scoped>\n",
       "    .dataframe tbody tr th:only-of-type {\n",
       "        vertical-align: middle;\n",
       "    }\n",
       "\n",
       "    .dataframe tbody tr th {\n",
       "        vertical-align: top;\n",
       "    }\n",
       "\n",
       "    .dataframe thead th {\n",
       "        text-align: right;\n",
       "    }\n",
       "</style>\n",
       "<table border=\"1\" class=\"dataframe\">\n",
       "  <thead>\n",
       "    <tr style=\"text-align: right;\">\n",
       "      <th></th>\n",
       "      <th>Unnamed: 0</th>\n",
       "      <th>year</th>\n",
       "      <th>campus</th>\n",
       "      <th>campname</th>\n",
       "      <th>campischarter</th>\n",
       "      <th>district</th>\n",
       "      <th>distname</th>\n",
       "      <th>distischarter</th>\n",
       "      <th>rating_academic</th>\n",
       "      <th>rating_financial</th>\n",
       "      <th>...</th>\n",
       "      <th>district_status</th>\n",
       "      <th>type_urban</th>\n",
       "      <th>type_suburban</th>\n",
       "      <th>type_town</th>\n",
       "      <th>type_rural</th>\n",
       "      <th>eligible</th>\n",
       "      <th>teachers_nodegree</th>\n",
       "      <th>teachers_badegree</th>\n",
       "      <th>teachers_msdegree</th>\n",
       "      <th>teachers_phddegree</th>\n",
       "    </tr>\n",
       "  </thead>\n",
       "  <tbody>\n",
       "    <tr>\n",
       "      <th>55837</th>\n",
       "      <td>55837</td>\n",
       "      <td>2018</td>\n",
       "      <td>101907108</td>\n",
       "      <td>HANCOCK EL</td>\n",
       "      <td>N</td>\n",
       "      <td>101907</td>\n",
       "      <td>CYPRESS-FAIRBANKS ISD</td>\n",
       "      <td>N</td>\n",
       "      <td>Not Rated: Harvey Provision</td>\n",
       "      <td>Pass</td>\n",
       "      <td>...</td>\n",
       "      <td>tps</td>\n",
       "      <td>0</td>\n",
       "      <td>1</td>\n",
       "      <td>0</td>\n",
       "      <td>0</td>\n",
       "      <td>1</td>\n",
       "      <td>0.000000</td>\n",
       "      <td>0.843137</td>\n",
       "      <td>0.156863</td>\n",
       "      <td>0.0</td>\n",
       "    </tr>\n",
       "    <tr>\n",
       "      <th>51997</th>\n",
       "      <td>51997</td>\n",
       "      <td>2018</td>\n",
       "      <td>14906129</td>\n",
       "      <td>MAXDALE EL</td>\n",
       "      <td>N</td>\n",
       "      <td>14906</td>\n",
       "      <td>KILLEEN ISD</td>\n",
       "      <td>N</td>\n",
       "      <td>C</td>\n",
       "      <td>Pass</td>\n",
       "      <td>...</td>\n",
       "      <td>tps</td>\n",
       "      <td>1</td>\n",
       "      <td>0</td>\n",
       "      <td>0</td>\n",
       "      <td>0</td>\n",
       "      <td>1</td>\n",
       "      <td>0.000000</td>\n",
       "      <td>0.803879</td>\n",
       "      <td>0.193966</td>\n",
       "      <td>0.0</td>\n",
       "    </tr>\n",
       "    <tr>\n",
       "      <th>53539</th>\n",
       "      <td>53539</td>\n",
       "      <td>2018</td>\n",
       "      <td>57803012</td>\n",
       "      <td>UPLIFT LUNA SECONDARY SCHOOL</td>\n",
       "      <td>Y</td>\n",
       "      <td>57803</td>\n",
       "      <td>UPLIFT EDUCATION</td>\n",
       "      <td>Y</td>\n",
       "      <td>B</td>\n",
       "      <td>Pass</td>\n",
       "      <td>...</td>\n",
       "      <td>charter</td>\n",
       "      <td>0</td>\n",
       "      <td>0</td>\n",
       "      <td>0</td>\n",
       "      <td>0</td>\n",
       "      <td>0</td>\n",
       "      <td>0.022654</td>\n",
       "      <td>0.715210</td>\n",
       "      <td>0.258900</td>\n",
       "      <td>0.0</td>\n",
       "    </tr>\n",
       "    <tr>\n",
       "      <th>58540</th>\n",
       "      <td>58540</td>\n",
       "      <td>2018</td>\n",
       "      <td>187907041</td>\n",
       "      <td>LIVINGSTON J H</td>\n",
       "      <td>N</td>\n",
       "      <td>187907</td>\n",
       "      <td>LIVINGSTON ISD</td>\n",
       "      <td>N</td>\n",
       "      <td>C</td>\n",
       "      <td>Pass</td>\n",
       "      <td>...</td>\n",
       "      <td>doi</td>\n",
       "      <td>0</td>\n",
       "      <td>0</td>\n",
       "      <td>1</td>\n",
       "      <td>0</td>\n",
       "      <td>1</td>\n",
       "      <td>0.012384</td>\n",
       "      <td>0.801858</td>\n",
       "      <td>0.185759</td>\n",
       "      <td>0.0</td>\n",
       "    </tr>\n",
       "    <tr>\n",
       "      <th>57487</th>\n",
       "      <td>57487</td>\n",
       "      <td>2018</td>\n",
       "      <td>129905104</td>\n",
       "      <td>SOUTHSIDE EL</td>\n",
       "      <td>N</td>\n",
       "      <td>129905</td>\n",
       "      <td>MABANK ISD</td>\n",
       "      <td>N</td>\n",
       "      <td>B</td>\n",
       "      <td>Pass</td>\n",
       "      <td>...</td>\n",
       "      <td>doi</td>\n",
       "      <td>0</td>\n",
       "      <td>1</td>\n",
       "      <td>0</td>\n",
       "      <td>0</td>\n",
       "      <td>1</td>\n",
       "      <td>0.000000</td>\n",
       "      <td>0.920635</td>\n",
       "      <td>0.079365</td>\n",
       "      <td>0.0</td>\n",
       "    </tr>\n",
       "  </tbody>\n",
       "</table>\n",
       "<p>5 rows × 325 columns</p>\n",
       "</div>"
      ],
      "text/plain": [
       "       Unnamed: 0  year     campus                      campname  \\\n",
       "55837       55837  2018  101907108                    HANCOCK EL   \n",
       "51997       51997  2018   14906129                    MAXDALE EL   \n",
       "53539       53539  2018   57803012  UPLIFT LUNA SECONDARY SCHOOL   \n",
       "58540       58540  2018  187907041                LIVINGSTON J H   \n",
       "57487       57487  2018  129905104                  SOUTHSIDE EL   \n",
       "\n",
       "      campischarter  district               distname distischarter  \\\n",
       "55837             N    101907  CYPRESS-FAIRBANKS ISD             N   \n",
       "51997             N     14906            KILLEEN ISD             N   \n",
       "53539             Y     57803       UPLIFT EDUCATION             Y   \n",
       "58540             N    187907         LIVINGSTON ISD             N   \n",
       "57487             N    129905             MABANK ISD             N   \n",
       "\n",
       "                   rating_academic rating_financial  ... district_status  \\\n",
       "55837  Not Rated: Harvey Provision             Pass  ...             tps   \n",
       "51997                            C             Pass  ...             tps   \n",
       "53539                            B             Pass  ...         charter   \n",
       "58540                            C             Pass  ...             doi   \n",
       "57487                            B             Pass  ...             doi   \n",
       "\n",
       "      type_urban type_suburban type_town  type_rural  eligible  \\\n",
       "55837          0             1         0           0         1   \n",
       "51997          1             0         0           0         1   \n",
       "53539          0             0         0           0         0   \n",
       "58540          0             0         1           0         1   \n",
       "57487          0             1         0           0         1   \n",
       "\n",
       "       teachers_nodegree  teachers_badegree  teachers_msdegree  \\\n",
       "55837           0.000000           0.843137           0.156863   \n",
       "51997           0.000000           0.803879           0.193966   \n",
       "53539           0.022654           0.715210           0.258900   \n",
       "58540           0.012384           0.801858           0.185759   \n",
       "57487           0.000000           0.920635           0.079365   \n",
       "\n",
       "       teachers_phddegree  \n",
       "55837                 0.0  \n",
       "51997                 0.0  \n",
       "53539                 0.0  \n",
       "58540                 0.0  \n",
       "57487                 0.0  \n",
       "\n",
       "[5 rows x 325 columns]"
      ]
     },
     "execution_count": 18,
     "metadata": {},
     "output_type": "execute_result"
    }
   ],
   "source": [
    "data = pd.read_csv(os.path.join(data_path, 'clean', 'master_data_school.csv'),\n",
    "                  sep=\",\", low_memory= False)\n",
    "data = data[data.year == 2018]\n",
    "data.sample(5)"
   ]
  },
  {
   "cell_type": "code",
   "execution_count": 19,
   "metadata": {},
   "outputs": [],
   "source": [
    "#data = data[data.doi == True][['year','campus', 'district', 'treatpost', 'doi_year']]"
   ]
  },
  {
   "cell_type": "code",
   "execution_count": 20,
   "metadata": {},
   "outputs": [
    {
     "data": {
      "text/html": [
       "<div>\n",
       "<style scoped>\n",
       "    .dataframe tbody tr th:only-of-type {\n",
       "        vertical-align: middle;\n",
       "    }\n",
       "\n",
       "    .dataframe tbody tr th {\n",
       "        vertical-align: top;\n",
       "    }\n",
       "\n",
       "    .dataframe thead th {\n",
       "        text-align: right;\n",
       "    }\n",
       "</style>\n",
       "<table border=\"1\" class=\"dataframe\">\n",
       "  <thead>\n",
       "    <tr style=\"text-align: right;\">\n",
       "      <th></th>\n",
       "      <th>doi_year</th>\n",
       "    </tr>\n",
       "  </thead>\n",
       "  <tbody>\n",
       "    <tr>\n",
       "      <th>2016.0</th>\n",
       "      <td>938</td>\n",
       "    </tr>\n",
       "    <tr>\n",
       "      <th>2017.0</th>\n",
       "      <td>4252</td>\n",
       "    </tr>\n",
       "    <tr>\n",
       "      <th>2018.0</th>\n",
       "      <td>947</td>\n",
       "    </tr>\n",
       "    <tr>\n",
       "      <th>2019.0</th>\n",
       "      <td>206</td>\n",
       "    </tr>\n",
       "    <tr>\n",
       "      <th>2015.0</th>\n",
       "      <td>1</td>\n",
       "    </tr>\n",
       "  </tbody>\n",
       "</table>\n",
       "</div>"
      ],
      "text/plain": [
       "        doi_year\n",
       "2016.0       938\n",
       "2017.0      4252\n",
       "2018.0       947\n",
       "2019.0       206\n",
       "2015.0         1"
      ]
     },
     "execution_count": 20,
     "metadata": {},
     "output_type": "execute_result"
    }
   ],
   "source": [
    "school_counts = pd.DataFrame(data.doi_year.value_counts(sort = False))\n",
    "school_counts"
   ]
  },
  {
   "cell_type": "code",
   "execution_count": 21,
   "metadata": {},
   "outputs": [
    {
     "data": {
      "text/html": [
       "<div>\n",
       "<style scoped>\n",
       "    .dataframe tbody tr th:only-of-type {\n",
       "        vertical-align: middle;\n",
       "    }\n",
       "\n",
       "    .dataframe tbody tr th {\n",
       "        vertical-align: top;\n",
       "    }\n",
       "\n",
       "    .dataframe thead th {\n",
       "        text-align: right;\n",
       "    }\n",
       "</style>\n",
       "<table border=\"1\" class=\"dataframe\">\n",
       "  <thead>\n",
       "    <tr style=\"text-align: right;\">\n",
       "      <th></th>\n",
       "      <th>doi_year</th>\n",
       "    </tr>\n",
       "  </thead>\n",
       "  <tbody>\n",
       "    <tr>\n",
       "      <th>2015.0</th>\n",
       "      <td>1</td>\n",
       "    </tr>\n",
       "    <tr>\n",
       "      <th>2016.0</th>\n",
       "      <td>69</td>\n",
       "    </tr>\n",
       "    <tr>\n",
       "      <th>2017.0</th>\n",
       "      <td>585</td>\n",
       "    </tr>\n",
       "    <tr>\n",
       "      <th>2018.0</th>\n",
       "      <td>133</td>\n",
       "    </tr>\n",
       "    <tr>\n",
       "      <th>2019.0</th>\n",
       "      <td>23</td>\n",
       "    </tr>\n",
       "  </tbody>\n",
       "</table>\n",
       "</div>"
      ],
      "text/plain": [
       "        doi_year\n",
       "2015.0         1\n",
       "2016.0        69\n",
       "2017.0       585\n",
       "2018.0       133\n",
       "2019.0        23"
      ]
     },
     "execution_count": 21,
     "metadata": {},
     "output_type": "execute_result"
    }
   ],
   "source": [
    "district_df = pd.DataFrame(data.groupby(['district']).agg({'doi_year': 'mean'}))\n",
    "district_counts = pd.DataFrame(district_df.doi_year.value_counts(sort = False))\n",
    "district_counts = district_counts.sort_index()\n",
    "district_counts"
   ]
  },
  {
   "cell_type": "code",
   "execution_count": 27,
   "metadata": {},
   "outputs": [
    {
     "data": {
      "text/plain": [
       "201"
      ]
     },
     "execution_count": 27,
     "metadata": {},
     "output_type": "execute_result"
    }
   ],
   "source": [
    "data[(data.doi == False) & (data.distischarter == 'N')].district.nunique()"
   ]
  },
  {
   "cell_type": "code",
   "execution_count": 36,
   "metadata": {},
   "outputs": [
    {
     "data": {
      "text/plain": [
       "10"
      ]
     },
     "execution_count": 36,
     "metadata": {},
     "output_type": "execute_result"
    }
   ],
   "source": [
    "data[(data.doi == False) & (data.distischarter == 'N') & (data.rating_academic == 'F') | (data.rating_financial == \"Fail\")].district.nunique()"
   ]
  },
  {
   "cell_type": "code",
   "execution_count": 24,
   "metadata": {},
   "outputs": [
    {
     "data": {
      "text/plain": [
       "51734    N\n",
       "51735    N\n",
       "51736    N\n",
       "51737    N\n",
       "51738    N\n",
       "        ..\n",
       "60484    N\n",
       "60485    N\n",
       "60486    N\n",
       "60487    N\n",
       "60488    N\n",
       "Name: distischarter, Length: 8755, dtype: object"
      ]
     },
     "execution_count": 24,
     "metadata": {},
     "output_type": "execute_result"
    }
   ],
   "source": [
    "data.distischarter"
   ]
  },
  {
   "cell_type": "code",
   "execution_count": 8,
   "metadata": {},
   "outputs": [
    {
     "data": {
      "text/plain": [
       "2016.0     69\n",
       "2017.0    654\n",
       "2018.0    787\n",
       "2019.0    810\n",
       "Name: doi_year, dtype: int64"
      ]
     },
     "execution_count": 8,
     "metadata": {},
     "output_type": "execute_result"
    }
   ],
   "source": [
    "district_counts.doi_year.cumsum() "
   ]
  },
  {
   "cell_type": "code",
   "execution_count": 11,
   "metadata": {},
   "outputs": [
    {
     "data": {
      "image/png": "[encoded data removed]",
      "text/plain": [
       "<Figure size 480x480 with 1 Axes>"
      ]
     },
     "metadata": {},
     "output_type": "display_data"
    }
   ],
   "source": [
    "import matplotlib\n",
    "plt.style.use('grayscale')\n",
    "my_dpi=96\n",
    "plt.figure(figsize=(480/my_dpi, 480/my_dpi), dpi=my_dpi)\n",
    "\n",
    "# Pre\n",
    "plt.plot(['2016', '2017', '2018', '2019'], district_counts.doi_year.cumsum() , color = 'black')\n",
    "\n",
    "plt.ylabel('Number of Districts')\n",
    "#plt.title('Texas District of Innovation Takeup Over Time')\n",
    "plt.xlabel('Test Year (Spring)', size = 'medium')\n",
    "plt.grid(True, alpha = .6)\n",
    "\n",
    "\n",
    "plt.ylim(0, 1022)\n",
    "txt=\"Notes: Statistics are as of March 2019. There are ten Districts of Innovation (with missing Innovation Plans) \\n that are not included in the figure. As of 2019, there were 1022 traditional public school districts in Texas.\"\n",
    "plt.figtext(.5,-.01, txt, wrap=True, horizontalalignment='center', fontsize=8)\n",
    "\n",
    "plt.savefig(table_path + 'takeup.png', dpi = 600, bbox_inches=\"tight\")\n",
    "plt.show()"
   ]
  },
  {
   "cell_type": "code",
   "execution_count": null,
   "metadata": {},
   "outputs": [],
   "source": []
  }
 ],
 "metadata": {
  "kernelspec": {
   "display_name": "Python [conda env:spacy]",
   "language": "python",
   "name": "conda-env-spacy-py"
  },
  "language_info": {
   "codemirror_mode": {
    "name": "ipython",
    "version": 3
   },
   "file_extension": ".py",
   "mimetype": "text/x-python",
   "name": "python",
   "nbconvert_exporter": "python",
   "pygments_lexer": "ipython3",
   "version": "3.7.2"
  }
 },
 "nbformat": 4,
 "nbformat_minor": 2
}
