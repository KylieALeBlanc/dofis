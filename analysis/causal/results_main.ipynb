{
 "cells": [
  {
   "cell_type": "code",
   "execution_count": 1,
   "metadata": {
    "collapsed": true
   },
   "outputs": [],
   "source": [
    "import os\n",
    "%matplotlib inline\n",
    "import matplotlib.mlab as mlab\n",
    "import matplotlib.pyplot as plt\n",
    "import pandas as pd\n",
    "import numpy as np\n",
    "import statsmodels.formula.api as smf\n",
    "from patsy import dmatrices\n",
    "data_path = '/Users/kylieleblancKylie/domino/dofis/data/'\n",
    "table_path = '/Users/kylieleblancKylie/domino/dofis/results/descriptive/'\n",
    "data = pd.read_csv(os.path.join(data_path, 'clean', 'cits_match.csv'),\n",
    "                  sep=\",\", low_memory=False)"
   ]
  },
  {
   "cell_type": "markdown",
   "metadata": {},
   "source": [
    "# No Matching"
   ]
  },
  {
   "cell_type": "code",
   "execution_count": 2,
   "metadata": {},
   "outputs": [
    {
     "name": "stdout",
     "output_type": "stream",
     "text": [
      "                            OLS Regression Results                            \n",
      "==============================================================================\n",
      "Dep. Variable:              avescores   R-squared:                       0.076\n",
      "Model:                            OLS   Adj. R-squared:                  0.076\n",
      "Method:                 Least Squares   F-statistic:                     87.53\n",
      "Date:                Sat, 16 Mar 2019   Prob (F-statistic):           4.00e-85\n",
      "Time:                        08:58:57   Log-Likelihood:                -6507.4\n",
      "No. Observations:                6302   AIC:                         1.303e+04\n",
      "Df Residuals:                    6295   BIC:                         1.308e+04\n",
      "Df Model:                           6                                         \n",
      "Covariance Type:              cluster                                         \n",
      "=====================================================================================\n",
      "                        coef    std err          z      P>|z|      [0.025      0.975]\n",
      "-------------------------------------------------------------------------------------\n",
      "Intercept             0.1678      0.050      3.333      0.001       0.069       0.267\n",
      "treat                 0.2237      0.092      2.437      0.015       0.044       0.404\n",
      "doi_year_centered     0.1089      0.007     15.181      0.000       0.095       0.123\n",
      "treatyear            -0.0228      0.011     -2.069      0.039      -0.044      -0.001\n",
      "yearpost             -0.0184      0.013     -1.375      0.169      -0.045       0.008\n",
      "treatpostyear         0.0787      0.051      1.538      0.124      -0.022       0.179\n",
      "treatpostyear2       -0.0722      0.034     -2.107      0.035      -0.139      -0.005\n",
      "==============================================================================\n",
      "Omnibus:                      521.224   Durbin-Watson:                   0.324\n",
      "Prob(Omnibus):                  0.000   Jarque-Bera (JB):              710.649\n",
      "Skew:                           0.694   Prob(JB):                    4.84e-155\n",
      "Kurtosis:                       3.883   Cond. No.                         37.5\n",
      "==============================================================================\n",
      "\n",
      "Warnings:\n",
      "[1] Standard Errors are robust tocluster correlation (cluster)\n"
     ]
    }
   ],
   "source": [
    "y, X = dmatrices('avescores ~  treat + doi_year_centered + treatyear + yearpost + treatpostyear + treatpostyear2',\n",
    "                 data=data, return_type='dataframe', NA_action = \"drop\")\n",
    "cluster = data[pd.notnull(data.avescores)].distname\n",
    "mod = smf.OLS(y, X)    # Describe model\n",
    "res = mod.fit(cov_type = 'cluster',  cov_kwds={'groups': pd.DataFrame(cluster)})       # Fit model\n",
    "print(res.summary())   # Summarize model"
   ]
  },
  {
   "cell_type": "markdown",
   "metadata": {},
   "source": [
    "# Matching\n"
   ]
  },
  {
   "cell_type": "code",
   "execution_count": 3,
   "metadata": {},
   "outputs": [
    {
     "name": "stdout",
     "output_type": "stream",
     "text": [
      "                            WLS Regression Results                            \n",
      "==============================================================================\n",
      "Dep. Variable:              avescores   R-squared:                       0.062\n",
      "Model:                            WLS   Adj. R-squared:                  0.062\n",
      "Method:                 Least Squares   F-statistic:                     83.77\n",
      "Date:                Sat, 16 Mar 2019   Prob (F-statistic):           4.17e-82\n",
      "Time:                        08:58:57   Log-Likelihood:                -7256.3\n",
      "No. Observations:                6302   AIC:                         1.453e+04\n",
      "Df Residuals:                    6295   BIC:                         1.457e+04\n",
      "Df Model:                           6                                         \n",
      "Covariance Type:              cluster                                         \n",
      "=====================================================================================\n",
      "                        coef    std err          z      P>|z|      [0.025      0.975]\n",
      "-------------------------------------------------------------------------------------\n",
      "Intercept             0.2941      0.056      5.259      0.000       0.184       0.404\n",
      "treat                 0.0727      0.094      0.772      0.440      -0.112       0.257\n",
      "doi_year_centered     0.1018      0.009     11.422      0.000       0.084       0.119\n",
      "treatyear            -0.0148      0.012     -1.205      0.228      -0.039       0.009\n",
      "yearpost             -0.0295      0.015     -1.906      0.057      -0.060       0.001\n",
      "treatpostyear         0.1111      0.043      2.594      0.009       0.027       0.195\n",
      "treatpostyear2       -0.1041      0.022     -4.674      0.000      -0.148      -0.060\n",
      "==============================================================================\n",
      "Omnibus:                     1727.714   Durbin-Watson:                   0.347\n",
      "Prob(Omnibus):                  0.000   Jarque-Bera (JB):            12634.898\n",
      "Skew:                           1.114   Prob(JB):                         0.00\n",
      "Kurtosis:                       9.569   Cond. No.                         24.7\n",
      "==============================================================================\n",
      "\n",
      "Warnings:\n",
      "[1] Standard Errors are robust tocluster correlation (cluster)\n"
     ]
    }
   ],
   "source": [
    "y, X = dmatrices('avescores ~  treat + doi_year_centered + treatyear + yearpost + treatpostyear + treatpostyear2',\n",
    "                 data=data, return_type='dataframe', NA_action = \"drop\")\n",
    "cluster = data[pd.notnull(data.avescores)].distname\n",
    "psweights = data[pd.notnull(data.avescores)].psweight\n",
    "mod = smf.WLS(y, X, weights = psweights)    # Describe model\n",
    "res = mod.fit(cov_type = 'cluster',  cov_kwds={'groups': pd.DataFrame(cluster)})       # Fit model\n",
    "print(res.summary())   # Summarize model"
   ]
  },
  {
   "cell_type": "markdown",
   "metadata": {},
   "source": [
    "# Weights and pretest"
   ]
  },
  {
   "cell_type": "code",
   "execution_count": 4,
   "metadata": {},
   "outputs": [
    {
     "name": "stdout",
     "output_type": "stream",
     "text": [
      "                            WLS Regression Results                            \n",
      "==============================================================================\n",
      "Dep. Variable:              avescores   R-squared:                       0.840\n",
      "Model:                            WLS   Adj. R-squared:                  0.840\n",
      "Method:                 Least Squares   F-statistic:                     784.5\n",
      "Date:                Sat, 16 Mar 2019   Prob (F-statistic):               0.00\n",
      "Time:                        08:58:57   Log-Likelihood:                -1687.8\n",
      "No. Observations:                6302   AIC:                             3392.\n",
      "Df Residuals:                    6294   BIC:                             3446.\n",
      "Df Model:                           7                                         \n",
      "Covariance Type:              cluster                                         \n",
      "=====================================================================================\n",
      "                        coef    std err          z      P>|z|      [0.025      0.975]\n",
      "-------------------------------------------------------------------------------------\n",
      "Intercept             0.1248      0.014      8.876      0.000       0.097       0.152\n",
      "treat                 0.0962      0.025      3.808      0.000       0.047       0.146\n",
      "doi_year_centered     0.1010      0.009     11.400      0.000       0.084       0.118\n",
      "treatyear            -0.0141      0.011     -1.260      0.208      -0.036       0.008\n",
      "yearpost             -0.0301      0.016     -1.941      0.052      -0.060       0.000\n",
      "treatpostyear         0.0855      0.029      2.929      0.003       0.028       0.143\n",
      "treatpostyear2       -0.0908      0.018     -5.156      0.000      -0.125      -0.056\n",
      "scores15              0.9302      0.016     58.772      0.000       0.899       0.961\n",
      "==============================================================================\n",
      "Omnibus:                     1829.595   Durbin-Watson:                   1.030\n",
      "Prob(Omnibus):                  0.000   Jarque-Bera (JB):           258475.369\n",
      "Skew:                           0.024   Prob(JB):                         0.00\n",
      "Kurtosis:                      34.374   Cond. No.                         24.8\n",
      "==============================================================================\n",
      "\n",
      "Warnings:\n",
      "[1] Standard Errors are robust tocluster correlation (cluster)\n"
     ]
    }
   ],
   "source": [
    "y, X = dmatrices('avescores ~  treat + doi_year_centered + treatyear + yearpost + treatpostyear + treatpostyear2 + scores15',\n",
    "                 data=data, return_type='dataframe', NA_action = \"drop\")\n",
    "cluster = data[pd.notnull(data.avescores)].distname\n",
    "psweights = data[pd.notnull(data.avescores)].psweight\n",
    "mod = smf.WLS(y, X, weights = psweights)    # Describe model\n",
    "res = mod.fit(cov_type = 'cluster',  cov_kwds={'groups': pd.DataFrame(cluster)})       # Fit model\n",
    "print(res.summary())   # Summarize model"
   ]
  },
  {
   "cell_type": "code",
   "execution_count": null,
   "metadata": {
    "collapsed": true
   },
   "outputs": [],
   "source": []
  }
 ],
 "metadata": {
  "kernelspec": {
   "display_name": "Python [conda env:spacy]",
   "language": "python",
   "name": "conda-env-spacy-py"
  },
  "language_info": {
   "codemirror_mode": {
    "name": "ipython",
    "version": 3
   },
   "file_extension": ".py",
   "mimetype": "text/x-python",
   "name": "python",
   "nbconvert_exporter": "python",
   "pygments_lexer": "ipython3",
   "version": "3.7.0"
  }
 },
 "nbformat": 4,
 "nbformat_minor": 2
}
