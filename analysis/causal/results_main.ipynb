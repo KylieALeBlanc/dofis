{
 "cells": [
  {
   "cell_type": "code",
   "execution_count": 1,
   "metadata": {
    "collapsed": true
   },
   "outputs": [],
   "source": [
    "import os\n",
    "%matplotlib inline\n",
    "import matplotlib.mlab as mlab\n",
    "import matplotlib.pyplot as plt\n",
    "import pandas as pd\n",
    "import numpy as np\n",
    "import statsmodels.formula.api as smf\n",
    "from patsy import dmatrices\n",
    "from openpyxl import load_workbook\n",
    "\n",
    "data_path = '/Users/kylieleblancKylie/domino/dofis/data/'\n",
    "table_path = '/Users/kylieleblancKylie/domino/dofis/results/impact/'\n",
    "data = pd.read_csv(os.path.join(data_path, 'clean', 'cits_match.csv'),\n",
    "                  sep=\",\", low_memory=False)"
   ]
  },
  {
   "cell_type": "code",
   "execution_count": 2,
   "metadata": {
    "collapsed": true
   },
   "outputs": [],
   "source": [
    "def coef_with_stars(coef, pvalue):\n",
    "    if pvalue >.05:\n",
    "        coef = str(coef)\n",
    "    if pvalue <= .05:\n",
    "        coef = str(coef) + '*'\n",
    "    if pvalue <= .01:\n",
    "        coef = coef + '*'\n",
    "    if pvalue <= .001:\n",
    "        coef = coef + '*'\n",
    "    return(coef)\n",
    "test = coef_with_stars(.1, .005)"
   ]
  },
  {
   "cell_type": "markdown",
   "metadata": {},
   "source": [
    "# No Matching"
   ]
  },
  {
   "cell_type": "code",
   "execution_count": 3,
   "metadata": {},
   "outputs": [
    {
     "name": "stdout",
     "output_type": "stream",
     "text": [
      "                            OLS Regression Results                            \n",
      "==============================================================================\n",
      "Dep. Variable:              avescores   R-squared:                       0.077\n",
      "Model:                            OLS   Adj. R-squared:                  0.076\n",
      "Method:                 Least Squares   F-statistic:                     157.5\n",
      "Date:                Mon, 18 Mar 2019   Prob (F-statistic):          6.93e-118\n",
      "Time:                        09:55:16   Log-Likelihood:                -6507.1\n",
      "No. Observations:                6302   AIC:                         1.303e+04\n",
      "Df Residuals:                    6296   BIC:                         1.307e+04\n",
      "Df Model:                           5                                         \n",
      "Covariance Type:              cluster                                         \n",
      "==================================================================================\n",
      "                     coef    std err          z      P>|z|      [0.025      0.975]\n",
      "----------------------------------------------------------------------------------\n",
      "Intercept          0.1646      0.048      3.422      0.001       0.070       0.259\n",
      "treat              0.2278      0.085      2.685      0.007       0.062       0.394\n",
      "year_centered      0.1070      0.006     19.155      0.000       0.096       0.118\n",
      "treatyear         -0.0205      0.009     -2.332      0.020      -0.038      -0.003\n",
      "yearpost1         -0.1188      0.015     -7.930      0.000      -0.148      -0.089\n",
      "treatpostyear1    -0.0027      0.014     -0.188      0.851      -0.031       0.026\n",
      "==============================================================================\n",
      "Omnibus:                      525.200   Durbin-Watson:                   0.324\n",
      "Prob(Omnibus):                  0.000   Jarque-Bera (JB):              718.324\n",
      "Skew:                           0.696   Prob(JB):                    1.04e-156\n",
      "Kurtosis:                       3.892   Cond. No.                         27.6\n",
      "==============================================================================\n",
      "\n",
      "Warnings:\n",
      "[1] Standard Errors are robust tocluster correlation (cluster)\n"
     ]
    },
    {
     "data": {
      "text/plain": [
       "['0.23**',\n",
       " '(0.08)',\n",
       " '0.11***',\n",
       " '(0.01)',\n",
       " '-0.02*',\n",
       " '(0.01)',\n",
       " '-0.12***',\n",
       " '(0.01)',\n",
       " '-0.0',\n",
       " '(0.01)',\n",
       " '',\n",
       " '',\n",
       " 0.08]"
      ]
     },
     "execution_count": 3,
     "metadata": {},
     "output_type": "execute_result"
    }
   ],
   "source": [
    "y, X = dmatrices('avescores ~  treat + year_centered + treatyear + yearpost1 + treatpostyear1',\n",
    "                 data=data, return_type='dataframe', NA_action = \"drop\")\n",
    "cluster = data[pd.notnull(data.avescores)].distname\n",
    "mod = smf.OLS(y, X)    # Describe model\n",
    "res = mod.fit(cov_type = 'cluster',  cov_kwds={'groups': pd.DataFrame(cluster)})       # Fit model\n",
    "print(res.summary())   # Summarize model\n",
    "row_1 = []\n",
    "for coef in ['treat', 'year_centered', 'treatyear', 'yearpost1', 'treatpostyear1']:\n",
    "    row_1.append(coef_with_stars(res.params[coef].round(2), res.pvalues[coef]))\n",
    "    row_1.append('(' + str(res.bse[coef].round(2)) + ')')\n",
    "row_1.append('')\n",
    "row_1.append('')\n",
    "row_1.append(res.rsquared_adj.round(2))\n",
    "row_1"
   ]
  },
  {
   "cell_type": "markdown",
   "metadata": {},
   "source": [
    "# Matching without pre-tests\n"
   ]
  },
  {
   "cell_type": "code",
   "execution_count": 5,
   "metadata": {},
   "outputs": [
    {
     "name": "stdout",
     "output_type": "stream",
     "text": [
      "                            WLS Regression Results                            \n",
      "==============================================================================\n",
      "Dep. Variable:              avescores   R-squared:                       0.063\n",
      "Model:                            WLS   Adj. R-squared:                  0.062\n",
      "Method:                 Least Squares   F-statistic:                     128.5\n",
      "Date:                Mon, 18 Mar 2019   Prob (F-statistic):          5.82e-101\n",
      "Time:                        09:55:30   Log-Likelihood:                -7255.9\n",
      "No. Observations:                6302   AIC:                         1.452e+04\n",
      "Df Residuals:                    6296   BIC:                         1.456e+04\n",
      "Df Model:                           5                                         \n",
      "Covariance Type:              cluster                                         \n",
      "==================================================================================\n",
      "                     coef    std err          z      P>|z|      [0.025      0.975]\n",
      "----------------------------------------------------------------------------------\n",
      "Intercept          0.2787      0.054      5.129      0.000       0.172       0.385\n",
      "treat              0.0856      0.088      0.969      0.332      -0.087       0.259\n",
      "year_centered      0.0953      0.007     13.784      0.000       0.082       0.109\n",
      "treatyear         -0.0088      0.010     -0.898      0.369      -0.028       0.010\n",
      "yearpost1         -0.1309      0.021     -6.116      0.000      -0.173      -0.089\n",
      "treatpostyear1     0.0024      0.015      0.162      0.871      -0.027       0.031\n",
      "==============================================================================\n",
      "Omnibus:                     1731.564   Durbin-Watson:                   0.346\n",
      "Prob(Omnibus):                  0.000   Jarque-Bera (JB):            12662.376\n",
      "Skew:                           1.117   Prob(JB):                         0.00\n",
      "Kurtosis:                       9.575   Cond. No.                         18.0\n",
      "==============================================================================\n",
      "\n",
      "Warnings:\n",
      "[1] Standard Errors are robust tocluster correlation (cluster)\n"
     ]
    },
    {
     "data": {
      "text/plain": [
       "['0.09',\n",
       " '(0.09)',\n",
       " '0.1***',\n",
       " '(0.01)',\n",
       " '-0.01',\n",
       " '(0.01)',\n",
       " '-0.13***',\n",
       " '(0.02)',\n",
       " '0.0',\n",
       " '(0.01)',\n",
       " 'X',\n",
       " '',\n",
       " 0.06]"
      ]
     },
     "execution_count": 5,
     "metadata": {},
     "output_type": "execute_result"
    }
   ],
   "source": [
    "y, X = dmatrices('avescores ~  treat + year_centered + treatyear + yearpost1 + treatpostyear1',\n",
    "                 data=data, return_type='dataframe', NA_action = \"drop\")\n",
    "cluster = data[pd.notnull(data.avescores)].distname\n",
    "psweights = data[pd.notnull(data.avescores)].psweight1\n",
    "mod = smf.WLS(y, X, weights = psweights)    # Describe model\n",
    "res = mod.fit(cov_type = 'cluster',  cov_kwds={'groups': pd.DataFrame(cluster)})       # Fit model\n",
    "print(res.summary())   # Summarize model\n",
    "row_2 = []\n",
    "for coef in ['treat', 'year_centered', 'treatyear', 'yearpost1', 'treatpostyear1']:\n",
    "    row_2.append(coef_with_stars(res.params[coef].round(2), res.pvalues[coef]))\n",
    "    row_2.append('(' + str(res.bse[coef].round(2)) + ')')\n",
    "row_2.append('X')\n",
    "row_2.append('')\n",
    "row_2.append(res.rsquared_adj.round(2))\n",
    "row_2"
   ]
  },
  {
   "cell_type": "markdown",
   "metadata": {},
   "source": [
    "# Matching with Pre-tests"
   ]
  },
  {
   "cell_type": "code",
   "execution_count": 9,
   "metadata": {},
   "outputs": [
    {
     "name": "stdout",
     "output_type": "stream",
     "text": [
      "                            WLS Regression Results                            \n",
      "==============================================================================\n",
      "Dep. Variable:              avescores   R-squared:                       0.872\n",
      "Model:                            WLS   Adj. R-squared:                  0.872\n",
      "Method:                 Least Squares   F-statistic:                     2214.\n",
      "Date:                Mon, 18 Mar 2019   Prob (F-statistic):               0.00\n",
      "Time:                        10:00:10   Log-Likelihood:                -1121.6\n",
      "No. Observations:                6293   AIC:                             2263.\n",
      "Df Residuals:                    6283   BIC:                             2331.\n",
      "Df Model:                           9                                         \n",
      "Covariance Type:              cluster                                         \n",
      "==================================================================================\n",
      "                     coef    std err          z      P>|z|      [0.025      0.975]\n",
      "----------------------------------------------------------------------------------\n",
      "Intercept          0.1696      0.030      5.728      0.000       0.112       0.228\n",
      "treat              0.0876      0.027      3.258      0.001       0.035       0.140\n",
      "year_centered      0.0898      0.009      9.470      0.000       0.071       0.108\n",
      "treatyear         -0.0039      0.011     -0.344      0.731      -0.026       0.018\n",
      "yearpost1         -0.1345      0.033     -4.136      0.000      -0.198      -0.071\n",
      "treatpostyear1     0.0049      0.016      0.312      0.755      -0.026       0.036\n",
      "scores12           0.1136      0.057      1.997      0.046       0.002       0.225\n",
      "scores13           0.1130      0.033      3.388      0.001       0.048       0.178\n",
      "scores14           0.2298      0.046      5.015      0.000       0.140       0.320\n",
      "scores15           0.5356      0.075      7.119      0.000       0.388       0.683\n",
      "==============================================================================\n",
      "Omnibus:                     6133.935   Durbin-Watson:                   1.070\n",
      "Prob(Omnibus):                  0.000   Jarque-Bera (JB):          2831110.504\n",
      "Skew:                          -3.933   Prob(JB):                         0.00\n",
      "Kurtosis:                     106.611   Cond. No.                         26.9\n",
      "==============================================================================\n",
      "\n",
      "Warnings:\n",
      "[1] Standard Errors are robust tocluster correlation (cluster)\n"
     ]
    },
    {
     "data": {
      "text/plain": [
       "['0.09**',\n",
       " '(0.03)',\n",
       " '0.09***',\n",
       " '(0.01)',\n",
       " '-0.0',\n",
       " '(0.01)',\n",
       " '-0.13***',\n",
       " '(0.03)',\n",
       " '0.0',\n",
       " '(0.02)',\n",
       " 'X',\n",
       " 'X',\n",
       " 0.87]"
      ]
     },
     "execution_count": 9,
     "metadata": {},
     "output_type": "execute_result"
    }
   ],
   "source": [
    "data = data.dropna(subset = ['avescores', 'psweight2', 'scores15', 'scores14', 'scores13', 'scores12'], how = 'any')\n",
    "y, X = dmatrices('avescores ~  treat + year_centered + treatyear + yearpost1 + treatpostyear1 + scores12 + scores13 + scores14 + scores15',\n",
    "                 data=data, return_type='dataframe', NA_action = \"drop\")\n",
    "cluster = data[pd.notnull(data.scores14)].distname\n",
    "psweights = data[pd.notnull(data.scores14)].psweight2\n",
    "mod = smf.WLS(y, X, weights = psweights)    # Describe model\n",
    "res = mod.fit(cov_type = 'cluster',  cov_kwds={'groups': pd.DataFrame(cluster)})       # Fit model\n",
    "print(res.summary())   # Summarize model\n",
    "row_3 = []\n",
    "for coef in ['treat', 'year_centered', 'treatyear', 'yearpost1', 'treatpostyear1']:\n",
    "    row_3.append(coef_with_stars(res.params[coef].round(2), res.pvalues[coef]))\n",
    "    row_3.append('(' + str(res.bse[coef].round(2)) + ')')\n",
    "row_3.append('X')\n",
    "row_3.append('X')\n",
    "row_3.append(res.rsquared_adj.round(2))\n",
    "row_3"
   ]
  },
  {
   "cell_type": "code",
   "execution_count": 10,
   "metadata": {},
   "outputs": [
    {
     "data": {
      "text/html": [
       "<div>\n",
       "<style scoped>\n",
       "    .dataframe tbody tr th:only-of-type {\n",
       "        vertical-align: middle;\n",
       "    }\n",
       "\n",
       "    .dataframe tbody tr th {\n",
       "        vertical-align: top;\n",
       "    }\n",
       "\n",
       "    .dataframe thead th {\n",
       "        text-align: right;\n",
       "    }\n",
       "</style>\n",
       "<table border=\"1\" class=\"dataframe\">\n",
       "  <thead>\n",
       "    <tr style=\"text-align: right;\">\n",
       "      <th></th>\n",
       "      <th>Model 1</th>\n",
       "      <th>Model 2</th>\n",
       "      <th>Model 3</th>\n",
       "    </tr>\n",
       "  </thead>\n",
       "  <tbody>\n",
       "    <tr>\n",
       "      <th>0</th>\n",
       "      <td>0.23**</td>\n",
       "      <td>0.09</td>\n",
       "      <td>0.09**</td>\n",
       "    </tr>\n",
       "    <tr>\n",
       "      <th>1</th>\n",
       "      <td>(0.08)</td>\n",
       "      <td>(0.09)</td>\n",
       "      <td>(0.03)</td>\n",
       "    </tr>\n",
       "    <tr>\n",
       "      <th>2</th>\n",
       "      <td>0.11***</td>\n",
       "      <td>0.1***</td>\n",
       "      <td>0.09***</td>\n",
       "    </tr>\n",
       "    <tr>\n",
       "      <th>3</th>\n",
       "      <td>(0.01)</td>\n",
       "      <td>(0.01)</td>\n",
       "      <td>(0.01)</td>\n",
       "    </tr>\n",
       "    <tr>\n",
       "      <th>4</th>\n",
       "      <td>-0.02*</td>\n",
       "      <td>-0.01</td>\n",
       "      <td>-0.0</td>\n",
       "    </tr>\n",
       "    <tr>\n",
       "      <th>5</th>\n",
       "      <td>(0.01)</td>\n",
       "      <td>(0.01)</td>\n",
       "      <td>(0.01)</td>\n",
       "    </tr>\n",
       "    <tr>\n",
       "      <th>6</th>\n",
       "      <td>-0.12***</td>\n",
       "      <td>-0.13***</td>\n",
       "      <td>-0.13***</td>\n",
       "    </tr>\n",
       "    <tr>\n",
       "      <th>7</th>\n",
       "      <td>(0.01)</td>\n",
       "      <td>(0.02)</td>\n",
       "      <td>(0.03)</td>\n",
       "    </tr>\n",
       "    <tr>\n",
       "      <th>8</th>\n",
       "      <td>-0.0</td>\n",
       "      <td>0.0</td>\n",
       "      <td>0.0</td>\n",
       "    </tr>\n",
       "    <tr>\n",
       "      <th>9</th>\n",
       "      <td>(0.01)</td>\n",
       "      <td>(0.01)</td>\n",
       "      <td>(0.02)</td>\n",
       "    </tr>\n",
       "    <tr>\n",
       "      <th>10</th>\n",
       "      <td></td>\n",
       "      <td>X</td>\n",
       "      <td>X</td>\n",
       "    </tr>\n",
       "    <tr>\n",
       "      <th>11</th>\n",
       "      <td></td>\n",
       "      <td></td>\n",
       "      <td>X</td>\n",
       "    </tr>\n",
       "    <tr>\n",
       "      <th>12</th>\n",
       "      <td>0.08</td>\n",
       "      <td>0.06</td>\n",
       "      <td>0.87</td>\n",
       "    </tr>\n",
       "  </tbody>\n",
       "</table>\n",
       "</div>"
      ],
      "text/plain": [
       "     Model 1   Model 2   Model 3\n",
       "0     0.23**      0.09    0.09**\n",
       "1     (0.08)    (0.09)    (0.03)\n",
       "2    0.11***    0.1***   0.09***\n",
       "3     (0.01)    (0.01)    (0.01)\n",
       "4     -0.02*     -0.01      -0.0\n",
       "5     (0.01)    (0.01)    (0.01)\n",
       "6   -0.12***  -0.13***  -0.13***\n",
       "7     (0.01)    (0.02)    (0.03)\n",
       "8       -0.0       0.0       0.0\n",
       "9     (0.01)    (0.01)    (0.02)\n",
       "10                   X         X\n",
       "11                             X\n",
       "12      0.08      0.06      0.87"
      ]
     },
     "execution_count": 10,
     "metadata": {},
     "output_type": "execute_result"
    }
   ],
   "source": [
    "df = pd.DataFrame(\n",
    "    {'Model 1': row_1,\n",
    "    'Model 2': row_2,\n",
    "    'Model 3': row_3})\n",
    "df"
   ]
  },
  {
   "cell_type": "code",
   "execution_count": 11,
   "metadata": {
    "collapsed": true
   },
   "outputs": [],
   "source": [
    "file = table_path + 'results_main.xlsx'\n",
    "wb = load_workbook(file)\n",
    "ws = wb.active\n",
    "df\n",
    "for model, col in zip(['Model 1', 'Model 2', 'Model 3'], [2,3,4]):\n",
    "    row_n = 3\n",
    "    for ob in df[model]:\n",
    "        ws.cell(row=row_n, column=col).value = ob\n",
    "        row_n = row_n + 1\n",
    "wb.save(file)"
   ]
  },
  {
   "cell_type": "code",
   "execution_count": null,
   "metadata": {
    "collapsed": true
   },
   "outputs": [],
   "source": []
  }
 ],
 "metadata": {
  "kernelspec": {
   "display_name": "Python [conda env:spacy]",
   "language": "python",
   "name": "conda-env-spacy-py"
  },
  "language_info": {
   "codemirror_mode": {
    "name": "ipython",
    "version": 3
   },
   "file_extension": ".py",
   "mimetype": "text/x-python",
   "name": "python",
   "nbconvert_exporter": "python",
   "pygments_lexer": "ipython3",
   "version": "3.7.0"
  }
 },
 "nbformat": 4,
 "nbformat_minor": 2
}
