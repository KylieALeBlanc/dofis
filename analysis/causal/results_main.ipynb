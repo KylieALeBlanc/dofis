{
 "cells": [
  {
   "cell_type": "code",
   "execution_count": 11,
   "metadata": {
    "collapsed": true
   },
   "outputs": [],
   "source": [
    "import os\n",
    "%matplotlib inline\n",
    "import matplotlib.mlab as mlab\n",
    "import matplotlib.pyplot as plt\n",
    "import pandas as pd\n",
    "import numpy as np\n",
    "import statsmodels.formula.api as smf\n",
    "from patsy import dmatrices\n",
    "data_path = '/Users/kylieleblancKylie/domino/dofis/data/'\n",
    "table_path = '/Users/kylieleblancKylie/domino/dofis/results/descriptive/'\n",
    "data = pd.read_csv(os.path.join(data_path, 'clean', 'cits_match.csv'),\n",
    "                  sep=\",\", low_memory=False)"
   ]
  },
  {
   "cell_type": "markdown",
   "metadata": {},
   "source": [
    "# No Matching"
   ]
  },
  {
   "cell_type": "code",
   "execution_count": 66,
   "metadata": {},
   "outputs": [
    {
     "name": "stdout",
     "output_type": "stream",
     "text": [
      "                            OLS Regression Results                            \n",
      "==============================================================================\n",
      "Dep. Variable:              avescores   R-squared:                       0.077\n",
      "Model:                            OLS   Adj. R-squared:                  0.076\n",
      "Method:                 Least Squares   F-statistic:                     69.07\n",
      "Date:                Thu, 14 Mar 2019   Prob (F-statistic):           5.83e-87\n",
      "Time:                        21:33:14   Log-Likelihood:                -6506.5\n",
      "No. Observations:                6302   AIC:                         1.303e+04\n",
      "Df Residuals:                    6293   BIC:                         1.309e+04\n",
      "Df Model:                           8                                         \n",
      "Covariance Type:              cluster                                         \n",
      "=====================================================================================\n",
      "                        coef    std err          z      P>|z|      [0.025      0.975]\n",
      "-------------------------------------------------------------------------------------\n",
      "Intercept             0.1348      0.052      2.580      0.010       0.032       0.237\n",
      "treat                 0.2786      0.092      3.038      0.002       0.099       0.458\n",
      "post                  0.0512      0.023      2.208      0.027       0.006       0.097\n",
      "doi_year_centered     0.0979      0.008     12.400      0.000       0.082       0.113\n",
      "yearpost             -0.0184      0.013     -1.374      0.169      -0.045       0.008\n",
      "treatyear            -0.0060      0.011     -0.528      0.598      -0.028       0.016\n",
      "treatpost            -0.0930      0.028     -3.361      0.001      -0.147      -0.039\n",
      "treatpostyear         0.0899      0.052      1.720      0.085      -0.013       0.192\n",
      "treatpostyear2       -0.0718      0.035     -2.065      0.039      -0.140      -0.004\n",
      "==============================================================================\n",
      "Omnibus:                      521.932   Durbin-Watson:                   0.323\n",
      "Prob(Omnibus):                  0.000   Jarque-Bera (JB):              711.871\n",
      "Skew:                           0.695   Prob(JB):                    2.63e-155\n",
      "Kurtosis:                       3.884   Cond. No.                         60.7\n",
      "==============================================================================\n",
      "\n",
      "Warnings:\n",
      "[1] Standard Errors are robust tocluster correlation (cluster)\n"
     ]
    }
   ],
   "source": [
    "y, X = dmatrices('avescores ~  treat + post + doi_year_centered + yearpost + treatyear + treatpost + treatpostyear + treatpostyear2',\n",
    "                 data=data, return_type='dataframe', NA_action = \"drop\")\n",
    "cluster = data[pd.notnull(data.avescores)].distname\n",
    "mod = smf.OLS(y, X)    # Describe model\n",
    "res = mod.fit(cov_type = 'cluster',  cov_kwds={'groups': pd.DataFrame(cluster)})       # Fit model\n",
    "print(res.summary())   # Summarize model"
   ]
  },
  {
   "cell_type": "markdown",
   "metadata": {},
   "source": [
    "# Matching\n"
   ]
  },
  {
   "cell_type": "code",
   "execution_count": 67,
   "metadata": {},
   "outputs": [
    {
     "name": "stdout",
     "output_type": "stream",
     "text": [
      "                            WLS Regression Results                            \n",
      "==============================================================================\n",
      "Dep. Variable:              avescores   R-squared:                       0.061\n",
      "Model:                            WLS   Adj. R-squared:                  0.060\n",
      "Method:                 Least Squares   F-statistic:                     64.59\n",
      "Date:                Thu, 14 Mar 2019   Prob (F-statistic):           2.91e-82\n",
      "Time:                        21:33:18   Log-Likelihood:                -7285.1\n",
      "No. Observations:                6302   AIC:                         1.459e+04\n",
      "Df Residuals:                    6293   BIC:                         1.465e+04\n",
      "Df Model:                           8                                         \n",
      "Covariance Type:              cluster                                         \n",
      "=====================================================================================\n",
      "                        coef    std err          z      P>|z|      [0.025      0.975]\n",
      "-------------------------------------------------------------------------------------\n",
      "Intercept             0.3168      0.060      5.243      0.000       0.198       0.435\n",
      "treat                 0.0966      0.097      1.000      0.317      -0.093       0.286\n",
      "post                  0.0179      0.024      0.751      0.452      -0.029       0.065\n",
      "doi_year_centered     0.0959      0.010      9.984      0.000       0.077       0.115\n",
      "yearpost             -0.0327      0.017     -1.969      0.049      -0.065      -0.000\n",
      "treatyear            -0.0040      0.013     -0.316      0.752      -0.029       0.021\n",
      "treatpost            -0.0557      0.029     -1.944      0.052      -0.112       0.000\n",
      "treatpostyear         0.1298      0.044      2.972      0.003       0.044       0.215\n",
      "treatpostyear2       -0.1109      0.023     -4.859      0.000      -0.156      -0.066\n",
      "==============================================================================\n",
      "Omnibus:                     2019.194   Durbin-Watson:                   0.339\n",
      "Prob(Omnibus):                  0.000   Jarque-Bera (JB):            18882.802\n",
      "Skew:                           1.260   Prob(JB):                         0.00\n",
      "Kurtosis:                      11.097   Cond. No.                         36.3\n",
      "==============================================================================\n",
      "\n",
      "Warnings:\n",
      "[1] Standard Errors are robust tocluster correlation (cluster)\n"
     ]
    }
   ],
   "source": [
    "y, X = dmatrices('avescores ~  treat + post + doi_year_centered + yearpost + treatyear + treatpost + treatpostyear + treatpostyear2',\n",
    "                 data=data, return_type='dataframe', NA_action = \"drop\")\n",
    "cluster = data[pd.notnull(data.avescores)].distname\n",
    "psweights = data[pd.notnull(data.avescores)].psweight\n",
    "mod = smf.WLS(y, X, weights = psweights)    # Describe model\n",
    "res = mod.fit(cov_type = 'cluster',  cov_kwds={'groups': pd.DataFrame(cluster)})       # Fit model\n",
    "print(res.summary())   # Summarize model"
   ]
  },
  {
   "cell_type": "markdown",
   "metadata": {},
   "source": [
    "# Weights and pretest"
   ]
  },
  {
   "cell_type": "code",
   "execution_count": 68,
   "metadata": {},
   "outputs": [
    {
     "name": "stdout",
     "output_type": "stream",
     "text": [
      "                            WLS Regression Results                            \n",
      "==============================================================================\n",
      "Dep. Variable:              avescores   R-squared:                       0.845\n",
      "Model:                            WLS   Adj. R-squared:                  0.845\n",
      "Method:                 Least Squares   F-statistic:                     733.8\n",
      "Date:                Thu, 14 Mar 2019   Prob (F-statistic):               0.00\n",
      "Time:                        21:33:44   Log-Likelihood:                -1609.4\n",
      "No. Observations:                6302   AIC:                             3239.\n",
      "Df Residuals:                    6292   BIC:                             3306.\n",
      "Df Model:                           9                                         \n",
      "Covariance Type:              cluster                                         \n",
      "=====================================================================================\n",
      "                        coef    std err          z      P>|z|      [0.025      0.975]\n",
      "-------------------------------------------------------------------------------------\n",
      "Intercept             0.1107      0.013      8.344      0.000       0.085       0.137\n",
      "treat                 0.1197      0.023      5.257      0.000       0.075       0.164\n",
      "post                  0.0126      0.023      0.540      0.589      -0.033       0.058\n",
      "doi_year_centered     0.0959      0.010      9.985      0.000       0.077       0.115\n",
      "yearpost             -0.0328      0.017     -1.973      0.049      -0.065      -0.000\n",
      "treatyear            -0.0052      0.012     -0.445      0.657      -0.028       0.018\n",
      "treatpost            -0.0416      0.026     -1.573      0.116      -0.093       0.010\n",
      "treatpostyear         0.0977      0.029      3.359      0.001       0.041       0.155\n",
      "treatpostyear2       -0.0950      0.018     -5.250      0.000      -0.131      -0.060\n",
      "scores15              0.9385      0.013     70.101      0.000       0.912       0.965\n",
      "==============================================================================\n",
      "Omnibus:                     2424.878   Durbin-Watson:                   1.010\n",
      "Prob(Omnibus):                  0.000   Jarque-Bera (JB):           166735.116\n",
      "Skew:                          -0.988   Prob(JB):                         0.00\n",
      "Kurtosis:                      28.121   Cond. No.                         36.3\n",
      "==============================================================================\n",
      "\n",
      "Warnings:\n",
      "[1] Standard Errors are robust tocluster correlation (cluster)\n"
     ]
    }
   ],
   "source": [
    "y, X = dmatrices('avescores ~  treat + post + doi_year_centered + yearpost + treatyear + treatpost + treatpostyear + treatpostyear2 + scores15',\n",
    "                 data=data, return_type='dataframe', NA_action = \"drop\")\n",
    "cluster = data[pd.notnull(data.avescores)].distname\n",
    "psweights = data[pd.notnull(data.avescores)].psweight\n",
    "mod = smf.WLS(y, X, weights = psweights)    # Describe model\n",
    "res = mod.fit(cov_type = 'cluster',  cov_kwds={'groups': pd.DataFrame(cluster)})       # Fit model\n",
    "print(res.summary())   # Summarize model"
   ]
  }
 ],
 "metadata": {
  "kernelspec": {
   "display_name": "Python [conda env:spacy]",
   "language": "python",
   "name": "conda-env-spacy-py"
  },
  "language_info": {
   "codemirror_mode": {
    "name": "ipython",
    "version": 3
   },
   "file_extension": ".py",
   "mimetype": "text/x-python",
   "name": "python",
   "nbconvert_exporter": "python",
   "pygments_lexer": "ipython3",
   "version": "3.7.0"
  }
 },
 "nbformat": 4,
 "nbformat_minor": 2
}
