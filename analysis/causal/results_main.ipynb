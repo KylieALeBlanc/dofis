{
 "cells": [
  {
   "cell_type": "code",
   "execution_count": 53,
   "metadata": {},
   "outputs": [],
   "source": [
    "import sys\n",
    "sys.path.append(\"../\")\n",
    "\n",
    "\n",
    "import os\n",
    "%matplotlib inline\n",
    "import matplotlib.mlab as mlab\n",
    "import matplotlib.pyplot as plt\n",
    "import pandas as pd\n",
    "import numpy as np\n",
    "import statsmodels.formula.api as smf\n",
    "from patsy import dmatrices\n",
    "from openpyxl import load_workbook\n",
    "import engarde.decorators as ed\n",
    "\n",
    "from library import test\n",
    "\n",
    "@ed.verify(test.onlyeligible)\n",
    "def load(data):\n",
    "    return data"
   ]
  },
  {
   "cell_type": "code",
   "execution_count": 54,
   "metadata": {},
   "outputs": [
    {
     "data": {
      "text/html": [
       "<div>\n",
       "<style scoped>\n",
       "    .dataframe tbody tr th:only-of-type {\n",
       "        vertical-align: middle;\n",
       "    }\n",
       "\n",
       "    .dataframe tbody tr th {\n",
       "        vertical-align: top;\n",
       "    }\n",
       "\n",
       "    .dataframe thead th {\n",
       "        text-align: right;\n",
       "    }\n",
       "</style>\n",
       "<table border=\"1\" class=\"dataframe\">\n",
       "  <thead>\n",
       "    <tr style=\"text-align: right;\">\n",
       "      <th></th>\n",
       "      <th>Unnamed: 0</th>\n",
       "      <th>Unnamed: 0.1</th>\n",
       "      <th>district</th>\n",
       "      <th>distname</th>\n",
       "      <th>year</th>\n",
       "      <th>cntyname</th>\n",
       "      <th>distischarter</th>\n",
       "      <th>rating_academic</th>\n",
       "      <th>rating_financial</th>\n",
       "      <th>eligible</th>\n",
       "      <th>...</th>\n",
       "      <th>scores12</th>\n",
       "      <th>scores13</th>\n",
       "      <th>scores14</th>\n",
       "      <th>scores15</th>\n",
       "      <th>ps1</th>\n",
       "      <th>psweight1</th>\n",
       "      <th>pswtshare1</th>\n",
       "      <th>ps2</th>\n",
       "      <th>psweight2</th>\n",
       "      <th>pswtshare2</th>\n",
       "    </tr>\n",
       "  </thead>\n",
       "  <tbody>\n",
       "    <tr>\n",
       "      <th>0</th>\n",
       "      <td>0</td>\n",
       "      <td>0</td>\n",
       "      <td>1902</td>\n",
       "      <td>CAYUGA ISD</td>\n",
       "      <td>2012</td>\n",
       "      <td>ANDERSON</td>\n",
       "      <td>N</td>\n",
       "      <td>NaN</td>\n",
       "      <td>NaN</td>\n",
       "      <td>NaN</td>\n",
       "      <td>...</td>\n",
       "      <td>0.377578</td>\n",
       "      <td>0.68824</td>\n",
       "      <td>0.698838</td>\n",
       "      <td>0.767644</td>\n",
       "      <td>0.909773</td>\n",
       "      <td>1.099175</td>\n",
       "      <td>0.119368</td>\n",
       "      <td>0.911242</td>\n",
       "      <td>1.097403</td>\n",
       "      <td>0.119636</td>\n",
       "    </tr>\n",
       "    <tr>\n",
       "      <th>1</th>\n",
       "      <td>1</td>\n",
       "      <td>1229</td>\n",
       "      <td>1902</td>\n",
       "      <td>CAYUGA ISD</td>\n",
       "      <td>2013</td>\n",
       "      <td>ANDERSON</td>\n",
       "      <td>N</td>\n",
       "      <td>M</td>\n",
       "      <td>NaN</td>\n",
       "      <td>NaN</td>\n",
       "      <td>...</td>\n",
       "      <td>0.377578</td>\n",
       "      <td>0.68824</td>\n",
       "      <td>0.698838</td>\n",
       "      <td>0.767644</td>\n",
       "      <td>0.909773</td>\n",
       "      <td>1.099175</td>\n",
       "      <td>0.119368</td>\n",
       "      <td>0.911242</td>\n",
       "      <td>1.097403</td>\n",
       "      <td>0.119636</td>\n",
       "    </tr>\n",
       "    <tr>\n",
       "      <th>2</th>\n",
       "      <td>2</td>\n",
       "      <td>2459</td>\n",
       "      <td>1902</td>\n",
       "      <td>CAYUGA ISD</td>\n",
       "      <td>2014</td>\n",
       "      <td>ANDERSON</td>\n",
       "      <td>N</td>\n",
       "      <td>M</td>\n",
       "      <td>NaN</td>\n",
       "      <td>NaN</td>\n",
       "      <td>...</td>\n",
       "      <td>0.377578</td>\n",
       "      <td>0.68824</td>\n",
       "      <td>0.698838</td>\n",
       "      <td>0.767644</td>\n",
       "      <td>0.909773</td>\n",
       "      <td>1.099175</td>\n",
       "      <td>0.119368</td>\n",
       "      <td>0.911242</td>\n",
       "      <td>1.097403</td>\n",
       "      <td>0.119636</td>\n",
       "    </tr>\n",
       "    <tr>\n",
       "      <th>3</th>\n",
       "      <td>3</td>\n",
       "      <td>3688</td>\n",
       "      <td>1902</td>\n",
       "      <td>CAYUGA ISD</td>\n",
       "      <td>2015</td>\n",
       "      <td>ANDERSON</td>\n",
       "      <td>N</td>\n",
       "      <td>M</td>\n",
       "      <td>Pass</td>\n",
       "      <td>True</td>\n",
       "      <td>...</td>\n",
       "      <td>0.377578</td>\n",
       "      <td>0.68824</td>\n",
       "      <td>0.698838</td>\n",
       "      <td>0.767644</td>\n",
       "      <td>0.909773</td>\n",
       "      <td>1.099175</td>\n",
       "      <td>0.119368</td>\n",
       "      <td>0.911242</td>\n",
       "      <td>1.097403</td>\n",
       "      <td>0.119636</td>\n",
       "    </tr>\n",
       "    <tr>\n",
       "      <th>4</th>\n",
       "      <td>4</td>\n",
       "      <td>4909</td>\n",
       "      <td>1902</td>\n",
       "      <td>CAYUGA ISD</td>\n",
       "      <td>2016</td>\n",
       "      <td>ANDERSON</td>\n",
       "      <td>N</td>\n",
       "      <td>M</td>\n",
       "      <td>Pass</td>\n",
       "      <td>True</td>\n",
       "      <td>...</td>\n",
       "      <td>0.377578</td>\n",
       "      <td>0.68824</td>\n",
       "      <td>0.698838</td>\n",
       "      <td>0.767644</td>\n",
       "      <td>0.909773</td>\n",
       "      <td>1.099175</td>\n",
       "      <td>0.119368</td>\n",
       "      <td>0.911242</td>\n",
       "      <td>1.097403</td>\n",
       "      <td>0.119636</td>\n",
       "    </tr>\n",
       "  </tbody>\n",
       "</table>\n",
       "<p>5 rows × 146 columns</p>\n",
       "</div>"
      ],
      "text/plain": [
       "   Unnamed: 0  Unnamed: 0.1  district    distname  year  cntyname  \\\n",
       "0           0             0      1902  CAYUGA ISD  2012  ANDERSON   \n",
       "1           1          1229      1902  CAYUGA ISD  2013  ANDERSON   \n",
       "2           2          2459      1902  CAYUGA ISD  2014  ANDERSON   \n",
       "3           3          3688      1902  CAYUGA ISD  2015  ANDERSON   \n",
       "4           4          4909      1902  CAYUGA ISD  2016  ANDERSON   \n",
       "\n",
       "  distischarter rating_academic rating_financial eligible     ...      \\\n",
       "0             N             NaN              NaN      NaN     ...       \n",
       "1             N               M              NaN      NaN     ...       \n",
       "2             N               M              NaN      NaN     ...       \n",
       "3             N               M             Pass     True     ...       \n",
       "4             N               M             Pass     True     ...       \n",
       "\n",
       "   scores12 scores13  scores14  scores15       ps1  psweight1  pswtshare1  \\\n",
       "0  0.377578  0.68824  0.698838  0.767644  0.909773   1.099175    0.119368   \n",
       "1  0.377578  0.68824  0.698838  0.767644  0.909773   1.099175    0.119368   \n",
       "2  0.377578  0.68824  0.698838  0.767644  0.909773   1.099175    0.119368   \n",
       "3  0.377578  0.68824  0.698838  0.767644  0.909773   1.099175    0.119368   \n",
       "4  0.377578  0.68824  0.698838  0.767644  0.909773   1.099175    0.119368   \n",
       "\n",
       "        ps2  psweight2  pswtshare2  \n",
       "0  0.911242   1.097403    0.119636  \n",
       "1  0.911242   1.097403    0.119636  \n",
       "2  0.911242   1.097403    0.119636  \n",
       "3  0.911242   1.097403    0.119636  \n",
       "4  0.911242   1.097403    0.119636  \n",
       "\n",
       "[5 rows x 146 columns]"
      ]
     },
     "execution_count": 54,
     "metadata": {},
     "output_type": "execute_result"
    }
   ],
   "source": [
    "data_path = '/Users/kylieleblancKylie/domino/dofis/data/'\n",
    "table_path = '/Users/kylieleblancKylie/domino/dofis/results/impact/'\n",
    "data = pd.read_csv(os.path.join(data_path, 'clean', 'cits_match.csv'),\n",
    "                  sep=\",\", low_memory=False)\n",
    "load(data)\n",
    "data.head()"
   ]
  },
  {
   "cell_type": "code",
   "execution_count": 55,
   "metadata": {
    "collapsed": true
   },
   "outputs": [],
   "source": [
    "def coef_with_stars(coef, pvalue):\n",
    "    if pvalue >.05:\n",
    "        coef = str(coef)\n",
    "    if pvalue <= .05:\n",
    "        coef = str(coef) + '*'\n",
    "    if pvalue <= .01:\n",
    "        coef = coef + '*'\n",
    "    if pvalue <= .001:\n",
    "        coef = coef + '*'\n",
    "    return(coef)\n",
    "test = coef_with_stars(.1, .005)"
   ]
  },
  {
   "cell_type": "code",
   "execution_count": 56,
   "metadata": {},
   "outputs": [
    {
     "data": {
      "text/plain": [
       "924"
      ]
     },
     "execution_count": 56,
     "metadata": {},
     "output_type": "execute_result"
    }
   ],
   "source": [
    "data.district.nunique()"
   ]
  },
  {
   "cell_type": "code",
   "execution_count": 57,
   "metadata": {},
   "outputs": [
    {
     "data": {
      "text/plain": [
       "923"
      ]
     },
     "execution_count": 57,
     "metadata": {},
     "output_type": "execute_result"
    }
   ],
   "source": [
    "data[pd.notnull(data.avescores)].district.nunique()"
   ]
  },
  {
   "cell_type": "code",
   "execution_count": 61,
   "metadata": {},
   "outputs": [
    {
     "data": {
      "text/plain": [
       "853"
      ]
     },
     "execution_count": 61,
     "metadata": {},
     "output_type": "execute_result"
    }
   ],
   "source": [
    "reg_vars = ['year_centered']\n",
    "test = data.dropna(subset = reg_vars)\n",
    "test.district.nunique()"
   ]
  },
  {
   "cell_type": "markdown",
   "metadata": {},
   "source": [
    "# No Matching"
   ]
  },
  {
   "cell_type": "code",
   "execution_count": 25,
   "metadata": {},
   "outputs": [
    {
     "ename": "ValueError",
     "evalue": "The weights and list don't have the same length.",
     "output_type": "error",
     "traceback": [
      "\u001b[0;31m---------------------------------------------------------------------------\u001b[0m",
      "\u001b[0;31mValueError\u001b[0m                                Traceback (most recent call last)",
      "\u001b[0;32m<ipython-input-25-1d85e175ad9d>\u001b[0m in \u001b[0;36m<module>\u001b[0;34m()\u001b[0m\n\u001b[1;32m      3\u001b[0m \u001b[0mcluster\u001b[0m \u001b[0;34m=\u001b[0m \u001b[0mdata\u001b[0m\u001b[0;34m[\u001b[0m\u001b[0mpd\u001b[0m\u001b[0;34m.\u001b[0m\u001b[0mnotnull\u001b[0m\u001b[0;34m(\u001b[0m\u001b[0mdata\u001b[0m\u001b[0;34m.\u001b[0m\u001b[0mavescores\u001b[0m\u001b[0;34m)\u001b[0m\u001b[0;34m]\u001b[0m\u001b[0;34m.\u001b[0m\u001b[0mdistrict\u001b[0m\u001b[0;34m\u001b[0m\u001b[0m\n\u001b[1;32m      4\u001b[0m \u001b[0mmod\u001b[0m \u001b[0;34m=\u001b[0m \u001b[0msmf\u001b[0m\u001b[0;34m.\u001b[0m\u001b[0mOLS\u001b[0m\u001b[0;34m(\u001b[0m\u001b[0my\u001b[0m\u001b[0;34m,\u001b[0m \u001b[0mX\u001b[0m\u001b[0;34m)\u001b[0m    \u001b[0;31m# Describe model\u001b[0m\u001b[0;34m\u001b[0m\u001b[0m\n\u001b[0;32m----> 5\u001b[0;31m \u001b[0mres\u001b[0m \u001b[0;34m=\u001b[0m \u001b[0mmod\u001b[0m\u001b[0;34m.\u001b[0m\u001b[0mfit\u001b[0m\u001b[0;34m(\u001b[0m\u001b[0mcov_type\u001b[0m \u001b[0;34m=\u001b[0m \u001b[0;34m'cluster'\u001b[0m\u001b[0;34m,\u001b[0m  \u001b[0mcov_kwds\u001b[0m\u001b[0;34m=\u001b[0m\u001b[0;34m{\u001b[0m\u001b[0;34m'groups'\u001b[0m\u001b[0;34m:\u001b[0m \u001b[0mpd\u001b[0m\u001b[0;34m.\u001b[0m\u001b[0mDataFrame\u001b[0m\u001b[0;34m(\u001b[0m\u001b[0mcluster\u001b[0m\u001b[0;34m)\u001b[0m\u001b[0;34m}\u001b[0m\u001b[0;34m)\u001b[0m       \u001b[0;31m# Fit model\u001b[0m\u001b[0;34m\u001b[0m\u001b[0m\n\u001b[0m\u001b[1;32m      6\u001b[0m \u001b[0mprint\u001b[0m\u001b[0;34m(\u001b[0m\u001b[0mres\u001b[0m\u001b[0;34m.\u001b[0m\u001b[0msummary\u001b[0m\u001b[0;34m(\u001b[0m\u001b[0;34m)\u001b[0m\u001b[0;34m)\u001b[0m   \u001b[0;31m# Summarize model\u001b[0m\u001b[0;34m\u001b[0m\u001b[0m\n\u001b[1;32m      7\u001b[0m \u001b[0mrow_1\u001b[0m \u001b[0;34m=\u001b[0m \u001b[0;34m[\u001b[0m\u001b[0;34m]\u001b[0m\u001b[0;34m\u001b[0m\u001b[0m\n",
      "\u001b[0;32m~/anaconda/envs/spacy/lib/python3.7/site-packages/statsmodels/regression/linear_model.py\u001b[0m in \u001b[0;36mfit\u001b[0;34m(self, method, cov_type, cov_kwds, use_t, **kwargs)\u001b[0m\n\u001b[1;32m    309\u001b[0m                 \u001b[0mself\u001b[0m\u001b[0;34m,\u001b[0m \u001b[0mbeta\u001b[0m\u001b[0;34m,\u001b[0m\u001b[0;34m\u001b[0m\u001b[0m\n\u001b[1;32m    310\u001b[0m                 \u001b[0mnormalized_cov_params\u001b[0m\u001b[0;34m=\u001b[0m\u001b[0mself\u001b[0m\u001b[0;34m.\u001b[0m\u001b[0mnormalized_cov_params\u001b[0m\u001b[0;34m,\u001b[0m\u001b[0;34m\u001b[0m\u001b[0m\n\u001b[0;32m--> 311\u001b[0;31m                 cov_type=cov_type, cov_kwds=cov_kwds, use_t=use_t)\n\u001b[0m\u001b[1;32m    312\u001b[0m         \u001b[0;32melse\u001b[0m\u001b[0;34m:\u001b[0m\u001b[0;34m\u001b[0m\u001b[0m\n\u001b[1;32m    313\u001b[0m             lfit = RegressionResults(\n",
      "\u001b[0;32m~/anaconda/envs/spacy/lib/python3.7/site-packages/statsmodels/regression/linear_model.py\u001b[0m in \u001b[0;36m__init__\u001b[0;34m(self, model, params, normalized_cov_params, scale, cov_type, cov_kwds, use_t, **kwargs)\u001b[0m\n\u001b[1;32m   1459\u001b[0m                 \u001b[0;31m# TODO: warn or not?\u001b[0m\u001b[0;34m\u001b[0m\u001b[0;34m\u001b[0m\u001b[0m\n\u001b[1;32m   1460\u001b[0m             self.get_robustcov_results(cov_type=cov_type, use_self=True,\n\u001b[0;32m-> 1461\u001b[0;31m                                        use_t=use_t, **cov_kwds)\n\u001b[0m\u001b[1;32m   1462\u001b[0m         \u001b[0;32mfor\u001b[0m \u001b[0mkey\u001b[0m \u001b[0;32min\u001b[0m \u001b[0mkwargs\u001b[0m\u001b[0;34m:\u001b[0m\u001b[0;34m\u001b[0m\u001b[0m\n\u001b[1;32m   1463\u001b[0m             \u001b[0msetattr\u001b[0m\u001b[0;34m(\u001b[0m\u001b[0mself\u001b[0m\u001b[0;34m,\u001b[0m \u001b[0mkey\u001b[0m\u001b[0;34m,\u001b[0m \u001b[0mkwargs\u001b[0m\u001b[0;34m[\u001b[0m\u001b[0mkey\u001b[0m\u001b[0;34m]\u001b[0m\u001b[0;34m)\u001b[0m\u001b[0;34m\u001b[0m\u001b[0m\n",
      "\u001b[0;32m~/anaconda/envs/spacy/lib/python3.7/site-packages/statsmodels/regression/linear_model.py\u001b[0m in \u001b[0;36mget_robustcov_results\u001b[0;34m(self, cov_type, use_t, **kwds)\u001b[0m\n\u001b[1;32m   2216\u001b[0m                     \u001b[0mself\u001b[0m\u001b[0;34m.\u001b[0m\u001b[0mn_groups\u001b[0m \u001b[0;34m=\u001b[0m \u001b[0mn_groups\u001b[0m \u001b[0;34m=\u001b[0m \u001b[0mlen\u001b[0m\u001b[0;34m(\u001b[0m\u001b[0mnp\u001b[0m\u001b[0;34m.\u001b[0m\u001b[0munique\u001b[0m\u001b[0;34m(\u001b[0m\u001b[0mgroups\u001b[0m\u001b[0;34m)\u001b[0m\u001b[0;34m)\u001b[0m\u001b[0;34m\u001b[0m\u001b[0m\n\u001b[1;32m   2217\u001b[0m                 res.cov_params_default = sw.cov_cluster(\n\u001b[0;32m-> 2218\u001b[0;31m                     self, groups, use_correction=use_correction)\n\u001b[0m\u001b[1;32m   2219\u001b[0m \u001b[0;34m\u001b[0m\u001b[0m\n\u001b[1;32m   2220\u001b[0m             \u001b[0;32melif\u001b[0m \u001b[0mgroups\u001b[0m\u001b[0;34m.\u001b[0m\u001b[0mndim\u001b[0m \u001b[0;34m==\u001b[0m \u001b[0;36m2\u001b[0m\u001b[0;34m:\u001b[0m\u001b[0;34m\u001b[0m\u001b[0m\n",
      "\u001b[0;32m~/anaconda/envs/spacy/lib/python3.7/site-packages/statsmodels/stats/sandwich_covariance.py\u001b[0m in \u001b[0;36mcov_cluster\u001b[0;34m(results, group, use_correction)\u001b[0m\n\u001b[1;32m    556\u001b[0m         \u001b[0mclusters\u001b[0m \u001b[0;34m=\u001b[0m \u001b[0mnp\u001b[0m\u001b[0;34m.\u001b[0m\u001b[0munique\u001b[0m\u001b[0;34m(\u001b[0m\u001b[0mgroup\u001b[0m\u001b[0;34m)\u001b[0m\u001b[0;34m\u001b[0m\u001b[0m\n\u001b[1;32m    557\u001b[0m \u001b[0;34m\u001b[0m\u001b[0m\n\u001b[0;32m--> 558\u001b[0;31m     \u001b[0mscale\u001b[0m \u001b[0;34m=\u001b[0m \u001b[0mS_crosssection\u001b[0m\u001b[0;34m(\u001b[0m\u001b[0mxu\u001b[0m\u001b[0;34m,\u001b[0m \u001b[0mgroup\u001b[0m\u001b[0;34m)\u001b[0m\u001b[0;34m\u001b[0m\u001b[0m\n\u001b[0m\u001b[1;32m    559\u001b[0m \u001b[0;34m\u001b[0m\u001b[0m\n\u001b[1;32m    560\u001b[0m     \u001b[0mnobs\u001b[0m\u001b[0;34m,\u001b[0m \u001b[0mk_params\u001b[0m \u001b[0;34m=\u001b[0m \u001b[0mxu\u001b[0m\u001b[0;34m.\u001b[0m\u001b[0mshape\u001b[0m\u001b[0;34m\u001b[0m\u001b[0m\n",
      "\u001b[0;32m~/anaconda/envs/spacy/lib/python3.7/site-packages/statsmodels/stats/sandwich_covariance.py\u001b[0m in \u001b[0;36mS_crosssection\u001b[0;34m(x, group)\u001b[0m\n\u001b[1;32m    510\u001b[0m \u001b[0;34m\u001b[0m\u001b[0m\n\u001b[1;32m    511\u001b[0m     '''\n\u001b[0;32m--> 512\u001b[0;31m     \u001b[0mx_group_sums\u001b[0m \u001b[0;34m=\u001b[0m \u001b[0mgroup_sums\u001b[0m\u001b[0;34m(\u001b[0m\u001b[0mx\u001b[0m\u001b[0;34m,\u001b[0m \u001b[0mgroup\u001b[0m\u001b[0;34m)\u001b[0m\u001b[0;34m.\u001b[0m\u001b[0mT\u001b[0m  \u001b[0;31m#TODO: why transposed\u001b[0m\u001b[0;34m\u001b[0m\u001b[0m\n\u001b[0m\u001b[1;32m    513\u001b[0m \u001b[0;34m\u001b[0m\u001b[0m\n\u001b[1;32m    514\u001b[0m     \u001b[0;32mreturn\u001b[0m \u001b[0mS_white_simple\u001b[0m\u001b[0;34m(\u001b[0m\u001b[0mx_group_sums\u001b[0m\u001b[0;34m)\u001b[0m\u001b[0;34m\u001b[0m\u001b[0m\n",
      "\u001b[0;32m~/anaconda/envs/spacy/lib/python3.7/site-packages/statsmodels/stats/sandwich_covariance.py\u001b[0m in \u001b[0;36mgroup_sums\u001b[0;34m(x, group)\u001b[0m\n\u001b[1;32m    456\u001b[0m \u001b[0;34m\u001b[0m\u001b[0m\n\u001b[1;32m    457\u001b[0m     return np.array([np.bincount(group, weights=x[:, col])\n\u001b[0;32m--> 458\u001b[0;31m                             for col in range(x.shape[1])])\n\u001b[0m\u001b[1;32m    459\u001b[0m \u001b[0;34m\u001b[0m\u001b[0m\n\u001b[1;32m    460\u001b[0m \u001b[0;34m\u001b[0m\u001b[0m\n",
      "\u001b[0;32m~/anaconda/envs/spacy/lib/python3.7/site-packages/statsmodels/stats/sandwich_covariance.py\u001b[0m in \u001b[0;36m<listcomp>\u001b[0;34m(.0)\u001b[0m\n\u001b[1;32m    456\u001b[0m \u001b[0;34m\u001b[0m\u001b[0m\n\u001b[1;32m    457\u001b[0m     return np.array([np.bincount(group, weights=x[:, col])\n\u001b[0;32m--> 458\u001b[0;31m                             for col in range(x.shape[1])])\n\u001b[0m\u001b[1;32m    459\u001b[0m \u001b[0;34m\u001b[0m\u001b[0m\n\u001b[1;32m    460\u001b[0m \u001b[0;34m\u001b[0m\u001b[0m\n",
      "\u001b[0;31mValueError\u001b[0m: The weights and list don't have the same length."
     ]
    }
   ],
   "source": [
    "y, X = dmatrices('avescores ~  treat + year_centered + treatyear + yearpost1 + treatpostyear1',\n",
    "                 data=data, return_type='dataframe', NA_action = \"drop\")\n",
    "cluster = data[pd.notnull(data.avescores)].district\n",
    "mod = smf.OLS(y, X)    # Describe model\n",
    "res = mod.fit(cov_type = 'cluster',  cov_kwds={'groups': pd.DataFrame(cluster)})       # Fit model\n",
    "print(res.summary())   # Summarize model\n",
    "row_1 = []\n",
    "for coef in ['treat', 'year_centered', 'treatyear', 'yearpost1', 'treatpostyear1']:\n",
    "    row_1.append(coef_with_stars(res.params[coef].round(2), res.pvalues[coef]))\n",
    "    row_1.append('(' + str(res.bse[coef].round(2)) + ')')\n",
    "row_1.append('')\n",
    "row_1.append('')\n",
    "row_1.append(res.rsquared_adj.round(2))\n",
    "row_1"
   ]
  },
  {
   "cell_type": "markdown",
   "metadata": {},
   "source": [
    "# Matching without pre-tests\n"
   ]
  },
  {
   "cell_type": "code",
   "execution_count": 7,
   "metadata": {},
   "outputs": [
    {
     "name": "stdout",
     "output_type": "stream",
     "text": [
      "                            WLS Regression Results                            \n",
      "==============================================================================\n",
      "Dep. Variable:              avescores   R-squared:                       0.176\n",
      "Model:                            WLS   Adj. R-squared:                  0.176\n",
      "Method:                 Least Squares   F-statistic:                     96.92\n",
      "Date:                Wed, 10 Apr 2019   Prob (F-statistic):           6.21e-80\n",
      "Time:                        10:20:14   Log-Likelihood:                -28928.\n",
      "No. Observations:               34292   AIC:                         5.787e+04\n",
      "Df Residuals:                   34286   BIC:                         5.792e+04\n",
      "Df Model:                           5                                         \n",
      "Covariance Type:              cluster                                         \n",
      "==================================================================================\n",
      "                     coef    std err          z      P>|z|      [0.025      0.975]\n",
      "----------------------------------------------------------------------------------\n",
      "Intercept          0.2761      0.086      3.219      0.001       0.108       0.444\n",
      "treat             -0.4537      0.133     -3.420      0.001      -0.714      -0.194\n",
      "year_centered      0.0901      0.008     11.737      0.000       0.075       0.105\n",
      "treatyear         -0.0479      0.013     -3.643      0.000      -0.074      -0.022\n",
      "yearpost1         -0.1179      0.020     -5.953      0.000      -0.157      -0.079\n",
      "treatpostyear1     0.1404      0.011     12.538      0.000       0.118       0.162\n",
      "==============================================================================\n",
      "Omnibus:                    43936.530   Durbin-Watson:                   0.363\n",
      "Prob(Omnibus):                  0.000   Jarque-Bera (JB):         49459221.671\n",
      "Skew:                           6.408   Prob(JB):                         0.00\n",
      "Kurtosis:                     188.609   Cond. No.                         26.6\n",
      "==============================================================================\n",
      "\n",
      "Warnings:\n",
      "[1] Standard Errors are robust tocluster correlation (cluster)\n"
     ]
    },
    {
     "data": {
      "text/plain": [
       "['-0.45***',\n",
       " '(0.13)',\n",
       " '0.09***',\n",
       " '(0.01)',\n",
       " '-0.05***',\n",
       " '(0.01)',\n",
       " '-0.12***',\n",
       " '(0.02)',\n",
       " '0.14***',\n",
       " '(0.01)',\n",
       " 'X',\n",
       " '',\n",
       " 0.18]"
      ]
     },
     "execution_count": 7,
     "metadata": {},
     "output_type": "execute_result"
    }
   ],
   "source": [
    "y, X = dmatrices('avescores ~  treat + year_centered + treatyear + yearpost1 + treatpostyear1',\n",
    "                 data=data, return_type='dataframe', NA_action = \"drop\")\n",
    "cluster = data[pd.notnull(data.avescores)].distname\n",
    "psweights = data[pd.notnull(data.avescores)].psweight1\n",
    "mod = smf.WLS(y, X, weights = psweights)    # Describe model\n",
    "res = mod.fit(cov_type = 'cluster',  cov_kwds={'groups': pd.DataFrame(cluster)})       # Fit model\n",
    "print(res.summary())   # Summarize model\n",
    "row_2 = []\n",
    "for coef in ['treat', 'year_centered', 'treatyear', 'yearpost1', 'treatpostyear1']:\n",
    "    row_2.append(coef_with_stars(res.params[coef].round(2), res.pvalues[coef]))\n",
    "    row_2.append('(' + str(res.bse[coef].round(2)) + ')')\n",
    "row_2.append('X')\n",
    "row_2.append('')\n",
    "row_2.append(res.rsquared_adj.round(2))\n",
    "row_2"
   ]
  },
  {
   "cell_type": "markdown",
   "metadata": {},
   "source": [
    "# Matching with Pre-tests"
   ]
  },
  {
   "cell_type": "code",
   "execution_count": 8,
   "metadata": {},
   "outputs": [
    {
     "name": "stdout",
     "output_type": "stream",
     "text": [
      "                            WLS Regression Results                            \n",
      "==============================================================================\n",
      "Dep. Variable:              avescores   R-squared:                       0.854\n",
      "Model:                            WLS   Adj. R-squared:                  0.854\n",
      "Method:                 Least Squares   F-statistic:                     2610.\n",
      "Date:                Wed, 10 Apr 2019   Prob (F-statistic):               0.00\n",
      "Time:                        10:20:15   Log-Likelihood:                 3169.7\n",
      "No. Observations:               34279   AIC:                            -6319.\n",
      "Df Residuals:                   34269   BIC:                            -6235.\n",
      "Df Model:                           9                                         \n",
      "Covariance Type:              cluster                                         \n",
      "==================================================================================\n",
      "                     coef    std err          z      P>|z|      [0.025      0.975]\n",
      "----------------------------------------------------------------------------------\n",
      "Intercept          0.1346      0.035      3.875      0.000       0.067       0.203\n",
      "treat             -0.0081      0.033     -0.245      0.806      -0.073       0.056\n",
      "year_centered      0.0721      0.013      5.540      0.000       0.047       0.098\n",
      "treatyear         -0.0337      0.015     -2.219      0.027      -0.064      -0.004\n",
      "yearpost1         -0.1357      0.049     -2.748      0.006      -0.232      -0.039\n",
      "treatpostyear1     0.1085      0.014      7.930      0.000       0.082       0.135\n",
      "scores12           0.0914      0.073      1.259      0.208      -0.051       0.234\n",
      "scores13           0.0970      0.040      2.421      0.015       0.018       0.176\n",
      "scores14           0.1394      0.058      2.402      0.016       0.026       0.253\n",
      "scores15           0.6653      0.095      6.974      0.000       0.478       0.852\n",
      "==============================================================================\n",
      "Omnibus:                    58295.632   Durbin-Watson:                   0.786\n",
      "Prob(Omnibus):                  0.000   Jarque-Bera (JB):        835652753.870\n",
      "Skew:                         -10.643   Prob(JB):                         0.00\n",
      "Kurtosis:                     767.603   Cond. No.                         36.9\n",
      "==============================================================================\n",
      "\n",
      "Warnings:\n",
      "[1] Standard Errors are robust tocluster correlation (cluster)\n"
     ]
    },
    {
     "data": {
      "text/plain": [
       "['-0.01',\n",
       " '(0.03)',\n",
       " '0.07***',\n",
       " '(0.01)',\n",
       " '-0.03*',\n",
       " '(0.02)',\n",
       " '-0.14**',\n",
       " '(0.05)',\n",
       " '0.11***',\n",
       " '(0.01)',\n",
       " 'X',\n",
       " 'X',\n",
       " 0.85]"
      ]
     },
     "execution_count": 8,
     "metadata": {},
     "output_type": "execute_result"
    }
   ],
   "source": [
    "data = data.dropna(subset = ['avescores', 'psweight2', 'scores15', 'scores14', 'scores13', 'scores12'], how = 'any')\n",
    "y, X = dmatrices('avescores ~  treat + year_centered + treatyear + yearpost1 + treatpostyear1 + scores12 + scores13 + scores14 + scores15',\n",
    "                 data=data, return_type='dataframe', NA_action = \"drop\")\n",
    "cluster = data[pd.notnull(data.scores14)].distname\n",
    "psweights = data[pd.notnull(data.scores14)].psweight2\n",
    "mod = smf.WLS(y, X, weights = psweights)    # Describe model\n",
    "res = mod.fit(cov_type = 'cluster',  cov_kwds={'groups': pd.DataFrame(cluster)})       # Fit model\n",
    "print(res.summary())   # Summarize model\n",
    "row_3 = []\n",
    "for coef in ['treat', 'year_centered', 'treatyear', 'yearpost1', 'treatpostyear1']:\n",
    "    row_3.append(coef_with_stars(res.params[coef].round(2), res.pvalues[coef]))\n",
    "    row_3.append('(' + str(res.bse[coef].round(2)) + ')')\n",
    "row_3.append('X')\n",
    "row_3.append('X')\n",
    "row_3.append(res.rsquared_adj.round(2))\n",
    "row_3"
   ]
  },
  {
   "cell_type": "code",
   "execution_count": 9,
   "metadata": {},
   "outputs": [
    {
     "data": {
      "text/html": [
       "<div>\n",
       "<style scoped>\n",
       "    .dataframe tbody tr th:only-of-type {\n",
       "        vertical-align: middle;\n",
       "    }\n",
       "\n",
       "    .dataframe tbody tr th {\n",
       "        vertical-align: top;\n",
       "    }\n",
       "\n",
       "    .dataframe thead th {\n",
       "        text-align: right;\n",
       "    }\n",
       "</style>\n",
       "<table border=\"1\" class=\"dataframe\">\n",
       "  <thead>\n",
       "    <tr style=\"text-align: right;\">\n",
       "      <th></th>\n",
       "      <th>Model 1</th>\n",
       "      <th>Model 2</th>\n",
       "      <th>Model 3</th>\n",
       "    </tr>\n",
       "  </thead>\n",
       "  <tbody>\n",
       "    <tr>\n",
       "      <th>0</th>\n",
       "      <td>-0.31**</td>\n",
       "      <td>-0.45***</td>\n",
       "      <td>-0.01</td>\n",
       "    </tr>\n",
       "    <tr>\n",
       "      <th>1</th>\n",
       "      <td>(0.11)</td>\n",
       "      <td>(0.13)</td>\n",
       "      <td>(0.03)</td>\n",
       "    </tr>\n",
       "    <tr>\n",
       "      <th>2</th>\n",
       "      <td>0.1***</td>\n",
       "      <td>0.09***</td>\n",
       "      <td>0.07***</td>\n",
       "    </tr>\n",
       "    <tr>\n",
       "      <th>3</th>\n",
       "      <td>(0.01)</td>\n",
       "      <td>(0.01)</td>\n",
       "      <td>(0.01)</td>\n",
       "    </tr>\n",
       "    <tr>\n",
       "      <th>4</th>\n",
       "      <td>-0.06***</td>\n",
       "      <td>-0.05***</td>\n",
       "      <td>-0.03*</td>\n",
       "    </tr>\n",
       "    <tr>\n",
       "      <th>5</th>\n",
       "      <td>(0.01)</td>\n",
       "      <td>(0.01)</td>\n",
       "      <td>(0.02)</td>\n",
       "    </tr>\n",
       "    <tr>\n",
       "      <th>6</th>\n",
       "      <td>-0.12***</td>\n",
       "      <td>-0.12***</td>\n",
       "      <td>-0.14**</td>\n",
       "    </tr>\n",
       "    <tr>\n",
       "      <th>7</th>\n",
       "      <td>(0.02)</td>\n",
       "      <td>(0.02)</td>\n",
       "      <td>(0.05)</td>\n",
       "    </tr>\n",
       "    <tr>\n",
       "      <th>8</th>\n",
       "      <td>0.13***</td>\n",
       "      <td>0.14***</td>\n",
       "      <td>0.11***</td>\n",
       "    </tr>\n",
       "    <tr>\n",
       "      <th>9</th>\n",
       "      <td>(0.0)</td>\n",
       "      <td>(0.01)</td>\n",
       "      <td>(0.01)</td>\n",
       "    </tr>\n",
       "    <tr>\n",
       "      <th>10</th>\n",
       "      <td></td>\n",
       "      <td>X</td>\n",
       "      <td>X</td>\n",
       "    </tr>\n",
       "    <tr>\n",
       "      <th>11</th>\n",
       "      <td></td>\n",
       "      <td></td>\n",
       "      <td>X</td>\n",
       "    </tr>\n",
       "    <tr>\n",
       "      <th>12</th>\n",
       "      <td>0.1</td>\n",
       "      <td>0.18</td>\n",
       "      <td>0.85</td>\n",
       "    </tr>\n",
       "  </tbody>\n",
       "</table>\n",
       "</div>"
      ],
      "text/plain": [
       "     Model 1   Model 2  Model 3\n",
       "0    -0.31**  -0.45***    -0.01\n",
       "1     (0.11)    (0.13)   (0.03)\n",
       "2     0.1***   0.09***  0.07***\n",
       "3     (0.01)    (0.01)   (0.01)\n",
       "4   -0.06***  -0.05***   -0.03*\n",
       "5     (0.01)    (0.01)   (0.02)\n",
       "6   -0.12***  -0.12***  -0.14**\n",
       "7     (0.02)    (0.02)   (0.05)\n",
       "8    0.13***   0.14***  0.11***\n",
       "9      (0.0)    (0.01)   (0.01)\n",
       "10                   X        X\n",
       "11                            X\n",
       "12       0.1      0.18     0.85"
      ]
     },
     "execution_count": 9,
     "metadata": {},
     "output_type": "execute_result"
    }
   ],
   "source": [
    "df = pd.DataFrame(\n",
    "    {'Model 1': row_1,\n",
    "    'Model 2': row_2,\n",
    "    'Model 3': row_3})\n",
    "df"
   ]
  },
  {
   "cell_type": "code",
   "execution_count": 10,
   "metadata": {
    "collapsed": true
   },
   "outputs": [],
   "source": [
    "file = table_path + 'results_main.xlsx'\n",
    "wb = load_workbook(file)\n",
    "ws = wb.active\n",
    "df\n",
    "for model, col in zip(['Model 1', 'Model 2', 'Model 3'], [2,3,4]):\n",
    "    row_n = 3\n",
    "    for ob in df[model]:\n",
    "        ws.cell(row=row_n, column=col).value = ob\n",
    "        row_n = row_n + 1\n",
    "wb.save(file)"
   ]
  },
  {
   "cell_type": "code",
   "execution_count": null,
   "metadata": {
    "collapsed": true
   },
   "outputs": [],
   "source": []
  }
 ],
 "metadata": {
  "kernelspec": {
   "display_name": "Python [conda env:spacy]",
   "language": "python",
   "name": "conda-env-spacy-py"
  },
  "language_info": {
   "codemirror_mode": {
    "name": "ipython",
    "version": 3
   },
   "file_extension": ".py",
   "mimetype": "text/x-python",
   "name": "python",
   "nbconvert_exporter": "python",
   "pygments_lexer": "ipython3",
   "version": "3.7.0"
  }
 },
 "nbformat": 4,
 "nbformat_minor": 2
}
