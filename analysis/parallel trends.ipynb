{
 "cells": [
  {
   "cell_type": "code",
   "execution_count": 18,
   "metadata": {
    "collapsed": true
   },
   "outputs": [],
   "source": [
    "import os\n",
    "%matplotlib inline\n",
    "import matplotlib.mlab as mlab\n",
    "import matplotlib.pyplot as plt\n",
    "import pandas as pd"
   ]
  },
  {
   "cell_type": "code",
   "execution_count": 19,
   "metadata": {
    "collapsed": true
   },
   "outputs": [],
   "source": [
    "data_path = '/Users/kylieleblancKylie/domino/dofis/data/'"
   ]
  },
  {
   "cell_type": "code",
   "execution_count": 20,
   "metadata": {},
   "outputs": [],
   "source": [
    "df = pd.read_csv(os.path.join(data_path, 'clean', 'master_data.csv'),\n",
    "                  sep=\",\")"
   ]
  },
  {
   "cell_type": "code",
   "execution_count": 21,
   "metadata": {
    "collapsed": true
   },
   "outputs": [],
   "source": [
    "math_scores = ['m_3rd_avescore', 'm_4th_avescore', 'm_5th_avescore',\n",
    "               'm_6th_avescore', 'm_7th_avescore', 'm_8th_avescore']\n",
    "\n",
    "reading_scores = ['r_3rd_avescore', 'r_4th_avescore', 'r_5th_avescore',\n",
    "                  'r_6th_avescore', 'r_7th_avescore', 'r_8th_avescore']"
   ]
  },
  {
   "cell_type": "code",
   "execution_count": 24,
   "metadata": {},
   "outputs": [],
   "source": [
    "def get_z_scores(df, cols):\n",
    "    df = df.copy()\n",
    "    for col in cols:\n",
    "        df[col + '_zscore'] = (df[col] - df[col].mean())/df[col].std(ddof=0)\n",
    "    return df"
   ]
  },
  {
   "cell_type": "code",
   "execution_count": 26,
   "metadata": {},
   "outputs": [],
   "source": [
    "df = df.pipe(get_z_scores, math_scores)\n",
    "df = df.pipe(get_z_scores, reading_scores)"
   ]
  },
  {
   "cell_type": "code",
   "execution_count": 33,
   "metadata": {},
   "outputs": [
    {
     "name": "stderr",
     "output_type": "stream",
     "text": [
      "/Users/kylieleblancKylie/anaconda/envs/spacy/lib/python3.7/site-packages/pandas/core/nanops.py:358: RuntimeWarning: divide by zero encountered in true_divide\n",
      "  the_mean = the_sum / count\n"
     ]
    }
   ],
   "source": [
    "df['average_math'] = df[[col for col in df.columns if col.startswith('m') and col.endswith('zscore')]].mean(axis=1)\n",
    "df['average_reading'] = df[[col for col in df.columns if col.startswith('r') and col.endswith('zscore')]].mean(axis=1)"
   ]
  },
  {
   "cell_type": "code",
   "execution_count": 35,
   "metadata": {},
   "outputs": [
    {
     "data": {
      "text/plain": [
       "0      -0.303424\n",
       "1      -0.247375\n",
       "2      -0.291605\n",
       "3      -0.318161\n",
       "4      -0.098665\n",
       "5      -0.215355\n",
       "6      -0.319785\n",
       "7      -0.075438\n",
       "8      -0.299243\n",
       "9      -0.129819\n",
       "10      0.270107\n",
       "11     -0.202888\n",
       "12     -0.201666\n",
       "13     -0.314496\n",
       "14     -0.207940\n",
       "15     -0.095277\n",
       "16     -0.310152\n",
       "17     -0.281496\n",
       "18     -0.315164\n",
       "19     -0.323618\n",
       "20     -0.308870\n",
       "21     -0.222998\n",
       "22     -0.218120\n",
       "23     -0.061183\n",
       "24     -0.211460\n",
       "25     -0.179557\n",
       "26     -0.121299\n",
       "27     -0.286194\n",
       "28     -0.232857\n",
       "29     -0.331767\n",
       "          ...   \n",
       "8484   -0.293616\n",
       "8485    2.915916\n",
       "8486   -0.333227\n",
       "8487   -0.021631\n",
       "8488   -0.078473\n",
       "8489   -0.282664\n",
       "8490   -0.282264\n",
       "8491   -0.229375\n",
       "8492   -0.311343\n",
       "8493   -0.294956\n",
       "8494   -0.245561\n",
       "8495   -0.177495\n",
       "8496   -0.302313\n",
       "8497   -0.075570\n",
       "8498   -0.252865\n",
       "8499   -0.330938\n",
       "8500   -0.293005\n",
       "8501   -0.218336\n",
       "8502   -0.251998\n",
       "8503   -0.318167\n",
       "8504   -0.276609\n",
       "8505   -0.225705\n",
       "8506   -0.208372\n",
       "8507   -0.310962\n",
       "8508   -0.148748\n",
       "8509   -0.334090\n",
       "8510   -0.293732\n",
       "8511   -0.048449\n",
       "8512   -0.188045\n",
       "8513   -0.321102\n",
       "Name: average_math, Length: 8514, dtype: float64"
      ]
     },
     "execution_count": 35,
     "metadata": {},
     "output_type": "execute_result"
    }
   ],
   "source": [
    "df['average_math']"
   ]
  },
  {
   "cell_type": "code",
   "execution_count": 42,
   "metadata": {},
   "outputs": [
    {
     "data": {
      "text/plain": [
       "<matplotlib.axes._subplots.AxesSubplot at 0x121b58978>"
      ]
     },
     "execution_count": 42,
     "metadata": {},
     "output_type": "execute_result"
    },
    {
     "data": {
      "image/png": "[encoded data removed]",
      "text/plain": [
       "<Figure size 432x288 with 1 Axes>"
      ]
     },
     "metadata": {},
     "output_type": "display_data"
    }
   ],
   "source": [
    "df.groupby(['year', 'doi'])['average_math'].mean().unstack().plot()"
   ]
  },
  {
   "cell_type": "code",
   "execution_count": 43,
   "metadata": {},
   "outputs": [
    {
     "data": {
      "text/plain": [
       "0    yr1112\n",
       "1    yr1112\n",
       "2    yr1112\n",
       "3    yr1112\n",
       "4    yr1112\n",
       "Name: year, dtype: object"
      ]
     },
     "execution_count": 43,
     "metadata": {},
     "output_type": "execute_result"
    }
   ],
   "source": [
    "df['year'].head()"
   ]
  },
  {
   "cell_type": "code",
   "execution_count": 44,
   "metadata": {
    "collapsed": true
   },
   "outputs": [],
   "source": [
    "df['post'] = df['year'] > 'yr1500'"
   ]
  },
  {
   "cell_type": "code",
   "execution_count": 54,
   "metadata": {},
   "outputs": [],
   "source": [
    "df['post_and_doi'] = df['post'] & df['doi']"
   ]
  },
  {
   "cell_type": "code",
   "execution_count": 66,
   "metadata": {},
   "outputs": [
    {
     "data": {
      "text/plain": [
       "0    N\n",
       "1    N\n",
       "2    N\n",
       "3    N\n",
       "4    N\n",
       "Name: distischarter, dtype: object"
      ]
     },
     "execution_count": 66,
     "metadata": {},
     "output_type": "execute_result"
    }
   ],
   "source": [
    "df['distischarter'].head()"
   ]
  },
  {
   "cell_type": "code",
   "execution_count": 68,
   "metadata": {},
   "outputs": [
    {
     "data": {
      "text/plain": [
       "((8514, 5), (8328, 5))"
      ]
     },
     "execution_count": 68,
     "metadata": {},
     "output_type": "execute_result"
    }
   ],
   "source": [
    "df[['post', 'doi', 'post_and_doi', 'average_math', 'distischarter']].shape, df[['post', 'doi', 'post_and_doi', 'average_math', 'distischarter']].dropna().shape"
   ]
  },
  {
   "cell_type": "code",
   "execution_count": 70,
   "metadata": {},
   "outputs": [
    {
     "data": {
      "text/plain": [
       "LinearRegression(copy_X=True, fit_intercept=True, n_jobs=1, normalize=False)"
      ]
     },
     "execution_count": 70,
     "metadata": {},
     "output_type": "execute_result"
    }
   ],
   "source": [
    "from sklearn.linear_model import LinearRegression\n",
    "\n",
    "lr_df = df[['post', 'doi', 'post_and_doi', 'average_math', 'distischarter']].dropna()\n",
    "lr_df = lr_df[lr_df.distischarter != 'Y']\n",
    "lr = LinearRegression()\n",
    "lr.fit(X=lr_df[['post', 'doi', 'post_and_doi']], y=lr_df['average_math'])"
   ]
  },
  {
   "cell_type": "code",
   "execution_count": 76,
   "metadata": {},
   "outputs": [
    {
     "data": {
      "text/plain": [
       "array([ 0.02849831, -0.01442721, -0.00486139])"
      ]
     },
     "execution_count": 76,
     "metadata": {},
     "output_type": "execute_result"
    }
   ],
   "source": [
    "lr.coef_"
   ]
  },
  {
   "cell_type": "code",
   "execution_count": 38,
   "metadata": {},
   "outputs": [
    {
     "data": {
      "text/plain": [
       "<matplotlib.axes._subplots.AxesSubplot at 0x124290748>"
      ]
     },
     "execution_count": 38,
     "metadata": {},
     "output_type": "execute_result"
    },
    {
     "data": {
      "image/png": "[encoded data removed]",
      "text/plain": [
       "<Figure size 432x288 with 1 Axes>"
      ]
     },
     "metadata": {},
     "output_type": "display_data"
    }
   ],
   "source": [
    "df.plot(x='year', y='average_math')"
   ]
  },
  {
   "cell_type": "code",
   "execution_count": 17,
   "metadata": {},
   "outputs": [
    {
     "ename": "TypeError",
     "evalue": "unsupported operand type(s) for /: 'float' and 'method'",
     "output_type": "error",
     "traceback": [
      "\u001b[0;31m---------------------------------------------------------------------------\u001b[0m",
      "\u001b[0;31mTypeError\u001b[0m                                 Traceback (most recent call last)",
      "\u001b[0;32m~/anaconda/envs/spacy/lib/python3.7/site-packages/pandas/core/ops.py\u001b[0m in \u001b[0;36mna_op\u001b[0;34m(x, y)\u001b[0m\n\u001b[1;32m   1011\u001b[0m         \u001b[0;32mtry\u001b[0m\u001b[0;34m:\u001b[0m\u001b[0;34m\u001b[0m\u001b[0m\n\u001b[0;32m-> 1012\u001b[0;31m             \u001b[0mresult\u001b[0m \u001b[0;34m=\u001b[0m \u001b[0mexpressions\u001b[0m\u001b[0;34m.\u001b[0m\u001b[0mevaluate\u001b[0m\u001b[0;34m(\u001b[0m\u001b[0mop\u001b[0m\u001b[0;34m,\u001b[0m \u001b[0mstr_rep\u001b[0m\u001b[0;34m,\u001b[0m \u001b[0mx\u001b[0m\u001b[0;34m,\u001b[0m \u001b[0my\u001b[0m\u001b[0;34m,\u001b[0m \u001b[0;34m**\u001b[0m\u001b[0meval_kwargs\u001b[0m\u001b[0;34m)\u001b[0m\u001b[0;34m\u001b[0m\u001b[0m\n\u001b[0m\u001b[1;32m   1013\u001b[0m         \u001b[0;32mexcept\u001b[0m \u001b[0mTypeError\u001b[0m\u001b[0;34m:\u001b[0m\u001b[0;34m\u001b[0m\u001b[0m\n",
      "\u001b[0;32m~/anaconda/envs/spacy/lib/python3.7/site-packages/pandas/core/computation/expressions.py\u001b[0m in \u001b[0;36mevaluate\u001b[0;34m(op, op_str, a, b, use_numexpr, **eval_kwargs)\u001b[0m\n\u001b[1;32m    204\u001b[0m     \u001b[0;32mif\u001b[0m \u001b[0muse_numexpr\u001b[0m\u001b[0;34m:\u001b[0m\u001b[0;34m\u001b[0m\u001b[0m\n\u001b[0;32m--> 205\u001b[0;31m         \u001b[0;32mreturn\u001b[0m \u001b[0m_evaluate\u001b[0m\u001b[0;34m(\u001b[0m\u001b[0mop\u001b[0m\u001b[0;34m,\u001b[0m \u001b[0mop_str\u001b[0m\u001b[0;34m,\u001b[0m \u001b[0ma\u001b[0m\u001b[0;34m,\u001b[0m \u001b[0mb\u001b[0m\u001b[0;34m,\u001b[0m \u001b[0;34m**\u001b[0m\u001b[0meval_kwargs\u001b[0m\u001b[0;34m)\u001b[0m\u001b[0;34m\u001b[0m\u001b[0m\n\u001b[0m\u001b[1;32m    206\u001b[0m     \u001b[0;32mreturn\u001b[0m \u001b[0m_evaluate_standard\u001b[0m\u001b[0;34m(\u001b[0m\u001b[0mop\u001b[0m\u001b[0;34m,\u001b[0m \u001b[0mop_str\u001b[0m\u001b[0;34m,\u001b[0m \u001b[0ma\u001b[0m\u001b[0;34m,\u001b[0m \u001b[0mb\u001b[0m\u001b[0;34m)\u001b[0m\u001b[0;34m\u001b[0m\u001b[0m\n",
      "\u001b[0;32m~/anaconda/envs/spacy/lib/python3.7/site-packages/pandas/core/computation/expressions.py\u001b[0m in \u001b[0;36m_evaluate_standard\u001b[0;34m(op, op_str, a, b, **eval_kwargs)\u001b[0m\n\u001b[1;32m     64\u001b[0m     \u001b[0;32mwith\u001b[0m \u001b[0mnp\u001b[0m\u001b[0;34m.\u001b[0m\u001b[0merrstate\u001b[0m\u001b[0;34m(\u001b[0m\u001b[0mall\u001b[0m\u001b[0;34m=\u001b[0m\u001b[0;34m'ignore'\u001b[0m\u001b[0;34m)\u001b[0m\u001b[0;34m:\u001b[0m\u001b[0;34m\u001b[0m\u001b[0m\n\u001b[0;32m---> 65\u001b[0;31m         \u001b[0;32mreturn\u001b[0m \u001b[0mop\u001b[0m\u001b[0;34m(\u001b[0m\u001b[0ma\u001b[0m\u001b[0;34m,\u001b[0m \u001b[0mb\u001b[0m\u001b[0;34m)\u001b[0m\u001b[0;34m\u001b[0m\u001b[0m\n\u001b[0m\u001b[1;32m     66\u001b[0m \u001b[0;34m\u001b[0m\u001b[0m\n",
      "\u001b[0;31mTypeError\u001b[0m: unsupported operand type(s) for /: 'float' and 'method'",
      "\nDuring handling of the above exception, another exception occurred:\n",
      "\u001b[0;31mTypeError\u001b[0m                                 Traceback (most recent call last)",
      "\u001b[0;32m<ipython-input-17-e2c12a46f5d6>\u001b[0m in \u001b[0;36m<module>\u001b[0;34m()\u001b[0m\n\u001b[0;32m----> 1\u001b[0;31m \u001b[0mdf\u001b[0m\u001b[0;34m[\u001b[0m\u001b[0melem\u001b[0m\u001b[0;34m]\u001b[0m \u001b[0;34m=\u001b[0m \u001b[0;34m[\u001b[0m\u001b[0;34m(\u001b[0m\u001b[0;34m(\u001b[0m\u001b[0mdf\u001b[0m\u001b[0;34m[\u001b[0m\u001b[0melem\u001b[0m\u001b[0;34m]\u001b[0m \u001b[0;34m-\u001b[0m \u001b[0mdf\u001b[0m\u001b[0;34m[\u001b[0m\u001b[0melem\u001b[0m\u001b[0;34m]\u001b[0m\u001b[0;34m.\u001b[0m\u001b[0mmean\u001b[0m\u001b[0;34m(\u001b[0m\u001b[0;34m)\u001b[0m\u001b[0;34m)\u001b[0m \u001b[0;34m/\u001b[0m \u001b[0mdf\u001b[0m\u001b[0;34m[\u001b[0m\u001b[0melem\u001b[0m\u001b[0;34m]\u001b[0m\u001b[0;34m.\u001b[0m\u001b[0mstd\u001b[0m\u001b[0;34m)\u001b[0m \u001b[0;32mfor\u001b[0m \u001b[0melem\u001b[0m \u001b[0;32min\u001b[0m \u001b[0mmath_scores\u001b[0m\u001b[0;34m]\u001b[0m\u001b[0;34m\u001b[0m\u001b[0m\n\u001b[0m",
      "\u001b[0;32m<ipython-input-17-e2c12a46f5d6>\u001b[0m in \u001b[0;36m<listcomp>\u001b[0;34m(.0)\u001b[0m\n\u001b[0;32m----> 1\u001b[0;31m \u001b[0mdf\u001b[0m\u001b[0;34m[\u001b[0m\u001b[0melem\u001b[0m\u001b[0;34m]\u001b[0m \u001b[0;34m=\u001b[0m \u001b[0;34m[\u001b[0m\u001b[0;34m(\u001b[0m\u001b[0;34m(\u001b[0m\u001b[0mdf\u001b[0m\u001b[0;34m[\u001b[0m\u001b[0melem\u001b[0m\u001b[0;34m]\u001b[0m \u001b[0;34m-\u001b[0m \u001b[0mdf\u001b[0m\u001b[0;34m[\u001b[0m\u001b[0melem\u001b[0m\u001b[0;34m]\u001b[0m\u001b[0;34m.\u001b[0m\u001b[0mmean\u001b[0m\u001b[0;34m(\u001b[0m\u001b[0;34m)\u001b[0m\u001b[0;34m)\u001b[0m \u001b[0;34m/\u001b[0m \u001b[0mdf\u001b[0m\u001b[0;34m[\u001b[0m\u001b[0melem\u001b[0m\u001b[0;34m]\u001b[0m\u001b[0;34m.\u001b[0m\u001b[0mstd\u001b[0m\u001b[0;34m)\u001b[0m \u001b[0;32mfor\u001b[0m \u001b[0melem\u001b[0m \u001b[0;32min\u001b[0m \u001b[0mmath_scores\u001b[0m\u001b[0;34m]\u001b[0m\u001b[0;34m\u001b[0m\u001b[0m\n\u001b[0m",
      "\u001b[0;32m~/anaconda/envs/spacy/lib/python3.7/site-packages/pandas/core/ops.py\u001b[0m in \u001b[0;36mwrapper\u001b[0;34m(left, right)\u001b[0m\n\u001b[1;32m   1067\u001b[0m             \u001b[0mrvalues\u001b[0m \u001b[0;34m=\u001b[0m \u001b[0mrvalues\u001b[0m\u001b[0;34m.\u001b[0m\u001b[0mvalues\u001b[0m\u001b[0;34m\u001b[0m\u001b[0m\n\u001b[1;32m   1068\u001b[0m \u001b[0;34m\u001b[0m\u001b[0m\n\u001b[0;32m-> 1069\u001b[0;31m         \u001b[0mresult\u001b[0m \u001b[0;34m=\u001b[0m \u001b[0msafe_na_op\u001b[0m\u001b[0;34m(\u001b[0m\u001b[0mlvalues\u001b[0m\u001b[0;34m,\u001b[0m \u001b[0mrvalues\u001b[0m\u001b[0;34m)\u001b[0m\u001b[0;34m\u001b[0m\u001b[0m\n\u001b[0m\u001b[1;32m   1070\u001b[0m         return construct_result(left, result,\n\u001b[1;32m   1071\u001b[0m                                 index=left.index, name=res_name, dtype=None)\n",
      "\u001b[0;32m~/anaconda/envs/spacy/lib/python3.7/site-packages/pandas/core/ops.py\u001b[0m in \u001b[0;36msafe_na_op\u001b[0;34m(lvalues, rvalues)\u001b[0m\n\u001b[1;32m   1031\u001b[0m         \u001b[0;32mtry\u001b[0m\u001b[0;34m:\u001b[0m\u001b[0;34m\u001b[0m\u001b[0m\n\u001b[1;32m   1032\u001b[0m             \u001b[0;32mwith\u001b[0m \u001b[0mnp\u001b[0m\u001b[0;34m.\u001b[0m\u001b[0merrstate\u001b[0m\u001b[0;34m(\u001b[0m\u001b[0mall\u001b[0m\u001b[0;34m=\u001b[0m\u001b[0;34m'ignore'\u001b[0m\u001b[0;34m)\u001b[0m\u001b[0;34m:\u001b[0m\u001b[0;34m\u001b[0m\u001b[0m\n\u001b[0;32m-> 1033\u001b[0;31m                 \u001b[0;32mreturn\u001b[0m \u001b[0mna_op\u001b[0m\u001b[0;34m(\u001b[0m\u001b[0mlvalues\u001b[0m\u001b[0;34m,\u001b[0m \u001b[0mrvalues\u001b[0m\u001b[0;34m)\u001b[0m\u001b[0;34m\u001b[0m\u001b[0m\n\u001b[0m\u001b[1;32m   1034\u001b[0m         \u001b[0;32mexcept\u001b[0m \u001b[0mException\u001b[0m\u001b[0;34m:\u001b[0m\u001b[0;34m\u001b[0m\u001b[0m\n\u001b[1;32m   1035\u001b[0m             \u001b[0;32mif\u001b[0m \u001b[0mis_object_dtype\u001b[0m\u001b[0;34m(\u001b[0m\u001b[0mlvalues\u001b[0m\u001b[0;34m)\u001b[0m\u001b[0;34m:\u001b[0m\u001b[0;34m\u001b[0m\u001b[0m\n",
      "\u001b[0;32m~/anaconda/envs/spacy/lib/python3.7/site-packages/pandas/core/ops.py\u001b[0m in \u001b[0;36mna_op\u001b[0;34m(x, y)\u001b[0m\n\u001b[1;32m   1021\u001b[0m                 \u001b[0mresult\u001b[0m \u001b[0;34m=\u001b[0m \u001b[0mnp\u001b[0m\u001b[0;34m.\u001b[0m\u001b[0mempty\u001b[0m\u001b[0;34m(\u001b[0m\u001b[0mlen\u001b[0m\u001b[0;34m(\u001b[0m\u001b[0mx\u001b[0m\u001b[0;34m)\u001b[0m\u001b[0;34m,\u001b[0m \u001b[0mdtype\u001b[0m\u001b[0;34m=\u001b[0m\u001b[0mx\u001b[0m\u001b[0;34m.\u001b[0m\u001b[0mdtype\u001b[0m\u001b[0;34m)\u001b[0m\u001b[0;34m\u001b[0m\u001b[0m\n\u001b[1;32m   1022\u001b[0m                 \u001b[0mmask\u001b[0m \u001b[0;34m=\u001b[0m \u001b[0mnotna\u001b[0m\u001b[0;34m(\u001b[0m\u001b[0mx\u001b[0m\u001b[0;34m)\u001b[0m\u001b[0;34m\u001b[0m\u001b[0m\n\u001b[0;32m-> 1023\u001b[0;31m                 \u001b[0mresult\u001b[0m\u001b[0;34m[\u001b[0m\u001b[0mmask\u001b[0m\u001b[0;34m]\u001b[0m \u001b[0;34m=\u001b[0m \u001b[0mop\u001b[0m\u001b[0;34m(\u001b[0m\u001b[0mx\u001b[0m\u001b[0;34m[\u001b[0m\u001b[0mmask\u001b[0m\u001b[0;34m]\u001b[0m\u001b[0;34m,\u001b[0m \u001b[0my\u001b[0m\u001b[0;34m)\u001b[0m\u001b[0;34m\u001b[0m\u001b[0m\n\u001b[0m\u001b[1;32m   1024\u001b[0m \u001b[0;34m\u001b[0m\u001b[0m\n\u001b[1;32m   1025\u001b[0m             \u001b[0mresult\u001b[0m\u001b[0;34m,\u001b[0m \u001b[0mchanged\u001b[0m \u001b[0;34m=\u001b[0m \u001b[0mmaybe_upcast_putmask\u001b[0m\u001b[0;34m(\u001b[0m\u001b[0mresult\u001b[0m\u001b[0;34m,\u001b[0m \u001b[0;34m~\u001b[0m\u001b[0mmask\u001b[0m\u001b[0;34m,\u001b[0m \u001b[0mnp\u001b[0m\u001b[0;34m.\u001b[0m\u001b[0mnan\u001b[0m\u001b[0;34m)\u001b[0m\u001b[0;34m\u001b[0m\u001b[0m\n",
      "\u001b[0;31mTypeError\u001b[0m: unsupported operand type(s) for /: 'float' and 'method'"
     ]
    }
   ],
   "source": [
    "df[elem] = [((df[elem] - df[elem].mean()) / df[elem].std) for elem in math_scores]"
   ]
  },
  {
   "cell_type": "code",
   "execution_count": null,
   "metadata": {
    "collapsed": true
   },
   "outputs": [],
   "source": [
    "ts_stand = (df - df.mean()) / df.std()"
   ]
  },
  {
   "cell_type": "code",
   "execution_count": 79,
   "metadata": {},
   "outputs": [
    {
     "data": {
      "text/plain": [
       "True     785\n",
       "False    434\n",
       "Name: doi, dtype: int64"
      ]
     },
     "execution_count": 79,
     "metadata": {},
     "output_type": "execute_result"
    }
   ],
   "source": [
    "df[df['year'] == 'yr1415']['doi'].value_counts()"
   ]
  },
  {
   "cell_type": "code",
   "execution_count": 80,
   "metadata": {},
   "outputs": [
    {
     "data": {
      "text/plain": [
       "doi\n",
       "False   -0.079475\n",
       "True     0.014099\n",
       "Name: average_math, dtype: float64"
      ]
     },
     "execution_count": 80,
     "metadata": {},
     "output_type": "execute_result"
    }
   ],
   "source": [
    "df[df['year'] == 'yr1415'].groupby('doi')['average_math'].mean()"
   ]
  },
  {
   "cell_type": "code",
   "execution_count": 86,
   "metadata": {},
   "outputs": [
    {
     "data": {
      "text/plain": [
       "<matplotlib.axes._subplots.AxesSubplot at 0x128b043c8>"
      ]
     },
     "execution_count": 86,
     "metadata": {},
     "output_type": "execute_result"
    },
    {
     "data": {
      "image/png": "[encoded data removed]",
      "text/plain": [
       "<Figure size 1080x504 with 1 Axes>"
      ]
     },
     "metadata": {},
     "output_type": "display_data"
    }
   ],
   "source": [
    "fig, ax = plt.subplots(figsize=(15,7))\n",
    "# use unstack()\n",
    "df.groupby(['year','doi']).mean()['m_3rd_avescore'].unstack().plot(ax=ax)"
   ]
  },
  {
   "cell_type": "code",
   "execution_count": 6,
   "metadata": {},
   "outputs": [
    {
     "data": {
      "text/plain": [
       "array(['Unnamed: 0', 'district', 'distname', 'year', 'cntyname',\n",
       "       'distischarter', 'rating', 'students_num', 'students_frpl_num',\n",
       "       'students_black_num', 'students_hisp_num', 'students_white_num',\n",
       "       'teachers_num', 'teachers_new_num', 'teacher_turnover_num',\n",
       "       'teachers_turnover_denom', 'teachers_turnover_ratio',\n",
       "       'teachers_exp_ave', 'teachers_tenure_ave', 'teachers_nodegree_num',\n",
       "       'teachers_badegree_num', 'teachers_msdegree_num',\n",
       "       'teachers_phddegree_num', 'r_3rd_avescore', 'r_3rd_numtakers',\n",
       "       'm_3rd_avescore', 'm_3rd_numtakers', 'r_4th_avescore',\n",
       "       'r_4th_numtakers', 'm_4th_avescore', 'm_4th_numtakers',\n",
       "       'r_5th_avescore', 'r_5th_numtakers', 'm_5th_avescore',\n",
       "       'm_5th_numtakers', 'r_6th_avescore', 'r_6th_numtakers',\n",
       "       'm_6th_avescore', 'm_6th_numtakers', 'r_7th_avescore',\n",
       "       'r_7th_numtakers', 'm_7th_avescore', 'm_7th_numtakers',\n",
       "       'r_8th_avescore', 'r_8th_numtakers', 'm_8th_avescore',\n",
       "       'm_8th_numtakers', 'alg_avescore', 'alg_numtakers', 'bio_avescore',\n",
       "       'bio_numtakers', 'eng1_avescore', 'eng1_numtakers',\n",
       "       'eng2_avescore', 'eng2_numtakers', 'us_avescore', 'us_numtakers',\n",
       "       'date', 'reg1_251', 'reg1_253', 'reg102_1301', 'reg102_1303',\n",
       "       'reg102_1305', 'reg102_1307', 'reg102_1309', 'reg102_1311',\n",
       "       'reg102_1313', 'reg102_1315', 'reg102_309', 'reg109_1001',\n",
       "       'reg11_1511', 'reg11_1512', 'reg11_162', 'reg11_164', 'reg11_251',\n",
       "       'reg11_252', 'reg11_253', 'reg11_255', 'reg12_003', 'reg12_0522',\n",
       "       'reg12_131', 'reg130_135', 'reg130_231', 'reg130_413',\n",
       "       'reg132_231', 'reg15_113', 'reg150_1001', 'reg150_1003',\n",
       "       'reg150_1022', 'reg150_1026', 'reg158_211', 'reg16_057',\n",
       "       'reg19_231', 'reg21_0003', 'reg21_002', 'reg21_003', 'reg21_0031',\n",
       "       'reg21_004', 'reg21_005', 'reg21_04', 'reg21_0401', 'reg21_044',\n",
       "       'reg21_0442', 'reg21_048', 'reg21_0487', 'reg21_049', 'reg21_0491',\n",
       "       'reg21_051', 'reg21_052', 'reg21_053', 'reg21_055', 'reg21_056',\n",
       "       'reg21_057', 'reg21_0583', 'reg21_081', 'reg21_0811', 'reg21_101',\n",
       "       'reg21_102', 'reg21_106', 'reg21_111', 'reg21_158', 'reg21_202',\n",
       "       'reg21_203', 'reg21_211', 'reg21_252', 'reg21_351', 'reg21_352',\n",
       "       'reg21_353', 'reg21_354', 'reg21_3541', 'reg21_355', 'reg21_401',\n",
       "       'reg21_402', 'reg21_4021', 'reg21_4022', 'reg21_403', 'reg21_4031',\n",
       "       'reg21_4032', 'reg21_404', 'reg21_405', 'reg21_406', 'reg21_407',\n",
       "       'reg21_408', 'reg21_409', 'reg21_415', 'reg21_422', 'reg21_451',\n",
       "       'reg21_4513', 'reg21_452', 'reg21_458', 'reg212_3541', 'reg22_001',\n",
       "       'reg22_002', 'reg22_003', 'reg22_006', 'reg22_007', 'reg22_011',\n",
       "       'reg22_021', 'reg22_0831', 'reg22_0833', 'reg22_111', 'reg22_902',\n",
       "       'reg23_354', 'reg23_3541', 'reg231_611', 'reg24_401', 'reg25_001',\n",
       "       'reg25_002', 'reg25_0021', 'reg25_0031', 'reg25_004',\n",
       "       'reg25_01812', 'reg25_035', 'reg25_036', 'reg25_038', 'reg25_043',\n",
       "       'reg25_08', 'reg25_081', 'reg25_0811', 'reg25_0812', 'reg25_082',\n",
       "       'reg25_083', 'reg25_084', 'reg25_085', 'reg25_086', 'reg25_087',\n",
       "       'reg25_0915', 'reg25_092', 'reg25_094', 'reg25_111', 'reg25_1111',\n",
       "       'reg25_1113', 'reg25_112', 'reg25_113', 'reg25_114', 'reg25_206',\n",
       "       'reg25_250', 'reg25_354', 'reg25_801', 'reg25_8011', 'reg25_8012',\n",
       "       'reg25_811', 'reg25_812', 'reg25_902', 'reg26_001', 'reg26_011',\n",
       "       'reg271_029', 'reg28_002', 'reg28_0021', 'reg28_0023', 'reg28_004',\n",
       "       'reg28_005', 'reg28_0051', 'reg28_006', 'reg28_014', 'reg28_016',\n",
       "       'reg28_0211', 'reg28_0213', 'reg28_0214', 'reg28_0216',\n",
       "       'reg28_0217', 'reg28_023', 'reg28_025', 'reg28_0254', 'reg28_0255',\n",
       "       'reg28_0258', 'reg28_0259', 'reg28_026', 'reg28_027', 'reg28_214',\n",
       "       'reg28_216', 'reg29_0821', 'reg29_0822', 'reg29_092', 'reg29_151',\n",
       "       'reg29_201', 'reg29_916', 'reg30_104', 'reg33_086', 'reg36_054',\n",
       "       'reg37_001', 'reg37_0012', 'reg37_002', 'reg37_005', 'reg37_006',\n",
       "       'reg37_007', 'reg37_008', 'reg37_0081', 'reg37_0082',\n",
       "       'reg37_00821', 'reg37_010', 'reg37_011', 'reg37_012', 'reg37_013',\n",
       "       'reg37_020', 'reg37_027', 'reg37_0832', 'reg37_107', 'reg37_152',\n",
       "       'reg38_0041', 'reg38_006', 'reg38_101', 'reg38_102', 'reg39_022',\n",
       "       'reg39_053', 'reg39_054', 'reg39_082', 'reg39_116', 'reg39_131',\n",
       "       'reg39_306', 'reg39_362', 'reg4_002', 'reg4_003', 'reg42_006',\n",
       "       'reg44_0011', 'reg44_002', 'reg44_003', 'reg44_004', 'reg44_0041',\n",
       "       'reg44_005', 'reg44_0051', 'reg44_006', 'reg44_007', 'reg44_0071',\n",
       "       'reg44_008', 'reg44_009', 'reg44_011', 'reg44_031', 'reg44_0312',\n",
       "       'reg44_032', 'reg44_033', 'reg44_0331', 'reg44_0352', 'reg44_042',\n",
       "       'reg44_043', 'reg44_047', 'reg44_051', 'reg44_052', 'reg44_053',\n",
       "       'reg44_054', 'reg44_901', 'reg44_902', 'reg44_903', 'reg44_908',\n",
       "       'reg45_003', 'reg45_0031', 'reg45_005', 'reg45_102', 'reg45_105',\n",
       "       'reg45_106', 'reg45_202', 'reg45_203', 'reg45_204', 'reg45_205',\n",
       "       'reg45_206', 'reg45_207', 'reg45_208', 'reg45_209', 'reg46_001',\n",
       "       'reg485_031', 'reg485_034', 'reg5_002', 'reg502_002', 'reg521_002',\n",
       "       'reg521_022', 'reg521_055', 'reg521_057', 'reg521_352',\n",
       "       'reg521_354', 'reg521_402', 'reg521_4032', 'reg521_407',\n",
       "       'reg522_006', 'reg522_011', 'reg525_081', 'reg525_092',\n",
       "       'reg544_0352', 'reg544_042', 'reg544_043', 'reg544_902',\n",
       "       'reg545_207', 'reg55_0811', 'reg551_001', 'reg551_071',\n",
       "       'reg551_072', 'reg551_073', 'reg551_074', 'reg551_076',\n",
       "       'reg551_082', 'reg551_083', 'reg551_084', 'reg552_023',\n",
       "       'reg552_024', 'reg7_056', 'reg75_600', 'reg8_210', 'reg921_406',\n",
       "       'reg97_1001', 'reg97_1055', '_merge', 'doi'], dtype=object)"
      ]
     },
     "execution_count": 6,
     "metadata": {},
     "output_type": "execute_result"
    }
   ],
   "source": [
    "df.columns.values"
   ]
  },
  {
   "cell_type": "code",
   "execution_count": null,
   "metadata": {
    "collapsed": true
   },
   "outputs": [],
   "source": []
  }
 ],
 "metadata": {
  "kernelspec": {
   "display_name": "Python [conda env:spacy]",
   "language": "python",
   "name": "conda-env-spacy-py"
  },
  "language_info": {
   "codemirror_mode": {
    "name": "ipython",
    "version": 3
   },
   "file_extension": ".py",
   "mimetype": "text/x-python",
   "name": "python",
   "nbconvert_exporter": "python",
   "pygments_lexer": "ipython3",
   "version": "3.7.0"
  }
 },
 "nbformat": 4,
 "nbformat_minor": 2
}
