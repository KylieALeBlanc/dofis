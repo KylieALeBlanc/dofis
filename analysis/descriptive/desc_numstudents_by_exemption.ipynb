{
 "cells": [
  {
   "cell_type": "code",
   "execution_count": 76,
   "metadata": {
    "collapsed": true
   },
   "outputs": [],
   "source": [
    "import sys\n",
    "sys.path.append(\"../\")\n",
    "\n",
    "import pandas as pd\n",
    "import os\n",
    "\n",
    "from library import regulations\n",
    "from library import analysis\n",
    "from library import tables\n",
    "\n",
    "import pandas as pd\n",
    "import os\n",
    "import numpy as np\n",
    "import math\n",
    "\n",
    "import matplotlib as mpl\n",
    "import matplotlib.pyplot as plt\n",
    "%matplotlib inline\n",
    "\n",
    "import statsmodels.formula.api as smf\n"
   ]
  },
  {
   "cell_type": "code",
   "execution_count": 77,
   "metadata": {},
   "outputs": [
    {
     "name": "stderr",
     "output_type": "stream",
     "text": [
      "/Users/kylieleblancKylie/anaconda/envs/spacy/lib/python3.7/site-packages/IPython/core/interactiveshell.py:2785: DtypeWarning: Columns (7,8,416) have mixed types. Specify dtype option on import or set low_memory=False.\n",
      "  interactivity=interactivity, compiler=compiler, result=result)\n"
     ]
    }
   ],
   "source": [
    "data_path = '/Users/kylieleblancKylie/domino/dofis/data/'\n",
    "table_path = '/Users/kylieleblancKylie/domino/dofis/results/descriptive/'\n",
    "data = pd.read_csv(os.path.join(data_path, 'clean', 'master_data.csv'),\n",
    "                  sep=\",\")"
   ]
  },
  {
   "cell_type": "code",
   "execution_count": 78,
   "metadata": {
    "collapsed": true
   },
   "outputs": [],
   "source": [
    "data = data[data.year == 'yr1718']"
   ]
  },
  {
   "cell_type": "code",
   "execution_count": 79,
   "metadata": {},
   "outputs": [
    {
     "data": {
      "text/plain": [
       "3832308"
      ]
     },
     "execution_count": 79,
     "metadata": {},
     "output_type": "execute_result"
    }
   ],
   "source": [
    "data[data.doi == True]['students_num'].sum()"
   ]
  },
  {
   "cell_type": "code",
   "execution_count": 80,
   "metadata": {},
   "outputs": [
    {
     "data": {
      "text/plain": [
       "0.7171457796031838"
      ]
     },
     "execution_count": 80,
     "metadata": {},
     "output_type": "execute_result"
    }
   ],
   "source": [
    "data[data.doi == True]['students_num'].sum()/data['students_num'].sum()"
   ]
  },
  {
   "cell_type": "code",
   "execution_count": 81,
   "metadata": {},
   "outputs": [
    {
     "data": {
      "text/plain": [
       "2575560"
      ]
     },
     "execution_count": 81,
     "metadata": {},
     "output_type": "execute_result"
    }
   ],
   "source": [
    "data['students_num'].sum()\n",
    "data[data['reg21_003'] == True]['students_num'].sum()"
   ]
  },
  {
   "cell_type": "code",
   "execution_count": 82,
   "metadata": {},
   "outputs": [
    {
     "data": {
      "text/plain": [
       "0.48"
      ]
     },
     "execution_count": 82,
     "metadata": {},
     "output_type": "execute_result"
    }
   ],
   "source": [
    "x = data[data['reg21_003'] == True]['students_num'].sum()/data['students_num'].sum()\n",
    "x.round(2)"
   ]
  },
  {
   "cell_type": "code",
   "execution_count": 83,
   "metadata": {},
   "outputs": [
    {
     "data": {
      "text/plain": [
       "0.41"
      ]
     },
     "execution_count": 83,
     "metadata": {},
     "output_type": "execute_result"
    }
   ],
   "source": [
    "x = data[data['reg21_003'] == True]['students_hisp'].sum()/data['students_hisp'].sum()\n",
    "x.round(2)"
   ]
  },
  {
   "cell_type": "code",
   "execution_count": 84,
   "metadata": {},
   "outputs": [
    {
     "data": {
      "text/plain": [
       "0.57"
      ]
     },
     "execution_count": 84,
     "metadata": {},
     "output_type": "execute_result"
    }
   ],
   "source": [
    "x = data[data['reg21_003'] == True]['students_white'].sum()/data['students_white'].sum()\n",
    "x.round(2)"
   ]
  },
  {
   "cell_type": "code",
   "execution_count": 85,
   "metadata": {},
   "outputs": [
    {
     "data": {
      "text/plain": [
       "0.38"
      ]
     },
     "execution_count": 85,
     "metadata": {},
     "output_type": "execute_result"
    }
   ],
   "source": [
    "x = data[data['reg21_003'] == True]['students_black'].sum()/data['students_black'].sum()\n",
    "x.round(2)"
   ]
  },
  {
   "cell_type": "code",
   "execution_count": 86,
   "metadata": {},
   "outputs": [
    {
     "data": {
      "text/plain": [
       "2575560"
      ]
     },
     "execution_count": 86,
     "metadata": {},
     "output_type": "execute_result"
    }
   ],
   "source": [
    "data['reg21_003'] = np.where((data['reg21_003'] != 1), 0, 1)\n",
    "data[data['reg21_003'] == True]['students_num'].sum()"
   ]
  },
  {
   "cell_type": "code",
   "execution_count": 87,
   "metadata": {},
   "outputs": [
    {
     "data": {
      "text/plain": [
       "0.48"
      ]
     },
     "execution_count": 87,
     "metadata": {},
     "output_type": "execute_result"
    }
   ],
   "source": [
    "x = data[data['reg21_003'] == 1]['reg21_003'].count()/data['reg21_003'].count()\n",
    "x.round(2)"
   ]
  },
  {
   "cell_type": "code",
   "execution_count": 88,
   "metadata": {},
   "outputs": [
    {
     "name": "stderr",
     "output_type": "stream",
     "text": [
      "/Users/kylieleblancKylie/anaconda/envs/spacy/lib/python3.7/site-packages/pandas/core/groupby/groupby.py:4656: FutureWarning: using a dict with renaming is deprecated and will be removed in a future version\n",
      "  return super(DataFrameGroupBy, self).aggregate(arg, *args, **kwargs)\n"
     ]
    },
    {
     "data": {
      "text/html": [
       "<div>\n",
       "<style scoped>\n",
       "    .dataframe tbody tr th:only-of-type {\n",
       "        vertical-align: middle;\n",
       "    }\n",
       "\n",
       "    .dataframe tbody tr th {\n",
       "        vertical-align: top;\n",
       "    }\n",
       "\n",
       "    .dataframe thead tr th {\n",
       "        text-align: left;\n",
       "    }\n",
       "</style>\n",
       "<table border=\"1\" class=\"dataframe\">\n",
       "  <thead>\n",
       "    <tr>\n",
       "      <th></th>\n",
       "      <th>bins_students</th>\n",
       "      <th colspan=\"2\" halign=\"left\">ave</th>\n",
       "      <th colspan=\"2\" halign=\"left\">sd</th>\n",
       "      <th colspan=\"2\" halign=\"left\">n</th>\n",
       "      <th>se</th>\n",
       "      <th>ci</th>\n",
       "    </tr>\n",
       "    <tr>\n",
       "      <th></th>\n",
       "      <th></th>\n",
       "      <th>reg21_003</th>\n",
       "      <th>students_num</th>\n",
       "      <th>reg21_003</th>\n",
       "      <th>students_num</th>\n",
       "      <th>reg21_003</th>\n",
       "      <th>students_num</th>\n",
       "      <th></th>\n",
       "      <th></th>\n",
       "    </tr>\n",
       "  </thead>\n",
       "  <tbody>\n",
       "    <tr>\n",
       "      <th>0</th>\n",
       "      <td>(5.999, 283.0]</td>\n",
       "      <td>0.404959</td>\n",
       "      <td>175.719008</td>\n",
       "      <td>0.491901</td>\n",
       "      <td>63.993610</td>\n",
       "      <td>242</td>\n",
       "      <td>242</td>\n",
       "      <td>0.031621</td>\n",
       "      <td>0.063241</td>\n",
       "    </tr>\n",
       "    <tr>\n",
       "      <th>1</th>\n",
       "      <td>(283.0, 614.2]</td>\n",
       "      <td>0.476987</td>\n",
       "      <td>445.690377</td>\n",
       "      <td>0.500518</td>\n",
       "      <td>95.025673</td>\n",
       "      <td>239</td>\n",
       "      <td>239</td>\n",
       "      <td>0.032376</td>\n",
       "      <td>0.064752</td>\n",
       "    </tr>\n",
       "    <tr>\n",
       "      <th>2</th>\n",
       "      <td>(614.2, 1305.2]</td>\n",
       "      <td>0.547718</td>\n",
       "      <td>907.431535</td>\n",
       "      <td>0.498754</td>\n",
       "      <td>185.243861</td>\n",
       "      <td>241</td>\n",
       "      <td>241</td>\n",
       "      <td>0.032128</td>\n",
       "      <td>0.064255</td>\n",
       "    </tr>\n",
       "    <tr>\n",
       "      <th>3</th>\n",
       "      <td>(1305.2, 3668.2]</td>\n",
       "      <td>0.483333</td>\n",
       "      <td>2153.887500</td>\n",
       "      <td>0.500766</td>\n",
       "      <td>671.416999</td>\n",
       "      <td>240</td>\n",
       "      <td>240</td>\n",
       "      <td>0.032324</td>\n",
       "      <td>0.064649</td>\n",
       "    </tr>\n",
       "    <tr>\n",
       "      <th>4</th>\n",
       "      <td>(3668.2, 215408.0]</td>\n",
       "      <td>0.497925</td>\n",
       "      <td>18502.763485</td>\n",
       "      <td>0.501036</td>\n",
       "      <td>24354.839487</td>\n",
       "      <td>241</td>\n",
       "      <td>241</td>\n",
       "      <td>0.032275</td>\n",
       "      <td>0.064549</td>\n",
       "    </tr>\n",
       "  </tbody>\n",
       "</table>\n",
       "</div>"
      ],
      "text/plain": [
       "        bins_students       ave                      sd                \\\n",
       "                      reg21_003  students_num reg21_003  students_num   \n",
       "0      (5.999, 283.0]  0.404959    175.719008  0.491901     63.993610   \n",
       "1      (283.0, 614.2]  0.476987    445.690377  0.500518     95.025673   \n",
       "2     (614.2, 1305.2]  0.547718    907.431535  0.498754    185.243861   \n",
       "3    (1305.2, 3668.2]  0.483333   2153.887500  0.500766    671.416999   \n",
       "4  (3668.2, 215408.0]  0.497925  18502.763485  0.501036  24354.839487   \n",
       "\n",
       "          n                     se        ci  \n",
       "  reg21_003 students_num                      \n",
       "0       242          242  0.031621  0.063241  \n",
       "1       239          239  0.032376  0.064752  \n",
       "2       241          241  0.032128  0.064255  \n",
       "3       240          240  0.032324  0.064649  \n",
       "4       241          241  0.032275  0.064549  "
      ]
     },
     "execution_count": 88,
     "metadata": {},
     "output_type": "execute_result"
    }
   ],
   "source": [
    "data['bins_students']  = pd.qcut(data['students_num'], 5)\n",
    "#p_doi = pd.DataFrame(data[['doi', 'avescores']].groupby(data['bins_avescores']).mean().round(2))\n",
    "p_doi = data.groupby(['bins_students'])[['reg21_003', 'students_num']].agg({'ave': 'mean', 'sd': 'std', 'n': 'count'})\n",
    "p_doi = p_doi.reset_index()\n",
    "n_sqrt = np.sqrt(p_doi['n']['reg21_003'])\n",
    "p_doi['se'] = p_doi['sd']['reg21_003']/n_sqrt\n",
    "p_doi['ci'] = 2*p_doi['se']\n",
    "p_doi"
   ]
  },
  {
   "cell_type": "code",
   "execution_count": 89,
   "metadata": {},
   "outputs": [
    {
     "data": {
      "text/plain": [
       "Text(0.5,0,'District Size (in Students)')"
      ]
     },
     "execution_count": 89,
     "metadata": {},
     "output_type": "execute_result"
    },
    {
     "data": {
      "image/png": "[encoded data removed]",
      "text/plain": [
       "<Figure size 432x288 with 1 Axes>"
      ]
     },
     "metadata": {},
     "output_type": "display_data"
    }
   ],
   "source": [
    "palette = plt.get_cmap('tab20')\n",
    "# Create bars\n",
    "plt.bar(p_doi.index, p_doi['ave']['reg21_003'], yerr = p_doi['ci'], color=palette(p_doi.index))\n",
    "\n",
    "# Create names on the x-axis\n",
    "plt.xticks(np.arange(5), (p_doi['ave']['students_num']).round())\n",
    "\n",
    "plt.ylabel('Proportion Exempting Certification', fontsize = 16)\n",
    "plt.xlabel('District Size (in Students)', fontsize = 16)\n",
    "\n",
    "#plt.savefig(table_path + 'bar__doi.png', dpi = 600)\n"
   ]
  },
  {
   "cell_type": "code",
   "execution_count": 90,
   "metadata": {},
   "outputs": [
    {
     "data": {
      "text/html": [
       "<table class=\"simpletable\">\n",
       "<caption>OLS Regression Results</caption>\n",
       "<tr>\n",
       "  <th>Dep. Variable:</th>      <td>students_num</td>   <th>  R-squared:         </th> <td>   0.000</td> \n",
       "</tr>\n",
       "<tr>\n",
       "  <th>Model:</th>                   <td>OLS</td>       <th>  Adj. R-squared:    </th> <td>  -0.001</td> \n",
       "</tr>\n",
       "<tr>\n",
       "  <th>Method:</th>             <td>Least Squares</td>  <th>  F-statistic:       </th> <td>1.433e-05</td>\n",
       "</tr>\n",
       "<tr>\n",
       "  <th>Date:</th>             <td>Tue, 06 Nov 2018</td> <th>  Prob (F-statistic):</th>  <td> 0.997</td>  \n",
       "</tr>\n",
       "<tr>\n",
       "  <th>Time:</th>                 <td>09:17:17</td>     <th>  Log-Likelihood:    </th> <td> -13101.</td> \n",
       "</tr>\n",
       "<tr>\n",
       "  <th>No. Observations:</th>      <td>  1203</td>      <th>  AIC:               </th> <td>2.621e+04</td>\n",
       "</tr>\n",
       "<tr>\n",
       "  <th>Df Residuals:</th>          <td>  1201</td>      <th>  BIC:               </th> <td>2.622e+04</td>\n",
       "</tr>\n",
       "<tr>\n",
       "  <th>Df Model:</th>              <td>     1</td>      <th>                     </th>     <td> </td>    \n",
       "</tr>\n",
       "<tr>\n",
       "  <th>Covariance Type:</th>      <td>nonrobust</td>    <th>                     </th>     <td> </td>    \n",
       "</tr>\n",
       "</table>\n",
       "<table class=\"simpletable\">\n",
       "<tr>\n",
       "      <td></td>         <th>coef</th>     <th>std err</th>      <th>t</th>      <th>P>|t|</th>  <th>[0.025</th>    <th>0.975]</th>  \n",
       "</tr>\n",
       "<tr>\n",
       "  <th>Intercept</th> <td> 4443.4575</td> <td>  520.377</td> <td>    8.539</td> <td> 0.000</td> <td> 3422.508</td> <td> 5464.407</td>\n",
       "</tr>\n",
       "<tr>\n",
       "  <th>reg21_003</th> <td>   -2.8368</td> <td>  749.440</td> <td>   -0.004</td> <td> 0.997</td> <td>-1473.194</td> <td> 1467.521</td>\n",
       "</tr>\n",
       "</table>\n",
       "<table class=\"simpletable\">\n",
       "<tr>\n",
       "  <th>Omnibus:</th>       <td>1665.976</td> <th>  Durbin-Watson:     </th>  <td>   1.539</td> \n",
       "</tr>\n",
       "<tr>\n",
       "  <th>Prob(Omnibus):</th>  <td> 0.000</td>  <th>  Jarque-Bera (JB):  </th> <td>389893.860</td>\n",
       "</tr>\n",
       "<tr>\n",
       "  <th>Skew:</th>           <td> 7.684</td>  <th>  Prob(JB):          </th>  <td>    0.00</td> \n",
       "</tr>\n",
       "<tr>\n",
       "  <th>Kurtosis:</th>       <td>89.846</td>  <th>  Cond. No.          </th>  <td>    2.58</td> \n",
       "</tr>\n",
       "</table><br/><br/>Warnings:<br/>[1] Standard Errors assume that the covariance matrix of the errors is correctly specified."
      ],
      "text/plain": [
       "<class 'statsmodels.iolib.summary.Summary'>\n",
       "\"\"\"\n",
       "                            OLS Regression Results                            \n",
       "==============================================================================\n",
       "Dep. Variable:           students_num   R-squared:                       0.000\n",
       "Model:                            OLS   Adj. R-squared:                 -0.001\n",
       "Method:                 Least Squares   F-statistic:                 1.433e-05\n",
       "Date:                Tue, 06 Nov 2018   Prob (F-statistic):              0.997\n",
       "Time:                        09:17:17   Log-Likelihood:                -13101.\n",
       "No. Observations:                1203   AIC:                         2.621e+04\n",
       "Df Residuals:                    1201   BIC:                         2.622e+04\n",
       "Df Model:                           1                                         \n",
       "Covariance Type:            nonrobust                                         \n",
       "==============================================================================\n",
       "                 coef    std err          t      P>|t|      [0.025      0.975]\n",
       "------------------------------------------------------------------------------\n",
       "Intercept   4443.4575    520.377      8.539      0.000    3422.508    5464.407\n",
       "reg21_003     -2.8368    749.440     -0.004      0.997   -1473.194    1467.521\n",
       "==============================================================================\n",
       "Omnibus:                     1665.976   Durbin-Watson:                   1.539\n",
       "Prob(Omnibus):                  0.000   Jarque-Bera (JB):           389893.860\n",
       "Skew:                           7.684   Prob(JB):                         0.00\n",
       "Kurtosis:                      89.846   Cond. No.                         2.58\n",
       "==============================================================================\n",
       "\n",
       "Warnings:\n",
       "[1] Standard Errors assume that the covariance matrix of the errors is correctly specified.\n",
       "\"\"\""
      ]
     },
     "execution_count": 90,
     "metadata": {},
     "output_type": "execute_result"
    }
   ],
   "source": [
    "results = smf.ols('students_num ~ reg21_003', data=data).fit()\n",
    "results.summary()"
   ]
  },
  {
   "cell_type": "code",
   "execution_count": 91,
   "metadata": {},
   "outputs": [
    {
     "name": "stdout",
     "output_type": "stream",
     "text": [
      "0.31\n",
      "hispanic 0.24\n",
      "white 0.31\n",
      "black 0.19\n"
     ]
    }
   ],
   "source": [
    "data['students_num'].sum()\n",
    "data[data['reg25_081'] == True]['students_num'].sum()\n",
    "x = data[data['reg25_081'] == True]['students_num'].sum()/data['students_num'].sum()\n",
    "print(x.round(2))\n",
    "x = data[data['reg25_081'] == True]['students_hisp'].sum()/data['students_hisp'].sum()\n",
    "print('hispanic', x.round(2))\n",
    "x = data[data['reg25_081'] == True]['students_white'].sum()/data['students_white'].sum()\n",
    "print('white', x.round(2))\n",
    "x = data[data['reg25_081'] == True]['students_black'].sum()/data['students_black'].sum()\n",
    "print('black', x.round(2))"
   ]
  },
  {
   "cell_type": "code",
   "execution_count": 94,
   "metadata": {},
   "outputs": [
    {
     "name": "stdout",
     "output_type": "stream",
     "text": [
      "students 0.064\n",
      "hispanic 0.051\n",
      "white 0.094\n",
      "black 0.059\n"
     ]
    }
   ],
   "source": [
    "x = data[data['reg21_401'] == True]['students_num'].sum()/data['students_num'].sum()\n",
    "print('students', x.round(3))\n",
    "\n",
    "x = data[data['reg21_401'] == True]['students_hisp_num'].sum()/data['students_hisp_num'].sum()\n",
    "print('hispanic', x.round(3))\n",
    "\n",
    "x = data[data['reg21_401'] == True]['students_white_num'].sum()/data['students_white_num'].sum()\n",
    "print('white', x.round(3))\n",
    "\n",
    "x = data[data['reg21_401'] == True]['students_black_num'].sum()/data['students_black_num'].sum()\n",
    "print('black', x.round(3))"
   ]
  },
  {
   "cell_type": "code",
   "execution_count": 95,
   "metadata": {},
   "outputs": [
    {
     "name": "stdout",
     "output_type": "stream",
     "text": [
      "students 0.129\n",
      "hispanic 0.113\n",
      "white 0.169\n",
      "black 0.127\n"
     ]
    }
   ],
   "source": [
    "x = data[data['reg21_102'] == True]['students_num'].sum()/data['students_num'].sum()\n",
    "print('students', x.round(3))\n",
    "\n",
    "x = data[data['reg21_102'] == True]['students_hisp_num'].sum()/data['students_hisp_num'].sum()\n",
    "print('hispanic', x.round(3))\n",
    "\n",
    "x = data[data['reg21_102'] == True]['students_white_num'].sum()/data['students_white_num'].sum()\n",
    "print('white', x.round(3))\n",
    "\n",
    "x = data[data['reg21_102'] == True]['students_black_num'].sum()/data['students_black_num'].sum()\n",
    "print('black', x.round(3))"
   ]
  },
  {
   "cell_type": "code",
   "execution_count": 97,
   "metadata": {},
   "outputs": [
    {
     "name": "stdout",
     "output_type": "stream",
     "text": [
      "students 0.285\n",
      "hispanic 0.261\n",
      "white 0.295\n",
      "black 0.321\n",
      "asian 0.384\n"
     ]
    }
   ],
   "source": [
    "x = data[data['reg25_092'] == True]['students_num'].sum()/data['students_num'].sum()\n",
    "print('students', x.round(3))\n",
    "\n",
    "x = data[data['reg25_092'] == True]['students_hisp_num'].sum()/data['students_hisp_num'].sum()\n",
    "print('hispanic', x.round(3))\n",
    "\n",
    "x = data[data['reg25_092'] == True]['students_white_num'].sum()/data['students_white_num'].sum()\n",
    "print('white', x.round(3))\n",
    "\n",
    "x = data[data['reg25_092'] == True]['students_black_num'].sum()/data['students_black_num'].sum()\n",
    "print('black', x.round(3))\n",
    "\n",
    "x = data[data['reg25_092'] == True]['students_asian_num'].sum()/data['students_asian_num'].sum()\n",
    "print('asian', x.round(3))"
   ]
  },
  {
   "cell_type": "code",
   "execution_count": null,
   "metadata": {
    "collapsed": true
   },
   "outputs": [],
   "source": []
  }
 ],
 "metadata": {
  "kernelspec": {
   "display_name": "Python [conda env:spacy]",
   "language": "python",
   "name": "conda-env-spacy-py"
  },
  "language_info": {
   "codemirror_mode": {
    "name": "ipython",
    "version": 3
   },
   "file_extension": ".py",
   "mimetype": "text/x-python",
   "name": "python",
   "nbconvert_exporter": "python",
   "pygments_lexer": "ipython3",
   "version": "3.7.0"
  }
 },
 "nbformat": 4,
 "nbformat_minor": 2
}
