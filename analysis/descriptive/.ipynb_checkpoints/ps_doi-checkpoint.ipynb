{
 "cells": [
  {
   "cell_type": "code",
   "execution_count": 2,
   "metadata": {},
   "outputs": [],
   "source": [
    "import sys\n",
    "sys.path.append(\"../\")\n",
    "\n",
    "import pandas as pd\n",
    "import os\n",
    "import statsmodels.formula.api as sm\n",
    "import statsmodels.formula.api as smf\n",
    "\n",
    "from library import regulations\n",
    "from library import characteristics\n",
    "from library import analysis\n",
    "from library import tables\n",
    "\n",
    "from openpyxl import load_workbook\n"
   ]
  },
  {
   "cell_type": "code",
   "execution_count": null,
   "metadata": {},
   "outputs": [],
   "source": [
    "data_path = '/Users/kylieleblancKylie/domino/dofis/data/'\n",
    "table_path = '/Users/kylieleblancKylie/domino/dofis/results/descriptive/'\n",
    "data = pd.read_csv(os.path.join(data_path, 'clean', 'master_data.csv'),\n",
    "                  sep=\",\")\n",
    "data = data[data.year == 'yr1415']\n",
    "data = data[data.eligible == 1]"
   ]
  },
  {
   "cell_type": "code",
   "execution_count": null,
   "metadata": {
    "collapsed": true
   },
   "outputs": [],
   "source": [
    "tf = {True: 1, False: 0}\n",
    "data['doi'] = data['doi'].map(tf)"
   ]
  },
  {
   "cell_type": "code",
   "execution_count": null,
   "metadata": {
    "collapsed": true
   },
   "outputs": [],
   "source": [
    "f1 = 'doi ~ type_urban + type_rural + teachers_exp_ave + teachers_tenure_ave + teachers_turnover_ratio + students_teacher_ratio + students_hisp + students_white + students_black + students_frpl + avescores'\n",
    "f2 = 'doi ~ type_urban + type_rural'\n",
    "f3 = 'doi ~ teachers_exp_ave + teachers_tenure_ave + teachers_turnover_ratio + students_teacher_ratio'\n",
    "f4 = 'doi ~ students_hisp + students_white + students_black + students_frpl + avescores'\n"
   ]
  },
  {
   "cell_type": "code",
   "execution_count": null,
   "metadata": {
    "collapsed": true
   },
   "outputs": [],
   "source": [
    "f1_list = ['type_urban', 'type_rural',\n",
    "           'teachers_exp_ave', 'teachers_tenure_ave', 'teachers_turnover_ratio', 'students_teacher_ratio',\n",
    "           'students_hisp', 'students_white', 'students_black', 'students_frpl', 'avescores']"
   ]
  },
  {
   "cell_type": "code",
   "execution_count": null,
   "metadata": {},
   "outputs": [],
   "source": [
    "def model_to_excel(data, y, x_list, file, start_row, start_col):\n",
    "    wb = load_workbook(file)\n",
    "    ws = wb.active\n",
    "    \n",
    "    col_n = start_col\n",
    "    row_n = start_row\n",
    "    \n",
    "    # create formula\n",
    "    i = 1\n",
    "    x_str = ''\n",
    "    for x in x_list:\n",
    "        if i == 1:\n",
    "            x_str = x_str + x\n",
    "        if i > 1:\n",
    "            x_str = x_str + ' + ' + x\n",
    "        i += 1\n",
    "    x_str = x_str + '- 1'\n",
    "    formula = y + ' ~ ' + x_str\n",
    "    \n",
    "    # run\n",
    "    result = smf.logit(formula=formula, data=data).fit()\n",
    "    # to excel\n",
    "    for x in x_list:\n",
    "        p = result.pvalues[x]\n",
    "        coef = result.params[x].round(2)\n",
    "        if p >=.05:\n",
    "            coef = str(coef)\n",
    "        if p < .05:\n",
    "            coef = str(coef) + '*'\n",
    "        if p < .01:\n",
    "            coef = str(coef) + '**'\n",
    "        if p < .01:\n",
    "            coef = str(coef) + '***'\n",
    "        ws.cell(row=row_n, column=col_n).value = coef\n",
    "        row_n = row_n + 1\n",
    "        ws.cell(row=row_n, column=col_n).value = '(' + str(result.bse[x].round(2)) + ')'\n",
    "        row_n = row_n + 1\n",
    "    \n",
    "    ws.cell(row=row_n, column=col_n).value = result.llf.round(2)\n",
    "    row_n = row_n + 1\n",
    "    ws.cell(row=row_n, column=col_n).value = result.prsquared.round(2)\n",
    "    wb.save(file)\n",
    "    \n",
    "    return result.summary()\n",
    "    \n",
    "model_to_excel(data, y = 'doi', x_list = f1_list, file = table_path + 'PS_DOI.xlsx', start_row = 3, start_col = 2)"
   ]
  },
  {
   "cell_type": "code",
   "execution_count": null,
   "metadata": {},
   "outputs": [],
   "source": [
    "f = 'doi ~ type_urban + type_suburban + type_town + teachers_exp_ave + teachers_tenure_ave + teachers_turnover_ratio + students_teacher_ratio + students_hisp + students_white + students_black + students_frpl + avescores -1'\n",
    "result = smf.logit(formula=str(f), data=data).fit()\n",
    "result.summary()"
   ]
  },
  {
   "cell_type": "code",
   "execution_count": null,
   "metadata": {
    "collapsed": true
   },
   "outputs": [],
   "source": []
  }
 ],
 "metadata": {
  "kernelspec": {
   "display_name": "Python [conda env:spacy]",
   "language": "python",
   "name": "conda-env-spacy-py"
  },
  "language_info": {
   "codemirror_mode": {
    "name": "ipython",
    "version": 3
   },
   "file_extension": ".py",
   "mimetype": "text/x-python",
   "name": "python",
   "nbconvert_exporter": "python",
   "pygments_lexer": "ipython3",
   "version": "3.7.0"
  }
 },
 "nbformat": 4,
 "nbformat_minor": 2
}
