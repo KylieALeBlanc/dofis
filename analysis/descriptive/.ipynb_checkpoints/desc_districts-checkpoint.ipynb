{
 "cells": [
  {
   "cell_type": "code",
   "execution_count": 1,
   "metadata": {
    "collapsed": true
   },
   "outputs": [],
   "source": [
    "import sys\n",
    "sys.path.append(\"../\")\n",
    "\n",
    "import pandas as pd\n",
    "import os\n",
    "import re\n",
    "import numpy as np\n",
    "from library import tables"
   ]
  },
  {
   "cell_type": "code",
   "execution_count": 2,
   "metadata": {},
   "outputs": [
    {
     "name": "stderr",
     "output_type": "stream",
     "text": [
      "/Users/kylieleblancKylie/anaconda/lib/python3.5/site-packages/IPython/core/interactiveshell.py:2698: DtypeWarning: Columns (7,8) have mixed types. Specify dtype option on import or set low_memory=False.\n",
      "  interactivity=interactivity, compiler=compiler, result=result)\n"
     ]
    }
   ],
   "source": [
    "data_path = '/Users/kylieleblancKylie/domino/dofis/data/'\n",
    "table_path = '/Users/kylieleblancKylie/domino/dofis/results/descriptive/'\n",
    "data = pd.read_csv(os.path.join(data_path, 'clean', 'master_data.csv'))\n",
    "data = data[data.year == 'yr1718']"
   ]
  },
  {
   "cell_type": "markdown",
   "metadata": {},
   "source": [
    "# District Characteristics"
   ]
  },
  {
   "cell_type": "code",
   "execution_count": 3,
   "metadata": {},
   "outputs": [
    {
     "name": "stdout",
     "output_type": "stream",
     "text": [
      "There are 1203 districts in Texas.\n",
      "Of these, 180 are charters.\n",
      "Of traditional public schools only 33 are ineligible for DOI status.\n",
      "785 districts are districts of innovation.\n"
     ]
    },
    {
     "name": "stderr",
     "output_type": "stream",
     "text": [
      "/Users/kylieleblancKylie/anaconda/lib/python3.5/site-packages/ipykernel/__main__.py:3: UserWarning: Boolean Series key will be reindexed to match DataFrame index.\n",
      "  app.launch_new_instance()\n"
     ]
    }
   ],
   "source": [
    "print('There are', len(data), 'districts in Texas.')\n",
    "print('Of these,', len(data[data.distischarter == 'Y']), 'are charters.')\n",
    "print('Of traditional public schools only', len(data[data.distischarter == 'N'][data.eligible == 0]), 'are ineligible for DOI status.')\n",
    "print(len(data[data.doi == True]), 'districts are districts of innovation.')"
   ]
  },
  {
   "cell_type": "code",
   "execution_count": 4,
   "metadata": {},
   "outputs": [
    {
     "data": {
      "text/plain": [
       "RURAL                            461\n",
       "CHARTER SCHOOL DISTRICTS         180\n",
       "NON-METROPOLITAN STABLE          174\n",
       "OTHER CENTRAL CITY SUBURBAN      164\n",
       "MAJOR SUBURBAN                    79\n",
       "INDEPENDENT TOWN                  68\n",
       "OTHER CENTRAL CITY                38\n",
       "NON-METROPOLITAN FAST GROWING     28\n",
       "MAJOR URBAN                       11\n",
       "Name: type_description, dtype: int64"
      ]
     },
     "execution_count": 4,
     "metadata": {},
     "output_type": "execute_result"
    }
   ],
   "source": [
    "data['type_description'].value_counts()"
   ]
  },
  {
   "cell_type": "code",
   "execution_count": 5,
   "metadata": {},
   "outputs": [
    {
     "data": {
      "text/plain": [
       "geography\n",
       "Rural         428.488323\n",
       "Suburban     9411.817844\n",
       "Town         2070.489286\n",
       "Urban       11095.628415\n",
       "Name: students_num, dtype: float64"
      ]
     },
     "execution_count": 5,
     "metadata": {},
     "output_type": "execute_result"
    }
   ],
   "source": [
    "data.groupby(['geography'])['students_num'].mean()"
   ]
  },
  {
   "cell_type": "code",
   "execution_count": 6,
   "metadata": {},
   "outputs": [
    {
     "data": {
      "text/plain": [
       "doi    distischarter  eligible\n",
       "False  N              False        24\n",
       "                      True        214\n",
       "       Y              False       180\n",
       "True   N              False         9\n",
       "                      True        776\n",
       "Name: district, dtype: int64"
      ]
     },
     "execution_count": 6,
     "metadata": {},
     "output_type": "execute_result"
    }
   ],
   "source": [
    "data.groupby(['doi', 'distischarter', 'eligible'])['district'].count()"
   ]
  },
  {
   "cell_type": "code",
   "execution_count": 7,
   "metadata": {},
   "outputs": [
    {
     "data": {
      "text/html": [
       "<div>\n",
       "<style scoped>\n",
       "    .dataframe tbody tr th:only-of-type {\n",
       "        vertical-align: middle;\n",
       "    }\n",
       "\n",
       "    .dataframe tbody tr th {\n",
       "        vertical-align: top;\n",
       "    }\n",
       "\n",
       "    .dataframe thead th {\n",
       "        text-align: right;\n",
       "    }\n",
       "</style>\n",
       "<table border=\"1\" class=\"dataframe\">\n",
       "  <thead>\n",
       "    <tr style=\"text-align: right;\">\n",
       "      <th></th>\n",
       "      <th>district</th>\n",
       "      <th>proportion</th>\n",
       "    </tr>\n",
       "    <tr>\n",
       "      <th>geography</th>\n",
       "      <th></th>\n",
       "      <th></th>\n",
       "    </tr>\n",
       "  </thead>\n",
       "  <tbody>\n",
       "    <tr>\n",
       "      <th>Rural</th>\n",
       "      <td>471</td>\n",
       "      <td>0.391521</td>\n",
       "    </tr>\n",
       "    <tr>\n",
       "      <th>Suburban</th>\n",
       "      <td>269</td>\n",
       "      <td>0.223608</td>\n",
       "    </tr>\n",
       "    <tr>\n",
       "      <th>Town</th>\n",
       "      <td>280</td>\n",
       "      <td>0.232751</td>\n",
       "    </tr>\n",
       "    <tr>\n",
       "      <th>Urban</th>\n",
       "      <td>183</td>\n",
       "      <td>0.152120</td>\n",
       "    </tr>\n",
       "  </tbody>\n",
       "</table>\n",
       "</div>"
      ],
      "text/plain": [
       "           district  proportion\n",
       "geography                      \n",
       "Rural           471    0.391521\n",
       "Suburban        269    0.223608\n",
       "Town            280    0.232751\n",
       "Urban           183    0.152120"
      ]
     },
     "execution_count": 7,
     "metadata": {},
     "output_type": "execute_result"
    }
   ],
   "source": [
    "countXgeo = pd.DataFrame(data.groupby(['geography'])['district'].count())\n",
    "countXgeo['proportion'] = countXgeo['district']/countXgeo['district'].sum()\n",
    "countXgeo"
   ]
  },
  {
   "cell_type": "code",
   "execution_count": 8,
   "metadata": {},
   "outputs": [
    {
     "data": {
      "text/html": [
       "<div>\n",
       "<style scoped>\n",
       "    .dataframe tbody tr th:only-of-type {\n",
       "        vertical-align: middle;\n",
       "    }\n",
       "\n",
       "    .dataframe tbody tr th {\n",
       "        vertical-align: top;\n",
       "    }\n",
       "\n",
       "    .dataframe thead th {\n",
       "        text-align: right;\n",
       "    }\n",
       "</style>\n",
       "<table border=\"1\" class=\"dataframe\">\n",
       "  <thead>\n",
       "    <tr style=\"text-align: right;\">\n",
       "      <th></th>\n",
       "      <th>district</th>\n",
       "      <th>proportion</th>\n",
       "    </tr>\n",
       "    <tr>\n",
       "      <th>type_description</th>\n",
       "      <th></th>\n",
       "      <th></th>\n",
       "    </tr>\n",
       "  </thead>\n",
       "  <tbody>\n",
       "    <tr>\n",
       "      <th>CHARTER SCHOOL DISTRICTS</th>\n",
       "      <td>180</td>\n",
       "      <td>0.149626</td>\n",
       "    </tr>\n",
       "    <tr>\n",
       "      <th>INDEPENDENT TOWN</th>\n",
       "      <td>68</td>\n",
       "      <td>0.056525</td>\n",
       "    </tr>\n",
       "    <tr>\n",
       "      <th>MAJOR SUBURBAN</th>\n",
       "      <td>79</td>\n",
       "      <td>0.065669</td>\n",
       "    </tr>\n",
       "    <tr>\n",
       "      <th>MAJOR URBAN</th>\n",
       "      <td>11</td>\n",
       "      <td>0.009144</td>\n",
       "    </tr>\n",
       "    <tr>\n",
       "      <th>NON-METROPOLITAN FAST GROWING</th>\n",
       "      <td>28</td>\n",
       "      <td>0.023275</td>\n",
       "    </tr>\n",
       "    <tr>\n",
       "      <th>NON-METROPOLITAN STABLE</th>\n",
       "      <td>174</td>\n",
       "      <td>0.144638</td>\n",
       "    </tr>\n",
       "    <tr>\n",
       "      <th>OTHER CENTRAL CITY</th>\n",
       "      <td>38</td>\n",
       "      <td>0.031588</td>\n",
       "    </tr>\n",
       "    <tr>\n",
       "      <th>OTHER CENTRAL CITY SUBURBAN</th>\n",
       "      <td>164</td>\n",
       "      <td>0.136326</td>\n",
       "    </tr>\n",
       "    <tr>\n",
       "      <th>RURAL</th>\n",
       "      <td>461</td>\n",
       "      <td>0.383209</td>\n",
       "    </tr>\n",
       "  </tbody>\n",
       "</table>\n",
       "</div>"
      ],
      "text/plain": [
       "                               district  proportion\n",
       "type_description                                   \n",
       "CHARTER SCHOOL DISTRICTS            180    0.149626\n",
       "INDEPENDENT TOWN                     68    0.056525\n",
       "MAJOR SUBURBAN                       79    0.065669\n",
       "MAJOR URBAN                          11    0.009144\n",
       "NON-METROPOLITAN FAST GROWING        28    0.023275\n",
       "NON-METROPOLITAN STABLE             174    0.144638\n",
       "OTHER CENTRAL CITY                   38    0.031588\n",
       "OTHER CENTRAL CITY SUBURBAN         164    0.136326\n",
       "RURAL                               461    0.383209"
      ]
     },
     "execution_count": 8,
     "metadata": {},
     "output_type": "execute_result"
    }
   ],
   "source": [
    "countXtype = pd.DataFrame(data.groupby(['type_description'])['district'].count())\n",
    "countXtype['proportion'] = countXtype['district']/countXtype['district'].sum()\n",
    "countXtype"
   ]
  },
  {
   "cell_type": "code",
   "execution_count": 9,
   "metadata": {},
   "outputs": [
    {
     "data": {
      "text/plain": [
       "8422    MAJOR SUBURBAN\n",
       "Name: type_description, dtype: object"
      ]
     },
     "execution_count": 9,
     "metadata": {},
     "output_type": "execute_result"
    }
   ],
   "source": [
    "data[data.distname == \"LEANDER ISD\"].type_description"
   ]
  }
 ],
 "metadata": {
  "kernelspec": {
   "display_name": "Python [conda env:anaconda]",
   "language": "python",
   "name": "conda-env-anaconda-py"
  },
  "language_info": {
   "codemirror_mode": {
    "name": "ipython",
    "version": 3
   },
   "file_extension": ".py",
   "mimetype": "text/x-python",
   "name": "python",
   "nbconvert_exporter": "python",
   "pygments_lexer": "ipython3",
   "version": "3.5.4"
  }
 },
 "nbformat": 4,
 "nbformat_minor": 2
}
