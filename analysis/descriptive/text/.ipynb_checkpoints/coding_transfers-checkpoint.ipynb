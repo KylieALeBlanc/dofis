{
 "cells": [
  {
   "cell_type": "code",
   "execution_count": 1,
   "metadata": {},
   "outputs": [
    {
     "name": "stderr",
     "output_type": "stream",
     "text": [
      "/Users/kylieleblancKylie/anaconda/envs/spacy/lib/python3.7/importlib/_bootstrap.py:219: RuntimeWarning: numpy.dtype size changed, may indicate binary incompatibility. Expected 96, got 88\n",
      "  return f(*args, **kwds)\n",
      "/Users/kylieleblancKylie/anaconda/envs/spacy/lib/python3.7/importlib/_bootstrap.py:219: RuntimeWarning: numpy.ufunc size changed, may indicate binary incompatibility. Expected 192, got 176\n",
      "  return f(*args, **kwds)\n",
      "/Users/kylieleblancKylie/anaconda/envs/spacy/lib/python3.7/importlib/_bootstrap.py:219: RuntimeWarning: numpy.dtype size changed, may indicate binary incompatibility. Expected 96, got 88\n",
      "  return f(*args, **kwds)\n",
      "/Users/kylieleblancKylie/anaconda/envs/spacy/lib/python3.7/importlib/_bootstrap.py:219: RuntimeWarning: numpy.ufunc size changed, may indicate binary incompatibility. Expected 192, got 176\n",
      "  return f(*args, **kwds)\n"
     ]
    }
   ],
   "source": [
    "import pandas as pd\n",
    "import os\n",
    "import re\n",
    "import spacy\n",
    "import en_core_web_sm\n",
    "from spacy.matcher import Matcher\n",
    "from IPython.display import clear_output\n"
   ]
  },
  {
   "cell_type": "markdown",
   "metadata": {},
   "source": [
    "# Transfers"
   ]
  },
  {
   "cell_type": "code",
   "execution_count": 2,
   "metadata": {},
   "outputs": [
    {
     "data": {
      "text/html": [
       "<div>\n",
       "<style scoped>\n",
       "    .dataframe tbody tr th:only-of-type {\n",
       "        vertical-align: middle;\n",
       "    }\n",
       "\n",
       "    .dataframe tbody tr th {\n",
       "        vertical-align: top;\n",
       "    }\n",
       "\n",
       "    .dataframe thead th {\n",
       "        text-align: right;\n",
       "    }\n",
       "</style>\n",
       "<table border=\"1\" class=\"dataframe\">\n",
       "  <thead>\n",
       "    <tr style=\"text-align: right;\">\n",
       "      <th></th>\n",
       "      <th>Unnamed: 0</th>\n",
       "      <th>district</th>\n",
       "      <th>link</th>\n",
       "      <th>text</th>\n",
       "      <th>variable</th>\n",
       "      <th>value</th>\n",
       "      <th>phrase</th>\n",
       "    </tr>\n",
       "  </thead>\n",
       "  <tbody>\n",
       "    <tr>\n",
       "      <th>0</th>\n",
       "      <td>5467</td>\n",
       "      <td>Abbott ISD</td>\n",
       "      <td>https://www.abbottisd.org/ourpages/auto/2018/3...</td>\n",
       "      <td>1 Abbott Independent School District District ...</td>\n",
       "      <td>reg25_036</td>\n",
       "      <td>1</td>\n",
       "      <td>|25.036) TRANSFER STUDENTS. Currently, under T...</td>\n",
       "    </tr>\n",
       "    <tr>\n",
       "      <th>1</th>\n",
       "      <td>5471</td>\n",
       "      <td>Adrian ISD</td>\n",
       "      <td>http://www.adrianisd.net/UserFiles/Servers/Ser...</td>\n",
       "      <td>Adrian ISD District of Innovation Plan House B...</td>\n",
       "      <td>reg25_036</td>\n",
       "      <td>1</td>\n",
       "      <td>|25.036 FDA Local Texas Education Code states ...</td>\n",
       "    </tr>\n",
       "    <tr>\n",
       "      <th>2</th>\n",
       "      <td>5472</td>\n",
       "      <td>Agua Dulce ISD</td>\n",
       "      <td>https://tx02206063.schoolwires.net/cms/lib/TX0...</td>\n",
       "      <td>Microsoft Word - DOI 2017-2022.docx Agua Dulce...</td>\n",
       "      <td>reg25_036</td>\n",
       "      <td>1</td>\n",
       "      <td>|25.036. TRANSFER OF STUDENT. Agua Dulce ISD D...</td>\n",
       "    </tr>\n",
       "    <tr>\n",
       "      <th>3</th>\n",
       "      <td>5479</td>\n",
       "      <td>Alpine ISD</td>\n",
       "      <td>https://s3.amazonaws.com/scschoolfiles/389/alp...</td>\n",
       "      <td>Alpine Independent School District Alpine ISD ...</td>\n",
       "      <td>reg25_036</td>\n",
       "      <td>1</td>\n",
       "      <td>|25.036) (FDA LOCAL) Alpine ISD Board Goal - 1...</td>\n",
       "    </tr>\n",
       "    <tr>\n",
       "      <th>4</th>\n",
       "      <td>5480</td>\n",
       "      <td>Alto ISD</td>\n",
       "      <td>https://1.cdn.edl.io/zhIfqqIkGkDfT1eSTIx5SAJ9K...</td>\n",
       "      <td>Microsoft Word - Alto ISD DOI 17-18 final2 (1)...</td>\n",
       "      <td>reg25_036</td>\n",
       "      <td>1</td>\n",
       "      <td>|25.036) Currently A district may choose to ac...</td>\n",
       "    </tr>\n",
       "  </tbody>\n",
       "</table>\n",
       "</div>"
      ],
      "text/plain": [
       "   Unnamed: 0        district  \\\n",
       "0        5467      Abbott ISD   \n",
       "1        5471      Adrian ISD   \n",
       "2        5472  Agua Dulce ISD   \n",
       "3        5479      Alpine ISD   \n",
       "4        5480        Alto ISD   \n",
       "\n",
       "                                                link  \\\n",
       "0  https://www.abbottisd.org/ourpages/auto/2018/3...   \n",
       "1  http://www.adrianisd.net/UserFiles/Servers/Ser...   \n",
       "2  https://tx02206063.schoolwires.net/cms/lib/TX0...   \n",
       "3  https://s3.amazonaws.com/scschoolfiles/389/alp...   \n",
       "4  https://1.cdn.edl.io/zhIfqqIkGkDfT1eSTIx5SAJ9K...   \n",
       "\n",
       "                                                text   variable  value  \\\n",
       "0  1 Abbott Independent School District District ...  reg25_036      1   \n",
       "1  Adrian ISD District of Innovation Plan House B...  reg25_036      1   \n",
       "2  Microsoft Word - DOI 2017-2022.docx Agua Dulce...  reg25_036      1   \n",
       "3  Alpine Independent School District Alpine ISD ...  reg25_036      1   \n",
       "4  Microsoft Word - Alto ISD DOI 17-18 final2 (1)...  reg25_036      1   \n",
       "\n",
       "                                              phrase  \n",
       "0  |25.036) TRANSFER STUDENTS. Currently, under T...  \n",
       "1  |25.036 FDA Local Texas Education Code states ...  \n",
       "2  |25.036. TRANSFER OF STUDENT. Agua Dulce ISD D...  \n",
       "3  |25.036) (FDA LOCAL) Alpine ISD Board Goal - 1...  \n",
       "4  |25.036) Currently A district may choose to ac...  "
      ]
     },
     "execution_count": 2,
     "metadata": {},
     "output_type": "execute_result"
    }
   ],
   "source": [
    "data_path = '/Users/kylieleblancKylie/domino/dofis/data/'\n",
    "\n",
    "docs = pd.read_csv(os.path.join(data_path, 'clean', 'phrases_transfers.csv'),\n",
    "                  sep=\",\")\n",
    "docs.head()"
   ]
  },
  {
   "cell_type": "code",
   "execution_count": 3,
   "metadata": {
    "collapsed": true
   },
   "outputs": [],
   "source": [
    "docs_to_label = docs.sample(n = 50, random_state = 45)\n",
    "docs_to_label = docs_to_label[['phrase', 'link']]\n",
    "docs_to_label = docs_to_label.rename({'phrase': 'text', 'link': 'source'}, axis = 1)\n",
    "#docs_to_label.to_csv(os.path.join(data_path, 'plans', 'certification_to_label.csv'), header = True)"
   ]
  },
  {
   "cell_type": "code",
   "execution_count": 4,
   "metadata": {
    "collapsed": true
   },
   "outputs": [],
   "source": [
    "relabel_docs = True"
   ]
  },
  {
   "cell_type": "code",
   "execution_count": 5,
   "metadata": {},
   "outputs": [
    {
     "data": {
      "text/plain": [
       "50"
      ]
     },
     "execution_count": 5,
     "metadata": {},
     "output_type": "execute_result"
    }
   ],
   "source": [
    "len(docs_to_label)"
   ]
  },
  {
   "cell_type": "code",
   "execution_count": 7,
   "metadata": {},
   "outputs": [
    {
     "name": "stdout",
     "output_type": "stream",
     "text": [
      "https://s3.amazonaws.com/scschoolfiles/389/alpine_isd__district_of_innovation_plan_-_final_approved.pdf|25.036) (FDA LOCAL) Alpine ISD Board Goal - 1 Current Law Currently, under Texas Education Code 25.036, a district may choose to accept, as transfers, students who are not entitled to enroll in the district, but TEC 25.036, has been interpreted to require a transfer to be for a period of one school year. Proposed The district is seeking to eliminate the provision of a one school year commitment in accepting transfer students. Transfer students will be admitted upon district approval, following district requirements and procedures. Transfer students not meeting the local guidelines, may be subject to immediate revocation of the transfer status. Alpine ISD Local Guidelines Transfers shall be granted for one school year at a time, based on the transfer requirements, available space, and instructional staff. A new, written application shall be required for each school year that a transfer is sought. Nonresident students, who voluntarily withdraw from Alpine ISD during the school year, will not be permitted to reapply for transfer status during that same school year. Transfer students may have their transfer status immediately revoked if they do not meet the following academic and conduct requirements: 1. Maintain at least a 90 percent attendance rate. 2. Maintain at least a 70 average in all core subjects. 3. Demonstrate competency on state assessments, if applicable and/or pass appropriate state assessments. 4. Comply with the Student Code and Conduct and maintain good conduct. Any assignment, to an in- school suspension program, disciplinary alternative education program, suspension, and/or felony conviction is not considered good conduct. Transfer students shall be subject to the same disciplinary consequences as all other Alpine ISD students. Approved: June 28, 2017 - Alpine ISD Board of Trustees Alpine ISD will attempt to provide the same resources to transfer students, as all other students receive, prior to their transfer status being revoked. The resources include, academic tutorials and assistance, behavioral interventions, parent/guardian meetings, and private conversations with the campus counselor. A transfer student, whose transfer status is revoked, is not permitted to reapply for transfer status during that same school year. The principal and/or counselor, with teacher input, will review the parameters of the transfer student agreement each grading cycle to determine if there are any violation of the terms within the agreement. LENGTH OF SCHOOL DAY (Texas Education Code 25.082(a)) (EC LEGAL) Board Goal – 1, 2 Currently Law Currently, under Texas Education Code 25.082(a), a school day shall be at least seven hours each day, including intermissions and recesses. Proposed Exemption from the seven hour or 420‐minute day requirement would allow Alpine ISD the flexibility needed to alter the school day schedule on selected days, whenever it is locally determined as necessary or beneficial to the district and its stakeholders. While there is a waiver process available to request an exemption from this requirement, the waiver is limited to a 6‐day maximum number for the school year. This exemption would give the district a significant amount of local control over scheduling, above and beyond the 6 day maximum as needed. This would allow the district the flexibility to schedule non‐ instructional time into the schedule to allow teachers to analyze student data and engage in targeted, relevant professional development. Alpine ISD Guidelines Based on specific needs, each campus will have scheduling flexibility which may result in less than a 420- minute day. All scheduling decisions will be geared towards maximized instructional time, and will focus on student needs, development levels and skills. Campus schedules, with less than 420-minutes days, will be approved by the superintendent. All students will receive the required 75,600 minutes of instruction as required each school year. Approved: June 28, 2017 - Alpine ISD Board of|25.036, a district may choose to accept, as transfers, students who are not entitled to enroll in the district, but TEC 25.036, has been interpreted to require a transfer to be for a period of one school year. Proposed The district is seeking to eliminate the provision of a one school year commitment in accepting transfer students. Transfer students will be admitted upon district approval, following district requirements and procedures. Transfer students not meeting the local guidelines, may be subject to immediate revocation of the transfer status. Alpine ISD Local Guidelines Transfers shall be granted for one school year at a time, based on the transfer requirements, available space, and instructional staff. A new, written application shall be required for each school year that a transfer is sought. Nonresident students, who voluntarily withdraw from Alpine ISD during the school year, will not be permitted to reapply for transfer status during that same school year. Transfer students may have their transfer status immediately revoked if they do not meet the following academic and conduct requirements: 1. Maintain at least a 90 percent attendance rate. 2. Maintain at least a 70 average in all core subjects. 3. Demonstrate competency on state assessments, if applicable and/or pass appropriate state assessments. 4. Comply with the Student Code and Conduct and maintain good conduct. Any assignment, to an in- school suspension program, disciplinary alternative education program, suspension, and/or felony conviction is not considered good conduct. Transfer students shall be subject to the same disciplinary consequences as all other Alpine ISD students. Approved: June 28, 2017 - Alpine ISD Board of Trustees Alpine ISD will attempt to provide the same resources to transfer students, as all other students receive, prior to their transfer status being revoked. The resources include, academic tutorials and assistance, behavioral interventions, parent/guardian meetings, and private conversations with the campus counselor. A transfer student, whose transfer status is revoked, is not permitted to reapply for transfer status during that same school year. The principal and/or counselor, with teacher input, will review the parameters of the transfer student agreement each grading cycle to determine if there are any violation of the terms within the agreement. LENGTH OF SCHOOL DAY (Texas Education Code 25.082(a)) (EC LEGAL) Board Goal – 1, 2 Currently Law Currently, under Texas Education Code 25.082(a), a school day shall be at least seven hours each day, including intermissions and recesses. Proposed Exemption from the seven hour or 420‐minute day requirement would allow Alpine ISD the flexibility needed to alter the school day schedule on selected days, whenever it is locally determined as necessary or beneficial to the district and its stakeholders. While there is a waiver process available to request an exemption from this requirement, the waiver is limited to a 6‐day maximum number for the school year. This exemption would give the district a significant amount of local control over scheduling, above and beyond the 6 day maximum as needed. This would allow the district the flexibility to schedule non‐ instructional time into the schedule to allow teachers to analyze student data and engage in targeted, relevant professional development. Alpine ISD Guidelines Based on specific needs, each campus will have scheduling flexibility which may result in less than a 420- minute day. All scheduling decisions will be geared towards maximized instructional time, and will focus on student needs, development levels and skills. Campus schedules, with less than 420-minutes days, will be approved by the superintendent. All students will receive the required 75,600 minutes of instruction as required each school year. Approved: June 28, 2017 - Alpine ISD Board of|25.036, has been interpreted to require a transfer to be for a period of one school year. Proposed The district is seeking to eliminate the provision of a one school year commitment in accepting transfer students. Transfer students will be admitted upon district approval, following district requirements and procedures. Transfer students not meeting the local guidelines, may be subject to immediate revocation of the transfer status. Alpine ISD Local Guidelines Transfers shall be granted for one school year at a time, based on the transfer requirements, available space, and instructional staff. A new, written application shall be required for each school year that a transfer is sought. Nonresident students, who voluntarily withdraw from Alpine ISD during the school year, will not be permitted to reapply for transfer status during that same school year. Transfer students may have their transfer status immediately revoked if they do not meet the following academic and conduct requirements: 1. Maintain at least a 90 percent attendance rate. 2. Maintain at least a 70 average in all core subjects. 3. Demonstrate competency on state assessments, if applicable and/or pass appropriate state assessments. 4. Comply with the Student Code and Conduct and maintain good conduct. Any assignment, to an in- school suspension program, disciplinary alternative education program, suspension, and/or felony conviction is not considered good conduct. Transfer students shall be subject to the same disciplinary consequences as all other Alpine ISD students. Approved: June 28, 2017 - Alpine ISD Board of Trustees Alpine ISD will attempt to provide the same resources to transfer students, as all other students receive, prior to their transfer status being revoked. The resources include, academic tutorials and assistance, behavioral interventions, parent/guardian meetings, and private conversations with the campus counselor. A transfer student, whose transfer status is revoked, is not permitted to reapply for transfer status during that same school year. The principal and/or counselor, with teacher input, will review the parameters of the transfer student agreement each grading cycle to determine if there are any violation of the terms within the agreement. LENGTH OF SCHOOL DAY (Texas Education Code 25.082(a)) (EC LEGAL) Board Goal – 1, 2 Currently Law Currently, under Texas Education Code 25.082(a), a school day shall be at least seven hours each day, including intermissions and recesses. Proposed Exemption from the seven hour or 420‐minute day requirement would allow Alpine ISD the flexibility needed to alter the school day schedule on selected days, whenever it is locally determined as necessary or beneficial to the district and its stakeholders. While there is a waiver process available to request an exemption from this requirement, the waiver is limited to a 6‐day maximum number for the school year. This exemption would give the district a significant amount of local control over scheduling, above and beyond the 6 day maximum as needed. This would allow the district the flexibility to schedule non‐ instructional time into the schedule to allow teachers to analyze student data and engage in targeted, relevant professional development. Alpine ISD Guidelines Based on specific needs, each campus will have scheduling flexibility which may result in less than a 420- minute day. All scheduling decisions will be geared towards maximized instructional time, and will focus on student needs, development levels and skills. Campus schedules, with less than 420-minutes days, will be approved by the superintendent. All students will receive the required 75,600 minutes of instruction as required each school year. Approved: June 28, 2017 - Alpine ISD Board ofMentions student behavior0\n"
     ]
    },
    {
     "ename": "KeyboardInterrupt",
     "evalue": "",
     "output_type": "error",
     "traceback": [
      "\u001b[0;31m---------------------------------------------------------------------------\u001b[0m",
      "\u001b[0;31mKeyboardInterrupt\u001b[0m                         Traceback (most recent call last)",
      "\u001b[0;32m~/anaconda/envs/spacy/lib/python3.7/site-packages/ipykernel/kernelbase.py\u001b[0m in \u001b[0;36m_input_request\u001b[0;34m(self, prompt, ident, parent, password)\u001b[0m\n\u001b[1;32m    728\u001b[0m             \u001b[0;32mtry\u001b[0m\u001b[0;34m:\u001b[0m\u001b[0;34m\u001b[0m\u001b[0m\n\u001b[0;32m--> 729\u001b[0;31m                 \u001b[0mident\u001b[0m\u001b[0;34m,\u001b[0m \u001b[0mreply\u001b[0m \u001b[0;34m=\u001b[0m \u001b[0mself\u001b[0m\u001b[0;34m.\u001b[0m\u001b[0msession\u001b[0m\u001b[0;34m.\u001b[0m\u001b[0mrecv\u001b[0m\u001b[0;34m(\u001b[0m\u001b[0mself\u001b[0m\u001b[0;34m.\u001b[0m\u001b[0mstdin_socket\u001b[0m\u001b[0;34m,\u001b[0m \u001b[0;36m0\u001b[0m\u001b[0;34m)\u001b[0m\u001b[0;34m\u001b[0m\u001b[0m\n\u001b[0m\u001b[1;32m    730\u001b[0m             \u001b[0;32mexcept\u001b[0m \u001b[0mException\u001b[0m\u001b[0;34m:\u001b[0m\u001b[0;34m\u001b[0m\u001b[0m\n",
      "\u001b[0;32m~/anaconda/envs/spacy/lib/python3.7/site-packages/jupyter_client/session.py\u001b[0m in \u001b[0;36mrecv\u001b[0;34m(self, socket, mode, content, copy)\u001b[0m\n\u001b[1;32m    802\u001b[0m         \u001b[0;32mtry\u001b[0m\u001b[0;34m:\u001b[0m\u001b[0;34m\u001b[0m\u001b[0m\n\u001b[0;32m--> 803\u001b[0;31m             \u001b[0mmsg_list\u001b[0m \u001b[0;34m=\u001b[0m \u001b[0msocket\u001b[0m\u001b[0;34m.\u001b[0m\u001b[0mrecv_multipart\u001b[0m\u001b[0;34m(\u001b[0m\u001b[0mmode\u001b[0m\u001b[0;34m,\u001b[0m \u001b[0mcopy\u001b[0m\u001b[0;34m=\u001b[0m\u001b[0mcopy\u001b[0m\u001b[0;34m)\u001b[0m\u001b[0;34m\u001b[0m\u001b[0m\n\u001b[0m\u001b[1;32m    804\u001b[0m         \u001b[0;32mexcept\u001b[0m \u001b[0mzmq\u001b[0m\u001b[0;34m.\u001b[0m\u001b[0mZMQError\u001b[0m \u001b[0;32mas\u001b[0m \u001b[0me\u001b[0m\u001b[0;34m:\u001b[0m\u001b[0;34m\u001b[0m\u001b[0m\n",
      "\u001b[0;32m~/anaconda/envs/spacy/lib/python3.7/site-packages/zmq/sugar/socket.py\u001b[0m in \u001b[0;36mrecv_multipart\u001b[0;34m(self, flags, copy, track)\u001b[0m\n\u001b[1;32m    466\u001b[0m         \"\"\"\n\u001b[0;32m--> 467\u001b[0;31m         \u001b[0mparts\u001b[0m \u001b[0;34m=\u001b[0m \u001b[0;34m[\u001b[0m\u001b[0mself\u001b[0m\u001b[0;34m.\u001b[0m\u001b[0mrecv\u001b[0m\u001b[0;34m(\u001b[0m\u001b[0mflags\u001b[0m\u001b[0;34m,\u001b[0m \u001b[0mcopy\u001b[0m\u001b[0;34m=\u001b[0m\u001b[0mcopy\u001b[0m\u001b[0;34m,\u001b[0m \u001b[0mtrack\u001b[0m\u001b[0;34m=\u001b[0m\u001b[0mtrack\u001b[0m\u001b[0;34m)\u001b[0m\u001b[0;34m]\u001b[0m\u001b[0;34m\u001b[0m\u001b[0m\n\u001b[0m\u001b[1;32m    468\u001b[0m         \u001b[0;31m# have first part already, only loop while more to receive\u001b[0m\u001b[0;34m\u001b[0m\u001b[0;34m\u001b[0m\u001b[0m\n",
      "\u001b[0;32mzmq/backend/cython/socket.pyx\u001b[0m in \u001b[0;36mzmq.backend.cython.socket.Socket.recv\u001b[0;34m()\u001b[0m\n",
      "\u001b[0;32mzmq/backend/cython/socket.pyx\u001b[0m in \u001b[0;36mzmq.backend.cython.socket.Socket.recv\u001b[0;34m()\u001b[0m\n",
      "\u001b[0;32mzmq/backend/cython/socket.pyx\u001b[0m in \u001b[0;36mzmq.backend.cython.socket._recv_copy\u001b[0;34m()\u001b[0m\n",
      "\u001b[0;32m~/anaconda/envs/spacy/lib/python3.7/site-packages/zmq/backend/cython/checkrc.pxd\u001b[0m in \u001b[0;36mzmq.backend.cython.checkrc._check_rc\u001b[0;34m()\u001b[0m\n",
      "\u001b[0;31mKeyboardInterrupt\u001b[0m: ",
      "\nDuring handling of the above exception, another exception occurred:\n",
      "\u001b[0;31mKeyboardInterrupt\u001b[0m                         Traceback (most recent call last)",
      "\u001b[0;32m<ipython-input-7-4cd85c278132>\u001b[0m in \u001b[0;36m<module>\u001b[0;34m()\u001b[0m\n\u001b[1;32m      8\u001b[0m         \u001b[0mbehavior\u001b[0m\u001b[0;34m.\u001b[0m\u001b[0mappend\u001b[0m\u001b[0;34m(\u001b[0m\u001b[0mannotation\u001b[0m\u001b[0;34m)\u001b[0m\u001b[0;34m\u001b[0m\u001b[0m\n\u001b[1;32m      9\u001b[0m \u001b[0;34m\u001b[0m\u001b[0m\n\u001b[0;32m---> 10\u001b[0;31m         \u001b[0mannotation\u001b[0m \u001b[0;34m=\u001b[0m \u001b[0minput\u001b[0m\u001b[0;34m(\u001b[0m\u001b[0mshow\u001b[0m \u001b[0;34m+\u001b[0m \u001b[0;34m\"Mentions staffing availability\"\u001b[0m\u001b[0;34m)\u001b[0m\u001b[0;34m\u001b[0m\u001b[0m\n\u001b[0m\u001b[1;32m     11\u001b[0m         \u001b[0mavailability\u001b[0m\u001b[0;34m.\u001b[0m\u001b[0mappend\u001b[0m\u001b[0;34m(\u001b[0m\u001b[0mannotation\u001b[0m\u001b[0;34m)\u001b[0m\u001b[0;34m\u001b[0m\u001b[0m\n\u001b[1;32m     12\u001b[0m \u001b[0;34m\u001b[0m\u001b[0m\n",
      "\u001b[0;32m~/anaconda/envs/spacy/lib/python3.7/site-packages/ipykernel/kernelbase.py\u001b[0m in \u001b[0;36mraw_input\u001b[0;34m(self, prompt)\u001b[0m\n\u001b[1;32m    702\u001b[0m             \u001b[0mself\u001b[0m\u001b[0;34m.\u001b[0m\u001b[0m_parent_ident\u001b[0m\u001b[0;34m,\u001b[0m\u001b[0;34m\u001b[0m\u001b[0m\n\u001b[1;32m    703\u001b[0m             \u001b[0mself\u001b[0m\u001b[0;34m.\u001b[0m\u001b[0m_parent_header\u001b[0m\u001b[0;34m,\u001b[0m\u001b[0;34m\u001b[0m\u001b[0m\n\u001b[0;32m--> 704\u001b[0;31m             \u001b[0mpassword\u001b[0m\u001b[0;34m=\u001b[0m\u001b[0;32mFalse\u001b[0m\u001b[0;34m,\u001b[0m\u001b[0;34m\u001b[0m\u001b[0m\n\u001b[0m\u001b[1;32m    705\u001b[0m         )\n\u001b[1;32m    706\u001b[0m \u001b[0;34m\u001b[0m\u001b[0m\n",
      "\u001b[0;32m~/anaconda/envs/spacy/lib/python3.7/site-packages/ipykernel/kernelbase.py\u001b[0m in \u001b[0;36m_input_request\u001b[0;34m(self, prompt, ident, parent, password)\u001b[0m\n\u001b[1;32m    732\u001b[0m             \u001b[0;32mexcept\u001b[0m \u001b[0mKeyboardInterrupt\u001b[0m\u001b[0;34m:\u001b[0m\u001b[0;34m\u001b[0m\u001b[0m\n\u001b[1;32m    733\u001b[0m                 \u001b[0;31m# re-raise KeyboardInterrupt, to truncate traceback\u001b[0m\u001b[0;34m\u001b[0m\u001b[0;34m\u001b[0m\u001b[0m\n\u001b[0;32m--> 734\u001b[0;31m                 \u001b[0;32mraise\u001b[0m \u001b[0mKeyboardInterrupt\u001b[0m\u001b[0;34m\u001b[0m\u001b[0m\n\u001b[0m\u001b[1;32m    735\u001b[0m             \u001b[0;32melse\u001b[0m\u001b[0;34m:\u001b[0m\u001b[0;34m\u001b[0m\u001b[0m\n\u001b[1;32m    736\u001b[0m                 \u001b[0;32mbreak\u001b[0m\u001b[0;34m\u001b[0m\u001b[0m\n",
      "\u001b[0;31mKeyboardInterrupt\u001b[0m: "
     ]
    }
   ],
   "source": [
    "if relabel_docs:\n",
    "    behavior = []\n",
    "    availability = []\n",
    "    for text, source in zip(docs_to_label.text[0:10], docs_to_label.source[0:10]):\n",
    "        show = str(source) + str(text)\n",
    "        \n",
    "        annotation = input(show + \"Mentions student behavior\")\n",
    "        behavior.append(annotation)\n",
    "        \n",
    "        annotation = input(show + \"Mentions staffing availability\")\n",
    "        availability.append(annotation)\n",
    "                           \n",
    "        clear_output()"
   ]
  },
  {
   "cell_type": "code",
   "execution_count": 31,
   "metadata": {
    "collapsed": true
   },
   "outputs": [],
   "source": [
    "electives = electives[0:10]\n",
    "shortage = shortage[0:10]\n",
    "outofsubject = outofsubject[0:10]"
   ]
  },
  {
   "cell_type": "code",
   "execution_count": 32,
   "metadata": {},
   "outputs": [
    {
     "data": {
      "text/plain": [
       "216    |21.003 - A person may not be employed as a te...\n",
       "64     |21.003) Currently In the event a district can...\n",
       "48     |21.003) Currently In the event a district can...\n",
       "63     |21.003 Current Law: In the event a district c...\n",
       "18                                                   NaN\n",
       "446    |21.003, 21.053 and 21.057) Sec. 21.003. CERTI...\n",
       "565    |21.003, 21.053, and 21.057) DK (LEGAL) State ...\n",
       "61     |21.003) Current Statute: A person may not be ...\n",
       "102                                                  NaN\n",
       "356    |21.003 Certification Required 2. TEC|21.003 r...\n",
       "Name: text, dtype: object"
      ]
     },
     "execution_count": 32,
     "metadata": {},
     "output_type": "execute_result"
    }
   ],
   "source": [
    "docs_to_label.text[10:20]"
   ]
  },
  {
   "cell_type": "code",
   "execution_count": 35,
   "metadata": {
    "collapsed": true
   },
   "outputs": [],
   "source": [
    "if relabel_docs:\n",
    "        for text, source in zip(docs_to_label.text[10:20], docs_to_label.source[10:20]):\n",
    "            show = str(source) + str(text)\n",
    "            annotation = input(show + \"Mentions paperwork or hard-to-fill?\")\n",
    "            shortage.append(annotation)\n",
    "\n",
    "            annotation = input(\"Mentions certified not in subject?\")\n",
    "            outofsubject.append(annotation)\n",
    "\n",
    "            annotation = input(\"Mentions CTE, dual-credit, or elective courses?\")\n",
    "            electives.append(annotation)\n",
    "\n",
    "            clear_output()"
   ]
  },
  {
   "cell_type": "code",
   "execution_count": 36,
   "metadata": {
    "collapsed": true
   },
   "outputs": [],
   "source": [
    "if relabel_docs:\n",
    "        for text, source in zip(docs_to_label.text[20:30], docs_to_label.source[20:30]):\n",
    "            show = str(source) + str(text)\n",
    "            annotation = input(show + \"Mentions paperwork or hard-to-fill?\")\n",
    "            shortage.append(annotation)\n",
    "\n",
    "            annotation = input(\"Mentions certified not in subject?\")\n",
    "            outofsubject.append(annotation)\n",
    "\n",
    "            annotation = input(\"Mentions CTE, dual-credit, or elective courses?\")\n",
    "            electives.append(annotation)\n",
    "\n",
    "            clear_output()"
   ]
  },
  {
   "cell_type": "code",
   "execution_count": 42,
   "metadata": {
    "collapsed": true
   },
   "outputs": [],
   "source": [
    "if relabel_docs:\n",
    "        for text, source in zip(docs_to_label.text[30:40], docs_to_label.source[30:40]):\n",
    "            show = str(source) + str(text)\n",
    "            annotation = input(show + \"Mentions paperwork or hard-to-fill?\")\n",
    "            shortage.append(annotation)\n",
    "\n",
    "            annotation = input(\"Mentions certified not in subject?\")\n",
    "            outofsubject.append(annotation)\n",
    "\n",
    "            annotation = input(\"Mentions CTE, dual-credit, or elective courses?\")\n",
    "            electives.append(annotation)\n",
    "\n",
    "            clear_output()"
   ]
  },
  {
   "cell_type": "code",
   "execution_count": 43,
   "metadata": {
    "collapsed": true
   },
   "outputs": [],
   "source": [
    "if relabel_docs:\n",
    "        for text, source in zip(docs_to_label.text[40:50], docs_to_label.source[40:50]):\n",
    "            show = str(source) + str(text)\n",
    "            annotation = input(show + \"Mentions paperwork or hard-to-fill?\")\n",
    "            shortage.append(annotation)\n",
    "\n",
    "            annotation = input(\"Mentions certified not in subject?\")\n",
    "            outofsubject.append(annotation)\n",
    "\n",
    "            annotation = input(\"Mentions CTE, dual-credit, or elective courses?\")\n",
    "            electives.append(annotation)\n",
    "\n",
    "            clear_output()"
   ]
  },
  {
   "cell_type": "code",
   "execution_count": 72,
   "metadata": {
    "collapsed": true
   },
   "outputs": [],
   "source": [
    "docs_to_label['shortage'] =  shortage\n",
    "docs_to_label['outofsubject'] = outofsubject\n",
    "docs_to_label['electives'] = electives"
   ]
  },
  {
   "cell_type": "code",
   "execution_count": 73,
   "metadata": {
    "collapsed": true
   },
   "outputs": [],
   "source": [
    "docs_to_label['shortage'] = pd.to_numeric(docs_to_label['shortage'], errors='coerce')\n",
    "docs_to_label['outofsubject'] = pd.to_numeric(docs_to_label['outofsubject'], errors='coerce')\n",
    "docs_to_label['electives'] = pd.to_numeric(docs_to_label['electives'], errors='coerce')"
   ]
  },
  {
   "cell_type": "code",
   "execution_count": 76,
   "metadata": {},
   "outputs": [
    {
     "name": "stdout",
     "output_type": "stream",
     "text": [
      "Proportion mentioning emergency paperwork:  0.32653061224489793\n",
      "Proportion mentioning CTE:  0.84\n",
      "Proportion mentioning out of subject certification:  0.52\n"
     ]
    },
    {
     "data": {
      "text/html": [
       "<div>\n",
       "<style scoped>\n",
       "    .dataframe tbody tr th:only-of-type {\n",
       "        vertical-align: middle;\n",
       "    }\n",
       "\n",
       "    .dataframe tbody tr th {\n",
       "        vertical-align: top;\n",
       "    }\n",
       "\n",
       "    .dataframe thead th {\n",
       "        text-align: right;\n",
       "    }\n",
       "</style>\n",
       "<table border=\"1\" class=\"dataframe\">\n",
       "  <thead>\n",
       "    <tr style=\"text-align: right;\">\n",
       "      <th></th>\n",
       "      <th>text</th>\n",
       "      <th>source</th>\n",
       "      <th>shortage</th>\n",
       "      <th>outofsubject</th>\n",
       "      <th>electives</th>\n",
       "    </tr>\n",
       "  </thead>\n",
       "  <tbody>\n",
       "    <tr>\n",
       "      <th>524</th>\n",
       "      <td>|21.003) Currently In the event a district can...</td>\n",
       "      <td>http://images.pcmac.org/Uploads/TrentonISD/Tre...</td>\n",
       "      <td>1.0</td>\n",
       "      <td>0</td>\n",
       "      <td>0</td>\n",
       "    </tr>\n",
       "    <tr>\n",
       "      <th>159</th>\n",
       "      <td>|21.003) (DK Exhibit) (DK Legal) (DK Local) TE...</td>\n",
       "      <td>http://www.emsisd.com/cms/lib/TX21000533/Centr...</td>\n",
       "      <td>0.0</td>\n",
       "      <td>0</td>\n",
       "      <td>1</td>\n",
       "    </tr>\n",
       "    <tr>\n",
       "      <th>133</th>\n",
       "      <td>|21.003, §21.044, §21.053 and §21.057) State l...</td>\n",
       "      <td>https://s3.amazonaws.com/scschoolfiles/1170/cr...</td>\n",
       "      <td>0.0</td>\n",
       "      <td>0</td>\n",
       "      <td>1</td>\n",
       "    </tr>\n",
       "    <tr>\n",
       "      <th>535</th>\n",
       "      <td>|21.003, §21.044, §21.053, §21.055) As a small...</td>\n",
       "      <td>https://d3jc3ahdjad7x7.cloudfront.net/F5HPSEGE...</td>\n",
       "      <td>1.0</td>\n",
       "      <td>0</td>\n",
       "      <td>1</td>\n",
       "    </tr>\n",
       "    <tr>\n",
       "      <th>212</th>\n",
       "      <td>|21.003 Current Law: In the event a district c...</td>\n",
       "      <td>https://1.cdn.edl.io/hccNlwvPnDQR6L8Rr8kSyY5uc...</td>\n",
       "      <td>0.0</td>\n",
       "      <td>1</td>\n",
       "      <td>1</td>\n",
       "    </tr>\n",
       "  </tbody>\n",
       "</table>\n",
       "</div>"
      ],
      "text/plain": [
       "                                                  text  \\\n",
       "524  |21.003) Currently In the event a district can...   \n",
       "159  |21.003) (DK Exhibit) (DK Legal) (DK Local) TE...   \n",
       "133  |21.003, §21.044, §21.053 and §21.057) State l...   \n",
       "535  |21.003, §21.044, §21.053, §21.055) As a small...   \n",
       "212  |21.003 Current Law: In the event a district c...   \n",
       "\n",
       "                                                source  shortage  \\\n",
       "524  http://images.pcmac.org/Uploads/TrentonISD/Tre...       1.0   \n",
       "159  http://www.emsisd.com/cms/lib/TX21000533/Centr...       0.0   \n",
       "133  https://s3.amazonaws.com/scschoolfiles/1170/cr...       0.0   \n",
       "535  https://d3jc3ahdjad7x7.cloudfront.net/F5HPSEGE...       1.0   \n",
       "212  https://1.cdn.edl.io/hccNlwvPnDQR6L8Rr8kSyY5uc...       0.0   \n",
       "\n",
       "     outofsubject  electives  \n",
       "524             0          0  \n",
       "159             0          1  \n",
       "133             0          1  \n",
       "535             0          1  \n",
       "212             1          1  "
      ]
     },
     "execution_count": 76,
     "metadata": {},
     "output_type": "execute_result"
    }
   ],
   "source": [
    "docs_to_label\n",
    "print(\"Proportion mentioning emergency paperwork: \", docs_to_label['shortage'].mean())\n",
    "print(\"Proportion mentioning CTE: \", docs_to_label['electives'].mean())\n",
    "print(\"Proportion mentioning out of subject certification: \", docs_to_label['outofsubject'].mean())\n",
    "docs_to_label.head()"
   ]
  },
  {
   "cell_type": "code",
   "execution_count": 2,
   "metadata": {},
   "outputs": [
    {
     "ename": "NameError",
     "evalue": "name 'docs_to_label' is not defined",
     "output_type": "error",
     "traceback": [
      "\u001b[0;31m---------------------------------------------------------------------------\u001b[0m",
      "\u001b[0;31mNameError\u001b[0m                                 Traceback (most recent call last)",
      "\u001b[0;32m<ipython-input-2-e6846dbec00b>\u001b[0m in \u001b[0;36m<module>\u001b[0;34m()\u001b[0m\n\u001b[0;32m----> 1\u001b[0;31m \u001b[0mdocs_to_label\u001b[0m\u001b[0;34m.\u001b[0m\u001b[0mto_csv\u001b[0m\u001b[0;34m(\u001b[0m\u001b[0mdata_path\u001b[0m \u001b[0;34m+\u001b[0m \u001b[0;34m'labeled_certification.csv'\u001b[0m\u001b[0;34m)\u001b[0m\u001b[0;34m\u001b[0m\u001b[0m\n\u001b[0m",
      "\u001b[0;31mNameError\u001b[0m: name 'docs_to_label' is not defined"
     ]
    }
   ],
   "source": [
    "docs_to_label.to_csv(data_path + 'labeled_certification.csv')"
   ]
  },
  {
   "cell_type": "code",
   "execution_count": 25,
   "metadata": {},
   "outputs": [
    {
     "data": {
      "text/plain": [
       "['0', '1', '1', '0', '1', '1', '1', '1', '1', '1', '1', '1', '1', '1']"
      ]
     },
     "execution_count": 25,
     "metadata": {},
     "output_type": "execute_result"
    }
   ],
   "source": [
    "cte"
   ]
  },
  {
   "cell_type": "code",
   "execution_count": null,
   "metadata": {
    "collapsed": true
   },
   "outputs": [],
   "source": [
    "if relabel_docs:\n",
    "    cte = []\n",
    "    for text, source in zip(docs_to_label.text, docs_to_label.source):\n",
    "        show = source + text\n",
    "        annotation = input(show)\n",
    "        paperwork.append(annotation)\n",
    "        clear_output()"
   ]
  },
  {
   "cell_type": "code",
   "execution_count": null,
   "metadata": {
    "collapsed": true
   },
   "outputs": [],
   "source": [
    "if relabel_docs:\n",
    "    flexibility = []\n",
    "    for text, source in zip(docs_to_label.text, docs_to_label.source):\n",
    "        show = source + text\n",
    "        annotation = input(show)\n",
    "        paperwork.append(annotation)\n",
    "        clear_output()"
   ]
  }
 ],
 "metadata": {
  "kernelspec": {
   "display_name": "Python [conda env:spacy]",
   "language": "python",
   "name": "conda-env-spacy-py"
  },
  "language_info": {
   "codemirror_mode": {
    "name": "ipython",
    "version": 3
   },
   "file_extension": ".py",
   "mimetype": "text/x-python",
   "name": "python",
   "nbconvert_exporter": "python",
   "pygments_lexer": "ipython3",
   "version": "3.7.0"
  }
 },
 "nbformat": 4,
 "nbformat_minor": 2
}
