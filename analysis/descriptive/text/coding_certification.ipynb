{
 "cells": [
  {
   "cell_type": "code",
   "execution_count": 1,
   "metadata": {},
   "outputs": [
    {
     "name": "stderr",
     "output_type": "stream",
     "text": [
      "/Users/kylieleblancKylie/anaconda/envs/spacy/lib/python3.7/importlib/_bootstrap.py:219: RuntimeWarning: numpy.dtype size changed, may indicate binary incompatibility. Expected 96, got 88\n",
      "  return f(*args, **kwds)\n",
      "/Users/kylieleblancKylie/anaconda/envs/spacy/lib/python3.7/importlib/_bootstrap.py:219: RuntimeWarning: numpy.ufunc size changed, may indicate binary incompatibility. Expected 192, got 176\n",
      "  return f(*args, **kwds)\n",
      "/Users/kylieleblancKylie/anaconda/envs/spacy/lib/python3.7/importlib/_bootstrap.py:219: RuntimeWarning: numpy.dtype size changed, may indicate binary incompatibility. Expected 96, got 88\n",
      "  return f(*args, **kwds)\n",
      "/Users/kylieleblancKylie/anaconda/envs/spacy/lib/python3.7/importlib/_bootstrap.py:219: RuntimeWarning: numpy.ufunc size changed, may indicate binary incompatibility. Expected 192, got 176\n",
      "  return f(*args, **kwds)\n"
     ]
    }
   ],
   "source": [
    "import pandas as pd\n",
    "import os\n",
    "import re\n",
    "import spacy\n",
    "import en_core_web_sm\n",
    "from spacy.matcher import Matcher\n",
    "from IPython.display import clear_output\n"
   ]
  },
  {
   "cell_type": "markdown",
   "metadata": {},
   "source": [
    "# Certification"
   ]
  },
  {
   "cell_type": "code",
   "execution_count": 2,
   "metadata": {},
   "outputs": [
    {
     "data": {
      "text/html": [
       "<div>\n",
       "<style scoped>\n",
       "    .dataframe tbody tr th:only-of-type {\n",
       "        vertical-align: middle;\n",
       "    }\n",
       "\n",
       "    .dataframe tbody tr th {\n",
       "        vertical-align: top;\n",
       "    }\n",
       "\n",
       "    .dataframe thead th {\n",
       "        text-align: right;\n",
       "    }\n",
       "</style>\n",
       "<table border=\"1\" class=\"dataframe\">\n",
       "  <thead>\n",
       "    <tr style=\"text-align: right;\">\n",
       "      <th></th>\n",
       "      <th>Unnamed: 0</th>\n",
       "      <th>district</th>\n",
       "      <th>link</th>\n",
       "      <th>text</th>\n",
       "      <th>variable</th>\n",
       "      <th>value</th>\n",
       "      <th>phrase</th>\n",
       "    </tr>\n",
       "  </thead>\n",
       "  <tbody>\n",
       "    <tr>\n",
       "      <th>0</th>\n",
       "      <td>1</td>\n",
       "      <td>Abernathy ISD</td>\n",
       "      <td>https://1.cdn.edl.io/epGD4mZXjWUcPl8yA7IhlcDol...</td>\n",
       "      <td>Abernathy ISD District of Innovation Plan – Dr...</td>\n",
       "      <td>reg21_003</td>\n",
       "      <td>1</td>\n",
       "      <td>|21.003; TEC§ 21.057 The principal may submit ...</td>\n",
       "    </tr>\n",
       "    <tr>\n",
       "      <th>1</th>\n",
       "      <td>2</td>\n",
       "      <td>Abilene ISD</td>\n",
       "      <td>https://www.abileneisd.org/wp-content/uploads/...</td>\n",
       "      <td>0 ABILENE INDEPENDENT SCHOOL DISTRICT Local In...</td>\n",
       "      <td>reg21_003</td>\n",
       "      <td>1</td>\n",
       "      <td>|21.003 (a); T.E.C. Section §21.053 (a)-(b); C...</td>\n",
       "    </tr>\n",
       "    <tr>\n",
       "      <th>2</th>\n",
       "      <td>3</td>\n",
       "      <td>Academy ISD</td>\n",
       "      <td>https://4.files.edl.io/1a8f/06/29/18/204245-44...</td>\n",
       "      <td>District of Innovation Plan Developed in coope...</td>\n",
       "      <td>reg21_003</td>\n",
       "      <td>1</td>\n",
       "      <td>|21.003, 21.053,|21.003, 21.053,</td>\n",
       "    </tr>\n",
       "    <tr>\n",
       "      <th>3</th>\n",
       "      <td>4</td>\n",
       "      <td>Adrian ISD</td>\n",
       "      <td>http://www.adrianisd.net/UserFiles/Servers/Ser...</td>\n",
       "      <td>Adrian ISD District of Innovation Plan House B...</td>\n",
       "      <td>reg21_003</td>\n",
       "      <td>1</td>\n",
       "      <td>|21.003 DK LEGAL Current TEC §21.003 states a ...</td>\n",
       "    </tr>\n",
       "    <tr>\n",
       "      <th>4</th>\n",
       "      <td>5</td>\n",
       "      <td>Agua Dulce ISD</td>\n",
       "      <td>https://tx02206063.schoolwires.net/cms/lib/TX0...</td>\n",
       "      <td>Microsoft Word - DOI 2017-2022.docx Agua Dulce...</td>\n",
       "      <td>reg21_003</td>\n",
       "      <td>1</td>\n",
       "      <td>|21.003. CERTIFICATION REQUIRED. (a) A person ...</td>\n",
       "    </tr>\n",
       "  </tbody>\n",
       "</table>\n",
       "</div>"
      ],
      "text/plain": [
       "   Unnamed: 0        district  \\\n",
       "0           1   Abernathy ISD   \n",
       "1           2     Abilene ISD   \n",
       "2           3     Academy ISD   \n",
       "3           4      Adrian ISD   \n",
       "4           5  Agua Dulce ISD   \n",
       "\n",
       "                                                link  \\\n",
       "0  https://1.cdn.edl.io/epGD4mZXjWUcPl8yA7IhlcDol...   \n",
       "1  https://www.abileneisd.org/wp-content/uploads/...   \n",
       "2  https://4.files.edl.io/1a8f/06/29/18/204245-44...   \n",
       "3  http://www.adrianisd.net/UserFiles/Servers/Ser...   \n",
       "4  https://tx02206063.schoolwires.net/cms/lib/TX0...   \n",
       "\n",
       "                                                text   variable  value  \\\n",
       "0  Abernathy ISD District of Innovation Plan – Dr...  reg21_003      1   \n",
       "1  0 ABILENE INDEPENDENT SCHOOL DISTRICT Local In...  reg21_003      1   \n",
       "2  District of Innovation Plan Developed in coope...  reg21_003      1   \n",
       "3  Adrian ISD District of Innovation Plan House B...  reg21_003      1   \n",
       "4  Microsoft Word - DOI 2017-2022.docx Agua Dulce...  reg21_003      1   \n",
       "\n",
       "                                              phrase  \n",
       "0  |21.003; TEC§ 21.057 The principal may submit ...  \n",
       "1  |21.003 (a); T.E.C. Section §21.053 (a)-(b); C...  \n",
       "2                   |21.003, 21.053,|21.003, 21.053,  \n",
       "3  |21.003 DK LEGAL Current TEC §21.003 states a ...  \n",
       "4  |21.003. CERTIFICATION REQUIRED. (a) A person ...  "
      ]
     },
     "execution_count": 2,
     "metadata": {},
     "output_type": "execute_result"
    }
   ],
   "source": [
    "data_path = '/Users/kylieleblancKylie/domino/dofis/data/'\n",
    "\n",
    "docs = pd.read_csv(os.path.join(data_path, 'clean', 'phrases_certification.csv'),\n",
    "                  sep=\",\")\n",
    "docs.head()"
   ]
  },
  {
   "cell_type": "code",
   "execution_count": 5,
   "metadata": {
    "collapsed": true
   },
   "outputs": [],
   "source": [
    "docs_to_label = docs.sample(n = 50, random_state = 45)\n",
    "docs_to_label = docs_to_label[['phrase', 'link']]\n",
    "docs_to_label = docs_to_label.rename({'phrase': 'text', 'link': 'source'}, axis = 1)\n",
    "#docs_to_label.to_csv(os.path.join(data_path, 'plans', 'certification_to_label.csv'), header = True)"
   ]
  },
  {
   "cell_type": "code",
   "execution_count": 6,
   "metadata": {
    "collapsed": true
   },
   "outputs": [],
   "source": [
    "relabel_docs = True"
   ]
  },
  {
   "cell_type": "code",
   "execution_count": 7,
   "metadata": {},
   "outputs": [
    {
     "data": {
      "text/plain": [
       "50"
      ]
     },
     "execution_count": 7,
     "metadata": {},
     "output_type": "execute_result"
    }
   ],
   "source": [
    "len(docs_to_label)"
   ]
  },
  {
   "cell_type": "code",
   "execution_count": 26,
   "metadata": {
    "collapsed": true
   },
   "outputs": [],
   "source": [
    "if relabel_docs:\n",
    "    shortage = []\n",
    "    outofsubject = []\n",
    "    electives = []\n",
    "    for text, source in zip(docs_to_label.text[0:10], docs_to_label.source[0:10]):\n",
    "        show = str(source) + str(text)\n",
    "        \n",
    "        annotation = input(show + \"Mentions paperwork or hard-to-fill?\")\n",
    "        shortage.append(annotation)\n",
    "        \n",
    "        annotation = input(\"Mentions certified not in subject?\")\n",
    "        outofsubject.append(annotation)\n",
    "        \n",
    "        annotation = input(\"Mentions CTE, dual-credit, or elective courses?\")\n",
    "        electives.append(annotation)\n",
    "                           \n",
    "        clear_output()"
   ]
  },
  {
   "cell_type": "code",
   "execution_count": 31,
   "metadata": {
    "collapsed": true
   },
   "outputs": [],
   "source": [
    "electives = electives[0:10]\n",
    "shortage = shortage[0:10]\n",
    "outofsubject = outofsubject[0:10]"
   ]
  },
  {
   "cell_type": "code",
   "execution_count": 32,
   "metadata": {},
   "outputs": [
    {
     "data": {
      "text/plain": [
       "216    |21.003 - A person may not be employed as a te...\n",
       "64     |21.003) Currently In the event a district can...\n",
       "48     |21.003) Currently In the event a district can...\n",
       "63     |21.003 Current Law: In the event a district c...\n",
       "18                                                   NaN\n",
       "446    |21.003, 21.053 and 21.057) Sec. 21.003. CERTI...\n",
       "565    |21.003, 21.053, and 21.057) DK (LEGAL) State ...\n",
       "61     |21.003) Current Statute: A person may not be ...\n",
       "102                                                  NaN\n",
       "356    |21.003 Certification Required 2. TEC|21.003 r...\n",
       "Name: text, dtype: object"
      ]
     },
     "execution_count": 32,
     "metadata": {},
     "output_type": "execute_result"
    }
   ],
   "source": [
    "docs_to_label.text[10:20]"
   ]
  },
  {
   "cell_type": "code",
   "execution_count": 35,
   "metadata": {
    "collapsed": true
   },
   "outputs": [],
   "source": [
    "if relabel_docs:\n",
    "        for text, source in zip(docs_to_label.text[10:20], docs_to_label.source[10:20]):\n",
    "            show = str(source) + str(text)\n",
    "            annotation = input(show + \"Mentions paperwork or hard-to-fill?\")\n",
    "            shortage.append(annotation)\n",
    "\n",
    "            annotation = input(\"Mentions certified not in subject?\")\n",
    "            outofsubject.append(annotation)\n",
    "\n",
    "            annotation = input(\"Mentions CTE, dual-credit, or elective courses?\")\n",
    "            electives.append(annotation)\n",
    "\n",
    "            clear_output()"
   ]
  },
  {
   "cell_type": "code",
   "execution_count": 36,
   "metadata": {
    "collapsed": true
   },
   "outputs": [],
   "source": [
    "if relabel_docs:\n",
    "        for text, source in zip(docs_to_label.text[20:30], docs_to_label.source[20:30]):\n",
    "            show = str(source) + str(text)\n",
    "            annotation = input(show + \"Mentions paperwork or hard-to-fill?\")\n",
    "            shortage.append(annotation)\n",
    "\n",
    "            annotation = input(\"Mentions certified not in subject?\")\n",
    "            outofsubject.append(annotation)\n",
    "\n",
    "            annotation = input(\"Mentions CTE, dual-credit, or elective courses?\")\n",
    "            electives.append(annotation)\n",
    "\n",
    "            clear_output()"
   ]
  },
  {
   "cell_type": "code",
   "execution_count": 42,
   "metadata": {
    "collapsed": true
   },
   "outputs": [],
   "source": [
    "if relabel_docs:\n",
    "        for text, source in zip(docs_to_label.text[30:40], docs_to_label.source[30:40]):\n",
    "            show = str(source) + str(text)\n",
    "            annotation = input(show + \"Mentions paperwork or hard-to-fill?\")\n",
    "            shortage.append(annotation)\n",
    "\n",
    "            annotation = input(\"Mentions certified not in subject?\")\n",
    "            outofsubject.append(annotation)\n",
    "\n",
    "            annotation = input(\"Mentions CTE, dual-credit, or elective courses?\")\n",
    "            electives.append(annotation)\n",
    "\n",
    "            clear_output()"
   ]
  },
  {
   "cell_type": "code",
   "execution_count": 43,
   "metadata": {
    "collapsed": true
   },
   "outputs": [],
   "source": [
    "if relabel_docs:\n",
    "        for text, source in zip(docs_to_label.text[40:50], docs_to_label.source[40:50]):\n",
    "            show = str(source) + str(text)\n",
    "            annotation = input(show + \"Mentions paperwork or hard-to-fill?\")\n",
    "            shortage.append(annotation)\n",
    "\n",
    "            annotation = input(\"Mentions certified not in subject?\")\n",
    "            outofsubject.append(annotation)\n",
    "\n",
    "            annotation = input(\"Mentions CTE, dual-credit, or elective courses?\")\n",
    "            electives.append(annotation)\n",
    "\n",
    "            clear_output()"
   ]
  },
  {
   "cell_type": "code",
   "execution_count": 72,
   "metadata": {
    "collapsed": true
   },
   "outputs": [],
   "source": [
    "docs_to_label['shortage'] =  shortage\n",
    "docs_to_label['outofsubject'] = outofsubject\n",
    "docs_to_label['electives'] = electives"
   ]
  },
  {
   "cell_type": "code",
   "execution_count": 73,
   "metadata": {
    "collapsed": true
   },
   "outputs": [],
   "source": [
    "docs_to_label['shortage'] = pd.to_numeric(docs_to_label['shortage'], errors='coerce')\n",
    "docs_to_label['outofsubject'] = pd.to_numeric(docs_to_label['outofsubject'], errors='coerce')\n",
    "docs_to_label['electives'] = pd.to_numeric(docs_to_label['electives'], errors='coerce')"
   ]
  },
  {
   "cell_type": "code",
   "execution_count": 76,
   "metadata": {},
   "outputs": [
    {
     "name": "stdout",
     "output_type": "stream",
     "text": [
      "Proportion mentioning emergency paperwork:  0.32653061224489793\n",
      "Proportion mentioning CTE:  0.84\n",
      "Proportion mentioning out of subject certification:  0.52\n"
     ]
    },
    {
     "data": {
      "text/html": [
       "<div>\n",
       "<style scoped>\n",
       "    .dataframe tbody tr th:only-of-type {\n",
       "        vertical-align: middle;\n",
       "    }\n",
       "\n",
       "    .dataframe tbody tr th {\n",
       "        vertical-align: top;\n",
       "    }\n",
       "\n",
       "    .dataframe thead th {\n",
       "        text-align: right;\n",
       "    }\n",
       "</style>\n",
       "<table border=\"1\" class=\"dataframe\">\n",
       "  <thead>\n",
       "    <tr style=\"text-align: right;\">\n",
       "      <th></th>\n",
       "      <th>text</th>\n",
       "      <th>source</th>\n",
       "      <th>shortage</th>\n",
       "      <th>outofsubject</th>\n",
       "      <th>electives</th>\n",
       "    </tr>\n",
       "  </thead>\n",
       "  <tbody>\n",
       "    <tr>\n",
       "      <th>524</th>\n",
       "      <td>|21.003) Currently In the event a district can...</td>\n",
       "      <td>http://images.pcmac.org/Uploads/TrentonISD/Tre...</td>\n",
       "      <td>1.0</td>\n",
       "      <td>0</td>\n",
       "      <td>0</td>\n",
       "    </tr>\n",
       "    <tr>\n",
       "      <th>159</th>\n",
       "      <td>|21.003) (DK Exhibit) (DK Legal) (DK Local) TE...</td>\n",
       "      <td>http://www.emsisd.com/cms/lib/TX21000533/Centr...</td>\n",
       "      <td>0.0</td>\n",
       "      <td>0</td>\n",
       "      <td>1</td>\n",
       "    </tr>\n",
       "    <tr>\n",
       "      <th>133</th>\n",
       "      <td>|21.003, §21.044, §21.053 and §21.057) State l...</td>\n",
       "      <td>https://s3.amazonaws.com/scschoolfiles/1170/cr...</td>\n",
       "      <td>0.0</td>\n",
       "      <td>0</td>\n",
       "      <td>1</td>\n",
       "    </tr>\n",
       "    <tr>\n",
       "      <th>535</th>\n",
       "      <td>|21.003, §21.044, §21.053, §21.055) As a small...</td>\n",
       "      <td>https://d3jc3ahdjad7x7.cloudfront.net/F5HPSEGE...</td>\n",
       "      <td>1.0</td>\n",
       "      <td>0</td>\n",
       "      <td>1</td>\n",
       "    </tr>\n",
       "    <tr>\n",
       "      <th>212</th>\n",
       "      <td>|21.003 Current Law: In the event a district c...</td>\n",
       "      <td>https://1.cdn.edl.io/hccNlwvPnDQR6L8Rr8kSyY5uc...</td>\n",
       "      <td>0.0</td>\n",
       "      <td>1</td>\n",
       "      <td>1</td>\n",
       "    </tr>\n",
       "  </tbody>\n",
       "</table>\n",
       "</div>"
      ],
      "text/plain": [
       "                                                  text  \\\n",
       "524  |21.003) Currently In the event a district can...   \n",
       "159  |21.003) (DK Exhibit) (DK Legal) (DK Local) TE...   \n",
       "133  |21.003, §21.044, §21.053 and §21.057) State l...   \n",
       "535  |21.003, §21.044, §21.053, §21.055) As a small...   \n",
       "212  |21.003 Current Law: In the event a district c...   \n",
       "\n",
       "                                                source  shortage  \\\n",
       "524  http://images.pcmac.org/Uploads/TrentonISD/Tre...       1.0   \n",
       "159  http://www.emsisd.com/cms/lib/TX21000533/Centr...       0.0   \n",
       "133  https://s3.amazonaws.com/scschoolfiles/1170/cr...       0.0   \n",
       "535  https://d3jc3ahdjad7x7.cloudfront.net/F5HPSEGE...       1.0   \n",
       "212  https://1.cdn.edl.io/hccNlwvPnDQR6L8Rr8kSyY5uc...       0.0   \n",
       "\n",
       "     outofsubject  electives  \n",
       "524             0          0  \n",
       "159             0          1  \n",
       "133             0          1  \n",
       "535             0          1  \n",
       "212             1          1  "
      ]
     },
     "execution_count": 76,
     "metadata": {},
     "output_type": "execute_result"
    }
   ],
   "source": [
    "docs_to_label\n",
    "print(\"Proportion mentioning emergency paperwork: \", docs_to_label['shortage'].mean())\n",
    "print(\"Proportion mentioning CTE: \", docs_to_label['electives'].mean())\n",
    "print(\"Proportion mentioning out of subject certification: \", docs_to_label['outofsubject'].mean())\n",
    "docs_to_label.head()"
   ]
  },
  {
   "cell_type": "code",
   "execution_count": 2,
   "metadata": {},
   "outputs": [
    {
     "ename": "NameError",
     "evalue": "name 'docs_to_label' is not defined",
     "output_type": "error",
     "traceback": [
      "\u001b[0;31m---------------------------------------------------------------------------\u001b[0m",
      "\u001b[0;31mNameError\u001b[0m                                 Traceback (most recent call last)",
      "\u001b[0;32m<ipython-input-2-e6846dbec00b>\u001b[0m in \u001b[0;36m<module>\u001b[0;34m()\u001b[0m\n\u001b[0;32m----> 1\u001b[0;31m \u001b[0mdocs_to_label\u001b[0m\u001b[0;34m.\u001b[0m\u001b[0mto_csv\u001b[0m\u001b[0;34m(\u001b[0m\u001b[0mdata_path\u001b[0m \u001b[0;34m+\u001b[0m \u001b[0;34m'labeled_certification.csv'\u001b[0m\u001b[0;34m)\u001b[0m\u001b[0;34m\u001b[0m\u001b[0m\n\u001b[0m",
      "\u001b[0;31mNameError\u001b[0m: name 'docs_to_label' is not defined"
     ]
    }
   ],
   "source": [
    "docs_to_label.to_csv(data_path + 'labeled_certification.csv')"
   ]
  },
  {
   "cell_type": "code",
   "execution_count": 25,
   "metadata": {},
   "outputs": [
    {
     "data": {
      "text/plain": [
       "['0', '1', '1', '0', '1', '1', '1', '1', '1', '1', '1', '1', '1', '1']"
      ]
     },
     "execution_count": 25,
     "metadata": {},
     "output_type": "execute_result"
    }
   ],
   "source": [
    "cte"
   ]
  },
  {
   "cell_type": "code",
   "execution_count": null,
   "metadata": {
    "collapsed": true
   },
   "outputs": [],
   "source": [
    "if relabel_docs:\n",
    "    cte = []\n",
    "    for text, source in zip(docs_to_label.text, docs_to_label.source):\n",
    "        show = source + text\n",
    "        annotation = input(show)\n",
    "        paperwork.append(annotation)\n",
    "        clear_output()"
   ]
  },
  {
   "cell_type": "code",
   "execution_count": null,
   "metadata": {
    "collapsed": true
   },
   "outputs": [],
   "source": [
    "if relabel_docs:\n",
    "    flexibility = []\n",
    "    for text, source in zip(docs_to_label.text, docs_to_label.source):\n",
    "        show = source + text\n",
    "        annotation = input(show)\n",
    "        paperwork.append(annotation)\n",
    "        clear_output()"
   ]
  }
 ],
 "metadata": {
  "kernelspec": {
   "display_name": "Python [conda env:spacy]",
   "language": "python",
   "name": "conda-env-spacy-py"
  },
  "language_info": {
   "codemirror_mode": {
    "name": "ipython",
    "version": 3
   },
   "file_extension": ".py",
   "mimetype": "text/x-python",
   "name": "python",
   "nbconvert_exporter": "python",
   "pygments_lexer": "ipython3",
   "version": "3.7.0"
  }
 },
 "nbformat": 4,
 "nbformat_minor": 2
}
