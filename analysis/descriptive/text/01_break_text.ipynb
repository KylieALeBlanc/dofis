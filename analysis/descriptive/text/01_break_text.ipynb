{
 "cells": [
  {
   "cell_type": "code",
   "execution_count": 1,
   "metadata": {},
   "outputs": [
    {
     "name": "stderr",
     "output_type": "stream",
     "text": [
      "/Users/kylieleblancKylie/anaconda/envs/spacy/lib/python3.7/importlib/_bootstrap.py:219: RuntimeWarning: numpy.dtype size changed, may indicate binary incompatibility. Expected 96, got 88\n",
      "  return f(*args, **kwds)\n",
      "/Users/kylieleblancKylie/anaconda/envs/spacy/lib/python3.7/importlib/_bootstrap.py:219: RuntimeWarning: numpy.ufunc size changed, may indicate binary incompatibility. Expected 192, got 176\n",
      "  return f(*args, **kwds)\n",
      "/Users/kylieleblancKylie/anaconda/envs/spacy/lib/python3.7/importlib/_bootstrap.py:219: RuntimeWarning: numpy.dtype size changed, may indicate binary incompatibility. Expected 96, got 88\n",
      "  return f(*args, **kwds)\n",
      "/Users/kylieleblancKylie/anaconda/envs/spacy/lib/python3.7/importlib/_bootstrap.py:219: RuntimeWarning: numpy.ufunc size changed, may indicate binary incompatibility. Expected 192, got 176\n",
      "  return f(*args, **kwds)\n"
     ]
    }
   ],
   "source": [
    "import sys\n",
    "sys.path.append(\"../../\")\n",
    "\n",
    "import pandas as pd\n",
    "import os\n",
    "import re\n",
    "import spacy\n",
    "import en_core_web_sm\n",
    "from spacy.matcher import Matcher\n",
    "from IPython.display import clear_output\n",
    "\n",
    "from library import regulations\n",
    "import breaktext"
   ]
  },
  {
   "cell_type": "code",
   "execution_count": 2,
   "metadata": {},
   "outputs": [
    {
     "data": {
      "text/html": [
       "<div>\n",
       "<style scoped>\n",
       "    .dataframe tbody tr th:only-of-type {\n",
       "        vertical-align: middle;\n",
       "    }\n",
       "\n",
       "    .dataframe tbody tr th {\n",
       "        vertical-align: top;\n",
       "    }\n",
       "\n",
       "    .dataframe thead th {\n",
       "        text-align: right;\n",
       "    }\n",
       "</style>\n",
       "<table border=\"1\" class=\"dataframe\">\n",
       "  <thead>\n",
       "    <tr style=\"text-align: right;\">\n",
       "      <th></th>\n",
       "      <th>district</th>\n",
       "      <th>link</th>\n",
       "      <th>text</th>\n",
       "      <th>reg25_0811</th>\n",
       "      <th>reg25_081</th>\n",
       "      <th>reg25_0812</th>\n",
       "      <th>reg25_082</th>\n",
       "      <th>reg21_003</th>\n",
       "      <th>reg21_053</th>\n",
       "      <th>reg21_057</th>\n",
       "      <th>reg21_102</th>\n",
       "      <th>reg21_401</th>\n",
       "      <th>reg21_352</th>\n",
       "      <th>reg21_354</th>\n",
       "      <th>reg25_092</th>\n",
       "      <th>reg37_0012</th>\n",
       "      <th>reg25_036</th>\n",
       "      <th>reg25_112</th>\n",
       "    </tr>\n",
       "  </thead>\n",
       "  <tbody>\n",
       "    <tr>\n",
       "      <th>0</th>\n",
       "      <td>Abbott ISD</td>\n",
       "      <td>https://www.abbottisd.org/ourpages/auto/2018/3...</td>\n",
       "      <td>1 Abbott Independent School District District ...</td>\n",
       "      <td>0</td>\n",
       "      <td>0</td>\n",
       "      <td>0</td>\n",
       "      <td>0</td>\n",
       "      <td>0</td>\n",
       "      <td>0</td>\n",
       "      <td>0</td>\n",
       "      <td>0</td>\n",
       "      <td>0</td>\n",
       "      <td>0</td>\n",
       "      <td>0</td>\n",
       "      <td>0</td>\n",
       "      <td>1</td>\n",
       "      <td>1</td>\n",
       "      <td>1</td>\n",
       "    </tr>\n",
       "  </tbody>\n",
       "</table>\n",
       "</div>"
      ],
      "text/plain": [
       "     district                                               link  \\\n",
       "0  Abbott ISD  https://www.abbottisd.org/ourpages/auto/2018/3...   \n",
       "\n",
       "                                                text  reg25_0811  reg25_081  \\\n",
       "0  1 Abbott Independent School District District ...           0          0   \n",
       "\n",
       "   reg25_0812  reg25_082  reg21_003  reg21_053  reg21_057  reg21_102  \\\n",
       "0           0          0          0          0          0          0   \n",
       "\n",
       "   reg21_401  reg21_352  reg21_354  reg25_092  reg37_0012  reg25_036  \\\n",
       "0          0          0          0          0           1          1   \n",
       "\n",
       "   reg25_112  \n",
       "0          1  "
      ]
     },
     "execution_count": 2,
     "metadata": {},
     "output_type": "execute_result"
    }
   ],
   "source": [
    "data_path = '/Users/kylieleblancKylie/domino/dofis/data/'\n",
    "data = pd.read_csv(os.path.join(data_path, 'plans', 'doi_final_wtext.csv'),\n",
    "                  sep=\",\")\n",
    "data = data[['district', 'link', 'text',\n",
    "      'reg25_0811', 'reg25_081', 'reg25_0812', 'reg25_082',\n",
    "      'reg21_003', 'reg21_053', 'reg21_057',\n",
    "      'reg21_102', 'reg21_401', 'reg21_352', 'reg21_354',\n",
    "      'reg25_092', 'reg37_0012', 'reg25_036', 'reg25_112']]\n",
    "data.head(1)"
   ]
  },
  {
   "cell_type": "code",
   "execution_count": 3,
   "metadata": {},
   "outputs": [
    {
     "data": {
      "text/plain": [
       "{'25.0811': ['25.0811', '25_081', '25.0812'],\n",
       " '25.112': ['25.112', '25.113', '25.111'],\n",
       " '21.003': ['21.003', '21.053', '21.044', '21.057', '21.055'],\n",
       " '21.102': ['21.102'],\n",
       " '21.401': ['21.401'],\n",
       " '25.092': ['25.092'],\n",
       " '21.352': ['21.352'],\n",
       " '21.354': ['21.354'],\n",
       " '37.0012': ['37.0012'],\n",
       " '25.036': ['25.036']}"
      ]
     },
     "execution_count": 3,
     "metadata": {},
     "output_type": "execute_result"
    }
   ],
   "source": [
    "regulations.similar"
   ]
  },
  {
   "cell_type": "code",
   "execution_count": 4,
   "metadata": {},
   "outputs": [
    {
     "name": "stdout",
     "output_type": "stream",
     "text": [
      "length=  4080\n"
     ]
    },
    {
     "data": {
      "text/html": [
       "<div>\n",
       "<style scoped>\n",
       "    .dataframe tbody tr th:only-of-type {\n",
       "        vertical-align: middle;\n",
       "    }\n",
       "\n",
       "    .dataframe tbody tr th {\n",
       "        vertical-align: top;\n",
       "    }\n",
       "\n",
       "    .dataframe thead th {\n",
       "        text-align: right;\n",
       "    }\n",
       "</style>\n",
       "<table border=\"1\" class=\"dataframe\">\n",
       "  <thead>\n",
       "    <tr style=\"text-align: right;\">\n",
       "      <th></th>\n",
       "      <th>district</th>\n",
       "      <th>link</th>\n",
       "      <th>text</th>\n",
       "      <th>variable</th>\n",
       "      <th>value</th>\n",
       "    </tr>\n",
       "  </thead>\n",
       "  <tbody>\n",
       "    <tr>\n",
       "      <th>1</th>\n",
       "      <td>Abernathy ISD</td>\n",
       "      <td>https://1.cdn.edl.io/epGD4mZXjWUcPl8yA7IhlcDol...</td>\n",
       "      <td>Abernathy ISD District of Innovation Plan – Dr...</td>\n",
       "      <td>reg21_003</td>\n",
       "      <td>1</td>\n",
       "    </tr>\n",
       "  </tbody>\n",
       "</table>\n",
       "</div>"
      ],
      "text/plain": [
       "        district                                               link  \\\n",
       "1  Abernathy ISD  https://1.cdn.edl.io/epGD4mZXjWUcPl8yA7IhlcDol...   \n",
       "\n",
       "                                                text   variable  value  \n",
       "1  Abernathy ISD District of Innovation Plan – Dr...  reg21_003      1  "
      ]
     },
     "execution_count": 4,
     "metadata": {},
     "output_type": "execute_result"
    }
   ],
   "source": [
    "stubnames = sorted(\n",
    "    set([match[0] for match in data.columns.str.findall(\n",
    "    r'reg.*').values if match != [] ])\n",
    "    )\n",
    "long = pd.melt(data, id_vars=['district', 'link', 'text'], value_vars=stubnames)\n",
    "long = long[long.value == 1]\n",
    "print('length= ', len(long))\n",
    "long.head(1)"
   ]
  },
  {
   "cell_type": "code",
   "execution_count": 5,
   "metadata": {},
   "outputs": [
    {
     "data": {
      "text/plain": [
       "'|21.003|21.003 21.053, 21.044 This is about teacher certification'"
      ]
     },
     "execution_count": 5,
     "metadata": {},
     "output_type": "execute_result"
    }
   ],
   "source": [
    "breaktext.get_phrase(\"21.003 45.211 21.003 21.053, 21.044 This is about teacher certification okay\", regulation = '21.003')"
   ]
  },
  {
   "cell_type": "markdown",
   "metadata": {},
   "source": [
    "# Schedules"
   ]
  },
  {
   "cell_type": "code",
   "execution_count": 12,
   "metadata": {},
   "outputs": [
    {
     "name": "stderr",
     "output_type": "stream",
     "text": [
      "/Users/kylieleblancKylie/anaconda/envs/spacy/lib/python3.7/site-packages/ipykernel/__main__.py:6: SettingWithCopyWarning: \n",
      "A value is trying to be set on a copy of a slice from a DataFrame.\n",
      "Try using .loc[row_indexer,col_indexer] = value instead\n",
      "\n",
      "See the caveats in the documentation: http://pandas.pydata.org/pandas-docs/stable/indexing.html#indexing-view-versus-copy\n"
     ]
    }
   ],
   "source": [
    "startdate = long[long.variable == 'reg25_0811']\n",
    "phrases = []\n",
    "for text in startdate.text:\n",
    "    phrase = breaktext.get_phrase(text, '25.0811', include_similar = False)\n",
    "    phrases.append(phrase)\n",
    "startdate['phrase'] = phrases\n",
    "startdate.to_csv(os.path.join(data_path, 'clean', 'phrases_startdate.csv'),\n",
    "                  sep=\",\")"
   ]
  },
  {
   "cell_type": "code",
   "execution_count": 8,
   "metadata": {},
   "outputs": [
    {
     "name": "stderr",
     "output_type": "stream",
     "text": [
      "/Users/kylieleblancKylie/anaconda/envs/spacy/lib/python3.7/site-packages/ipykernel/__main__.py:6: SettingWithCopyWarning: \n",
      "A value is trying to be set on a copy of a slice from a DataFrame.\n",
      "Try using .loc[row_indexer,col_indexer] = value instead\n",
      "\n",
      "See the caveats in the documentation: http://pandas.pydata.org/pandas-docs/stable/indexing.html#indexing-view-versus-copy\n"
     ]
    }
   ],
   "source": [
    "startdate = long[long.variable == 'reg25_081']\n",
    "phrases = []\n",
    "for text in startdate.text:\n",
    "    phrase = breaktext.get_phrase(text, '25.081', include_similar = False)\n",
    "    phrases.append(phrase)\n",
    "startdate['phrase'] = phrases\n",
    "startdate.to_csv(os.path.join(data_path, 'clean', 'phrases_minutes.csv'),\n",
    "                  sep=\",\")"
   ]
  },
  {
   "cell_type": "markdown",
   "metadata": {},
   "source": [
    "# Certification"
   ]
  },
  {
   "cell_type": "code",
   "execution_count": 13,
   "metadata": {},
   "outputs": [
    {
     "name": "stderr",
     "output_type": "stream",
     "text": [
      "/Users/kylieleblancKylie/anaconda/envs/spacy/lib/python3.7/site-packages/ipykernel/__main__.py:6: SettingWithCopyWarning: \n",
      "A value is trying to be set on a copy of a slice from a DataFrame.\n",
      "Try using .loc[row_indexer,col_indexer] = value instead\n",
      "\n",
      "See the caveats in the documentation: http://pandas.pydata.org/pandas-docs/stable/indexing.html#indexing-view-versus-copy\n"
     ]
    }
   ],
   "source": [
    "certification = long[long.variable == 'reg21_003']\n",
    "phrases = []\n",
    "for text in certification.text:\n",
    "    phrase = breaktext.get_phrase(text, '21.003')\n",
    "    phrases.append(phrase)\n",
    "certification['phrase'] = phrases\n",
    "certification.to_csv(os.path.join(data_path, 'clean', 'phrases_certification.csv'),\n",
    "                  sep=\",\")"
   ]
  },
  {
   "cell_type": "markdown",
   "metadata": {},
   "source": [
    "# Class Size"
   ]
  },
  {
   "cell_type": "code",
   "execution_count": 7,
   "metadata": {},
   "outputs": [
    {
     "name": "stderr",
     "output_type": "stream",
     "text": [
      "/Users/kylieleblancKylie/anaconda/envs/spacy/lib/python3.7/site-packages/ipykernel/__main__.py:6: SettingWithCopyWarning: \n",
      "A value is trying to be set on a copy of a slice from a DataFrame.\n",
      "Try using .loc[row_indexer,col_indexer] = value instead\n",
      "\n",
      "See the caveats in the documentation: http://pandas.pydata.org/pandas-docs/stable/indexing.html#indexing-view-versus-copy\n"
     ]
    }
   ],
   "source": [
    "classsize = long[long.variable == 'reg25_112']\n",
    "phrases = []\n",
    "for text in classsize.text:\n",
    "    phrase = breaktext.get_phrase(text, '25.112')\n",
    "    phrases.append(phrase)\n",
    "classsize['phrase'] = phrases\n",
    "classsize.to_csv(os.path.join(data_path, 'clean', 'phrases_classsize.csv'),\n",
    "                  sep=\",\")"
   ]
  },
  {
   "cell_type": "markdown",
   "metadata": {},
   "source": [
    "# Contracts"
   ]
  },
  {
   "cell_type": "code",
   "execution_count": 5,
   "metadata": {},
   "outputs": [
    {
     "name": "stderr",
     "output_type": "stream",
     "text": [
      "/Users/kylieleblancKylie/anaconda/envs/spacy/lib/python3.7/site-packages/ipykernel/__main__.py:6: SettingWithCopyWarning: \n",
      "A value is trying to be set on a copy of a slice from a DataFrame.\n",
      "Try using .loc[row_indexer,col_indexer] = value instead\n",
      "\n",
      "See the caveats in the documentation: http://pandas.pydata.org/pandas-docs/stable/indexing.html#indexing-view-versus-copy\n"
     ]
    }
   ],
   "source": [
    "probation = long[long.variable == 'reg21_102']\n",
    "phrases = []\n",
    "for text in probation.text:\n",
    "    phrase = breaktext.get_phrase(text, '21.102')\n",
    "    phrases.append(phrase)\n",
    "probation['phrase'] = phrases\n",
    "probation.to_csv(os.path.join(data_path, 'clean', 'phrases_probation.csv'),\n",
    "                  sep=\",\")"
   ]
  },
  {
   "cell_type": "code",
   "execution_count": 5,
   "metadata": {},
   "outputs": [
    {
     "name": "stderr",
     "output_type": "stream",
     "text": [
      "/Users/kylieleblancKylie/anaconda/envs/spacy/lib/python3.7/site-packages/ipykernel/__main__.py:6: SettingWithCopyWarning: \n",
      "A value is trying to be set on a copy of a slice from a DataFrame.\n",
      "Try using .loc[row_indexer,col_indexer] = value instead\n",
      "\n",
      "See the caveats in the documentation: http://pandas.pydata.org/pandas-docs/stable/indexing.html#indexing-view-versus-copy\n"
     ]
    }
   ],
   "source": [
    "service = long[long.variable == 'reg21_401']\n",
    "phrases = []\n",
    "for text in service.text:\n",
    "    phrase = breaktext.get_phrase(text, '21.401')\n",
    "    phrases.append(phrase)\n",
    "service['phrase'] = phrases\n",
    "service.to_csv(os.path.join(data_path, 'clean', 'phrases_service.csv'),\n",
    "                  sep=\",\")"
   ]
  },
  {
   "cell_type": "code",
   "execution_count": 7,
   "metadata": {},
   "outputs": [
    {
     "name": "stderr",
     "output_type": "stream",
     "text": [
      "/Users/kylieleblancKylie/anaconda/envs/spacy/lib/python3.7/site-packages/ipykernel/__main__.py:6: SettingWithCopyWarning: \n",
      "A value is trying to be set on a copy of a slice from a DataFrame.\n",
      "Try using .loc[row_indexer,col_indexer] = value instead\n",
      "\n",
      "See the caveats in the documentation: http://pandas.pydata.org/pandas-docs/stable/indexing.html#indexing-view-versus-copy\n"
     ]
    }
   ],
   "source": [
    "teacherevals = long[long.variable == 'reg21_352']\n",
    "phrases = []\n",
    "for text in teacherevals.text:\n",
    "    phrase = breaktext.get_phrase(text, '21.352')\n",
    "    phrases.append(phrase)\n",
    "teacherevals['phrase'] = phrases\n",
    "teacherevals.to_csv(os.path.join(data_path, 'clean', 'phrases_teacherevals.csv'),\n",
    "                  sep=\",\")"
   ]
  },
  {
   "cell_type": "markdown",
   "metadata": {},
   "source": [
    "# Behavior"
   ]
  },
  {
   "cell_type": "code",
   "execution_count": 8,
   "metadata": {},
   "outputs": [
    {
     "name": "stderr",
     "output_type": "stream",
     "text": [
      "/Users/kylieleblancKylie/anaconda/envs/spacy/lib/python3.7/site-packages/ipykernel/__main__.py:6: SettingWithCopyWarning: \n",
      "A value is trying to be set on a copy of a slice from a DataFrame.\n",
      "Try using .loc[row_indexer,col_indexer] = value instead\n",
      "\n",
      "See the caveats in the documentation: http://pandas.pydata.org/pandas-docs/stable/indexing.html#indexing-view-versus-copy\n"
     ]
    }
   ],
   "source": [
    "attendance = long[long.variable == 'reg25_092']\n",
    "phrases = []\n",
    "for text in attendance.text:\n",
    "    phrase = breaktext.get_phrase(text, '25.092')\n",
    "    phrases.append(phrase)\n",
    "attendance['phrase'] = phrases\n",
    "attendance.to_csv(os.path.join(data_path, 'clean', 'phrases_attendance.csv'),\n",
    "                  sep=\",\")"
   ]
  },
  {
   "cell_type": "code",
   "execution_count": 9,
   "metadata": {},
   "outputs": [
    {
     "name": "stderr",
     "output_type": "stream",
     "text": [
      "/Users/kylieleblancKylie/anaconda/envs/spacy/lib/python3.7/site-packages/ipykernel/__main__.py:6: SettingWithCopyWarning: \n",
      "A value is trying to be set on a copy of a slice from a DataFrame.\n",
      "Try using .loc[row_indexer,col_indexer] = value instead\n",
      "\n",
      "See the caveats in the documentation: http://pandas.pydata.org/pandas-docs/stable/indexing.html#indexing-view-versus-copy\n"
     ]
    }
   ],
   "source": [
    "coordinator = long[long.variable == 'reg37_0012']\n",
    "phrases = []\n",
    "for text in coordinator.text:\n",
    "    phrase = breaktext.get_phrase(text, '37.0012')\n",
    "    phrases.append(phrase)\n",
    "coordinator['phrase'] = phrases\n",
    "coordinator.to_csv(os.path.join(data_path, 'clean', 'phrases_coordinator.csv'),\n",
    "                  sep=\",\")"
   ]
  },
  {
   "cell_type": "code",
   "execution_count": 6,
   "metadata": {},
   "outputs": [
    {
     "name": "stderr",
     "output_type": "stream",
     "text": [
      "/Users/kylieleblancKylie/anaconda/envs/spacy/lib/python3.7/site-packages/ipykernel/__main__.py:6: SettingWithCopyWarning: \n",
      "A value is trying to be set on a copy of a slice from a DataFrame.\n",
      "Try using .loc[row_indexer,col_indexer] = value instead\n",
      "\n",
      "See the caveats in the documentation: http://pandas.pydata.org/pandas-docs/stable/indexing.html#indexing-view-versus-copy\n"
     ]
    }
   ],
   "source": [
    "transfers = long[long.variable == 'reg25_036']\n",
    "phrases = []\n",
    "for text in transfers.text:\n",
    "    phrase = breaktext.get_phrase(text, '25.036')\n",
    "    phrases.append(phrase)\n",
    "transfers['phrase'] = phrases\n",
    "transfers.to_csv(os.path.join(data_path, 'clean', 'phrases_transfers.csv'),\n",
    "                  sep=\",\")"
   ]
  },
  {
   "cell_type": "code",
   "execution_count": null,
   "metadata": {
    "collapsed": true
   },
   "outputs": [],
   "source": []
  }
 ],
 "metadata": {
  "kernelspec": {
   "display_name": "Python [conda env:spacy]",
   "language": "python",
   "name": "conda-env-spacy-py"
  },
  "language_info": {
   "codemirror_mode": {
    "name": "ipython",
    "version": 3
   },
   "file_extension": ".py",
   "mimetype": "text/x-python",
   "name": "python",
   "nbconvert_exporter": "python",
   "pygments_lexer": "ipython3",
   "version": "3.7.0"
  }
 },
 "nbformat": 4,
 "nbformat_minor": 2
}
