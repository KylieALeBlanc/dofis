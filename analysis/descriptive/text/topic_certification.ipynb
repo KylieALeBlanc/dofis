{
 "cells": [
  {
   "cell_type": "code",
   "execution_count": 7,
   "metadata": {},
   "outputs": [],
   "source": [
    "import pandas as pd\n",
    "import os\n",
    "import re\n",
    "\n",
    "import topic_modeling\n",
    "\n",
    "from nltk.corpus import stopwords \n",
    "from nltk.stem.wordnet import WordNetLemmatizer\n",
    "import string\n",
    "import gensim\n",
    "from gensim import corpora"
   ]
  },
  {
   "cell_type": "code",
   "execution_count": 8,
   "metadata": {},
   "outputs": [
    {
     "data": {
      "text/plain": [
       "'|21.003; TEC§ 21.057 The principal may submit to the superintendent and/or the superintendent’s designee a request for District Teaching Permit (local certification) outlining the individual’s credentials/qualifications. Qualification for local certification could include, but is not limited to: ● professional work experience ● formal training/education in the content area ● active/relevant professional industry certification/registration ● a combination of work experience, training, and education ● demonstration of successful experience working with students. The superintendent or his/her designee will then approve the request if they believe the individual possesses the knowledge, skills and experience required of the position and feel the individual could be an asset to students. Employment is dependent upon Board approval. An employee working under a District Teaching Permit (local certification) will be appraised under the same teacher appraisal system as required of all certified teachers and will adhere to the same professional standards, ethics, and requirements of all certified teachers. Uniform School Start and End Date Exemption from: TEC §'"
      ]
     },
     "execution_count": 8,
     "metadata": {},
     "output_type": "execute_result"
    }
   ],
   "source": [
    "data_path = '/Users/kylieleblancKylie/domino/dofis/data/'\n",
    "\n",
    "data = pd.read_csv(os.path.join(data_path, 'clean', 'text', 'phrases_certification.csv'),\n",
    "                  sep=\",\")\n",
    "doc_complete = list(data['phrase'])\n",
    "doc_complete = [str(i) for i in doc_complete]\n",
    "doc_complete[0]"
   ]
  },
  {
   "cell_type": "code",
   "execution_count": 9,
   "metadata": {
    "collapsed": true
   },
   "outputs": [],
   "source": [
    "certification_stop_words = ['certification', 'teacher']\n",
    "stop = topic_modeling.stop + certification_stop_words\n",
    "stop = set(stop)"
   ]
  },
  {
   "cell_type": "code",
   "execution_count": 10,
   "metadata": {
    "collapsed": true
   },
   "outputs": [],
   "source": [
    "doc_clean = [topic_modeling.clean(doc).split() for doc in doc_complete] \n",
    "dictionary, matrix = topic_modeling.get_dict_and_matrix(doc_clean)"
   ]
  },
  {
   "cell_type": "code",
   "execution_count": 11,
   "metadata": {},
   "outputs": [
    {
     "name": "stdout",
     "output_type": "stream",
     "text": [
      "(0, '0.031*\"certification\" + 0.028*\"teacher\" + 0.016*\"certified\" + 0.015*\"course\" + 0.011*\"professional\" + 0.010*\"science\" + 0.010*\"subject\" + 0.010*\"teaching\" + 0.010*\"request\" + 0.009*\"teach\"')\n",
      "(1, '0.043*\"teacher\" + 0.025*\"certification\" + 0.023*\"individual\" + 0.022*\"request\" + 0.020*\"certified\" + 0.019*\"teach\" + 0.017*\"teaching\" + 0.015*\"superintendent\" + 0.015*\"may\" + 0.014*\"principal\"')\n",
      "(2, '0.037*\"teacher\" + 0.026*\"certification\" + 0.024*\"course\" + 0.018*\"requirement\" + 0.014*\"teach\" + 0.014*\"student\" + 0.013*\"hire\" + 0.012*\"certified\" + 0.012*\"professional\" + 0.011*\"exemption\"')\n",
      "(3, '0.040*\"teacher\" + 0.036*\"•\" + 0.020*\"grade\" + 0.020*\"certified\" + 0.017*\"teach\" + 0.015*\"allow\" + 0.011*\"exemption\" + 0.011*\"course\" + 0.009*\"andor\" + 0.009*\"student\"')\n",
      "(4, '0.026*\"\\uf0b7\" + 0.021*\"•\" + 0.014*\"\\uf0fc\" + 0.014*\"plan\" + 0.014*\"student\" + 0.012*\"learning\" + 0.009*\"director\" + 0.009*\"teacher\" + 0.008*\"course\" + 0.007*\"program\"')\n"
     ]
    }
   ],
   "source": [
    "ldamodel = topic_modeling.run_lda(matrix = matrix, dictionary = dictionary, \n",
    "                                 num_topics = 5, passes = 50)\n",
    "for topic in ldamodel.print_topics(num_topics=10, num_words=10):\n",
    "    print(topic)"
   ]
  },
  {
   "cell_type": "code",
   "execution_count": null,
   "metadata": {
    "collapsed": true
   },
   "outputs": [],
   "source": []
  }
 ],
 "metadata": {
  "kernelspec": {
   "display_name": "Python [conda env:spacy]",
   "language": "python",
   "name": "conda-env-spacy-py"
  },
  "language_info": {
   "codemirror_mode": {
    "name": "ipython",
    "version": 3
   },
   "file_extension": ".py",
   "mimetype": "text/x-python",
   "name": "python",
   "nbconvert_exporter": "python",
   "pygments_lexer": "ipython3",
   "version": "3.7.0"
  }
 },
 "nbformat": 4,
 "nbformat_minor": 2
}
