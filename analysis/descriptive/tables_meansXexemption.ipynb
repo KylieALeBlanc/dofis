{
 "cells": [
  {
   "cell_type": "code",
   "execution_count": 48,
   "metadata": {
    "collapsed": true
   },
   "outputs": [],
   "source": [
    "import sys\n",
    "sys.path.append(\"../\")\n",
    "\n",
    "import pandas as pd\n",
    "import os\n",
    "import numpy as np\n",
    "from library import tables\n",
    "from library import analysis\n",
    "\n"
   ]
  },
  {
   "cell_type": "code",
   "execution_count": 49,
   "metadata": {},
   "outputs": [
    {
     "name": "stderr",
     "output_type": "stream",
     "text": [
      "/Users/kylieleblancKylie/anaconda/envs/spacy/lib/python3.7/site-packages/IPython/core/interactiveshell.py:2785: DtypeWarning: Columns (7,8,416) have mixed types. Specify dtype option on import or set low_memory=False.\n",
      "  interactivity=interactivity, compiler=compiler, result=result)\n"
     ]
    }
   ],
   "source": [
    "data_path = '/Users/kylieleblancKylie/domino/dofis/data/'\n",
    "table_path = '/Users/kylieleblancKylie/domino/dofis/results/descriptive/'\n",
    "data = pd.read_csv(os.path.join(data_path, 'clean', 'master_data.csv'))\n",
    "data = data[data.year == 'yr1617']"
   ]
  },
  {
   "cell_type": "code",
   "execution_count": 50,
   "metadata": {},
   "outputs": [],
   "source": [
    "nonexempt = data[data['reg21_003']==False]\n",
    "exempt = data[data['reg21_003']==True]"
   ]
  },
  {
   "cell_type": "code",
   "execution_count": 51,
   "metadata": {},
   "outputs": [
    {
     "data": {
      "text/html": [
       "<div>\n",
       "<style scoped>\n",
       "    .dataframe tbody tr th:only-of-type {\n",
       "        vertical-align: middle;\n",
       "    }\n",
       "\n",
       "    .dataframe tbody tr th {\n",
       "        vertical-align: top;\n",
       "    }\n",
       "\n",
       "    .dataframe thead th {\n",
       "        text-align: right;\n",
       "    }\n",
       "</style>\n",
       "<table border=\"1\" class=\"dataframe\">\n",
       "  <thead>\n",
       "    <tr style=\"text-align: right;\">\n",
       "      <th></th>\n",
       "      <th>variable</th>\n",
       "      <th>nonexempt</th>\n",
       "      <th>exempt</th>\n",
       "      <th>pvalue</th>\n",
       "    </tr>\n",
       "  </thead>\n",
       "  <tbody>\n",
       "    <tr>\n",
       "      <th>0</th>\n",
       "      <td>type_urban</td>\n",
       "      <td>0.06</td>\n",
       "      <td>0.04</td>\n",
       "      <td></td>\n",
       "    </tr>\n",
       "    <tr>\n",
       "      <th>1</th>\n",
       "      <td>type_suburban</td>\n",
       "      <td>0.30</td>\n",
       "      <td>0.22</td>\n",
       "      <td>*</td>\n",
       "    </tr>\n",
       "    <tr>\n",
       "      <th>2</th>\n",
       "      <td>type_town</td>\n",
       "      <td>0.24</td>\n",
       "      <td>0.28</td>\n",
       "      <td></td>\n",
       "    </tr>\n",
       "    <tr>\n",
       "      <th>3</th>\n",
       "      <td>type_rural</td>\n",
       "      <td>0.40</td>\n",
       "      <td>0.45</td>\n",
       "      <td></td>\n",
       "    </tr>\n",
       "  </tbody>\n",
       "</table>\n",
       "</div>"
      ],
      "text/plain": [
       "        variable  nonexempt  exempt pvalue\n",
       "0     type_urban       0.06    0.04       \n",
       "1  type_suburban       0.30    0.22      *\n",
       "2      type_town       0.24    0.28       \n",
       "3     type_rural       0.40    0.45       "
      ]
     },
     "execution_count": 51,
     "metadata": {},
     "output_type": "execute_result"
    }
   ],
   "source": [
    "analysis.two_means_by_exemptions(data, 'reg21_003', \n",
    "                                 var_list = ['type_urban', 'type_suburban', 'type_town', 'type_rural'])"
   ]
  },
  {
   "cell_type": "markdown",
   "metadata": {},
   "source": [
    "# Certification"
   ]
  },
  {
   "cell_type": "code",
   "execution_count": 52,
   "metadata": {},
   "outputs": [
    {
     "name": "stdout",
     "output_type": "stream",
     "text": [
      "        variable  nonexempt  exempt pvalue\n",
      "0     type_urban       0.06    0.04       \n",
      "1  type_suburban       0.30    0.22      *\n",
      "2      type_town       0.24    0.28       \n",
      "3     type_rural       0.40    0.45       \n",
      "                  variable  nonexempt  exempt pvalue\n",
      "0      teachers_tenure_ave       7.35    6.99      *\n",
      "1  teachers_turnover_ratio       0.18    0.19      *\n",
      "        variable  nonexempt  exempt pvalue\n",
      "0  students_hisp       0.39    0.35      +\n",
      "1  students_frpl       0.56    0.56       \n",
      "2      avescores       0.33    0.29       \n"
     ]
    }
   ],
   "source": [
    "variables = ['type_urban', 'type_suburban', 'type_town', 'type_rural']\n",
    "df_geo = analysis.two_means_by_exemptions(data, 'reg21_003', \n",
    "                                 var_list = variables)\n",
    "print(df_geo)\n",
    "variables = ['teachers_tenure_ave', 'teachers_turnover_ratio']\n",
    "df_teachers = analysis.two_means_by_exemptions(data, 'reg21_003', \n",
    "                                 var_list = variables)\n",
    "print(df_teachers)\n",
    "variables = ['students_hisp', 'students_frpl', 'avescores']\n",
    "df_students = analysis.two_means_by_exemptions(data, 'reg21_003', \n",
    "                                 var_list = variables)\n",
    "print(df_students)"
   ]
  },
  {
   "cell_type": "code",
   "execution_count": 53,
   "metadata": {},
   "outputs": [],
   "source": [
    "dfs = [df_geo, df_teachers, df_students]\n",
    "rows = [6,11,14]\n",
    "for df,row in zip(dfs, rows):\n",
    "    tables.df_to_excel(file = table_path + 'means_certification.xlsx',\n",
    "                   df = df, df_columns = ['nonexempt', 'exempt', 'pvalue'], \n",
    "                   start_row = row, start_col = 2, all_ints = False)\n",
    "tables.n_to_excel(file = table_path + 'means_certification.xlsx', col = 2, row = 4, n = len(nonexempt))\n",
    "tables.n_to_excel(file = table_path + 'means_certification.xlsx', col = 3, row = 4, n = len(exempt))"
   ]
  },
  {
   "cell_type": "markdown",
   "metadata": {},
   "source": [
    "# Probation"
   ]
  },
  {
   "cell_type": "code",
   "execution_count": 54,
   "metadata": {},
   "outputs": [
    {
     "name": "stdout",
     "output_type": "stream",
     "text": [
      "        variable  nonexempt  exempt pvalue\n",
      "0     type_urban       0.07    0.01    ***\n",
      "1  type_suburban       0.27    0.20      *\n",
      "2      type_town       0.25    0.30      +\n",
      "3     type_rural       0.41    0.49      *\n",
      "                  variable  nonexempt  exempt pvalue\n",
      "0      teachers_tenure_ave       7.14    7.00       \n",
      "1  teachers_turnover_ratio       0.19    0.19       \n",
      "        variable  nonexempt  exempt pvalue\n",
      "0  students_hisp       0.38    0.33      *\n",
      "1  students_frpl       0.56    0.56       \n",
      "2      avescores       0.31    0.29       \n"
     ]
    }
   ],
   "source": [
    "variables = ['type_urban', 'type_suburban', 'type_town', 'type_rural']\n",
    "df_geo = analysis.two_means_by_exemptions(data, 'reg21_102', \n",
    "                                 var_list = variables)\n",
    "print(df_geo)\n",
    "variables = ['teachers_tenure_ave', 'teachers_turnover_ratio']\n",
    "df_teachers = analysis.two_means_by_exemptions(data, 'reg21_102', \n",
    "                                 var_list = variables)\n",
    "print(df_teachers)\n",
    "variables = ['students_hisp', 'students_frpl', 'avescores']\n",
    "df_students = analysis.two_means_by_exemptions(data, 'reg21_102', \n",
    "                                 var_list = variables)\n",
    "print(df_students)"
   ]
  },
  {
   "cell_type": "code",
   "execution_count": 55,
   "metadata": {
    "collapsed": true
   },
   "outputs": [],
   "source": [
    "dfs = [df_geo, df_teachers, df_students]\n",
    "rows = [6,11,14]\n",
    "for df,row in zip(dfs, rows):\n",
    "    tables.df_to_excel(file = table_path + 'means_probation.xlsx',\n",
    "                   df = df, df_columns = ['nonexempt', 'exempt', 'pvalue'], \n",
    "                   start_row = row, start_col = 2, all_ints = False)\n",
    "tables.n_to_excel(file = table_path + 'means_probation.xlsx', col = 2, row = 4, n = len(nonexempt))\n",
    "tables.n_to_excel(file = table_path + 'means_probation.xlsx', col = 3, row = 4, n = len(exempt))"
   ]
  },
  {
   "cell_type": "markdown",
   "metadata": {},
   "source": [
    "# Service Days"
   ]
  },
  {
   "cell_type": "code",
   "execution_count": 56,
   "metadata": {},
   "outputs": [
    {
     "name": "stdout",
     "output_type": "stream",
     "text": [
      "        variable  nonexempt  exempt pvalue\n",
      "0     type_urban       0.07    0.01    ***\n",
      "1  type_suburban       0.31    0.11    ***\n",
      "2      type_town       0.30    0.21     **\n",
      "3     type_rural       0.32    0.67    ***\n",
      "                  variable  nonexempt  exempt pvalue\n",
      "0      teachers_tenure_ave       7.15    6.95       \n",
      "1  teachers_turnover_ratio       0.18    0.20     **\n",
      "        variable  nonexempt  exempt pvalue\n",
      "0  students_hisp       0.37    0.35       \n",
      "1  students_frpl       0.55    0.58       \n",
      "2      avescores       0.33    0.23      +\n"
     ]
    }
   ],
   "source": [
    "variables = ['type_urban', 'type_suburban', 'type_town', 'type_rural']\n",
    "df_geo = analysis.two_means_by_exemptions(data, 'reg21_401', \n",
    "                                 var_list = variables)\n",
    "print(df_geo)\n",
    "variables = ['teachers_tenure_ave', 'teachers_turnover_ratio']\n",
    "df_teachers = analysis.two_means_by_exemptions(data, 'reg21_401', \n",
    "                                 var_list = variables)\n",
    "print(df_teachers)\n",
    "variables = ['students_hisp', 'students_frpl', 'avescores']\n",
    "df_students = analysis.two_means_by_exemptions(data, 'reg21_401', \n",
    "                                 var_list = variables)\n",
    "print(df_students)"
   ]
  },
  {
   "cell_type": "code",
   "execution_count": 57,
   "metadata": {
    "collapsed": true
   },
   "outputs": [],
   "source": [
    "dfs = [df_geo, df_teachers, df_students]\n",
    "rows = [6,11,14]\n",
    "for df,row in zip(dfs, rows):\n",
    "    tables.df_to_excel(file = table_path + 'means_service.xlsx',\n",
    "                   df = df, df_columns = ['nonexempt', 'exempt', 'pvalue'], \n",
    "                   start_row = row, start_col = 2, all_ints = False)\n",
    "tables.n_to_excel(file = table_path + 'means_service.xlsx', col = 2, row = 4, n = len(nonexempt))\n",
    "tables.n_to_excel(file = table_path + 'means_service.xlsx', col = 3, row = 4, n = len(exempt))"
   ]
  },
  {
   "cell_type": "code",
   "execution_count": null,
   "metadata": {
    "collapsed": true
   },
   "outputs": [],
   "source": []
  }
 ],
 "metadata": {
  "kernelspec": {
   "display_name": "Python [conda env:spacy]",
   "language": "python",
   "name": "conda-env-spacy-py"
  },
  "language_info": {
   "codemirror_mode": {
    "name": "ipython",
    "version": 3
   },
   "file_extension": ".py",
   "mimetype": "text/x-python",
   "name": "python",
   "nbconvert_exporter": "python",
   "pygments_lexer": "ipython3",
   "version": "3.7.0"
  }
 },
 "nbformat": 4,
 "nbformat_minor": 2
}
