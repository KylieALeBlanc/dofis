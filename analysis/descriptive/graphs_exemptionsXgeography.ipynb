{
 "cells": [
  {
   "cell_type": "code",
   "execution_count": 1,
   "metadata": {
    "collapsed": true
   },
   "outputs": [],
   "source": [
    "import sys\n",
    "sys.path.append(\"../\")\n",
    "\n",
    "import numpy as np\n",
    "import matplotlib as mpl\n",
    "import matplotlib.pyplot as plt\n",
    "import pandas as pd\n",
    "import os\n",
    "%matplotlib inline\n",
    "import math\n",
    "from library import graphs\n",
    "from library import regulations\n",
    "plt.style.use('seaborn-darkgrid')\n",
    "from matplotlib import rcParams\n",
    "import matplotlib.gridspec as gridspec\n",
    "palette = plt.get_cmap('Set1')\n"
   ]
  },
  {
   "cell_type": "code",
   "execution_count": 2,
   "metadata": {},
   "outputs": [
    {
     "name": "stderr",
     "output_type": "stream",
     "text": [
      "/Users/kylieleblancKylie/anaconda/envs/spacy/lib/python3.7/site-packages/IPython/core/interactiveshell.py:2785: DtypeWarning: Columns (7,8) have mixed types. Specify dtype option on import or set low_memory=False.\n",
      "  interactivity=interactivity, compiler=compiler, result=result)\n"
     ]
    }
   ],
   "source": [
    "data_path = '/Users/kylieleblancKylie/domino/dofis/data/'\n",
    "table_path = '/Users/kylieleblancKylie/domino/dofis/results/descriptive/'\n",
    "data = pd.read_csv(os.path.join(data_path, 'clean', 'master_data.csv'),\n",
    "                  sep=\",\")\n",
    "data = data[data.year == 'yr1415']"
   ]
  },
  {
   "cell_type": "code",
   "execution_count": 3,
   "metadata": {
    "collapsed": true
   },
   "outputs": [],
   "source": [
    "geo_order = {'Urban': 4, 'Suburban': 3, 'Town': 2, 'Rural': 1}\n",
    "schedules = ['reg25_0811', 'reg25_081', 'reg25_0812', 'reg25_082']\n",
    "class_size = ['reg25_112', 'reg25_113', 'reg25_111']\n",
    "certification = ['reg21_003', 'reg21_053', 'reg21_057']\n",
    "contracts = ['reg21_102', 'reg21_401', 'reg21_352', 'reg21_354']\n",
    "behavior = ['reg25_092', 'reg37_0012', 'reg25_036']"
   ]
  },
  {
   "cell_type": "markdown",
   "metadata": {},
   "source": [
    "# Schedules"
   ]
  },
  {
   "cell_type": "code",
   "execution_count": 4,
   "metadata": {},
   "outputs": [
    {
     "name": "stderr",
     "output_type": "stream",
     "text": [
      "../library/graphs.py:9: FutureWarning: using a dict on a Series for aggregation\n",
      "is deprecated and will be removed in a future version\n",
      "  bar_df = data.groupby([group_var])[x_var].agg({'reg_mean': 'mean', 'reg_std':'std', 'reg_count': 'count'})\n"
     ]
    },
    {
     "data": {
      "image/png": "[encoded data removed]",
      "text/plain": [
       "<Figure size 720x720 with 4 Axes>"
      ]
     },
     "metadata": {},
     "output_type": "display_data"
    }
   ],
   "source": [
    "f, ((ax1, ax2), (ax3, ax4)) = plt.subplots(2, 2, sharey='row', figsize = (10, 10))\n",
    "#gs1 = gridspec.GridSpec(2, 2)\n",
    "for ax, reg in zip([ax1, ax2, ax3, ax4], range(0, 4)):\n",
    "    bar_df = graphs.create_bar_df(data = data, group_var = 'geography', x_var = schedules[reg], group_order_dict = geo_order)\n",
    "    ax.bar(bar_df['geography'], bar_df['reg_mean'], yerr= bar_df['se'] * 1.98 * 2 ,color=palette(bar_df['order']))\n",
    "    ax.set_ylim(0,1)\n",
    "    ax.set_title(regulations.labels_short[schedules[reg]], fontsize = 14)\n",
    "f.suptitle('Scheduling Exemptions', fontsize=16)\n",
    "\n",
    "f.savefig(table_path + 'bar_geo_scheduling.png', dpi = 600)\n",
    "plt.show()\n"
   ]
  },
  {
   "cell_type": "markdown",
   "metadata": {},
   "source": [
    "# Class Size"
   ]
  },
  {
   "cell_type": "code",
   "execution_count": null,
   "metadata": {},
   "outputs": [
    {
     "name": "stderr",
     "output_type": "stream",
     "text": [
      "../library/graphs.py:9: FutureWarning: using a dict on a Series for aggregation\n",
      "is deprecated and will be removed in a future version\n",
      "  bar_df = data.groupby([group_var])[x_var].agg({'reg_mean': 'mean', 'reg_std':'std', 'reg_count': 'count'})\n"
     ]
    }
   ],
   "source": [
    "\n",
    "f, ((ax1, ax2), (ax3, ax4)) = plt.subplots(2, 2, sharey='row', sharex = 'col', figsize = (10,10))\n",
    "for ax, reg in zip([ax1, ax2, ax3], range(0, 3)):\n",
    "    bar_df = graphs.create_bar_df(data = data, group_var = 'geography', x_var = class_size[reg], group_order_dict = geo_order)\n",
    "    ax.bar(bar_df['geography'], bar_df['reg_mean'], yerr= bar_df['se'] * 1.98 * 2 ,color=palette(bar_df['order']))\n",
    "    ax.set_ylim(0,1)\n",
    "    ax.set_title(regulations.labels_short[class_size[reg]])\n",
    "    ax.set_aspect('auto')\n",
    "f.suptitle('Class Size Exemptions', fontsize=20)\n",
    "\n",
    "f.savefig(table_path + 'bar_geo_classsize.png', dpi = 600)\n",
    "\n",
    "#from IPython.display import Image\n",
    "#Image(table_path + 'Geography X Class Sizes.png')"
   ]
  },
  {
   "cell_type": "markdown",
   "metadata": {},
   "source": [
    "# Certification"
   ]
  },
  {
   "cell_type": "code",
   "execution_count": null,
   "metadata": {},
   "outputs": [],
   "source": [
    "\n",
    "f, ((ax1, ax2), (ax3, ax4)) = plt.subplots(2, 2, sharey='row', figsize = (10,10))\n",
    "for ax, reg in zip([ax1, ax2, ax3], range(0, 3)):\n",
    "    bar_df = graphs.create_bar_df(data = data, group_var = 'geography', x_var = certification[reg], group_order_dict = geo_order)\n",
    "    ax.bar(bar_df['geography'], bar_df['reg_mean'], yerr= bar_df['se'] * 1.98 * 2 ,color=palette(bar_df['order']))\n",
    "    ax.set_ylim(0,1)\n",
    "    ax.set_title(regulations.labels_short[certification[reg]])\n",
    "    ax.set_aspect('auto')\n",
    "ax4.axis('off')\n",
    "# Hide axes ticks\n",
    "\n",
    "f.suptitle('Certification Exemptions', fontsize=16)\n",
    "\n",
    "f.savefig(table_path + 'bar_geo_certification.png', dpi = 600)\n",
    "\n",
    "#from IPython.display import Image\n",
    "#Image(table_path + 'Geography X Class Sizes.png')"
   ]
  },
  {
   "cell_type": "markdown",
   "metadata": {},
   "source": [
    "# Contracts"
   ]
  },
  {
   "cell_type": "code",
   "execution_count": null,
   "metadata": {},
   "outputs": [],
   "source": [
    "\n",
    "f, ((ax1, ax2, ax3)) = plt.subplots(1, 3,  figsize = (10,10))\n",
    "for ax, reg in zip([ax1, ax2, ax3], range(0, 3)):\n",
    "    bar_df = graphs.create_bar_df(data = data, group_var = 'geography', x_var = contracts[reg], group_order_dict = geo_order)\n",
    "    ax.bar(bar_df['geography'], bar_df['reg_mean'], yerr= bar_df['se'] * 1.98 * 2 ,color=palette(bar_df['order']))\n",
    "    ax.set_ylim(0,1)\n",
    "    ax.set_title(regulations.labels_short[contracts[reg]])\n",
    "    ax.set_aspect('auto')\n",
    "f.suptitle('Contract Exemptions', fontsize=16)\n",
    "\n",
    "f.savefig(table_path + 'bar_geo_contracts.png', dpi = 600)\n",
    "\n",
    "#from IPython.display import Image\n",
    "#Image(table_path + 'Geography X Class Sizes.png')\n"
   ]
  },
  {
   "cell_type": "code",
   "execution_count": null,
   "metadata": {
    "collapsed": true
   },
   "outputs": [],
   "source": []
  }
 ],
 "metadata": {
  "kernelspec": {
   "display_name": "Python [conda env:spacy]",
   "language": "python",
   "name": "conda-env-spacy-py"
  },
  "language_info": {
   "codemirror_mode": {
    "name": "ipython",
    "version": 3
   },
   "file_extension": ".py",
   "mimetype": "text/x-python",
   "name": "python",
   "nbconvert_exporter": "python",
   "pygments_lexer": "ipython3",
   "version": "3.7.0"
  }
 },
 "nbformat": 4,
 "nbformat_minor": 2
}
