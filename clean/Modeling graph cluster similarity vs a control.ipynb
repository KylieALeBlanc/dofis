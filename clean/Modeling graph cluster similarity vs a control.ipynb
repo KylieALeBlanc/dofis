{
 "cells": [
  {
   "cell_type": "code",
   "execution_count": 29,
   "metadata": {},
   "outputs": [],
   "source": [
    "import pymc3 as pmc\n",
    "import os\n",
    "import json\n",
    "import scipy\n",
    "import requests\n",
    "import pickle\n",
    "import bokeh\n",
    "\n",
    "import sklearn as sk\n",
    "import numpy as np\n",
    "import pandas as pd\n",
    "import matplotlib.pyplot as plt\n",
    "\n",
    "from pathlib import Path\n",
    "from bokeh.plotting import ColumnDataSource, figure\n",
    "from bokeh.io import output_file, show, output_notebook\n",
    "from bokeh.models.tools import HoverTool\n",
    "from bokeh.models import Span\n",
    "\n",
    "pd.options.display.max_rows\n",
    "pd.set_option('display.max_colwidth', -1)\n",
    "pd.set_option('display.max_rows', 500)\n",
    "pd.set_option('display.max_columns', 500)\n",
    "pd.set_option('display.width', 1000)"
   ]
  },
  {
   "cell_type": "code",
   "execution_count": 14,
   "metadata": {},
   "outputs": [],
   "source": [
    "with open(Path('..') / '..' / 'data' / 'clustered.pkl', 'rb') as file:\n",
    "    clustered = pickle.load(file)\n",
    "    \n",
    "with open(Path('..') / '..' / 'data' / 'control.pkl', 'rb') as file:\n",
    "    control = pickle.load(file)"
   ]
  },
  {
   "cell_type": "code",
   "execution_count": 30,
   "metadata": {},
   "outputs": [],
   "source": [
    "%matplotlib inline\n",
    "def histogram(iterable):\n",
    "    \"\"\"Make a histogram using NumPy\"\"\"\n",
    "    hist, bins = np.histogram(iterable, bins=10)\n",
    "    width = 0.7 * (bins[1] - bins[0])\n",
    "    center = (bins[:-1] + bins[1:]) / 2\n",
    "    plt.bar(center, hist, align='center', width=width)\n",
    "    plt.show()"
   ]
  },
  {
   "cell_type": "code",
   "execution_count": 31,
   "metadata": {},
   "outputs": [
    {
     "data": {
      "image/png": "[encoded data removed]",
      "text/plain": [
       "<Figure size 432x288 with 1 Axes>"
      ]
     },
     "metadata": {},
     "output_type": "display_data"
    }
   ],
   "source": [
    "histogram(list(map(np.mean, clustered)))"
   ]
  },
  {
   "cell_type": "code",
   "execution_count": 32,
   "metadata": {},
   "outputs": [
    {
     "data": {
      "image/png": "[encoded data removed]",
      "text/plain": [
       "<Figure size 432x288 with 1 Axes>"
      ]
     },
     "metadata": {},
     "output_type": "display_data"
    }
   ],
   "source": [
    "histogram(list(map(np.mean, control)))"
   ]
  },
  {
   "cell_type": "code",
   "execution_count": 34,
   "metadata": {},
   "outputs": [
    {
     "name": "stderr",
     "output_type": "stream",
     "text": [
      "logp = 26.414, ||grad|| = 20.214: 100%|██████████| 17/17 [00:00<00:00, 1644.90it/s]  \n",
      "Multiprocess sampling (4 chains in 4 jobs)\n",
      "CompoundStep\n",
      ">Metropolis: [μ_2]\n",
      ">Metropolis: [μ_1]\n",
      ">Metropolis: [sd_2]\n",
      ">Metropolis: [sd_1]\n",
      "Sampling 4 chains: 100%|██████████| 202000/202000 [01:00<00:00, 3332.27draws/s]\n",
      "The number of effective samples is smaller than 10% for some parameters.\n"
     ]
    }
   ],
   "source": [
    "observed = list(map(np.mean, clustered))\n",
    "controlled = list(map(np.mean, control))\n",
    "\n",
    "with pmc.Model() as control_model:\n",
    "    sd_1 = pmc.Uniform('sd_1', lower=0, upper=1)\n",
    "    sd_2 = pmc.Uniform('sd_2', lower=0, upper=1)\n",
    "    μ_1 = pmc.Normal('μ_1', \n",
    "                    mu=np.mean(list(map(np.mean, clustered + control))),\n",
    "                    sd=2 * np.std(list(map(np.mean, clustered + control)))\n",
    "                   )\n",
    "    μ_2 = pmc.Normal('μ_2', \n",
    "                    mu=np.mean(list(map(np.mean, clustered + control))),\n",
    "                    sd=2 * np.std(list(map(np.mean, clustered + control)))\n",
    "                   )\n",
    "    \n",
    "    obs_means_1 = pmc.Normal('obs_means_1', mu=μ_1, sd=sd_1, \n",
    "                             observed=observed)\n",
    "    obs_means_2 = pmc.Normal('obs_means_2', mu=μ_2, sd=sd_2,\n",
    "                             observed=controlled)\n",
    "    \n",
    "    diff_of_sds = pmc.Deterministic('Diff_of_sds', sd_2 - sd_1)\n",
    "    \n",
    "map_estimate = pmc.find_MAP(model=control_model)\n",
    "\n",
    "with control_model:\n",
    "    start = map_estimate\n",
    "    \n",
    "    step = pmc.Metropolis()\n",
    "    \n",
    "    control_trace = pmc.sample(50_000, step=step, start=start)"
   ]
  },
  {
   "cell_type": "code",
   "execution_count": 35,
   "metadata": {},
   "outputs": [],
   "source": [
    "tr = control_trace[40_000:]  # Burn in a log ways\n",
    "trace_df = pmc.trace_to_dataframe(tr).tail(10_000)\n"
   ]
  },
  {
   "cell_type": "code",
   "execution_count": 41,
   "metadata": {},
   "outputs": [
    {
     "data": {
      "text/html": [
       "\n",
       "    <div class=\"bk-root\">\n",
       "        <a href=\"https://bokeh.pydata.org\" target=\"_blank\" class=\"bk-logo bk-logo-small bk-logo-notebook\"></a>\n",
       "        <span id=\"da39cae8-39bc-47d5-a417-5dcacbd513fc\">Loading BokehJS ...</span>\n",
       "    </div>"
      ]
     },
     "metadata": {},
     "output_type": "display_data"
    },
    {
     "data": {
      "application/javascript": [
       "\n",
       "(function(root) {\n",
       "  function now() {\n",
       "    return new Date();\n",
       "  }\n",
       "\n",
       "  var force = true;\n",
       "\n",
       "  if (typeof (root._bokeh_onload_callbacks) === \"undefined\" || force === true) {\n",
       "    root._bokeh_onload_callbacks = [];\n",
       "    root._bokeh_is_loading = undefined;\n",
       "  }\n",
       "\n",
       "  var JS_MIME_TYPE = 'application/javascript';\n",
       "  var HTML_MIME_TYPE = 'text/html';\n",
       "  var EXEC_MIME_TYPE = 'application/vnd.bokehjs_exec.v0+json';\n",
       "  var CLASS_NAME = 'output_bokeh rendered_html';\n",
       "\n",
       "  /**\n",
       "   * Render data to the DOM node\n",
       "   */\n",
       "  function render(props, node) {\n",
       "    var script = document.createElement(\"script\");\n",
       "    node.appendChild(script);\n",
       "  }\n",
       "\n",
       "  /**\n",
       "   * Handle when an output is cleared or removed\n",
       "   */\n",
       "  function handleClearOutput(event, handle) {\n",
       "    var cell = handle.cell;\n",
       "\n",
       "    var id = cell.output_area._bokeh_element_id;\n",
       "    var server_id = cell.output_area._bokeh_server_id;\n",
       "    // Clean up Bokeh references\n",
       "    if (id !== undefined) {\n",
       "      Bokeh.index[id].model.document.clear();\n",
       "      delete Bokeh.index[id];\n",
       "    }\n",
       "\n",
       "    if (server_id !== undefined) {\n",
       "      // Clean up Bokeh references\n",
       "      var cmd = \"from bokeh.io.state import curstate; print(curstate().uuid_to_server['\" + server_id + \"'].get_sessions()[0].document.roots[0]._id)\";\n",
       "      cell.notebook.kernel.execute(cmd, {\n",
       "        iopub: {\n",
       "          output: function(msg) {\n",
       "            var element_id = msg.content.text.trim();\n",
       "            Bokeh.index[element_id].model.document.clear();\n",
       "            delete Bokeh.index[element_id];\n",
       "          }\n",
       "        }\n",
       "      });\n",
       "      // Destroy server and session\n",
       "      var cmd = \"import bokeh.io.notebook as ion; ion.destroy_server('\" + server_id + \"')\";\n",
       "      cell.notebook.kernel.execute(cmd);\n",
       "    }\n",
       "  }\n",
       "\n",
       "  /**\n",
       "   * Handle when a new output is added\n",
       "   */\n",
       "  function handleAddOutput(event, handle) {\n",
       "    var output_area = handle.output_area;\n",
       "    var output = handle.output;\n",
       "\n",
       "    // limit handleAddOutput to display_data with EXEC_MIME_TYPE content only\n",
       "    if ((output.output_type != \"display_data\") || (!output.data.hasOwnProperty(EXEC_MIME_TYPE))) {\n",
       "      return\n",
       "    }\n",
       "\n",
       "    var toinsert = output_area.element.find(\".\" + CLASS_NAME.split(' ')[0]);\n",
       "\n",
       "    if (output.metadata[EXEC_MIME_TYPE][\"id\"] !== undefined) {\n",
       "      toinsert[toinsert.length - 1].firstChild.textContent = output.data[JS_MIME_TYPE];\n",
       "      // store reference to embed id on output_area\n",
       "      output_area._bokeh_element_id = output.metadata[EXEC_MIME_TYPE][\"id\"];\n",
       "    }\n",
       "    if (output.metadata[EXEC_MIME_TYPE][\"server_id\"] !== undefined) {\n",
       "      var bk_div = document.createElement(\"div\");\n",
       "      bk_div.innerHTML = output.data[HTML_MIME_TYPE];\n",
       "      var script_attrs = bk_div.children[0].attributes;\n",
       "      for (var i = 0; i < script_attrs.length; i++) {\n",
       "        toinsert[toinsert.length - 1].firstChild.setAttribute(script_attrs[i].name, script_attrs[i].value);\n",
       "      }\n",
       "      // store reference to server id on output_area\n",
       "      output_area._bokeh_server_id = output.metadata[EXEC_MIME_TYPE][\"server_id\"];\n",
       "    }\n",
       "  }\n",
       "\n",
       "  function register_renderer(events, OutputArea) {\n",
       "\n",
       "    function append_mime(data, metadata, element) {\n",
       "      // create a DOM node to render to\n",
       "      var toinsert = this.create_output_subarea(\n",
       "        metadata,\n",
       "        CLASS_NAME,\n",
       "        EXEC_MIME_TYPE\n",
       "      );\n",
       "      this.keyboard_manager.register_events(toinsert);\n",
       "      // Render to node\n",
       "      var props = {data: data, metadata: metadata[EXEC_MIME_TYPE]};\n",
       "      render(props, toinsert[toinsert.length - 1]);\n",
       "      element.append(toinsert);\n",
       "      return toinsert\n",
       "    }\n",
       "\n",
       "    /* Handle when an output is cleared or removed */\n",
       "    events.on('clear_output.CodeCell', handleClearOutput);\n",
       "    events.on('delete.Cell', handleClearOutput);\n",
       "\n",
       "    /* Handle when a new output is added */\n",
       "    events.on('output_added.OutputArea', handleAddOutput);\n",
       "\n",
       "    /**\n",
       "     * Register the mime type and append_mime function with output_area\n",
       "     */\n",
       "    OutputArea.prototype.register_mime_type(EXEC_MIME_TYPE, append_mime, {\n",
       "      /* Is output safe? */\n",
       "      safe: true,\n",
       "      /* Index of renderer in `output_area.display_order` */\n",
       "      index: 0\n",
       "    });\n",
       "  }\n",
       "\n",
       "  // register the mime type if in Jupyter Notebook environment and previously unregistered\n",
       "  if (root.Jupyter !== undefined) {\n",
       "    var events = require('base/js/events');\n",
       "    var OutputArea = require('notebook/js/outputarea').OutputArea;\n",
       "\n",
       "    if (OutputArea.prototype.mime_types().indexOf(EXEC_MIME_TYPE) == -1) {\n",
       "      register_renderer(events, OutputArea);\n",
       "    }\n",
       "  }\n",
       "\n",
       "  \n",
       "  if (typeof (root._bokeh_timeout) === \"undefined\" || force === true) {\n",
       "    root._bokeh_timeout = Date.now() + 5000;\n",
       "    root._bokeh_failed_load = false;\n",
       "  }\n",
       "\n",
       "  var NB_LOAD_WARNING = {'data': {'text/html':\n",
       "     \"<div style='background-color: #fdd'>\\n\"+\n",
       "     \"<p>\\n\"+\n",
       "     \"BokehJS does not appear to have successfully loaded. If loading BokehJS from CDN, this \\n\"+\n",
       "     \"may be due to a slow or bad network connection. Possible fixes:\\n\"+\n",
       "     \"</p>\\n\"+\n",
       "     \"<ul>\\n\"+\n",
       "     \"<li>re-rerun `output_notebook()` to attempt to load from CDN again, or</li>\\n\"+\n",
       "     \"<li>use INLINE resources instead, as so:</li>\\n\"+\n",
       "     \"</ul>\\n\"+\n",
       "     \"<code>\\n\"+\n",
       "     \"from bokeh.resources import INLINE\\n\"+\n",
       "     \"output_notebook(resources=INLINE)\\n\"+\n",
       "     \"</code>\\n\"+\n",
       "     \"</div>\"}};\n",
       "\n",
       "  function display_loaded() {\n",
       "    var el = document.getElementById(\"da39cae8-39bc-47d5-a417-5dcacbd513fc\");\n",
       "    if (el != null) {\n",
       "      el.textContent = \"BokehJS is loading...\";\n",
       "    }\n",
       "    if (root.Bokeh !== undefined) {\n",
       "      if (el != null) {\n",
       "        el.textContent = \"BokehJS \" + root.Bokeh.version + \" successfully loaded.\";\n",
       "      }\n",
       "    } else if (Date.now() < root._bokeh_timeout) {\n",
       "      setTimeout(display_loaded, 100)\n",
       "    }\n",
       "  }\n",
       "\n",
       "\n",
       "  function run_callbacks() {\n",
       "    try {\n",
       "      root._bokeh_onload_callbacks.forEach(function(callback) { callback() });\n",
       "    }\n",
       "    finally {\n",
       "      delete root._bokeh_onload_callbacks\n",
       "    }\n",
       "    console.info(\"Bokeh: all callbacks have finished\");\n",
       "  }\n",
       "\n",
       "  function load_libs(js_urls, callback) {\n",
       "    root._bokeh_onload_callbacks.push(callback);\n",
       "    if (root._bokeh_is_loading > 0) {\n",
       "      console.log(\"Bokeh: BokehJS is being loaded, scheduling callback at\", now());\n",
       "      return null;\n",
       "    }\n",
       "    if (js_urls == null || js_urls.length === 0) {\n",
       "      run_callbacks();\n",
       "      return null;\n",
       "    }\n",
       "    console.log(\"Bokeh: BokehJS not loaded, scheduling load and callback at\", now());\n",
       "    root._bokeh_is_loading = js_urls.length;\n",
       "    for (var i = 0; i < js_urls.length; i++) {\n",
       "      var url = js_urls[i];\n",
       "      var s = document.createElement('script');\n",
       "      s.src = url;\n",
       "      s.async = false;\n",
       "      s.onreadystatechange = s.onload = function() {\n",
       "        root._bokeh_is_loading--;\n",
       "        if (root._bokeh_is_loading === 0) {\n",
       "          console.log(\"Bokeh: all BokehJS libraries loaded\");\n",
       "          run_callbacks()\n",
       "        }\n",
       "      };\n",
       "      s.onerror = function() {\n",
       "        console.warn(\"failed to load library \" + url);\n",
       "      };\n",
       "      console.log(\"Bokeh: injecting script tag for BokehJS library: \", url);\n",
       "      document.getElementsByTagName(\"head\")[0].appendChild(s);\n",
       "    }\n",
       "  };var element = document.getElementById(\"da39cae8-39bc-47d5-a417-5dcacbd513fc\");\n",
       "  if (element == null) {\n",
       "    console.log(\"Bokeh: ERROR: autoload.js configured with elementid 'da39cae8-39bc-47d5-a417-5dcacbd513fc' but no matching script tag was found. \")\n",
       "    return false;\n",
       "  }\n",
       "\n",
       "  var js_urls = [\"https://cdn.pydata.org/bokeh/release/bokeh-0.12.16.min.js\", \"https://cdn.pydata.org/bokeh/release/bokeh-widgets-0.12.16.min.js\", \"https://cdn.pydata.org/bokeh/release/bokeh-tables-0.12.16.min.js\", \"https://cdn.pydata.org/bokeh/release/bokeh-gl-0.12.16.min.js\"];\n",
       "\n",
       "  var inline_js = [\n",
       "    function(Bokeh) {\n",
       "      Bokeh.set_log_level(\"info\");\n",
       "    },\n",
       "    \n",
       "    function(Bokeh) {\n",
       "      \n",
       "    },\n",
       "    function(Bokeh) {\n",
       "      console.log(\"Bokeh: injecting CSS: https://cdn.pydata.org/bokeh/release/bokeh-0.12.16.min.css\");\n",
       "      Bokeh.embed.inject_css(\"https://cdn.pydata.org/bokeh/release/bokeh-0.12.16.min.css\");\n",
       "      console.log(\"Bokeh: injecting CSS: https://cdn.pydata.org/bokeh/release/bokeh-widgets-0.12.16.min.css\");\n",
       "      Bokeh.embed.inject_css(\"https://cdn.pydata.org/bokeh/release/bokeh-widgets-0.12.16.min.css\");\n",
       "      console.log(\"Bokeh: injecting CSS: https://cdn.pydata.org/bokeh/release/bokeh-tables-0.12.16.min.css\");\n",
       "      Bokeh.embed.inject_css(\"https://cdn.pydata.org/bokeh/release/bokeh-tables-0.12.16.min.css\");\n",
       "    }\n",
       "  ];\n",
       "\n",
       "  function run_inline_js() {\n",
       "    \n",
       "    if ((root.Bokeh !== undefined) || (force === true)) {\n",
       "      for (var i = 0; i < inline_js.length; i++) {\n",
       "        inline_js[i].call(root, root.Bokeh);\n",
       "      }if (force === true) {\n",
       "        display_loaded();\n",
       "      }} else if (Date.now() < root._bokeh_timeout) {\n",
       "      setTimeout(run_inline_js, 100);\n",
       "    } else if (!root._bokeh_failed_load) {\n",
       "      console.log(\"Bokeh: BokehJS failed to load within specified timeout.\");\n",
       "      root._bokeh_failed_load = true;\n",
       "    } else if (force !== true) {\n",
       "      var cell = $(document.getElementById(\"da39cae8-39bc-47d5-a417-5dcacbd513fc\")).parents('.cell').data().cell;\n",
       "      cell.output_area.append_execute_result(NB_LOAD_WARNING)\n",
       "    }\n",
       "\n",
       "  }\n",
       "\n",
       "  if (root._bokeh_is_loading === 0) {\n",
       "    console.log(\"Bokeh: BokehJS loaded, going straight to plotting\");\n",
       "    run_inline_js();\n",
       "  } else {\n",
       "    load_libs(js_urls, function() {\n",
       "      console.log(\"Bokeh: BokehJS plotting callback run at\", now());\n",
       "      run_inline_js();\n",
       "    });\n",
       "  }\n",
       "}(window));"
      ],
      "application/vnd.bokehjs_load.v0+json": "\n(function(root) {\n  function now() {\n    return new Date();\n  }\n\n  var force = true;\n\n  if (typeof (root._bokeh_onload_callbacks) === \"undefined\" || force === true) {\n    root._bokeh_onload_callbacks = [];\n    root._bokeh_is_loading = undefined;\n  }\n\n  \n\n  \n  if (typeof (root._bokeh_timeout) === \"undefined\" || force === true) {\n    root._bokeh_timeout = Date.now() + 5000;\n    root._bokeh_failed_load = false;\n  }\n\n  var NB_LOAD_WARNING = {'data': {'text/html':\n     \"<div style='background-color: #fdd'>\\n\"+\n     \"<p>\\n\"+\n     \"BokehJS does not appear to have successfully loaded. If loading BokehJS from CDN, this \\n\"+\n     \"may be due to a slow or bad network connection. Possible fixes:\\n\"+\n     \"</p>\\n\"+\n     \"<ul>\\n\"+\n     \"<li>re-rerun `output_notebook()` to attempt to load from CDN again, or</li>\\n\"+\n     \"<li>use INLINE resources instead, as so:</li>\\n\"+\n     \"</ul>\\n\"+\n     \"<code>\\n\"+\n     \"from bokeh.resources import INLINE\\n\"+\n     \"output_notebook(resources=INLINE)\\n\"+\n     \"</code>\\n\"+\n     \"</div>\"}};\n\n  function display_loaded() {\n    var el = document.getElementById(\"da39cae8-39bc-47d5-a417-5dcacbd513fc\");\n    if (el != null) {\n      el.textContent = \"BokehJS is loading...\";\n    }\n    if (root.Bokeh !== undefined) {\n      if (el != null) {\n        el.textContent = \"BokehJS \" + root.Bokeh.version + \" successfully loaded.\";\n      }\n    } else if (Date.now() < root._bokeh_timeout) {\n      setTimeout(display_loaded, 100)\n    }\n  }\n\n\n  function run_callbacks() {\n    try {\n      root._bokeh_onload_callbacks.forEach(function(callback) { callback() });\n    }\n    finally {\n      delete root._bokeh_onload_callbacks\n    }\n    console.info(\"Bokeh: all callbacks have finished\");\n  }\n\n  function load_libs(js_urls, callback) {\n    root._bokeh_onload_callbacks.push(callback);\n    if (root._bokeh_is_loading > 0) {\n      console.log(\"Bokeh: BokehJS is being loaded, scheduling callback at\", now());\n      return null;\n    }\n    if (js_urls == null || js_urls.length === 0) {\n      run_callbacks();\n      return null;\n    }\n    console.log(\"Bokeh: BokehJS not loaded, scheduling load and callback at\", now());\n    root._bokeh_is_loading = js_urls.length;\n    for (var i = 0; i < js_urls.length; i++) {\n      var url = js_urls[i];\n      var s = document.createElement('script');\n      s.src = url;\n      s.async = false;\n      s.onreadystatechange = s.onload = function() {\n        root._bokeh_is_loading--;\n        if (root._bokeh_is_loading === 0) {\n          console.log(\"Bokeh: all BokehJS libraries loaded\");\n          run_callbacks()\n        }\n      };\n      s.onerror = function() {\n        console.warn(\"failed to load library \" + url);\n      };\n      console.log(\"Bokeh: injecting script tag for BokehJS library: \", url);\n      document.getElementsByTagName(\"head\")[0].appendChild(s);\n    }\n  };var element = document.getElementById(\"da39cae8-39bc-47d5-a417-5dcacbd513fc\");\n  if (element == null) {\n    console.log(\"Bokeh: ERROR: autoload.js configured with elementid 'da39cae8-39bc-47d5-a417-5dcacbd513fc' but no matching script tag was found. \")\n    return false;\n  }\n\n  var js_urls = [\"https://cdn.pydata.org/bokeh/release/bokeh-0.12.16.min.js\", \"https://cdn.pydata.org/bokeh/release/bokeh-widgets-0.12.16.min.js\", \"https://cdn.pydata.org/bokeh/release/bokeh-tables-0.12.16.min.js\", \"https://cdn.pydata.org/bokeh/release/bokeh-gl-0.12.16.min.js\"];\n\n  var inline_js = [\n    function(Bokeh) {\n      Bokeh.set_log_level(\"info\");\n    },\n    \n    function(Bokeh) {\n      \n    },\n    function(Bokeh) {\n      console.log(\"Bokeh: injecting CSS: https://cdn.pydata.org/bokeh/release/bokeh-0.12.16.min.css\");\n      Bokeh.embed.inject_css(\"https://cdn.pydata.org/bokeh/release/bokeh-0.12.16.min.css\");\n      console.log(\"Bokeh: injecting CSS: https://cdn.pydata.org/bokeh/release/bokeh-widgets-0.12.16.min.css\");\n      Bokeh.embed.inject_css(\"https://cdn.pydata.org/bokeh/release/bokeh-widgets-0.12.16.min.css\");\n      console.log(\"Bokeh: injecting CSS: https://cdn.pydata.org/bokeh/release/bokeh-tables-0.12.16.min.css\");\n      Bokeh.embed.inject_css(\"https://cdn.pydata.org/bokeh/release/bokeh-tables-0.12.16.min.css\");\n    }\n  ];\n\n  function run_inline_js() {\n    \n    if ((root.Bokeh !== undefined) || (force === true)) {\n      for (var i = 0; i < inline_js.length; i++) {\n        inline_js[i].call(root, root.Bokeh);\n      }if (force === true) {\n        display_loaded();\n      }} else if (Date.now() < root._bokeh_timeout) {\n      setTimeout(run_inline_js, 100);\n    } else if (!root._bokeh_failed_load) {\n      console.log(\"Bokeh: BokehJS failed to load within specified timeout.\");\n      root._bokeh_failed_load = true;\n    } else if (force !== true) {\n      var cell = $(document.getElementById(\"da39cae8-39bc-47d5-a417-5dcacbd513fc\")).parents('.cell').data().cell;\n      cell.output_area.append_execute_result(NB_LOAD_WARNING)\n    }\n\n  }\n\n  if (root._bokeh_is_loading === 0) {\n    console.log(\"Bokeh: BokehJS loaded, going straight to plotting\");\n    run_inline_js();\n  } else {\n    load_libs(js_urls, function() {\n      console.log(\"Bokeh: BokehJS plotting callback run at\", now());\n      run_inline_js();\n    });\n  }\n}(window));"
     },
     "metadata": {},
     "output_type": "display_data"
    },
    {
     "name": "stderr",
     "output_type": "stream",
     "text": [
      "/Users/zach_anglin/anaconda3/envs/py36/lib/python3.6/site-packages/bokeh/models/sources.py:110: BokehUserWarning: ColumnDataSource's columns must be of the same length. Current lengths: ('data_cum_value', 50), ('data_value', 50), ('edges', 51)\n",
      "  \"Current lengths: %s\" % \", \".join(sorted(str((k, len(v))) for k, v in data.items())), BokehUserWarning))\n",
      "/Users/zach_anglin/anaconda3/envs/py36/lib/python3.6/site-packages/bokeh/models/sources.py:110: BokehUserWarning: ColumnDataSource's columns must be of the same length. Current lengths: ('data_cum_value', 50), ('data_value', 50), ('edges', 51)\n",
      "  \"Current lengths: %s\" % \", \".join(sorted(str((k, len(v))) for k, v in data.items())), BokehUserWarning))\n"
     ]
    },
    {
     "data": {
      "text/html": [
       "\n",
       "<div class=\"bk-root\">\n",
       "    <div class=\"bk-plotdiv\" id=\"1ae64063-5368-4078-9fec-1c76f6ca41a2\"></div>\n",
       "</div>"
      ]
     },
     "metadata": {},
     "output_type": "display_data"
    },
    {
     "data": {
      "application/javascript": [
       "(function(root) {\n",
       "  function embed_document(root) {\n",
       "    \n",
       "  var docs_json = {\"ea91f893-df3c-4f34-b555-71d273f95d4f\":{\"roots\":{\"references\":[{\"attributes\":{},\"id\":\"26869f28-5f5d-4421-b15a-618cae3f0e1b\",\"type\":\"LinearScale\"},{\"attributes\":{},\"id\":\"a99b7d3c-b5f7-4239-bd15-26b1f35ee03f\",\"type\":\"BasicTicker\"},{\"attributes\":{},\"id\":\"2b118e6b-6780-49e8-9339-5522d81e8db4\",\"type\":\"ResetTool\"},{\"attributes\":{\"items\":[{\"id\":\"788136d8-760b-490f-93cc-5cd11a61f5a1\",\"type\":\"LegendItem\"},{\"id\":\"ac8cc8c4-2027-4ff0-8a0c-b40f7e7e4fd5\",\"type\":\"LegendItem\"}],\"plot\":{\"id\":\"a17dc823-bb4d-4e41-a866-91254f89763f\",\"subtype\":\"Figure\",\"type\":\"Plot\"}},\"id\":\"4af9e73e-a3d4-4597-a747-087bb9767b61\",\"type\":\"Legend\"},{\"attributes\":{\"bottom\":{\"value\":0},\"fill_alpha\":{\"value\":0.5},\"fill_color\":{\"value\":\"cornflowerblue\"},\"left\":{\"field\":\"left\"},\"line_alpha\":{\"value\":0.5},\"line_color\":{\"value\":\"#033649\"},\"right\":{\"field\":\"right\"},\"top\":{\"field\":\"top\"}},\"id\":\"69571022-d7c4-4123-a1a8-c3ef01c8c270\",\"type\":\"Quad\"},{\"attributes\":{\"formatter\":{\"id\":\"f1b80b44-5994-480c-8819-f848d1aef22d\",\"type\":\"BasicTickFormatter\"},\"plot\":{\"id\":\"a17dc823-bb4d-4e41-a866-91254f89763f\",\"subtype\":\"Figure\",\"type\":\"Plot\"},\"ticker\":{\"id\":\"df17513e-75ff-420e-bd61-68a6da76c318\",\"type\":\"BasicTicker\"}},\"id\":\"3407a25b-8509-485c-90ad-c790fe47344d\",\"type\":\"LinearAxis\"},{\"attributes\":{},\"id\":\"032d1ffa-dcaf-4b9f-899f-cd6fcd08734b\",\"type\":\"BasicTickFormatter\"},{\"attributes\":{\"formatter\":{\"id\":\"032d1ffa-dcaf-4b9f-899f-cd6fcd08734b\",\"type\":\"BasicTickFormatter\"},\"plot\":{\"id\":\"a17dc823-bb4d-4e41-a866-91254f89763f\",\"subtype\":\"Figure\",\"type\":\"Plot\"},\"ticker\":{\"id\":\"a99b7d3c-b5f7-4239-bd15-26b1f35ee03f\",\"type\":\"BasicTicker\"}},\"id\":\"3393154e-3b48-458c-aeeb-a3168cf3dd50\",\"type\":\"LinearAxis\"},{\"attributes\":{\"callback\":null,\"data\":{\"left\":{\"__ndarray__\":\"SnL88J9EyT/63t1MPZfJP6pLv6ja6ck/WrigBHg8yj8KJYJgFY/KP7qRY7yy4co/av5EGFA0yz8aayZ07YbLP8nXB9CK2cs/eUTpKygszD8pscqHxX7MP9kdrONi0cw/iYqNPwAkzT85926bnXbNP+ljUPc6yc0/mdAxU9gbzj9JPROvdW7OP/mp9AoTwc4/qBbWZrATzz9Yg7fCTWbPPwjwmB7ruM8/XC49PcQF0D+05C3rEi/QPwybHplhWNA/ZFEPR7CB0D+8BwD1/qrQPxS+8KJN1NA/bHThUJz90D/EKtL+6ibRPxzhwqw5UNE/dJezWoh50T/MTaQI16LRPyQElbYlzNE/fLqFZHT10T/UcHYSwx7SPywnZ8ARSNI/hN1XbmBx0j/ck0gcr5rSPzRKOcr9w9I/jAAqeEzt0j/kthommxbTPzxtC9TpP9M/kyP8gThp0z/r2ewvh5LTP0OQ3d3Vu9M/m0bOiyTl0z/z/L45cw7UP0uzr+fBN9Q/o2mglRBh1D/7H5FDX4rUPw==\",\"dtype\":\"float64\",\"shape\":[50]},\"right\":{\"__ndarray__\":\"+t7dTD2XyT+qS7+o2unJP1q4oAR4PMo/CiWCYBWPyj+6kWO8suHKP2r+RBhQNMs/GmsmdO2Gyz/J1wfQitnLP3lE6SsoLMw/KbHKh8V+zD/ZHazjYtHMP4mKjT8AJM0/Ofdum512zT/pY1D3OsnNP5nQMVPYG84/ST0Tr3Vuzj/5qfQKE8HOP6gW1mawE88/WIO3wk1mzz8I8Jge67jPP1wuPT3EBdA/tOQt6xIv0D8Mmx6ZYVjQP2RRD0ewgdA/vAcA9f6q0D8UvvCiTdTQP2x04VCc/dA/xCrS/uom0T8c4cKsOVDRP3SXs1qIedE/zE2kCNei0T8kBJW2JczRP3y6hWR09dE/1HB2EsMe0j8sJ2fAEUjSP4TdV25gcdI/3JNIHK+a0j80SjnK/cPSP4wAKnhM7dI/5LYaJpsW0z88bQvU6T/TP5Mj/IE4adM/69nsL4eS0z9DkN3d1bvTP5tGzosk5dM/8/y+OXMO1D9Ls6/nwTfUP6NpoJUQYdQ/+x+RQ1+K1D9T1oHxrbPUPw==\",\"dtype\":\"float64\",\"shape\":[50]},\"top\":[3,8,0,4,13,20,95,107,127,179,270,304,326,382,483,590,738,619,639,681,591,475,568,565,504,388,213,274,205,153,107,128,58,48,34,24,19,25,4,0,7,10,0,0,0,0,0,0,0,12]},\"selected\":{\"id\":\"9f0a191d-f050-46b9-b3cd-8b91726b47bf\",\"type\":\"Selection\"},\"selection_policy\":{\"id\":\"d9e16105-284d-41d7-9d8d-7aeaaf1a2c49\",\"type\":\"UnionRenderers\"}},\"id\":\"08d0f3ac-6d2e-43ec-a3a1-5f6338cfd21f\",\"type\":\"ColumnDataSource\"},{\"attributes\":{},\"id\":\"f1b80b44-5994-480c-8819-f848d1aef22d\",\"type\":\"BasicTickFormatter\"},{\"attributes\":{\"overlay\":{\"id\":\"15a19a6f-8bed-4216-9216-d59b69ff86d1\",\"type\":\"BoxAnnotation\"}},\"id\":\"ac4cceea-e881-4617-aaf1-7c04dd551ef2\",\"type\":\"BoxZoomTool\"},{\"attributes\":{\"callback\":null,\"data\":{\"left\":{\"__ndarray__\":\"ZwT/RRjLxD+MrD3DTQnFP7FUfECDR8U/1vy6vbiFxT/7pPk67sPFPyBNOLgjAsY/RfV2NVlAxj9qnbWyjn7GP5BF9C/EvMY/tO0yrfn6xj/alXEqLznHP/89sKdkd8c/JObuJJq1xz9Jji2iz/PHP242bB8FMsg/k96qnDpwyD+4hukZcK7IP90uKJel7Mg/AtdmFNsqyT8nf6WREGnJP0wn5A5Gp8k/cc8ijHvlyT+Wd2EJsSPKP7wfoIbmYco/4MfeAxygyj8GcB2BUd7KPyoYXP6GHMs/UMCae7xayz91aNn48ZjLP5oQGHYn18s/v7hW81wVzD/kYJVwklPMPwkJ1O3Hkcw/LrESa/3PzD9TWVHoMg7NP3gBkGVoTM0/nanO4p2KzT/CUQ1g08jNP+j5S90IB84/DKKKWj5Fzj8ySsnXc4POP1byB1Wpwc4/fJpG0t7/zj+gQoVPFD7PP8bqw8xJfM8/65ICSn+6zz8QO0HHtPjPP5rxPyJ1G9A/rUXf4I860D/AmX6fqlnQPw==\",\"dtype\":\"float64\",\"shape\":[50]},\"right\":{\"__ndarray__\":\"jKw9w00JxT+xVHxAg0fFP9b8ur24hcU/+6T5Ou7DxT8gTTi4IwLGP0X1djVZQMY/ap21so5+xj+QRfQvxLzGP7TtMq35+sY/2pVxKi85xz//PbCnZHfHPyTm7iSatcc/SY4tos/zxz9uNmwfBTLIP5Peqpw6cMg/uIbpGXCuyD/dLiiXpezIPwLXZhTbKsk/J3+lkRBpyT9MJ+QORqfJP3HPIox75ck/lndhCbEjyj+8H6CG5mHKP+DH3gMcoMo/BnAdgVHeyj8qGFz+hhzLP1DAmnu8Wss/dWjZ+PGYyz+aEBh2J9fLP7+4VvNcFcw/5GCVcJJTzD8JCdTtx5HMPy6xEmv9z8w/U1lR6DIOzT94AZBlaEzNP52pzuKdis0/wlENYNPIzT/o+UvdCAfOPwyiilo+Rc4/MkrJ13ODzj9W8gdVqcHOP3yaRtLe/84/oEKFTxQ+zz/G6sPMSXzPP+uSAkp/us8/EDtBx7T4zz+a8T8idRvQP61F3+CPOtA/wJl+n6pZ0D/S7R1exXjQPw==\",\"dtype\":\"float64\",\"shape\":[50]},\"top\":[9,6,50,15,69,56,64,131,194,244,359,300,404,483,575,745,502,661,401,682,619,391,426,443,317,528,202,209,202,183,167,117,54,58,20,28,26,8,2,17,6,4,7,8,0,0,0,0,0,8]},\"selected\":{\"id\":\"97bbed9c-3f4b-491d-b1e4-8fc85b625471\",\"type\":\"Selection\"},\"selection_policy\":{\"id\":\"0e3c017d-9226-4636-b038-399aff1adde5\",\"type\":\"UnionRenderers\"}},\"id\":\"13902846-4b7a-45ca-90f5-3862895163a8\",\"type\":\"ColumnDataSource\"},{\"attributes\":{\"data_source\":{\"id\":\"08d0f3ac-6d2e-43ec-a3a1-5f6338cfd21f\",\"type\":\"ColumnDataSource\"},\"glyph\":{\"id\":\"69571022-d7c4-4123-a1a8-c3ef01c8c270\",\"type\":\"Quad\"},\"hover_glyph\":null,\"muted_glyph\":null,\"nonselection_glyph\":{\"id\":\"101d1d05-d3e8-46d2-bab4-438a906d7158\",\"type\":\"Quad\"},\"selection_glyph\":null,\"view\":{\"id\":\"fe15a7e7-3ecc-4f4a-aa35-dc2657a57dc7\",\"type\":\"CDSView\"}},\"id\":\"0a0d9d42-2ceb-4037-b047-0cab3e0f1cf4\",\"type\":\"GlyphRenderer\"},{\"attributes\":{\"data_source\":{\"id\":\"13902846-4b7a-45ca-90f5-3862895163a8\",\"type\":\"ColumnDataSource\"},\"glyph\":{\"id\":\"6392ae34-eca0-4166-9ff4-c8639061bad4\",\"type\":\"Quad\"},\"hover_glyph\":null,\"muted_glyph\":null,\"nonselection_glyph\":{\"id\":\"ea7741f5-09e2-425b-abe3-6e3c7b928c23\",\"type\":\"Quad\"},\"selection_glyph\":null,\"view\":{\"id\":\"d8b4b2c2-d010-44a3-8e04-78dd2fc28096\",\"type\":\"CDSView\"}},\"id\":\"08f398f9-4f47-4c6f-8129-46bf5fd5395f\",\"type\":\"GlyphRenderer\"},{\"attributes\":{},\"id\":\"e16d1565-e539-4129-9bb0-a28bf01bb212\",\"type\":\"WheelZoomTool\"},{\"attributes\":{\"active_drag\":\"auto\",\"active_inspect\":\"auto\",\"active_scroll\":\"auto\",\"active_tap\":\"auto\",\"tools\":[{\"id\":\"c57bff11-f484-49fe-850e-6cc65e654359\",\"type\":\"PanTool\"},{\"id\":\"e16d1565-e539-4129-9bb0-a28bf01bb212\",\"type\":\"WheelZoomTool\"},{\"id\":\"ac4cceea-e881-4617-aaf1-7c04dd551ef2\",\"type\":\"BoxZoomTool\"},{\"id\":\"2b118e6b-6780-49e8-9339-5522d81e8db4\",\"type\":\"ResetTool\"}]},\"id\":\"d3e1964c-272d-4ff6-9c0c-b537fac98643\",\"type\":\"Toolbar\"},{\"attributes\":{\"label\":{\"value\":\"sd-observed\"},\"renderers\":[{\"id\":\"0a0d9d42-2ceb-4037-b047-0cab3e0f1cf4\",\"type\":\"GlyphRenderer\"}]},\"id\":\"788136d8-760b-490f-93cc-5cd11a61f5a1\",\"type\":\"LegendItem\"},{\"attributes\":{\"callback\":null},\"id\":\"26a8196b-1a6d-4aa4-8e12-5781ce4f6963\",\"type\":\"DataRange1d\"},{\"attributes\":{},\"id\":\"9f0a191d-f050-46b9-b3cd-8b91726b47bf\",\"type\":\"Selection\"},{\"attributes\":{\"plot\":{\"id\":\"a17dc823-bb4d-4e41-a866-91254f89763f\",\"subtype\":\"Figure\",\"type\":\"Plot\"},\"ticker\":{\"id\":\"a99b7d3c-b5f7-4239-bd15-26b1f35ee03f\",\"type\":\"BasicTicker\"}},\"id\":\"623fde2d-eaa8-4109-896f-db0f5fa19cf0\",\"type\":\"Grid\"},{\"attributes\":{\"bottom\":{\"value\":0},\"fill_alpha\":{\"value\":0.1},\"fill_color\":{\"value\":\"#1f77b4\"},\"left\":{\"field\":\"left\"},\"line_alpha\":{\"value\":0.1},\"line_color\":{\"value\":\"#1f77b4\"},\"right\":{\"field\":\"right\"},\"top\":{\"field\":\"top\"}},\"id\":\"ea7741f5-09e2-425b-abe3-6e3c7b928c23\",\"type\":\"Quad\"},{\"attributes\":{\"below\":[{\"id\":\"3393154e-3b48-458c-aeeb-a3168cf3dd50\",\"type\":\"LinearAxis\"}],\"left\":[{\"id\":\"3407a25b-8509-485c-90ad-c790fe47344d\",\"type\":\"LinearAxis\"}],\"renderers\":[{\"id\":\"3393154e-3b48-458c-aeeb-a3168cf3dd50\",\"type\":\"LinearAxis\"},{\"id\":\"623fde2d-eaa8-4109-896f-db0f5fa19cf0\",\"type\":\"Grid\"},{\"id\":\"3407a25b-8509-485c-90ad-c790fe47344d\",\"type\":\"LinearAxis\"},{\"id\":\"1ecc6b53-5a8e-4b3a-a60f-9615414dc3ed\",\"type\":\"Grid\"},{\"id\":\"15a19a6f-8bed-4216-9216-d59b69ff86d1\",\"type\":\"BoxAnnotation\"},{\"id\":\"4af9e73e-a3d4-4597-a747-087bb9767b61\",\"type\":\"Legend\"},{\"id\":\"0a0d9d42-2ceb-4037-b047-0cab3e0f1cf4\",\"type\":\"GlyphRenderer\"},{\"id\":\"08f398f9-4f47-4c6f-8129-46bf5fd5395f\",\"type\":\"GlyphRenderer\"}],\"title\":{\"id\":\"b80bf158-8b8e-4b1f-bfb2-c1dd2174e6a8\",\"type\":\"Title\"},\"toolbar\":{\"id\":\"d3e1964c-272d-4ff6-9c0c-b537fac98643\",\"type\":\"Toolbar\"},\"x_range\":{\"id\":\"0af7c6e4-c46d-4de2-a5b1-4c1b203c8bee\",\"type\":\"DataRange1d\"},\"x_scale\":{\"id\":\"f814b6f2-17a7-49ec-b634-7db1c7791eab\",\"type\":\"LinearScale\"},\"y_range\":{\"id\":\"26a8196b-1a6d-4aa4-8e12-5781ce4f6963\",\"type\":\"DataRange1d\"},\"y_scale\":{\"id\":\"26869f28-5f5d-4421-b15a-618cae3f0e1b\",\"type\":\"LinearScale\"}},\"id\":\"a17dc823-bb4d-4e41-a866-91254f89763f\",\"subtype\":\"Figure\",\"type\":\"Plot\"},{\"attributes\":{\"callback\":null},\"id\":\"0af7c6e4-c46d-4de2-a5b1-4c1b203c8bee\",\"type\":\"DataRange1d\"},{\"attributes\":{\"source\":{\"id\":\"08d0f3ac-6d2e-43ec-a3a1-5f6338cfd21f\",\"type\":\"ColumnDataSource\"}},\"id\":\"fe15a7e7-3ecc-4f4a-aa35-dc2657a57dc7\",\"type\":\"CDSView\"},{\"attributes\":{},\"id\":\"c57bff11-f484-49fe-850e-6cc65e654359\",\"type\":\"PanTool\"},{\"attributes\":{},\"id\":\"d9e16105-284d-41d7-9d8d-7aeaaf1a2c49\",\"type\":\"UnionRenderers\"},{\"attributes\":{\"dimension\":1,\"plot\":{\"id\":\"a17dc823-bb4d-4e41-a866-91254f89763f\",\"subtype\":\"Figure\",\"type\":\"Plot\"},\"ticker\":{\"id\":\"df17513e-75ff-420e-bd61-68a6da76c318\",\"type\":\"BasicTicker\"}},\"id\":\"1ecc6b53-5a8e-4b3a-a60f-9615414dc3ed\",\"type\":\"Grid\"},{\"attributes\":{},\"id\":\"97bbed9c-3f4b-491d-b1e4-8fc85b625471\",\"type\":\"Selection\"},{\"attributes\":{\"bottom_units\":\"screen\",\"fill_alpha\":{\"value\":0.5},\"fill_color\":{\"value\":\"lightgrey\"},\"left_units\":\"screen\",\"level\":\"overlay\",\"line_alpha\":{\"value\":1.0},\"line_color\":{\"value\":\"black\"},\"line_dash\":[4,4],\"line_width\":{\"value\":2},\"plot\":null,\"render_mode\":\"css\",\"right_units\":\"screen\",\"top_units\":\"screen\"},\"id\":\"15a19a6f-8bed-4216-9216-d59b69ff86d1\",\"type\":\"BoxAnnotation\"},{\"attributes\":{\"bottom\":{\"value\":0},\"fill_alpha\":{\"value\":0.5},\"fill_color\":{\"value\":\"coral\"},\"left\":{\"field\":\"left\"},\"line_alpha\":{\"value\":0.5},\"line_color\":{\"value\":\"#033649\"},\"right\":{\"field\":\"right\"},\"top\":{\"field\":\"top\"}},\"id\":\"6392ae34-eca0-4166-9ff4-c8639061bad4\",\"type\":\"Quad\"},{\"attributes\":{},\"id\":\"0e3c017d-9226-4636-b038-399aff1adde5\",\"type\":\"UnionRenderers\"},{\"attributes\":{},\"id\":\"df17513e-75ff-420e-bd61-68a6da76c318\",\"type\":\"BasicTicker\"},{\"attributes\":{\"source\":{\"id\":\"13902846-4b7a-45ca-90f5-3862895163a8\",\"type\":\"ColumnDataSource\"}},\"id\":\"d8b4b2c2-d010-44a3-8e04-78dd2fc28096\",\"type\":\"CDSView\"},{\"attributes\":{\"bottom\":{\"value\":0},\"fill_alpha\":{\"value\":0.1},\"fill_color\":{\"value\":\"#1f77b4\"},\"left\":{\"field\":\"left\"},\"line_alpha\":{\"value\":0.1},\"line_color\":{\"value\":\"#1f77b4\"},\"right\":{\"field\":\"right\"},\"top\":{\"field\":\"top\"}},\"id\":\"101d1d05-d3e8-46d2-bab4-438a906d7158\",\"type\":\"Quad\"},{\"attributes\":{\"plot\":null,\"text\":\"Comparing sd-observed and \\u03b8-control\"},\"id\":\"b80bf158-8b8e-4b1f-bfb2-c1dd2174e6a8\",\"type\":\"Title\"},{\"attributes\":{},\"id\":\"f814b6f2-17a7-49ec-b634-7db1c7791eab\",\"type\":\"LinearScale\"},{\"attributes\":{\"label\":{\"value\":\"sd-control\"},\"renderers\":[{\"id\":\"08f398f9-4f47-4c6f-8129-46bf5fd5395f\",\"type\":\"GlyphRenderer\"}]},\"id\":\"ac8cc8c4-2027-4ff0-8a0c-b40f7e7e4fd5\",\"type\":\"LegendItem\"}],\"root_ids\":[\"a17dc823-bb4d-4e41-a866-91254f89763f\"]},\"title\":\"Bokeh Application\",\"version\":\"0.12.16\"}};\n",
       "  var render_items = [{\"docid\":\"ea91f893-df3c-4f34-b555-71d273f95d4f\",\"elementid\":\"1ae64063-5368-4078-9fec-1c76f6ca41a2\",\"modelid\":\"a17dc823-bb4d-4e41-a866-91254f89763f\"}];\n",
       "  root.Bokeh.embed.embed_items_notebook(docs_json, render_items);\n",
       "\n",
       "  }\n",
       "  if (root.Bokeh !== undefined) {\n",
       "    embed_document(root);\n",
       "  } else {\n",
       "    var attempts = 0;\n",
       "    var timer = setInterval(function(root) {\n",
       "      if (root.Bokeh !== undefined) {\n",
       "        embed_document(root);\n",
       "        clearInterval(timer);\n",
       "      }\n",
       "      attempts++;\n",
       "      if (attempts > 100) {\n",
       "        console.log(\"Bokeh: ERROR: Unable to run BokehJS code because BokehJS library is missing\")\n",
       "        clearInterval(timer);\n",
       "      }\n",
       "    }, 10, root)\n",
       "  }\n",
       "})(window);"
      ],
      "application/vnd.bokehjs_exec.v0+json": ""
     },
     "metadata": {
      "application/vnd.bokehjs_exec.v0+json": {
       "id": "a17dc823-bb4d-4e41-a866-91254f89763f"
      }
     },
     "output_type": "display_data"
    }
   ],
   "source": [
    "TOOLS=\"pan,wheel_zoom,box_zoom,reset\"\n",
    "p1 = figure( title = 'Comparing sd-observed and θ-control', tools=TOOLS )\n",
    " \n",
    "colors = ['cornflowerblue', 'coral']\n",
    "legends = ['sd-observed', 'sd-control']\n",
    " \n",
    "output_notebook()\n",
    " \n",
    "for i, column in enumerate(['sd_1', 'sd_2']):\n",
    " \n",
    "    hist, edges = np.histogram(trace_df[column].values, bins=50, density=False)\n",
    "    data_values = trace_df[column].tolist()\n",
    "    source = ColumnDataSource(data = dict(data_value=hist, \n",
    "                                               data_cum_value= 1 - (np.cumsum(hist) / np.sum(hist)),\n",
    "                                               edges=edges))\n",
    " \n",
    "    p1.quad(top=hist, bottom=0, left=edges[:-1], right=edges[1:],\n",
    "            fill_color=colors[i], line_color=\"#033649\", alpha=0.5, legend=legends[i])\n",
    "\n",
    "show(p1)"
   ]
  },
  {
   "cell_type": "markdown",
   "metadata": {},
   "source": [
    "We can easily get a credible interval here -- just take the percentage of observations in which the observed SD is greater than the control."
   ]
  },
  {
   "cell_type": "code",
   "execution_count": 44,
   "metadata": {},
   "outputs": [
    {
     "data": {
      "text/plain": [
       "0.9912"
      ]
     },
     "execution_count": 44,
     "metadata": {},
     "output_type": "execute_result"
    }
   ],
   "source": [
    "sum(trace_df['Diff_of_sds'] < 0) /  len(trace_df)"
   ]
  },
  {
   "cell_type": "markdown",
   "metadata": {},
   "source": [
    "So, we are virtually certain that these distributions are fundamentally different. The multigraph-based grouping strategy pulls out clusters that are significantly more grouped among themselves than a control."
   ]
  },
  {
   "cell_type": "code",
   "execution_count": null,
   "metadata": {},
   "outputs": [],
   "source": []
  }
 ],
 "metadata": {
  "kernelspec": {
   "display_name": "Python 3",
   "language": "python",
   "name": "python3"
  },
  "language_info": {
   "codemirror_mode": {
    "name": "ipython",
    "version": 3
   },
   "file_extension": ".py",
   "mimetype": "text/x-python",
   "name": "python",
   "nbconvert_exporter": "python",
   "pygments_lexer": "ipython3",
   "version": "3.6.5"
  }
 },
 "nbformat": 4,
 "nbformat_minor": 2
}
